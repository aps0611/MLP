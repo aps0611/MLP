{
  "nbformat": 4,
  "nbformat_minor": 0,
  "metadata": {
    "colab": {
      "provenance": []
    },
    "kernelspec": {
      "name": "python3",
      "display_name": "Python 3"
    },
    "language_info": {
      "name": "python"
    }
  },
  "cells": [
    {
      "cell_type": "markdown",
      "source": [
        "# Ridge Classifier"
      ],
      "metadata": {
        "id": "xf22OW_PeMVT"
      }
    },
    {
      "cell_type": "markdown",
      "source": [
        "* Ridge classifier cast the problem as least-square classification and finds the optimal\n",
        "weight using some matrix decomposition technique such as SVD.\n",
        "* To train the ridge classifier, the labels should be {+1, -1}.\n",
        "* The classifier also by default implements L2 regularization. However, we first implement it\n",
        "without regularization by setting alpha=0"
      ],
      "metadata": {
        "id": "QvnYEek1eOLO"
      }
    },
    {
      "cell_type": "markdown",
      "source": [
        "# SKIP"
      ],
      "metadata": {
        "id": "t08AYcQZgs1t"
      }
    },
    {
      "cell_type": "code",
      "execution_count": 1,
      "metadata": {
        "id": "ILU8yxC1d9L1"
      },
      "outputs": [],
      "source": [
        "# Imports:\n",
        "\n",
        "import numpy as np\n",
        "from pprint import pprint\n",
        "from tempfile import mkdtemp\n",
        "from shutil import rmtree\n",
        "\n",
        "# to make this notebook output stable across the runs:\n",
        "np.random.seed(42)\n",
        "\n",
        "# sklearn specific imports\n",
        "from sklearn.preprocessing import MinMaxScaler\n",
        "from sklearn.pipeline import make_pipeline, Pipeline\n",
        "from sklearn.dummy import DummyClassifier\n",
        "from sklearn.linear_model import SGDClassifier, RidgeClassifier, LogisticRegression\n",
        "from sklearn.model_selection import cross_validate, RandomizedSearchCV, cross_val_predict\n",
        "from sklearn.metrics import ConfusionMatrixDisplay\n",
        "from sklearn.metrics import log_loss\n",
        "from sklearn.metrics import precision_score, recall_score, classification_report\n",
        "from sklearn.metrics import roc_curve, roc_auc_score\n",
        "\n",
        "# scipy\n",
        "from scipy.stats import loguniform\n",
        "\n",
        "# to plot the pretty figures\n",
        "%matplotlib inline\n",
        "import matplotlib.pyplot as mpl\n",
        "import matplotlib.pyplot as plt\n",
        "import seaborn as sns\n",
        "\n",
        "# global settings\n",
        "mpl.rc(\"axes\", labelsize = 14)\n",
        "mpl.rc('xtick', labelsize = 12)\n",
        "mpl.rc('ytick', labelsize = 12)\n",
        "mpl.rc('figure', figsize = (8,6))\n"
      ]
    },
    {
      "cell_type": "code",
      "source": [
        "# Ignore all the warnings (convergence ...) by sklearn\n",
        "\n",
        "def warn(*args, **kwargs):\n",
        "  pass\n",
        "\n",
        "import warnings\n",
        "warnings.warn = warn"
      ],
      "metadata": {
        "id": "W3wAnDzUgvtk"
      },
      "execution_count": 2,
      "outputs": []
    },
    {
      "cell_type": "code",
      "source": [
        "from sklearn.datasets import fetch_openml\n",
        "X_pd, y_pd = fetch_openml('mnist_784', version = 1, return_X_y = True)"
      ],
      "metadata": {
        "id": "9X3vtWObgx6J"
      },
      "execution_count": 3,
      "outputs": []
    },
    {
      "cell_type": "code",
      "source": [
        "# convert to numpy array\n",
        "\n",
        "X = X_pd.to_numpy()\n",
        "y = y_pd.to_numpy()"
      ],
      "metadata": {
        "id": "fEuPLi_2g4m3"
      },
      "execution_count": 4,
      "outputs": []
    },
    {
      "cell_type": "code",
      "source": [
        "# Split the dataset into training and testing set.\n",
        "\n",
        "x_train,x_test,y_train,y_test = X[:60000], X[60000:], y[:60000], y[60000:]"
      ],
      "metadata": {
        "id": "CQF5qxCDg7QF"
      },
      "execution_count": 5,
      "outputs": []
    },
    {
      "cell_type": "code",
      "source": [
        "# intialize new variable names with all -1\n",
        "\n",
        "y_train_0 = np.zeros((len(y_train)))\n",
        "y_test_0 = np.zeros((len(y_test)))"
      ],
      "metadata": {
        "id": "ZXSHfa9pg9MF"
      },
      "execution_count": 6,
      "outputs": []
    },
    {
      "cell_type": "code",
      "source": [
        "# find indices of digit 0 image\n",
        "indx_0 = np.where(y_train =='0')"
      ],
      "metadata": {
        "id": "UWDgVIpKhAY7"
      },
      "execution_count": 7,
      "outputs": []
    },
    {
      "cell_type": "code",
      "source": [
        "# use those indices to modify y_train_0&y_test_0\n",
        "y_train_0[indx_0] = 1\n",
        "indx_0 = np.where(y_test == '0')\n",
        "y_test_0[indx_0] = 1"
      ],
      "metadata": {
        "id": "Mp84L2YNhQMW"
      },
      "execution_count": 8,
      "outputs": []
    },
    {
      "cell_type": "markdown",
      "source": [
        "* First take a look into the parameters of the class\n",
        "```\n",
        "RidgeClassifier(alpha=1.0, *, fit_intercept=True,\n",
        "normalize='deprecated', copy_X=True, max_iter=None, tol=0.001,\n",
        "class_weight=None, solver='auto', positive=False,\n",
        "random_state=None)\n",
        "```\n",
        "* Note the parameter \"normalize\" is depreceated."
      ],
      "metadata": {
        "id": "cnL-2nlChUPn"
      }
    },
    {
      "cell_type": "code",
      "source": [
        "estimator = RidgeClassifier(alpha=0)\n",
        "pipe_ridge = make_pipeline(MinMaxScaler(),estimator)\n",
        "pipe_ridge.fit(x_train,y_train_0)"
      ],
      "metadata": {
        "colab": {
          "base_uri": "https://localhost:8080/",
          "height": 126
        },
        "id": "Hq3_nvqVhR-x",
        "outputId": "d29fe1be-aedd-4ae0-9043-f483cba6c5ed"
      },
      "execution_count": 12,
      "outputs": [
        {
          "output_type": "execute_result",
          "data": {
            "text/plain": [
              "Pipeline(steps=[('minmaxscaler', MinMaxScaler()),\n",
              "                ('ridgeclassifier', RidgeClassifier(alpha=0))])"
            ],
            "text/html": [
              "<style>#sk-container-id-1 {color: black;background-color: white;}#sk-container-id-1 pre{padding: 0;}#sk-container-id-1 div.sk-toggleable {background-color: white;}#sk-container-id-1 label.sk-toggleable__label {cursor: pointer;display: block;width: 100%;margin-bottom: 0;padding: 0.3em;box-sizing: border-box;text-align: center;}#sk-container-id-1 label.sk-toggleable__label-arrow:before {content: \"▸\";float: left;margin-right: 0.25em;color: #696969;}#sk-container-id-1 label.sk-toggleable__label-arrow:hover:before {color: black;}#sk-container-id-1 div.sk-estimator:hover label.sk-toggleable__label-arrow:before {color: black;}#sk-container-id-1 div.sk-toggleable__content {max-height: 0;max-width: 0;overflow: hidden;text-align: left;background-color: #f0f8ff;}#sk-container-id-1 div.sk-toggleable__content pre {margin: 0.2em;color: black;border-radius: 0.25em;background-color: #f0f8ff;}#sk-container-id-1 input.sk-toggleable__control:checked~div.sk-toggleable__content {max-height: 200px;max-width: 100%;overflow: auto;}#sk-container-id-1 input.sk-toggleable__control:checked~label.sk-toggleable__label-arrow:before {content: \"▾\";}#sk-container-id-1 div.sk-estimator input.sk-toggleable__control:checked~label.sk-toggleable__label {background-color: #d4ebff;}#sk-container-id-1 div.sk-label input.sk-toggleable__control:checked~label.sk-toggleable__label {background-color: #d4ebff;}#sk-container-id-1 input.sk-hidden--visually {border: 0;clip: rect(1px 1px 1px 1px);clip: rect(1px, 1px, 1px, 1px);height: 1px;margin: -1px;overflow: hidden;padding: 0;position: absolute;width: 1px;}#sk-container-id-1 div.sk-estimator {font-family: monospace;background-color: #f0f8ff;border: 1px dotted black;border-radius: 0.25em;box-sizing: border-box;margin-bottom: 0.5em;}#sk-container-id-1 div.sk-estimator:hover {background-color: #d4ebff;}#sk-container-id-1 div.sk-parallel-item::after {content: \"\";width: 100%;border-bottom: 1px solid gray;flex-grow: 1;}#sk-container-id-1 div.sk-label:hover label.sk-toggleable__label {background-color: #d4ebff;}#sk-container-id-1 div.sk-serial::before {content: \"\";position: absolute;border-left: 1px solid gray;box-sizing: border-box;top: 0;bottom: 0;left: 50%;z-index: 0;}#sk-container-id-1 div.sk-serial {display: flex;flex-direction: column;align-items: center;background-color: white;padding-right: 0.2em;padding-left: 0.2em;position: relative;}#sk-container-id-1 div.sk-item {position: relative;z-index: 1;}#sk-container-id-1 div.sk-parallel {display: flex;align-items: stretch;justify-content: center;background-color: white;position: relative;}#sk-container-id-1 div.sk-item::before, #sk-container-id-1 div.sk-parallel-item::before {content: \"\";position: absolute;border-left: 1px solid gray;box-sizing: border-box;top: 0;bottom: 0;left: 50%;z-index: -1;}#sk-container-id-1 div.sk-parallel-item {display: flex;flex-direction: column;z-index: 1;position: relative;background-color: white;}#sk-container-id-1 div.sk-parallel-item:first-child::after {align-self: flex-end;width: 50%;}#sk-container-id-1 div.sk-parallel-item:last-child::after {align-self: flex-start;width: 50%;}#sk-container-id-1 div.sk-parallel-item:only-child::after {width: 0;}#sk-container-id-1 div.sk-dashed-wrapped {border: 1px dashed gray;margin: 0 0.4em 0.5em 0.4em;box-sizing: border-box;padding-bottom: 0.4em;background-color: white;}#sk-container-id-1 div.sk-label label {font-family: monospace;font-weight: bold;display: inline-block;line-height: 1.2em;}#sk-container-id-1 div.sk-label-container {text-align: center;}#sk-container-id-1 div.sk-container {/* jupyter's `normalize.less` sets `[hidden] { display: none; }` but bootstrap.min.css set `[hidden] { display: none !important; }` so we also need the `!important` here to be able to override the default hidden behavior on the sphinx rendered scikit-learn.org. See: https://github.com/scikit-learn/scikit-learn/issues/21755 */display: inline-block !important;position: relative;}#sk-container-id-1 div.sk-text-repr-fallback {display: none;}</style><div id=\"sk-container-id-1\" class=\"sk-top-container\"><div class=\"sk-text-repr-fallback\"><pre>Pipeline(steps=[(&#x27;minmaxscaler&#x27;, MinMaxScaler()),\n",
              "                (&#x27;ridgeclassifier&#x27;, RidgeClassifier(alpha=0))])</pre><b>In a Jupyter environment, please rerun this cell to show the HTML representation or trust the notebook. <br />On GitHub, the HTML representation is unable to render, please try loading this page with nbviewer.org.</b></div><div class=\"sk-container\" hidden><div class=\"sk-item sk-dashed-wrapped\"><div class=\"sk-label-container\"><div class=\"sk-label sk-toggleable\"><input class=\"sk-toggleable__control sk-hidden--visually\" id=\"sk-estimator-id-1\" type=\"checkbox\" ><label for=\"sk-estimator-id-1\" class=\"sk-toggleable__label sk-toggleable__label-arrow\">Pipeline</label><div class=\"sk-toggleable__content\"><pre>Pipeline(steps=[(&#x27;minmaxscaler&#x27;, MinMaxScaler()),\n",
              "                (&#x27;ridgeclassifier&#x27;, RidgeClassifier(alpha=0))])</pre></div></div></div><div class=\"sk-serial\"><div class=\"sk-item\"><div class=\"sk-estimator sk-toggleable\"><input class=\"sk-toggleable__control sk-hidden--visually\" id=\"sk-estimator-id-2\" type=\"checkbox\" ><label for=\"sk-estimator-id-2\" class=\"sk-toggleable__label sk-toggleable__label-arrow\">MinMaxScaler</label><div class=\"sk-toggleable__content\"><pre>MinMaxScaler()</pre></div></div></div><div class=\"sk-item\"><div class=\"sk-estimator sk-toggleable\"><input class=\"sk-toggleable__control sk-hidden--visually\" id=\"sk-estimator-id-3\" type=\"checkbox\" ><label for=\"sk-estimator-id-3\" class=\"sk-toggleable__label sk-toggleable__label-arrow\">RidgeClassifier</label><div class=\"sk-toggleable__content\"><pre>RidgeClassifier(alpha=0)</pre></div></div></div></div></div></div></div>"
            ]
          },
          "metadata": {},
          "execution_count": 12
        }
      ]
    },
    {
      "cell_type": "code",
      "source": [
        "# performance\n",
        "\n",
        "y_hat_test_0 = pipe_ridge.predict(x_test)\n",
        "print(classification_report(y_test_0,y_hat_test_0))"
      ],
      "metadata": {
        "colab": {
          "base_uri": "https://localhost:8080/"
        },
        "id": "T3bA5Bzvhlay",
        "outputId": "7ebac719-96c1-4669-f043-3bd393813810"
      },
      "execution_count": 14,
      "outputs": [
        {
          "output_type": "stream",
          "name": "stdout",
          "text": [
            "              precision    recall  f1-score   support\n",
            "\n",
            "         0.0       0.99      1.00      0.99      9020\n",
            "         1.0       0.95      0.88      0.91       980\n",
            "\n",
            "    accuracy                           0.98     10000\n",
            "   macro avg       0.97      0.94      0.95     10000\n",
            "weighted avg       0.98      0.98      0.98     10000\n",
            "\n"
          ]
        }
      ]
    },
    {
      "cell_type": "markdown",
      "source": [
        "# Cross Validation"
      ],
      "metadata": {
        "id": "_wQMHUo3ijGN"
      }
    },
    {
      "cell_type": "code",
      "source": [
        "cv_bin_ridge_clf = cross_validate(pipe_ridge,\n",
        "                                  x_train, \n",
        "                                  y_train_0, \n",
        "                                  cv=5,\n",
        "                                  scoring=['precision', 'recall', 'f1'],\n",
        "                                  return_train_score=True,\n",
        "                                  return_estimator=True)\n",
        "\n",
        "pprint(cv_bin_ridge_clf)"
      ],
      "metadata": {
        "colab": {
          "base_uri": "https://localhost:8080/"
        },
        "id": "Il2_ttEkid8K",
        "outputId": "d5706ed3-71f2-4179-8416-ebfaef232159"
      },
      "execution_count": 15,
      "outputs": [
        {
          "output_type": "stream",
          "name": "stdout",
          "text": [
            "{'estimator': [Pipeline(steps=[('minmaxscaler', MinMaxScaler()),\n",
            "                ('ridgeclassifier', RidgeClassifier(alpha=0))]),\n",
            "               Pipeline(steps=[('minmaxscaler', MinMaxScaler()),\n",
            "                ('ridgeclassifier', RidgeClassifier(alpha=0))]),\n",
            "               Pipeline(steps=[('minmaxscaler', MinMaxScaler()),\n",
            "                ('ridgeclassifier', RidgeClassifier(alpha=0))]),\n",
            "               Pipeline(steps=[('minmaxscaler', MinMaxScaler()),\n",
            "                ('ridgeclassifier', RidgeClassifier(alpha=0))]),\n",
            "               Pipeline(steps=[('minmaxscaler', MinMaxScaler()),\n",
            "                ('ridgeclassifier', RidgeClassifier(alpha=0))])],\n",
            " 'fit_time': array([19.37446809, 16.25350451, 22.19326687, 35.01197505, 15.46323895]),\n",
            " 'score_time': array([0.16215324, 0.14446044, 0.49054337, 0.1531713 , 0.13908577]),\n",
            " 'test_f1': array([0.91887202, 0.9031402 , 0.91507337, 0.90552585, 0.90917186]),\n",
            " 'test_precision': array([0.94469224, 0.94800371, 0.96710526, 0.95939566, 0.96229972]),\n",
            " 'test_recall': array([0.89442568, 0.86233108, 0.86835443, 0.85738397, 0.86160338]),\n",
            " 'train_f1': array([0.91810817, 0.91383346, 0.91365462, 0.91992469, 0.91725821]),\n",
            " 'train_precision': array([0.95403868, 0.96857278, 0.96900142, 0.96783966, 0.96657317]),\n",
            " 'train_recall': array([0.88478582, 0.86495041, 0.86428873, 0.87653018, 0.87273111])}\n"
          ]
        }
      ]
    },
    {
      "cell_type": "code",
      "source": [
        "best_estimator_id = np.argmax(cv_bin_ridge_clf['train_f1']); best_estimator_id\n",
        "\n",
        "best_estimator = cv_bin_ridge_clf['estimator'][best_estimator_id]"
      ],
      "metadata": {
        "id": "YY59oT5TisiZ"
      },
      "execution_count": 16,
      "outputs": []
    },
    {
      "cell_type": "markdown",
      "source": [
        "Let's evaluate the performance of the best classifier on the test set:"
      ],
      "metadata": {
        "id": "lhd8vOcZiwgZ"
      }
    },
    {
      "cell_type": "code",
      "source": [
        "y_hat_test_0 = best_estimator.predict(x_test)\n",
        "print(classification_report(y_test_0,y_hat_test_0))"
      ],
      "metadata": {
        "colab": {
          "base_uri": "https://localhost:8080/"
        },
        "id": "I7Ebaq2_iuU_",
        "outputId": "10752240-f386-44d2-9baf-d6437d90b801"
      },
      "execution_count": 17,
      "outputs": [
        {
          "output_type": "stream",
          "name": "stdout",
          "text": [
            "              precision    recall  f1-score   support\n",
            "\n",
            "         0.0       0.99      1.00      0.99      9020\n",
            "         1.0       0.95      0.88      0.92       980\n",
            "\n",
            "    accuracy                           0.98     10000\n",
            "   macro avg       0.97      0.94      0.95     10000\n",
            "weighted avg       0.98      0.98      0.98     10000\n",
            "\n"
          ]
        }
      ]
    },
    {
      "cell_type": "markdown",
      "source": [
        "# further exploration"
      ],
      "metadata": {
        "id": "W-Bdy29li2Tw"
      }
    },
    {
      "cell_type": "code",
      "source": [
        "# chek the composite file\n",
        "models = (pipe_sgd, pipe_sgd_l2, pipe_logit, pipe_ridge)\n",
        "titles = ('sgd', 'regularized sgd', 'logit', 'ridge')\n",
        "plt.figure(figsize=(4, 4))\n",
        "plt.subplots(2, 2)\n",
        "for i in range(0, 4):\n",
        "  w = models[i][1].coef_\n",
        "  w_matrix = w.reshape(28, 28)\n",
        "  w_matrix[w_matrix < 0]=0 #just set the value less than zero to zero\n",
        "  plt.subplot(2, 2, i+1)\n",
        "  plt.imshow(w_matrix, cmap='gray')\n",
        "  plt.title(titles[i])\n",
        "  plt.axis('off')\n",
        "  plt.grid(False)\n",
        "fig.show()"
      ],
      "metadata": {
        "colab": {
          "base_uri": "https://localhost:8080/",
          "height": 235
        },
        "id": "9i4kg0apiyL4",
        "outputId": "0f1b8523-a940-4aa2-b944-aad66926f5d0"
      },
      "execution_count": 18,
      "outputs": [
        {
          "output_type": "error",
          "ename": "NameError",
          "evalue": "ignored",
          "traceback": [
            "\u001b[0;31m---------------------------------------------------------------------------\u001b[0m",
            "\u001b[0;31mNameError\u001b[0m                                 Traceback (most recent call last)",
            "\u001b[0;32m<ipython-input-18-816972cb8b75>\u001b[0m in \u001b[0;36m<module>\u001b[0;34m\u001b[0m\n\u001b[0;32m----> 1\u001b[0;31m \u001b[0mmodels\u001b[0m \u001b[0;34m=\u001b[0m \u001b[0;34m(\u001b[0m\u001b[0mpipe_sgd\u001b[0m\u001b[0;34m,\u001b[0m \u001b[0mpipe_sgd_l2\u001b[0m\u001b[0;34m,\u001b[0m \u001b[0mpipe_logit\u001b[0m\u001b[0;34m,\u001b[0m \u001b[0mpipe_ridge\u001b[0m\u001b[0;34m)\u001b[0m\u001b[0;34m\u001b[0m\u001b[0;34m\u001b[0m\u001b[0m\n\u001b[0m\u001b[1;32m      2\u001b[0m \u001b[0mtitles\u001b[0m \u001b[0;34m=\u001b[0m \u001b[0;34m(\u001b[0m\u001b[0;34m'sgd'\u001b[0m\u001b[0;34m,\u001b[0m \u001b[0;34m'regularized sgd'\u001b[0m\u001b[0;34m,\u001b[0m \u001b[0;34m'logit'\u001b[0m\u001b[0;34m,\u001b[0m \u001b[0;34m'ridge'\u001b[0m\u001b[0;34m)\u001b[0m\u001b[0;34m\u001b[0m\u001b[0;34m\u001b[0m\u001b[0m\n\u001b[1;32m      3\u001b[0m \u001b[0mplt\u001b[0m\u001b[0;34m.\u001b[0m\u001b[0mfigure\u001b[0m\u001b[0;34m(\u001b[0m\u001b[0mfigsize\u001b[0m\u001b[0;34m=\u001b[0m\u001b[0;34m(\u001b[0m\u001b[0;36m4\u001b[0m\u001b[0;34m,\u001b[0m \u001b[0;36m4\u001b[0m\u001b[0;34m)\u001b[0m\u001b[0;34m)\u001b[0m\u001b[0;34m\u001b[0m\u001b[0;34m\u001b[0m\u001b[0m\n\u001b[1;32m      4\u001b[0m \u001b[0mplt\u001b[0m\u001b[0;34m.\u001b[0m\u001b[0msubplots\u001b[0m\u001b[0;34m(\u001b[0m\u001b[0;36m2\u001b[0m\u001b[0;34m,\u001b[0m \u001b[0;36m2\u001b[0m\u001b[0;34m)\u001b[0m\u001b[0;34m\u001b[0m\u001b[0;34m\u001b[0m\u001b[0m\n\u001b[1;32m      5\u001b[0m \u001b[0;32mfor\u001b[0m \u001b[0mi\u001b[0m \u001b[0;32min\u001b[0m \u001b[0mrange\u001b[0m\u001b[0;34m(\u001b[0m\u001b[0;36m0\u001b[0m\u001b[0;34m,\u001b[0m \u001b[0;36m4\u001b[0m\u001b[0;34m)\u001b[0m\u001b[0;34m:\u001b[0m\u001b[0;34m\u001b[0m\u001b[0;34m\u001b[0m\u001b[0m\n",
            "\u001b[0;31mNameError\u001b[0m: name 'pipe_sgd' is not defined"
          ]
        }
      ]
    },
    {
      "cell_type": "code",
      "source": [],
      "metadata": {
        "id": "06lTFTABi8P0"
      },
      "execution_count": null,
      "outputs": []
    }
  ]
}