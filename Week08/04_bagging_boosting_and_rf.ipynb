{
  "nbformat": 4,
  "nbformat_minor": 0,
  "metadata": {
    "colab": {
      "provenance": []
    },
    "kernelspec": {
      "name": "python3",
      "display_name": "Python 3"
    },
    "language_info": {
      "name": "python"
    }
  },
  "cells": [
    {
      "cell_type": "code",
      "execution_count": 1,
      "metadata": {
        "id": "8wSWJw2O5xGC"
      },
      "outputs": [],
      "source": [
        "# plotting utility:\n",
        "import matplotlib.pyplot as plt\n",
        "\n",
        "# dataset loading through mnist\n",
        "from keras.datasets import mnist\n",
        "\n",
        "# training three classifiers : decision tree, bagging, random forest\n",
        "from sklearn.ensemble import BaggingClassifier\n",
        "from sklearn.ensemble import RandomForestClassifier\n",
        "from sklearn.tree import DecisionTreeClassifier\n",
        "\n",
        "# model selection utitlies for trainig and test split and cross validation:\n",
        "from sklearn.model_selection import train_test_split\n",
        "from sklearn.model_selection import cross_validate\n",
        "from sklearn.model_selection import cross_val_score\n",
        "\n",
        "# use shuffle split cross validation for this exercise:\n",
        "from sklearn.model_selection import ShuffleSplit\n",
        "\n",
        "# make use of confusion matrix and classification report to evaluate performance\n",
        "from sklearn.metrics import confusion_matrix, ConfusionMatrixDisplay\n",
        "from sklearn.metrics import classification_report\n",
        "\n",
        "# the model is defined through pipeline utility:\n",
        "from sklearn.pipeline import Pipeline"
      ]
    },
    {
      "cell_type": "markdown",
      "source": [
        "LOADING MNIST DATASET"
      ],
      "metadata": {
        "id": "1HLr9y2c8o2u"
      }
    },
    {
      "cell_type": "code",
      "source": [
        "(X_train, y_train), (X_test, y_test) = mnist.load_data()"
      ],
      "metadata": {
        "colab": {
          "base_uri": "https://localhost:8080/"
        },
        "id": "Fs_oNV3r8GNt",
        "outputId": "89a51276-5e6b-4b45-9296-f2cd55729b6e"
      },
      "execution_count": 2,
      "outputs": [
        {
          "output_type": "stream",
          "name": "stdout",
          "text": [
            "Downloading data from https://storage.googleapis.com/tensorflow/tf-keras-datasets/mnist.npz\n",
            "11490434/11490434 [==============================] - 0s 0us/step\n"
          ]
        }
      ]
    },
    {
      "cell_type": "code",
      "source": [
        "X_train.shape"
      ],
      "metadata": {
        "colab": {
          "base_uri": "https://localhost:8080/"
        },
        "id": "Tdm8xcTD9EjQ",
        "outputId": "5012939f-7c4c-4cc2-96a1-8d52cc73ec9b"
      },
      "execution_count": 3,
      "outputs": [
        {
          "output_type": "execute_result",
          "data": {
            "text/plain": [
              "(60000, 28, 28)"
            ]
          },
          "metadata": {},
          "execution_count": 3
        }
      ]
    },
    {
      "cell_type": "code",
      "source": [
        "y_train.shape"
      ],
      "metadata": {
        "colab": {
          "base_uri": "https://localhost:8080/"
        },
        "id": "wFtzvEkn9L6_",
        "outputId": "9cf37486-cab2-4f3f-b00f-f49fc3b2f988"
      },
      "execution_count": 4,
      "outputs": [
        {
          "output_type": "execute_result",
          "data": {
            "text/plain": [
              "(60000,)"
            ]
          },
          "metadata": {},
          "execution_count": 4
        }
      ]
    },
    {
      "cell_type": "code",
      "source": [
        "X_test.shape"
      ],
      "metadata": {
        "colab": {
          "base_uri": "https://localhost:8080/"
        },
        "id": "kdnK_86-9M12",
        "outputId": "d91ba4a9-45f8-4f59-8f62-2e8a2b82c65d"
      },
      "execution_count": 5,
      "outputs": [
        {
          "output_type": "execute_result",
          "data": {
            "text/plain": [
              "(10000, 28, 28)"
            ]
          },
          "metadata": {},
          "execution_count": 5
        }
      ]
    },
    {
      "cell_type": "code",
      "source": [
        "y_test.shape"
      ],
      "metadata": {
        "colab": {
          "base_uri": "https://localhost:8080/"
        },
        "id": "P7cVRDHC9Oqv",
        "outputId": "21ac1950-1bec-4299-c496-8828355528de"
      },
      "execution_count": 6,
      "outputs": [
        {
          "output_type": "execute_result",
          "data": {
            "text/plain": [
              "(10000,)"
            ]
          },
          "metadata": {},
          "execution_count": 6
        }
      ]
    },
    {
      "cell_type": "code",
      "source": [
        "# flatten each input imagte into vector of length 784\n",
        "X_train = X_train.reshape(X_train.shape[0], 28*28)\n",
        "X_test = X_test.reshape(X_test.shape[0], 28*28)\n",
        "\n",
        "# normalising \n",
        "X_train = X_train/ 255\n",
        "X_test = X_test/255"
      ],
      "metadata": {
        "id": "aulOW6s79P-3"
      },
      "execution_count": 7,
      "outputs": []
    },
    {
      "cell_type": "code",
      "source": [
        "X_train.shape"
      ],
      "metadata": {
        "colab": {
          "base_uri": "https://localhost:8080/"
        },
        "id": "dARDwS0496mp",
        "outputId": "b8a70bff-e0ad-45ce-a8af-eb6a7c868a22"
      },
      "execution_count": 8,
      "outputs": [
        {
          "output_type": "execute_result",
          "data": {
            "text/plain": [
              "(60000, 784)"
            ]
          },
          "metadata": {},
          "execution_count": 8
        }
      ]
    },
    {
      "cell_type": "code",
      "source": [
        "X_test.shape"
      ],
      "metadata": {
        "colab": {
          "base_uri": "https://localhost:8080/"
        },
        "id": "LW745RM798Dv",
        "outputId": "4c7559a1-bcf0-4b84-e45a-c69d05865f08"
      },
      "execution_count": 9,
      "outputs": [
        {
          "output_type": "execute_result",
          "data": {
            "text/plain": [
              "(10000, 784)"
            ]
          },
          "metadata": {},
          "execution_count": 9
        }
      ]
    },
    {
      "cell_type": "code",
      "source": [
        "cv = ShuffleSplit(n_splits = 10, test_size = 0.2, random_state = 42)"
      ],
      "metadata": {
        "id": "qX_DIlyU991P"
      },
      "execution_count": 10,
      "outputs": []
    },
    {
      "cell_type": "markdown",
      "source": [
        "1. `train classifiers` contain a common code for training classifier for MNIST multiclass classification\n",
        "\n",
        "  1. it takes `estimator`, feature matirx, labels , cross validation strategy, and name of the classifier as input\n",
        "\n",
        "  2. It first fits estimator with feature matrix and labels\n",
        "\n",
        "  3. It obtains cross validated `f1_macro` for trainig set with 10 fold shuffle split cross validation and prints it"
      ],
      "metadata": {
        "id": "8_6vn2jR-6yf"
      }
    },
    {
      "cell_type": "code",
      "source": [
        "def train_classifiers(estimator, X_train, y_train, cv, name):\n",
        "  estimator.fit(X_train, y_train)\n",
        "  cv_train_score = cross_val_score(estimator,\n",
        "                                   X_train, \n",
        "                                   y_train,\n",
        "                                   cv = cv, \n",
        "                                   scoring = 'f1_macro')\n",
        "\n",
        "  print(f\"on an avearage {name} has f1 score of :\")\n",
        "  print(f\"{cv_train_score.mean():.3f} +/- {cv_train_score.std():.3f} on training set\" )"
      ],
      "metadata": {
        "id": "kdCzqSnF-ILI"
      },
      "execution_count": 12,
      "outputs": []
    },
    {
      "cell_type": "markdown",
      "source": [
        "2. `eval` function takes estimator, test feature matrix, labels as input and produce classification report and confusion matrix\n",
        "  1. It first predicts the labels for the test set\n",
        "  2. Then it uses these predicted reports for calculating various evaluation metrics like precision, recall, f1_score and accuracy for each of the 10 classes\n",
        "  3. it also obtains a confusion matrix by comparing these predictions with the actual label and display it with ConfusionMatrixDispaly utility\n",
        "  "
      ],
      "metadata": {
        "id": "J3pPK8OJCWhP"
      }
    },
    {
      "cell_type": "code",
      "source": [
        "def eval(estimator, X_test, y_test):\n",
        "  y_pred = estimator.predict(X_test)\n",
        "\n",
        "  print('# classification report: ')\n",
        "  print(classification_report(y_test, y_pred))\n",
        "\n",
        "  print('# confusion matrix')\n",
        "  disp = ConfusionMatrixDisplay(\n",
        "      confusion_matrix = confusion_matrix(y_test, y_pred)\n",
        "  )\n",
        "\n",
        "  disp.plot()\n",
        "  plt.title('Confusion Matrix')\n",
        "  plt.show()\n",
        "  "
      ],
      "metadata": {
        "id": "iCE6FWU0BiQt"
      },
      "execution_count": 17,
      "outputs": []
    },
    {
      "cell_type": "markdown",
      "source": [
        "Lets train three classifiers with these functions:\n",
        "\n",
        "1. Decision Tree \n",
        "\n",
        "2. Bagging Classifier - which uses decision tree as default classifier and trains multiple decision tree classifiers on different bags obtained through bootstrap sampling of the training set.\n",
        "\n",
        "3. Random Forest Classifier"
      ],
      "metadata": {
        "id": "KSA1GocOBjCT"
      }
    },
    {
      "cell_type": "markdown",
      "source": [
        "# DECISION TREE FOR MNIST Multiclass CLASSIFIER"
      ],
      "metadata": {
        "id": "_PUOjG3_G1dI"
      }
    },
    {
      "cell_type": "code",
      "source": [
        "decision_tree_pipeline = Pipeline([('classifier', DecisionTreeClassifier())])\n",
        "train_classifiers(decision_tree_pipeline, X_train, y_train.ravel(), cv, \"decision tree\")"
      ],
      "metadata": {
        "colab": {
          "base_uri": "https://localhost:8080/"
        },
        "id": "qFFs-4gEAhMc",
        "outputId": "61f26a23-99dc-4dd8-d73c-35187945a750"
      },
      "execution_count": 18,
      "outputs": [
        {
          "output_type": "stream",
          "name": "stdout",
          "text": [
            "on an avearage decision tree has f1 score of :\n",
            "0.867 +/- 0.004 on training set\n"
          ]
        }
      ]
    },
    {
      "cell_type": "code",
      "source": [
        "eval(decision_tree_pipeline, X_test, y_test)"
      ],
      "metadata": {
        "colab": {
          "base_uri": "https://localhost:8080/",
          "height": 646
        },
        "id": "N03CRBS0JdnD",
        "outputId": "ab25c231-9b76-4e43-b157-aa76955f28d2"
      },
      "execution_count": 19,
      "outputs": [
        {
          "output_type": "stream",
          "name": "stdout",
          "text": [
            "# classification report: \n",
            "              precision    recall  f1-score   support\n",
            "\n",
            "           0       0.92      0.93      0.93       980\n",
            "           1       0.95      0.97      0.96      1135\n",
            "           2       0.87      0.85      0.86      1032\n",
            "           3       0.83      0.86      0.84      1010\n",
            "           4       0.87      0.88      0.88       982\n",
            "           5       0.84      0.84      0.84       892\n",
            "           6       0.89      0.89      0.89       958\n",
            "           7       0.91      0.90      0.90      1028\n",
            "           8       0.82      0.80      0.81       974\n",
            "           9       0.86      0.84      0.85      1009\n",
            "\n",
            "    accuracy                           0.88     10000\n",
            "   macro avg       0.88      0.88      0.88     10000\n",
            "weighted avg       0.88      0.88      0.88     10000\n",
            "\n",
            "# confusion matrix\n"
          ]
        },
        {
          "output_type": "display_data",
          "data": {
            "text/plain": [
              "<Figure size 432x288 with 2 Axes>"
            ],
            "image/png": "[encoded data removed]"
          },
          "metadata": {
            "needs_background": "light"
          }
        }
      ]
    },
    {
      "cell_type": "markdown",
      "source": [
        "# MNIST Classification with Bagging"
      ],
      "metadata": {
        "id": "Jm0fEjZcBWCC"
      }
    },
    {
      "cell_type": "code",
      "source": [
        "# bagging pipeline\n",
        "\n",
        "bagging_pipeline = Pipeline([('classifier', BaggingClassifier())])\n",
        "train_classifiers(bagging_pipeline, X_train, y_train.ravel(), cv, 'bagging')"
      ],
      "metadata": {
        "colab": {
          "base_uri": "https://localhost:8080/"
        },
        "id": "Vzc__9sWJ2up",
        "outputId": "e9919de6-1066-41ed-97a5-61e46c964e4f"
      },
      "execution_count": 20,
      "outputs": [
        {
          "output_type": "stream",
          "name": "stdout",
          "text": [
            "on an avearage bagging has f1 score of :\n",
            "0.937 +/- 0.004 on training set\n"
          ]
        }
      ]
    },
    {
      "cell_type": "code",
      "source": [
        "eval(bagging_pipeline, X_test, y_test)"
      ],
      "metadata": {
        "colab": {
          "base_uri": "https://localhost:8080/",
          "height": 646
        },
        "id": "GOGoCTWqVta3",
        "outputId": "affc5e7e-273c-412c-ff03-9ee745944171"
      },
      "execution_count": 21,
      "outputs": [
        {
          "output_type": "stream",
          "name": "stdout",
          "text": [
            "# classification report: \n",
            "              precision    recall  f1-score   support\n",
            "\n",
            "           0       0.94      0.98      0.96       980\n",
            "           1       0.97      0.99      0.98      1135\n",
            "           2       0.92      0.94      0.93      1032\n",
            "           3       0.94      0.93      0.93      1010\n",
            "           4       0.93      0.94      0.94       982\n",
            "           5       0.92      0.91      0.91       892\n",
            "           6       0.97      0.95      0.96       958\n",
            "           7       0.96      0.94      0.95      1028\n",
            "           8       0.93      0.90      0.92       974\n",
            "           9       0.93      0.93      0.93      1009\n",
            "\n",
            "    accuracy                           0.94     10000\n",
            "   macro avg       0.94      0.94      0.94     10000\n",
            "weighted avg       0.94      0.94      0.94     10000\n",
            "\n",
            "# confusion matrix\n"
          ]
        },
        {
          "output_type": "display_data",
          "data": {
            "text/plain": [
              "<Figure size 432x288 with 2 Axes>"
            ],
            "image/png": "[encoded data removed]"
          },
          "metadata": {
            "needs_background": "light"
          }
        }
      ]
    },
    {
      "cell_type": "markdown",
      "source": [
        "# Random Forest classifier for MNIST muilticlass classification"
      ],
      "metadata": {
        "id": "CU30sF64WJL_"
      }
    },
    {
      "cell_type": "code",
      "source": [
        "random_forest_pipeline = Pipeline([('classifier', RandomForestClassifier())])\n",
        "train_classifiers(random_forest_pipeline, X_train, y_train.ravel(), cv, 'rf')"
      ],
      "metadata": {
        "colab": {
          "base_uri": "https://localhost:8080/"
        },
        "id": "VWo5-NPcV4Gl",
        "outputId": "abe0a7c1-865e-439f-fa02-0d01534913f1"
      },
      "execution_count": 22,
      "outputs": [
        {
          "output_type": "stream",
          "name": "stdout",
          "text": [
            "on an avearage rf has f1 score of :\n",
            "0.967 +/- 0.001 on training set\n"
          ]
        }
      ]
    },
    {
      "cell_type": "code",
      "source": [
        "eval(random_forest_pipeline, X_test, y_test)"
      ],
      "metadata": {
        "colab": {
          "base_uri": "https://localhost:8080/",
          "height": 646
        },
        "id": "9Q21MeNMXNSs",
        "outputId": "4b62f55e-4eea-4136-f972-fb1f979a72bd"
      },
      "execution_count": 23,
      "outputs": [
        {
          "output_type": "stream",
          "name": "stdout",
          "text": [
            "# classification report: \n",
            "              precision    recall  f1-score   support\n",
            "\n",
            "           0       0.97      0.99      0.98       980\n",
            "           1       0.99      0.99      0.99      1135\n",
            "           2       0.96      0.97      0.96      1032\n",
            "           3       0.95      0.96      0.96      1010\n",
            "           4       0.98      0.97      0.97       982\n",
            "           5       0.97      0.96      0.97       892\n",
            "           6       0.97      0.98      0.98       958\n",
            "           7       0.97      0.96      0.97      1028\n",
            "           8       0.96      0.95      0.96       974\n",
            "           9       0.96      0.96      0.96      1009\n",
            "\n",
            "    accuracy                           0.97     10000\n",
            "   macro avg       0.97      0.97      0.97     10000\n",
            "weighted avg       0.97      0.97      0.97     10000\n",
            "\n",
            "# confusion matrix\n"
          ]
        },
        {
          "output_type": "display_data",
          "data": {
            "text/plain": [
              "<Figure size 432x288 with 2 Axes>"
            ],
            "image/png": "[encoded data removed]"
          },
          "metadata": {
            "needs_background": "light"
          }
        }
      ]
    },
    {
      "cell_type": "code",
      "source": [],
      "metadata": {
        "id": "9xY5MoLWXbZ3"
      },
      "execution_count": null,
      "outputs": []
    }
  ]
}