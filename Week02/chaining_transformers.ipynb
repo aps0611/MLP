{
  "nbformat": 4,
  "nbformat_minor": 0,
  "metadata": {
    "colab": {
      "provenance": []
    },
    "kernelspec": {
      "name": "python3",
      "display_name": "Python 3"
    },
    "language_info": {
      "name": "python"
    }
  },
  "cells": [
    {
      "cell_type": "markdown",
      "source": [
        "In this the preprocessing transformations are applied one after another on the input feature matrix\n"
      ],
      "metadata": {
        "id": "EcA-kyRM0S81"
      }
    },
    {
      "cell_type": "markdown",
      "source": [
        "\n",
        "\n",
        "```\n",
        "si = SimpleImputer()\n",
        "x_imputed = si.fit_transform(x)\n",
        "ss = StandardScaler()\n",
        "x_scaled = ss.fit_transform(X_imputed)\n",
        "```\n",
        "\n"
      ],
      "metadata": {
        "id": "krtyPFtW2cmc"
      }
    },
    {
      "cell_type": "markdown",
      "source": [
        "It is excltly important to apply same transformations on training, evaluation and test set in same order"
      ],
      "metadata": {
        "id": "4zWTuLSr2tZA"
      }
    },
    {
      "cell_type": "markdown",
      "source": [
        "`sklearn.pipeline` module provides utilities to build a composite estimator, as chain of transformers and estimators.\n",
        "\n",
        "Two classes:\n",
        "1. Pipeline\n",
        "2. FeatureUnion"
      ],
      "metadata": {
        "id": "UCUXr7Ed25Xl"
      }
    },
    {
      "cell_type": "markdown",
      "source": [
        "Pipeline | FeatureUnion \n",
        "-----| ------\n",
        "Constructs a chain of multiple transformers to execute a fixed sequence of steps in data preprocessing and modelling | Combines output from several transformers by creating a new transformer from them"
      ],
      "metadata": {
        "id": "w2GKlDK33XBI"
      }
    },
    {
      "cell_type": "markdown",
      "source": [
        "# sklearn.pipelien.Pipeline"
      ],
      "metadata": {
        "id": "4V_T9EBS3unY"
      }
    },
    {
      "cell_type": "markdown",
      "source": [
        "1. Sequentially apply list of transformers and estimators\n",
        "\n",
        "2. Intermediate steps of pipeline must be transformers - i.e. they must implement fit and transform method\n",
        "\n",
        "3. The final estimator only needs to implement fit\n",
        "\n",
        "The purpose of the pipeline is to assemble several steps that can be cross-validated together while setting different parameters"
      ],
      "metadata": {
        "id": "OF7nC5OE30x4"
      }
    },
    {
      "cell_type": "markdown",
      "source": [
        "There are two ways to create pipeline objects:\n",
        "\n",
        "1. Pipeline('estimatorName', estimator())\n",
        "\n",
        "2. make_pipeline()"
      ],
      "metadata": {
        "id": "kvtA0Gci5lB8"
      }
    },
    {
      "cell_type": "markdown",
      "source": [
        "## Pipeline()"
      ],
      "metadata": {
        "id": "zLpFuL6b7OrU"
      }
    },
    {
      "cell_type": "markdown",
      "source": [
        "\n",
        "\n",
        "```\n",
        "estimator = [\n",
        "  ('simple_imputer', SimpleImputer()),\n",
        "  ('Standard_sacaler', StandardScaler()),\n",
        "]\n",
        "\n",
        "pipe= Pipeline(steps = estimators)\n",
        "pipe.fit_transform(x)\n",
        "```\n",
        "\n"
      ],
      "metadata": {
        "id": "S5xyaGk25z2Q"
      }
    },
    {
      "cell_type": "markdown",
      "source": [
        "\n",
        "## make_pipeline()\n",
        "\n",
        "it takes number of estimator objects only\n",
        "\n",
        "```\n",
        "pipe = make_pipeline(SimpleImputer(), StandardScaler())\n",
        "```\n",
        "\n"
      ],
      "metadata": {
        "id": "pDfLibKV69BK"
      }
    },
    {
      "cell_type": "markdown",
      "source": [
        "# Accessing Individual steps in the pipeline"
      ],
      "metadata": {
        "id": "s6QIoHqi8FJG"
      }
    },
    {
      "cell_type": "markdown",
      "source": [
        "\n",
        "\n",
        "```\n",
        "estimators = [\n",
        "  ('simple_imputer', SimpleImputer()),  # step 1\n",
        "  ('pca', PCA()),                       # step 2\n",
        "  ('regressor', LinearRegression())     # step 3\n",
        "]\n",
        "\n",
        "pipe = Pipeline(steps = estimators)\n",
        "\n",
        "# the second estimator can be accessed in following 4 ways:\n",
        "\n",
        "pipe.names_steps.pca\n",
        "pipe.steps[1]\n",
        "pipe[1]\n",
        "pipe['pca']\n",
        "```\n",
        "\n"
      ],
      "metadata": {
        "id": "jiEx6SAn8v4R"
      }
    },
    {
      "cell_type": "markdown",
      "source": [
        "# Access parameters of each step in Pipeline"
      ],
      "metadata": {
        "id": "cSE_evrI9NGB"
      }
    },
    {
      "cell_type": "markdown",
      "source": [
        "\n",
        "\n",
        "```\n",
        "estimators = [\n",
        "  ('simple_imputer', SimpleImputer()),  # step 1\n",
        "  ('pca', PCA()),                       # step 2\n",
        "  ('regressor', LinearRegression())     # step 3\n",
        "]\n",
        "\n",
        "pipe = Pipeline(steps = estimators)\n",
        "\n",
        "pipe.set_params(pca__n_components = 2)\n",
        "```\n",
        "\n",
        "We can use `<estimator>__<parameterName>` syntax for accessing parameters. _ _ underscores*\n",
        "\n"
      ],
      "metadata": {
        "id": "ZmdZjtyT9b1l"
      }
    },
    {
      "cell_type": "markdown",
      "source": [
        "# performing grid search with pipeline\n"
      ],
      "metadata": {
        "id": "pzQxLOpN-Bdt"
      }
    },
    {
      "cell_type": "markdown",
      "source": [
        "\n",
        "\n",
        "```\n",
        "param_grid = dict(imputer = ['passthrough', SimpleImputer(), KNNImputer()],\n",
        "clf = [SVC(), Logisticregression()], clf__C = [0.1,10,100])\n",
        "\n",
        "grid_search = GridSearchCV(pipe, param_grid = param_grid)\n",
        "\n",
        "\n",
        "```\n",
        "c is an inverse of regularization. lower its value stronger the regularisation is\n"
      ],
      "metadata": {
        "id": "huCrVtcl-DW8"
      }
    },
    {
      "cell_type": "markdown",
      "source": [
        "# sklearn.pipeline.FeatureUnion"
      ],
      "metadata": {
        "id": "5BTwgsGFMrCX"
      }
    },
    {
      "cell_type": "markdown",
      "source": [
        "concatenates results of multiple transformer objects. Applies list of transformer objects in parallel. and outputs are concatenated side by side into larger matrix. FeatureUnion and Pipeline can be used to create complex transformers"
      ],
      "metadata": {
        "id": "ey9eoAPvNdFj"
      }
    },
    {
      "cell_type": "code",
      "source": [
        "num_pipeline = Pipeline([('selector, ColumnTransformer([('select_first_4','passthrough', slice(0,4))])),\n",
        "                          ('imputer', SimpleImputer(strategy = 'median')),\n",
        "                          ('std_scaler', StandardScaler()),])\n",
        "\n",
        "cat_pipeline = ColumnTransformer([('label_binarizer', LabelBinarizer(),[4]),])\n",
        "\n",
        "full_pipeline = FeatureUnion(transformer_list = [(\"num_pipeline\", num_pipeline),\n",
        "                                                 (\"cat_pipeline\", cat_pipeline),])\n",
        "\n",
        "\n"
      ],
      "metadata": {
        "colab": {
          "base_uri": "https://localhost:8080/",
          "height": 148
        },
        "id": "km0pVu_42arl",
        "outputId": "8fe7283b-dd4f-455a-edf1-ab587c146deb"
      },
      "execution_count": 1,
      "outputs": [
        {
          "output_type": "error",
          "ename": "SyntaxError",
          "evalue": "ignored",
          "traceback": [
            "\u001b[0;36m  File \u001b[0;32m\"<ipython-input-1-a7201193aa5c>\"\u001b[0;36m, line \u001b[0;32m1\u001b[0m\n\u001b[0;31m    num_pipeline = Pipeline([('selector, ColumnTransformer([('select_first_4','passthrough', slice(0,4))])),\u001b[0m\n\u001b[0m                                                              ^\u001b[0m\n\u001b[0;31mSyntaxError\u001b[0m\u001b[0;31m:\u001b[0m invalid syntax\n"
          ]
        }
      ]
    },
    {
      "cell_type": "code",
      "source": [],
      "metadata": {
        "id": "EC1IbpD_PJNf"
      },
      "execution_count": null,
      "outputs": []
    }
  ]
}