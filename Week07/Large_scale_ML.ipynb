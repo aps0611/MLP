{
  "nbformat": 4,
  "nbformat_minor": 0,
  "metadata": {
    "colab": {
      "provenance": []
    },
    "kernelspec": {
      "name": "python3",
      "display_name": "Python 3"
    },
    "language_info": {
      "name": "python"
    }
  },
  "cells": [
    {
      "cell_type": "markdown",
      "source": [
        "#Outline\n",
        "\n",
        "In this colab, we study how to handle **large-scale datasets** in sklearn.  \n",
        "\n",
        "* In this course, so far we were able to load **entire data in memory** and were able to train and make inferences on all the data at once.  \n",
        "\n",
        "* The large scale data sets may not fit in memory and we need to devise strategies to handle it in the context of training and prediction use cases. \n",
        "\n",
        "In this colab, we will discuss the following topics:\n",
        "> - Overview of handling large-scale data\n",
        "- Incremental preprocessing and learning.\n",
        "  -  `fit()` vs. `partial_fit()`: `partial_fit` is our friend in this case.\n",
        "- Combining preprocessing and incremental learning."
      ],
      "metadata": {
        "id": "aoH0jmZD-6m6"
      }
    },
    {
      "cell_type": "markdown",
      "source": [
        "# **Large-scale Machine Learning**"
      ],
      "metadata": {
        "id": "N5i-LjWn3Ws0"
      }
    },
    {
      "cell_type": "markdown",
      "source": [
        "Large-scale Machine Learning differs from traditional machine learning in the sense that it involves processing large amount of data in terms of its **size** or **number of samples**, **features** or **classes**.\n",
        "\n",
        "There were many exciting developments in efficient large scale learning on many real world use cases in the last decade."
      ],
      "metadata": {
        "id": "vv6jdhLh2QiF"
      }
    },
    {
      "cell_type": "markdown",
      "source": [
        "Although scikit-learn is optimized for **smaller data**, it does offer a decent set of **feature preprocessing** and **learning algorithms** such as classification, regression and clustering for large scale data . \n",
        "\n",
        "Scikit-learn handles large data through `partial_fit()` method instead of using the usual `fit()` method. \n",
        "> The idea is to process data in **batches** and **update** the model parameters for each batch.  This way of learning is referred to as '**Incremental (or out-of-core) learning**'."
      ],
      "metadata": {
        "id": "Urd-kNUf35op"
      }
    },
    {
      "cell_type": "markdown",
      "source": [
        "##Incremental Learning\n",
        "\n",
        "Increamental learning may be required in the following two scenarios:\n",
        "\n",
        "* For **out-of-memory (large) datasets**, where it’s not possible to **load the entire data into the RAM** at once, one can load the data in chunks and fit the training model for each chunk of data.\n",
        "\n",
        "* For machine learning tasks where a new batch of data comes with time, re-training the model with the previous and new batch of data is a computationally expensive process. \n",
        "> Instead of re-training the model with the entire set of data, one can employ an incremental learning approach, where the model parameters are updated with the new batch of data.\n"
      ],
      "metadata": {
        "id": "z4tUmPfflGLM"
      }
    },
    {
      "cell_type": "markdown",
      "source": [
        "###Incremental Learning in `sklearn`\n",
        "\n",
        "To perform incremental learning, Scikit-learn implements **`partial_fit`** method that helps in training an out-of-memory dataset. In other words, it has the ability to learn incrementally from a batch of instances.\n",
        "\n",
        "In this colab, we will see an example of how to read, process, and train on such a large dataset that can't be loaded in memory entirely. \n",
        "\n",
        "This method is expected to be called several times consecutively on different chunks of a dataset so as to implement out-of-core (online) learning. This function has some performance overhead, so it’s recommended to call it on a considerable large batch of data (that fits into the memory), to overcome the limitation of overhead."
      ],
      "metadata": {
        "id": "gaGFocEDnA9m"
      }
    },
    {
      "cell_type": "markdown",
      "source": [
        "### partial_fit() attributes:\n",
        "\n",
        "`partial_fit(X, y, [classes], [sample_weight])`\n",
        "\n",
        "where,\n",
        "\n",
        "* `X` : array of shape (n_samples, n_features) where n_samples is the number of samples and n_features is the number of features.\n",
        "\n",
        "* `y` : array of shape (n_samples,) of target values.\n",
        "\n",
        "* `classes` : array of shape (n_classes,) containing a list of all the classes that can possibly appear in the y vector.\n",
        "\n",
        "Must be provided at the first call to partial_fit, can be omitted in subsequent calls.\n",
        "\n",
        "* `sample_weight` : (optional) array of shape (n_samples,) containing weights applied to individual samples (1. for unweighted).\n",
        "\n",
        "Returns: object (self)"
      ],
      "metadata": {
        "id": "zo3oOSHM52_R"
      }
    },
    {
      "cell_type": "markdown",
      "source": [
        "For classification tasks, we have to pass the list of possible target class labels in `classes` parameter to cope-up with the unseen target classes in the 1st batch of the data.\n",
        "\n",
        "The following estimators implement `partial_fit` method:\n",
        "* **Classification:** \n",
        "  * `MultinomialNB`\n",
        "  * `BernoulliNB`\n",
        "  * `SGDClassifier`\n",
        "  * `Perceptron`\n",
        "\n",
        "* **Regression:** \n",
        "  * `SGDRegressor`\n",
        "\n",
        "* **Clustering:** \n",
        "  * `MiniBatchKMeans`\n"
      ],
      "metadata": {
        "id": "0N4T09hEoYQa"
      }
    },
    {
      "cell_type": "markdown",
      "source": [
        "`SGDRegressor` and `SGDClassifier` are commonly used for handling large data. \n",
        "\n",
        "The problem with standard regression/classification implementations such as batch gradient descent, support vector machines (SVMs), random forests etc is that because of the need to load all the data into memory at once, they can not be used in scenarios where we do not have sufficient memory. SGD, however, can deal with large data sets effectively by breaking up the data into chunks and processing them sequentially. The fact that we only need to load one chunk into memory at a time makes it useful for large-scale data as well as cases where we get streams of data at intervals. "
      ],
      "metadata": {
        "id": "gnj-lIf_Ry_x"
      }
    },
    {
      "cell_type": "markdown",
      "source": [
        "#**fit() versus partial_fit()**"
      ],
      "metadata": {
        "id": "UBDGMYiCyeWl"
      }
    },
    {
      "cell_type": "markdown",
      "source": [
        "Below, we show the use of `partial_fit()` along with `SGDClassifier` on a sample data.\n",
        "\n",
        "For illustration, we first use traditional `fit()` method and then use `partial_fit()' on the same data. "
      ],
      "metadata": {
        "id": "EoR4-kSZAgxh"
      }
    },
    {
      "cell_type": "code",
      "source": [
        "# Importing Libraries\n",
        "from sklearn.linear_model import SGDClassifier\n",
        "from sklearn.datasets import make_classification\n",
        "from sklearn.model_selection import train_test_split\n",
        "from sklearn.metrics import confusion_matrix\n",
        "from sklearn.metrics import classification_report"
      ],
      "metadata": {
        "id": "J_EgPxUAaQ0u"
      },
      "execution_count": 1,
      "outputs": []
    },
    {
      "cell_type": "markdown",
      "source": [
        "##1. Traditional Approach (using `fit()`)"
      ],
      "metadata": {
        "id": "2xaSRms-bTDn"
      }
    },
    {
      "cell_type": "markdown",
      "source": [
        "###Sample dataset\n",
        "\n",
        "We will use a synthetic classification dataset for demonstration. \n",
        "\n",
        "Let us have 50000 samples with 10 features in the feature matrix. Further, lets have 3 classes in the target label, each class having a single cluster."
      ],
      "metadata": {
        "id": "hPbFOqDrA_lj"
      }
    },
    {
      "cell_type": "code",
      "source": [
        "x, y = make_classification(n_samples=50000, n_features=10, \n",
        "                           n_classes=3, \n",
        "                           n_clusters_per_class=1)\n",
        "xtrain, xtest, ytrain, ytest = train_test_split(x, y, test_size = 0.15)\n"
      ],
      "metadata": {
        "id": "WZ39P1HDaT1s"
      },
      "execution_count": 2,
      "outputs": []
    },
    {
      "cell_type": "markdown",
      "source": [
        "We will make use of `SGDClassifier` to learn the classification model."
      ],
      "metadata": {
        "id": "kqyewfEKORwk"
      }
    },
    {
      "cell_type": "code",
      "source": [
        "clf1 = SGDClassifier(max_iter=1000, tol=0.01)\n"
      ],
      "metadata": {
        "id": "GeqBnlSGadHX"
      },
      "execution_count": 3,
      "outputs": []
    },
    {
      "cell_type": "markdown",
      "source": [
        "We will use traditional `fit()` method to train our model."
      ],
      "metadata": {
        "id": "_EP7CfcobywU"
      }
    },
    {
      "cell_type": "code",
      "source": [
        "clf1.fit(xtrain, ytrain)"
      ],
      "metadata": {
        "colab": {
          "base_uri": "https://localhost:8080/",
          "height": 75
        },
        "id": "XoC1b1aVbxOm",
        "outputId": "e930b9db-8e56-4591-eeef-9e006a487acf"
      },
      "execution_count": 4,
      "outputs": [
        {
          "output_type": "execute_result",
          "data": {
            "text/plain": [
              "SGDClassifier(tol=0.01)"
            ],
            "text/html": [
              "<style>#sk-container-id-1 {color: black;background-color: white;}#sk-container-id-1 pre{padding: 0;}#sk-container-id-1 div.sk-toggleable {background-color: white;}#sk-container-id-1 label.sk-toggleable__label {cursor: pointer;display: block;width: 100%;margin-bottom: 0;padding: 0.3em;box-sizing: border-box;text-align: center;}#sk-container-id-1 label.sk-toggleable__label-arrow:before {content: \"▸\";float: left;margin-right: 0.25em;color: #696969;}#sk-container-id-1 label.sk-toggleable__label-arrow:hover:before {color: black;}#sk-container-id-1 div.sk-estimator:hover label.sk-toggleable__label-arrow:before {color: black;}#sk-container-id-1 div.sk-toggleable__content {max-height: 0;max-width: 0;overflow: hidden;text-align: left;background-color: #f0f8ff;}#sk-container-id-1 div.sk-toggleable__content pre {margin: 0.2em;color: black;border-radius: 0.25em;background-color: #f0f8ff;}#sk-container-id-1 input.sk-toggleable__control:checked~div.sk-toggleable__content {max-height: 200px;max-width: 100%;overflow: auto;}#sk-container-id-1 input.sk-toggleable__control:checked~label.sk-toggleable__label-arrow:before {content: \"▾\";}#sk-container-id-1 div.sk-estimator input.sk-toggleable__control:checked~label.sk-toggleable__label {background-color: #d4ebff;}#sk-container-id-1 div.sk-label input.sk-toggleable__control:checked~label.sk-toggleable__label {background-color: #d4ebff;}#sk-container-id-1 input.sk-hidden--visually {border: 0;clip: rect(1px 1px 1px 1px);clip: rect(1px, 1px, 1px, 1px);height: 1px;margin: -1px;overflow: hidden;padding: 0;position: absolute;width: 1px;}#sk-container-id-1 div.sk-estimator {font-family: monospace;background-color: #f0f8ff;border: 1px dotted black;border-radius: 0.25em;box-sizing: border-box;margin-bottom: 0.5em;}#sk-container-id-1 div.sk-estimator:hover {background-color: #d4ebff;}#sk-container-id-1 div.sk-parallel-item::after {content: \"\";width: 100%;border-bottom: 1px solid gray;flex-grow: 1;}#sk-container-id-1 div.sk-label:hover label.sk-toggleable__label {background-color: #d4ebff;}#sk-container-id-1 div.sk-serial::before {content: \"\";position: absolute;border-left: 1px solid gray;box-sizing: border-box;top: 0;bottom: 0;left: 50%;z-index: 0;}#sk-container-id-1 div.sk-serial {display: flex;flex-direction: column;align-items: center;background-color: white;padding-right: 0.2em;padding-left: 0.2em;position: relative;}#sk-container-id-1 div.sk-item {position: relative;z-index: 1;}#sk-container-id-1 div.sk-parallel {display: flex;align-items: stretch;justify-content: center;background-color: white;position: relative;}#sk-container-id-1 div.sk-item::before, #sk-container-id-1 div.sk-parallel-item::before {content: \"\";position: absolute;border-left: 1px solid gray;box-sizing: border-box;top: 0;bottom: 0;left: 50%;z-index: -1;}#sk-container-id-1 div.sk-parallel-item {display: flex;flex-direction: column;z-index: 1;position: relative;background-color: white;}#sk-container-id-1 div.sk-parallel-item:first-child::after {align-self: flex-end;width: 50%;}#sk-container-id-1 div.sk-parallel-item:last-child::after {align-self: flex-start;width: 50%;}#sk-container-id-1 div.sk-parallel-item:only-child::after {width: 0;}#sk-container-id-1 div.sk-dashed-wrapped {border: 1px dashed gray;margin: 0 0.4em 0.5em 0.4em;box-sizing: border-box;padding-bottom: 0.4em;background-color: white;}#sk-container-id-1 div.sk-label label {font-family: monospace;font-weight: bold;display: inline-block;line-height: 1.2em;}#sk-container-id-1 div.sk-label-container {text-align: center;}#sk-container-id-1 div.sk-container {/* jupyter's `normalize.less` sets `[hidden] { display: none; }` but bootstrap.min.css set `[hidden] { display: none !important; }` so we also need the `!important` here to be able to override the default hidden behavior on the sphinx rendered scikit-learn.org. See: https://github.com/scikit-learn/scikit-learn/issues/21755 */display: inline-block !important;position: relative;}#sk-container-id-1 div.sk-text-repr-fallback {display: none;}</style><div id=\"sk-container-id-1\" class=\"sk-top-container\"><div class=\"sk-text-repr-fallback\"><pre>SGDClassifier(tol=0.01)</pre><b>In a Jupyter environment, please rerun this cell to show the HTML representation or trust the notebook. <br />On GitHub, the HTML representation is unable to render, please try loading this page with nbviewer.org.</b></div><div class=\"sk-container\" hidden><div class=\"sk-item\"><div class=\"sk-estimator sk-toggleable\"><input class=\"sk-toggleable__control sk-hidden--visually\" id=\"sk-estimator-id-1\" type=\"checkbox\" checked><label for=\"sk-estimator-id-1\" class=\"sk-toggleable__label sk-toggleable__label-arrow\">SGDClassifier</label><div class=\"sk-toggleable__content\"><pre>SGDClassifier(tol=0.01)</pre></div></div></div></div></div>"
            ]
          },
          "metadata": {},
          "execution_count": 4
        }
      ]
    },
    {
      "cell_type": "markdown",
      "source": [
        "Let's obtain the training and test scores on the trained model."
      ],
      "metadata": {
        "id": "jpk1NHHxOXhU"
      }
    },
    {
      "cell_type": "code",
      "source": [
        "train_score = clf1.score(xtrain, ytrain)\n",
        "print(\"Training score: \", train_score) \n"
      ],
      "metadata": {
        "colab": {
          "base_uri": "https://localhost:8080/"
        },
        "id": "IAeVY_fbaf7P",
        "outputId": "4006c81b-98f2-4ea8-f56b-0d5f495e6ba8"
      },
      "execution_count": 5,
      "outputs": [
        {
          "output_type": "stream",
          "name": "stdout",
          "text": [
            "Training score:  0.928\n"
          ]
        }
      ]
    },
    {
      "cell_type": "code",
      "source": [
        "test_score = clf1.score(xtest, ytest)\n",
        "print(\"Test score: \", test_score)"
      ],
      "metadata": {
        "colab": {
          "base_uri": "https://localhost:8080/"
        },
        "id": "K_R9jn0Wa_tm",
        "outputId": "4b7ebfbe-c70f-4a39-8f3a-d8a6dd5aee6e"
      },
      "execution_count": 6,
      "outputs": [
        {
          "output_type": "stream",
          "name": "stdout",
          "text": [
            "Test score:  0.9328\n"
          ]
        }
      ]
    },
    {
      "cell_type": "markdown",
      "source": [
        "We obtain the confusion matrix and classification report for evaluating the classifier."
      ],
      "metadata": {
        "id": "_3r1-785OnOe"
      }
    },
    {
      "cell_type": "code",
      "source": [
        "ypred = clf1.predict(xtest)\n",
        "\n",
        "cm = confusion_matrix(ytest, ypred)\n",
        "print(cm) "
      ],
      "metadata": {
        "colab": {
          "base_uri": "https://localhost:8080/"
        },
        "id": "ibp-Am5Tansz",
        "outputId": "d3d4df80-04a3-4658-f464-235447a529c0"
      },
      "execution_count": 7,
      "outputs": [
        {
          "output_type": "stream",
          "name": "stdout",
          "text": [
            "[[2206   50  205]\n",
            " [  20 2311  136]\n",
            " [  27   66 2479]]\n"
          ]
        }
      ]
    },
    {
      "cell_type": "markdown",
      "source": [
        "We use `classification_report` API for obtaining important evaluation metrics for all three classes."
      ],
      "metadata": {
        "id": "A4biNqb_OwDW"
      }
    },
    {
      "cell_type": "code",
      "source": [
        "cr = classification_report(ytest, ypred)\n",
        "print(cr) "
      ],
      "metadata": {
        "colab": {
          "base_uri": "https://localhost:8080/"
        },
        "id": "V-QFDYxwawu0",
        "outputId": "3e691c38-81ca-4bd0-e8a4-f3956d47fe26"
      },
      "execution_count": 8,
      "outputs": [
        {
          "output_type": "stream",
          "name": "stdout",
          "text": [
            "              precision    recall  f1-score   support\n",
            "\n",
            "           0       0.98      0.90      0.94      2461\n",
            "           1       0.95      0.94      0.94      2467\n",
            "           2       0.88      0.96      0.92      2572\n",
            "\n",
            "    accuracy                           0.93      7500\n",
            "   macro avg       0.94      0.93      0.93      7500\n",
            "weighted avg       0.94      0.93      0.93      7500\n",
            "\n"
          ]
        }
      ]
    },
    {
      "cell_type": "markdown",
      "source": [
        "#2. Incremental approach (using partial_fit())\n",
        "\n",
        "We will now assume that the data can not be kept completely in the main memory and hence, will load chunks of data and fit using `partial_fit()`."
      ],
      "metadata": {
        "id": "rn5L-7hvbO8o"
      }
    },
    {
      "cell_type": "code",
      "source": [
        "xtrain[0:5]"
      ],
      "metadata": {
        "colab": {
          "base_uri": "https://localhost:8080/"
        },
        "id": "gHhyq_DOeeC6",
        "outputId": "fa18808a-42fc-4ced-f4d7-7f65c6da6dc1"
      },
      "execution_count": 9,
      "outputs": [
        {
          "output_type": "execute_result",
          "data": {
            "text/plain": [
              "array([[ 2.13922458,  4.12443203,  0.18652789,  3.01372967, -1.9062114 ,\n",
              "         0.81998862,  2.90943478, -2.38328903, -0.11806898, -0.82274741],\n",
              "       [-1.07858661, -2.04420725,  0.80905554, -1.15324404,  1.52693968,\n",
              "         1.66380706, -0.88203576, -0.05158305,  1.74644674, -0.92044429],\n",
              "       [ 0.73819169,  1.40298284,  0.05266006,  0.82988662, -0.9823266 ,\n",
              "         1.23638737, -2.31362451, -1.81441346,  0.5266005 ,  0.88605074],\n",
              "       [ 0.39031529,  0.70154232, -0.28749983,  0.02101712, -1.16482668,\n",
              "         0.67419337, -1.148984  ,  1.29178847,  0.10985247,  0.72437227],\n",
              "       [ 0.35975069,  0.80329139, -0.45071496,  1.64457563,  1.43714942,\n",
              "         0.63238187,  1.46047735,  0.4075769 ,  0.04767075, -0.61074532]])"
            ]
          },
          "metadata": {},
          "execution_count": 9
        }
      ]
    },
    {
      "cell_type": "code",
      "source": [
        "ytrain[0:5]"
      ],
      "metadata": {
        "colab": {
          "base_uri": "https://localhost:8080/"
        },
        "id": "iMBV0AfKejvF",
        "outputId": "e50b70db-335a-48f6-8cdf-c7deeae56c0d"
      },
      "execution_count": 10,
      "outputs": [
        {
          "output_type": "execute_result",
          "data": {
            "text/plain": [
              "array([0, 1, 0, 0, 1])"
            ]
          },
          "metadata": {},
          "execution_count": 10
        }
      ]
    },
    {
      "cell_type": "markdown",
      "source": [
        "\n",
        "\n",
        "In order to load data chunk by chunk, we will first store the given (training) data in a csv file. (This is just for demonstration purpose. In a real scenario, the large dataset might already be in the form of say, a csv, which we will be reading in multiple iterations.)"
      ],
      "metadata": {
        "id": "gKXDg16IBwFe"
      }
    },
    {
      "cell_type": "code",
      "source": [
        "import numpy as np"
      ],
      "metadata": {
        "id": "-JnqFcXtenvM"
      },
      "execution_count": 11,
      "outputs": []
    },
    {
      "cell_type": "code",
      "source": [
        "train_data = np.concatenate((xtrain, ytrain[:, np.newaxis]), axis=1)"
      ],
      "metadata": {
        "id": "8Z6hsSzLepsp"
      },
      "execution_count": 12,
      "outputs": []
    },
    {
      "cell_type": "code",
      "source": [
        "train_data[0:5]"
      ],
      "metadata": {
        "colab": {
          "base_uri": "https://localhost:8080/"
        },
        "id": "MVww861BhHRc",
        "outputId": "c93a2602-cda6-4d0b-9feb-92e8d98529cd"
      },
      "execution_count": 13,
      "outputs": [
        {
          "output_type": "execute_result",
          "data": {
            "text/plain": [
              "array([[ 2.13922458,  4.12443203,  0.18652789,  3.01372967, -1.9062114 ,\n",
              "         0.81998862,  2.90943478, -2.38328903, -0.11806898, -0.82274741,\n",
              "         0.        ],\n",
              "       [-1.07858661, -2.04420725,  0.80905554, -1.15324404,  1.52693968,\n",
              "         1.66380706, -0.88203576, -0.05158305,  1.74644674, -0.92044429,\n",
              "         1.        ],\n",
              "       [ 0.73819169,  1.40298284,  0.05266006,  0.82988662, -0.9823266 ,\n",
              "         1.23638737, -2.31362451, -1.81441346,  0.5266005 ,  0.88605074,\n",
              "         0.        ],\n",
              "       [ 0.39031529,  0.70154232, -0.28749983,  0.02101712, -1.16482668,\n",
              "         0.67419337, -1.148984  ,  1.29178847,  0.10985247,  0.72437227,\n",
              "         0.        ],\n",
              "       [ 0.35975069,  0.80329139, -0.45071496,  1.64457563,  1.43714942,\n",
              "         0.63238187,  1.46047735,  0.4075769 ,  0.04767075, -0.61074532,\n",
              "         1.        ]])"
            ]
          },
          "metadata": {},
          "execution_count": 13
        }
      ]
    },
    {
      "cell_type": "code",
      "source": [
        "a = np.asarray(train_data)\n",
        "np.savetxt(\"train_data.csv\", a, delimiter=\",\")"
      ],
      "metadata": {
        "id": "BmDS0ZVqhhMm"
      },
      "execution_count": 14,
      "outputs": []
    },
    {
      "cell_type": "markdown",
      "source": [
        "Now, our data for demonstration is ready in a csv file. \n",
        "\n",
        "Let's create `SGDClassifier` object that we intend to train with `partial_fit`."
      ],
      "metadata": {
        "id": "F9G0I4g3R9Ut"
      }
    },
    {
      "cell_type": "code",
      "source": [
        "# Let us create another classifier and we will fit it incrementally.\n",
        "clf2 = SGDClassifier(max_iter=1000, tol=0.01)\n"
      ],
      "metadata": {
        "id": "jTsuMjBDh1TS"
      },
      "execution_count": 15,
      "outputs": []
    },
    {
      "cell_type": "markdown",
      "source": [
        "###Processing data chunk by chunk\n",
        "\n",
        "Pandas' `read_csv()` function has an attributre `chunksize` that can be used to read data chunk by chunk. The `chunksize` parameter specifies the number of rows per chunk. (The last chunk may contain fewer than chunksize rows, of course.)\n",
        "\n",
        "We can then use this data for `partial_fit`. We can then repeat these two steps multiple times. That way, entire data may not be reqiuired to be kept in memory."
      ],
      "metadata": {
        "id": "-MstV2rOCKNC"
      }
    },
    {
      "cell_type": "code",
      "source": [
        "import pandas as pd\n",
        "\n",
        "chunksize = 1000\n",
        "\n",
        "iter = 1\n",
        "for train_df in pd.read_csv(\"train_data.csv\", chunksize=chunksize,\n",
        "                            iterator=True):\n",
        "  if iter == 1:\n",
        "    # In the first iteration, we are specifying all possible class \n",
        "    # labels.\n",
        "    xtrain_partial = train_df.iloc[:, 0:10]\n",
        "    ytrain_partial = train_df.iloc[:, 10]\n",
        "    clf2.partial_fit(xtrain_partial, ytrain_partial,\n",
        "                     classes=np.array([0, 1, 2]))\n",
        "  else:\n",
        "    xtrain_partial = train_df.iloc[:, 0:10]\n",
        "    ytrain_partial = train_df.iloc[:, 10]\n",
        "    clf2.partial_fit(xtrain_partial, ytrain_partial)\n",
        "\n",
        "  print(\"After iter #\", iter)\n",
        "  print(clf2.coef_)\n",
        "  print(clf2.intercept_)  \n",
        "  iter = iter + 1"
      ],
      "metadata": {
        "id": "QjPhE1U7huLx",
        "colab": {
          "base_uri": "https://localhost:8080/"
        },
        "outputId": "ee9215cf-1267-404e-ebea-20cace898961"
      },
      "execution_count": 16,
      "outputs": [
        {
          "output_type": "stream",
          "name": "stdout",
          "text": [
            "After iter # 1\n",
            "[[   7.04991821   14.67800392   -5.6950819    21.19363375   11.11613728\n",
            "     4.32880561   21.18274499    0.90294732   15.14595315    6.01100557]\n",
            " [  -8.88600215  -12.02918423    5.69217809   40.41252555   89.69079156\n",
            "     7.28968813    1.30046203    7.09430256   -5.44765125   -6.57433245]\n",
            " [   0.75817665   -4.96298856    8.60580686  -65.57218862 -103.62751615\n",
            "     4.46002317    1.94775891    1.2688729    14.43362046   -0.27348332]]\n",
            "[ -28.39262248   -8.02563635 -115.90762174]\n",
            "After iter # 2\n",
            "[[  4.11632848   7.73006027   6.82912507   3.65991144  -6.97271659\n",
            "   -7.5272327  -10.70776704   2.22706072   2.67977216 -16.36346034]\n",
            " [ -8.24308768 -11.84350147   0.08865239  30.3871914   72.23060942\n",
            "    4.77743783   0.39751972  15.87808136  -1.20602893  11.34220791]\n",
            " [  0.78332802  -3.69668664 -12.87610311 -52.90511101 -84.13542984\n",
            "  -11.14936079  -8.69066706  -6.11355121   7.53548307   5.02082049]]\n",
            "[  -8.07151847   -6.93243287 -113.00258008]\n",
            "After iter # 3\n",
            "[[  5.30853154  10.34882752   2.84878205   8.66068928  -2.90416022\n",
            "   -3.20342117   4.84364146  -2.2440258   -1.40694798  -3.09747483]\n",
            " [ -6.19388243  -9.27581666 -10.5374301   18.92706951  48.24002821\n",
            "    7.85072091   1.45117644   4.22940735  -0.4660297   -7.00408682]\n",
            " [  1.42396293  -2.13831793  13.86203824 -48.64998599 -79.5268844\n",
            "    2.06941415   8.91776924   4.2857378   -3.03675111  -1.77701893]]\n",
            "[ -3.63250217 -11.4792109  -78.73003364]\n",
            "After iter # 4\n",
            "[[  2.84020061   5.91343385   1.24767621   8.53938193   4.4800616\n",
            "    1.15246066  -0.83616152  -5.87417428  -1.40215138   4.44126902]\n",
            " [ -4.86159541  -6.92069256  -4.00406349  18.58916853  43.63120549\n",
            "   -2.06557405   4.98403953  -3.17893339  -4.3220273    3.06787153]\n",
            " [  2.58595897   0.89588073   3.60717167 -38.77864994 -67.84119228\n",
            "    5.79776567   5.4508797    0.61674281   3.27617693  -4.19577116]]\n",
            "[ -2.82512243  -5.22073691 -79.0787968 ]\n",
            "After iter # 5\n",
            "[[ 1.88914802e+00  3.78770037e+00 -1.94554173e-03  4.16974782e+00\n",
            "   6.46821402e-01 -1.20024537e+00 -1.62156524e+00  2.07627562e+00\n",
            "  -4.38772941e-01 -1.81340404e+00]\n",
            " [-5.99050783e+00 -9.48911218e+00  5.01334426e+00  1.29340907e+01\n",
            "   3.83576832e+01 -4.29996889e+00  9.82403613e-01  1.91934241e+00\n",
            "   7.51677406e-01  8.14985467e-01]\n",
            " [ 9.58936281e-01 -2.00221724e+00 -7.11327741e+00 -3.85937826e+01\n",
            "  -6.25646852e+01  6.07674960e-01  1.56272360e+00  2.30095220e+00\n",
            "  -5.91896641e+00  3.16197027e+00]]\n",
            "[ -6.74491388   0.42887543 -70.46360041]\n",
            "After iter # 6\n",
            "[[ 9.07717027e-01  1.99421863e+00  4.08102565e-01  3.81108282e+00\n",
            "   3.10327229e+00  1.13711180e+00 -1.31192546e-02 -2.02325000e-01\n",
            "   1.45439191e-01  2.74366467e+00]\n",
            " [-2.51071548e+00 -3.04272496e+00  4.90518964e+00  1.51119443e+01\n",
            "   3.10479312e+01  8.85769047e-01 -1.74990844e+00 -4.48464240e+00\n",
            "  -3.82905600e+00 -4.84284410e-01]\n",
            " [ 2.60294686e-01 -2.96451442e+00 -5.65089424e+00 -3.55878973e+01\n",
            "  -5.57778342e+01 -2.38736300e+00  3.61302519e+00  5.55279548e+00\n",
            "   3.25361015e+00 -7.87514198e+00]]\n",
            "[ -8.06379155   4.79220699 -60.1267025 ]\n",
            "After iter # 7\n",
            "[[  2.60545909   5.02865897  -2.04756811   3.72579467  -2.23632822\n",
            "    2.08761429  -4.68755344   0.45681441   4.35685788  -4.25703195]\n",
            " [ -4.42838043  -6.99492705  -1.48972323   9.7660237   28.67152846\n",
            "    3.76730038   3.97668292   0.52492593   1.59388539   0.7327749 ]\n",
            " [  0.08010577  -2.90260705   2.81454271 -31.596186   -49.05834912\n",
            "    4.10451492  -1.9582917   -0.24079482   0.2947522    4.76846302]]\n",
            "[ -3.97730019   4.84040374 -57.53869126]\n",
            "After iter # 8\n",
            "[[  1.94657137   4.21370282   2.88324824   7.52096822   5.64794077\n",
            "   -1.11481659   0.50004342  -0.72848379  -2.8752495   -4.33058339]\n",
            " [ -3.60857973  -5.23883462   1.60386374  12.74146096  30.75350465\n",
            "   -0.79503687   1.42315865   2.58622794   2.08202881  -1.93764589]\n",
            " [  2.41474908   1.8497971    0.39451349 -25.70155473 -47.11333398\n",
            "   -3.63508664   4.84588525   2.69235995   1.85281975   0.37010237]]\n",
            "[ -4.32235904   3.45838681 -55.24628286]\n",
            "After iter # 9\n",
            "[[  0.95341076   1.96020779   1.49043994   2.60889447   1.10585787\n",
            "   -1.85474091  -3.33687138   4.67054109  -1.2517101   -0.93479375]\n",
            " [ -4.12361064  -6.4434576   -3.11451179   9.82065004  27.82103595\n",
            "   -1.48174792  -1.28772648   0.48179879   3.57065168   1.11422493]\n",
            " [  1.42033843   0.10486863   0.6362286  -25.315322   -43.46628299\n",
            "   -0.68693872  -1.01476735   0.14561474   3.29101242  -3.47140223]]\n",
            "[ -3.2311321    0.49929357 -51.13360392]\n",
            "After iter # 10\n",
            "[[ 1.88324577e+00  3.50126477e+00  1.79808298e+00  1.30843419e+00\n",
            "  -3.75548750e+00  1.73180571e-01 -4.12225563e-01 -2.45455163e+00\n",
            "   8.37137608e-01 -3.07664854e-01]\n",
            " [-3.83522977e+00 -6.01011889e+00  4.67712385e+00  8.95463206e+00\n",
            "   2.55985226e+01  5.69561034e-01 -3.46887451e-01 -9.67976232e-01\n",
            "  -3.77510215e-02 -2.27390918e+00]\n",
            " [ 7.05357646e-01 -1.11365325e+00  9.08524033e-01 -2.46633747e+01\n",
            "  -4.02658861e+01 -2.00712474e+00 -2.50471527e+00 -1.76614403e-01\n",
            "  -1.35259125e+00  1.28954472e+00]]\n",
            "[ -1.56205      0.47329625 -44.50947767]\n",
            "After iter # 11\n",
            "[[  0.64390099   1.35329963   1.72121673   2.06734714   1.21865109\n",
            "    1.98663383   2.11831338   1.23132391  -1.89342551  -4.5772802 ]\n",
            " [ -3.6158167   -5.74907312   0.56673295   7.58357985  22.80734647\n",
            "   -0.35018764  -3.00070536   0.37637212   1.81878871  -0.47559745]\n",
            " [  0.53722063  -1.14618701  -0.18335386 -21.87528334 -35.44283037\n",
            "    2.86014647   1.74559595  -1.87557653  -1.23675083   0.23366073]]\n",
            "[ -2.53334678   0.46741442 -44.57304505]\n",
            "After iter # 12\n",
            "[[ 9.82501435e-01  1.96868064e+00 -4.00111082e-01  2.15600386e+00\n",
            "   3.16955894e-01 -2.56023998e+00 -5.81365784e-01 -9.57825205e-01\n",
            "  -2.51240832e+00  9.37316249e-01]\n",
            " [-2.86639564e+00 -4.38595907e+00 -2.61257660e+00  7.79118440e+00\n",
            "   2.08292165e+01  5.75183550e-01 -4.04494337e+00  4.58531090e-01\n",
            "  -6.12608456e-02 -5.16488722e-01]\n",
            " [ 2.28767486e+00  2.37288300e+00 -1.56838954e+00 -1.79136669e+01\n",
            "  -3.46921045e+01 -1.90929545e+00 -1.89040309e+00 -1.97460290e-02\n",
            "   1.31006101e+00 -4.95481796e-01]]\n",
            "[ -4.89158167   2.03038742 -38.19446971]\n",
            "After iter # 13\n",
            "[[  1.35377791   2.46723768   0.54628035   0.4254888   -3.49539317\n",
            "    1.60787225   2.45181574  -2.08459628   1.33598895  -2.82002122]\n",
            " [ -1.62328721  -1.98396919   0.6063303    9.59716077  19.80600407\n",
            "   -0.16896269   3.06843022   0.04657765  -2.23261857  -0.75867923]\n",
            " [  1.17302792   0.35686493   1.26181335 -18.10418544 -31.56724471\n",
            "   -0.47655229  -0.0661048   -2.43394595   2.55721745  -1.99954117]]\n",
            "[ -3.43044687  -0.94258534 -36.01268559]\n",
            "After iter # 14\n",
            "[[ 1.03887048e+00  2.02472610e+00 -2.61641829e+00  1.68947139e+00\n",
            "  -5.76697926e-01  1.08959800e+00  2.41580662e+00 -5.91984405e-01\n",
            "   1.85473248e+00 -3.79842574e+00]\n",
            " [-1.99286999e+00 -2.84946488e+00 -2.35909341e+00  7.49014711e+00\n",
            "   1.76845989e+01  2.66335295e+00  1.12673748e+00 -5.05208144e+00\n",
            "  -6.92518553e-02 -2.40787435e+00]\n",
            " [ 3.23031627e-01 -1.18931023e+00 -1.44647134e-02 -1.83409570e+01\n",
            "  -2.93256590e+01  7.81720620e-01 -1.40913086e+00 -8.91086569e-01\n",
            "   1.56902489e+00  1.23343350e+00]]\n",
            "[ -2.76891933   0.5051737  -34.63049326]\n",
            "After iter # 15\n",
            "[[ 1.64785884e+00  3.28451420e+00  2.53434530e-01  3.43587760e+00\n",
            "   2.53229633e-01  1.03390156e+00  9.43450059e-01  1.96605456e+00\n",
            "   1.11600898e+00  1.59081496e-02]\n",
            " [-1.91065117e+00 -2.64838979e+00 -1.77988477e+00  8.04739543e+00\n",
            "   1.82932791e+01  1.63225183e+00  3.85014044e-01 -1.56058915e+00\n",
            "   3.13490341e-02 -1.00397115e+00]\n",
            " [-1.46633669e-01 -1.93567765e+00 -2.48639595e+00 -1.73518599e+01\n",
            "  -2.63569104e+01 -1.03839378e+00  5.58075016e-01  5.41539873e-01\n",
            "   1.47410574e+00 -1.08076240e+00]]\n",
            "[ -1.54128299   0.46665678 -31.39932974]\n",
            "After iter # 16\n",
            "[[  0.92519444   1.88533181  -3.12077795   2.35676986   0.80290697\n",
            "    0.37326095   1.59243614  -0.33574853  -1.02578303  -0.98299686]\n",
            " [ -2.00480525  -2.85728925   0.91485722   7.63085728  17.93859212\n",
            "    2.43636238  -0.71070138  -0.55306302   2.23389175  -0.17499503]\n",
            " [  0.03212045  -1.53286175   1.99476923 -16.4965915  -25.58394494\n",
            "    1.88930741   0.76742435   2.26140535   0.37346376   0.83251482]]\n",
            "[ -3.3778691    1.72762666 -29.62861893]\n",
            "After iter # 17\n",
            "[[  1.32333401   2.59569803  -2.22073661   2.32386439  -0.46922523\n",
            "   -1.31878129   0.53493535  -1.19469963  -0.42308509   0.50565001]\n",
            " [ -3.08135181  -5.10992177   0.27216929   4.27781443  16.06082728\n",
            "    0.76375755   0.82473646  -1.30604783  -0.17536631   1.22675182]\n",
            " [ -0.63990988  -2.66352513   0.79811618 -15.73175634 -22.34089959\n",
            "   -0.41166558  -1.31081129   0.13793796  -0.18241019  -0.9768069 ]]\n",
            "[ -3.93086506   1.10768378 -28.4490041 ]\n",
            "After iter # 18\n",
            "[[  1.10541327   2.27781661   0.46286274   3.07765175   1.36376706\n",
            "   -0.14394541   0.62940354   1.82561437  -0.83515613  -1.17603495]\n",
            " [ -1.7161944   -2.42135054   1.00172355   6.7875324   15.75043165\n",
            "    0.42152621   0.37747686   0.35029062   0.99202612   1.15652249]\n",
            " [  0.59207317  -0.19788284   1.67324637 -13.05873714 -21.99049917\n",
            "    1.10193797   0.18250651  -1.21200225  -1.2103697   -0.20352499]]\n",
            "[ -4.92517317  -0.47505273 -26.79783011]\n",
            "After iter # 19\n",
            "[[ 1.02496419e+00  2.05266170e+00  1.24705186e+00  2.23773932e+00\n",
            "   3.12973276e-01  8.49870130e-01 -1.48923967e-01 -9.28736022e-01\n",
            "   1.55789602e-01  3.87520964e-02]\n",
            " [-1.10620502e+00 -1.34572112e+00  6.63737081e-01  6.60515803e+00\n",
            "   1.35975352e+01 -6.09078639e-01  3.19184051e-01  5.61095930e-01\n",
            "   4.76813863e-01  1.90059715e+00]\n",
            " [ 1.02043113e+00  7.19046565e-01  1.57049524e+00 -1.15108191e+01\n",
            "  -2.09131286e+01  2.76922139e-03 -1.06265291e+00 -1.10223835e-01\n",
            "  -6.39947282e-01 -3.37588142e-01]]\n",
            "[ -0.8134902    1.07427446 -22.18280229]\n",
            "After iter # 20\n",
            "[[ 1.08413304e+00  2.23995306e+00  1.40263781e+00  3.08049892e+00\n",
            "   1.43344292e+00  9.09766931e-01  6.48461762e-01  5.89632238e-01\n",
            "   2.98744228e-01  1.79813868e-01]\n",
            " [-1.74235278e+00 -2.62719979e+00  5.47843667e-01  5.13864168e+00\n",
            "   1.32833184e+01  8.24588405e-03  1.29016177e+00  1.99859579e+00\n",
            "   7.21991498e-01  3.01586530e-01]\n",
            " [-8.53137831e-01 -2.75489489e+00  1.94309628e+00 -1.27157290e+01\n",
            "  -1.70273911e+01  1.77124110e+00 -4.89603137e-01 -1.45805623e+00\n",
            "   9.81879554e-01  1.12779305e+00]]\n",
            "[ -1.3419339    0.57779596 -23.13889319]\n",
            "After iter # 21\n",
            "[[  0.56050023   1.08243875   0.26471725   0.80822227  -0.47072542\n",
            "    1.0512586   -0.4233586   -1.11857877   0.84147044   0.96568044]\n",
            " [ -1.87687413  -2.83725763  -0.05163952   5.46048687  14.19317923\n",
            "   -1.15133247  -0.27897889   0.64183797  -1.31054883  -1.00237583]\n",
            " [ -0.03017066  -1.08912767  -0.90928299 -10.73604579 -16.49345835\n",
            "    1.31204079   0.31524559   1.09029783  -1.06578098   0.05547549]]\n",
            "[ -1.84179008   1.93115055 -22.15655272]\n",
            "After iter # 22\n",
            "[[  0.87371639   1.76364161   0.89633045   2.05148689   0.48918784\n",
            "    1.20101911  -0.08863499  -0.10208274   1.62418345  -0.35180649]\n",
            " [ -0.90836244  -1.09676109   1.60414318   5.50972702  11.29833111\n",
            "   -1.16936047   2.08044258   1.13137773  -0.79751731   0.23008001]\n",
            " [  0.05989367  -0.89417867  -0.08162248 -10.38818243 -16.23232096\n",
            "    0.7270439    0.37893603  -0.0493265    0.42666972  -0.58294818]]\n",
            "[ -2.71748539   1.49321485 -19.90119244]\n",
            "After iter # 23\n",
            "[[  0.98249026   1.93936426  -0.5136211    1.85212959  -0.15246208\n",
            "   -0.10397677   0.64014917  -0.6570526   -0.09348252   0.04471315]\n",
            " [ -1.12817263  -1.52643598   0.24092118   5.13906837  11.39997418\n",
            "   -0.02343864  -1.33019235   0.81490469   0.01714352   0.54682764]\n",
            " [ -0.1980814   -1.33476923  -0.31588833 -10.16260549 -15.09248852\n",
            "    0.87841658   1.17136023  -0.77313301  -0.07946536   0.39821385]]\n",
            "[ -2.69144872   0.19672491 -20.29489704]\n",
            "After iter # 24\n",
            "[[  0.66018271   1.36920936   0.21123832   1.92970416   0.95606352\n",
            "   -0.47452519   2.58699241   0.38651457   0.88817968   1.78958507]\n",
            " [ -1.18099253  -1.59829015  -1.11957611   5.37565016  11.92749252\n",
            "   -0.13139627   1.50302141  -0.92786999  -0.44089032  -2.43767283]\n",
            " [ -0.01587684  -1.00794417  -1.23585635 -10.15968759 -15.64689487\n",
            "   -0.26329303   0.50222939   0.36447372  -1.47507726  -0.45926761]]\n",
            "[ -0.68589541   0.59250982 -18.62727157]\n",
            "After iter # 25\n",
            "[[ 8.25090717e-01  1.66018799e+00  1.39580895e-01  1.88233795e+00\n",
            "   3.77031094e-01 -1.12742862e-01  1.26797625e+00 -1.12002805e-01\n",
            "   1.35485237e+00 -3.03715776e-01]\n",
            " [-9.02150963e-01 -1.02371583e+00 -5.47256227e-01  6.15191688e+00\n",
            "   1.22713899e+01  2.72554737e-01  5.05776644e-01  1.27126615e-01\n",
            "   4.59141396e-01 -3.14550936e-01]\n",
            " [ 4.84968485e-01  1.12390575e-02  2.12641092e-01 -8.89863704e+00\n",
            "  -1.52350585e+01  1.11017614e+00 -1.07410420e+00 -4.84608945e-01\n",
            "   1.08431417e-01  4.19695402e-02]]\n",
            "[ -1.47394904  -1.34283993 -18.99765183]\n",
            "After iter # 26\n",
            "[[  0.52450827   1.06491196  -0.73171465   1.29549139   0.39245732\n",
            "    0.94589287  -0.07990013  -0.53795919   1.41096167   0.32939291]\n",
            " [ -1.67067025  -2.55396242   0.08538488   4.56576458  12.17839959\n",
            "   -0.78309478  -0.50281952  -0.36779671   0.09082307  -1.18914614]\n",
            " [  1.05369351   1.06586659   0.03978148  -8.53177753 -16.4128704\n",
            "   -0.26304862  -0.29634184  -1.46424024  -0.23582225   1.07505042]]\n",
            "[ -0.74498995   1.67655631 -18.24261   ]\n",
            "After iter # 27\n",
            "[[  0.79277625   1.61604424  -0.18613018   2.02516266   0.69680444\n",
            "   -0.56999012  -0.64442374   0.19268365   0.04723327  -0.16544225]\n",
            " [ -1.14188917  -1.62010219   0.29641117   4.42250314  10.33503553\n",
            "    0.38080543   2.0712748    0.47363111  -1.13787215  -1.81065893]\n",
            " [ -0.30560544  -1.49198442   1.1525796   -9.79451446 -14.19399746\n",
            "   -0.23792743  -1.3462272   -1.43663315   1.45253753   1.82879279]]\n",
            "[ -2.21772115   0.95330464 -18.24835787]\n",
            "After iter # 28\n",
            "[[  0.79253123   1.67819468   0.68242844   2.6743683    1.70050718\n",
            "    0.33025094  -0.42520683  -1.41977524   1.85255452  -0.64480625]\n",
            " [ -1.37017325  -2.10501707  -1.72008313   3.63639527   9.8208491\n",
            "    1.07275506  -1.54921031   0.09886301   0.54909169   0.34651238]\n",
            " [  0.40193298  -0.10843031  -0.60719774  -8.59632874 -14.51331336\n",
            "   -0.47729781   1.02234659  -1.19581791  -0.14890669   0.65082236]]\n",
            "[ -1.15335251  -0.12685361 -17.54850622]\n",
            "After iter # 29\n",
            "[[  0.49352987   1.04483808  -0.11273872   1.66314268   1.05546458\n",
            "   -0.57780482   0.93366966   0.03163435   0.68021341   1.0669873 ]\n",
            " [ -1.77923177  -2.8951051    1.15408118   3.0453673   10.16256687\n",
            "    0.91314466   0.16283063  -0.5335659   -0.0934559   -0.17713932]\n",
            " [ -0.01596728  -0.87259865  -0.76225299  -8.75414506 -13.4752092\n",
            "   -1.89063331   0.8113072    0.45013913  -0.54270591  -0.07456693]]\n",
            "[ -1.50115707   0.89780947 -15.52499529]\n",
            "After iter # 30\n",
            "[[  0.55925646   1.16614871   0.1403391    1.69961861   0.91019894\n",
            "   -0.01579952   0.24019463  -0.18632948   0.94182802   1.16221402]\n",
            " [ -0.95603291  -1.31087907   0.25162933   4.17496378   9.38249869\n",
            "    1.31262882   0.37321277  -0.83419553  -0.30806814   0.29069058]\n",
            " [  0.32280599  -0.2052448    0.13499256  -8.12961634 -13.54957136\n",
            "   -0.64272338  -1.00622905  -0.15322705   0.90804154   0.37075596]]\n",
            "[ -1.51376      0.58813933 -15.52871776]\n",
            "After iter # 31\n",
            "[[  0.64472224   1.23804365  -0.14632753   0.8565964   -0.65434453\n",
            "    0.16530083   0.52962222  -0.24795854   0.90647269   0.84224568]\n",
            " [ -1.26037314  -1.93680545   0.18186322   3.34005321   9.0262204\n",
            "    0.08960767   0.75979684   1.82238515   0.4534759    1.73732649]\n",
            " [  0.26280318  -0.24578987   0.95890536  -7.43475832 -12.29203316\n",
            "   -0.07202775  -0.22925431  -0.33881859  -0.26794656   1.24517328]]\n",
            "[ -2.14014549  -0.04362388 -14.89397777]\n",
            "After iter # 32\n",
            "[[ 4.89637509e-01  9.73455794e-01 -1.14016864e+00  9.95091360e-01\n",
            "   3.53387870e-02 -1.08788690e+00 -3.18838536e-01 -3.61355993e-01\n",
            "  -1.27308068e+00 -1.93297273e+00]\n",
            " [-1.19997830e+00 -1.79408649e+00  3.50950090e-01  3.69769875e+00\n",
            "   9.39348160e+00  4.27503578e-01 -1.94735276e+00 -4.45632617e-01\n",
            "  -6.63092515e-01  8.13665659e-01]\n",
            " [ 3.72556075e-03 -7.46385476e-01  4.74720392e-01 -7.81108383e+00\n",
            "  -1.20786915e+01  6.82917488e-01  4.96098084e-01 -4.69945927e-01\n",
            "  -3.09205439e-01  8.74347382e-01]]\n",
            "[ -0.91039887   0.87135683 -14.27301697]\n",
            "After iter # 33\n",
            "[[  0.42226167   0.86093632   1.41616393   1.08045957   0.37389929\n",
            "    0.33474913  -0.46369794  -0.63467109  -0.55677742  -0.92676669]\n",
            " [ -1.12306028  -1.64566306   0.0231861    3.80735948   9.32694859\n",
            "   -1.53023803   0.26646445  -1.12723432   0.47771797   0.47120122]\n",
            " [  0.14260945  -0.47023014   1.43375361  -7.52843401 -12.06805638\n",
            "   -0.88581747   0.5232593   -0.52641495  -0.83766266   0.38080237]]\n",
            "[ -2.11428578   0.26994237 -13.381323  ]\n",
            "After iter # 34\n",
            "[[  0.7003342    1.4343568    0.25455312   1.85905405   0.72375183\n",
            "    0.52554749  -0.66721109   0.41165     -0.23595411  -0.8986467 ]\n",
            " [ -1.10554094  -1.63937979  -0.66103172   3.54686037   8.87076545\n",
            "    0.88607575   0.31618233   0.70103666  -0.62812167  -0.14938761]\n",
            " [ -0.16325192  -1.01608754  -0.42437546  -7.50455804 -11.092938\n",
            "    0.72353948   0.1713417   -0.11551446   0.04233826   0.1374653 ]]\n",
            "[ -1.53290309   1.41810244 -13.96430816]\n",
            "After iter # 35\n",
            "[[  0.07951609   0.22825637  -0.64475327   0.88942585   1.13014854\n",
            "   -0.24888327   0.38403121   0.57442634  -0.7238747   -1.21456177]\n",
            " [ -1.02919043  -1.50831316  -0.36761489   3.4870385    8.54414134\n",
            "    0.71086199  -1.30329759  -0.72727322   0.45372327  -1.14600942]\n",
            " [ -0.19580583  -1.07975838  -0.76617138  -7.55982537 -11.0784605\n",
            "   -0.68222714   0.37294814   0.42335559  -0.87652036  -0.21259568]]\n",
            "[ -2.36979042   0.28095449 -13.39972859]\n",
            "After iter # 36\n",
            "[[ 6.07934154e-01  1.16460290e+00  1.15962721e-02  7.78701546e-01\n",
            "  -6.61835687e-01 -1.81545134e-01  4.88238750e-02 -3.88325796e-01\n",
            "  -3.75483242e-01  2.73615286e-01]\n",
            " [-1.05611825e+00 -1.55694320e+00  3.43687542e-01  3.48319575e+00\n",
            "   8.62080607e+00  5.79954542e-02  2.58515689e-01 -1.05896060e-01\n",
            "   7.79101872e-01 -6.27066744e-01]\n",
            " [ 2.34179549e-01 -2.18878513e-01  2.05313070e-01 -6.62352968e+00\n",
            "  -1.09509711e+01  2.59540913e-01 -4.50263061e-01 -6.86810726e-01\n",
            "  -2.62526249e-03  9.32655884e-01]]\n",
            "[ -1.53349977   0.54962446 -12.57783708]\n",
            "After iter # 37\n",
            "[[  0.55247555   1.20009217   0.40377603   2.17774674   1.66965468\n",
            "    0.21569373   0.07380581   0.10325188  -0.29116756  -0.26947819]\n",
            " [ -0.89286545  -1.24689543   0.223487     3.66439195   8.39995472\n",
            "    0.32159068   0.55931954   0.04228258  -1.16681636  -0.4713533 ]\n",
            " [  0.33144012  -0.03242027  -1.25050077  -6.49750893 -11.05463063\n",
            "   -0.09797     -0.11613066  -0.98617436   0.65695962   0.97364111]]\n",
            "[ -1.00932833   1.07116389 -12.58264917]\n",
            "After iter # 38\n",
            "[[  0.55481493   1.13806094   0.41360062   1.49084495   0.60129109\n",
            "    0.40354422  -0.4669517   -0.77087588  -0.61090377  -0.50740178]\n",
            " [ -1.03904084  -1.57358281   0.06554058   2.99314596   7.81134807\n",
            "   -0.50773917   0.77294793  -0.01135331  -0.0934347   -0.96849595]\n",
            " [  0.88305013   1.11214763   0.16185979  -4.87959394 -10.24719925\n",
            "   -0.36411074   0.3609297   -1.17009227   0.41883899  -0.29588007]]\n",
            "[ -2.05109566   1.57395548 -13.10369242]\n",
            "After iter # 39\n",
            "[[ 5.18498577e-01  9.88801606e-01  4.21931700e-02  6.17758287e-01\n",
            "  -6.36130805e-01 -1.63115371e-02 -8.94836573e-01 -2.39438052e-01\n",
            "   6.14774025e-01 -2.30377267e-04]\n",
            " [-1.04285017e+00 -1.53024485e+00  7.86210996e-01  3.51347837e+00\n",
            "   8.62688941e+00  4.78314166e-01 -7.88159101e-01 -3.20932581e-01\n",
            "   1.25502897e-01 -1.05521796e+00]\n",
            " [-8.65301112e-02 -7.98937488e-01 -2.07795489e-01 -6.67838803e+00\n",
            "  -1.00519413e+01 -1.22427041e-01 -9.17061624e-01  4.75645375e-01\n",
            "  -1.61576192e-01  7.29034792e-01]]\n",
            "[ -0.7871516    1.0539319  -12.83619409]\n",
            "After iter # 40\n",
            "[[ 1.76644034e-01  4.41170017e-01  3.63202594e-01  1.29231866e+00\n",
            "   1.45463263e+00  3.65203567e-02 -3.40112528e-02 -1.22837342e+00\n",
            "  -2.17256232e-01  4.46732970e-01]\n",
            " [-7.61204916e-01 -9.74873102e-01  1.55407068e-01  4.03844939e+00\n",
            "   8.57396230e+00  2.83097534e-01  4.26527343e-01 -9.19673808e-01\n",
            "  -1.90644054e-01 -3.44151331e-01]\n",
            " [-1.36541760e-03 -6.70397818e-01  2.50667279e-01 -6.92826984e+00\n",
            "  -1.06992246e+01  7.16908357e-01  1.89056514e-01  2.05383034e-01\n",
            "  -5.76944571e-01  4.42233074e-01]]\n",
            "[ -1.7751754    1.78600615 -12.58378233]\n",
            "After iter # 41\n",
            "[[  0.95396036   1.90916819   0.94883088   2.06927338   0.27051689\n",
            "    1.10407711   0.63443545  -0.96424786   0.13139368   0.45888302]\n",
            " [ -0.62768686  -0.6638675    1.04258187   4.78232788   9.31360465\n",
            "   -0.47223578   0.56088016  -0.27795015  -0.07675776   0.85394353]\n",
            " [  0.15824453  -0.34935882   0.76115223  -6.56535003 -10.62815856\n",
            "   -0.91462574  -0.69875187   0.10563187   0.27855045  -1.10567577]]\n",
            "[ -1.77329925   0.32945698 -11.61960331]\n",
            "After iter # 42\n",
            "[[  0.77814642   1.54656598   0.44739309   1.57646253   0.04848935\n",
            "   -0.47054009   0.76817193   0.11877705  -0.1676022    0.34082039]\n",
            " [ -1.05639971  -1.56413791   0.65262511   3.4138014    8.51446284\n",
            "   -0.83747905  -0.47432993  -0.39271971   0.90897781  -0.05164937]\n",
            " [  0.50637771   0.36691129  -0.24262467  -5.60743504 -10.2161873\n",
            "    0.97897188  -0.04552329  -0.65024483  -0.27384838   0.18334632]]\n",
            "[ -1.3014694    1.03570751 -11.62075602]\n",
            "After iter # 43\n",
            "[[  0.82472901   1.59342913   0.41413536   1.19661053  -0.68123264\n",
            "    0.14321781   0.41806411  -0.77729371   0.14049644  -0.50152142]\n",
            " [ -0.83464031  -1.12922767   0.33365448   3.80252892   8.43475494\n",
            "    0.82303278   0.02405989  -0.76568988  -0.41694548  -0.81584264]\n",
            " [  0.49767419   0.35651885  -0.03653913  -5.55343768 -10.10606922\n",
            "    0.08762051  -0.03521201   0.1475985    0.231391    -0.23649155]]\n",
            "[ -0.8433656    0.57182014 -11.39090216]\n"
          ]
        }
      ]
    },
    {
      "cell_type": "markdown",
      "source": [
        "**Notes:** \n",
        "\n",
        "* In the first call to `partial_fit()`, we passed the list of possible target class labels. For subsequent calls to `partial_fit()`, this is not required.\n",
        "\n",
        "* Observe the changing values pf the classifier attributes: `coef_` and `intercept_` which we are printing in each iteration."
      ],
      "metadata": {
        "id": "fvDj_QjRCiC3"
      }
    },
    {
      "cell_type": "code",
      "source": [
        "test_score = clf2.score(xtest, ytest)\n",
        "print(\"Test score: \", test_score)"
      ],
      "metadata": {
        "colab": {
          "base_uri": "https://localhost:8080/"
        },
        "id": "RXvhgqxmmd_S",
        "outputId": "6b595c83-43d4-4182-b946-26212137af99"
      },
      "execution_count": 17,
      "outputs": [
        {
          "output_type": "stream",
          "name": "stdout",
          "text": [
            "Test score:  0.9272\n"
          ]
        },
        {
          "output_type": "stream",
          "name": "stderr",
          "text": [
            "/usr/local/lib/python3.9/dist-packages/sklearn/base.py:439: UserWarning: X does not have valid feature names, but SGDClassifier was fitted with feature names\n",
            "  warnings.warn(\n"
          ]
        }
      ]
    },
    {
      "cell_type": "markdown",
      "source": [
        "Let's evaluate the classifier by examining the  `confusion_matrix`."
      ],
      "metadata": {
        "id": "4uZPeOVSTCwL"
      }
    },
    {
      "cell_type": "code",
      "source": [
        "ypred = clf2.predict(xtest)\n",
        "cm = confusion_matrix(ytest, ypred)\n",
        "print(cm) "
      ],
      "metadata": {
        "colab": {
          "base_uri": "https://localhost:8080/"
        },
        "id": "UllH5uoVmkAn",
        "outputId": "06797bb8-31c4-45af-de90-69aae79e361a"
      },
      "execution_count": 18,
      "outputs": [
        {
          "output_type": "stream",
          "name": "stdout",
          "text": [
            "[[2285   24  152]\n",
            " [  46 2350   71]\n",
            " [  87  166 2319]]\n"
          ]
        },
        {
          "output_type": "stream",
          "name": "stderr",
          "text": [
            "/usr/local/lib/python3.9/dist-packages/sklearn/base.py:439: UserWarning: X does not have valid feature names, but SGDClassifier was fitted with feature names\n",
            "  warnings.warn(\n"
          ]
        }
      ]
    },
    {
      "cell_type": "code",
      "source": [
        "cr = classification_report(ytest, ypred)\n",
        "print(cr) "
      ],
      "metadata": {
        "colab": {
          "base_uri": "https://localhost:8080/"
        },
        "id": "42MCnWnpmo8h",
        "outputId": "06566413-eff7-483e-ddd7-dc625d671e5e"
      },
      "execution_count": 19,
      "outputs": [
        {
          "output_type": "stream",
          "name": "stdout",
          "text": [
            "              precision    recall  f1-score   support\n",
            "\n",
            "           0       0.94      0.93      0.94      2461\n",
            "           1       0.93      0.95      0.94      2467\n",
            "           2       0.91      0.90      0.91      2572\n",
            "\n",
            "    accuracy                           0.93      7500\n",
            "   macro avg       0.93      0.93      0.93      7500\n",
            "weighted avg       0.93      0.93      0.93      7500\n",
            "\n"
          ]
        }
      ]
    },
    {
      "cell_type": "markdown",
      "source": [
        "Apart from `SGDClassifier`, we can also train `Perceptron()`, `MultinomialNB()` and `BernoulliNB()` in a similar manner."
      ],
      "metadata": {
        "id": "evx_DJDO2zth"
      }
    },
    {
      "cell_type": "markdown",
      "source": [
        "\n",
        "\n",
        "---\n",
        "\n"
      ],
      "metadata": {
        "id": "MGx6UEO2wya6"
      }
    },
    {
      "cell_type": "markdown",
      "source": [
        "# **Incremental Preprocessing Example**"
      ],
      "metadata": {
        "id": "xzhTcLLiwzXn"
      }
    },
    {
      "cell_type": "markdown",
      "source": [
        "## `CountVectorizer` vs `HashingVectorizer`"
      ],
      "metadata": {
        "id": "yoIeBxMixOna"
      }
    },
    {
      "cell_type": "markdown",
      "source": [
        "Vectorizers are used to convert a collection of text documents to a vector representation, thus helping in preprocessing them before applying any model on these text documents. \n",
        "\n",
        "`CountVectorizer` and `HashingVectorizer` both perform the task of vectorizing the text documents. However, there are some differences among them. \n",
        "\n",
        "\n",
        "One difference is that `HashingVectorizer` does not store the resulting vocabulary (i.e. the unique tokens). Hence, it can be used to learn from data that does not fit into the computer’s main memory. Each mini-batch is vectorized using `HashingVectorizer` so as to guarantee that the input space of the estimator has always the same dimensionality."
      ],
      "metadata": {
        "id": "yjFzAuqfxlOh"
      }
    },
    {
      "cell_type": "markdown",
      "source": [
        "With `HashingVectorizer`, each token directly maps to a pre-defined column position in a matrix. For example, if there are 100 columns in the resultant (vectorized) matrix, each token (word) maps to 1 of the 100 columns. The mapping between the word and the position in matrix is done using hashing. "
      ],
      "metadata": {
        "id": "WCcCVR6K19Rx"
      }
    },
    {
      "cell_type": "markdown",
      "source": [
        "In other words, in `HashingVectorizer`, each token transforms to a column position instead of adding to the vocabulary. Not storing the vocabulary is useful while handling large data sets. This is because holding a huge token vocabulary comprising of millions of words may be a challenege when the memory is limited.\n",
        "\n",
        "Since `HashingVectorizer` does not store vocabulary, its object not only takes lesser space, it also alleviates any dependence with function calls performed on the previous chunk of data in case of incremental learning."
      ],
      "metadata": {
        "id": "lb9f0fru19Ue"
      }
    },
    {
      "cell_type": "markdown",
      "source": [
        "###Example\n",
        "\n",
        "Let us take some sample text documents and vectorize them, first using CountVectorizer and then HashingVectorizer."
      ],
      "metadata": {
        "id": "_u0ARuZe5ygv"
      }
    },
    {
      "cell_type": "code",
      "source": [
        "text_documents = ['The well-known saying an apple a day keeps the doctor away has a very straightforward, literal meaning, that the eating of fruit maintains good health.',\n",
        "                  'The proverb first appeared in print in 1866 and over 150 years later is advice that we still pass down through generations.', \n",
        "                  'British apples are one of the nations best loved fruit and according to Great British Apples, we consume around 122,000 tonnes of them each year.', \n",
        "                  'But what are the health benefits, and do they really keep the doctor away?']\n"
      ],
      "metadata": {
        "id": "SSN105bw6XLH"
      },
      "execution_count": 20,
      "outputs": []
    },
    {
      "cell_type": "markdown",
      "source": [
        "### 1. CountVectorizer"
      ],
      "metadata": {
        "id": "WWzPqfr_i88f"
      }
    },
    {
      "cell_type": "markdown",
      "source": [
        "We will first import the library and then create an object of CountVectorizer class. "
      ],
      "metadata": {
        "id": "IVMDp352-2ZP"
      }
    },
    {
      "cell_type": "code",
      "source": [
        "from sklearn.feature_extraction.text import CountVectorizer\n",
        "c_vectorizer = CountVectorizer()"
      ],
      "metadata": {
        "id": "DEKgS7uq7zEb"
      },
      "execution_count": 21,
      "outputs": []
    },
    {
      "cell_type": "markdown",
      "source": [
        "We will now use this object to vectorize the input text documents using the function `fit_transform()`."
      ],
      "metadata": {
        "id": "HBo98hT4hhBO"
      }
    },
    {
      "cell_type": "code",
      "source": [
        "X_c = c_vectorizer.fit_transform(text_documents)"
      ],
      "metadata": {
        "id": "H71qYbPqheQQ"
      },
      "execution_count": 22,
      "outputs": []
    },
    {
      "cell_type": "code",
      "source": [
        "X_c.shape"
      ],
      "metadata": {
        "colab": {
          "base_uri": "https://localhost:8080/"
        },
        "id": "e263nl_z76Q6",
        "outputId": "80584d62-748a-45bd-8b6c-be4b1c02c7aa"
      },
      "execution_count": 23,
      "outputs": [
        {
          "output_type": "execute_result",
          "data": {
            "text/plain": [
              "(4, 66)"
            ]
          },
          "metadata": {},
          "execution_count": 23
        }
      ]
    },
    {
      "cell_type": "markdown",
      "source": [
        "Here, 66 is the size of the vocabulary.\n",
        "\n",
        "We can also see the volcabulary using `vocabulary_` attribute.\n"
      ],
      "metadata": {
        "id": "6Fk8mHFe_8bz"
      }
    },
    {
      "cell_type": "code",
      "source": [
        "c_vectorizer.vocabulary_"
      ],
      "metadata": {
        "colab": {
          "base_uri": "https://localhost:8080/"
        },
        "id": "it0xdVwv8JBq",
        "outputId": "15be6510-d25a-47d9-c6f0-3e47fdbc96d0"
      },
      "execution_count": 24,
      "outputs": [
        {
          "output_type": "execute_result",
          "data": {
            "text/plain": [
              "{'the': 54,\n",
              " 'well': 62,\n",
              " 'known': 36,\n",
              " 'saying': 50,\n",
              " 'an': 6,\n",
              " 'apple': 9,\n",
              " 'day': 19,\n",
              " 'keeps': 35,\n",
              " 'doctor': 21,\n",
              " 'away': 13,\n",
              " 'has': 30,\n",
              " 'very': 60,\n",
              " 'straightforward': 52,\n",
              " 'literal': 38,\n",
              " 'meaning': 41,\n",
              " 'that': 53,\n",
              " 'eating': 24,\n",
              " 'of': 43,\n",
              " 'fruit': 26,\n",
              " 'maintains': 40,\n",
              " 'good': 28,\n",
              " 'health': 31,\n",
              " 'proverb': 48,\n",
              " 'first': 25,\n",
              " 'appeared': 8,\n",
              " 'in': 32,\n",
              " 'print': 47,\n",
              " '1866': 3,\n",
              " 'and': 7,\n",
              " 'over': 45,\n",
              " '150': 2,\n",
              " 'years': 65,\n",
              " 'later': 37,\n",
              " 'is': 33,\n",
              " 'advice': 5,\n",
              " 'we': 61,\n",
              " 'still': 51,\n",
              " 'pass': 46,\n",
              " 'down': 22,\n",
              " 'through': 57,\n",
              " 'generations': 27,\n",
              " 'british': 16,\n",
              " 'apples': 10,\n",
              " 'are': 11,\n",
              " 'one': 44,\n",
              " 'nations': 42,\n",
              " 'best': 15,\n",
              " 'loved': 39,\n",
              " 'according': 4,\n",
              " 'to': 58,\n",
              " 'great': 29,\n",
              " 'consume': 18,\n",
              " 'around': 12,\n",
              " '122': 1,\n",
              " '000': 0,\n",
              " 'tonnes': 59,\n",
              " 'them': 55,\n",
              " 'each': 23,\n",
              " 'year': 64,\n",
              " 'but': 17,\n",
              " 'what': 63,\n",
              " 'benefits': 14,\n",
              " 'do': 20,\n",
              " 'they': 56,\n",
              " 'really': 49,\n",
              " 'keep': 34}"
            ]
          },
          "metadata": {},
          "execution_count": 24
        }
      ]
    },
    {
      "cell_type": "markdown",
      "source": [
        "Following is the representation of four text documents."
      ],
      "metadata": {
        "id": "5o_PfRVjAYkI"
      }
    },
    {
      "cell_type": "code",
      "source": [
        "print(X_c)"
      ],
      "metadata": {
        "colab": {
          "base_uri": "https://localhost:8080/"
        },
        "id": "0NQZBeWF8BrR",
        "outputId": "5f470523-b4d0-4d96-ce39-028e3a9a5f38"
      },
      "execution_count": 26,
      "outputs": [
        {
          "output_type": "stream",
          "name": "stdout",
          "text": [
            "  (0, 54)\t3\n",
            "  (0, 62)\t1\n",
            "  (0, 36)\t1\n",
            "  (0, 50)\t1\n",
            "  (0, 6)\t1\n",
            "  (0, 9)\t1\n",
            "  (0, 19)\t1\n",
            "  (0, 35)\t1\n",
            "  (0, 21)\t1\n",
            "  (0, 13)\t1\n",
            "  (0, 30)\t1\n",
            "  (0, 60)\t1\n",
            "  (0, 52)\t1\n",
            "  (0, 38)\t1\n",
            "  (0, 41)\t1\n",
            "  (0, 53)\t1\n",
            "  (0, 24)\t1\n",
            "  (0, 43)\t1\n",
            "  (0, 26)\t1\n",
            "  (0, 40)\t1\n",
            "  (0, 28)\t1\n",
            "  (0, 31)\t1\n",
            "  (1, 54)\t1\n",
            "  (1, 53)\t1\n",
            "  (1, 48)\t1\n",
            "  :\t:\n",
            "  (2, 39)\t1\n",
            "  (2, 4)\t1\n",
            "  (2, 58)\t1\n",
            "  (2, 29)\t1\n",
            "  (2, 18)\t1\n",
            "  (2, 12)\t1\n",
            "  (2, 1)\t1\n",
            "  (2, 0)\t1\n",
            "  (2, 59)\t1\n",
            "  (2, 55)\t1\n",
            "  (2, 23)\t1\n",
            "  (2, 64)\t1\n",
            "  (3, 54)\t2\n",
            "  (3, 21)\t1\n",
            "  (3, 13)\t1\n",
            "  (3, 31)\t1\n",
            "  (3, 7)\t1\n",
            "  (3, 11)\t1\n",
            "  (3, 17)\t1\n",
            "  (3, 63)\t1\n",
            "  (3, 14)\t1\n",
            "  (3, 20)\t1\n",
            "  (3, 56)\t1\n",
            "  (3, 49)\t1\n",
            "  (3, 34)\t1\n"
          ]
        }
      ]
    },
    {
      "cell_type": "markdown",
      "source": [
        "\n",
        "\n",
        "---\n",
        "\n",
        "### HashingVectorizer\n",
        "Let us now see how `HashingVectorizer` is different from `CountVectorizer`.\n",
        "\n",
        "We will create an object of HashingVectorizer. While creating the object, we need to specify the number of features we wish to have in the feature matrix. "
      ],
      "metadata": {
        "id": "EOL2K5R-hBAV"
      }
    },
    {
      "cell_type": "code",
      "source": [
        "from sklearn.feature_extraction.text import HashingVectorizer"
      ],
      "metadata": {
        "id": "k3-3ddNy4oYM"
      },
      "execution_count": 27,
      "outputs": []
    },
    {
      "cell_type": "markdown",
      "source": [
        "Let us create an object of `HashingVectorizer` class. An important parameter of this class is `n_features`. It declares the number of features (columns) in the output feature matrix. \n",
        "\n",
        "Note: Small numbers of features are likely to cause hash collisions, but large numbers will cause larger coefficient dimensions in linear learners."
      ],
      "metadata": {
        "id": "StgizkZVchF2"
      }
    },
    {
      "cell_type": "code",
      "source": [
        "h_vectorizer= HashingVectorizer(n_features=50) "
      ],
      "metadata": {
        "id": "PyLVRM_k8Q31"
      },
      "execution_count": 28,
      "outputs": []
    },
    {
      "cell_type": "markdown",
      "source": [
        "Let's perform hashing vectorization with `fit_transform`."
      ],
      "metadata": {
        "id": "GYToqg3HTzpH"
      }
    },
    {
      "cell_type": "code",
      "source": [
        "X_h = h_vectorizer.fit_transform(text_documents)\n"
      ],
      "metadata": {
        "id": "qxL3ibCk8mkk"
      },
      "execution_count": 29,
      "outputs": []
    },
    {
      "cell_type": "markdown",
      "source": [
        "Let us examine the shape of the transformed feature matrix. The number of columns in this matrix is equal to the `n_features` attribute we specified."
      ],
      "metadata": {
        "id": "FKTvDM0TT6Dw"
      }
    },
    {
      "cell_type": "code",
      "source": [
        "X_h.shape"
      ],
      "metadata": {
        "colab": {
          "base_uri": "https://localhost:8080/"
        },
        "id": "DxWPDdOr8o4P",
        "outputId": "1d618b28-2d0d-4a24-af84-1ca0eae35166"
      },
      "execution_count": 30,
      "outputs": [
        {
          "output_type": "execute_result",
          "data": {
            "text/plain": [
              "(4, 50)"
            ]
          },
          "metadata": {},
          "execution_count": 30
        }
      ]
    },
    {
      "cell_type": "markdown",
      "source": [
        "Let's print the representation of the first example."
      ],
      "metadata": {
        "id": "JGtpk01dUBwp"
      }
    },
    {
      "cell_type": "code",
      "source": [
        "print(X_h[0])"
      ],
      "metadata": {
        "colab": {
          "base_uri": "https://localhost:8080/"
        },
        "id": "nMRrrBAI8r0E",
        "outputId": "686ed201-80b4-472d-9e62-67c66b8f1ae8"
      },
      "execution_count": 31,
      "outputs": [
        {
          "output_type": "stream",
          "name": "stdout",
          "text": [
            "  (0, 5)\t0.0\n",
            "  (0, 8)\t-0.47140452079103173\n",
            "  (0, 10)\t-0.23570226039551587\n",
            "  (0, 11)\t-0.23570226039551587\n",
            "  (0, 13)\t0.0\n",
            "  (0, 18)\t-0.23570226039551587\n",
            "  (0, 20)\t0.23570226039551587\n",
            "  (0, 26)\t0.0\n",
            "  (0, 29)\t0.23570226039551587\n",
            "  (0, 33)\t0.23570226039551587\n",
            "  (0, 36)\t-0.23570226039551587\n",
            "  (0, 38)\t0.47140452079103173\n",
            "  (0, 39)\t-0.23570226039551587\n",
            "  (0, 45)\t-0.23570226039551587\n",
            "  (0, 46)\t0.23570226039551587\n"
          ]
        }
      ]
    },
    {
      "cell_type": "markdown",
      "source": [
        "Overall, `HashingVectorizer` is a good choice if we are falling short of memory and resources, or we need to perform incremental learning. However, `CountVectorizer` is a good choice if we need to access the actual tokens."
      ],
      "metadata": {
        "id": "OYrq7Zxy0GvQ"
      }
    },
    {
      "cell_type": "markdown",
      "source": [
        "\n",
        "\n",
        "---\n",
        "\n"
      ],
      "metadata": {
        "id": "11TZJOBr19cO"
      }
    },
    {
      "cell_type": "markdown",
      "source": [
        "#**Combining preprocessing and fitting in Incremental Learning**\n",
        "\n",
        "###(`HashingVectorizer` along with `SGDClassifier`)"
      ],
      "metadata": {
        "id": "UXnSmCop9cQs"
      }
    },
    {
      "cell_type": "markdown",
      "source": [
        "\n",
        "\n",
        "We will now use a dataset containing a textual feature that requires preprocessing using a vectorizer. Since we wish to perform incremental learning using `partial_fit()`, we will preprocess (i.e., vectorize) the dataset feature using `HashingVectorizer` and then we will incrementally fit it. "
      ],
      "metadata": {
        "id": "ePshEoxdoUy4"
      }
    },
    {
      "cell_type": "markdown",
      "source": [
        "### 1. Downloading the dataset\n",
        "\n",
        "Below, we download a dataset from UCI ML datasets' library. (Instead of downloading, unzipping and then reading, we are directly reading the zipped csv file. For that purpose, we are making use of `urllib.request`, `BytesIO` and `TextIOWrapper` classes.)\n",
        "\n",
        "This is a sentiment analysis dataset. There are only two columns in the dataset. One for the textual review and the other for the sentiment."
      ],
      "metadata": {
        "id": "tpuqo-ItrzeE"
      }
    },
    {
      "cell_type": "code",
      "execution_count": 32,
      "metadata": {
        "id": "YC1GLaKtgpIG"
      },
      "outputs": [],
      "source": [
        "import pandas as pd\n",
        "from io import StringIO, BytesIO, TextIOWrapper\n",
        "from zipfile import ZipFile\n",
        "import urllib.request\n",
        "\n",
        "resp = urllib.request.urlopen('https://archive.ics.uci.edu/ml/machine-learning-databases/00331/sentiment%20labelled%20sentences.zip')\n",
        "zipfile = ZipFile(BytesIO(resp.read()))\n",
        "\n",
        "data = TextIOWrapper(zipfile.open('sentiment labelled sentences/amazon_cells_labelled.txt'), encoding='utf-8')\n",
        "\n",
        "df = pd.read_csv(data, sep = '\\t')\n",
        "df.columns = ['review', 'sentiment']"
      ]
    },
    {
      "cell_type": "markdown",
      "source": [
        "##2. Exploring the data set."
      ],
      "metadata": {
        "id": "F9e8KHH7uwZP"
      }
    },
    {
      "cell_type": "markdown",
      "source": [
        "Let's explore the dataset a bit."
      ],
      "metadata": {
        "id": "nNUKX--iuFr8"
      }
    },
    {
      "cell_type": "code",
      "source": [
        "df.head()"
      ],
      "metadata": {
        "colab": {
          "base_uri": "https://localhost:8080/",
          "height": 206
        },
        "id": "rtDjBulzgyC3",
        "outputId": "97906ceb-c501-4f1d-bf26-fe285d0cf8a9"
      },
      "execution_count": 33,
      "outputs": [
        {
          "output_type": "execute_result",
          "data": {
            "text/plain": [
              "                                              review  sentiment\n",
              "0                        Good case, Excellent value.          1\n",
              "1                             Great for the jawbone.          1\n",
              "2  Tied to charger for conversations lasting more...          0\n",
              "3                                  The mic is great.          1\n",
              "4  I have to jiggle the plug to get it to line up...          0"
            ],
            "text/html": [
              "\n",
              "  <div id=\"df-d09f5b35-4c4a-457d-902a-8d30f46b1e6d\">\n",
              "    <div class=\"colab-df-container\">\n",
              "      <div>\n",
              "<style scoped>\n",
              "    .dataframe tbody tr th:only-of-type {\n",
              "        vertical-align: middle;\n",
              "    }\n",
              "\n",
              "    .dataframe tbody tr th {\n",
              "        vertical-align: top;\n",
              "    }\n",
              "\n",
              "    .dataframe thead th {\n",
              "        text-align: right;\n",
              "    }\n",
              "</style>\n",
              "<table border=\"1\" class=\"dataframe\">\n",
              "  <thead>\n",
              "    <tr style=\"text-align: right;\">\n",
              "      <th></th>\n",
              "      <th>review</th>\n",
              "      <th>sentiment</th>\n",
              "    </tr>\n",
              "  </thead>\n",
              "  <tbody>\n",
              "    <tr>\n",
              "      <th>0</th>\n",
              "      <td>Good case, Excellent value.</td>\n",
              "      <td>1</td>\n",
              "    </tr>\n",
              "    <tr>\n",
              "      <th>1</th>\n",
              "      <td>Great for the jawbone.</td>\n",
              "      <td>1</td>\n",
              "    </tr>\n",
              "    <tr>\n",
              "      <th>2</th>\n",
              "      <td>Tied to charger for conversations lasting more...</td>\n",
              "      <td>0</td>\n",
              "    </tr>\n",
              "    <tr>\n",
              "      <th>3</th>\n",
              "      <td>The mic is great.</td>\n",
              "      <td>1</td>\n",
              "    </tr>\n",
              "    <tr>\n",
              "      <th>4</th>\n",
              "      <td>I have to jiggle the plug to get it to line up...</td>\n",
              "      <td>0</td>\n",
              "    </tr>\n",
              "  </tbody>\n",
              "</table>\n",
              "</div>\n",
              "      <button class=\"colab-df-convert\" onclick=\"convertToInteractive('df-d09f5b35-4c4a-457d-902a-8d30f46b1e6d')\"\n",
              "              title=\"Convert this dataframe to an interactive table.\"\n",
              "              style=\"display:none;\">\n",
              "        \n",
              "  <svg xmlns=\"http://www.w3.org/2000/svg\" height=\"24px\"viewBox=\"0 0 24 24\"\n",
              "       width=\"24px\">\n",
              "    <path d=\"M0 0h24v24H0V0z\" fill=\"none\"/>\n",
              "    <path d=\"M18.56 5.44l.94 2.06.94-2.06 2.06-.94-2.06-.94-.94-2.06-.94 2.06-2.06.94zm-11 1L8.5 8.5l.94-2.06 2.06-.94-2.06-.94L8.5 2.5l-.94 2.06-2.06.94zm10 10l.94 2.06.94-2.06 2.06-.94-2.06-.94-.94-2.06-.94 2.06-2.06.94z\"/><path d=\"M17.41 7.96l-1.37-1.37c-.4-.4-.92-.59-1.43-.59-.52 0-1.04.2-1.43.59L10.3 9.45l-7.72 7.72c-.78.78-.78 2.05 0 2.83L4 21.41c.39.39.9.59 1.41.59.51 0 1.02-.2 1.41-.59l7.78-7.78 2.81-2.81c.8-.78.8-2.07 0-2.86zM5.41 20L4 18.59l7.72-7.72 1.47 1.35L5.41 20z\"/>\n",
              "  </svg>\n",
              "      </button>\n",
              "      \n",
              "  <style>\n",
              "    .colab-df-container {\n",
              "      display:flex;\n",
              "      flex-wrap:wrap;\n",
              "      gap: 12px;\n",
              "    }\n",
              "\n",
              "    .colab-df-convert {\n",
              "      background-color: #E8F0FE;\n",
              "      border: none;\n",
              "      border-radius: 50%;\n",
              "      cursor: pointer;\n",
              "      display: none;\n",
              "      fill: #1967D2;\n",
              "      height: 32px;\n",
              "      padding: 0 0 0 0;\n",
              "      width: 32px;\n",
              "    }\n",
              "\n",
              "    .colab-df-convert:hover {\n",
              "      background-color: #E2EBFA;\n",
              "      box-shadow: 0px 1px 2px rgba(60, 64, 67, 0.3), 0px 1px 3px 1px rgba(60, 64, 67, 0.15);\n",
              "      fill: #174EA6;\n",
              "    }\n",
              "\n",
              "    [theme=dark] .colab-df-convert {\n",
              "      background-color: #3B4455;\n",
              "      fill: #D2E3FC;\n",
              "    }\n",
              "\n",
              "    [theme=dark] .colab-df-convert:hover {\n",
              "      background-color: #434B5C;\n",
              "      box-shadow: 0px 1px 3px 1px rgba(0, 0, 0, 0.15);\n",
              "      filter: drop-shadow(0px 1px 2px rgba(0, 0, 0, 0.3));\n",
              "      fill: #FFFFFF;\n",
              "    }\n",
              "  </style>\n",
              "\n",
              "      <script>\n",
              "        const buttonEl =\n",
              "          document.querySelector('#df-d09f5b35-4c4a-457d-902a-8d30f46b1e6d button.colab-df-convert');\n",
              "        buttonEl.style.display =\n",
              "          google.colab.kernel.accessAllowed ? 'block' : 'none';\n",
              "\n",
              "        async function convertToInteractive(key) {\n",
              "          const element = document.querySelector('#df-d09f5b35-4c4a-457d-902a-8d30f46b1e6d');\n",
              "          const dataTable =\n",
              "            await google.colab.kernel.invokeFunction('convertToInteractive',\n",
              "                                                     [key], {});\n",
              "          if (!dataTable) return;\n",
              "\n",
              "          const docLinkHtml = 'Like what you see? Visit the ' +\n",
              "            '<a target=\"_blank\" href=https://colab.research.google.com/notebooks/data_table.ipynb>data table notebook</a>'\n",
              "            + ' to learn more about interactive tables.';\n",
              "          element.innerHTML = '';\n",
              "          dataTable['output_type'] = 'display_data';\n",
              "          await google.colab.output.renderOutput(dataTable, element);\n",
              "          const docLink = document.createElement('div');\n",
              "          docLink.innerHTML = docLinkHtml;\n",
              "          element.appendChild(docLink);\n",
              "        }\n",
              "      </script>\n",
              "    </div>\n",
              "  </div>\n",
              "  "
            ]
          },
          "metadata": {},
          "execution_count": 33
        }
      ]
    },
    {
      "cell_type": "code",
      "source": [
        "df.tail()"
      ],
      "metadata": {
        "colab": {
          "base_uri": "https://localhost:8080/",
          "height": 206
        },
        "id": "3rHSVfyZgzyW",
        "outputId": "c6164687-19f5-4041-be85-abff27552ce0"
      },
      "execution_count": 34,
      "outputs": [
        {
          "output_type": "execute_result",
          "data": {
            "text/plain": [
              "                                                review  sentiment\n",
              "994  The screen does get smudged easily because it ...          0\n",
              "995  What a piece of junk.. I lose more calls on th...          0\n",
              "996                       Item Does Not Match Picture.          0\n",
              "997  The only thing that disappoint me is the infra...          0\n",
              "998  You can not answer calls with the unit, never ...          0"
            ],
            "text/html": [
              "\n",
              "  <div id=\"df-41688b99-eebe-4709-9bf3-3728b6e10061\">\n",
              "    <div class=\"colab-df-container\">\n",
              "      <div>\n",
              "<style scoped>\n",
              "    .dataframe tbody tr th:only-of-type {\n",
              "        vertical-align: middle;\n",
              "    }\n",
              "\n",
              "    .dataframe tbody tr th {\n",
              "        vertical-align: top;\n",
              "    }\n",
              "\n",
              "    .dataframe thead th {\n",
              "        text-align: right;\n",
              "    }\n",
              "</style>\n",
              "<table border=\"1\" class=\"dataframe\">\n",
              "  <thead>\n",
              "    <tr style=\"text-align: right;\">\n",
              "      <th></th>\n",
              "      <th>review</th>\n",
              "      <th>sentiment</th>\n",
              "    </tr>\n",
              "  </thead>\n",
              "  <tbody>\n",
              "    <tr>\n",
              "      <th>994</th>\n",
              "      <td>The screen does get smudged easily because it ...</td>\n",
              "      <td>0</td>\n",
              "    </tr>\n",
              "    <tr>\n",
              "      <th>995</th>\n",
              "      <td>What a piece of junk.. I lose more calls on th...</td>\n",
              "      <td>0</td>\n",
              "    </tr>\n",
              "    <tr>\n",
              "      <th>996</th>\n",
              "      <td>Item Does Not Match Picture.</td>\n",
              "      <td>0</td>\n",
              "    </tr>\n",
              "    <tr>\n",
              "      <th>997</th>\n",
              "      <td>The only thing that disappoint me is the infra...</td>\n",
              "      <td>0</td>\n",
              "    </tr>\n",
              "    <tr>\n",
              "      <th>998</th>\n",
              "      <td>You can not answer calls with the unit, never ...</td>\n",
              "      <td>0</td>\n",
              "    </tr>\n",
              "  </tbody>\n",
              "</table>\n",
              "</div>\n",
              "      <button class=\"colab-df-convert\" onclick=\"convertToInteractive('df-41688b99-eebe-4709-9bf3-3728b6e10061')\"\n",
              "              title=\"Convert this dataframe to an interactive table.\"\n",
              "              style=\"display:none;\">\n",
              "        \n",
              "  <svg xmlns=\"http://www.w3.org/2000/svg\" height=\"24px\"viewBox=\"0 0 24 24\"\n",
              "       width=\"24px\">\n",
              "    <path d=\"M0 0h24v24H0V0z\" fill=\"none\"/>\n",
              "    <path d=\"M18.56 5.44l.94 2.06.94-2.06 2.06-.94-2.06-.94-.94-2.06-.94 2.06-2.06.94zm-11 1L8.5 8.5l.94-2.06 2.06-.94-2.06-.94L8.5 2.5l-.94 2.06-2.06.94zm10 10l.94 2.06.94-2.06 2.06-.94-2.06-.94-.94-2.06-.94 2.06-2.06.94z\"/><path d=\"M17.41 7.96l-1.37-1.37c-.4-.4-.92-.59-1.43-.59-.52 0-1.04.2-1.43.59L10.3 9.45l-7.72 7.72c-.78.78-.78 2.05 0 2.83L4 21.41c.39.39.9.59 1.41.59.51 0 1.02-.2 1.41-.59l7.78-7.78 2.81-2.81c.8-.78.8-2.07 0-2.86zM5.41 20L4 18.59l7.72-7.72 1.47 1.35L5.41 20z\"/>\n",
              "  </svg>\n",
              "      </button>\n",
              "      \n",
              "  <style>\n",
              "    .colab-df-container {\n",
              "      display:flex;\n",
              "      flex-wrap:wrap;\n",
              "      gap: 12px;\n",
              "    }\n",
              "\n",
              "    .colab-df-convert {\n",
              "      background-color: #E8F0FE;\n",
              "      border: none;\n",
              "      border-radius: 50%;\n",
              "      cursor: pointer;\n",
              "      display: none;\n",
              "      fill: #1967D2;\n",
              "      height: 32px;\n",
              "      padding: 0 0 0 0;\n",
              "      width: 32px;\n",
              "    }\n",
              "\n",
              "    .colab-df-convert:hover {\n",
              "      background-color: #E2EBFA;\n",
              "      box-shadow: 0px 1px 2px rgba(60, 64, 67, 0.3), 0px 1px 3px 1px rgba(60, 64, 67, 0.15);\n",
              "      fill: #174EA6;\n",
              "    }\n",
              "\n",
              "    [theme=dark] .colab-df-convert {\n",
              "      background-color: #3B4455;\n",
              "      fill: #D2E3FC;\n",
              "    }\n",
              "\n",
              "    [theme=dark] .colab-df-convert:hover {\n",
              "      background-color: #434B5C;\n",
              "      box-shadow: 0px 1px 3px 1px rgba(0, 0, 0, 0.15);\n",
              "      filter: drop-shadow(0px 1px 2px rgba(0, 0, 0, 0.3));\n",
              "      fill: #FFFFFF;\n",
              "    }\n",
              "  </style>\n",
              "\n",
              "      <script>\n",
              "        const buttonEl =\n",
              "          document.querySelector('#df-41688b99-eebe-4709-9bf3-3728b6e10061 button.colab-df-convert');\n",
              "        buttonEl.style.display =\n",
              "          google.colab.kernel.accessAllowed ? 'block' : 'none';\n",
              "\n",
              "        async function convertToInteractive(key) {\n",
              "          const element = document.querySelector('#df-41688b99-eebe-4709-9bf3-3728b6e10061');\n",
              "          const dataTable =\n",
              "            await google.colab.kernel.invokeFunction('convertToInteractive',\n",
              "                                                     [key], {});\n",
              "          if (!dataTable) return;\n",
              "\n",
              "          const docLinkHtml = 'Like what you see? Visit the ' +\n",
              "            '<a target=\"_blank\" href=https://colab.research.google.com/notebooks/data_table.ipynb>data table notebook</a>'\n",
              "            + ' to learn more about interactive tables.';\n",
              "          element.innerHTML = '';\n",
              "          dataTable['output_type'] = 'display_data';\n",
              "          await google.colab.output.renderOutput(dataTable, element);\n",
              "          const docLink = document.createElement('div');\n",
              "          docLink.innerHTML = docLinkHtml;\n",
              "          element.appendChild(docLink);\n",
              "        }\n",
              "      </script>\n",
              "    </div>\n",
              "  </div>\n",
              "  "
            ]
          },
          "metadata": {},
          "execution_count": 34
        }
      ]
    },
    {
      "cell_type": "code",
      "source": [
        "df.info()"
      ],
      "metadata": {
        "colab": {
          "base_uri": "https://localhost:8080/"
        },
        "id": "uy9iYmn5g1ax",
        "outputId": "b47313a9-db47-4e3b-cf7b-52cd58bf0f37"
      },
      "execution_count": 35,
      "outputs": [
        {
          "output_type": "stream",
          "name": "stdout",
          "text": [
            "<class 'pandas.core.frame.DataFrame'>\n",
            "RangeIndex: 999 entries, 0 to 998\n",
            "Data columns (total 2 columns):\n",
            " #   Column     Non-Null Count  Dtype \n",
            "---  ------     --------------  ----- \n",
            " 0   review     999 non-null    object\n",
            " 1   sentiment  999 non-null    int64 \n",
            "dtypes: int64(1), object(1)\n",
            "memory usage: 15.7+ KB\n"
          ]
        }
      ]
    },
    {
      "cell_type": "code",
      "source": [
        "df.describe()"
      ],
      "metadata": {
        "colab": {
          "base_uri": "https://localhost:8080/",
          "height": 300
        },
        "id": "IUMKr24eg3-E",
        "outputId": "ff015276-38ac-4b14-8d76-7c4bd3e417f6"
      },
      "execution_count": 36,
      "outputs": [
        {
          "output_type": "execute_result",
          "data": {
            "text/plain": [
              "        sentiment\n",
              "count  999.000000\n",
              "mean     0.500501\n",
              "std      0.500250\n",
              "min      0.000000\n",
              "25%      0.000000\n",
              "50%      1.000000\n",
              "75%      1.000000\n",
              "max      1.000000"
            ],
            "text/html": [
              "\n",
              "  <div id=\"df-e1f96289-be73-4e6b-91a6-ffcab4058c16\">\n",
              "    <div class=\"colab-df-container\">\n",
              "      <div>\n",
              "<style scoped>\n",
              "    .dataframe tbody tr th:only-of-type {\n",
              "        vertical-align: middle;\n",
              "    }\n",
              "\n",
              "    .dataframe tbody tr th {\n",
              "        vertical-align: top;\n",
              "    }\n",
              "\n",
              "    .dataframe thead th {\n",
              "        text-align: right;\n",
              "    }\n",
              "</style>\n",
              "<table border=\"1\" class=\"dataframe\">\n",
              "  <thead>\n",
              "    <tr style=\"text-align: right;\">\n",
              "      <th></th>\n",
              "      <th>sentiment</th>\n",
              "    </tr>\n",
              "  </thead>\n",
              "  <tbody>\n",
              "    <tr>\n",
              "      <th>count</th>\n",
              "      <td>999.000000</td>\n",
              "    </tr>\n",
              "    <tr>\n",
              "      <th>mean</th>\n",
              "      <td>0.500501</td>\n",
              "    </tr>\n",
              "    <tr>\n",
              "      <th>std</th>\n",
              "      <td>0.500250</td>\n",
              "    </tr>\n",
              "    <tr>\n",
              "      <th>min</th>\n",
              "      <td>0.000000</td>\n",
              "    </tr>\n",
              "    <tr>\n",
              "      <th>25%</th>\n",
              "      <td>0.000000</td>\n",
              "    </tr>\n",
              "    <tr>\n",
              "      <th>50%</th>\n",
              "      <td>1.000000</td>\n",
              "    </tr>\n",
              "    <tr>\n",
              "      <th>75%</th>\n",
              "      <td>1.000000</td>\n",
              "    </tr>\n",
              "    <tr>\n",
              "      <th>max</th>\n",
              "      <td>1.000000</td>\n",
              "    </tr>\n",
              "  </tbody>\n",
              "</table>\n",
              "</div>\n",
              "      <button class=\"colab-df-convert\" onclick=\"convertToInteractive('df-e1f96289-be73-4e6b-91a6-ffcab4058c16')\"\n",
              "              title=\"Convert this dataframe to an interactive table.\"\n",
              "              style=\"display:none;\">\n",
              "        \n",
              "  <svg xmlns=\"http://www.w3.org/2000/svg\" height=\"24px\"viewBox=\"0 0 24 24\"\n",
              "       width=\"24px\">\n",
              "    <path d=\"M0 0h24v24H0V0z\" fill=\"none\"/>\n",
              "    <path d=\"M18.56 5.44l.94 2.06.94-2.06 2.06-.94-2.06-.94-.94-2.06-.94 2.06-2.06.94zm-11 1L8.5 8.5l.94-2.06 2.06-.94-2.06-.94L8.5 2.5l-.94 2.06-2.06.94zm10 10l.94 2.06.94-2.06 2.06-.94-2.06-.94-.94-2.06-.94 2.06-2.06.94z\"/><path d=\"M17.41 7.96l-1.37-1.37c-.4-.4-.92-.59-1.43-.59-.52 0-1.04.2-1.43.59L10.3 9.45l-7.72 7.72c-.78.78-.78 2.05 0 2.83L4 21.41c.39.39.9.59 1.41.59.51 0 1.02-.2 1.41-.59l7.78-7.78 2.81-2.81c.8-.78.8-2.07 0-2.86zM5.41 20L4 18.59l7.72-7.72 1.47 1.35L5.41 20z\"/>\n",
              "  </svg>\n",
              "      </button>\n",
              "      \n",
              "  <style>\n",
              "    .colab-df-container {\n",
              "      display:flex;\n",
              "      flex-wrap:wrap;\n",
              "      gap: 12px;\n",
              "    }\n",
              "\n",
              "    .colab-df-convert {\n",
              "      background-color: #E8F0FE;\n",
              "      border: none;\n",
              "      border-radius: 50%;\n",
              "      cursor: pointer;\n",
              "      display: none;\n",
              "      fill: #1967D2;\n",
              "      height: 32px;\n",
              "      padding: 0 0 0 0;\n",
              "      width: 32px;\n",
              "    }\n",
              "\n",
              "    .colab-df-convert:hover {\n",
              "      background-color: #E2EBFA;\n",
              "      box-shadow: 0px 1px 2px rgba(60, 64, 67, 0.3), 0px 1px 3px 1px rgba(60, 64, 67, 0.15);\n",
              "      fill: #174EA6;\n",
              "    }\n",
              "\n",
              "    [theme=dark] .colab-df-convert {\n",
              "      background-color: #3B4455;\n",
              "      fill: #D2E3FC;\n",
              "    }\n",
              "\n",
              "    [theme=dark] .colab-df-convert:hover {\n",
              "      background-color: #434B5C;\n",
              "      box-shadow: 0px 1px 3px 1px rgba(0, 0, 0, 0.15);\n",
              "      filter: drop-shadow(0px 1px 2px rgba(0, 0, 0, 0.3));\n",
              "      fill: #FFFFFF;\n",
              "    }\n",
              "  </style>\n",
              "\n",
              "      <script>\n",
              "        const buttonEl =\n",
              "          document.querySelector('#df-e1f96289-be73-4e6b-91a6-ffcab4058c16 button.colab-df-convert');\n",
              "        buttonEl.style.display =\n",
              "          google.colab.kernel.accessAllowed ? 'block' : 'none';\n",
              "\n",
              "        async function convertToInteractive(key) {\n",
              "          const element = document.querySelector('#df-e1f96289-be73-4e6b-91a6-ffcab4058c16');\n",
              "          const dataTable =\n",
              "            await google.colab.kernel.invokeFunction('convertToInteractive',\n",
              "                                                     [key], {});\n",
              "          if (!dataTable) return;\n",
              "\n",
              "          const docLinkHtml = 'Like what you see? Visit the ' +\n",
              "            '<a target=\"_blank\" href=https://colab.research.google.com/notebooks/data_table.ipynb>data table notebook</a>'\n",
              "            + ' to learn more about interactive tables.';\n",
              "          element.innerHTML = '';\n",
              "          dataTable['output_type'] = 'display_data';\n",
              "          await google.colab.output.renderOutput(dataTable, element);\n",
              "          const docLink = document.createElement('div');\n",
              "          docLink.innerHTML = docLinkHtml;\n",
              "          element.appendChild(docLink);\n",
              "        }\n",
              "      </script>\n",
              "    </div>\n",
              "  </div>\n",
              "  "
            ]
          },
          "metadata": {},
          "execution_count": 36
        }
      ]
    },
    {
      "cell_type": "code",
      "source": [
        "df.loc[:, 'sentiment'].unique()"
      ],
      "metadata": {
        "colab": {
          "base_uri": "https://localhost:8080/"
        },
        "id": "NZ3ucClIuVwQ",
        "outputId": "1dd1d971-338c-4417-e19f-6d5e565a941f"
      },
      "execution_count": 37,
      "outputs": [
        {
          "output_type": "execute_result",
          "data": {
            "text/plain": [
              "array([1, 0])"
            ]
          },
          "metadata": {},
          "execution_count": 37
        }
      ]
    },
    {
      "cell_type": "markdown",
      "source": [
        "As we can see, \n",
        "- There are 999 samples in the dataset. \n",
        "- The possible classes for sentiment are 1 and 0."
      ],
      "metadata": {
        "id": "l9MedU1SuMAN"
      }
    },
    {
      "cell_type": "markdown",
      "source": [
        "##4. Splitting data into train and test"
      ],
      "metadata": {
        "id": "DDmROb6tvLtU"
      }
    },
    {
      "cell_type": "code",
      "source": [
        "from sklearn.model_selection import train_test_split"
      ],
      "metadata": {
        "id": "TJhP7_DOvPIR"
      },
      "execution_count": 38,
      "outputs": []
    },
    {
      "cell_type": "code",
      "source": [
        "X = df.loc[:, 'review']"
      ],
      "metadata": {
        "id": "rxv-Eaq6iDR-"
      },
      "execution_count": 39,
      "outputs": []
    },
    {
      "cell_type": "code",
      "source": [
        "y= df.loc[:, 'sentiment']"
      ],
      "metadata": {
        "id": "vkQUEKLYiHb6"
      },
      "execution_count": 40,
      "outputs": []
    },
    {
      "cell_type": "code",
      "source": [
        "X_train, X_test, y_train, y_test = train_test_split(X, y, test_size = 0.2)"
      ],
      "metadata": {
        "id": "J_5oPFxPh708"
      },
      "execution_count": 41,
      "outputs": []
    },
    {
      "cell_type": "code",
      "source": [
        "X_train.shape"
      ],
      "metadata": {
        "colab": {
          "base_uri": "https://localhost:8080/"
        },
        "id": "A8UvlKb-iNeL",
        "outputId": "882ca15f-c36c-4761-c2d1-6e162d4e1ef1"
      },
      "execution_count": 42,
      "outputs": [
        {
          "output_type": "execute_result",
          "data": {
            "text/plain": [
              "(799,)"
            ]
          },
          "metadata": {},
          "execution_count": 42
        }
      ]
    },
    {
      "cell_type": "code",
      "source": [
        "y_train.shape"
      ],
      "metadata": {
        "colab": {
          "base_uri": "https://localhost:8080/"
        },
        "id": "kGdHnhpCiOrs",
        "outputId": "dcc00d7f-9451-42d6-fc35-e36f16eeace7"
      },
      "execution_count": 43,
      "outputs": [
        {
          "output_type": "execute_result",
          "data": {
            "text/plain": [
              "(799,)"
            ]
          },
          "metadata": {},
          "execution_count": 43
        }
      ]
    },
    {
      "cell_type": "markdown",
      "source": [
        "## 5. Preprocessing\n",
        "\n",
        "Since the data is textual, we need to vectorize it. In order to perform incremental learning, we will use HashingVectorizer."
      ],
      "metadata": {
        "id": "xjpjGIwku0gK"
      }
    },
    {
      "cell_type": "code",
      "source": [
        "from sklearn.feature_extraction.text import HashingVectorizer\n",
        "vectorizer = HashingVectorizer()"
      ],
      "metadata": {
        "id": "5WYLQv5hhGV9"
      },
      "execution_count": 46,
      "outputs": []
    },
    {
      "cell_type": "markdown",
      "source": [
        "##6. Creating an instance of the SGDClassifier"
      ],
      "metadata": {
        "id": "X7bs-NBWvZ_d"
      }
    },
    {
      "cell_type": "code",
      "source": [
        "from sklearn.linear_model import SGDClassifier\n",
        "classifier = SGDClassifier(penalty='l2',loss='hinge')"
      ],
      "metadata": {
        "id": "6hQSNiySvWIO"
      },
      "execution_count": 47,
      "outputs": []
    },
    {
      "cell_type": "markdown",
      "source": [
        "## 7. Iteration 1 of partial_fit()\n",
        "\n",
        "We will assume we do not have sufficient memory to handle all the 799 samples in one go for training purpose. So, we will take the first 400 samples from teh training data and `partial_fit` our classifier.\n",
        "\n",
        "Another use case of partial_fit here could also be a scenario where we only have 400 samples available at a time. So, we fit our classifier with them. However, we `partial_fit` it, to have the possibility of training it wirth more data later whenever that becomes available.\n"
      ],
      "metadata": {
        "id": "EGB1tkcqilOy"
      }
    },
    {
      "cell_type": "code",
      "source": [
        "X_train_part1_hashed = vectorizer.fit_transform(X_train[0:400])\n",
        "y_train_part1 = y_train[0:400]\n"
      ],
      "metadata": {
        "id": "SPPH_cuKhSCW"
      },
      "execution_count": 48,
      "outputs": []
    },
    {
      "cell_type": "code",
      "source": [
        "all_classes = np.unique(df.loc[:, 'sentiment']) #we need to mention all classes in the first iteration of partial_fit()"
      ],
      "metadata": {
        "id": "wAq3-VDXlvVd"
      },
      "execution_count": 50,
      "outputs": []
    },
    {
      "cell_type": "code",
      "source": [
        "classifier.partial_fit(X_train_part1_hashed, y_train_part1, classes=all_classes)"
      ],
      "metadata": {
        "colab": {
          "base_uri": "https://localhost:8080/",
          "height": 75
        },
        "id": "rU_Eev01lpUR",
        "outputId": "6ed6cedc-83c1-4df5-e90b-ff7e076d347d"
      },
      "execution_count": 51,
      "outputs": [
        {
          "output_type": "execute_result",
          "data": {
            "text/plain": [
              "SGDClassifier()"
            ],
            "text/html": [
              "<style>#sk-container-id-2 {color: black;background-color: white;}#sk-container-id-2 pre{padding: 0;}#sk-container-id-2 div.sk-toggleable {background-color: white;}#sk-container-id-2 label.sk-toggleable__label {cursor: pointer;display: block;width: 100%;margin-bottom: 0;padding: 0.3em;box-sizing: border-box;text-align: center;}#sk-container-id-2 label.sk-toggleable__label-arrow:before {content: \"▸\";float: left;margin-right: 0.25em;color: #696969;}#sk-container-id-2 label.sk-toggleable__label-arrow:hover:before {color: black;}#sk-container-id-2 div.sk-estimator:hover label.sk-toggleable__label-arrow:before {color: black;}#sk-container-id-2 div.sk-toggleable__content {max-height: 0;max-width: 0;overflow: hidden;text-align: left;background-color: #f0f8ff;}#sk-container-id-2 div.sk-toggleable__content pre {margin: 0.2em;color: black;border-radius: 0.25em;background-color: #f0f8ff;}#sk-container-id-2 input.sk-toggleable__control:checked~div.sk-toggleable__content {max-height: 200px;max-width: 100%;overflow: auto;}#sk-container-id-2 input.sk-toggleable__control:checked~label.sk-toggleable__label-arrow:before {content: \"▾\";}#sk-container-id-2 div.sk-estimator input.sk-toggleable__control:checked~label.sk-toggleable__label {background-color: #d4ebff;}#sk-container-id-2 div.sk-label input.sk-toggleable__control:checked~label.sk-toggleable__label {background-color: #d4ebff;}#sk-container-id-2 input.sk-hidden--visually {border: 0;clip: rect(1px 1px 1px 1px);clip: rect(1px, 1px, 1px, 1px);height: 1px;margin: -1px;overflow: hidden;padding: 0;position: absolute;width: 1px;}#sk-container-id-2 div.sk-estimator {font-family: monospace;background-color: #f0f8ff;border: 1px dotted black;border-radius: 0.25em;box-sizing: border-box;margin-bottom: 0.5em;}#sk-container-id-2 div.sk-estimator:hover {background-color: #d4ebff;}#sk-container-id-2 div.sk-parallel-item::after {content: \"\";width: 100%;border-bottom: 1px solid gray;flex-grow: 1;}#sk-container-id-2 div.sk-label:hover label.sk-toggleable__label {background-color: #d4ebff;}#sk-container-id-2 div.sk-serial::before {content: \"\";position: absolute;border-left: 1px solid gray;box-sizing: border-box;top: 0;bottom: 0;left: 50%;z-index: 0;}#sk-container-id-2 div.sk-serial {display: flex;flex-direction: column;align-items: center;background-color: white;padding-right: 0.2em;padding-left: 0.2em;position: relative;}#sk-container-id-2 div.sk-item {position: relative;z-index: 1;}#sk-container-id-2 div.sk-parallel {display: flex;align-items: stretch;justify-content: center;background-color: white;position: relative;}#sk-container-id-2 div.sk-item::before, #sk-container-id-2 div.sk-parallel-item::before {content: \"\";position: absolute;border-left: 1px solid gray;box-sizing: border-box;top: 0;bottom: 0;left: 50%;z-index: -1;}#sk-container-id-2 div.sk-parallel-item {display: flex;flex-direction: column;z-index: 1;position: relative;background-color: white;}#sk-container-id-2 div.sk-parallel-item:first-child::after {align-self: flex-end;width: 50%;}#sk-container-id-2 div.sk-parallel-item:last-child::after {align-self: flex-start;width: 50%;}#sk-container-id-2 div.sk-parallel-item:only-child::after {width: 0;}#sk-container-id-2 div.sk-dashed-wrapped {border: 1px dashed gray;margin: 0 0.4em 0.5em 0.4em;box-sizing: border-box;padding-bottom: 0.4em;background-color: white;}#sk-container-id-2 div.sk-label label {font-family: monospace;font-weight: bold;display: inline-block;line-height: 1.2em;}#sk-container-id-2 div.sk-label-container {text-align: center;}#sk-container-id-2 div.sk-container {/* jupyter's `normalize.less` sets `[hidden] { display: none; }` but bootstrap.min.css set `[hidden] { display: none !important; }` so we also need the `!important` here to be able to override the default hidden behavior on the sphinx rendered scikit-learn.org. See: https://github.com/scikit-learn/scikit-learn/issues/21755 */display: inline-block !important;position: relative;}#sk-container-id-2 div.sk-text-repr-fallback {display: none;}</style><div id=\"sk-container-id-2\" class=\"sk-top-container\"><div class=\"sk-text-repr-fallback\"><pre>SGDClassifier()</pre><b>In a Jupyter environment, please rerun this cell to show the HTML representation or trust the notebook. <br />On GitHub, the HTML representation is unable to render, please try loading this page with nbviewer.org.</b></div><div class=\"sk-container\" hidden><div class=\"sk-item\"><div class=\"sk-estimator sk-toggleable\"><input class=\"sk-toggleable__control sk-hidden--visually\" id=\"sk-estimator-id-2\" type=\"checkbox\" checked><label for=\"sk-estimator-id-2\" class=\"sk-toggleable__label sk-toggleable__label-arrow\">SGDClassifier</label><div class=\"sk-toggleable__content\"><pre>SGDClassifier()</pre></div></div></div></div></div>"
            ]
          },
          "metadata": {},
          "execution_count": 51
        }
      ]
    },
    {
      "cell_type": "markdown",
      "source": [
        "Let us now use this classifier on our test data that we had kept aside earlier."
      ],
      "metadata": {
        "id": "YwKxGLSGwWwK"
      }
    },
    {
      "cell_type": "code",
      "source": [
        "X_test_hashed = vectorizer.transform(X_test) #first we will have to preprocess the X_test with the same vectorizer that was fit on train data."
      ],
      "metadata": {
        "id": "5ch0QlO8mxuc"
      },
      "execution_count": 52,
      "outputs": []
    },
    {
      "cell_type": "code",
      "source": [
        "test_score = classifier.score(X_test_hashed, y_test)\n",
        "print(\"Test score: \", test_score)"
      ],
      "metadata": {
        "colab": {
          "base_uri": "https://localhost:8080/"
        },
        "id": "B2skZ8Jfm7Fb",
        "outputId": "02257c80-5152-459c-fc47-4f20a36e5a95"
      },
      "execution_count": 53,
      "outputs": [
        {
          "output_type": "stream",
          "name": "stdout",
          "text": [
            "Test score:  0.74\n"
          ]
        }
      ]
    },
    {
      "cell_type": "markdown",
      "source": [
        "Note: We can also store this classifier using pickle object and can access it later."
      ],
      "metadata": {
        "id": "cTyX3Gi-wvbK"
      }
    },
    {
      "cell_type": "markdown",
      "source": [
        "# 8. Iteration 2 of partial_fit()\n",
        "\n",
        "We will now assume that more data became available. So, we will fit the same classifier with more data and observe if our test score improves."
      ],
      "metadata": {
        "id": "xpeML2DVmEcf"
      }
    },
    {
      "cell_type": "code",
      "source": [
        "X_train_part2_hashed = vectorizer.fit_transform(X_train[400:])\n",
        "y_train_part2 = y_train[400:]\n"
      ],
      "metadata": {
        "id": "-VdFDiP3mJI_"
      },
      "execution_count": 54,
      "outputs": []
    },
    {
      "cell_type": "code",
      "source": [
        "classifier.partial_fit(X_train_part2_hashed, y_train_part2)"
      ],
      "metadata": {
        "colab": {
          "base_uri": "https://localhost:8080/",
          "height": 75
        },
        "outputId": "1ba934e1-a28c-4814-a77e-3234ebcfb8ad",
        "id": "1JfS-Q5KmJJB"
      },
      "execution_count": 55,
      "outputs": [
        {
          "output_type": "execute_result",
          "data": {
            "text/plain": [
              "SGDClassifier()"
            ],
            "text/html": [
              "<style>#sk-container-id-3 {color: black;background-color: white;}#sk-container-id-3 pre{padding: 0;}#sk-container-id-3 div.sk-toggleable {background-color: white;}#sk-container-id-3 label.sk-toggleable__label {cursor: pointer;display: block;width: 100%;margin-bottom: 0;padding: 0.3em;box-sizing: border-box;text-align: center;}#sk-container-id-3 label.sk-toggleable__label-arrow:before {content: \"▸\";float: left;margin-right: 0.25em;color: #696969;}#sk-container-id-3 label.sk-toggleable__label-arrow:hover:before {color: black;}#sk-container-id-3 div.sk-estimator:hover label.sk-toggleable__label-arrow:before {color: black;}#sk-container-id-3 div.sk-toggleable__content {max-height: 0;max-width: 0;overflow: hidden;text-align: left;background-color: #f0f8ff;}#sk-container-id-3 div.sk-toggleable__content pre {margin: 0.2em;color: black;border-radius: 0.25em;background-color: #f0f8ff;}#sk-container-id-3 input.sk-toggleable__control:checked~div.sk-toggleable__content {max-height: 200px;max-width: 100%;overflow: auto;}#sk-container-id-3 input.sk-toggleable__control:checked~label.sk-toggleable__label-arrow:before {content: \"▾\";}#sk-container-id-3 div.sk-estimator input.sk-toggleable__control:checked~label.sk-toggleable__label {background-color: #d4ebff;}#sk-container-id-3 div.sk-label input.sk-toggleable__control:checked~label.sk-toggleable__label {background-color: #d4ebff;}#sk-container-id-3 input.sk-hidden--visually {border: 0;clip: rect(1px 1px 1px 1px);clip: rect(1px, 1px, 1px, 1px);height: 1px;margin: -1px;overflow: hidden;padding: 0;position: absolute;width: 1px;}#sk-container-id-3 div.sk-estimator {font-family: monospace;background-color: #f0f8ff;border: 1px dotted black;border-radius: 0.25em;box-sizing: border-box;margin-bottom: 0.5em;}#sk-container-id-3 div.sk-estimator:hover {background-color: #d4ebff;}#sk-container-id-3 div.sk-parallel-item::after {content: \"\";width: 100%;border-bottom: 1px solid gray;flex-grow: 1;}#sk-container-id-3 div.sk-label:hover label.sk-toggleable__label {background-color: #d4ebff;}#sk-container-id-3 div.sk-serial::before {content: \"\";position: absolute;border-left: 1px solid gray;box-sizing: border-box;top: 0;bottom: 0;left: 50%;z-index: 0;}#sk-container-id-3 div.sk-serial {display: flex;flex-direction: column;align-items: center;background-color: white;padding-right: 0.2em;padding-left: 0.2em;position: relative;}#sk-container-id-3 div.sk-item {position: relative;z-index: 1;}#sk-container-id-3 div.sk-parallel {display: flex;align-items: stretch;justify-content: center;background-color: white;position: relative;}#sk-container-id-3 div.sk-item::before, #sk-container-id-3 div.sk-parallel-item::before {content: \"\";position: absolute;border-left: 1px solid gray;box-sizing: border-box;top: 0;bottom: 0;left: 50%;z-index: -1;}#sk-container-id-3 div.sk-parallel-item {display: flex;flex-direction: column;z-index: 1;position: relative;background-color: white;}#sk-container-id-3 div.sk-parallel-item:first-child::after {align-self: flex-end;width: 50%;}#sk-container-id-3 div.sk-parallel-item:last-child::after {align-self: flex-start;width: 50%;}#sk-container-id-3 div.sk-parallel-item:only-child::after {width: 0;}#sk-container-id-3 div.sk-dashed-wrapped {border: 1px dashed gray;margin: 0 0.4em 0.5em 0.4em;box-sizing: border-box;padding-bottom: 0.4em;background-color: white;}#sk-container-id-3 div.sk-label label {font-family: monospace;font-weight: bold;display: inline-block;line-height: 1.2em;}#sk-container-id-3 div.sk-label-container {text-align: center;}#sk-container-id-3 div.sk-container {/* jupyter's `normalize.less` sets `[hidden] { display: none; }` but bootstrap.min.css set `[hidden] { display: none !important; }` so we also need the `!important` here to be able to override the default hidden behavior on the sphinx rendered scikit-learn.org. See: https://github.com/scikit-learn/scikit-learn/issues/21755 */display: inline-block !important;position: relative;}#sk-container-id-3 div.sk-text-repr-fallback {display: none;}</style><div id=\"sk-container-id-3\" class=\"sk-top-container\"><div class=\"sk-text-repr-fallback\"><pre>SGDClassifier()</pre><b>In a Jupyter environment, please rerun this cell to show the HTML representation or trust the notebook. <br />On GitHub, the HTML representation is unable to render, please try loading this page with nbviewer.org.</b></div><div class=\"sk-container\" hidden><div class=\"sk-item\"><div class=\"sk-estimator sk-toggleable\"><input class=\"sk-toggleable__control sk-hidden--visually\" id=\"sk-estimator-id-3\" type=\"checkbox\" checked><label for=\"sk-estimator-id-3\" class=\"sk-toggleable__label sk-toggleable__label-arrow\">SGDClassifier</label><div class=\"sk-toggleable__content\"><pre>SGDClassifier()</pre></div></div></div></div></div>"
            ]
          },
          "metadata": {},
          "execution_count": 55
        }
      ]
    },
    {
      "cell_type": "code",
      "source": [
        "test_score = classifier.score(X_test_hashed, y_test)\n",
        "print(\"Test score: \", test_score)"
      ],
      "metadata": {
        "colab": {
          "base_uri": "https://localhost:8080/"
        },
        "id": "eSQZGUpemC4p",
        "outputId": "0794700e-11fa-4842-d2a0-4b1dda15cbe1"
      },
      "execution_count": 56,
      "outputs": [
        {
          "output_type": "stream",
          "name": "stdout",
          "text": [
            "Test score:  0.75\n"
          ]
        }
      ]
    },
    {
      "cell_type": "markdown",
      "source": [
        "We see that our test score has improved after we fed more data to the classifier in the second iteration of `partial_fit()`."
      ],
      "metadata": {
        "id": "W3OUBNtRxAnd"
      }
    },
    {
      "cell_type": "markdown",
      "source": [
        "For a more elaborate example, refer: https://scikit-learn.org/stable/auto_examples/applications/plot_out_of_core_classification.html#sphx-glr-auto-examples-applications-plot-out-of-core-classification-py"
      ],
      "metadata": {
        "id": "X923v4Dz1rS5"
      }
    }
  ]
}