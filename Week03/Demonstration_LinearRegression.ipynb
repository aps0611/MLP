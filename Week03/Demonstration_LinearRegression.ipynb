{
  "nbformat": 4,
  "nbformat_minor": 0,
  "metadata": {
    "colab": {
      "provenance": []
    },
    "kernelspec": {
      "name": "python3",
      "display_name": "Python 3"
    },
    "language_info": {
      "name": "python"
    }
  },
  "cells": [
    {
      "cell_type": "code",
      "execution_count": 1,
      "metadata": {
        "id": "yYXdp5KLIkKL"
      },
      "outputs": [],
      "source": [
        "# import \n",
        "\n",
        "import numpy as np\n",
        "import pandas as pd\n",
        "import matplotlib.pyplot as plt\n",
        "import seaborn as sns\n",
        "\n",
        "from sklearn.datasets import fetch_california_housing\n",
        "from sklearn.linear_model import LinearRegression\n",
        "\n",
        "from sklearn.model_selection import cross_validate\n",
        "from sklearn.model_selection import cross_val_score\n",
        "from sklearn.model_selection import learning_curve\n",
        "from sklearn.model_selection import ShuffleSplit\n",
        "\n",
        "from sklearn.metrics import mean_squared_error\n",
        "\n",
        "from sklearn.pipeline import Pipeline\n",
        "from sklearn.preprocessing import StandardScaler"
      ]
    },
    {
      "cell_type": "code",
      "source": [
        "# set random seed for reproduceable code:\n",
        "np.random.seed(306)\n",
        "plt.style.use('seaborn')\n"
      ],
      "metadata": {
        "id": "qnDYk0sVJL1E"
      },
      "execution_count": 2,
      "outputs": []
    },
    {
      "cell_type": "code",
      "source": [
        "# we will use shufflesplit cross validation with 10 folds and\n",
        "# set aside 20% examples as test examples\n",
        "\n",
        "shuffle_split_cv = ShuffleSplit(n_splits = 10, test_size = 0.2, random_state =0)\n",
        "\n",
        "# create 10 folds through shuffle split by keeping aside 20 % examples as test in each field"
      ],
      "metadata": {
        "id": "j6jHuFcbJZcG"
      },
      "execution_count": 3,
      "outputs": []
    },
    {
      "cell_type": "markdown",
      "source": [
        "## STEP 1: LOAD DATASET"
      ],
      "metadata": {
        "id": "qT5yVYvtJ7PS"
      }
    },
    {
      "cell_type": "code",
      "source": [
        "# load the california housing dataset\n",
        "# as_frame returns df in pandas\n",
        "features, labels = fetch_california_housing(as_frame = True, return_X_y= True)\n",
        "\n",
        "\n",
        "print('shape of feature matrix is',features.shape)\n",
        "print('shape of label matrix is',labels.shape)"
      ],
      "metadata": {
        "colab": {
          "base_uri": "https://localhost:8080/"
        },
        "id": "S0ABFRpBJ0AO",
        "outputId": "0e487227-c04c-449d-981f-26d1268b8068"
      },
      "execution_count": 5,
      "outputs": [
        {
          "output_type": "stream",
          "name": "stdout",
          "text": [
            "shape of feature matrix is (20640, 8)\n",
            "shape of label matrix is (20640,)\n"
          ]
        }
      ]
    },
    {
      "cell_type": "markdown",
      "source": [
        "## STEP 2: Data Exploration"
      ],
      "metadata": {
        "id": "5n8F-Lt3Kguo"
      }
    },
    {
      "cell_type": "markdown",
      "source": [
        "Data exploration "
      ],
      "metadata": {
        "id": "Jj9rGofxKkEu"
      }
    },
    {
      "cell_type": "markdown",
      "source": [
        "## STEP 3: Preprocessing and model Building"
      ],
      "metadata": {
        "id": "8xEDqSjlKmTq"
      }
    },
    {
      "cell_type": "markdown",
      "source": [
        "### 3.1 Train test Split\n",
        "\n",
        "The first step is to split the training data into training and test set. All the data exploration and tuning is performed on the training set by setting small percent of training set as validation set."
      ],
      "metadata": {
        "id": "2gtVw5UbKp-I"
      }
    },
    {
      "cell_type": "code",
      "source": [
        "from sklearn.model_selection import train_test_split\n",
        "train_features, test_features, train_labels, test_labels = train_test_split(\n",
        "    features, labels, random_state = 42) "
      ],
      "metadata": {
        "id": "YE0-JulXKYhs"
      },
      "execution_count": 7,
      "outputs": []
    },
    {
      "cell_type": "code",
      "source": [
        "## Lets examine the shape of training and test sets.\n",
        "\n",
        "print('# training samples', train_features.shape[0])\n",
        "print('# test samples', test_features.shape[0])"
      ],
      "metadata": {
        "colab": {
          "base_uri": "https://localhost:8080/"
        },
        "id": "7WWq7oFLLhTh",
        "outputId": "85519430-980e-4d78-f30b-710336c35949"
      },
      "execution_count": 10,
      "outputs": [
        {
          "output_type": "stream",
          "name": "stdout",
          "text": [
            "# training samples 15480\n",
            "# test samples 5160\n"
          ]
        }
      ]
    },
    {
      "cell_type": "markdown",
      "source": [
        "### 3.2 Pipeline : Preprocessing + model\n"
      ],
      "metadata": {
        "id": "a13iKEQXL51R"
      }
    },
    {
      "cell_type": "code",
      "source": [
        "# set up the linear regression model:\n",
        "\n",
        "lin_reg_pipeline =  Pipeline([('feature_scaling', StandardScaler()),\n",
        "                              ('lin_reg', LinearRegression())])\n",
        "\n",
        "# train linear regression model with normal equation:\n",
        "lin_reg_pipeline.fit(train_features, train_labels)"
      ],
      "metadata": {
        "colab": {
          "base_uri": "https://localhost:8080/"
        },
        "id": "6ewnnrnWMX38",
        "outputId": "c908a59d-e4bd-4e96-b883-3750f38855ad"
      },
      "execution_count": 11,
      "outputs": [
        {
          "output_type": "execute_result",
          "data": {
            "text/plain": [
              "Pipeline(steps=[('feature_scaling', StandardScaler()),\n",
              "                ('lin_reg', LinearRegression())])"
            ]
          },
          "metadata": {},
          "execution_count": 11
        }
      ]
    },
    {
      "cell_type": "code",
      "source": [
        "# check the estimated weight vectors\n",
        "\n",
        "print('intercept (w0)', lin_reg_pipeline[-1].intercept_)\n",
        "print('weight vectors(w_1,....)', lin_reg_pipeline[-1].coef_)"
      ],
      "metadata": {
        "colab": {
          "base_uri": "https://localhost:8080/"
        },
        "id": "qZ2jyLjjM1NI",
        "outputId": "3395d024-d50c-4665-d35f-dd2f9e16940c"
      },
      "execution_count": 12,
      "outputs": [
        {
          "output_type": "stream",
          "name": "stdout",
          "text": [
            "intercept (w0) 2.0703489205426377\n",
            "weight vectors(w_1,....) [ 0.85210815  0.12065533 -0.30210555  0.34860575 -0.00164465 -0.04116356\n",
            " -0.89314697 -0.86784046]\n"
          ]
        }
      ]
    },
    {
      "cell_type": "markdown",
      "source": [
        "## Step 4: Model Evaluation"
      ],
      "metadata": {
        "id": "37F53f3XNXY6"
      }
    },
    {
      "cell_type": "markdown",
      "source": [
        "#### Score"
      ],
      "metadata": {
        "id": "Qtk2Bf-KOI0h"
      }
    },
    {
      "cell_type": "code",
      "source": [
        "# evaluate the model performance on the test set\n",
        "\n",
        "test_score = lin_reg_pipeline.score(test_features, test_labels)\n",
        "print('Model performance on test set', test_score)\n",
        "\n",
        "train_score = lin_reg_pipeline.score(train_features, train_labels)\n",
        "print('Model performance on train set', train_score)"
      ],
      "metadata": {
        "colab": {
          "base_uri": "https://localhost:8080/"
        },
        "id": "AtgdytidNMpY",
        "outputId": "bc82594a-f06e-4ec7-f12d-a9bc7d036902"
      },
      "execution_count": 14,
      "outputs": [
        {
          "output_type": "stream",
          "name": "stdout",
          "text": [
            "Model performance on test set 0.5910509795491352\n",
            "Model performance on train set 0.609873031052925\n"
          ]
        }
      ]
    },
    {
      "cell_type": "code",
      "source": [
        "# the score method returns the r2 score whose best value is 1.\n",
        "# the test performance and train perfromance are comparable >> Underfitting"
      ],
      "metadata": {
        "id": "H_YweO-RN3PB"
      },
      "execution_count": 15,
      "outputs": []
    },
    {
      "cell_type": "markdown",
      "source": [
        "#### cross_val_score"
      ],
      "metadata": {
        "id": "aGCYBsvvOKRo"
      }
    },
    {
      "cell_type": "markdown",
      "source": [
        "since the score was computed on one fold. It may not be robust."
      ],
      "metadata": {
        "id": "_0ovmrzTZ-uW"
      }
    },
    {
      "cell_type": "code",
      "source": [
        "lin_reg_score = cross_val_score(lin_reg_pipeline, \n",
        "                                train_features,\n",
        "                                train_labels,\n",
        "                                scoring = 'neg_mean_squared_error',\n",
        "                                cv = shuffle_split_cv)\n",
        "\n",
        "# This will return 10 different scores, one for each fold\n",
        "\n",
        "print(lin_reg_score)\n",
        "\n",
        "# we can take the mean and std deviation of the score and report it: \n",
        "print(lin_reg_score.mean())\n",
        "print(lin_reg_score.std())"
      ],
      "metadata": {
        "colab": {
          "base_uri": "https://localhost:8080/"
        },
        "id": "7_YWKm3oOFbF",
        "outputId": "83bd496c-389c-4db8-cd29-165d5c2618e7"
      },
      "execution_count": 16,
      "outputs": [
        {
          "output_type": "stream",
          "name": "stdout",
          "text": [
            "[-0.50009976 -0.52183352 -0.55931218 -0.52110499 -0.56059203 -0.50510767\n",
            " -0.52386194 -0.54775518 -0.5007161  -0.54713448]\n",
            "-0.5287517875396764\n",
            "0.022232904569798703\n"
          ]
        }
      ]
    },
    {
      "cell_type": "code",
      "source": [
        "# convert the negative MSE as a score. We can convert the error as:\n",
        "\n",
        "lin_reg_mse = - lin_reg_score\n",
        "\n",
        "print(lin_reg_mse.mean())\n",
        "\n",
        "print(lin_reg_mse.std())"
      ],
      "metadata": {
        "colab": {
          "base_uri": "https://localhost:8080/"
        },
        "id": "blh9TeENZ2Jf",
        "outputId": "ed46e455-cb43-4433-cace-c109010d8840"
      },
      "execution_count": 17,
      "outputs": [
        {
          "output_type": "stream",
          "name": "stdout",
          "text": [
            "0.5287517875396764\n",
            "0.022232904569798703\n"
          ]
        }
      ]
    },
    {
      "cell_type": "code",
      "source": [
        "# we could also use different scoring parameters here"
      ],
      "metadata": {
        "id": "P27cbZmFauLd"
      },
      "execution_count": 18,
      "outputs": []
    },
    {
      "cell_type": "code",
      "source": [
        "# cross val score gives us only the score for each fold\n",
        "# If we also need access the model trained on each fold:\n",
        "\n",
        "lin_reg_cv_results = cross_validate(lin_reg_pipeline,\n",
        "                                    train_features,\n",
        "                                    train_labels,\n",
        "                                    cv = shuffle_split_cv,\n",
        "                                    scoring = \"neg_mean_squared_error\",\n",
        "                                    return_train_score = True,\n",
        "                                    return_estimator = True)\n",
        "\n",
        "# the lin_reg_cv_result is a dictionary with the following contents:"
      ],
      "metadata": {
        "id": "6hjVLFW0a4Yt"
      },
      "execution_count": 20,
      "outputs": []
    },
    {
      "cell_type": "code",
      "source": [
        "lin_reg_cv_results"
      ],
      "metadata": {
        "colab": {
          "base_uri": "https://localhost:8080/"
        },
        "id": "-O3YaUb-biIr",
        "outputId": "de2ee3e1-4752-4eaa-b8c2-91f6ca33ee31"
      },
      "execution_count": 21,
      "outputs": [
        {
          "output_type": "execute_result",
          "data": {
            "text/plain": [
              "{'fit_time': array([0.02008104, 0.03004456, 0.04264951, 0.0501895 , 0.05009604,\n",
              "        0.05429363, 0.05335212, 0.04875612, 0.05610275, 0.05190849]),\n",
              " 'score_time': array([0.00700355, 0.00726247, 0.01012659, 0.00984955, 0.01096058,\n",
              "        0.01149225, 0.01239324, 0.01193047, 0.01100016, 0.01025724]),\n",
              " 'estimator': [Pipeline(steps=[('feature_scaling', StandardScaler()),\n",
              "                  ('lin_reg', LinearRegression())]),\n",
              "  Pipeline(steps=[('feature_scaling', StandardScaler()),\n",
              "                  ('lin_reg', LinearRegression())]),\n",
              "  Pipeline(steps=[('feature_scaling', StandardScaler()),\n",
              "                  ('lin_reg', LinearRegression())]),\n",
              "  Pipeline(steps=[('feature_scaling', StandardScaler()),\n",
              "                  ('lin_reg', LinearRegression())]),\n",
              "  Pipeline(steps=[('feature_scaling', StandardScaler()),\n",
              "                  ('lin_reg', LinearRegression())]),\n",
              "  Pipeline(steps=[('feature_scaling', StandardScaler()),\n",
              "                  ('lin_reg', LinearRegression())]),\n",
              "  Pipeline(steps=[('feature_scaling', StandardScaler()),\n",
              "                  ('lin_reg', LinearRegression())]),\n",
              "  Pipeline(steps=[('feature_scaling', StandardScaler()),\n",
              "                  ('lin_reg', LinearRegression())]),\n",
              "  Pipeline(steps=[('feature_scaling', StandardScaler()),\n",
              "                  ('lin_reg', LinearRegression())]),\n",
              "  Pipeline(steps=[('feature_scaling', StandardScaler()),\n",
              "                  ('lin_reg', LinearRegression())])],\n",
              " 'test_score': array([-0.50009976, -0.52183352, -0.55931218, -0.52110499, -0.56059203,\n",
              "        -0.50510767, -0.52386194, -0.54775518, -0.5007161 , -0.54713448]),\n",
              " 'train_score': array([-0.52578695, -0.52035137, -0.51095597, -0.52049611, -0.51060835,\n",
              "        -0.52453922, -0.51994311, -0.5144039 , -0.52578473, -0.51397105])}"
            ]
          },
          "metadata": {},
          "execution_count": 21
        }
      ]
    },
    {
      "cell_type": "code",
      "source": [
        "# we compare the training and test errors to access generalization performance of our model.\n",
        "# however, we have training and test scores in cv_results dictionary\n",
        "\n",
        "train_error = -1 * lin_reg_cv_results['train_score']\n",
        "test_error = -1 * lin_reg_cv_results['test_score']\n",
        "\n",
        "print(train_error.mean())\n",
        "print(train_error.std())\n",
        "print(test_error.mean())\n",
        "print(test_error.std())"
      ],
      "metadata": {
        "colab": {
          "base_uri": "https://localhost:8080/"
        },
        "id": "QG55FPNEb2iX",
        "outputId": "c34267a4-604f-4c21-9c7f-0d9c8749b8ef"
      },
      "execution_count": 22,
      "outputs": [
        {
          "output_type": "stream",
          "name": "stdout",
          "text": [
            "0.5186840759388985\n",
            "0.005552249067390945\n",
            "0.5287517875396764\n",
            "0.022232904569798703\n"
          ]
        }
      ]
    },
    {
      "cell_type": "code",
      "source": [
        "# The training and test errors are high which indicates the problem of underfitting"
      ],
      "metadata": {
        "id": "tuU2Cwgic1iZ"
      },
      "execution_count": 23,
      "outputs": []
    },
    {
      "cell_type": "markdown",
      "source": [
        "### Effect of training set size on error\n"
      ],
      "metadata": {
        "id": "EYfIv8UidMKz"
      }
    },
    {
      "cell_type": "code",
      "source": [
        "def plot_learning_curve(train_sizes, train_scores, test_score)"
      ],
      "metadata": {
        "id": "TCaG07C5c8wI"
      },
      "execution_count": null,
      "outputs": []
    },
    {
      "cell_type": "code",
      "source": [
        "# learning curve api\n",
        "\n",
        "train_size, train_score, test_score, fit_times, score_times = \\\n",
        "learning_curve(lin_reg_pipeline, \n",
        "               train_features,\n",
        "               train_labels,\n",
        "               cv= shuffle_split_cv,\n",
        "               scoring = 'neg_mean_squared_error',\n",
        "               n_jobs = -1,\n",
        "               return_times = True,\n",
        "               train_sizes = np.linspace(0.2,0.1,10))\n",
        "plot_learning_curve(train_sizes, train_scores, test_scores)"
      ],
      "metadata": {
        "colab": {
          "base_uri": "https://localhost:8080/",
          "height": 200
        },
        "id": "cUnN7dumdTm_",
        "outputId": "74701651-d7be-47cf-ff07-f2915b73f5c3"
      },
      "execution_count": 25,
      "outputs": [
        {
          "output_type": "error",
          "ename": "NameError",
          "evalue": "ignored",
          "traceback": [
            "\u001b[0;31m---------------------------------------------------------------------------\u001b[0m",
            "\u001b[0;31mNameError\u001b[0m                                 Traceback (most recent call last)",
            "\u001b[0;32m<ipython-input-25-1adea12f4ca2>\u001b[0m in \u001b[0;36m<module>\u001b[0;34m\u001b[0m\n\u001b[1;32m     10\u001b[0m                \u001b[0mreturn_times\u001b[0m \u001b[0;34m=\u001b[0m \u001b[0;32mTrue\u001b[0m\u001b[0;34m,\u001b[0m\u001b[0;34m\u001b[0m\u001b[0;34m\u001b[0m\u001b[0m\n\u001b[1;32m     11\u001b[0m                train_sizes = np.linspace(0.2,0.1,10))\n\u001b[0;32m---> 12\u001b[0;31m \u001b[0mplot_learning_curve\u001b[0m\u001b[0;34m(\u001b[0m\u001b[0mtrain_sizes\u001b[0m\u001b[0;34m,\u001b[0m \u001b[0mtrain_scores\u001b[0m\u001b[0;34m,\u001b[0m \u001b[0mtest_scores\u001b[0m\u001b[0;34m)\u001b[0m\u001b[0;34m\u001b[0m\u001b[0;34m\u001b[0m\u001b[0m\n\u001b[0m",
            "\u001b[0;31mNameError\u001b[0m: name 'plot_learning_curve' is not defined"
          ]
        }
      ]
    },
    {
      "cell_type": "markdown",
      "source": [
        "## Model examination:"
      ],
      "metadata": {
        "id": "ujaRrKj-fJ9k"
      }
    },
    {
      "cell_type": "code",
      "source": [
        "# lets examine the weight vectors and check how much variability exists between them across different cross-validated models:\n",
        "\n",
        "feature_names = train_features.columns\n",
        "feature_names"
      ],
      "metadata": {
        "colab": {
          "base_uri": "https://localhost:8080/"
        },
        "id": "lSwgr-uTd5fB",
        "outputId": "3b534148-6d00-4655-b9f2-3b91e2de75f2"
      },
      "execution_count": 27,
      "outputs": [
        {
          "output_type": "execute_result",
          "data": {
            "text/plain": [
              "Index(['MedInc', 'HouseAge', 'AveRooms', 'AveBedrms', 'Population', 'AveOccup',\n",
              "       'Latitude', 'Longitude'],\n",
              "      dtype='object')"
            ]
          },
          "metadata": {},
          "execution_count": 27
        }
      ]
    },
    {
      "cell_type": "code",
      "source": [
        "# for this we will first construct a dataframe of weight vectors and then plot them with box plot:\n",
        "\n",
        "coefs = [est[-1].coef_ for est in lin_reg_cv_results['estimator']]\n",
        "weights_df = pd.DataFrame(coefs, columns = feature_names)\n",
        "\n",
        "color = {\"whiskers\":\"black\", \"medians\":\"black\", \"caps\":\"black\"}\n",
        "weights_df.plot.box(color= color, vert = False) #, figsize =(6,16))\n",
        "_ = plt.title(\"linear Regression coef\")"
      ],
      "metadata": {
        "colab": {
          "base_uri": "https://localhost:8080/",
          "height": 362
        },
        "id": "92WUdTZ9fPdD",
        "outputId": "6e315741-97bb-423b-f51f-c134edad34a2"
      },
      "execution_count": 31,
      "outputs": [
        {
          "output_type": "display_data",
          "data": {
            "text/plain": [
              "<Figure size 576x396 with 1 Axes>"
            ],
            "image/png": "[encoded data removed]"
          },
          "metadata": {}
        }
      ]
    },
    {
      "cell_type": "code",
      "source": [
        "weights_df.describe()"
      ],
      "metadata": {
        "colab": {
          "base_uri": "https://localhost:8080/",
          "height": 364
        },
        "id": "4iWauP7WgM-m",
        "outputId": "9e567ff0-6e41-4b10-a2a0-d9c1da23c7aa"
      },
      "execution_count": 32,
      "outputs": [
        {
          "output_type": "execute_result",
          "data": {
            "text/plain": [
              "          MedInc   HouseAge   AveRooms  AveBedrms  Population   AveOccup  \\\n",
              "count  10.000000  10.000000  10.000000  10.000000   10.000000  10.000000   \n",
              "mean    0.852153   0.122770  -0.304384   0.353528   -0.001576  -0.037059   \n",
              "std     0.005763   0.004312   0.010998   0.018044    0.003254   0.008582   \n",
              "min     0.843517   0.117394  -0.318971   0.307474   -0.005787  -0.047584   \n",
              "25%     0.848871   0.119895  -0.310778   0.349715   -0.002688  -0.042486   \n",
              "50%     0.852711   0.121592  -0.305795   0.360139   -0.002063  -0.042325   \n",
              "75%     0.854743   0.125520  -0.302980   0.364646   -0.000350  -0.027562   \n",
              "max     0.861659   0.130560  -0.278426   0.367952    0.005297  -0.026331   \n",
              "\n",
              "        Latitude  Longitude  \n",
              "count  10.000000  10.000000  \n",
              "mean   -0.894011  -0.869753  \n",
              "std     0.009975   0.009097  \n",
              "min    -0.908058  -0.884206  \n",
              "25%    -0.901411  -0.876542  \n",
              "50%    -0.895370  -0.869631  \n",
              "75%    -0.883967  -0.862110  \n",
              "max    -0.881884  -0.857844  "
            ],
            "text/html": [
              "\n",
              "  <div id=\"df-1ba91849-2bdc-44b1-8588-2b05cfbf9b5a\">\n",
              "    <div class=\"colab-df-container\">\n",
              "      <div>\n",
              "<style scoped>\n",
              "    .dataframe tbody tr th:only-of-type {\n",
              "        vertical-align: middle;\n",
              "    }\n",
              "\n",
              "    .dataframe tbody tr th {\n",
              "        vertical-align: top;\n",
              "    }\n",
              "\n",
              "    .dataframe thead th {\n",
              "        text-align: right;\n",
              "    }\n",
              "</style>\n",
              "<table border=\"1\" class=\"dataframe\">\n",
              "  <thead>\n",
              "    <tr style=\"text-align: right;\">\n",
              "      <th></th>\n",
              "      <th>MedInc</th>\n",
              "      <th>HouseAge</th>\n",
              "      <th>AveRooms</th>\n",
              "      <th>AveBedrms</th>\n",
              "      <th>Population</th>\n",
              "      <th>AveOccup</th>\n",
              "      <th>Latitude</th>\n",
              "      <th>Longitude</th>\n",
              "    </tr>\n",
              "  </thead>\n",
              "  <tbody>\n",
              "    <tr>\n",
              "      <th>count</th>\n",
              "      <td>10.000000</td>\n",
              "      <td>10.000000</td>\n",
              "      <td>10.000000</td>\n",
              "      <td>10.000000</td>\n",
              "      <td>10.000000</td>\n",
              "      <td>10.000000</td>\n",
              "      <td>10.000000</td>\n",
              "      <td>10.000000</td>\n",
              "    </tr>\n",
              "    <tr>\n",
              "      <th>mean</th>\n",
              "      <td>0.852153</td>\n",
              "      <td>0.122770</td>\n",
              "      <td>-0.304384</td>\n",
              "      <td>0.353528</td>\n",
              "      <td>-0.001576</td>\n",
              "      <td>-0.037059</td>\n",
              "      <td>-0.894011</td>\n",
              "      <td>-0.869753</td>\n",
              "    </tr>\n",
              "    <tr>\n",
              "      <th>std</th>\n",
              "      <td>0.005763</td>\n",
              "      <td>0.004312</td>\n",
              "      <td>0.010998</td>\n",
              "      <td>0.018044</td>\n",
              "      <td>0.003254</td>\n",
              "      <td>0.008582</td>\n",
              "      <td>0.009975</td>\n",
              "      <td>0.009097</td>\n",
              "    </tr>\n",
              "    <tr>\n",
              "      <th>min</th>\n",
              "      <td>0.843517</td>\n",
              "      <td>0.117394</td>\n",
              "      <td>-0.318971</td>\n",
              "      <td>0.307474</td>\n",
              "      <td>-0.005787</td>\n",
              "      <td>-0.047584</td>\n",
              "      <td>-0.908058</td>\n",
              "      <td>-0.884206</td>\n",
              "    </tr>\n",
              "    <tr>\n",
              "      <th>25%</th>\n",
              "      <td>0.848871</td>\n",
              "      <td>0.119895</td>\n",
              "      <td>-0.310778</td>\n",
              "      <td>0.349715</td>\n",
              "      <td>-0.002688</td>\n",
              "      <td>-0.042486</td>\n",
              "      <td>-0.901411</td>\n",
              "      <td>-0.876542</td>\n",
              "    </tr>\n",
              "    <tr>\n",
              "      <th>50%</th>\n",
              "      <td>0.852711</td>\n",
              "      <td>0.121592</td>\n",
              "      <td>-0.305795</td>\n",
              "      <td>0.360139</td>\n",
              "      <td>-0.002063</td>\n",
              "      <td>-0.042325</td>\n",
              "      <td>-0.895370</td>\n",
              "      <td>-0.869631</td>\n",
              "    </tr>\n",
              "    <tr>\n",
              "      <th>75%</th>\n",
              "      <td>0.854743</td>\n",
              "      <td>0.125520</td>\n",
              "      <td>-0.302980</td>\n",
              "      <td>0.364646</td>\n",
              "      <td>-0.000350</td>\n",
              "      <td>-0.027562</td>\n",
              "      <td>-0.883967</td>\n",
              "      <td>-0.862110</td>\n",
              "    </tr>\n",
              "    <tr>\n",
              "      <th>max</th>\n",
              "      <td>0.861659</td>\n",
              "      <td>0.130560</td>\n",
              "      <td>-0.278426</td>\n",
              "      <td>0.367952</td>\n",
              "      <td>0.005297</td>\n",
              "      <td>-0.026331</td>\n",
              "      <td>-0.881884</td>\n",
              "      <td>-0.857844</td>\n",
              "    </tr>\n",
              "  </tbody>\n",
              "</table>\n",
              "</div>\n",
              "      <button class=\"colab-df-convert\" onclick=\"convertToInteractive('df-1ba91849-2bdc-44b1-8588-2b05cfbf9b5a')\"\n",
              "              title=\"Convert this dataframe to an interactive table.\"\n",
              "              style=\"display:none;\">\n",
              "        \n",
              "  <svg xmlns=\"http://www.w3.org/2000/svg\" height=\"24px\"viewBox=\"0 0 24 24\"\n",
              "       width=\"24px\">\n",
              "    <path d=\"M0 0h24v24H0V0z\" fill=\"none\"/>\n",
              "    <path d=\"M18.56 5.44l.94 2.06.94-2.06 2.06-.94-2.06-.94-.94-2.06-.94 2.06-2.06.94zm-11 1L8.5 8.5l.94-2.06 2.06-.94-2.06-.94L8.5 2.5l-.94 2.06-2.06.94zm10 10l.94 2.06.94-2.06 2.06-.94-2.06-.94-.94-2.06-.94 2.06-2.06.94z\"/><path d=\"M17.41 7.96l-1.37-1.37c-.4-.4-.92-.59-1.43-.59-.52 0-1.04.2-1.43.59L10.3 9.45l-7.72 7.72c-.78.78-.78 2.05 0 2.83L4 21.41c.39.39.9.59 1.41.59.51 0 1.02-.2 1.41-.59l7.78-7.78 2.81-2.81c.8-.78.8-2.07 0-2.86zM5.41 20L4 18.59l7.72-7.72 1.47 1.35L5.41 20z\"/>\n",
              "  </svg>\n",
              "      </button>\n",
              "      \n",
              "  <style>\n",
              "    .colab-df-container {\n",
              "      display:flex;\n",
              "      flex-wrap:wrap;\n",
              "      gap: 12px;\n",
              "    }\n",
              "\n",
              "    .colab-df-convert {\n",
              "      background-color: #E8F0FE;\n",
              "      border: none;\n",
              "      border-radius: 50%;\n",
              "      cursor: pointer;\n",
              "      display: none;\n",
              "      fill: #1967D2;\n",
              "      height: 32px;\n",
              "      padding: 0 0 0 0;\n",
              "      width: 32px;\n",
              "    }\n",
              "\n",
              "    .colab-df-convert:hover {\n",
              "      background-color: #E2EBFA;\n",
              "      box-shadow: 0px 1px 2px rgba(60, 64, 67, 0.3), 0px 1px 3px 1px rgba(60, 64, 67, 0.15);\n",
              "      fill: #174EA6;\n",
              "    }\n",
              "\n",
              "    [theme=dark] .colab-df-convert {\n",
              "      background-color: #3B4455;\n",
              "      fill: #D2E3FC;\n",
              "    }\n",
              "\n",
              "    [theme=dark] .colab-df-convert:hover {\n",
              "      background-color: #434B5C;\n",
              "      box-shadow: 0px 1px 3px 1px rgba(0, 0, 0, 0.15);\n",
              "      filter: drop-shadow(0px 1px 2px rgba(0, 0, 0, 0.3));\n",
              "      fill: #FFFFFF;\n",
              "    }\n",
              "  </style>\n",
              "\n",
              "      <script>\n",
              "        const buttonEl =\n",
              "          document.querySelector('#df-1ba91849-2bdc-44b1-8588-2b05cfbf9b5a button.colab-df-convert');\n",
              "        buttonEl.style.display =\n",
              "          google.colab.kernel.accessAllowed ? 'block' : 'none';\n",
              "\n",
              "        async function convertToInteractive(key) {\n",
              "          const element = document.querySelector('#df-1ba91849-2bdc-44b1-8588-2b05cfbf9b5a');\n",
              "          const dataTable =\n",
              "            await google.colab.kernel.invokeFunction('convertToInteractive',\n",
              "                                                     [key], {});\n",
              "          if (!dataTable) return;\n",
              "\n",
              "          const docLinkHtml = 'Like what you see? Visit the ' +\n",
              "            '<a target=\"_blank\" href=https://colab.research.google.com/notebooks/data_table.ipynb>data table notebook</a>'\n",
              "            + ' to learn more about interactive tables.';\n",
              "          element.innerHTML = '';\n",
              "          dataTable['output_type'] = 'display_data';\n",
              "          await google.colab.output.renderOutput(dataTable, element);\n",
              "          const docLink = document.createElement('div');\n",
              "          docLink.innerHTML = docLinkHtml;\n",
              "          element.appendChild(docLink);\n",
              "        }\n",
              "      </script>\n",
              "    </div>\n",
              "  </div>\n",
              "  "
            ]
          },
          "metadata": {},
          "execution_count": 32
        }
      ]
    },
    {
      "cell_type": "markdown",
      "source": [
        "# Selecting the Best Model:"
      ],
      "metadata": {
        "id": "PGYP_JVcgzOw"
      }
    },
    {
      "cell_type": "code",
      "source": [
        "best_model_index = np.argmin(test_error)\n",
        "selected_model = lin_reg_cv_results['estimator'][best_model_index]"
      ],
      "metadata": {
        "id": "Spj8unwmgn0N"
      },
      "execution_count": 33,
      "outputs": []
    },
    {
      "cell_type": "code",
      "source": [
        "selected_model['lin_reg'].intercept_"
      ],
      "metadata": {
        "colab": {
          "base_uri": "https://localhost:8080/"
        },
        "id": "-iL-fx2KhGiA",
        "outputId": "32f431be-1879-4611-9338-35a3eb3dbf77"
      },
      "execution_count": 34,
      "outputs": [
        {
          "output_type": "execute_result",
          "data": {
            "text/plain": [
              "2.0779898917958657"
            ]
          },
          "metadata": {},
          "execution_count": 34
        }
      ]
    },
    {
      "cell_type": "code",
      "source": [
        "selected_model['lin_reg'].coef_"
      ],
      "metadata": {
        "colab": {
          "base_uri": "https://localhost:8080/"
        },
        "id": "ZvOnF9gkhLUX",
        "outputId": "bb2f1f99-1f25-4cf9-db7f-2311b4884b3f"
      },
      "execution_count": 35,
      "outputs": [
        {
          "output_type": "execute_result",
          "data": {
            "text/plain": [
              "array([ 8.44324888e-01,  1.18463901e-01, -3.04619574e-01,  3.56620503e-01,\n",
              "        1.74458509e-04, -4.23964612e-02, -8.96045642e-01, -8.68906479e-01])"
            ]
          },
          "metadata": {},
          "execution_count": 35
        }
      ]
    },
    {
      "cell_type": "markdown",
      "source": [
        "# Model Performance"
      ],
      "metadata": {
        "id": "tzeYNdPfhQeH"
      }
    },
    {
      "cell_type": "code",
      "source": [
        "# towards this lets first obtain the prediction for test points in cross validation\n",
        "from sklearn.model_selection import cross_val_predict\n",
        "cv_predictions = cross_val_predict(lin_reg_pipeline, train_features, train_labels)"
      ],
      "metadata": {
        "id": "KWTjuebIhOJr"
      },
      "execution_count": 40,
      "outputs": []
    },
    {
      "cell_type": "code",
      "source": [
        "mse_cv = mean_squared_error(train_labels, cv_predictions)\n",
        "\n",
        "plt.scatter(train_labels, cv_predictions, color = 'blue')\n",
        "plt.plot(train_labels, train_labels, 'r-')\n",
        "plt.title(f\"Mean squared Error = {mse_cv:.2f}\", size = 24)\n",
        "plt.xlabel('Actual Median House Value', size = 15)\n",
        "plt.ylabel('Predicted Median House Value', size = 15)\n",
        "plt.show()\n"
      ],
      "metadata": {
        "colab": {
          "base_uri": "https://localhost:8080/",
          "height": 388
        },
        "id": "6cBIhUBZhdX8",
        "outputId": "7894e8aa-c17f-45b5-ea08-4b9620f22f36"
      },
      "execution_count": 41,
      "outputs": [
        {
          "output_type": "display_data",
          "data": {
            "text/plain": [
              "<Figure size 576x396 with 1 Axes>"
            ],
            "image/png": "[encoded data removed]"
          },
          "metadata": {}
        }
      ]
    },
    {
      "cell_type": "code",
      "source": [
        "# step 5: Predictions:\n",
        "# we can use the best performing model from cross validation for getting prediction on test set\n",
        "\n",
        "test_predictions_cv = selected_model.predict(test_features)\n",
        "test_predictions_cv[:5]"
      ],
      "metadata": {
        "colab": {
          "base_uri": "https://localhost:8080/"
        },
        "id": "Mo6uqEKUiF6e",
        "outputId": "505ec280-acad-4d71-c9b8-cabd08091751"
      },
      "execution_count": 43,
      "outputs": [
        {
          "output_type": "execute_result",
          "data": {
            "text/plain": [
              "array([0.73548515, 1.7725621 , 2.70011199, 2.83716602, 2.60743151])"
            ]
          },
          "metadata": {},
          "execution_count": 43
        }
      ]
    },
    {
      "cell_type": "code",
      "source": [
        "# prediction using initial model that we built using cross validation\n",
        "test_predictions = lin_reg_pipeline.predict(test_features)\n",
        "test_predictions[:5]"
      ],
      "metadata": {
        "colab": {
          "base_uri": "https://localhost:8080/"
        },
        "id": "5A_unpn_iwNG",
        "outputId": "1a30d728-9ec8-4228-fc53-6525f23d0bdb"
      },
      "execution_count": 45,
      "outputs": [
        {
          "output_type": "execute_result",
          "data": {
            "text/plain": [
              "array([0.72412832, 1.76677807, 2.71151581, 2.83601179, 2.603755  ])"
            ]
          },
          "metadata": {},
          "execution_count": 45
        }
      ]
    },
    {
      "cell_type": "markdown",
      "source": [
        "# step 6: report the model performance"
      ],
      "metadata": {
        "id": "ssAse1rpjxBj"
      }
    },
    {
      "cell_type": "code",
      "source": [
        "\n",
        "score_cv = selected_model.score(test_features, test_labels)\n",
        "score = lin_reg_pipeline.score(test_features, test_labels)\n",
        "\n",
        "print(score_cv)\n",
        "print(score)"
      ],
      "metadata": {
        "colab": {
          "base_uri": "https://localhost:8080/"
        },
        "id": "teQc5fVXjt-x",
        "outputId": "18c78381-0cef-489f-ade5-26e913b086a2"
      },
      "execution_count": 47,
      "outputs": [
        {
          "output_type": "stream",
          "name": "stdout",
          "text": [
            "0.5923577635319088\n",
            "0.5910509795491352\n"
          ]
        }
      ]
    },
    {
      "cell_type": "code",
      "source": [
        "# Alternatively we can use any other metric of interest and report performance based on that. \n",
        "\n",
        "mse = mean_squared_error(test_labels, test_predictions)\n",
        "mse_cv =  mean_squared_error(test_labels, test_predictions_cv)\n",
        "\n",
        "print(mse_cv)\n",
        "print(mse)\n",
        "# the cv has better mse than model w/o cross validation"
      ],
      "metadata": {
        "colab": {
          "base_uri": "https://localhost:8080/"
        },
        "id": "FA_t-pX9kCGg",
        "outputId": "e6fa0963-45ca-43c3-f921-27caf9cee066"
      },
      "execution_count": 49,
      "outputs": [
        {
          "output_type": "stream",
          "name": "stdout",
          "text": [
            "0.5393995876218523\n",
            "0.5411287478470688\n"
          ]
        }
      ]
    },
    {
      "cell_type": "code",
      "source": [],
      "metadata": {
        "id": "fBl5aN-Dkfeh"
      },
      "execution_count": null,
      "outputs": []
    }
  ]
}