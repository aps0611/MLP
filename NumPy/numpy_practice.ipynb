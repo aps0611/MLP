{
  "nbformat": 4,
  "nbformat_minor": 0,
  "metadata": {
    "colab": {
      "provenance": []
    },
    "kernelspec": {
      "name": "python3",
      "display_name": "Python 3"
    },
    "language_info": {
      "name": "python"
    }
  },
  "cells": [
    {
      "cell_type": "markdown",
      "source": [
        "**Numpy**"
      ],
      "metadata": {
        "id": "2KVs-ODoA5Dn"
      }
    },
    {
      "cell_type": "code",
      "source": [
        "import numpy as np"
      ],
      "metadata": {
        "id": "BhF3EuiFA4xk"
      },
      "execution_count": 2,
      "outputs": []
    },
    {
      "cell_type": "code",
      "execution_count": 3,
      "metadata": {
        "id": "qSVmD4gG_6eZ"
      },
      "outputs": [],
      "source": [
        "# Python list is linked list\n",
        "# numpy array is written in C and thus elements are stored in consequtive memory location"
      ]
    },
    {
      "cell_type": "code",
      "source": [
        "# this is an example of scalar\n",
        "\n",
        "x = np.array(1)\n",
        "print(x,'\\t',x.ndim,'\\t',x.size,'\\t',x.shape)"
      ],
      "metadata": {
        "colab": {
          "base_uri": "https://localhost:8080/"
        },
        "id": "6lxK3roiCN8x",
        "outputId": "7de9f513-75df-4d85-acbc-686388fb590e"
      },
      "execution_count": 4,
      "outputs": [
        {
          "output_type": "stream",
          "name": "stdout",
          "text": [
            "1 \t 0 \t 1 \t ()\n"
          ]
        }
      ]
    },
    {
      "cell_type": "code",
      "source": [
        "# This is an example of sequence\n",
        "\n",
        "x = np.array([1,2,3])\n",
        "print(x,'\\t',x.ndim,'\\t',x.size,'\\t',x.shape)"
      ],
      "metadata": {
        "colab": {
          "base_uri": "https://localhost:8080/"
        },
        "id": "SNoQePwhCrTY",
        "outputId": "82a53d5e-c7f7-4c62-fb34-1d778e3dc51d"
      },
      "execution_count": 5,
      "outputs": [
        {
          "output_type": "stream",
          "name": "stdout",
          "text": [
            "[1 2 3] \t 1 \t 3 \t (3,)\n"
          ]
        }
      ]
    },
    {
      "cell_type": "code",
      "source": [
        "# size = number of elements\n",
        "# shape (number of elements in first dimension, )\n",
        "# one dimension == Sequence\n",
        "# vector has atleast 2 dimensions"
      ],
      "metadata": {
        "id": "aR_c3jslC5Ch"
      },
      "execution_count": null,
      "outputs": []
    },
    {
      "cell_type": "code",
      "source": [
        "# a (row) vector\n",
        "\n",
        "x = np.array([[1,2,3]])\n",
        "print(x,'\\t',x.ndim,'\\t',x.size,'\\t',x.shape)\n",
        "\n",
        "# in this case shape is (1,3) # i.e. axis 0 contain one element and axis 1 contain 3 elements"
      ],
      "metadata": {
        "colab": {
          "base_uri": "https://localhost:8080/"
        },
        "id": "ANbZM5adDgl-",
        "outputId": "7b5614e0-aab7-4aaa-e1b4-db9328e2bfaf"
      },
      "execution_count": 6,
      "outputs": [
        {
          "output_type": "stream",
          "name": "stdout",
          "text": [
            "[[1 2 3]] \t 2 \t 3 \t (1, 3)\n"
          ]
        }
      ]
    },
    {
      "cell_type": "code",
      "source": [
        "# a (column) vector\n",
        "\n",
        "x = np.array([[1],[2],[3]])\n",
        "print(x,'\\t',x.ndim,'\\t',x.size,'\\t',x.shape)"
      ],
      "metadata": {
        "colab": {
          "base_uri": "https://localhost:8080/"
        },
        "id": "_xQAWFr0ESRh",
        "outputId": "d7abb14b-a8e2-462a-990a-5eb1c188af96"
      },
      "execution_count": 8,
      "outputs": [
        {
          "output_type": "stream",
          "name": "stdout",
          "text": [
            "[[1]\n",
            " [2]\n",
            " [3]] \t 2 \t 3 \t (3, 1)\n"
          ]
        }
      ]
    },
    {
      "cell_type": "code",
      "source": [
        "# a 2 dimensional array\n",
        "\n",
        "x = np.array([[1,2,3],[4,5,6],[7,8,9]])\n",
        "print(x,'\\t',x.ndim,'\\t',x.size,'\\t',x.shape)"
      ],
      "metadata": {
        "colab": {
          "base_uri": "https://localhost:8080/"
        },
        "id": "qXg4xc1yEv4W",
        "outputId": "05de924e-aabf-41fd-8f44-5ebf5fe548e4"
      },
      "execution_count": 9,
      "outputs": [
        {
          "output_type": "stream",
          "name": "stdout",
          "text": [
            "[[1 2 3]\n",
            " [4 5 6]\n",
            " [7 8 9]] \t 2 \t 9 \t (3, 3)\n"
          ]
        }
      ]
    },
    {
      "cell_type": "code",
      "source": [
        "# print zeroth element of axis 0\n",
        "x[0]"
      ],
      "metadata": {
        "colab": {
          "base_uri": "https://localhost:8080/"
        },
        "id": "YCo4k-vkFLfs",
        "outputId": "03d1c14a-cad4-4cd4-8ecc-f55b68ed7617"
      },
      "execution_count": 10,
      "outputs": [
        {
          "output_type": "execute_result",
          "data": {
            "text/plain": [
              "array([1, 2, 3])"
            ]
          },
          "metadata": {},
          "execution_count": 10
        }
      ]
    },
    {
      "cell_type": "code",
      "source": [
        "# print first element of axis 0\n",
        "x[1]"
      ],
      "metadata": {
        "colab": {
          "base_uri": "https://localhost:8080/"
        },
        "id": "kSOdgwUKHAMM",
        "outputId": "63d7ed53-2cb9-4c77-d0dd-60146afc5097"
      },
      "execution_count": 11,
      "outputs": [
        {
          "output_type": "execute_result",
          "data": {
            "text/plain": [
              "array([4, 5, 6])"
            ]
          },
          "metadata": {},
          "execution_count": 11
        }
      ]
    },
    {
      "cell_type": "code",
      "source": [
        "# print zeroth element of axis 0\n",
        "x[0][0]"
      ],
      "metadata": {
        "colab": {
          "base_uri": "https://localhost:8080/"
        },
        "id": "SvhFVSjgHMUa",
        "outputId": "13c4e723-1900-4097-e027-addb0df8cefb"
      },
      "execution_count": 14,
      "outputs": [
        {
          "output_type": "execute_result",
          "data": {
            "text/plain": [
              "1"
            ]
          },
          "metadata": {},
          "execution_count": 14
        }
      ]
    },
    {
      "cell_type": "code",
      "source": [
        "# Go to all the elements of axis 0 and print first element\n",
        "x[:,0]"
      ],
      "metadata": {
        "colab": {
          "base_uri": "https://localhost:8080/"
        },
        "id": "2yc1Qm7jHRn4",
        "outputId": "0c7532d8-687a-4fed-f864-d35ecf07d5c5"
      },
      "execution_count": 16,
      "outputs": [
        {
          "output_type": "execute_result",
          "data": {
            "text/plain": [
              "array([1, 4, 7])"
            ]
          },
          "metadata": {},
          "execution_count": 16
        }
      ]
    },
    {
      "cell_type": "code",
      "source": [
        "# print 0th element of axis 0\n",
        "x[0,0]"
      ],
      "metadata": {
        "colab": {
          "base_uri": "https://localhost:8080/"
        },
        "id": "Rpnhc9XiH7Nj",
        "outputId": "01ea4294-d5a4-4a54-c029-27311f2a90b0"
      },
      "execution_count": 18,
      "outputs": [
        {
          "output_type": "execute_result",
          "data": {
            "text/plain": [
              "1"
            ]
          },
          "metadata": {},
          "execution_count": 18
        }
      ]
    },
    {
      "cell_type": "code",
      "source": [
        "x.sum(axis = 0)"
      ],
      "metadata": {
        "colab": {
          "base_uri": "https://localhost:8080/"
        },
        "id": "j8L3S1QZI2c0",
        "outputId": "2ee216fa-b771-4cab-d3f6-4f65f9a69b79"
      },
      "execution_count": 19,
      "outputs": [
        {
          "output_type": "execute_result",
          "data": {
            "text/plain": [
              "array([12, 15, 18])"
            ]
          },
          "metadata": {},
          "execution_count": 19
        }
      ]
    },
    {
      "cell_type": "code",
      "source": [
        "x.sum(axis = 1)"
      ],
      "metadata": {
        "colab": {
          "base_uri": "https://localhost:8080/"
        },
        "id": "HXjbEYIlJfjb",
        "outputId": "93a59ebc-e434-4f5a-d55c-cb88605b34bc"
      },
      "execution_count": 21,
      "outputs": [
        {
          "output_type": "execute_result",
          "data": {
            "text/plain": [
              "array([ 6, 15, 24])"
            ]
          },
          "metadata": {},
          "execution_count": 21
        }
      ]
    },
    {
      "cell_type": "code",
      "source": [
        "# np.zeros\n",
        "\n",
        "x = np.zeros((3,3))\n",
        "print(x,'\\t',x.ndim,'\\t',x.size,'\\t',x.shape)"
      ],
      "metadata": {
        "colab": {
          "base_uri": "https://localhost:8080/"
        },
        "id": "N15-1ViAJg3o",
        "outputId": "3602fe32-959b-4a82-95b0-86553b3df593"
      },
      "execution_count": 23,
      "outputs": [
        {
          "output_type": "stream",
          "name": "stdout",
          "text": [
            "[[0. 0. 0.]\n",
            " [0. 0. 0.]\n",
            " [0. 0. 0.]] \t 2 \t 9 \t (3, 3)\n"
          ]
        }
      ]
    },
    {
      "cell_type": "code",
      "source": [
        "np.zeros_like(x)"
      ],
      "metadata": {
        "colab": {
          "base_uri": "https://localhost:8080/"
        },
        "id": "damO7IxViXx0",
        "outputId": "f0cefb7f-5d65-487e-e3af-6254797d7ab4"
      },
      "execution_count": 25,
      "outputs": [
        {
          "output_type": "execute_result",
          "data": {
            "text/plain": [
              "array([[0., 0., 0.],\n",
              "       [0., 0., 0.],\n",
              "       [0., 0., 0.]])"
            ]
          },
          "metadata": {},
          "execution_count": 25
        }
      ]
    },
    {
      "cell_type": "code",
      "source": [
        "np.random.seed(42)\n",
        "print(np.random.randint(0,10,size=(3,3)))"
      ],
      "metadata": {
        "colab": {
          "base_uri": "https://localhost:8080/"
        },
        "id": "7npXUbuuLA09",
        "outputId": "1a745904-6a05-47e3-ca4f-4b85f2336a7b"
      },
      "execution_count": 26,
      "outputs": [
        {
          "output_type": "stream",
          "name": "stdout",
          "text": [
            "[[6 3 7]\n",
            " [4 6 9]\n",
            " [2 6 7]]\n"
          ]
        }
      ]
    },
    {
      "cell_type": "code",
      "source": [
        "rand_state = 42\n",
        "rand_gen = np.random.RandomState(rand_state)\n",
        "print(rand_gen.randint(0,10,size=(3,3)))"
      ],
      "metadata": {
        "colab": {
          "base_uri": "https://localhost:8080/"
        },
        "id": "WS-1rLvdLWDT",
        "outputId": "6d090a84-490f-4958-fd57-4a23a0da7d06"
      },
      "execution_count": 27,
      "outputs": [
        {
          "output_type": "stream",
          "name": "stdout",
          "text": [
            "[[6 3 7]\n",
            " [4 6 9]\n",
            " [2 6 7]]\n"
          ]
        }
      ]
    },
    {
      "cell_type": "code",
      "source": [],
      "metadata": {
        "id": "bBuGWNOxLfWb"
      },
      "execution_count": null,
      "outputs": []
    }
  ]
}