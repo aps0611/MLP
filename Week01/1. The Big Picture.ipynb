{
 "cells": [
  {
   "cell_type": "markdown",
   "id": "e36faabf",
   "metadata": {},
   "source": [
    "## Steps in Machine Learning Project\n",
    "\n",
    "#### 1. Look at the Big Picture\n",
    "#### 2. Get the data\n",
    "#### 3. Discover and Visualize the Data\n",
    "#### 4. Prepare the data for ML Algorithm\n",
    "#### 5. Select the model and train it\n",
    "#### 6. Fine tune your model\n",
    "#### 7. Present the solution\n",
    "#### 8. Launch, Monitor and Maintain your system\n"
   ]
  },
  {
   "cell_type": "markdown",
   "id": "58237cb0",
   "metadata": {},
   "source": [
    "# Step 1. Look at the Big Picture"
   ]
  },
  {
   "cell_type": "markdown",
   "id": "ff531853",
   "metadata": {},
   "source": [
    "### 1.1 Frame the problem\n",
    "      a. What are input and output?\n",
    " \n",
    "      b. What is the business objective?\n",
    "\n",
    "      c. What is the current solution? May provide useful baseline. One way could be to use Human Labour to predict the label\n",
    "      \n",
    "  #### Design Consideration\n",
    "  \n",
    "  a. Supervised or Unsupervised?\n",
    "  \n",
    "  b. Single or Multiple outputs?\n",
    "  \n",
    "  c. Contnuous learning or periodic learning?\n",
    "  \n",
    "  d. Batch or Online learning?"
   ]
  },
  {
   "cell_type": "markdown",
   "id": "147d7f20",
   "metadata": {},
   "source": [
    "### 1.2 Select the Performance Measure\n",
    "\n",
    "a. Regression: MSE or MAE\n",
    "\n",
    "b. classification: Precision, recall, F1-score, Accuracy"
   ]
  },
  {
   "cell_type": "markdown",
   "id": "6deb99fa",
   "metadata": {},
   "source": [
    "### 1.3 List and check the assumptions\n",
    "\n",
    "Through discussion with team or product managers etc."
   ]
  },
  {
   "cell_type": "markdown",
   "id": "33869a82",
   "metadata": {},
   "source": [
    "# Step 2: Get the Data"
   ]
  },
  {
   "cell_type": "code",
   "execution_count": 1,
   "id": "851aaa23",
   "metadata": {},
   "outputs": [],
   "source": [
    "## Load the basic python libraries needed:\n",
    "\n",
    "import pandas as pd\n",
    "import numpy as np\n",
    "import seaborn as sns\n",
    "import matplotlib.pyplot as plt\n",
    "\n",
    "%matplotlib inline"
   ]
  },
  {
   "cell_type": "code",
   "execution_count": 2,
   "id": "7fdc9261",
   "metadata": {},
   "outputs": [],
   "source": [
    "### Get the data\n",
    "\n",
    "data_url = \"https://archive.ics.uci.edu/ml/machine-learning-databases/wine-quality/winequality-red.csv\"\n",
    "data = pd.read_csv(data_url, sep = ';')"
   ]
  },
  {
   "cell_type": "code",
   "execution_count": 3,
   "id": "dfec78f2",
   "metadata": {},
   "outputs": [
    {
     "data": {
      "text/html": [
       "<div>\n",
       "<style scoped>\n",
       "    .dataframe tbody tr th:only-of-type {\n",
       "        vertical-align: middle;\n",
       "    }\n",
       "\n",
       "    .dataframe tbody tr th {\n",
       "        vertical-align: top;\n",
       "    }\n",
       "\n",
       "    .dataframe thead th {\n",
       "        text-align: right;\n",
       "    }\n",
       "</style>\n",
       "<table border=\"1\" class=\"dataframe\">\n",
       "  <thead>\n",
       "    <tr style=\"text-align: right;\">\n",
       "      <th></th>\n",
       "      <th>fixed acidity</th>\n",
       "      <th>volatile acidity</th>\n",
       "      <th>citric acid</th>\n",
       "      <th>residual sugar</th>\n",
       "      <th>chlorides</th>\n",
       "      <th>free sulfur dioxide</th>\n",
       "      <th>total sulfur dioxide</th>\n",
       "      <th>density</th>\n",
       "      <th>pH</th>\n",
       "      <th>sulphates</th>\n",
       "      <th>alcohol</th>\n",
       "      <th>quality</th>\n",
       "    </tr>\n",
       "  </thead>\n",
       "  <tbody>\n",
       "    <tr>\n",
       "      <th>0</th>\n",
       "      <td>7.4</td>\n",
       "      <td>0.70</td>\n",
       "      <td>0.00</td>\n",
       "      <td>1.9</td>\n",
       "      <td>0.076</td>\n",
       "      <td>11.0</td>\n",
       "      <td>34.0</td>\n",
       "      <td>0.9978</td>\n",
       "      <td>3.51</td>\n",
       "      <td>0.56</td>\n",
       "      <td>9.4</td>\n",
       "      <td>5</td>\n",
       "    </tr>\n",
       "    <tr>\n",
       "      <th>1</th>\n",
       "      <td>7.8</td>\n",
       "      <td>0.88</td>\n",
       "      <td>0.00</td>\n",
       "      <td>2.6</td>\n",
       "      <td>0.098</td>\n",
       "      <td>25.0</td>\n",
       "      <td>67.0</td>\n",
       "      <td>0.9968</td>\n",
       "      <td>3.20</td>\n",
       "      <td>0.68</td>\n",
       "      <td>9.8</td>\n",
       "      <td>5</td>\n",
       "    </tr>\n",
       "    <tr>\n",
       "      <th>2</th>\n",
       "      <td>7.8</td>\n",
       "      <td>0.76</td>\n",
       "      <td>0.04</td>\n",
       "      <td>2.3</td>\n",
       "      <td>0.092</td>\n",
       "      <td>15.0</td>\n",
       "      <td>54.0</td>\n",
       "      <td>0.9970</td>\n",
       "      <td>3.26</td>\n",
       "      <td>0.65</td>\n",
       "      <td>9.8</td>\n",
       "      <td>5</td>\n",
       "    </tr>\n",
       "    <tr>\n",
       "      <th>3</th>\n",
       "      <td>11.2</td>\n",
       "      <td>0.28</td>\n",
       "      <td>0.56</td>\n",
       "      <td>1.9</td>\n",
       "      <td>0.075</td>\n",
       "      <td>17.0</td>\n",
       "      <td>60.0</td>\n",
       "      <td>0.9980</td>\n",
       "      <td>3.16</td>\n",
       "      <td>0.58</td>\n",
       "      <td>9.8</td>\n",
       "      <td>6</td>\n",
       "    </tr>\n",
       "    <tr>\n",
       "      <th>4</th>\n",
       "      <td>7.4</td>\n",
       "      <td>0.70</td>\n",
       "      <td>0.00</td>\n",
       "      <td>1.9</td>\n",
       "      <td>0.076</td>\n",
       "      <td>11.0</td>\n",
       "      <td>34.0</td>\n",
       "      <td>0.9978</td>\n",
       "      <td>3.51</td>\n",
       "      <td>0.56</td>\n",
       "      <td>9.4</td>\n",
       "      <td>5</td>\n",
       "    </tr>\n",
       "  </tbody>\n",
       "</table>\n",
       "</div>"
      ],
      "text/plain": [
       "   fixed acidity  volatile acidity  citric acid  residual sugar  chlorides  \\\n",
       "0            7.4              0.70         0.00             1.9      0.076   \n",
       "1            7.8              0.88         0.00             2.6      0.098   \n",
       "2            7.8              0.76         0.04             2.3      0.092   \n",
       "3           11.2              0.28         0.56             1.9      0.075   \n",
       "4            7.4              0.70         0.00             1.9      0.076   \n",
       "\n",
       "   free sulfur dioxide  total sulfur dioxide  density    pH  sulphates  \\\n",
       "0                 11.0                  34.0   0.9978  3.51       0.56   \n",
       "1                 25.0                  67.0   0.9968  3.20       0.68   \n",
       "2                 15.0                  54.0   0.9970  3.26       0.65   \n",
       "3                 17.0                  60.0   0.9980  3.16       0.58   \n",
       "4                 11.0                  34.0   0.9978  3.51       0.56   \n",
       "\n",
       "   alcohol  quality  \n",
       "0      9.4        5  \n",
       "1      9.8        5  \n",
       "2      9.8        5  \n",
       "3      9.8        6  \n",
       "4      9.4        5  "
      ]
     },
     "execution_count": 3,
     "metadata": {},
     "output_type": "execute_result"
    }
   ],
   "source": [
    "## looking at first few data samples:\n",
    "\n",
    "data.head()"
   ]
  },
  {
   "cell_type": "code",
   "execution_count": 4,
   "id": "56558a1b",
   "metadata": {},
   "outputs": [],
   "source": [
    "## Features:\n",
    "\n",
    "feature_list = data.columns[:-1]\n",
    "label = [data.columns[-1]]"
   ]
  },
  {
   "cell_type": "code",
   "execution_count": 5,
   "id": "6f743565",
   "metadata": {},
   "outputs": [
    {
     "name": "stdout",
     "output_type": "stream",
     "text": [
      "Index(['fixed acidity', 'volatile acidity', 'citric acid', 'residual sugar',\n",
      "       'chlorides', 'free sulfur dioxide', 'total sulfur dioxide', 'density',\n",
      "       'pH', 'sulphates', 'alcohol'],\n",
      "      dtype='object')\n"
     ]
    }
   ],
   "source": [
    "print(feature_list)"
   ]
  },
  {
   "cell_type": "code",
   "execution_count": 6,
   "id": "c6d77d8f",
   "metadata": {},
   "outputs": [
    {
     "name": "stdout",
     "output_type": "stream",
     "text": [
      "['quality']\n"
     ]
    }
   ],
   "source": [
    "print(label)"
   ]
  },
  {
   "cell_type": "code",
   "execution_count": 7,
   "id": "2937b7aa",
   "metadata": {},
   "outputs": [
    {
     "data": {
      "text/plain": [
       "(1599, 12)"
      ]
     },
     "execution_count": 7,
     "metadata": {},
     "output_type": "execute_result"
    }
   ],
   "source": [
    "data.shape"
   ]
  },
  {
   "cell_type": "markdown",
   "id": "670a1e60",
   "metadata": {},
   "source": [
    "## Data Statistics"
   ]
  },
  {
   "cell_type": "code",
   "execution_count": 8,
   "id": "6c653fed",
   "metadata": {},
   "outputs": [
    {
     "name": "stdout",
     "output_type": "stream",
     "text": [
      "<class 'pandas.core.frame.DataFrame'>\n",
      "RangeIndex: 1599 entries, 0 to 1598\n",
      "Data columns (total 12 columns):\n",
      " #   Column                Non-Null Count  Dtype  \n",
      "---  ------                --------------  -----  \n",
      " 0   fixed acidity         1599 non-null   float64\n",
      " 1   volatile acidity      1599 non-null   float64\n",
      " 2   citric acid           1599 non-null   float64\n",
      " 3   residual sugar        1599 non-null   float64\n",
      " 4   chlorides             1599 non-null   float64\n",
      " 5   free sulfur dioxide   1599 non-null   float64\n",
      " 6   total sulfur dioxide  1599 non-null   float64\n",
      " 7   density               1599 non-null   float64\n",
      " 8   pH                    1599 non-null   float64\n",
      " 9   sulphates             1599 non-null   float64\n",
      " 10  alcohol               1599 non-null   float64\n",
      " 11  quality               1599 non-null   int64  \n",
      "dtypes: float64(11), int64(1)\n",
      "memory usage: 150.0 KB\n"
     ]
    }
   ],
   "source": [
    "## get quick description of data\n",
    "\n",
    "data.info()"
   ]
  },
  {
   "cell_type": "code",
   "execution_count": 9,
   "id": "cfb52eae",
   "metadata": {},
   "outputs": [
    {
     "data": {
      "text/html": [
       "<div>\n",
       "<style scoped>\n",
       "    .dataframe tbody tr th:only-of-type {\n",
       "        vertical-align: middle;\n",
       "    }\n",
       "\n",
       "    .dataframe tbody tr th {\n",
       "        vertical-align: top;\n",
       "    }\n",
       "\n",
       "    .dataframe thead th {\n",
       "        text-align: right;\n",
       "    }\n",
       "</style>\n",
       "<table border=\"1\" class=\"dataframe\">\n",
       "  <thead>\n",
       "    <tr style=\"text-align: right;\">\n",
       "      <th></th>\n",
       "      <th>fixed acidity</th>\n",
       "      <th>volatile acidity</th>\n",
       "      <th>citric acid</th>\n",
       "      <th>residual sugar</th>\n",
       "      <th>chlorides</th>\n",
       "      <th>free sulfur dioxide</th>\n",
       "      <th>total sulfur dioxide</th>\n",
       "      <th>density</th>\n",
       "      <th>pH</th>\n",
       "      <th>sulphates</th>\n",
       "      <th>alcohol</th>\n",
       "      <th>quality</th>\n",
       "    </tr>\n",
       "  </thead>\n",
       "  <tbody>\n",
       "    <tr>\n",
       "      <th>count</th>\n",
       "      <td>1599.000000</td>\n",
       "      <td>1599.000000</td>\n",
       "      <td>1599.000000</td>\n",
       "      <td>1599.000000</td>\n",
       "      <td>1599.000000</td>\n",
       "      <td>1599.000000</td>\n",
       "      <td>1599.000000</td>\n",
       "      <td>1599.000000</td>\n",
       "      <td>1599.000000</td>\n",
       "      <td>1599.000000</td>\n",
       "      <td>1599.000000</td>\n",
       "      <td>1599.000000</td>\n",
       "    </tr>\n",
       "    <tr>\n",
       "      <th>mean</th>\n",
       "      <td>8.319637</td>\n",
       "      <td>0.527821</td>\n",
       "      <td>0.270976</td>\n",
       "      <td>2.538806</td>\n",
       "      <td>0.087467</td>\n",
       "      <td>15.874922</td>\n",
       "      <td>46.467792</td>\n",
       "      <td>0.996747</td>\n",
       "      <td>3.311113</td>\n",
       "      <td>0.658149</td>\n",
       "      <td>10.422983</td>\n",
       "      <td>5.636023</td>\n",
       "    </tr>\n",
       "    <tr>\n",
       "      <th>std</th>\n",
       "      <td>1.741096</td>\n",
       "      <td>0.179060</td>\n",
       "      <td>0.194801</td>\n",
       "      <td>1.409928</td>\n",
       "      <td>0.047065</td>\n",
       "      <td>10.460157</td>\n",
       "      <td>32.895324</td>\n",
       "      <td>0.001887</td>\n",
       "      <td>0.154386</td>\n",
       "      <td>0.169507</td>\n",
       "      <td>1.065668</td>\n",
       "      <td>0.807569</td>\n",
       "    </tr>\n",
       "    <tr>\n",
       "      <th>min</th>\n",
       "      <td>4.600000</td>\n",
       "      <td>0.120000</td>\n",
       "      <td>0.000000</td>\n",
       "      <td>0.900000</td>\n",
       "      <td>0.012000</td>\n",
       "      <td>1.000000</td>\n",
       "      <td>6.000000</td>\n",
       "      <td>0.990070</td>\n",
       "      <td>2.740000</td>\n",
       "      <td>0.330000</td>\n",
       "      <td>8.400000</td>\n",
       "      <td>3.000000</td>\n",
       "    </tr>\n",
       "    <tr>\n",
       "      <th>25%</th>\n",
       "      <td>7.100000</td>\n",
       "      <td>0.390000</td>\n",
       "      <td>0.090000</td>\n",
       "      <td>1.900000</td>\n",
       "      <td>0.070000</td>\n",
       "      <td>7.000000</td>\n",
       "      <td>22.000000</td>\n",
       "      <td>0.995600</td>\n",
       "      <td>3.210000</td>\n",
       "      <td>0.550000</td>\n",
       "      <td>9.500000</td>\n",
       "      <td>5.000000</td>\n",
       "    </tr>\n",
       "    <tr>\n",
       "      <th>50%</th>\n",
       "      <td>7.900000</td>\n",
       "      <td>0.520000</td>\n",
       "      <td>0.260000</td>\n",
       "      <td>2.200000</td>\n",
       "      <td>0.079000</td>\n",
       "      <td>14.000000</td>\n",
       "      <td>38.000000</td>\n",
       "      <td>0.996750</td>\n",
       "      <td>3.310000</td>\n",
       "      <td>0.620000</td>\n",
       "      <td>10.200000</td>\n",
       "      <td>6.000000</td>\n",
       "    </tr>\n",
       "    <tr>\n",
       "      <th>75%</th>\n",
       "      <td>9.200000</td>\n",
       "      <td>0.640000</td>\n",
       "      <td>0.420000</td>\n",
       "      <td>2.600000</td>\n",
       "      <td>0.090000</td>\n",
       "      <td>21.000000</td>\n",
       "      <td>62.000000</td>\n",
       "      <td>0.997835</td>\n",
       "      <td>3.400000</td>\n",
       "      <td>0.730000</td>\n",
       "      <td>11.100000</td>\n",
       "      <td>6.000000</td>\n",
       "    </tr>\n",
       "    <tr>\n",
       "      <th>max</th>\n",
       "      <td>15.900000</td>\n",
       "      <td>1.580000</td>\n",
       "      <td>1.000000</td>\n",
       "      <td>15.500000</td>\n",
       "      <td>0.611000</td>\n",
       "      <td>72.000000</td>\n",
       "      <td>289.000000</td>\n",
       "      <td>1.003690</td>\n",
       "      <td>4.010000</td>\n",
       "      <td>2.000000</td>\n",
       "      <td>14.900000</td>\n",
       "      <td>8.000000</td>\n",
       "    </tr>\n",
       "  </tbody>\n",
       "</table>\n",
       "</div>"
      ],
      "text/plain": [
       "       fixed acidity  volatile acidity  citric acid  residual sugar  \\\n",
       "count    1599.000000       1599.000000  1599.000000     1599.000000   \n",
       "mean        8.319637          0.527821     0.270976        2.538806   \n",
       "std         1.741096          0.179060     0.194801        1.409928   \n",
       "min         4.600000          0.120000     0.000000        0.900000   \n",
       "25%         7.100000          0.390000     0.090000        1.900000   \n",
       "50%         7.900000          0.520000     0.260000        2.200000   \n",
       "75%         9.200000          0.640000     0.420000        2.600000   \n",
       "max        15.900000          1.580000     1.000000       15.500000   \n",
       "\n",
       "         chlorides  free sulfur dioxide  total sulfur dioxide      density  \\\n",
       "count  1599.000000          1599.000000           1599.000000  1599.000000   \n",
       "mean      0.087467            15.874922             46.467792     0.996747   \n",
       "std       0.047065            10.460157             32.895324     0.001887   \n",
       "min       0.012000             1.000000              6.000000     0.990070   \n",
       "25%       0.070000             7.000000             22.000000     0.995600   \n",
       "50%       0.079000            14.000000             38.000000     0.996750   \n",
       "75%       0.090000            21.000000             62.000000     0.997835   \n",
       "max       0.611000            72.000000            289.000000     1.003690   \n",
       "\n",
       "                pH    sulphates      alcohol      quality  \n",
       "count  1599.000000  1599.000000  1599.000000  1599.000000  \n",
       "mean      3.311113     0.658149    10.422983     5.636023  \n",
       "std       0.154386     0.169507     1.065668     0.807569  \n",
       "min       2.740000     0.330000     8.400000     3.000000  \n",
       "25%       3.210000     0.550000     9.500000     5.000000  \n",
       "50%       3.310000     0.620000    10.200000     6.000000  \n",
       "75%       3.400000     0.730000    11.100000     6.000000  \n",
       "max       4.010000     2.000000    14.900000     8.000000  "
      ]
     },
     "execution_count": 9,
     "metadata": {},
     "output_type": "execute_result"
    }
   ],
   "source": [
    "## Nature of Numeric attributes:\n",
    "\n",
    "data.describe()"
   ]
  },
  {
   "cell_type": "code",
   "execution_count": 10,
   "id": "6acd109a",
   "metadata": {},
   "outputs": [
    {
     "data": {
      "text/plain": [
       "5    681\n",
       "6    638\n",
       "7    199\n",
       "4     53\n",
       "8     18\n",
       "3     10\n",
       "Name: quality, dtype: int64"
      ]
     },
     "execution_count": 10,
     "metadata": {},
     "output_type": "execute_result"
    }
   ],
   "source": [
    "data['quality'].value_counts()"
   ]
  },
  {
   "cell_type": "code",
   "execution_count": 11,
   "id": "11f19b8b",
   "metadata": {},
   "outputs": [
    {
     "data": {
      "text/plain": [
       "Text(0, 0.5, 'Count')"
      ]
     },
     "execution_count": 11,
     "metadata": {},
     "output_type": "execute_result"
    },
    {
     "data": {
      "image/png": "[encoded data removed]",
      "text/plain": [
       "<Figure size 432x288 with 1 Axes>"
      ]
     },
     "metadata": {},
     "output_type": "display_data"
    }
   ],
   "source": [
    "## Plotting the quality\n",
    "\n",
    "sns.set()\n",
    "data.quality.hist()\n",
    "plt.xlabel('Wine Quality')\n",
    "plt.ylabel('Count')"
   ]
  },
  {
   "cell_type": "code",
   "execution_count": 12,
   "id": "23b66987",
   "metadata": {},
   "outputs": [
    {
     "data": {
      "image/png": "[encoded data removed]",
      "text/plain": [
       "<Figure size 432x288 with 1 Axes>"
      ]
     },
     "metadata": {},
     "output_type": "display_data"
    }
   ],
   "source": [
    "for featr in feature_list:\n",
    "    # print(featr)\n",
    "    sns.set()\n",
    "    data[featr].hist()\n",
    "    plt.xlabel(featr)\n",
    "    plt.ylabel('Count')"
   ]
  },
  {
   "cell_type": "code",
   "execution_count": 13,
   "id": "43bba1a9",
   "metadata": {},
   "outputs": [
    {
     "data": {
      "text/plain": [
       "Text(0, 0.5, 'Count')"
      ]
     },
     "execution_count": 13,
     "metadata": {},
     "output_type": "execute_result"
    },
    {
     "data": {
      "image/png": "[encoded data removed]",
      "text/plain": [
       "<Figure size 432x288 with 1 Axes>"
      ]
     },
     "metadata": {},
     "output_type": "display_data"
    }
   ],
   "source": [
    "## Plotting the density:\n",
    "\n",
    "sns.set()\n",
    "data.density.hist()\n",
    "plt.xlabel('density')\n",
    "plt.ylabel('Count')"
   ]
  },
  {
   "cell_type": "markdown",
   "id": "eaa9ff34",
   "metadata": {},
   "source": [
    "##### Different features have different scales and also different distributions"
   ]
  },
  {
   "cell_type": "markdown",
   "id": "337c6faf",
   "metadata": {},
   "source": [
    "## Create a train test split\n",
    "\n",
    "    Biased estimation on the test set if we dont split the data: **Data Snooping Bias**"
   ]
  },
  {
   "cell_type": "code",
   "execution_count": 14,
   "id": "678517f5",
   "metadata": {},
   "outputs": [],
   "source": [
    "## write a function to split the data into train and split dataset:\n",
    "\n",
    "\n",
    "def split_train_test(data, test_ratio):\n",
    "    # set random seed:\n",
    "    np.random.seed(50)\n",
    "    \n",
    "    # shuffle the dataset:\n",
    "    shuffled_indices = np.random.permutation(len(data))\n",
    "    \n",
    "    # calculate the size of the test set.\n",
    "    test_set_size = int(len(data) * test_ratio)\n",
    "    \n",
    "    # split the dataset to get training and test set:\n",
    "    test_indices = shuffled_indices[:test_set_size]\n",
    "    train_indices = shuffled_indices[test_set_size:]\n",
    "    return data.iloc[train_indices] , data.iloc[test_indices]"
   ]
  },
  {
   "cell_type": "code",
   "execution_count": 15,
   "id": "6165f0c7",
   "metadata": {},
   "outputs": [],
   "source": [
    "train_set, test_set = split_train_test(data, 0.2)"
   ]
  },
  {
   "cell_type": "markdown",
   "id": "360c79f3",
   "metadata": {},
   "source": [
    "## Scikit learn function for test sets:\n",
    "\n",
    "### 1. Random Sampling- randomly selects k% of \n",
    "\n",
    "### 2. Stratified Sampling- samples test examples such that they are representative of overall distribution"
   ]
  },
  {
   "cell_type": "code",
   "execution_count": 16,
   "id": "e842b34a",
   "metadata": {},
   "outputs": [],
   "source": [
    "## Random sampling\n",
    "\n",
    "'''\n",
    "random_state: sets the random seed\n",
    "test_size: specify the test size\n",
    "shuffle_flag: if data needs to be shuffled\n",
    "\n",
    "Multiple datasets can also be shuffled\n",
    "'''\n",
    "\n",
    "from sklearn.model_selection import train_test_split\n",
    "\n",
    "train_set , test_set = train_test_split(data, test_size = 0.2, random_state = 50)"
   ]
  },
  {
   "cell_type": "markdown",
   "id": "95009541",
   "metadata": {},
   "source": [
    "### Data distribution may not be uniform in real world data. Random sampling by its nature introduce bias in such data\n",
    "\n",
    " In such case divide the population into strata. \n",
    " \n",
    " data is sampled from each stratum so as to match the overall data distribution.\n",
    " \n",
    " Scikit learn provides a class StratifiedShuffleSplit that helps us in stratified sampling. "
   ]
  },
  {
   "cell_type": "code",
   "execution_count": 17,
   "id": "8f291f03",
   "metadata": {},
   "outputs": [],
   "source": [
    "from sklearn.model_selection import StratifiedShuffleSplit\n",
    "split = StratifiedShuffleSplit(n_splits=1, test_size = 0.2, random_state = 42)\n",
    "for train_index, test_index in split.split(data, data[\"quality\"]):\n",
    "    strat_train_set = data.loc[train_index]\n",
    "    strat_test_set = data.loc[test_index]"
   ]
  },
  {
   "cell_type": "code",
   "execution_count": 18,
   "id": "210f9a0f",
   "metadata": {},
   "outputs": [],
   "source": [
    "strat_dist = strat_test_set[\"quality\"].value_counts() / len(strat_test_set)"
   ]
  },
  {
   "cell_type": "code",
   "execution_count": 19,
   "id": "4b020a31",
   "metadata": {},
   "outputs": [],
   "source": [
    "overall_dist = data[\"quality\"].value_counts() / len(data)"
   ]
  },
  {
   "cell_type": "code",
   "execution_count": 20,
   "id": "2dc9be7a",
   "metadata": {},
   "outputs": [
    {
     "data": {
      "text/plain": [
       "5    0.425000\n",
       "6    0.400000\n",
       "7    0.125000\n",
       "4    0.034375\n",
       "8    0.009375\n",
       "3    0.006250\n",
       "Name: quality, dtype: float64"
      ]
     },
     "execution_count": 20,
     "metadata": {},
     "output_type": "execute_result"
    }
   ],
   "source": [
    "strat_dist"
   ]
  },
  {
   "cell_type": "code",
   "execution_count": 21,
   "id": "1beae6f0",
   "metadata": {},
   "outputs": [
    {
     "data": {
      "text/plain": [
       "5    0.425891\n",
       "6    0.398999\n",
       "7    0.124453\n",
       "4    0.033146\n",
       "8    0.011257\n",
       "3    0.006254\n",
       "Name: quality, dtype: float64"
      ]
     },
     "execution_count": 21,
     "metadata": {},
     "output_type": "execute_result"
    }
   ],
   "source": [
    "overall_dist"
   ]
  },
  {
   "cell_type": "code",
   "execution_count": 22,
   "id": "01bdb5e5",
   "metadata": {},
   "outputs": [],
   "source": [
    "## There is small difference in strata compared to overall distribution"
   ]
  },
  {
   "cell_type": "markdown",
   "id": "9e234cef",
   "metadata": {},
   "source": [
    "# Stratified sampling gives test distribution closer to the overall distribution than random sampling"
   ]
  },
  {
   "cell_type": "markdown",
   "id": "a0457f96",
   "metadata": {},
   "source": [
    "# Step4:  Data Preperation for ML algorithm"
   ]
  },
  {
   "cell_type": "markdown",
   "id": "fbfa28af",
   "metadata": {},
   "source": [
    "Typical Steps involved:\n",
    "    \n",
    "    1. Seperating features and labels\n",
    "    2. Handling missing values and NaN values\n",
    "    3. Feature scaling to bring all features to same scale\n",
    "    4. Applying certain trasformations on features\n",
    "    \n",
    "    \n",
    " Good Practice to make a copy of data and then preprocess it"
   ]
  },
  {
   "cell_type": "code",
   "execution_count": 23,
   "id": "981789e4",
   "metadata": {},
   "outputs": [],
   "source": [
    "## Copy all the features except the label column\n",
    "wine_features = strat_train_set.drop(\"quality\", axis = 1)\n",
    "\n",
    "## Copy the label list:\n",
    "wine_labels = strat_train_set['quality'].copy()"
   ]
  },
  {
   "cell_type": "code",
   "execution_count": 24,
   "id": "5b62993a",
   "metadata": {},
   "outputs": [
    {
     "data": {
      "text/plain": [
       "fixed acidity           0\n",
       "volatile acidity        0\n",
       "citric acid             0\n",
       "residual sugar          0\n",
       "chlorides               0\n",
       "free sulfur dioxide     0\n",
       "total sulfur dioxide    0\n",
       "density                 0\n",
       "pH                      0\n",
       "sulphates               0\n",
       "alcohol                 0\n",
       "dtype: int64"
      ]
     },
     "execution_count": 24,
     "metadata": {},
     "output_type": "execute_result"
    }
   ],
   "source": [
    "# Check for missing values:\n",
    "\n",
    "wine_features.isna().sum() # counts NaN values\n",
    "\n",
    "# use imputation technique to handle the missing values | drop the columns that contain the missing values | If does not exist better to keep them NaN"
   ]
  },
  {
   "cell_type": "code",
   "execution_count": 25,
   "id": "6777ffc4",
   "metadata": {},
   "outputs": [
    {
     "data": {
      "text/plain": [
       "'\\ndropna()\\ndrop()\\n'"
      ]
     },
     "execution_count": 25,
     "metadata": {},
     "output_type": "execute_result"
    }
   ],
   "source": [
    "## SKlearn provide following methods to drop rows that contain the missing values\n",
    "'''\n",
    "dropna()\n",
    "drop()\n",
    "'''\n"
   ]
  },
  {
   "cell_type": "code",
   "execution_count": 26,
   "id": "8a3725a7",
   "metadata": {},
   "outputs": [],
   "source": [
    "## SKlearn provides SimpleImputer class for filling up the missing values\n",
    "\n",
    "from sklearn.impute import SimpleImputer\n",
    "imputer = SimpleImputer(strategy = \"median\")"
   ]
  },
  {
   "cell_type": "code",
   "execution_count": 27,
   "id": "8cfc1912",
   "metadata": {},
   "outputs": [
    {
     "data": {
      "text/plain": [
       "SimpleImputer(strategy='median')"
      ]
     },
     "execution_count": 27,
     "metadata": {},
     "output_type": "execute_result"
    }
   ],
   "source": [
    "imputer.fit(wine_features) # calculates the median values"
   ]
  },
  {
   "cell_type": "code",
   "execution_count": 28,
   "id": "42c7edff",
   "metadata": {},
   "outputs": [
    {
     "data": {
      "text/plain": [
       "array([ 7.9    ,  0.52   ,  0.26   ,  2.2    ,  0.08   , 14.     ,\n",
       "       39.     ,  0.99675,  3.31   ,  0.62   , 10.2    ])"
      ]
     },
     "execution_count": 28,
     "metadata": {},
     "output_type": "execute_result"
    }
   ],
   "source": [
    "## Median values for each features as learned by our imputer\n",
    "\n",
    "imputer.statistics_"
   ]
  },
  {
   "cell_type": "code",
   "execution_count": 29,
   "id": "f6d3b715",
   "metadata": {},
   "outputs": [
    {
     "data": {
      "text/plain": [
       "fixed acidity            7.90000\n",
       "volatile acidity         0.52000\n",
       "citric acid              0.26000\n",
       "residual sugar           2.20000\n",
       "chlorides                0.08000\n",
       "free sulfur dioxide     14.00000\n",
       "total sulfur dioxide    39.00000\n",
       "density                  0.99675\n",
       "pH                       3.31000\n",
       "sulphates                0.62000\n",
       "alcohol                 10.20000\n",
       "dtype: float64"
      ]
     },
     "execution_count": 29,
     "metadata": {},
     "output_type": "execute_result"
    }
   ],
   "source": [
    "# check that the values match with the imputer calculated values\n",
    "wine_features.median()"
   ]
  },
  {
   "cell_type": "code",
   "execution_count": 30,
   "id": "ea942a1b",
   "metadata": {},
   "outputs": [],
   "source": [
    "## Transform the wine_features such that the missing values are replaced\n",
    "tr_features = imputer.transform(wine_features)"
   ]
  },
  {
   "cell_type": "code",
   "execution_count": 31,
   "id": "df6988f4",
   "metadata": {},
   "outputs": [
    {
     "data": {
      "text/plain": [
       "(1279, 11)"
      ]
     },
     "execution_count": 31,
     "metadata": {},
     "output_type": "execute_result"
    }
   ],
   "source": [
    "tr_features.shape"
   ]
  },
  {
   "cell_type": "code",
   "execution_count": 32,
   "id": "a26d9bb5",
   "metadata": {},
   "outputs": [],
   "source": [
    "## Convert the Numpy array into the dataframe:\n",
    "\n",
    "wine_features_tr = pd.DataFrame(tr_features, columns = wine_features.columns)"
   ]
  },
  {
   "cell_type": "code",
   "execution_count": 33,
   "id": "667b7627",
   "metadata": {},
   "outputs": [],
   "source": [
    "## Handling Text and Categorical Attributes:\n",
    "## We can take these categories and convert them into numbers:"
   ]
  },
  {
   "cell_type": "markdown",
   "id": "dfaefce8",
   "metadata": {},
   "source": [
    "## Converting Categories to numbers:\n"
   ]
  },
  {
   "cell_type": "code",
   "execution_count": 34,
   "id": "0d24f3d0",
   "metadata": {},
   "outputs": [],
   "source": [
    "from sklearn.preprocessing import OrdinalEncoder\n",
    "ordinal_encoder = OrdinalEncoder()\n",
    "\n",
    "## call fit_transform() method on the ordinal encoder object to convert the text into the numbers\n",
    "## list of categories can be obtained using categories_instance variable"
   ]
  },
  {
   "cell_type": "code",
   "execution_count": 35,
   "id": "2dfdd107",
   "metadata": {},
   "outputs": [],
   "source": [
    "## One-hot encoding: Here we create one binary feature per category: If feature is there its 1 or else its 0. New Features are called as dummy class\n",
    "\n",
    "from sklearn.preprocessing import OneHotEncoder\n",
    "cat_encoder = OneHotEncoder()\n",
    "\n",
    "## call fit_tranform on onehot encoder object\n",
    "## output is SciPy matrix rather than NumPy array. Enables us to save huge space. \n",
    "## to conver to dense representation to_array we can use.\n",
    "## list of categories can be obtained using categories_ instance variable. "
   ]
  },
  {
   "cell_type": "markdown",
   "id": "e8ee8690",
   "metadata": {},
   "source": [
    "# Feature Scaling\n"
   ]
  },
  {
   "cell_type": "code",
   "execution_count": 36,
   "id": "f0cafc2f",
   "metadata": {},
   "outputs": [],
   "source": [
    "# scaling of target label is generally not needed"
   ]
  },
  {
   "cell_type": "markdown",
   "id": "d4f80bf0",
   "metadata": {},
   "source": [
    "# Min-Max Scaling / Normalization"
   ]
  },
  {
   "cell_type": "code",
   "execution_count": 37,
   "id": "e9d8239b",
   "metadata": {},
   "outputs": [],
   "source": [
    "# substracting the minimum value of feature from current value and divide by difference in min and max value of the feature\n",
    "# values range between 0 and 1\n",
    "# Scikit learn provides MinMaxScaler transformer for this"
   ]
  },
  {
   "cell_type": "markdown",
   "id": "134fed74",
   "metadata": {},
   "source": [
    "# Standardization"
   ]
  },
  {
   "cell_type": "code",
   "execution_count": 38,
   "id": "ecb7091c",
   "metadata": {},
   "outputs": [],
   "source": [
    "# substract the mean value and divide by standardization\n",
    "# does not bound values by any specific range\n",
    "# less affected by the outliers\n",
    "# Scikit learn provide StandardScaler tranformer for this"
   ]
  },
  {
   "cell_type": "markdown",
   "id": "ac4a29ba",
   "metadata": {},
   "source": [
    "# Transformation Pipeline"
   ]
  },
  {
   "cell_type": "code",
   "execution_count": 39,
   "id": "d3598cff",
   "metadata": {},
   "outputs": [],
   "source": [
    "# to line up the transformations in intended order\n",
    "# works only when features are of same type\n",
    "\n",
    "from sklearn.pipeline import Pipeline\n",
    "from sklearn.preprocessing import StandardScaler\n",
    "\n",
    "# each step is defined by name and estimator pair\n",
    "# each name should be unique and should not contain __ double underscore\n",
    "# sequential transformations using pipeline\n",
    "transform_pipeline = Pipeline([('imputer', SimpleImputer(strategy = 'median')),\n",
    "                              ('std_scaler', StandardScaler()),])\n",
    "wine_features_tr = transform_pipeline.fit_transform(wine_features)"
   ]
  },
  {
   "cell_type": "markdown",
   "id": "17f97a3b",
   "metadata": {},
   "source": [
    "## For Mixed Features?\n",
    "\n",
    "# Column Transformer"
   ]
  },
  {
   "cell_type": "code",
   "execution_count": 40,
   "id": "1d32c848",
   "metadata": {},
   "outputs": [],
   "source": [
    "from sklearn.compose import ColumnTransformer\n",
    "# current dataset do not have mixed type features as all are numeric"
   ]
  },
  {
   "cell_type": "code",
   "execution_count": 41,
   "id": "0c58214e",
   "metadata": {},
   "outputs": [
    {
     "ename": "NameError",
     "evalue": "name 'num_pipeline' is not defined",
     "output_type": "error",
     "traceback": [
      "\u001b[1;31m---------------------------------------------------------------------------\u001b[0m",
      "\u001b[1;31mNameError\u001b[0m                                 Traceback (most recent call last)",
      "\u001b[1;32m~\\AppData\\Local\\Temp/ipykernel_12672/3544452104.py\u001b[0m in \u001b[0;36m<module>\u001b[1;34m\u001b[0m\n\u001b[0;32m      3\u001b[0m \u001b[0mnum_attribs\u001b[0m \u001b[1;33m=\u001b[0m \u001b[0mlist\u001b[0m\u001b[1;33m(\u001b[0m\u001b[0mwine_features\u001b[0m\u001b[1;33m)\u001b[0m\u001b[1;33m\u001b[0m\u001b[1;33m\u001b[0m\u001b[0m\n\u001b[0;32m      4\u001b[0m \u001b[0mcat_attribs\u001b[0m \u001b[1;33m=\u001b[0m \u001b[1;33m[\u001b[0m\u001b[1;34m\"place_of_manufacturing\"\u001b[0m\u001b[1;33m]\u001b[0m\u001b[1;33m\u001b[0m\u001b[1;33m\u001b[0m\u001b[0m\n\u001b[1;32m----> 5\u001b[1;33m full_pipeline = ColumnTransformer([(\"num\", num_pipeline, num_attribs),\n\u001b[0m\u001b[0;32m      6\u001b[0m                                   (\"cat\", OneHotEncoder(), cat_attribs),])\n\u001b[0;32m      7\u001b[0m \u001b[0mwine_features_tr\u001b[0m \u001b[1;33m=\u001b[0m \u001b[0mfull_pipeline\u001b[0m\u001b[1;33m.\u001b[0m\u001b[0mfit_transform\u001b[0m\u001b[1;33m(\u001b[0m\u001b[0mwine_features\u001b[0m\u001b[1;33m)\u001b[0m\u001b[1;33m\u001b[0m\u001b[1;33m\u001b[0m\u001b[0m\n",
      "\u001b[1;31mNameError\u001b[0m: name 'num_pipeline' is not defined"
     ]
    }
   ],
   "source": [
    "# illustration:\n",
    "\n",
    "num_attribs = list(wine_features)\n",
    "cat_attribs = [\"place_of_manufacturing\"]\n",
    "full_pipeline = ColumnTransformer([(\"num\", num_pipeline, num_attribs),\n",
    "                                  (\"cat\", OneHotEncoder(), cat_attribs),])\n",
    "wine_features_tr = full_pipeline.fit_transform(wine_features)"
   ]
  },
  {
   "cell_type": "code",
   "execution_count": null,
   "id": "b3239960",
   "metadata": {},
   "outputs": [],
   "source": [
    "# Note: ALl the transformers must return same number of rows if not then there may be problem while concatenation"
   ]
  },
  {
   "cell_type": "markdown",
   "id": "d69c8b0e",
   "metadata": {},
   "source": [
    "# Step 5: Select and Train ML Model"
   ]
  },
  {
   "cell_type": "code",
   "execution_count": 42,
   "id": "4e00b0e0",
   "metadata": {},
   "outputs": [],
   "source": [
    "# its a good idea to build a quick baseline model on preprocessed data and get the idea about the model prediction"
   ]
  },
  {
   "cell_type": "code",
   "execution_count": 43,
   "id": "581cbc5b",
   "metadata": {},
   "outputs": [
    {
     "data": {
      "text/plain": [
       "LinearRegression()"
      ]
     },
     "execution_count": 43,
     "metadata": {},
     "output_type": "execute_result"
    }
   ],
   "source": [
    "from sklearn.linear_model import LinearRegression\n",
    "lin_reg = LinearRegression()\n",
    "lin_reg.fit(wine_features_tr, wine_labels)"
   ]
  },
  {
   "cell_type": "code",
   "execution_count": 44,
   "id": "80c8c7b5",
   "metadata": {},
   "outputs": [
    {
     "data": {
      "text/plain": [
       "0.4206571060060277"
      ]
     },
     "execution_count": 44,
     "metadata": {},
     "output_type": "execute_result"
    }
   ],
   "source": [
    "# Evaluation measure- MSE\n",
    "\n",
    "from sklearn.metrics import mean_squared_error\n",
    "quality_predictions = lin_reg.predict(wine_features_tr)\n",
    "mean_squared_error(wine_labels, quality_predictions)"
   ]
  },
  {
   "cell_type": "code",
   "execution_count": 45,
   "id": "8740208f",
   "metadata": {},
   "outputs": [
    {
     "data": {
      "text/plain": [
       "0.39759130875015186"
      ]
     },
     "execution_count": 45,
     "metadata": {},
     "output_type": "execute_result"
    }
   ],
   "source": [
    "# lets evaluate the performance on test set:\n",
    "\n",
    "# copy all the features leaving aside the labels\n",
    "wine_features_test = strat_test_set.drop(\"quality\", axis = 1)\n",
    "\n",
    "# copy the label list\n",
    "wine_labels_test = strat_test_set['quality'].copy()\n",
    "\n",
    "#apply transformations:\n",
    "wine_features_test_tr = transform_pipeline.fit_transform(wine_features_test)\n",
    "\n",
    "# call the predict function and calculate MSE\n",
    "quality_test_predictions = lin_reg.predict(wine_features_test_tr)\n",
    "mean_squared_error(wine_labels_test, quality_test_predictions)"
   ]
  },
  {
   "cell_type": "code",
   "execution_count": 46,
   "id": "5f8c7916",
   "metadata": {},
   "outputs": [
    {
     "data": {
      "text/plain": [
       "Text(0, 0.5, 'Predicted Quality')"
      ]
     },
     "execution_count": 46,
     "metadata": {},
     "output_type": "execute_result"
    },
    {
     "data": {
      "image/png": "[encoded data removed]",
      "text/plain": [
       "<Figure size 432x288 with 1 Axes>"
      ]
     },
     "metadata": {},
     "output_type": "display_data"
    }
   ],
   "source": [
    "# visualise the error between actual and predicted value\n",
    "\n",
    "plt.scatter(wine_labels_test, quality_test_predictions)\n",
    "plt.plot(wine_labels_test, wine_labels_test, 'r-')\n",
    "plt.xlabel('Actual Quality')\n",
    "plt.ylabel('Predicted Quality')"
   ]
  },
  {
   "cell_type": "code",
   "execution_count": 47,
   "id": "9b2064fa",
   "metadata": {},
   "outputs": [
    {
     "data": {
      "text/plain": [
       "DecisionTreeRegressor()"
      ]
     },
     "execution_count": 47,
     "metadata": {},
     "output_type": "execute_result"
    }
   ],
   "source": [
    "# checking for another model:\n",
    "\n",
    "from sklearn.tree import DecisionTreeRegressor\n",
    "tree_reg = DecisionTreeRegressor()\n",
    "tree_reg.fit(wine_features_tr, wine_labels)"
   ]
  },
  {
   "cell_type": "code",
   "execution_count": 48,
   "id": "e7b1e988",
   "metadata": {},
   "outputs": [
    {
     "data": {
      "text/plain": [
       "0.0"
      ]
     },
     "execution_count": 48,
     "metadata": {},
     "output_type": "execute_result"
    }
   ],
   "source": [
    "quality_prediction = tree_reg.predict(wine_features_tr)\n",
    "mean_squared_error(wine_labels, quality_prediction)\n",
    "\n",
    "#notice that error is zero: OVERFITTING"
   ]
  },
  {
   "cell_type": "code",
   "execution_count": 50,
   "id": "d49109dd",
   "metadata": {},
   "outputs": [
    {
     "data": {
      "text/plain": [
       "0.653125"
      ]
     },
     "execution_count": 50,
     "metadata": {},
     "output_type": "execute_result"
    }
   ],
   "source": [
    "quality_test_prediction = tree_reg.predict(wine_features_test_tr)\n",
    "mean_squared_error(wine_labels_test, quality_test_prediction)"
   ]
  },
  {
   "cell_type": "code",
   "execution_count": 52,
   "id": "0eb9f4f4",
   "metadata": {},
   "outputs": [
    {
     "data": {
      "text/plain": [
       "Text(0, 0.5, 'Predicted Quality')"
      ]
     },
     "execution_count": 52,
     "metadata": {},
     "output_type": "execute_result"
    },
    {
     "data": {
      "image/png": "[encoded data removed]",
      "text/plain": [
       "<Figure size 432x288 with 1 Axes>"
      ]
     },
     "metadata": {},
     "output_type": "display_data"
    }
   ],
   "source": [
    "plt.scatter(wine_labels_test, quality_test_prediction)\n",
    "plt.plot(wine_labels_test, wine_labels_test, 'r-')\n",
    "plt.xlabel('Actual Quality')\n",
    "plt.ylabel('Predicted Quality')"
   ]
  },
  {
   "cell_type": "code",
   "execution_count": 54,
   "id": "2bee34f6",
   "metadata": {},
   "outputs": [],
   "source": [
    "# can use cross-validation for evaluating the performance of the model\n",
    "\n",
    "from sklearn.model_selection import cross_val_score\n",
    "\n",
    "# cross-validation provides seperate MSE for each validation set- which can be used to get mean estimation of MSE as well as SD- which helps us determine how precise the estimation is\n",
    "# additional training runs = additional costs: TRADE OFF- can be expensive in certain cases"
   ]
  },
  {
   "cell_type": "code",
   "execution_count": 58,
   "id": "db1ad747",
   "metadata": {},
   "outputs": [],
   "source": [
    "def display_scores(scores):\n",
    "    print('Scores: ', scores)\n",
    "    print('Mean: ', scores.mean())\n",
    "    print('Standard Deviation: ', scores.std())"
   ]
  },
  {
   "cell_type": "code",
   "execution_count": 59,
   "id": "2a2a8652",
   "metadata": {},
   "outputs": [
    {
     "name": "stdout",
     "output_type": "stream",
     "text": [
      "Scores:  [0.56364537 0.4429824  0.38302744 0.40166681 0.29687635 0.37322622\n",
      " 0.33184855 0.50182048 0.51661311 0.50468542]\n",
      "Mean:  0.431639217212196\n",
      "Standard Deviation:  0.08356359730413966\n"
     ]
    }
   ],
   "source": [
    "# Linear Regression Cross Validation:\n",
    "\n",
    "scores = cross_val_score(lin_reg, wine_features_tr, wine_labels, scoring = \"neg_mean_squared_error\", cv = 10)\n",
    "lin_reg_mse_scores = -scores\n",
    "display_scores(lin_reg_mse_scores)"
   ]
  },
  {
   "cell_type": "code",
   "execution_count": 62,
   "id": "9882412f",
   "metadata": {},
   "outputs": [
    {
     "name": "stdout",
     "output_type": "stream",
     "text": [
      "Scores:  [0.5859375  0.6875     0.5703125  0.4765625  0.4375     0.6015625\n",
      " 0.6015625  0.671875   0.8125     1.11023622]\n",
      "Mean:  0.655554872047244\n",
      "Standard Deviation:  0.18170941885504857\n"
     ]
    }
   ],
   "source": [
    "# Decision Tree Cross Validation\n",
    "\n",
    "scores = cross_val_score(tree_reg, wine_features_tr, wine_labels, scoring = \"neg_mean_squared_error\", cv = 10)\n",
    "tree_mse_scores = -scores\n",
    "display_scores(tree_mse_scores)"
   ]
  },
  {
   "cell_type": "code",
   "execution_count": 63,
   "id": "a8a960de",
   "metadata": {},
   "outputs": [
    {
     "name": "stdout",
     "output_type": "stream",
     "text": [
      "Scores:  [0.37154766 0.42720078 0.30195859 0.32066406 0.22581719 0.29403125\n",
      " 0.27039688 0.40046797 0.43287891 0.46221181]\n",
      "Mean:  0.3507175092273622\n",
      "Standard Deviation:  0.07515692700938022\n"
     ]
    }
   ],
   "source": [
    "# Random forest Cross Validation\n",
    "\n",
    "from sklearn.ensemble import RandomForestRegressor\n",
    "\n",
    "forest_reg = RandomForestRegressor()\n",
    "forest_reg.fit(wine_features_tr, wine_labels)\n",
    "\n",
    "scores = cross_val_score(forest_reg, wine_features_tr, wine_labels, scoring = \"neg_mean_squared_error\", cv= 10)\n",
    "forest_mse_scores = -scores\n",
    "display_scores(forest_mse_scores)"
   ]
  },
  {
   "cell_type": "code",
   "execution_count": 64,
   "id": "b2e47586",
   "metadata": {},
   "outputs": [
    {
     "data": {
      "text/plain": [
       "0.34769562499999995"
      ]
     },
     "execution_count": 64,
     "metadata": {},
     "output_type": "execute_result"
    }
   ],
   "source": [
    "# MSE on test set\n",
    "\n",
    "quality_test_predictions = forest_reg.predict(wine_features_test_tr)\n",
    "mean_squared_error(wine_labels_test, quality_test_predictions)"
   ]
  },
  {
   "cell_type": "code",
   "execution_count": 65,
   "id": "7b0ae660",
   "metadata": {},
   "outputs": [
    {
     "data": {
      "text/plain": [
       "Text(0, 0.5, 'Predicted Quality')"
      ]
     },
     "execution_count": 65,
     "metadata": {},
     "output_type": "execute_result"
    },
    {
     "data": {
      "image/png": "[encoded data removed]",
      "text/plain": [
       "<Figure size 432x288 with 1 Axes>"
      ]
     },
     "metadata": {},
     "output_type": "display_data"
    }
   ],
   "source": [
    "plt.scatter(wine_labels_test, quality_test_predictions)\n",
    "plt.plot(wine_labels_test, wine_labels_test, 'r-')\n",
    "plt.xlabel('Actual Quality')\n",
    "plt.ylabel('Predicted Quality')"
   ]
  },
  {
   "cell_type": "code",
   "execution_count": 66,
   "id": "d4a59e82",
   "metadata": {},
   "outputs": [],
   "source": [
    "# can save this models using pickle model"
   ]
  },
  {
   "cell_type": "markdown",
   "id": "070b69c7",
   "metadata": {},
   "source": [
    "# Finetuning ML Models"
   ]
  },
  {
   "cell_type": "markdown",
   "id": "b1792991",
   "metadata": {},
   "source": [
    "there are number of hyperparameters in the model which are set manually, Tuning these hyperparameters leads to better accuracy on ML models"
   ]
  },
  {
   "cell_type": "markdown",
   "id": "5e6d6d49",
   "metadata": {},
   "source": [
    "# GridSearchCV"
   ]
  },
  {
   "cell_type": "code",
   "execution_count": 68,
   "id": "7d1c2731",
   "metadata": {},
   "outputs": [],
   "source": [
    "from sklearn.model_selection import GridSearchCV\n",
    "\n",
    "# need to specify the list of hyperparameters with range of values to try\n",
    "\n",
    "# for example in Randomforest we have hyperparameters like- number of estimators, maximum number of features etc..\n",
    "\n",
    "param_grid = [{'n_estimators': [3,10,30], 'max_features':[2,4,6,8]},\n",
    "             {'bootstrap':[False],'n_estimators':[3,10], 'max_features':[2,3,4]}]\n",
    "\n",
    "\n",
    "# the first results into 3 x 4 = 12 combination\n",
    "# the second results into 2 x 3 = 6 combinations\n",
    "# total combinations = 12 + 6 = 18"
   ]
  },
  {
   "cell_type": "code",
   "execution_count": 69,
   "id": "9ee40eb7",
   "metadata": {},
   "outputs": [
    {
     "data": {
      "text/plain": [
       "GridSearchCV(cv=5, estimator=RandomForestRegressor(),\n",
       "             param_grid=[{'max_features': [2, 4, 6, 8],\n",
       "                          'n_estimators': [3, 10, 30]},\n",
       "                         {'bootstrap': [False], 'max_features': [2, 3, 4],\n",
       "                          'n_estimators': [3, 10]}],\n",
       "             return_train_score=True, scoring='neg_mean_squared_error')"
      ]
     },
     "execution_count": 69,
     "metadata": {},
     "output_type": "execute_result"
    }
   ],
   "source": [
    "# gridsearchcv object:\n",
    "\n",
    "grid_search = GridSearchCV(forest_reg, param_grid, cv = 5, scoring = 'neg_mean_squared_error', return_train_score = True)\n",
    "# CV= 5 i.e. 5 fold cross validation for training the model\n",
    "# we need to train model for 18 parameter combinations and each combination would be trained 5 times\n",
    "# 90 model training runs\n",
    "\n",
    "grid_search.fit(wine_features_tr, wine_labels)"
   ]
  },
  {
   "cell_type": "code",
   "execution_count": 70,
   "id": "53706af8",
   "metadata": {},
   "outputs": [
    {
     "data": {
      "text/plain": [
       "{'max_features': 4, 'n_estimators': 30}"
      ]
     },
     "execution_count": 70,
     "metadata": {},
     "output_type": "execute_result"
    }
   ],
   "source": [
    "# best combinations of parameters\n",
    "grid_search.best_params_"
   ]
  },
  {
   "cell_type": "code",
   "execution_count": 71,
   "id": "1ce9918a",
   "metadata": {},
   "outputs": [
    {
     "name": "stdout",
     "output_type": "stream",
     "text": [
      "0.4844566993464053 {'max_features': 2, 'n_estimators': 3}\n",
      "0.40088921568627456 {'max_features': 2, 'n_estimators': 10}\n",
      "0.3621410266884531 {'max_features': 2, 'n_estimators': 30}\n",
      "0.485979711328976 {'max_features': 4, 'n_estimators': 3}\n",
      "0.3862460477941176 {'max_features': 4, 'n_estimators': 10}\n",
      "0.36037448257080607 {'max_features': 4, 'n_estimators': 30}\n",
      "0.4444424019607842 {'max_features': 6, 'n_estimators': 3}\n",
      "0.3843799019607843 {'max_features': 6, 'n_estimators': 10}\n",
      "0.3621825503812636 {'max_features': 6, 'n_estimators': 30}\n",
      "0.486464801198257 {'max_features': 8, 'n_estimators': 3}\n",
      "0.3946632352941176 {'max_features': 8, 'n_estimators': 10}\n",
      "0.3646799836601307 {'max_features': 8, 'n_estimators': 30}\n",
      "0.4845955882352941 {'bootstrap': False, 'max_features': 2, 'n_estimators': 3}\n",
      "0.38134993872549017 {'bootstrap': False, 'max_features': 2, 'n_estimators': 10}\n",
      "0.4673502178649237 {'bootstrap': False, 'max_features': 3, 'n_estimators': 3}\n",
      "0.38477089460784314 {'bootstrap': False, 'max_features': 3, 'n_estimators': 10}\n",
      "0.43836975762527236 {'bootstrap': False, 'max_features': 4, 'n_estimators': 3}\n",
      "0.3783293198529411 {'bootstrap': False, 'max_features': 4, 'n_estimators': 10}\n"
     ]
    }
   ],
   "source": [
    "# lets find out errors at different parameter setting:\n",
    "\n",
    "cvres = grid_search.cv_results_\n",
    "for mean_score, params in zip(cvres['mean_test_score'], cvres[\"params\"]):\n",
    "    print(-mean_score, params)"
   ]
  },
  {
   "cell_type": "code",
   "execution_count": 72,
   "id": "9fb41263",
   "metadata": {},
   "outputs": [
    {
     "data": {
      "text/plain": [
       "RandomForestRegressor(max_features=4, n_estimators=30)"
      ]
     },
     "execution_count": 72,
     "metadata": {},
     "output_type": "execute_result"
    }
   ],
   "source": [
    "grid_search.best_estimator_"
   ]
  },
  {
   "cell_type": "code",
   "execution_count": 73,
   "id": "c717682f",
   "metadata": {},
   "outputs": [],
   "source": [
    "#gridsearchCV is initialized with refit = True option- which retrains the best estimator on full training set. This is likely to lead us a better model as it is trained on larger dataset. "
   ]
  },
  {
   "cell_type": "markdown",
   "id": "b38db406",
   "metadata": {},
   "source": [
    "# Randomized Search:"
   ]
  },
  {
   "cell_type": "code",
   "execution_count": 74,
   "id": "12c38829",
   "metadata": {},
   "outputs": [],
   "source": [
    "#when we have large hyperparameter space- its advisable to use randomized-searchcv. Selects random value for each hyperparameter at start of iteration and repeats the process for the given number of random combinations."
   ]
  },
  {
   "cell_type": "code",
   "execution_count": 75,
   "id": "98bc5fd7",
   "metadata": {},
   "outputs": [],
   "source": [
    "from sklearn.model_selection import RandomizedSearchCV"
   ]
  },
  {
   "cell_type": "code",
   "execution_count": 78,
   "id": "c24e5c4d",
   "metadata": {},
   "outputs": [
    {
     "data": {
      "text/plain": [
       "[(0.2053954081647006, 'alcohol'),\n",
       " (0.14837566372574956, 'sulphates'),\n",
       " (0.12112062378737581, 'volatile acidity'),\n",
       " (0.0857055808289872, 'total sulfur dioxide'),\n",
       " (0.08094557410687866, 'density'),\n",
       " (0.06449216024883625, 'fixed acidity'),\n",
       " (0.06401727699699787, 'citric acid'),\n",
       " (0.06204044469903123, 'chlorides'),\n",
       " (0.057930017859760374, 'residual sugar'),\n",
       " (0.05708284765649525, 'pH'),\n",
       " (0.052894401925187004, 'free sulfur dioxide')]"
      ]
     },
     "execution_count": 78,
     "metadata": {},
     "output_type": "execute_result"
    }
   ],
   "source": [
    "feature_importances = grid_search.best_estimator_.feature_importances_\n",
    "sorted(zip(feature_importances, feature_list), reverse = True)\n",
    "\n",
    "# based on this information we may drop the features that are of less importance"
   ]
  },
  {
   "cell_type": "markdown",
   "id": "334f14b7",
   "metadata": {},
   "source": [
    "# Evaluation on Test Set"
   ]
  },
  {
   "cell_type": "code",
   "execution_count": 79,
   "id": "4ccdac41",
   "metadata": {},
   "outputs": [],
   "source": [
    "# Transform the test features:\n",
    "\n",
    "# copy all the features except the output label\n",
    "wine_feature_test = strat_test_set.drop(\"quality\", axis = 1)\n",
    "\n",
    "# copy the label list:\n",
    "wine_labels_test = strat_test_set['quality'].copy()\n",
    "\n",
    "# apply the transformations:\n",
    "wine_features_test_tr = transform_pipeline.fit_transform(wine_features_test)"
   ]
  },
  {
   "cell_type": "code",
   "execution_count": 80,
   "id": "04cb4a2b",
   "metadata": {},
   "outputs": [],
   "source": [
    "# use the predict method with the trained model and test set:\n",
    "\n",
    "quality_test_prediction = grid_search.best_estimator_.predict(wine_features_test_tr)"
   ]
  },
  {
   "cell_type": "code",
   "execution_count": 81,
   "id": "3fa4270b",
   "metadata": {},
   "outputs": [
    {
     "data": {
      "text/plain": [
       "0.34769562499999995"
      ]
     },
     "execution_count": 81,
     "metadata": {},
     "output_type": "execute_result"
    }
   ],
   "source": [
    "# compare the predicted labels with the actual ones and report the evaluation metrics\n",
    "\n",
    "mean_squared_error(wine_labels_test, quality_test_predictions)"
   ]
  },
  {
   "cell_type": "code",
   "execution_count": 83,
   "id": "ab08f12d",
   "metadata": {},
   "outputs": [
    {
     "data": {
      "text/plain": [
       "(0.28632848904561764, 0.4090627609543827)"
      ]
     },
     "execution_count": 83,
     "metadata": {},
     "output_type": "execute_result"
    }
   ],
   "source": [
    "# its a good idea to get 95% confidence interval of the evaluation metrics.\n",
    "\n",
    "from scipy import stats\n",
    "confidence = 0.95\n",
    "squared_errors = (quality_test_predictions - wine_labels_test) ** 2\n",
    "stats.t.interval(confidence, \n",
    "                 len(squared_errors)-1, \n",
    "                 loc = squared_errors.mean(), \n",
    "                 scale = stats.sem(squared_errors))"
   ]
  },
  {
   "cell_type": "code",
   "execution_count": 84,
   "id": "e5424858",
   "metadata": {},
   "outputs": [],
   "source": [
    "# Step 7: Present the Solution: tht highlights learning, system limitations and assumptions"
   ]
  },
  {
   "cell_type": "code",
   "execution_count": 86,
   "id": "0b934b7b",
   "metadata": {},
   "outputs": [
    {
     "data": {
      "text/plain": [
       "'\\n1. Launch:\\n    plug in input sources and write test cases\\n    \\n2. Monitoring\\n    System outages\\n    Degradation of model performance: Need to have strategy for this\\n    Either retrain the model if degradation\\n    fix threshold on matrix for this\\n    Trigger retraining if the threshold is breached\\n    Regular assessment of data quality\\n\\n3. Maintenance:\\n    Train at regular interval\\n    Production roll out of the model\\n'"
      ]
     },
     "execution_count": 86,
     "metadata": {},
     "output_type": "execute_result"
    }
   ],
   "source": [
    "# Launch Monitor and Maintain your system\n",
    "'''\n",
    "1. Launch:\n",
    "    plug in input sources and write test cases\n",
    "    \n",
    "2. Monitoring\n",
    "    System outages\n",
    "    Degradation of model performance: Need to have strategy for this\n",
    "    Either retrain the model if degradation\n",
    "    fix threshold on matrix for this\n",
    "    Trigger retraining if the threshold is breached\n",
    "    Regular assessment of data quality\n",
    "\n",
    "3. Maintenance:\n",
    "    Train at regular interval\n",
    "    Production roll out of the model\n",
    "'''    "
   ]
  },
  {
   "cell_type": "code",
   "execution_count": null,
   "id": "2305a293",
   "metadata": {},
   "outputs": [],
   "source": []
  }
 ],
 "metadata": {
  "kernelspec": {
   "display_name": "Python 3 (ipykernel)",
   "language": "python",
   "name": "python3"
  },
  "language_info": {
   "codemirror_mode": {
    "name": "ipython",
    "version": 3
   },
   "file_extension": ".py",
   "mimetype": "text/x-python",
   "name": "python",
   "nbconvert_exporter": "python",
   "pygments_lexer": "ipython3",
   "version": "3.9.7"
  }
 },
 "nbformat": 4,
 "nbformat_minor": 5
}
