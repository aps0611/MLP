{
  "nbformat": 4,
  "nbformat_minor": 0,
  "metadata": {
    "colab": {
      "provenance": []
    },
    "kernelspec": {
      "name": "python3",
      "display_name": "Python 3"
    },
    "language_info": {
      "name": "python"
    }
  },
  "cells": [
    {
      "cell_type": "code",
      "execution_count": 1,
      "metadata": {
        "id": "Ud8d6k82DppE"
      },
      "outputs": [],
      "source": [
        "text_data=['A metaverse is a network of 3D virtual worlds focused on social connection.',\n",
        "           'In futurism and science fiction, the term is often described as a hypothetical iteration of the Internet as a single', \n",
        "           'universal virtual world that is facilitated by the use of virtual and augmented reality headsets.',\n",
        "           'The term \"metaverse\" has its origins  the 1992 science fiction novel Snow Crash as a portmanteau of \"meta\" and \"universe.\"',\n",
        "           'Various metaverses have been developed for popular use such as virtual world platforms like Second Life.',\n",
        "           'Some metaverse iterations involve integration between virtual and physical spaces and virtual economies',\n",
        "           'often including a significant interest in advancing virtual reality technology.', \n",
        "           'The term has seen considerable use as a buzzword for public relations purposes to exaggerate development progress for various related technologies and projects.[10] Information privacy and user addiction are concerns within metaverses',\n",
        "           'stemming from challenges facing the social media and video game industries as a whole.']"
      ]
    },
    {
      "cell_type": "markdown",
      "source": [
        "Q1 Vectorize the given text data using `countvectorizer()` object. What is the shape of text_data after vectorization?\n"
      ],
      "metadata": {
        "id": "_7GuS3POE0dH"
      }
    },
    {
      "cell_type": "code",
      "source": [
        "from sklearn.feature_extraction.text import CountVectorizer\n",
        "cvec = CountVectorizer()\n",
        "\n",
        "X_cvec = cvec.fit_transform(text_data)\n",
        "X_cvec.shape"
      ],
      "metadata": {
        "colab": {
          "base_uri": "https://localhost:8080/"
        },
        "id": "CHeY-PJPEu16",
        "outputId": "7971f771-8dc3-4bf8-8720-ec12d98279fd"
      },
      "execution_count": 5,
      "outputs": [
        {
          "output_type": "execute_result",
          "data": {
            "text/plain": [
              "(9, 99)"
            ]
          },
          "metadata": {},
          "execution_count": 5
        }
      ]
    },
    {
      "cell_type": "markdown",
      "source": [
        "Q2 What is the token associated with word \"metaverse\"?"
      ],
      "metadata": {
        "id": "m2nRq_DGFmZP"
      }
    },
    {
      "cell_type": "code",
      "source": [
        "cvec.vocabulary_['metaverse']"
      ],
      "metadata": {
        "colab": {
          "base_uri": "https://localhost:8080/"
        },
        "id": "sUf3FJDYFEmY",
        "outputId": "ba2a8887-f7c1-4bfc-9056-0e1b8a9faaf5"
      },
      "execution_count": 10,
      "outputs": [
        {
          "output_type": "execute_result",
          "data": {
            "text/plain": [
              "51"
            ]
          },
          "metadata": {},
          "execution_count": 10
        }
      ]
    },
    {
      "cell_type": "markdown",
      "source": [
        "Q3 What is the shape of text_data after vectorization after the term that appeared in less than 2 documents are ignored?"
      ],
      "metadata": {
        "id": "sbmtPHpLFy6z"
      }
    },
    {
      "cell_type": "code",
      "source": [
        "X_cvec"
      ],
      "metadata": {
        "colab": {
          "base_uri": "https://localhost:8080/"
        },
        "id": "c01lWa9LFMHd",
        "outputId": "0a36709c-f100-41d1-f70b-537948f063e0"
      },
      "execution_count": 13,
      "outputs": [
        {
          "output_type": "execute_result",
          "data": {
            "text/plain": [
              "<9x99 sparse matrix of type '<class 'numpy.int64'>'\n",
              "\twith 138 stored elements in Compressed Sparse Row format>"
            ]
          },
          "metadata": {},
          "execution_count": 13
        }
      ]
    },
    {
      "cell_type": "code",
      "source": [
        "import pandas as pd\n",
        "import numpy as np\n",
        "pd.set_option('display.max_columns', 500)\n",
        "df = pd.DataFrame(X_cvec.todense())"
      ],
      "metadata": {
        "id": "FaOnbj2KH4YL"
      },
      "execution_count": 19,
      "outputs": []
    },
    {
      "cell_type": "code",
      "source": [
        "d = dict(df.sum())\n",
        "d"
      ],
      "metadata": {
        "colab": {
          "base_uri": "https://localhost:8080/"
        },
        "id": "NKdB2AbOIObo",
        "outputId": "1718f1ee-3b39-4859-d3b9-e4fb17bb3dbe"
      },
      "execution_count": 31,
      "outputs": [
        {
          "output_type": "execute_result",
          "data": {
            "text/plain": [
              "{0: 1,\n",
              " 1: 1,\n",
              " 2: 1,\n",
              " 3: 1,\n",
              " 4: 1,\n",
              " 5: 8,\n",
              " 6: 1,\n",
              " 7: 6,\n",
              " 8: 1,\n",
              " 9: 1,\n",
              " 10: 1,\n",
              " 11: 1,\n",
              " 12: 1,\n",
              " 13: 1,\n",
              " 14: 1,\n",
              " 15: 1,\n",
              " 16: 1,\n",
              " 17: 1,\n",
              " 18: 1,\n",
              " 19: 1,\n",
              " 20: 1,\n",
              " 21: 1,\n",
              " 22: 1,\n",
              " 23: 1,\n",
              " 24: 1,\n",
              " 25: 2,\n",
              " 26: 1,\n",
              " 27: 3,\n",
              " 28: 1,\n",
              " 29: 1,\n",
              " 30: 1,\n",
              " 31: 2,\n",
              " 32: 1,\n",
              " 33: 1,\n",
              " 34: 1,\n",
              " 35: 2,\n",
              " 36: 1,\n",
              " 37: 1,\n",
              " 38: 1,\n",
              " 39: 1,\n",
              " 40: 1,\n",
              " 41: 1,\n",
              " 42: 1,\n",
              " 43: 3,\n",
              " 44: 1,\n",
              " 45: 1,\n",
              " 46: 1,\n",
              " 47: 1,\n",
              " 48: 1,\n",
              " 49: 1,\n",
              " 50: 1,\n",
              " 51: 3,\n",
              " 52: 2,\n",
              " 53: 1,\n",
              " 54: 1,\n",
              " 55: 4,\n",
              " 56: 2,\n",
              " 57: 1,\n",
              " 58: 1,\n",
              " 59: 1,\n",
              " 60: 1,\n",
              " 61: 1,\n",
              " 62: 1,\n",
              " 63: 1,\n",
              " 64: 1,\n",
              " 65: 1,\n",
              " 66: 1,\n",
              " 67: 1,\n",
              " 68: 2,\n",
              " 69: 1,\n",
              " 70: 1,\n",
              " 71: 2,\n",
              " 72: 1,\n",
              " 73: 1,\n",
              " 74: 1,\n",
              " 75: 1,\n",
              " 76: 1,\n",
              " 77: 2,\n",
              " 78: 1,\n",
              " 79: 1,\n",
              " 80: 1,\n",
              " 81: 1,\n",
              " 82: 1,\n",
              " 83: 1,\n",
              " 84: 3,\n",
              " 85: 1,\n",
              " 86: 7,\n",
              " 87: 1,\n",
              " 88: 1,\n",
              " 89: 1,\n",
              " 90: 3,\n",
              " 91: 1,\n",
              " 92: 2,\n",
              " 93: 1,\n",
              " 94: 7,\n",
              " 95: 1,\n",
              " 96: 1,\n",
              " 97: 2,\n",
              " 98: 1}"
            ]
          },
          "metadata": {},
          "execution_count": 31
        }
      ]
    },
    {
      "cell_type": "code",
      "source": [
        "count = 0\n",
        "for i in range(99):\n",
        "  if d[i] > 1:\n",
        "    count +=1\n",
        "\n",
        "count"
      ],
      "metadata": {
        "colab": {
          "base_uri": "https://localhost:8080/"
        },
        "id": "C_M26IwbIaGy",
        "outputId": "8b5064c8-6605-4bf0-93cc-f6dfd50e01f5"
      },
      "execution_count": 32,
      "outputs": [
        {
          "output_type": "execute_result",
          "data": {
            "text/plain": [
              "20"
            ]
          },
          "metadata": {},
          "execution_count": 32
        }
      ]
    },
    {
      "cell_type": "markdown",
      "source": [
        " Write a code to convert the above text into an array after tokenizing it using countvectorizer with 10 features. What will be the output?"
      ],
      "metadata": {
        "id": "uwV8DvmThDrh"
      }
    },
    {
      "cell_type": "code",
      "source": [
        "Docs = ['This is the first question.', \n",
        "        'This document is the second document.', \n",
        "        'And this is the third one' ]\n",
        "\n",
        "vectorizer = CountVectorizer()\n",
        "docs = vectorizer.fit_transform(Docs)"
      ],
      "metadata": {
        "id": "EFtWlXPRJG0A"
      },
      "execution_count": 34,
      "outputs": []
    },
    {
      "cell_type": "code",
      "source": [
        "pd.DataFrame(docs.todense())"
      ],
      "metadata": {
        "colab": {
          "base_uri": "https://localhost:8080/",
          "height": 143
        },
        "id": "q3coBOkuhGze",
        "outputId": "383f5be2-87b9-49cb-9a06-8ad7fd39c0f0"
      },
      "execution_count": 35,
      "outputs": [
        {
          "output_type": "execute_result",
          "data": {
            "text/plain": [
              "   0  1  2  3  4  5  6  7  8  9\n",
              "0  0  0  1  1  0  1  0  1  0  1\n",
              "1  0  2  0  1  0  0  1  1  0  1\n",
              "2  1  0  0  1  1  0  0  1  1  1"
            ],
            "text/html": [
              "\n",
              "  <div id=\"df-8ed3e52f-cf6f-4f5a-b406-37f667c6caec\">\n",
              "    <div class=\"colab-df-container\">\n",
              "      <div>\n",
              "<style scoped>\n",
              "    .dataframe tbody tr th:only-of-type {\n",
              "        vertical-align: middle;\n",
              "    }\n",
              "\n",
              "    .dataframe tbody tr th {\n",
              "        vertical-align: top;\n",
              "    }\n",
              "\n",
              "    .dataframe thead th {\n",
              "        text-align: right;\n",
              "    }\n",
              "</style>\n",
              "<table border=\"1\" class=\"dataframe\">\n",
              "  <thead>\n",
              "    <tr style=\"text-align: right;\">\n",
              "      <th></th>\n",
              "      <th>0</th>\n",
              "      <th>1</th>\n",
              "      <th>2</th>\n",
              "      <th>3</th>\n",
              "      <th>4</th>\n",
              "      <th>5</th>\n",
              "      <th>6</th>\n",
              "      <th>7</th>\n",
              "      <th>8</th>\n",
              "      <th>9</th>\n",
              "    </tr>\n",
              "  </thead>\n",
              "  <tbody>\n",
              "    <tr>\n",
              "      <th>0</th>\n",
              "      <td>0</td>\n",
              "      <td>0</td>\n",
              "      <td>1</td>\n",
              "      <td>1</td>\n",
              "      <td>0</td>\n",
              "      <td>1</td>\n",
              "      <td>0</td>\n",
              "      <td>1</td>\n",
              "      <td>0</td>\n",
              "      <td>1</td>\n",
              "    </tr>\n",
              "    <tr>\n",
              "      <th>1</th>\n",
              "      <td>0</td>\n",
              "      <td>2</td>\n",
              "      <td>0</td>\n",
              "      <td>1</td>\n",
              "      <td>0</td>\n",
              "      <td>0</td>\n",
              "      <td>1</td>\n",
              "      <td>1</td>\n",
              "      <td>0</td>\n",
              "      <td>1</td>\n",
              "    </tr>\n",
              "    <tr>\n",
              "      <th>2</th>\n",
              "      <td>1</td>\n",
              "      <td>0</td>\n",
              "      <td>0</td>\n",
              "      <td>1</td>\n",
              "      <td>1</td>\n",
              "      <td>0</td>\n",
              "      <td>0</td>\n",
              "      <td>1</td>\n",
              "      <td>1</td>\n",
              "      <td>1</td>\n",
              "    </tr>\n",
              "  </tbody>\n",
              "</table>\n",
              "</div>\n",
              "      <button class=\"colab-df-convert\" onclick=\"convertToInteractive('df-8ed3e52f-cf6f-4f5a-b406-37f667c6caec')\"\n",
              "              title=\"Convert this dataframe to an interactive table.\"\n",
              "              style=\"display:none;\">\n",
              "        \n",
              "  <svg xmlns=\"http://www.w3.org/2000/svg\" height=\"24px\"viewBox=\"0 0 24 24\"\n",
              "       width=\"24px\">\n",
              "    <path d=\"M0 0h24v24H0V0z\" fill=\"none\"/>\n",
              "    <path d=\"M18.56 5.44l.94 2.06.94-2.06 2.06-.94-2.06-.94-.94-2.06-.94 2.06-2.06.94zm-11 1L8.5 8.5l.94-2.06 2.06-.94-2.06-.94L8.5 2.5l-.94 2.06-2.06.94zm10 10l.94 2.06.94-2.06 2.06-.94-2.06-.94-.94-2.06-.94 2.06-2.06.94z\"/><path d=\"M17.41 7.96l-1.37-1.37c-.4-.4-.92-.59-1.43-.59-.52 0-1.04.2-1.43.59L10.3 9.45l-7.72 7.72c-.78.78-.78 2.05 0 2.83L4 21.41c.39.39.9.59 1.41.59.51 0 1.02-.2 1.41-.59l7.78-7.78 2.81-2.81c.8-.78.8-2.07 0-2.86zM5.41 20L4 18.59l7.72-7.72 1.47 1.35L5.41 20z\"/>\n",
              "  </svg>\n",
              "      </button>\n",
              "      \n",
              "  <style>\n",
              "    .colab-df-container {\n",
              "      display:flex;\n",
              "      flex-wrap:wrap;\n",
              "      gap: 12px;\n",
              "    }\n",
              "\n",
              "    .colab-df-convert {\n",
              "      background-color: #E8F0FE;\n",
              "      border: none;\n",
              "      border-radius: 50%;\n",
              "      cursor: pointer;\n",
              "      display: none;\n",
              "      fill: #1967D2;\n",
              "      height: 32px;\n",
              "      padding: 0 0 0 0;\n",
              "      width: 32px;\n",
              "    }\n",
              "\n",
              "    .colab-df-convert:hover {\n",
              "      background-color: #E2EBFA;\n",
              "      box-shadow: 0px 1px 2px rgba(60, 64, 67, 0.3), 0px 1px 3px 1px rgba(60, 64, 67, 0.15);\n",
              "      fill: #174EA6;\n",
              "    }\n",
              "\n",
              "    [theme=dark] .colab-df-convert {\n",
              "      background-color: #3B4455;\n",
              "      fill: #D2E3FC;\n",
              "    }\n",
              "\n",
              "    [theme=dark] .colab-df-convert:hover {\n",
              "      background-color: #434B5C;\n",
              "      box-shadow: 0px 1px 3px 1px rgba(0, 0, 0, 0.15);\n",
              "      filter: drop-shadow(0px 1px 2px rgba(0, 0, 0, 0.3));\n",
              "      fill: #FFFFFF;\n",
              "    }\n",
              "  </style>\n",
              "\n",
              "      <script>\n",
              "        const buttonEl =\n",
              "          document.querySelector('#df-8ed3e52f-cf6f-4f5a-b406-37f667c6caec button.colab-df-convert');\n",
              "        buttonEl.style.display =\n",
              "          google.colab.kernel.accessAllowed ? 'block' : 'none';\n",
              "\n",
              "        async function convertToInteractive(key) {\n",
              "          const element = document.querySelector('#df-8ed3e52f-cf6f-4f5a-b406-37f667c6caec');\n",
              "          const dataTable =\n",
              "            await google.colab.kernel.invokeFunction('convertToInteractive',\n",
              "                                                     [key], {});\n",
              "          if (!dataTable) return;\n",
              "\n",
              "          const docLinkHtml = 'Like what you see? Visit the ' +\n",
              "            '<a target=\"_blank\" href=https://colab.research.google.com/notebooks/data_table.ipynb>data table notebook</a>'\n",
              "            + ' to learn more about interactive tables.';\n",
              "          element.innerHTML = '';\n",
              "          dataTable['output_type'] = 'display_data';\n",
              "          await google.colab.output.renderOutput(dataTable, element);\n",
              "          const docLink = document.createElement('div');\n",
              "          docLink.innerHTML = docLinkHtml;\n",
              "          element.appendChild(docLink);\n",
              "        }\n",
              "      </script>\n",
              "    </div>\n",
              "  </div>\n",
              "  "
            ]
          },
          "metadata": {},
          "execution_count": 35
        }
      ]
    },
    {
      "cell_type": "markdown",
      "source": [
        "Define a function called k_closest in python with the following signature:\n",
        " Which returns closest vectors in X which are closest to the vector p. Use the appropriate sklearn methods."
      ],
      "metadata": {
        "id": "ZoBPOKoAhnBB"
      }
    },
    {
      "cell_type": "code",
      "source": [
        "X = np.asarray([[72, 69 ,82], [ 9 ,79, 99], [20 ,47, 88], [80 ,64, 49]])\n",
        "p= np.asarray([[0,0,0]])\n",
        "k=1"
      ],
      "metadata": {
        "id": "auJ0TszthUDU"
      },
      "execution_count": 36,
      "outputs": []
    },
    {
      "cell_type": "code",
      "source": [
        "import numpy as np\n",
        "from sklearn.neighbors import NearestNeighbors\n",
        "\n",
        "def k_closest(x: np.ndarray, p: np.ndarray, k: int, Default: int = 1) -> np.ndarray:\n",
        "    \"\"\"\n",
        "    Finds the k closest vectors in x to the test vector p using the NearestNeighbors class from the sklearn library.\n",
        "\n",
        "    Parameters:\n",
        "        x (numpy.ndarray): A set of vectors.\n",
        "        p (numpy.ndarray): A test vector.\n",
        "        k (int): The number of closest vectors to return.\n",
        "        Default (int): The default value of k to use if k is less than or equal to zero (default is 1).\n",
        "\n",
        "    Returns:\n",
        "        numpy.ndarray: An array of k closest vectors in x to p.\n",
        "    \"\"\"\n",
        "    if k <= 0:\n",
        "        k = Default\n",
        "    \n",
        "    # Create an instance of the NearestNeighbors class with n_neighbors=k\n",
        "    nn = NearestNeighbors(n_neighbors=k)\n",
        "    \n",
        "    # Fit the model to x\n",
        "    nn.fit(x)\n",
        "    \n",
        "    # Use the kneighbors method to find the k closest vectors to p\n",
        "    _, indices = nn.kneighbors(p.reshape(1, -1))\n",
        "    \n",
        "    # Return the k closest vectors in x to p\n",
        "    return x[indices[0]]"
      ],
      "metadata": {
        "id": "Lb8EI0rDh2Kv"
      },
      "execution_count": 37,
      "outputs": []
    },
    {
      "cell_type": "code",
      "source": [
        "k_closest(X, p, 1)"
      ],
      "metadata": {
        "colab": {
          "base_uri": "https://localhost:8080/"
        },
        "id": "7wOSgslnmh0z",
        "outputId": "9bf17d60-53eb-4e85-cb61-524be68bbce4"
      },
      "execution_count": 38,
      "outputs": [
        {
          "output_type": "execute_result",
          "data": {
            "text/plain": [
              "array([[20, 47, 88]])"
            ]
          },
          "metadata": {},
          "execution_count": 38
        }
      ]
    },
    {
      "cell_type": "markdown",
      "source": [
        "Define a function called distance in python with the following signature: def distance( x0 : \"A vector as np.array\", X: \"A list of vectors as np.ndarray\", p : \"p value for Minkowsky distance. Default 2, for Eucledian\"):\n",
        "\n",
        "    which returns a list of calculated Minkowsky distances between the point x0 and all points in X. Recall that the p-Minkowsky distance between\n",
        "\n",
        "\n",
        "  Do not use any predefined function to calculate the same. \n",
        "      Consider, X0 = np.array([1,0,0,0]), X= np.asarray([[1, 0, 0,0], [0, 1, 1,1],[1,2,0,0]]), p= 2 then, what is the output of the function distance(X0,X,p) ?"
      ],
      "metadata": {
        "id": "4QPHmRHQpBd7"
      }
    },
    {
      "cell_type": "code",
      "source": [
        "import numpy as np\n",
        "\n",
        "def distance(x0: np.ndarray, X: np.ndarray, p: int = 2) -> list:\n",
        "    \"\"\"\n",
        "    Calculates the Minkowski distance between a vector x0 and a list of vectors X, using the p value as the exponent.\n",
        "\n",
        "    Parameters:\n",
        "        x0 (numpy.ndarray): A vector.\n",
        "        X (numpy.ndarray): A list of vectors.\n",
        "        p (int): The exponent to use for the Minkowski distance calculation (default is 2).\n",
        "\n",
        "    Returns:\n",
        "        list: A list of calculated Minkowski distances between the point x0 and all points in X.\n",
        "    \"\"\"\n",
        "    distances = []\n",
        "    for x in X:\n",
        "        distance = np.sum(np.abs(x - x0) ** p) ** (1/p)\n",
        "        distances.append(distance)\n",
        "    return distances"
      ],
      "metadata": {
        "id": "zE52JfnIm0ek"
      },
      "execution_count": 39,
      "outputs": []
    },
    {
      "cell_type": "code",
      "source": [
        "X0 = np.array([1,0,0,0])\n",
        "X= np.asarray([[1, 0, 0,0], [0, 1, 1,1],[1,2,0,0]])\n",
        "p= 2"
      ],
      "metadata": {
        "id": "On8Bb-VMoXaU"
      },
      "execution_count": 41,
      "outputs": []
    },
    {
      "cell_type": "code",
      "source": [
        "distance(X0,X,p)"
      ],
      "metadata": {
        "colab": {
          "base_uri": "https://localhost:8080/"
        },
        "id": "zIihRyQEoamc",
        "outputId": "efef5e3f-2e6c-4520-c365-fdddb039433c"
      },
      "execution_count": 42,
      "outputs": [
        {
          "output_type": "execute_result",
          "data": {
            "text/plain": [
              "[0.0, 2.0, 2.0]"
            ]
          },
          "metadata": {},
          "execution_count": 42
        }
      ]
    },
    {
      "cell_type": "markdown",
      "source": [
        " Load digit dataset on Colab (datasets.load_digits()) and use softmax regression to build the model Using following steps.\n",
        " Step 1: Load the dataset and split it using train_test_split by keeping: test_size= 0.2 random_state=10\n",
        "\n",
        " Step 2: Use standard scaler as a scaling function to scale the training as well as test data.\n",
        "\n",
        " Step 3: Use Logisticregression() as an estimator and set parameter (multi_class='multinomial', solver='sag') to predict the output."
      ],
      "metadata": {
        "id": "RUhi2wUppOTg"
      }
    },
    {
      "cell_type": "code",
      "source": [
        "# Step 1: Load the dataset and split it using train_test_split\n",
        "from sklearn.datasets import load_digits\n",
        "from sklearn.model_selection import train_test_split\n",
        "\n",
        "digits = load_digits()\n",
        "X_train, X_test, y_train, y_test = train_test_split(digits.data, digits.target, test_size=0.2, random_state=10)\n",
        "\n",
        "# Step 2: Use standard scaler as a scaling function to scale the training as well as test data\n",
        "from sklearn.preprocessing import StandardScaler\n",
        "\n",
        "scaler = StandardScaler()\n",
        "X_train = scaler.fit_transform(X_train)\n",
        "X_test = scaler.transform(X_test)\n",
        "\n",
        "# Step 3: Use Logisticregression() as an estimator and set parameter (multi_class='multinomial', solver='sag') to predict the output\n",
        "from sklearn.linear_model import LogisticRegression\n",
        "\n",
        "clf = LogisticRegression(multi_class='multinomial', solver='sag')\n",
        "clf.fit(X_train, y_train)\n",
        "y_pred = clf.predict(X_test)\n",
        "\n",
        "# Evaluate the model\n",
        "from sklearn.metrics import accuracy_score\n",
        "\n",
        "accuracy = accuracy_score(y_test, y_pred)\n",
        "print(\"Accuracy:\", accuracy)"
      ],
      "metadata": {
        "colab": {
          "base_uri": "https://localhost:8080/"
        },
        "id": "KyShNjv_ohny",
        "outputId": "c8c00d66-2f3a-4321-fae4-711bda8f691e"
      },
      "execution_count": 45,
      "outputs": [
        {
          "output_type": "stream",
          "name": "stdout",
          "text": [
            "Accuracy: 0.9666666666666667\n"
          ]
        },
        {
          "output_type": "stream",
          "name": "stderr",
          "text": [
            "/usr/local/lib/python3.9/dist-packages/sklearn/linear_model/_sag.py:350: ConvergenceWarning: The max_iter was reached which means the coef_ did not converge\n",
            "  warnings.warn(\n"
          ]
        }
      ]
    },
    {
      "cell_type": "markdown",
      "source": [
        "What is the shape of features data you got in digits dataset ?"
      ],
      "metadata": {
        "id": "2YMme1awqDxg"
      }
    },
    {
      "cell_type": "code",
      "source": [
        "load_digits?"
      ],
      "metadata": {
        "id": "Cnb21l1ApSsh"
      },
      "execution_count": 46,
      "outputs": []
    },
    {
      "cell_type": "markdown",
      "source": [
        "How many labels are there in the dataset?"
      ],
      "metadata": {
        "id": "JmsLaXADqFnQ"
      }
    },
    {
      "cell_type": "markdown",
      "source": [
        "How many times label '7' is there in the dataset?"
      ],
      "metadata": {
        "id": "ZUUfFc84qK4U"
      }
    },
    {
      "cell_type": "code",
      "source": [
        "y= digits.target\n",
        "idx = np.where(digits.target == 7)\n",
        "len(idx[0])"
      ],
      "metadata": {
        "colab": {
          "base_uri": "https://localhost:8080/"
        },
        "id": "b38DUgWXp_5n",
        "outputId": "d77089d7-18ca-4570-bcc2-d10ec4138ff7"
      },
      "execution_count": 54,
      "outputs": [
        {
          "output_type": "execute_result",
          "data": {
            "text/plain": [
              "179"
            ]
          },
          "metadata": {},
          "execution_count": 54
        }
      ]
    },
    {
      "cell_type": "markdown",
      "source": [
        "Write the f1_score value you got .(Keep parameter average='weighted')"
      ],
      "metadata": {
        "id": "xhit754IrE7G"
      }
    },
    {
      "cell_type": "code",
      "source": [
        "from sklearn.metrics import f1_score\n",
        "\n",
        "f1 = f1_score(y_test, y_pred, average='weighted')\n",
        "print(\"F1 Score:\", f1)"
      ],
      "metadata": {
        "colab": {
          "base_uri": "https://localhost:8080/"
        },
        "id": "5_5jW9uaqOYG",
        "outputId": "4f3e5d69-eada-4910-b398-3978f275864d"
      },
      "execution_count": 55,
      "outputs": [
        {
          "output_type": "stream",
          "name": "stdout",
          "text": [
            "F1 Score: 0.966907732026411\n"
          ]
        }
      ]
    },
    {
      "cell_type": "code",
      "source": [],
      "metadata": {
        "id": "wXBTTLp0q4_A"
      },
      "execution_count": null,
      "outputs": []
    }
  ]
}