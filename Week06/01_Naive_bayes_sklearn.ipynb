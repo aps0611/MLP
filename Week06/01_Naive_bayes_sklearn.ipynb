{
  "nbformat": 4,
  "nbformat_minor": 0,
  "metadata": {
    "colab": {
      "provenance": []
    },
    "kernelspec": {
      "name": "python3",
      "display_name": "Python 3"
    },
    "language_info": {
      "name": "python"
    }
  },
  "cells": [
    {
      "cell_type": "markdown",
      "source": [
        "# List of Naive Bayes Classifiers"
      ],
      "metadata": {
        "id": "gxWaPBqCo_DJ"
      }
    },
    {
      "cell_type": "markdown",
      "source": [
        "1. GaussianNB - best suited when x does not have categorical features\n",
        "2. BernoulliNB - multivariate Bernoulli models.\n",
        "3. MultinomialNB - for multinomial models e.g word count in the test classification\n",
        "4. CategoricalNB - for categorical features\n",
        "5. ComplementNB - complements naive bayes classifier- best suited when data is imbalanced"
      ],
      "metadata": {
        "id": "uSfk5rwZpLP3"
      }
    },
    {
      "cell_type": "code",
      "source": [
        " "
      ],
      "metadata": {
        "id": "voShUHDRpJ_g"
      },
      "execution_count": null,
      "outputs": []
    }
  ]
}