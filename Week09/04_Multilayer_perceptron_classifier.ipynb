{
  "cells": [
    {
      "cell_type": "markdown",
      "metadata": {
        "id": "J79Pr6dCc186"
      },
      "source": [
        "In this colab, we will demonstrate working of `MLPClassifier` to classify handwritten digits in `MNIST` dataset."
      ]
    },
    {
      "cell_type": "markdown",
      "metadata": {
        "id": "GX6ratbOlmLR"
      },
      "source": [
        "## **Imports**\n",
        "\n",
        "* We will begin by importing basic python libraries like `numpy` and `pandas`.\n",
        "* `matplotlib.pyplot` and `seaborn` for plotting.\n",
        "* The `mnist` dataset is downloaded using `fetch_openml` library.\n",
        "* The `MLPClassifier` is imported from `sklearn.neural_network` module.\n",
        "* The model training and evaluation is performed with cross validation using a bunch of model selection utilities like `cross_val_score`, `train_test_split`, `StratifiedShuffleSplit` etc.\n",
        "* The performance on the test samples is obtained via `accuracy_score`, `confusion_matrix` and `classification_report`."
      ]
    },
    {
      "cell_type": "code",
      "execution_count": 3,
      "metadata": {
        "id": "NSs_rNgd9ZSq"
      },
      "outputs": [],
      "source": [
        "import matplotlib.pyplot as plt\n",
        "import seaborn as sns\n",
        "\n",
        "import pandas as pd\n",
        "import numpy as np\n",
        "\n",
        "from sklearn.datasets import fetch_openml\n",
        "from sklearn.neural_network import MLPClassifier\n",
        "\n",
        "from sklearn.metrics import accuracy_score, confusion_matrix, \\\n",
        "ConfusionMatrixDisplay, classification_report\n",
        "\n",
        "from sklearn.model_selection import cross_val_score, train_test_split, \\\n",
        "  GridSearchCV, StratifiedShuffleSplit"
      ]
    },
    {
      "cell_type": "code",
      "execution_count": 4,
      "metadata": {
        "id": "aAl3mnGqPhmU"
      },
      "outputs": [],
      "source": [
        "cv = StratifiedShuffleSplit(n_splits=5, test_size=0.2, random_state=42)"
      ]
    },
    {
      "cell_type": "markdown",
      "metadata": {
        "id": "kV-HUNCLEHWe"
      },
      "source": [
        "## **Load dataset**"
      ]
    },
    {
      "cell_type": "markdown",
      "metadata": {
        "id": "7ZHV2XLJ0337"
      },
      "source": [
        "Let us use the MNIST Dataset for the demo of MLPClassifier"
      ]
    },
    {
      "cell_type": "code",
      "execution_count": 5,
      "metadata": {
        "id": "jzlQkd_G5uq9",
        "colab": {
          "base_uri": "https://localhost:8080/"
        },
        "outputId": "52e605e5-bd1e-4ee6-828c-136a2624011a"
      },
      "outputs": [
        {
          "output_type": "stream",
          "name": "stderr",
          "text": [
            "/usr/local/lib/python3.9/dist-packages/sklearn/datasets/_openml.py:968: FutureWarning: The default value of `parser` will change from `'liac-arff'` to `'auto'` in 1.4. You can set `parser='auto'` to silence this warning. Therefore, an `ImportError` will be raised from 1.4 if the dataset is dense and pandas is not installed. Note that the pandas parser may return different data types. See the Notes Section in fetch_openml's API doc for details.\n",
            "  warn(\n"
          ]
        }
      ],
      "source": [
        "# Load dataset\n",
        "X,y= fetch_openml('mnist_784',version=1,return_X_y=True) \n",
        "X = X.to_numpy()\n",
        "y = y.to_numpy()\n",
        "X_train, X_test, y_train, y_test = X[:60000], X[60000:], y[:60000], y[60000:]"
      ]
    },
    {
      "cell_type": "code",
      "execution_count": 6,
      "metadata": {
        "id": "cytEJobTqcB0"
      },
      "outputs": [],
      "source": [
        "# Flatten each input image into a vector of length 784 \n",
        "X_train = X_train.reshape(X_train.shape[0], 28*28)\n",
        "X_test = X_test.reshape(X_test.shape[0], 28*28)\n",
        "\n",
        "# Normalizing. \n",
        "X_train = X_train/255\n",
        "X_test = X_test/255"
      ]
    },
    {
      "cell_type": "code",
      "execution_count": 7,
      "metadata": {
        "colab": {
          "base_uri": "https://localhost:8080/"
        },
        "id": "bWYx2MK6qnUD",
        "outputId": "87f5736b-4825-4675-9cb8-793827c2730d"
      },
      "outputs": [
        {
          "output_type": "stream",
          "name": "stdout",
          "text": [
            "Shape of training data after flattening (60000, 784)\n",
            "Shape of testing data after flattening (10000, 784)\n"
          ]
        }
      ],
      "source": [
        "print('Shape of training data after flattening',X_train.shape)\n",
        "print('Shape of testing data after flattening', X_test.shape)"
      ]
    },
    {
      "cell_type": "code",
      "execution_count": null,
      "metadata": {
        "colab": {
          "base_uri": "https://localhost:8080/"
        },
        "id": "RKNCBJsfyqyc",
        "outputId": "49b3549b-4ae7-483f-a90a-51d4f5966854"
      },
      "outputs": [
        {
          "name": "stdout",
          "output_type": "stream",
          "text": [
            "Shape of training data (60000, 784)\n",
            "Shape of training labels (60000,)\n",
            "Shape of testing data (10000, 784)\n",
            "Shape of testing labels (10000,)\n"
          ]
        }
      ],
      "source": [
        "print('Shape of training data',X_train.shape)\n",
        "print('Shape of training labels', y_train.shape)\n",
        "print('Shape of testing data', X_test.shape)\n",
        "print('Shape of testing labels',y_test.shape)"
      ]
    },
    {
      "cell_type": "markdown",
      "metadata": {
        "id": "Iw0AGm0rEMGC"
      },
      "source": [
        "## **Fit MLPClassifer on MNIST dataset**"
      ]
    },
    {
      "cell_type": "markdown",
      "metadata": {
        "id": "R7FVfFBEJVFy"
      },
      "source": [
        "Let us train a MLP classifier with one hidden layer having 128 neurons."
      ]
    },
    {
      "cell_type": "code",
      "execution_count": 8,
      "metadata": {
        "colab": {
          "base_uri": "https://localhost:8080/",
          "height": 75
        },
        "id": "pXMjRfsgPq4T",
        "outputId": "dcc030a0-730c-4fc3-9d96-be2acb8cffb0"
      },
      "outputs": [
        {
          "output_type": "execute_result",
          "data": {
            "text/plain": [
              "MLPClassifier(hidden_layer_sizes=(128,))"
            ],
            "text/html": [
              "<style>#sk-container-id-1 {color: black;background-color: white;}#sk-container-id-1 pre{padding: 0;}#sk-container-id-1 div.sk-toggleable {background-color: white;}#sk-container-id-1 label.sk-toggleable__label {cursor: pointer;display: block;width: 100%;margin-bottom: 0;padding: 0.3em;box-sizing: border-box;text-align: center;}#sk-container-id-1 label.sk-toggleable__label-arrow:before {content: \"▸\";float: left;margin-right: 0.25em;color: #696969;}#sk-container-id-1 label.sk-toggleable__label-arrow:hover:before {color: black;}#sk-container-id-1 div.sk-estimator:hover label.sk-toggleable__label-arrow:before {color: black;}#sk-container-id-1 div.sk-toggleable__content {max-height: 0;max-width: 0;overflow: hidden;text-align: left;background-color: #f0f8ff;}#sk-container-id-1 div.sk-toggleable__content pre {margin: 0.2em;color: black;border-radius: 0.25em;background-color: #f0f8ff;}#sk-container-id-1 input.sk-toggleable__control:checked~div.sk-toggleable__content {max-height: 200px;max-width: 100%;overflow: auto;}#sk-container-id-1 input.sk-toggleable__control:checked~label.sk-toggleable__label-arrow:before {content: \"▾\";}#sk-container-id-1 div.sk-estimator input.sk-toggleable__control:checked~label.sk-toggleable__label {background-color: #d4ebff;}#sk-container-id-1 div.sk-label input.sk-toggleable__control:checked~label.sk-toggleable__label {background-color: #d4ebff;}#sk-container-id-1 input.sk-hidden--visually {border: 0;clip: rect(1px 1px 1px 1px);clip: rect(1px, 1px, 1px, 1px);height: 1px;margin: -1px;overflow: hidden;padding: 0;position: absolute;width: 1px;}#sk-container-id-1 div.sk-estimator {font-family: monospace;background-color: #f0f8ff;border: 1px dotted black;border-radius: 0.25em;box-sizing: border-box;margin-bottom: 0.5em;}#sk-container-id-1 div.sk-estimator:hover {background-color: #d4ebff;}#sk-container-id-1 div.sk-parallel-item::after {content: \"\";width: 100%;border-bottom: 1px solid gray;flex-grow: 1;}#sk-container-id-1 div.sk-label:hover label.sk-toggleable__label {background-color: #d4ebff;}#sk-container-id-1 div.sk-serial::before {content: \"\";position: absolute;border-left: 1px solid gray;box-sizing: border-box;top: 0;bottom: 0;left: 50%;z-index: 0;}#sk-container-id-1 div.sk-serial {display: flex;flex-direction: column;align-items: center;background-color: white;padding-right: 0.2em;padding-left: 0.2em;position: relative;}#sk-container-id-1 div.sk-item {position: relative;z-index: 1;}#sk-container-id-1 div.sk-parallel {display: flex;align-items: stretch;justify-content: center;background-color: white;position: relative;}#sk-container-id-1 div.sk-item::before, #sk-container-id-1 div.sk-parallel-item::before {content: \"\";position: absolute;border-left: 1px solid gray;box-sizing: border-box;top: 0;bottom: 0;left: 50%;z-index: -1;}#sk-container-id-1 div.sk-parallel-item {display: flex;flex-direction: column;z-index: 1;position: relative;background-color: white;}#sk-container-id-1 div.sk-parallel-item:first-child::after {align-self: flex-end;width: 50%;}#sk-container-id-1 div.sk-parallel-item:last-child::after {align-self: flex-start;width: 50%;}#sk-container-id-1 div.sk-parallel-item:only-child::after {width: 0;}#sk-container-id-1 div.sk-dashed-wrapped {border: 1px dashed gray;margin: 0 0.4em 0.5em 0.4em;box-sizing: border-box;padding-bottom: 0.4em;background-color: white;}#sk-container-id-1 div.sk-label label {font-family: monospace;font-weight: bold;display: inline-block;line-height: 1.2em;}#sk-container-id-1 div.sk-label-container {text-align: center;}#sk-container-id-1 div.sk-container {/* jupyter's `normalize.less` sets `[hidden] { display: none; }` but bootstrap.min.css set `[hidden] { display: none !important; }` so we also need the `!important` here to be able to override the default hidden behavior on the sphinx rendered scikit-learn.org. See: https://github.com/scikit-learn/scikit-learn/issues/21755 */display: inline-block !important;position: relative;}#sk-container-id-1 div.sk-text-repr-fallback {display: none;}</style><div id=\"sk-container-id-1\" class=\"sk-top-container\"><div class=\"sk-text-repr-fallback\"><pre>MLPClassifier(hidden_layer_sizes=(128,))</pre><b>In a Jupyter environment, please rerun this cell to show the HTML representation or trust the notebook. <br />On GitHub, the HTML representation is unable to render, please try loading this page with nbviewer.org.</b></div><div class=\"sk-container\" hidden><div class=\"sk-item\"><div class=\"sk-estimator sk-toggleable\"><input class=\"sk-toggleable__control sk-hidden--visually\" id=\"sk-estimator-id-1\" type=\"checkbox\" checked><label for=\"sk-estimator-id-1\" class=\"sk-toggleable__label sk-toggleable__label-arrow\">MLPClassifier</label><div class=\"sk-toggleable__content\"><pre>MLPClassifier(hidden_layer_sizes=(128,))</pre></div></div></div></div></div>"
            ]
          },
          "metadata": {},
          "execution_count": 8
        }
      ],
      "source": [
        "mlpc = MLPClassifier(hidden_layer_sizes=(128,))\n",
        "mlpc.fit(X_train, y_train)"
      ]
    },
    {
      "cell_type": "code",
      "execution_count": 9,
      "metadata": {
        "colab": {
          "base_uri": "https://localhost:8080/"
        },
        "id": "QpYZkpSyRb6t",
        "outputId": "7c2829e8-1e9a-4bd6-ae39-e6ad0af872ac"
      },
      "outputs": [
        {
          "output_type": "stream",
          "name": "stdout",
          "text": [
            "Training Accuracy: 97.65 %\n"
          ]
        }
      ],
      "source": [
        "cv_score = cross_val_score(mlpc, X_train, y_train.ravel(),cv=cv)\n",
        "print(\"Training Accuracy: {:.2f} %\".format(cv_score.mean()*100))"
      ]
    },
    {
      "cell_type": "code",
      "execution_count": 10,
      "metadata": {
        "colab": {
          "base_uri": "https://localhost:8080/"
        },
        "id": "cb25ALL_zBfi",
        "outputId": "50bd7e46-8c2b-487a-d20d-f890684385ed"
      },
      "outputs": [
        {
          "output_type": "execute_result",
          "data": {
            "text/plain": [
              "array([[1.41482765e-12, 2.69713227e-15, 2.71689440e-10, 1.70819872e-06,\n",
              "        4.58678966e-19, 6.74766808e-13, 9.26475230e-23, 9.99998291e-01,\n",
              "        9.31561461e-10, 8.73404293e-13],\n",
              "       [1.15420887e-15, 1.77196362e-11, 1.00000000e+00, 5.71303647e-11,\n",
              "        5.76369588e-33, 1.43663483e-12, 5.39017848e-15, 2.02432915e-26,\n",
              "        8.38939556e-13, 2.12001897e-27],\n",
              "       [3.35216224e-12, 9.99996699e-01, 4.78557098e-07, 4.10557311e-11,\n",
              "        6.26452704e-09, 3.65755301e-09, 2.97084824e-09, 6.43327911e-07,\n",
              "        2.16646956e-06, 4.83858943e-11],\n",
              "       [1.00000000e+00, 2.13790149e-16, 3.28611258e-11, 1.99645299e-14,\n",
              "        2.41688532e-21, 3.46367821e-14, 8.25416658e-13, 3.08495329e-16,\n",
              "        2.04599947e-20, 2.27176207e-13],\n",
              "       [3.82494180e-10, 1.68480680e-15, 3.63928013e-12, 3.22959329e-14,\n",
              "        9.99683993e-01, 7.51661226e-15, 3.29635308e-12, 3.83473072e-10,\n",
              "        2.96978107e-11, 3.16006332e-04]])"
            ]
          },
          "metadata": {},
          "execution_count": 10
        }
      ],
      "source": [
        "# prediction probabilities of test data\n",
        "mlpc.predict_proba(X_test[:5])"
      ]
    },
    {
      "cell_type": "code",
      "execution_count": 12,
      "metadata": {
        "id": "PCKm99H40YfF"
      },
      "outputs": [],
      "source": [
        "# prediction class labels of test data\n",
        "y_pred = mlpc.predict(X_test)"
      ]
    },
    {
      "cell_type": "code",
      "execution_count": 13,
      "metadata": {
        "colab": {
          "base_uri": "https://localhost:8080/"
        },
        "id": "EhveeNO9odcu",
        "outputId": "4d8b7589-9f57-43ac-8b98-15838cac3fa5"
      },
      "outputs": [
        {
          "output_type": "stream",
          "name": "stdout",
          "text": [
            "Train accuracy: 100.00%\n",
            "Test accuracy: 97.99%\n"
          ]
        }
      ],
      "source": [
        "print(\"Train accuracy: {:.2f}%\".format(\n",
        "    accuracy_score(y_train, mlpc.predict(X_train))*100))\n",
        "print(\"Test accuracy: {:.2f}%\".format(\n",
        "    accuracy_score(y_test, y_pred)*100))"
      ]
    },
    {
      "cell_type": "markdown",
      "metadata": {
        "id": "9l1auCKnK5aj"
      },
      "source": [
        "## **Confusion matrix plot**"
      ]
    },
    {
      "cell_type": "code",
      "execution_count": 14,
      "metadata": {
        "colab": {
          "base_uri": "https://localhost:8080/",
          "height": 295
        },
        "id": "JXD_XAdv2qUA",
        "outputId": "2e29a0c2-99df-4ef2-9baf-ee75871f7084"
      },
      "outputs": [
        {
          "output_type": "display_data",
          "data": {
            "text/plain": [
              "<Figure size 432x288 with 2 Axes>"
            ],
            "image/png": "[encoded data removed]"
          },
          "metadata": {
            "needs_background": "light"
          }
        }
      ],
      "source": [
        "# visualizing the confusion matrix\n",
        "cm = confusion_matrix(y_test, y_pred)\n",
        "disp = ConfusionMatrixDisplay(confusion_matrix=cm)\n",
        "disp.plot()\n",
        "plt.title('Confusion matrix')\n",
        "plt.show()"
      ]
    },
    {
      "cell_type": "code",
      "execution_count": 15,
      "metadata": {
        "colab": {
          "base_uri": "https://localhost:8080/"
        },
        "id": "apwav9sp26_0",
        "outputId": "f8dcf488-e1dd-4a09-8862-63305442a6b8"
      },
      "outputs": [
        {
          "output_type": "stream",
          "name": "stdout",
          "text": [
            "Classification report \n",
            "\n",
            "              precision    recall  f1-score   support\n",
            "\n",
            "           0       0.98      0.99      0.99       980\n",
            "           1       0.99      0.99      0.99      1135\n",
            "           2       0.98      0.98      0.98      1032\n",
            "           3       0.98      0.98      0.98      1010\n",
            "           4       0.98      0.98      0.98       982\n",
            "           5       0.98      0.97      0.98       892\n",
            "           6       0.98      0.98      0.98       958\n",
            "           7       0.98      0.98      0.98      1028\n",
            "           8       0.98      0.96      0.97       974\n",
            "           9       0.97      0.98      0.97      1009\n",
            "\n",
            "    accuracy                           0.98     10000\n",
            "   macro avg       0.98      0.98      0.98     10000\n",
            "weighted avg       0.98      0.98      0.98     10000\n",
            "\n"
          ]
        }
      ],
      "source": [
        "CR = classification_report(y_test, y_pred)\n",
        "print('Classification report \\n')\n",
        "print(CR)"
      ]
    },
    {
      "cell_type": "markdown",
      "metadata": {
        "id": "CLy3zoC4EgBM"
      },
      "source": [
        "## Plot of test data along with predicted class labels"
      ]
    },
    {
      "cell_type": "code",
      "execution_count": 16,
      "metadata": {
        "colab": {
          "base_uri": "https://localhost:8080/",
          "height": 412
        },
        "id": "YPzSA7Pr3eW2",
        "outputId": "196dcba0-7e74-41a0-d1f3-d51cd5a09d66"
      },
      "outputs": [
        {
          "output_type": "display_data",
          "data": {
            "text/plain": [
              "<Figure size 720x504 with 15 Axes>"
            ],
            "image/png": "[encoded data removed]"
          },
          "metadata": {
            "needs_background": "light"
          }
        }
      ],
      "source": [
        "# Plotting some test samples and \n",
        "fig = plt.figure(figsize=(10,7))\n",
        "for i in range(15):  \n",
        "    ax = fig.add_subplot(3, 5, i+1)\n",
        "    ax.imshow(X_test[i].reshape(28, 28), cmap=plt.get_cmap('gray'))\n",
        "    ax.set_title('Label (y): {y}'.format(y=y_pred[i]))\n",
        "    plt.axis('off')"
      ]
    },
    {
      "cell_type": "markdown",
      "metadata": {
        "id": "yQeiALuaD9Iu"
      },
      "source": [
        "## **Visualization of multi layer perceptron weights in hidden layer**"
      ]
    },
    {
      "cell_type": "markdown",
      "metadata": {
        "id": "_IxRq7-3Ph1L"
      },
      "source": [
        "- Looking at the learned coefficients of a neural network can provide insight into the learning behavior. \n",
        "- The input data consists 784 features in the dataset. \n",
        "- We have used one hidden layer with 128 neurons. Therefore weight matrix has the shape (784, 128). \n",
        "- We can therefore visualize a single column of the weight matrix as a 28 x 28 pixel image."
      ]
    },
    {
      "cell_type": "code",
      "execution_count": 17,
      "metadata": {
        "colab": {
          "base_uri": "https://localhost:8080/"
        },
        "id": "q3J7spHHMwKk",
        "outputId": "b69b6f92-f136-4cfc-fefd-aaa2e62c224f"
      },
      "outputs": [
        {
          "output_type": "execute_result",
          "data": {
            "text/plain": [
              "(784, 128)"
            ]
          },
          "metadata": {},
          "execution_count": 17
        }
      ],
      "source": [
        "w = mlpc.coefs_\n",
        "w = np.array(w[0])\n",
        "w.shape"
      ]
    },
    {
      "cell_type": "code",
      "execution_count": 18,
      "metadata": {
        "colab": {
          "base_uri": "https://localhost:8080/"
        },
        "id": "Q2kpJFf3N-3q",
        "outputId": "227ec944-4e77-4842-f75f-0ef7faca6bbd"
      },
      "outputs": [
        {
          "output_type": "execute_result",
          "data": {
            "text/plain": [
              "(784,)"
            ]
          },
          "metadata": {},
          "execution_count": 18
        }
      ],
      "source": [
        "w1 = np.array(w[:,0])\n",
        "w1.shape"
      ]
    },
    {
      "cell_type": "code",
      "execution_count": 19,
      "metadata": {
        "colab": {
          "base_uri": "https://localhost:8080/",
          "height": 251
        },
        "id": "e5drYAc4MX9C",
        "outputId": "6c00d867-1434-4298-8b50-10afe8cb7a96"
      },
      "outputs": [
        {
          "output_type": "display_data",
          "data": {
            "text/plain": [
              "<Figure size 432x288 with 2 Axes>"
            ],
            "image/png": "[encoded data removed]"
          },
          "metadata": {
            "needs_background": "light"
          }
        }
      ],
      "source": [
        "w_matrix = w1.reshape(28,28)\n",
        "fig = plt.figure()\n",
        "plt.imshow(w_matrix,cmap='gray')\n",
        "plt.grid(False)\n",
        "plt.axis(False)\n",
        "plt.colorbar()\n",
        "plt.show()"
      ]
    },
    {
      "cell_type": "code",
      "execution_count": 20,
      "metadata": {
        "colab": {
          "base_uri": "https://localhost:8080/",
          "height": 248
        },
        "id": "tyWrnge5D8z4",
        "outputId": "1ff12902-6f6f-4600-82ca-ad0f197f0c1c"
      },
      "outputs": [
        {
          "output_type": "display_data",
          "data": {
            "text/plain": [
              "<Figure size 432x288 with 16 Axes>"
            ],
            "image/png": "[encoded data removed]"
          },
          "metadata": {}
        }
      ],
      "source": [
        "fig, axes = plt.subplots(4, 4)\n",
        "vmin, vmax = mlpc.coefs_[0].min(), mlpc.coefs_[0].max()\n",
        "for coef, ax in zip(mlpc.coefs_[0].T, axes.ravel()):\n",
        "    ax.matshow(coef.reshape(28, 28), cmap=plt.cm.gray,\n",
        "               vmin=0.5 * vmin, vmax=0.5 * vmax)\n",
        "    ax.set_xticks(())\n",
        "    ax.set_yticks(())\n",
        "plt.show()"
      ]
    },
    {
      "cell_type": "code",
      "execution_count": 21,
      "metadata": {
        "colab": {
          "base_uri": "https://localhost:8080/",
          "height": 312
        },
        "id": "prjNRdD84kXO",
        "outputId": "bc3ed853-d184-4300-c9d1-aa750226a608"
      },
      "outputs": [
        {
          "output_type": "execute_result",
          "data": {
            "text/plain": [
              "Text(0.5, 1.0, 'Loss curve')"
            ]
          },
          "metadata": {},
          "execution_count": 21
        },
        {
          "output_type": "display_data",
          "data": {
            "text/plain": [
              "<Figure size 432x288 with 1 Axes>"
            ],
            "image/png": "[encoded data removed]"
          },
          "metadata": {
            "needs_background": "light"
          }
        }
      ],
      "source": [
        "plt.plot(mlpc.loss_curve_, 'b-')\n",
        "plt.xlabel('epoch')\n",
        "plt.ylabel('loss')\n",
        "plt.title('Loss curve')"
      ]
    },
    {
      "cell_type": "markdown",
      "metadata": {
        "id": "nUOWkrIwj2RA"
      },
      "source": [
        "## **Using GridsearchCV**"
      ]
    },
    {
      "cell_type": "markdown",
      "metadata": {
        "id": "WODH5bxf90Wq"
      },
      "source": [
        "Let us use a grid search cross-validation to explore combinations of parameters of MLPClassifier. \n",
        "1. Activation functions\n",
        "2. Learning rate strategies\n",
        "3. Alpha"
      ]
    },
    {
      "cell_type": "code",
      "execution_count": 22,
      "metadata": {
        "id": "ER4FM5zdhlre"
      },
      "outputs": [],
      "source": [
        "# scaler = StandardScaler()\n",
        "# X_train = scaler.fit_transform(X_train)\n",
        "\n",
        "# learning_strategy=['constant','invscaling']\n",
        "# activation_func=['identity', 'logistic', 'tanh', 'relu']\n",
        "# alphas = np.logspace(-1, 1, 5)\n",
        "\n",
        "\n",
        "# param_grid = dict(activation = activation_func, learning_rate=learning_strategy, alpha=alphas)\n",
        "# cv = StratifiedShuffleSplit(n_splits=3, test_size=0.2, random_state=42)\n",
        "# grid = GridSearchCV(MLPClassifier(learning_rate_init=0.1, max_iter=100,solver='adam'), param_grid=param_grid, cv=cv)\n",
        "# grid.fit(X_train, y_train)\n",
        "# "
      ]
    },
    {
      "cell_type": "code",
      "execution_count": 23,
      "metadata": {
        "id": "o4Y4QJ1leuPW"
      },
      "outputs": [],
      "source": [
        "# print(\"The best parameters are : \", grid.best_params_)\n",
        "# print(\"The best score is : \", grid.best_score_*100)"
      ]
    },
    {
      "cell_type": "code",
      "source": [],
      "metadata": {
        "id": "PxcoPGQcptGI"
      },
      "execution_count": null,
      "outputs": []
    }
  ],
  "metadata": {
    "colab": {
      "provenance": []
    },
    "kernelspec": {
      "display_name": "Python 3",
      "name": "python3"
    },
    "language_info": {
      "name": "python"
    }
  },
  "nbformat": 4,
  "nbformat_minor": 0
}