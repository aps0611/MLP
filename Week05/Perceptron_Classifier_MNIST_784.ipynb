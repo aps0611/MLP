{
  "nbformat": 4,
  "nbformat_minor": 0,
  "metadata": {
    "colab": {
      "provenance": []
    },
    "kernelspec": {
      "name": "python3",
      "display_name": "Python 3"
    },
    "language_info": {
      "name": "python"
    }
  },
  "cells": [
    {
      "cell_type": "markdown",
      "source": [
        "# Imports"
      ],
      "metadata": {
        "id": "cMG0Yr0o8bzO"
      }
    },
    {
      "cell_type": "markdown",
      "source": [
        "What is the first step?.\n",
        "\n",
        "  Import all necessary packages.For classification problems, we need to import classes and\n",
        "utilities from sklearn.linear_model .\n",
        "This module has implementations for different classification models like\n",
        "`Perceptron`, `LogisticRegression`, `svm` and `knn`\n",
        "\n",
        "We also need to import a bunch of model selection utilities from sklearn.`model_selection`\n",
        "module and metrics from `sklearn.metrics` module.\n",
        "The data preprocessing utilities are imported from `sklearn.preprocessing` modules."
      ],
      "metadata": {
        "id": "0ox79r_18dxN"
      }
    },
    {
      "cell_type": "code",
      "execution_count": 1,
      "metadata": {
        "id": "mvaQmlqV8SXP"
      },
      "outputs": [],
      "source": [
        "# Common imports\n",
        "import numpy as np\n",
        "import os\n",
        "import io\n",
        "import warnings\n",
        "\n",
        "#sklearn specific imports\n",
        "from sklearn.datasets import fetch_openml\n",
        "from sklearn.preprocessing import MaxAbsScaler, MinMaxScaler\n",
        "from sklearn.pipeline import Pipeline\n",
        "from sklearn.dummy import DummyClassifier\n",
        "from sklearn.metrics import hinge_loss\n",
        "from sklearn.metrics import ConfusionMatrixDisplay, confusion_matrix, precision_recall_curve\n",
        "from sklearn.metrics import precision_score, recall_score, classification_report\n",
        "from sklearn.metrics import make_scorer\n",
        "from sklearn.model_selection import cross_validate, cross_val_predict,GridSearchCV\n",
        "from pprint import pprint\n",
        "from sklearn.decomposition import PCA\n",
        "\n",
        "# To plot pretty figures\n",
        "%matplotlib inline\n",
        "import matplotlib as mpl\n",
        "import matplotlib.pyplot as plt\n",
        "\n",
        "import seaborn as sns\n",
        "\n",
        "#global matplotlib settings\n",
        "mpl.rc('figure',figsize=(8,6))\n",
        "mpl.rc('axes', labelsize=14)\n",
        "mpl.rc('xtick', labelsize=12)\n",
        "mpl.rc('ytick', labelsize=12)\n",
        "\n",
        "# to make this notebook's output stable across runs\n",
        "np.random.seed(42)"
      ]
    },
    {
      "cell_type": "code",
      "source": [
        "## Following definition helps us supress some warning messages. (Warning: we are purposefully\n",
        "## supressing the warnings, not a good idea in general!).\n",
        "\n",
        "# Ignore all warnings (like convergence..) by sklearn\n",
        "def warn(*args, **kwargs):\n",
        "  pass\n",
        "warnings.warn = warn"
      ],
      "metadata": {
        "id": "tt6AVJjr8uyl"
      },
      "execution_count": 2,
      "outputs": []
    },
    {
      "cell_type": "markdown",
      "source": [
        "# Handwritten Digit Classification"
      ],
      "metadata": {
        "id": "Av-1BMJNMN6r"
      }
    },
    {
      "cell_type": "markdown",
      "source": [
        "* We are going to use perceptron classifier to classify (recognize) given digit images. Since\n",
        "a single perceptron could only be used for binary classification, we consider only two\n",
        "classes in the first half. Eventually we extend it to multi-class setting.\n",
        "* Suppose we want to recognize whether the given image is of digit zero or not (digits other\n",
        "than zero). Then the problem could be cast as a binary classification problem.\n",
        "* The first step is to create a dataset that contains a collection of digit images (also called\n",
        "examples, samples) written by humans. Then each image should be labelled properly.\n",
        "Daunting task!\n",
        "* Fortunately, we have a standard benchmark dataset called MNIST. well, why not make use\n",
        "of it?. Let us import the dataset first..."
      ],
      "metadata": {
        "id": "Oh0WMTFlM8r3"
      }
    },
    {
      "cell_type": "markdown",
      "source": [
        "# Data Loading and Splitting"
      ],
      "metadata": {
        "id": "WttR8C9QNeFf"
      }
    },
    {
      "cell_type": "code",
      "source": [
        "X,y= fetch_openml('mnist_784',version=1,return_X_y=True)\n",
        "#it returns Data and label as a pandas dataframe"
      ],
      "metadata": {
        "id": "LYtgWpJlMFHi",
        "colab": {
          "base_uri": "https://localhost:8080/"
        },
        "outputId": "795a1978-1c32-4aa1-89c1-96e292befc0c"
      },
      "execution_count": 3,
      "outputs": [
        {
          "output_type": "stream",
          "name": "stderr",
          "text": [
            "/usr/local/lib/python3.8/dist-packages/sklearn/datasets/_openml.py:932: FutureWarning: The default value of `parser` will change from `'liac-arff'` to `'auto'` in 1.4. You can set `parser='auto'` to silence this warning. Therefore, an `ImportError` will be raised from 1.4 if the dataset is dense and pandas is not installed. Note that the pandas parser may return different data types. See the Notes Section in fetch_openml's API doc for details.\n",
            "  warn(\n"
          ]
        }
      ]
    },
    {
      "cell_type": "markdown",
      "source": [
        "The data matrix and the respective label vector need to be converted to the numpy array by\n",
        "calling a `to_numpy` method"
      ],
      "metadata": {
        "id": "q7sXkusb0TN0"
      }
    },
    {
      "cell_type": "code",
      "source": [
        "X = X.to_numpy()\n",
        "y = y.to_numpy()"
      ],
      "metadata": {
        "id": "MjF7IF6NNiDz"
      },
      "execution_count": 4,
      "outputs": []
    },
    {
      "cell_type": "markdown",
      "source": [
        "Let's get some information like number of features,number of classes about the dataset.\n",
        "\n",
        "Observe that the labels are of string data type not integers."
      ],
      "metadata": {
        "id": "3ye74oUX0jh1"
      }
    },
    {
      "cell_type": "code",
      "source": [
        "X.shape"
      ],
      "metadata": {
        "colab": {
          "base_uri": "https://localhost:8080/"
        },
        "id": "DCg2HoxG0X-h",
        "outputId": "64e688ec-fe2e-458a-b78e-683e1cc67ce9"
      },
      "execution_count": 5,
      "outputs": [
        {
          "output_type": "execute_result",
          "data": {
            "text/plain": [
              "(70000, 784)"
            ]
          },
          "metadata": {},
          "execution_count": 5
        }
      ]
    },
    {
      "cell_type": "code",
      "source": [
        "type(y)"
      ],
      "metadata": {
        "colab": {
          "base_uri": "https://localhost:8080/"
        },
        "id": "RIcyqDS70n9N",
        "outputId": "bbae4fde-445c-4f2d-e6a8-73c2f0cf683f"
      },
      "execution_count": 6,
      "outputs": [
        {
          "output_type": "execute_result",
          "data": {
            "text/plain": [
              "numpy.ndarray"
            ]
          },
          "metadata": {},
          "execution_count": 6
        }
      ]
    },
    {
      "cell_type": "code",
      "source": [
        "target_names = np.unique(y)\n",
        "print(f'Number of samples: {X.shape[0]}, type:{X.dtype}')\n",
        "print(f'Number of features: {X.shape[1]}')\n",
        "print(f'Minimum:{np.min(X)},Maximum:{np.max(X)}')\n",
        "print(f'Number of classes: {len(target_names)}, type:{y.dtype}')\n",
        "print('Labels: {0}'.format(target_names))"
      ],
      "metadata": {
        "colab": {
          "base_uri": "https://localhost:8080/"
        },
        "id": "YS6q9bXI0rU8",
        "outputId": "ce800718-d714-4e2e-88f0-029743bf0a14"
      },
      "execution_count": 7,
      "outputs": [
        {
          "output_type": "stream",
          "name": "stdout",
          "text": [
            "Number of samples: 70000, type:float64\n",
            "Number of features: 784\n",
            "Minimum:0.0,Maximum:255.0\n",
            "Number of classes: 10, type:object\n",
            "Labels: ['0' '1' '2' '3' '4' '5' '6' '7' '8' '9']\n"
          ]
        }
      ]
    },
    {
      "cell_type": "markdown",
      "source": [
        "* The MNIST dataset is clean and the range of values that each feature can take is also\n",
        "known. Therefore, the samples in the dataset may not require many data preprocessing\n",
        "techniques.\n",
        "\n",
        "* However, it is often better to scale the range of features between 0 to 1.\n",
        "\n",
        "* So, we can either use `MinMaxScaler` or `MaxAbsScaler` .They don't make any difference as\n",
        "the image pixels can takes only positive values from 0 to 255."
      ],
      "metadata": {
        "id": "8geRlf591w2k"
      }
    },
    {
      "cell_type": "code",
      "source": [
        "X = MinMaxScaler().fit_transform(X)\n",
        "print(\"Minimum:{0},Maximum:{1}\".format(np.min(X),np.max(X)))"
      ],
      "metadata": {
        "colab": {
          "base_uri": "https://localhost:8080/"
        },
        "id": "5TAWhiEU1gTr",
        "outputId": "23689eff-15d5-4169-8f8d-ce884e3f39bf"
      },
      "execution_count": 8,
      "outputs": [
        {
          "output_type": "stream",
          "name": "stdout",
          "text": [
            "Minimum:0.0,Maximum:1.0\n"
          ]
        }
      ]
    },
    {
      "cell_type": "markdown",
      "source": [
        "# Data Visualization"
      ],
      "metadata": {
        "id": "X888LEk02_qh"
      }
    },
    {
      "cell_type": "markdown",
      "source": [
        "Let us pick a few images (the images are already shuffled in the dataset) and display them with\n",
        "their respective labels. As said above, the images are stacked as a row vector of size 1 x 784\n",
        "and therefore must be reshaped to the matrix of size 28 x 28 to display them properly."
      ],
      "metadata": {
        "id": "LwznrgBK3Cfc"
      }
    },
    {
      "cell_type": "code",
      "source": [
        "num_images = 9 # choose the square number\n",
        "factor = np.int(np.sqrt(num_images))\n",
        "fig, ax = plt.subplots(nrows= factor, ncols = factor, figsize = (8,6))\n",
        "idx_offset = 0 # take \"num_images\" starting from the index \"idx_offset\"\n",
        "for i in range(factor):\n",
        "  index = idx_offset+i*(factor)\n",
        "  for j in range(factor):\n",
        "    ax[i,j].imshow(X[index+j].reshape(28,28),cmap='gray')\n",
        "    ax[i,j].set_title('Label:{0}'.format(str(y[index+j])))\n",
        "    ax[i,j].set_axis_off()"
      ],
      "metadata": {
        "colab": {
          "base_uri": "https://localhost:8080/",
          "height": 373
        },
        "id": "astUHbAG2Ek_",
        "outputId": "139d3729-70b4-4445-96e1-994fe8c482d4"
      },
      "execution_count": 9,
      "outputs": [
        {
          "output_type": "display_data",
          "data": {
            "text/plain": [
              "<Figure size 576x432 with 9 Axes>"
            ],
            "image/png": "[encoded data removed]"
          },
          "metadata": {
            "needs_background": "light"
          }
        }
      ]
    },
    {
      "cell_type": "markdown",
      "source": [
        "If you closely observe, you can see that there are moderate variations in the appearance of\n",
        "digits (say, digit:1). These matrices are also close to sparse (that is, there are lots of 0 (black\n",
        "pixels) in the matrix than non-zero pixels)."
      ],
      "metadata": {
        "id": "8A_XBEQq8m5i"
      }
    },
    {
      "cell_type": "markdown",
      "source": [
        "It is always a good practice to inspect the image pixel values closely and ask some interesting\n",
        "questions such as.\n",
        "1. What is the range of pixel values?\n",
        "2. Are the pixel values highly correlated?\n",
        "3. Is the data sparse?\n",
        "4. What is the range of values that a single pixel(element) can take?\n",
        "5. Do we need to apply any pre-processing methods?"
      ],
      "metadata": {
        "id": "M6VHovnr8o6O"
      }
    },
    {
      "cell_type": "code",
      "source": [
        "plt.figure(figsize=(6,6))\n",
        "plt.imshow(X[0].reshape(28,28),cmap='gray')\n",
        "plt.show()"
      ],
      "metadata": {
        "colab": {
          "base_uri": "https://localhost:8080/",
          "height": 377
        },
        "id": "EDBjLsBI3vFz",
        "outputId": "bb16fced-8807-4c3e-c681-a31ffd34156b"
      },
      "execution_count": 10,
      "outputs": [
        {
          "output_type": "display_data",
          "data": {
            "text/plain": [
              "<Figure size 432x432 with 1 Axes>"
            ],
            "image/png": "[encoded data removed]"
          },
          "metadata": {
            "needs_background": "light"
          }
        }
      ]
    },
    {
      "cell_type": "markdown",
      "source": [
        "* Now, we know the details such as number of samples, size of each sample, number of\n",
        "features (784), number of classes (targets) about the dataset.\n",
        "* So let us spilt the total number of samples into train and test set in the following ratio:\n",
        "60000/10000 (that is, 60000 samples in the training set and 10000 samples in the testing\n",
        "set).\n",
        "* Since the samples in the data set are already randomly shuffled, we need not to shuffle it\n",
        "again.Therefore using train_test_split() may be skipped."
      ],
      "metadata": {
        "id": "qPGmla5QCSOL"
      }
    },
    {
      "cell_type": "code",
      "source": [
        "x_train,x_test,y_train,y_test = X[:60000],X[60000:],y[:60000],y[60000:]"
      ],
      "metadata": {
        "id": "2icdyTnA844m"
      },
      "execution_count": 11,
      "outputs": []
    },
    {
      "cell_type": "markdown",
      "source": [
        "Before procedding further, we need to check whether the dataset is balanced or imbalanced. We\n",
        "can do it by plotting the distribution of samples in each classes."
      ],
      "metadata": {
        "id": "lRvOiwklCdS3"
      }
    },
    {
      "cell_type": "code",
      "source": [
        "plt.figure(figsize=(10,4))\n",
        "sns.histplot(data=np.int8(y_train),binwidth=0.45,bins=11)\n",
        "plt.xticks(ticks=[0,1,2,3,4,5,6,7,8,9],labels=[0,1,2,3,4,5,6,7,8,9])\n",
        "plt.xlabel('Class')\n",
        "plt.title('Distribution of Samples')\n",
        "plt.show()"
      ],
      "metadata": {
        "colab": {
          "base_uri": "https://localhost:8080/",
          "height": 302
        },
        "id": "YBDC_3fgCZiL",
        "outputId": "4a21652a-ec85-4da1-f607-2c43b3985f9f"
      },
      "execution_count": 12,
      "outputs": [
        {
          "output_type": "display_data",
          "data": {
            "text/plain": [
              "<Figure size 720x288 with 1 Axes>"
            ],
            "image/png": "[encoded data removed]"
          },
          "metadata": {
            "needs_background": "light"
          }
        }
      ]
    },
    {
      "cell_type": "markdown",
      "source": [
        "# Binary Classification : 0-Detector"
      ],
      "metadata": {
        "id": "9OPLz4JlCyq7"
      }
    },
    {
      "cell_type": "markdown",
      "source": [
        "## Modifying Labels"
      ],
      "metadata": {
        "id": "yzRRavK0C0ku"
      }
    },
    {
      "cell_type": "markdown",
      "source": [
        "* Let us start with a simple classification problem, that is, binary classification.\n",
        "* Since the original label vector contains 10 classes, we need to modfiy the number of\n",
        "classes to 2\n",
        "* Therefore, the label 0 will be changed to 1 and all other labels (1-9) will be changed to -1.\n",
        "* We name the label vectors as y_train_0 and y_test_0 ."
      ],
      "metadata": {
        "id": "O7OvnJoSC2w8"
      }
    },
    {
      "cell_type": "code",
      "source": [
        "# intialize new variable names with all -1\n",
        "y_train_0 = -1*np.ones((len(y_train)))\n",
        "y_test_0 = -1*np.ones((len(y_test)))\n",
        "\n",
        "# find indices of digit 0 image\n",
        "# use those indices to modify y_train_0&y_test_0\n",
        "\n",
        "indx_0 = np.where(y_train =='0') # remember original labels are of type str not int\n",
        "y_train_0[indx_0] = 1\n",
        "\n",
        "indx_0 = np.where(y_test == '0')\n",
        "y_test_0[indx_0] = 1"
      ],
      "metadata": {
        "id": "Mdc6pq8RCi-R"
      },
      "execution_count": 13,
      "outputs": []
    },
    {
      "cell_type": "markdown",
      "source": [
        "## Sanity check⚛"
      ],
      "metadata": {
        "id": "QyCCXm8_DkIx"
      }
    },
    {
      "cell_type": "markdown",
      "source": [
        "* Let's display the elements of y_train and y_train_0 to verify whether the labels are\n",
        "properly modified. of course, we can't verify all the 60000 labels by inspection (unless we\n",
        "have a plenty of time or man power😀)"
      ],
      "metadata": {
        "id": "5o9rXHP9DnlW"
      }
    },
    {
      "cell_type": "code",
      "source": [
        "print(y_train) # 10 class labels\n",
        "print(y_train_0) # modified binary labels"
      ],
      "metadata": {
        "colab": {
          "base_uri": "https://localhost:8080/"
        },
        "id": "foim-ys5Dg0N",
        "outputId": "3cd09962-fce6-4e30-8200-9b95ffd74c0d"
      },
      "execution_count": 14,
      "outputs": [
        {
          "output_type": "stream",
          "name": "stdout",
          "text": [
            "['5' '0' '4' ... '5' '6' '8']\n",
            "[-1.  1. -1. ... -1. -1. -1.]\n"
          ]
        }
      ]
    },
    {
      "cell_type": "code",
      "source": [
        "print(np.where(y_train=='0')) # index of label 0's in original vector y\n",
        "print(np.where(y_train_0 == 1)) # index of pos class in new vector"
      ],
      "metadata": {
        "colab": {
          "base_uri": "https://localhost:8080/"
        },
        "id": "_gBeVG6RDp6r",
        "outputId": "16eeca91-160d-4077-a372-dfc9a943c79c"
      },
      "execution_count": 15,
      "outputs": [
        {
          "output_type": "stream",
          "name": "stdout",
          "text": [
            "(array([    1,    21,    34, ..., 59952, 59972, 59987]),)\n",
            "(array([    1,    21,    34, ..., 59952, 59972, 59987]),)\n"
          ]
        }
      ]
    },
    {
      "cell_type": "code",
      "source": [
        "num_images = 9 # Choose a square number\n",
        "factor = np.int(np.sqrt(num_images))\n",
        "fig,ax = plt.subplots(nrows=factor,ncols=factor,figsize=(8,6))\n",
        "idx_offset = 0 # take \"num_images\" starting from the index \"idx_offset\"\n",
        "\n",
        "for i in range(factor):\n",
        "  index = idx_offset+i*(factor)\n",
        "  for j in range(factor):\n",
        "    ax[i,j].imshow(X[index+j].reshape(28,28),cmap='gray')\n",
        "    ax[i,j].set_title('Label:{0}'.format(str(y_train_0[index+j])))\n",
        "    ax[i,j].set_axis_off()"
      ],
      "metadata": {
        "colab": {
          "base_uri": "https://localhost:8080/",
          "height": 373
        },
        "id": "0vkzKJHeDve7",
        "outputId": "c2a5772b-8b8c-4523-fbf1-edaab044c8f5"
      },
      "execution_count": 16,
      "outputs": [
        {
          "output_type": "display_data",
          "data": {
            "text/plain": [
              "<Figure size 576x432 with 9 Axes>"
            ],
            "image/png": "[encoded data removed]"
          },
          "metadata": {
            "needs_background": "light"
          }
        }
      ]
    },
    {
      "cell_type": "markdown",
      "source": [
        "# Testing PCA (Not part of the notebook)"
      ],
      "metadata": {
        "id": "tEFtESzGEPKc"
      }
    },
    {
      "cell_type": "code",
      "source": [
        "from sklearn.linear_model import Perceptron\n",
        "from sklearn.decomposition import PCA\n",
        "from sklearn.metrics import f1_score,precision_score,recall_score\n",
        "pca = PCA(n_components=10, random_state = 1)\n",
        "p = pca.fit(x_train)\n",
        "x_train1_reduced = p.transform(x_train)\n",
        "clf = Perceptron(random_state = 42, \n",
        "                eta0 = 1, \n",
        "                max_iter = 100, \n",
        "                shuffle = True, \n",
        "                validation_fraction = 0.1,\n",
        "                fit_intercept = False)\n",
        "clf.fit(x_train1_reduced, y_train_0)\n",
        "f1_a1 = []\n",
        "f1_a2 = []\n",
        "for i in range(1,100):\n",
        "  x_test1_reduced_0 = p.transform(x_test[0:i*10,:])\n",
        "  x_test1_reduced_1 = p.fit(x_test[0:i*10,:]).transform(x_test[0:i*10,:])\n",
        "  y_pred1 = clf.predict(x_test1_reduced_0)\n",
        "  f1_a1.append(f1_score(y_test_0[0:i*10],y_pred1))\n",
        "  y_pred1 = clf.predict(x_test1_reduced_1)\n",
        "  f1_a2.append(f1_score(y_test_0[0:i*10],y_pred1))\n",
        "\n",
        "print(f1_a1)\n",
        "print(f1_a2)"
      ],
      "metadata": {
        "colab": {
          "base_uri": "https://localhost:8080/"
        },
        "id": "JOMQoienD9Ma",
        "outputId": "50dc3f21-43ac-411d-b7de-41cb3dab8935"
      },
      "execution_count": 17,
      "outputs": [
        {
          "output_type": "stream",
          "name": "stdout",
          "text": [
            "[0.5, 0.42857142857142855, 0.21052631578947364, 0.5, 0.4166666666666667, 0.17647058823529413, 0.25641025641025644, 0.1951219512195122, 0.326530612244898, 0.23333333333333334, 0.17857142857142855, 0.13793103448275862, 0.19444444444444445, 0.13186813186813187, 0.2926829268292683, 0.19999999999999998, 0.24742268041237114, 0.19607843137254902, 0.27184466019417475, 0.2162162162162162, 0.25, 0.23636363636363636, 0.272, 0.203125, 0.20143884892086328, 0.16901408450704225, 0.17647058823529413, 0.15094339622641512, 0.175, 0.16042780748663102, 0.17204301075268819, 0.1497326203208556, 0.20202020202020202, 0.26455026455026454, 0.2058823529411765, 0.20192307692307693, 0.27135678391959805, 0.1941747572815534, 0.1909090909090909, 0.2543859649122807, 0.2723404255319149, 0.2972972972972973, 0.24, 0.2290748898678414, 0.24472573839662445, 0.24031007751937986, 0.2992125984251968, 0.22794117647058823, 0.23104693140794222, 0.21830985915492956, 0.27986348122866894, 0.21476510067114093, 0.23178807947019867, 0.20915032679738563, 0.2105263157894737, 0.21019108280254775, 0.21794871794871792, 0.21383647798742136, 0.21148036253776434, 0.21428571428571425, 0.2, 0.1962864721485411, 0.21052631578947367, 0.20565552699228792, 0.21999999999999997, 0.21553884711779447, 0.21158690176322417, 0.1985111662531017, 0.2058047493403694, 0.3258426966292135, 0.31662269129287596, 0.2815533980582524, 0.2884615384615385, 0.2079646017699115, 0.20353982300884954, 0.22030237580993517, 0.21166306695464362, 0.20833333333333334, 0.20689655172413796, 0.20883534136546184, 0.199203187250996, 0.19301848049281314, 0.17167381974248927, 0.19301848049281312, 0.1898989898989899, 0.20675944333996024, 0.20502901353965186, 0.18809980806142035, 0.19193857965451058, 0.19330855018587362, 0.19402985074626863, 0.18761061946902657, 0.18613138686131386, 0.18545454545454546, 0.1794871794871795, 0.20377358490566036, 0.1785063752276867, 0.18213058419243988, 0.18461538461538463]\n",
            "[0.2857142857142857, 0.30769230769230765, 0.5882352941176471, 0.47619047619047616, 0.20689655172413793, 0.24242424242424243, 0.20512820512820512, 0.34782608695652173, 0.25454545454545446, 0.20408163265306123, 0.14814814814814814, 0.2121212121212121, 0.12195121951219513, 0.28205128205128205, 0.1904761904761905, 0.26086956521739135, 0.20202020202020202, 0.2448979591836735, 0.18867924528301885, 0.25490196078431376, 0.23076923076923078, 0.28571428571428575, 0.21138211382113822, 0.19696969696969696, 0.1739130434782609, 0.16666666666666666, 0.14473684210526316, 0.17834394904458598, 0.14772727272727273, 0.16666666666666669, 0.14285714285714285, 0.20512820512820512, 0.273224043715847, 0.208955223880597, 0.2068965517241379, 0.2680412371134021, 0.19, 0.18691588785046728, 0.2624434389140272, 0.26956521739130435, 0.30275229357798167, 0.23744292237442924, 0.23214285714285715, 0.2368421052631579, 0.2390438247011952, 0.30522088353413657, 0.23308270676691728, 0.22710622710622713, 0.22382671480144403, 0.28571428571428575, 0.21843003412969283, 0.22972972972972974, 0.21052631578947364, 0.20408163265306123, 0.21290322580645163, 0.20327868852459016, 0.2193548387096774, 0.20496894409937888, 0.21406727828746178, 0.1978021978021978, 0.19459459459459455, 0.20855614973262035, 0.20942408376963353, 0.21827411167512695, 0.2131979695431472, 0.21428571428571427, 0.19950124688279303, 0.20744680851063832, 0.32954545454545453, 0.3118279569892473, 0.28217821782178215, 0.28431372549019607, 0.20982142857142858, 0.2058165548098434, 0.21786492374727673, 0.21444201312910285, 0.2109704641350211, 0.21074380165289255, 0.21138211382113822, 0.20242914979757085, 0.19542619542619544, 0.16919739696312366, 0.1946169772256729, 0.19222903885480572, 0.2008032128514056, 0.20784313725490194, 0.19066147859922178, 0.1895551257253385, 0.19281663516068054, 0.19245283018867926, 0.18928571428571428, 0.1881918819188192, 0.18450184501845018, 0.1808118081180812, 0.2049335863377609, 0.17915904936014626, 0.18434782608695655, 0.18307426597582038, 0.1839863713798978]\n"
          ]
        }
      ]
    },
    {
      "cell_type": "code",
      "source": [
        "plt.figure(figsize=(10,6))\n",
        "plt.plot(np.arange(1,100),f1_a1,label='.transform()')\n",
        "plt.plot(np.arange(1,100),f1_a2,label='fit().transform()')\n",
        "plt.xlabel('Test Samples in 100')\n",
        "plt.ylabel('f1')\n",
        "plt.grid(True)\n",
        "plt.legend()"
      ],
      "metadata": {
        "colab": {
          "base_uri": "https://localhost:8080/",
          "height": 412
        },
        "id": "mK86wtPEF4F4",
        "outputId": "faf4d682-36f6-4799-969f-38282c7a6adf"
      },
      "execution_count": 18,
      "outputs": [
        {
          "output_type": "execute_result",
          "data": {
            "text/plain": [
              "<matplotlib.legend.Legend at 0x7f6a18c84610>"
            ]
          },
          "metadata": {},
          "execution_count": 18
        },
        {
          "output_type": "display_data",
          "data": {
            "text/plain": [
              "<Figure size 720x432 with 1 Axes>"
            ],
            "image/png": "[encoded data removed]"
          },
          "metadata": {
            "needs_background": "light"
          }
        }
      ]
    },
    {
      "cell_type": "code",
      "source": [
        "from sklearn.decomposition import PCA\n",
        "from sklearn.metrics import classification_report\n",
        "from sklearn.base import clone\n",
        "pca = PCA(n_components=10,random_state=1)\n",
        "p = pca.fit(x_train)\n",
        "x_train1_reduced = p.transform(x_train)\n",
        "x_test1_reduced = pca.fit(x_test).transform(x_test[0:100,:])\n",
        "clf1=Perceptron(random_state=42,\n",
        "                eta0=1,\n",
        "                max_iter=100,\n",
        "                shuffle=True,\n",
        "                validation_fraction=0.1)\n",
        "clf1.fit(x_train1_reduced,y_train_0)\n",
        "y_pred1 = clf1.predict(x_test1_reduced)\n",
        "cm_display = ConfusionMatrixDisplay.from_predictions(y_test_0[0:100],\n",
        "                                                     y_pred1,\n",
        "                                                     values_format = None)\n",
        "plt.show()"
      ],
      "metadata": {
        "colab": {
          "base_uri": "https://localhost:8080/",
          "height": 396
        },
        "id": "oBeXbMVzGbYk",
        "outputId": "5c8e5328-6ef6-489b-c161-f1535e7beb07"
      },
      "execution_count": 19,
      "outputs": [
        {
          "output_type": "display_data",
          "data": {
            "text/plain": [
              "<Figure size 576x432 with 2 Axes>"
            ],
            "image/png": "[encoded data removed]"
          },
          "metadata": {
            "needs_background": "light"
          }
        }
      ]
    },
    {
      "cell_type": "markdown",
      "source": [
        "# Basline Models"
      ],
      "metadata": {
        "id": "by9HwQd7JrlW"
      }
    },
    {
      "cell_type": "markdown",
      "source": [
        "Enough about Data!\n",
        "Let us quickly construct a basline model with the following rule (you are free to a choose\n",
        "different rule)\n",
        "1. Count number of samples per class.\n",
        "2. The model always outputs the class which has highest number of samples.\n",
        "3. Then calculate the accuracy of the basline model."
      ],
      "metadata": {
        "id": "8yeQPzQlJteA"
      }
    },
    {
      "cell_type": "code",
      "source": [
        "num_pos = len(np.where(y_train_0==1)[0])\n",
        "num_neg = len(np.where(y_train_0==-1)[0])\n",
        "print(num_pos,num_neg)"
      ],
      "metadata": {
        "colab": {
          "base_uri": "https://localhost:8080/"
        },
        "id": "Jcpu_OCvI3_q",
        "outputId": "a9fd9400-2203-4f19-f198-5c4331b50183"
      },
      "execution_count": 20,
      "outputs": [
        {
          "output_type": "stream",
          "name": "stdout",
          "text": [
            "5923 54077\n"
          ]
        }
      ]
    },
    {
      "cell_type": "code",
      "source": [
        "base_clf = DummyClassifier(strategy='most_frequent') # there are other strategies"
      ],
      "metadata": {
        "id": "fSRGVL0QL33K"
      },
      "execution_count": 21,
      "outputs": []
    },
    {
      "cell_type": "code",
      "source": [
        "base_clf.fit(x_train,y_train_0)\n",
        "print('Training accuracy:{0:.2f}'.format(base_clf.score(x_train,y_train_0)))\n",
        "print('Testing accuracy:{0:.2f}'.format(base_clf.score(x_test,y_test_0)))"
      ],
      "metadata": {
        "colab": {
          "base_uri": "https://localhost:8080/"
        },
        "id": "p2VO0nVrL5me",
        "outputId": "809278cb-72e0-48a9-c9d5-c143172560dd"
      },
      "execution_count": 22,
      "outputs": [
        {
          "output_type": "stream",
          "name": "stdout",
          "text": [
            "Training accuracy:0.90\n",
            "Testing accuracy:0.90\n"
          ]
        }
      ]
    },
    {
      "cell_type": "markdown",
      "source": [
        "* Now the reason is obvious. The model would have predicted 54077 sample correctly just\n",
        "by outputing -1 for all the input samples.Therefore the accuracy will be 54077/60000 = 90.12\n",
        "* This is the reason why \"accuracy\" alone is not always a good measure!."
      ],
      "metadata": {
        "id": "p1GuokCOMAHI"
      }
    },
    {
      "cell_type": "markdown",
      "source": [
        "# Perceptron model"
      ],
      "metadata": {
        "id": "0hVXBbDIMQ0W"
      }
    },
    {
      "cell_type": "markdown",
      "source": [
        "Before using Perceptron for Binary Classification, it will be helpful to recall the important\n",
        "concepts (equations) covered in technique course."
      ],
      "metadata": {
        "id": "41IeSskLMS15"
      }
    },
    {
      "cell_type": "markdown",
      "source": [
        "# Recap (Theory)"
      ],
      "metadata": {
        "id": "-PHRrdhfMk4R"
      }
    },
    {
      "cell_type": "markdown",
      "source": [],
      "metadata": {
        "id": "mHvevuo5Mn_f"
      }
    },
    {
      "cell_type": "markdown",
      "source": [
        "# Parameters of Perceptron class"
      ],
      "metadata": {
        "id": "lU1Yu0Ak09NQ"
      }
    },
    {
      "cell_type": "markdown",
      "source": [
        "* Let's quickly take a look into the important parameters of the Perceptron()\n",
        "\n",
        "`class sklearn.linear_model.Perceptron(*, penalty=None, alpha=0.0001, l1_ratio=0.15,\n",
        "fit_intercept=True, max_iter=1000, tol=0.001, shuffle=True, verbose=0, eta0=1.0,\n",
        "n_jobs=None, random_state=0, early_stopping=False, validation_fraction=0.1,\n",
        "n_iter_no_change=5, class_weight=None, warm_start=False).`\n",
        "\n",
        "* Need not to pay attention to all the arguments and their default values.\n",
        "\n",
        "* Internally, the API uses the perceptron loss (i.e.,it calls Hinge(0.0), where 0.0 is a\n",
        "threshold) and uses SGD to update the weights.\n",
        "* You may refer to the documentation for more details on the Perceptron class.\n",
        "* The other way of deploying perceptron is to use the genral linear_model.SGDClassifier\n",
        "with loss='perceptron'"
      ],
      "metadata": {
        "id": "YbdpFWID0_5F"
      }
    },
    {
      "cell_type": "markdown",
      "source": [
        "# Instantiation"
      ],
      "metadata": {
        "id": "S5hfh3qF1a4X"
      }
    },
    {
      "cell_type": "markdown",
      "source": [
        "Create an instantance of binary classifier (bin_clf) and call the fit method to train the\n",
        "model."
      ],
      "metadata": {
        "id": "CnBoOY5Q1eGK"
      }
    },
    {
      "cell_type": "code",
      "source": [
        "bin_clf = Perceptron(max_iter=100,random_state=1729)"
      ],
      "metadata": {
        "id": "O12Kif36L9y5"
      },
      "execution_count": 23,
      "outputs": []
    },
    {
      "cell_type": "markdown",
      "source": [
        "# Training and Prediction"
      ],
      "metadata": {
        "id": "mzeCY_701iXQ"
      }
    },
    {
      "cell_type": "markdown",
      "source": [
        "* Call the fit method to train the model\n",
        "* It would be nice to plot the iteration vs loss curve for the training. However, sklearn does\n",
        "not have a direct function to plot it.\n",
        "* Nevertheless, we can workaround this using partial_fit method (Which will be\n",
        "demonstrated at the end of the lecture)"
      ],
      "metadata": {
        "id": "BMPHFRR11kQF"
      }
    },
    {
      "cell_type": "code",
      "source": [
        "bin_clf.fit(x_train,y_train_0)\n",
        "print('Dimention of Weights w: {0}'.format(bin_clf.coef_.shape))\n",
        "print('Bias :{0}'.format(bin_clf.intercept_))\n",
        "print('The loss function: {0}'.format(bin_clf.loss_function_))"
      ],
      "metadata": {
        "colab": {
          "base_uri": "https://localhost:8080/"
        },
        "id": "o9qLSqTW1gR4",
        "outputId": "252d86eb-0129-4c3e-ae26-a753920f6645"
      },
      "execution_count": 24,
      "outputs": [
        {
          "output_type": "stream",
          "name": "stdout",
          "text": [
            "Dimention of Weights w: (1, 784)\n",
            "Bias :[-108.]\n",
            "The loss function: <sklearn.linear_model._sgd_fast.Hinge object at 0x7f6a0cb6b490>\n"
          ]
        }
      ]
    },
    {
      "cell_type": "markdown",
      "source": [
        "Let us make predictions on the train set and then calculate the training accuracy."
      ],
      "metadata": {
        "id": "RxilONzt2IRq"
      }
    },
    {
      "cell_type": "code",
      "source": [
        "y_hat_train_0 = bin_clf.predict(x_train)\n",
        "print('Training Accuracy: ',bin_clf.score(x_train,y_train_0))"
      ],
      "metadata": {
        "colab": {
          "base_uri": "https://localhost:8080/"
        },
        "id": "HAd6xwA11q4o",
        "outputId": "d6c76cee-aa2f-4dfd-cdc6-c7375ebd7bfd"
      },
      "execution_count": 25,
      "outputs": [
        {
          "output_type": "stream",
          "name": "stdout",
          "text": [
            "Training Accuracy:  0.99095\n"
          ]
        }
      ]
    },
    {
      "cell_type": "markdown",
      "source": [
        "Let us make the predictions on the test set and then calculate the testing accuracy."
      ],
      "metadata": {
        "id": "wY_lZjtfIZ0s"
      }
    },
    {
      "cell_type": "code",
      "source": [
        "print('Test accuracy: ',bin_clf.score(x_test,y_test_0))"
      ],
      "metadata": {
        "id": "NBehq9Hs2L0G",
        "colab": {
          "base_uri": "https://localhost:8080/"
        },
        "outputId": "7cca44c4-0b36-4483-a78e-37413cf38dc5"
      },
      "execution_count": 26,
      "outputs": [
        {
          "output_type": "stream",
          "name": "stdout",
          "text": [
            "Test accuracy:  0.989\n"
          ]
        }
      ]
    },
    {
      "cell_type": "markdown",
      "source": [
        "# Displaying predictions"
      ],
      "metadata": {
        "id": "4pJHF6PfIdaZ"
      }
    },
    {
      "cell_type": "markdown",
      "source": [
        "* Take few images from the testset at random and display it with the corresponding\n",
        "predictions.\n",
        "* Plot a few images in a single figure window alog with their respective predictions"
      ],
      "metadata": {
        "id": "iyeNOtlQIfKT"
      }
    },
    {
      "cell_type": "code",
      "source": [
        "y_hat_test_0 = bin_clf.predict(x_test)\n",
        "num_images = 9 # Choose a square number\n",
        "factor = np.int(np.sqrt(num_images))\n",
        "fig,ax = plt.subplots(nrows=factor,ncols=factor,figsize=(8,6))\n",
        "idx_offset = 0 # display \"num_images\" starting from idx_offset\n",
        "for i in range(factor):\n",
        "  index = idx_offset+i*(factor)\n",
        "  for j in range(factor):\n",
        "    ax[i,j].imshow(x_test[index+j].reshape(28,28),cmap='gray') # we should not use x_train\n",
        "    ax[i,j].set_title('Prediction:{0}'.format(str(y_hat_test_0[index+j])))\n",
        "    ax[i,j].set_axis_off()"
      ],
      "metadata": {
        "colab": {
          "base_uri": "https://localhost:8080/",
          "height": 373
        },
        "id": "xmMX3lkBIbeP",
        "outputId": "1a613bbe-544d-4748-a35f-974917592346"
      },
      "execution_count": 27,
      "outputs": [
        {
          "output_type": "display_data",
          "data": {
            "text/plain": [
              "<Figure size 576x432 with 9 Axes>"
            ],
            "image/png": "[encoded data removed]"
          },
          "metadata": {
            "needs_background": "light"
          }
        }
      ]
    },
    {
      "cell_type": "markdown",
      "source": [
        "Display images of positive classes from testset along with their predictions."
      ],
      "metadata": {
        "id": "tlwJgzMiJFC6"
      }
    },
    {
      "cell_type": "code",
      "source": [
        "indx_0 = np.where(y_test_0 == 1)\n",
        "\n",
        "zeroImgs = x_test[indx_0[0]]\n",
        "zeroLabls = y_hat_test_0[indx_0[0]]\n",
        "num_images = 9 # Choose a square number\n",
        "\n",
        "factor = np.int(np.sqrt(num_images))\n",
        "fig,ax = plt.subplots(nrows=factor,ncols=factor,figsize=(8,6))\n",
        "idx_offset = 0 # display \"num_images\" starting from idx_offset\n",
        "for i in range(factor):\n",
        "  index = idx_offset+i*(factor)\n",
        "  for j in range(factor):\n",
        "    ax[i,j].imshow(zeroImgs[index+j].reshape(28,28),cmap='gray') # we should not use x_tra\n",
        "    ax[i,j].set_title('Prediction:{0}'.format(str(zeroLabls[index+j])))\n",
        "    ax[i,j].set_axis_off()"
      ],
      "metadata": {
        "colab": {
          "base_uri": "https://localhost:8080/",
          "height": 373
        },
        "id": "10lj6HE1I9kD",
        "outputId": "9dced1cc-3bda-4dc7-b196-306e33f1c02e"
      },
      "execution_count": 28,
      "outputs": [
        {
          "output_type": "display_data",
          "data": {
            "text/plain": [
              "<Figure size 576x432 with 9 Axes>"
            ],
            "image/png": "[encoded data removed]"
          },
          "metadata": {
            "needs_background": "light"
          }
        }
      ]
    },
    {
      "cell_type": "markdown",
      "source": [
        "It seems that there are a significant number of images that are correctly classified. Let's see\n",
        "how many?"
      ],
      "metadata": {
        "id": "rpmRAcP8JRaA"
      }
    },
    {
      "cell_type": "code",
      "source": [
        "num_misclassified = np.count_nonzero(zeroLabls== -1)\n",
        "num_correctpred = len(zeroLabls)-num_misclassified\n",
        "accuracy = num_correctpred/len(zeroLabls)\n",
        "print(accuracy)"
      ],
      "metadata": {
        "colab": {
          "base_uri": "https://localhost:8080/"
        },
        "id": "Ba7rrZEcJNgy",
        "outputId": "11f40328-b7ce-420c-dbab-79990874d5cb"
      },
      "execution_count": 29,
      "outputs": [
        {
          "output_type": "stream",
          "name": "stdout",
          "text": [
            "0.9193877551020408\n"
          ]
        }
      ]
    },
    {
      "cell_type": "markdown",
      "source": [
        "* This above score (guess the name of the metric) is less than the accuracy score of the\n",
        "model but it seems preety descent !.\n",
        "* Will it be the same if we consider an other digit,say,5 for positive class and all other class\n",
        "as negative?..Of course not. You may cross check it. (Take it as an exercise)"
      ],
      "metadata": {
        "id": "q95SdUAXJaCh"
      }
    },
    {
      "cell_type": "markdown",
      "source": [
        "# Better Evaluation metrics"
      ],
      "metadata": {
        "id": "BT8xrREbJeTm"
      }
    },
    {
      "cell_type": "markdown",
      "source": [
        "We now know that using the accuracy alone to measure the performance of the model is\n",
        "not suitalbe (esspecially for imbalanced datasets), so which are the more suitable metrics then?"
      ],
      "metadata": {
        "id": "gNsyuY44Jnkq"
      }
    },
    {
      "cell_type": "markdown",
      "source": [
        "# Confusion Matrix"
      ],
      "metadata": {
        "id": "xfb6_U7fJqMF"
      }
    },
    {
      "cell_type": "code",
      "source": [
        "y_hat_train_0 = bin_clf.predict(x_train)\n",
        "cm_display = ConfusionMatrixDisplay.from_predictions(y_train_0,\n",
        "                                                     y_hat_train_0,\n",
        "                                                     values_format = None)\n",
        "plt.show()"
      ],
      "metadata": {
        "colab": {
          "base_uri": "https://localhost:8080/",
          "height": 395
        },
        "id": "CpoFFFHpJY1A",
        "outputId": "f744ebe1-5560-4cac-9b4a-0f774c3367e1"
      },
      "execution_count": 30,
      "outputs": [
        {
          "output_type": "display_data",
          "data": {
            "text/plain": [
              "<Figure size 576x432 with 2 Axes>"
            ],
            "image/png": "[encoded data removed]"
          },
          "metadata": {
            "needs_background": "light"
          }
        }
      ]
    },
    {
      "cell_type": "markdown",
      "source": [
        "* Pay attention to the number of FPs and FNs. Suppose for some reasons, we want the\n",
        "classifier to avoid FPs to a good extent irrespective of FNs, how can we acheive it?.\n",
        "* To answer it, let's compute the other metrics which take FPs and FNs into account."
      ],
      "metadata": {
        "id": "E89UW-m9J2sE"
      }
    },
    {
      "cell_type": "markdown",
      "source": [
        "# Precision and Recall"
      ],
      "metadata": {
        "id": "rAaw_Tg5KGoA"
      }
    },
    {
      "cell_type": "markdown",
      "source": [
        "We can use the function classification_report to compute these parameters. However,\n",
        "for the time being let's compute these parameters using the data from the confusion\n",
        "matrix manually (Not a difficult thing to do, right 😀?)."
      ],
      "metadata": {
        "id": "gQUEJVXXKI4V"
      }
    },
    {
      "cell_type": "code",
      "source": [
        "cf_matrix = cm_display.confusion_matrix\n",
        "tn = cf_matrix[0,0]\n",
        "fn = cf_matrix[1,0]\n",
        "fp = cf_matrix[0,1]\n",
        "tp = cf_matrix[1,1]"
      ],
      "metadata": {
        "id": "oBwFjYCDJsyu"
      },
      "execution_count": 31,
      "outputs": []
    },
    {
      "cell_type": "code",
      "source": [
        "precision = tp/(tp+fp)\n",
        "print('Precision: ',precision)\n",
        "recall = tp/(tp+fn)\n",
        "print('Recall: ',recall)\n",
        "accuracy = (tn+tp)/(tn+tp+fn+fp)\n",
        "print('Accuracy: ',accuracy)"
      ],
      "metadata": {
        "colab": {
          "base_uri": "https://localhost:8080/"
        },
        "id": "7afDZHpBKQWy",
        "outputId": "b38e241f-87fe-4b84-f2b1-e617d4140af6"
      },
      "execution_count": 32,
      "outputs": [
        {
          "output_type": "stream",
          "name": "stdout",
          "text": [
            "Precision:  0.9783072546230441\n",
            "Recall:  0.9289211548201924\n",
            "Accuracy:  0.99095\n"
          ]
        }
      ]
    },
    {
      "cell_type": "markdown",
      "source": [
        "* The precision is close to 0.98. Despite it, we still want to increase the precision.. Let's\n",
        "come back to this later.\n",
        "* In general, we would like to know whether the model under consideration with the set\n",
        "hyper-parameters is a good one for a given problem."
      ],
      "metadata": {
        "id": "i8ts67GMKV9V"
      }
    },
    {
      "cell_type": "markdown",
      "source": [
        "# Cross Validation"
      ],
      "metadata": {
        "id": "HXrp-1IIKbDM"
      }
    },
    {
      "cell_type": "markdown",
      "source": [
        "* Well, to address this, we have to use cross-validation folds and measure the same metrics\n",
        "across these folds for different values of hyper-parameters.\n",
        "* However, perceptron does not have many hyperparameters other than the learning rate.\n",
        "* For the moment, we set the learning rate to its default value. Later, we use GridSearchCV\n",
        "to find the better value for the learning rate."
      ],
      "metadata": {
        "id": "zA0bChwyKetM"
      }
    },
    {
      "cell_type": "code",
      "source": [
        "bin_clf = Perceptron(max_iter=100,random_state=1729) # repeating for readability\n",
        "scores= cross_validate(bin_clf, \n",
        "                       x_train,\n",
        "                       y_train_0,\n",
        "                       cv=5,\n",
        "                       scoring=['precision','recall','f1'],\n",
        "                       return_estimator=True)\n",
        "pprint(scores)"
      ],
      "metadata": {
        "colab": {
          "base_uri": "https://localhost:8080/"
        },
        "id": "ur2B5ZBvKR87",
        "outputId": "fcd8cb67-b1d3-4e68-c0f5-349d398a6ef5"
      },
      "execution_count": 33,
      "outputs": [
        {
          "output_type": "stream",
          "name": "stdout",
          "text": [
            "{'estimator': [Perceptron(max_iter=100, random_state=1729),\n",
            "               Perceptron(max_iter=100, random_state=1729),\n",
            "               Perceptron(max_iter=100, random_state=1729),\n",
            "               Perceptron(max_iter=100, random_state=1729),\n",
            "               Perceptron(max_iter=100, random_state=1729)],\n",
            " 'fit_time': array([1.06566286, 2.10358167, 1.64109159, 1.56004357, 1.73477888]),\n",
            " 'score_time': array([0.04745364, 0.04441404, 0.06125736, 0.04881692, 0.04729152]),\n",
            " 'test_f1': array([0.95238095, 0.91666667, 0.94915254, 0.94117647, 0.95091763]),\n",
            " 'test_precision': array([0.95890411, 0.98828125, 0.95319149, 0.95090439, 0.96200345]),\n",
            " 'test_recall': array([0.94594595, 0.85472973, 0.94514768, 0.93164557, 0.94008439])}\n"
          ]
        }
      ]
    },
    {
      "cell_type": "markdown",
      "source": [
        "### Notes:\n",
        "* The perceptron estimator passed as an argument to the function cross_validate is\n",
        "internally cloned num_fold (cv=5) times and fitted independently on each fold. (you can\n",
        "check this by setting warm_start=True )\n",
        "* Compute the average and standard deviation of scores for all three metrics on (k=5) folds\n",
        "to measure the generalization!."
      ],
      "metadata": {
        "id": "t6BWYUH-LP1P"
      }
    },
    {
      "cell_type": "code",
      "source": [
        "print(f\"f1, avg: {scores['test_f1'].mean()}, std : {scores['test_f1'].std()}\")\n",
        "print(f\"precision, avg: {scores['test_precision'].mean()}, std: {scores['test_precision'].std()}\")\n",
        "print(f\"recall, avg: {scores['test_recall'].mean()}, std: {scores['test_recall'].std()}\")"
      ],
      "metadata": {
        "colab": {
          "base_uri": "https://localhost:8080/"
        },
        "id": "MMm91_v1Ktp-",
        "outputId": "0d5794a4-af63-42a3-883b-f226abfe5bc5"
      },
      "execution_count": 34,
      "outputs": [
        {
          "output_type": "stream",
          "name": "stdout",
          "text": [
            "f1, avg: 0.94205885179654, std : 0.013273174197442695\n",
            "precision, avg: 0.9626569391894069, std: 0.01340770796981747\n",
            "recall, avg: 0.9235106625612953, std: 0.03476545483691418\n"
          ]
        }
      ]
    },
    {
      "cell_type": "markdown",
      "source": [
        "Let us pick the first estimator returned by the cross-validate function.\n",
        "So we can hope that the model might also perform well on test data. Let's check that out.."
      ],
      "metadata": {
        "id": "mWGPfVOLO6kR"
      }
    },
    {
      "cell_type": "code",
      "source": [
        "bin_clf = scores['estimator'][0]\n",
        "y_hat_test_0 = bin_clf.predict(x_test)\n",
        "cm_display = ConfusionMatrixDisplay.from_predictions(y_test_0,\n",
        "                                                     y_hat_test_0,\n",
        "                                                     values_format=None)"
      ],
      "metadata": {
        "colab": {
          "base_uri": "https://localhost:8080/",
          "height": 395
        },
        "id": "4vp39BF4O-7W",
        "outputId": "1db62a21-b8d3-4409-89c5-9378ceda51c9"
      },
      "execution_count": 35,
      "outputs": [
        {
          "output_type": "display_data",
          "data": {
            "text/plain": [
              "<Figure size 576x432 with 2 Axes>"
            ],
            "image/png": "[encoded data removed]"
          },
          "metadata": {
            "needs_background": "light"
          }
        }
      ]
    },
    {
      "cell_type": "code",
      "source": [
        "print('Precision %.2f'%precision_score(y_test_0,y_hat_test_0))\n",
        "print('Recall %.2f'%recall_score(y_test_0,y_hat_test_0))"
      ],
      "metadata": {
        "colab": {
          "base_uri": "https://localhost:8080/"
        },
        "id": "SIhF3SnAPFWu",
        "outputId": "45d5470e-a95d-4e8f-bc7e-2ee1f3df9823"
      },
      "execution_count": 36,
      "outputs": [
        {
          "output_type": "stream",
          "name": "stdout",
          "text": [
            "Precision 0.95\n",
            "Recall 0.95\n"
          ]
        }
      ]
    },
    {
      "cell_type": "markdown",
      "source": [
        "*Way-2 for Generalization*:\n",
        "(Optional)\n",
        "* There is an another approach of getting predicted labels via cross-validation and using it\n",
        "to measure the generalization.\n",
        "* In this case, each sample in the dataset will be part of only one test set in the splited\n",
        "folds."
      ],
      "metadata": {
        "id": "D71bk6SaO6eS"
      }
    },
    {
      "cell_type": "code",
      "source": [
        "y_hat_train_0 = cross_val_predict(bin_clf, x_train, y_train_0, cv=5)\n",
        "\n",
        "cm_display = ConfusionMatrixDisplay.from_predictions(y_train_0,\n",
        "                                                     y_hat_train_0,\n",
        "                                                     values_format = None)\n",
        "plt.show()"
      ],
      "metadata": {
        "colab": {
          "base_uri": "https://localhost:8080/",
          "height": 395
        },
        "id": "gQzGTfw-MDYv",
        "outputId": "ec6c0106-52bf-4da7-d383-07f9b1cf1cec"
      },
      "execution_count": 37,
      "outputs": [
        {
          "output_type": "display_data",
          "data": {
            "text/plain": [
              "<Figure size 576x432 with 2 Axes>"
            ],
            "image/png": "[encoded data removed]"
          },
          "metadata": {
            "needs_background": "light"
          }
        }
      ]
    },
    {
      "cell_type": "code",
      "source": [
        "cf_matrix = cm_display.confusion_matrix\n",
        "tn = cf_matrix[0,0]\n",
        "fn = cf_matrix[1,0]\n",
        "fp = cf_matrix[0,1]\n",
        "tp = cf_matrix[1,1]"
      ],
      "metadata": {
        "id": "xJAkvV4GMcIT"
      },
      "execution_count": 38,
      "outputs": []
    },
    {
      "cell_type": "code",
      "source": [
        "precision = tp/(tp+fp)\n",
        "print('Precision: %.2f'%precision)\n",
        "recall = tp/(tp+fn)\n",
        "print('Recall:%.2f'%recall)\n",
        "f1 = 2/((1/precision)+(1/recall))\n",
        "print('f1:%.2f'%f1)\n",
        "accuracy = (tn+tp)/(tn+tp+fn+fp)\n",
        "print('Accuracy: %.2f'%accuracy)"
      ],
      "metadata": {
        "colab": {
          "base_uri": "https://localhost:8080/"
        },
        "id": "WX-TIGB_MetL",
        "outputId": "ea586dab-5574-41c9-9bc6-22e071326c29"
      },
      "execution_count": 39,
      "outputs": [
        {
          "output_type": "stream",
          "name": "stdout",
          "text": [
            "Precision: 0.96\n",
            "Recall:0.92\n",
            "f1:0.94\n",
            "Accuracy: 0.99\n"
          ]
        }
      ]
    },
    {
      "cell_type": "markdown",
      "source": [
        "* Compare the precision and recall score obtained by the above method with that of the\n",
        "previous method (i.e., using cross_validate )\n",
        "* Finally, we can print all these scores as a report using the classification_report function"
      ],
      "metadata": {
        "id": "uFOZ5r4VPnvP"
      }
    },
    {
      "cell_type": "code",
      "source": [
        "print('Precision %.2f'%precision_score(y_train_0,y_hat_train_0))\n",
        "print('Recall %.2f'%recall_score(y_train_0,y_hat_train_0))\n",
        "print('-'*50)\n",
        "print(classification_report(y_train_0,y_hat_train_0))"
      ],
      "metadata": {
        "colab": {
          "base_uri": "https://localhost:8080/"
        },
        "id": "38-TRrmCM1qg",
        "outputId": "998b34dc-2b9c-42ef-a4dd-4d7de192fc04"
      },
      "execution_count": 40,
      "outputs": [
        {
          "output_type": "stream",
          "name": "stdout",
          "text": [
            "Precision 0.96\n",
            "Recall 0.92\n",
            "--------------------------------------------------\n",
            "              precision    recall  f1-score   support\n",
            "\n",
            "        -1.0       0.99      1.00      0.99     54077\n",
            "         1.0       0.96      0.92      0.94      5923\n",
            "\n",
            "    accuracy                           0.99     60000\n",
            "   macro avg       0.98      0.96      0.97     60000\n",
            "weighted avg       0.99      0.99      0.99     60000\n",
            "\n"
          ]
        }
      ]
    },
    {
      "cell_type": "markdown",
      "source": [
        "# Precision/Recall Tradeoff"
      ],
      "metadata": {
        "id": "OkIxELbnPwAJ"
      }
    },
    {
      "cell_type": "markdown",
      "source": [
        "* Often time we need to make a trade off between precision and recall scores of a model.\n",
        "* It depends on the problem at hand.\n",
        "* It is important to note that we should not pass the predicted labels as input to\n",
        "precision_recall_curve function, instead we need to pass the probability scores or the\n",
        "output from the decision function!.\n",
        "* The Perceptron() class contains a decision_function method, therefore we can make\n",
        "use of it.\n",
        "* Then, internaly the decision scores are sorted, tps and fps will be computed by changing\n",
        "the threshold from index[0] to index[-1].\n",
        "* Let us compute the scores from the decision function."
      ],
      "metadata": {
        "id": "E620vY7APxtQ"
      }
    },
    {
      "cell_type": "code",
      "source": [
        "bin_clf = Perceptron(random_state=1729)\n",
        "bin_clf.fit(x_train,y_train_0)\n",
        "y_scores = bin_clf.decision_function(x_train)\n",
        "sns.histplot(np.sort(y_scores))\n",
        "plt.show()"
      ],
      "metadata": {
        "colab": {
          "base_uri": "https://localhost:8080/",
          "height": 377
        },
        "id": "Wb7Kh4YFPrzI",
        "outputId": "7f670a41-0795-4469-a811-d57393f3a40d"
      },
      "execution_count": 41,
      "outputs": [
        {
          "output_type": "display_data",
          "data": {
            "text/plain": [
              "<Figure size 576x432 with 1 Axes>"
            ],
            "image/png": "[encoded data removed]"
          },
          "metadata": {
            "needs_background": "light"
          }
        }
      ]
    },
    {
      "cell_type": "markdown",
      "source": [
        "Can you think why there are so many negative values than the positives?.\n",
        "Hint: Class-Imbalance\n",
        "* Suppose threshold takes the value of -600,then all the samples having score greater than\n",
        "-600 is set to 1(Positive label) and less than it is set to -1 (neg label).\n",
        "* Therefore, the number of False Positives will be increased. This will in turn reduce the\n",
        "precision score to a greater extent.\n",
        "* On the otherhand, if the threshold takes the value of, say, 400. Then, the number of false\n",
        "negatives will be increase and hence the recall will reduce to a greater extent.\n",
        "* Let's see it in action."
      ],
      "metadata": {
        "id": "s3e1H6VIQJDX"
      }
    },
    {
      "cell_type": "code",
      "source": [
        "precisions, recalls, thresholds = precision_recall_curve(y_train_0, y_scores,pos_label=1)\n",
        "\n",
        "plt.figure(figsize=(10,4))\n",
        "plt.plot(precisions[:-1], recalls[:-1], \"b--\")\n",
        "plt.xlabel('Precision')\n",
        "plt.ylabel('Recall')\n",
        "plt.grid(True)\n",
        "plt.show()"
      ],
      "metadata": {
        "colab": {
          "base_uri": "https://localhost:8080/",
          "height": 286
        },
        "id": "MRxjoeCaP5Om",
        "outputId": "387c43e2-aaaa-4e14-9be7-8152550c3b80"
      },
      "execution_count": 42,
      "outputs": [
        {
          "output_type": "display_data",
          "data": {
            "text/plain": [
              "<Figure size 720x288 with 1 Axes>"
            ],
            "image/png": "[encoded data removed]"
          },
          "metadata": {
            "needs_background": "light"
          }
        }
      ]
    },
    {
      "cell_type": "code",
      "source": [
        "plt.figure(figsize=(10,4))\n",
        "plt.plot(thresholds, precisions[:-1], \"b--\", label=\"Precision\")\n",
        "plt.plot(thresholds, recalls[:-1], \"g-\", label=\"Recall\")\n",
        "plt.xlabel('Threshold')\n",
        "plt.grid(True)\n",
        "plt.legend(loc='upper right')\n",
        "plt.show()"
      ],
      "metadata": {
        "colab": {
          "base_uri": "https://localhost:8080/",
          "height": 286
        },
        "id": "Bed6SVTPQRj0",
        "outputId": "19c2a470-6913-4232-a5d5-dac23fe228a3"
      },
      "execution_count": 43,
      "outputs": [
        {
          "output_type": "display_data",
          "data": {
            "text/plain": [
              "<Figure size 720x288 with 1 Axes>"
            ],
            "image/png": "[encoded data removed]"
          },
          "metadata": {
            "needs_background": "light"
          }
        }
      ]
    },
    {
      "cell_type": "code",
      "source": [
        "#get the index of threshold around zero\n",
        "idx_th = np.where(np.logical_and(thresholds>0,thresholds<1))\n",
        "print('precision for zero thereshold:',precisions[idx_th[0][0]])"
      ],
      "metadata": {
        "colab": {
          "base_uri": "https://localhost:8080/"
        },
        "id": "zfwJYTM6QUu6",
        "outputId": "4efec9eb-a3e4-4c23-f38d-54b3836f0eac"
      },
      "execution_count": 44,
      "outputs": [
        {
          "output_type": "stream",
          "name": "stdout",
          "text": [
            "precision for zero thereshold: 0.9783072546230441\n"
          ]
        }
      ]
    },
    {
      "cell_type": "markdown",
      "source": [
        "* Here is the solution to the question how can we increase the precision of the classifier by\n",
        "compromising the recall. we can make use of the above plot.\n",
        "* Let's see how."
      ],
      "metadata": {
        "id": "5WhOdc7aQcEy"
      }
    },
    {
      "cell_type": "code",
      "source": [
        "def predict(y_scores):\n",
        "  y_hat = np.where(y_scores>20,1,-1) # shifted signum function\n",
        "  return y_hat\n",
        "\n",
        "y_hat_train_0_thrsh = predict(y_scores)\n",
        "print(classification_report(y_train_0,y_hat_train_0_thrsh))"
      ],
      "metadata": {
        "colab": {
          "base_uri": "https://localhost:8080/"
        },
        "id": "L6612VMwQYs9",
        "outputId": "6701649c-3d13-4f3d-f642-828fe8f8cc99"
      },
      "execution_count": 45,
      "outputs": [
        {
          "output_type": "stream",
          "name": "stdout",
          "text": [
            "              precision    recall  f1-score   support\n",
            "\n",
            "        -1.0       0.99      1.00      0.99     54077\n",
            "         1.0       0.99      0.90      0.94      5923\n",
            "\n",
            "    accuracy                           0.99     60000\n",
            "   macro avg       0.99      0.95      0.97     60000\n",
            "weighted avg       0.99      0.99      0.99     60000\n",
            "\n"
          ]
        }
      ]
    },
    {
      "cell_type": "markdown",
      "source": [
        "# The ROC Curve"
      ],
      "metadata": {
        "id": "AcwIPnjyQjwr"
      }
    },
    {
      "cell_type": "code",
      "source": [
        "from sklearn.metrics import roc_curve\n",
        "\n",
        "fpr, tpr, thresholds = roc_curve(y_train_0, y_scores)\n",
        "plt.figure(figsize=(10,4))\n",
        "plt.plot(fpr, tpr, linewidth=2,label='Perceptron')\n",
        "plt.plot([0, 1], [0, 1], 'k--',label='baseEstimator')\n",
        "plt.xlabel('False Positive Rate')\n",
        "plt.ylabel('True Positive Rate')\n",
        "plt.grid(True)\n",
        "plt.legend()\n",
        "plt.show()"
      ],
      "metadata": {
        "colab": {
          "base_uri": "https://localhost:8080/",
          "height": 286
        },
        "id": "TUMaF74XQgnj",
        "outputId": "ff0449d1-8dd0-4dc2-c0e4-8f38e65824f0"
      },
      "execution_count": 46,
      "outputs": [
        {
          "output_type": "display_data",
          "data": {
            "text/plain": [
              "<Figure size 720x288 with 1 Axes>"
            ],
            "image/png": "[encoded data removed]"
          },
          "metadata": {
            "needs_background": "light"
          }
        }
      ]
    },
    {
      "cell_type": "markdown",
      "source": [
        "# Warm Start Vs Cold Start"
      ],
      "metadata": {
        "id": "3EztvPynQp2Q"
      }
    },
    {
      "cell_type": "markdown",
      "source": [
        "# Cold Start"
      ],
      "metadata": {
        "id": "EA9KT3KeQuCz"
      }
    },
    {
      "cell_type": "markdown",
      "source": [
        "* If we execute the fit method of bin_clf repeatedly, we get the same score for both\n",
        "training and testing accuracy.\n",
        "* This because every time the fit method is called, the model weights are initialized to the\n",
        "same values. Therfore, we obtain the same score.\n",
        "* This is termed as cold start. Let's execute the following cell 4 times and observe the\n",
        "score."
      ],
      "metadata": {
        "id": "I-YE6kfPQsyy"
      }
    },
    {
      "cell_type": "code",
      "source": [
        "bin_clf.fit(x_train,y_train_0)\n",
        "y_hat_train_0 = bin_clf.predict(x_train)\n",
        "print('Training Accuracy:',bin_clf.score(x_train,y_train_0))\n",
        "print('Test accuracy: ',bin_clf.score(x_test,y_test_0))"
      ],
      "metadata": {
        "colab": {
          "base_uri": "https://localhost:8080/"
        },
        "id": "C8Q1zyyGQl7y",
        "outputId": "506e8cfb-0959-42a1-a934-992f3b92e3da"
      },
      "execution_count": 47,
      "outputs": [
        {
          "output_type": "stream",
          "name": "stdout",
          "text": [
            "Training Accuracy: 0.99095\n",
            "Test accuracy:  0.989\n"
          ]
        }
      ]
    },
    {
      "cell_type": "markdown",
      "source": [
        "# Warm Start"
      ],
      "metadata": {
        "id": "onqKkfhBQ-qr"
      }
    },
    {
      "cell_type": "markdown",
      "source": [
        "* As you might have gussed, there is an approach called Warm Start\n",
        "* Setting warm_start=True retains the weight values of the model after max_iter and\n",
        "hence produce different results for each execution.\n",
        "* Warm starting is useful in many ways.It helps us train the model by initializing the weight\n",
        "values from the previous state.So we can pause the training and resume it whenever we\n",
        "get the resource for computation.\n",
        "* Of course, it is not required for simple models like perceptron and for a small dataset like\n",
        "MNIST.\n",
        "* In this notebook, we use this feature to plot the iteration vs loss curve."
      ],
      "metadata": {
        "id": "1ECrndbURAut"
      }
    },
    {
      "cell_type": "code",
      "source": [
        "# Let us execute the following lines of code 4 times and observe how the training accuracy\n",
        "\n",
        "bin_clf_warm = Perceptron(max_iter=100,random_state=1729,warm_start=True)\n",
        "\n",
        "bin_clf_warm.fit(x_train,y_train_0)\n",
        "print('Training Accuracy:',bin_clf_warm.score(x_train,y_train_0))"
      ],
      "metadata": {
        "colab": {
          "base_uri": "https://localhost:8080/"
        },
        "id": "zKyAw_uDQ65S",
        "outputId": "bfe1e1ba-ae5c-4268-c8fc-70d44c404661"
      },
      "execution_count": 48,
      "outputs": [
        {
          "output_type": "stream",
          "name": "stdout",
          "text": [
            "Training Accuracy: 0.99095\n"
          ]
        }
      ]
    },
    {
      "cell_type": "markdown",
      "source": [
        "# Multiclass Classifier (OneVsAll)"
      ],
      "metadata": {
        "id": "59N_zTmKWNPA"
      }
    },
    {
      "cell_type": "markdown",
      "source": [
        "* We know that the perceptron is a binary classifier. However, MNIST dataset contains 10\n",
        "classes. Then how can we extend the idea to handle multi-class problems?\n",
        "* **Solution**: Combine multiple binary classifiers and devise a suitable scoring metric.\n",
        "* Sklearn makes it extremely easy without modifying a single line of code that we have\n",
        "written for the binary classifier.\n",
        "* Sklearn does this by counting a number of unique elements (10 in this case) in the label\n",
        "vector `y_train` and converting labels using `LabelBinarizer` to fit each binary classifer\n",
        "(Remember binary classifier requires binary labels, Tautology :-))\n",
        "* That's all!"
      ],
      "metadata": {
        "id": "yN_gKsz1WTZq"
      }
    },
    {
      "cell_type": "code",
      "source": [
        "from sklearn.linear_model import Perceptron\n",
        "from sklearn.preprocessing import LabelBinarizer"
      ],
      "metadata": {
        "id": "Wb4gBeBXRLpu"
      },
      "execution_count": 49,
      "outputs": []
    },
    {
      "cell_type": "code",
      "source": [
        "clf = Perceptron(random_state=1729)"
      ],
      "metadata": {
        "id": "AJKwYLV-Z1Fc"
      },
      "execution_count": 50,
      "outputs": []
    },
    {
      "cell_type": "code",
      "source": [
        "# let's use label binarizer just to see the encoding\n",
        "y_train_ovr = LabelBinarizer().fit_transform(y_train) # setting sparse_output=True in Labe\n",
        "for i in range(10):\n",
        "  print('{0}:{1}'.format(y_train[i],y_train_ovr[i]))"
      ],
      "metadata": {
        "colab": {
          "base_uri": "https://localhost:8080/"
        },
        "id": "UAy5Y7SlbZaR",
        "outputId": "518f8da8-b02e-4044-bdaa-aa3b4ddeb780"
      },
      "execution_count": 51,
      "outputs": [
        {
          "output_type": "stream",
          "name": "stdout",
          "text": [
            "5:[0 0 0 0 0 1 0 0 0 0]\n",
            "0:[1 0 0 0 0 0 0 0 0 0]\n",
            "4:[0 0 0 0 1 0 0 0 0 0]\n",
            "1:[0 1 0 0 0 0 0 0 0 0]\n",
            "9:[0 0 0 0 0 0 0 0 0 1]\n",
            "2:[0 0 1 0 0 0 0 0 0 0]\n",
            "1:[0 1 0 0 0 0 0 0 0 0]\n",
            "3:[0 0 0 1 0 0 0 0 0 0]\n",
            "1:[0 1 0 0 0 0 0 0 0 0]\n",
            "4:[0 0 0 0 1 0 0 0 0 0]\n"
          ]
        }
      ]
    },
    {
      "cell_type": "markdown",
      "source": [
        "* The y_train_ovr will be of size of size 60000 × 10.\n",
        "* The first column will be a (binary) label vector for 0-detector 😀 and the next one for 1-9"
      ],
      "metadata": {
        "id": "jVm8Godtbovd"
      }
    },
    {
      "cell_type": "code",
      "source": [
        "clf.fit(x_train,y_train)"
      ],
      "metadata": {
        "colab": {
          "base_uri": "https://localhost:8080/",
          "height": 75
        },
        "id": "gAI0u_g9beQm",
        "outputId": "9379aca8-7cc0-4106-837d-96425050e3c3"
      },
      "execution_count": 52,
      "outputs": [
        {
          "output_type": "execute_result",
          "data": {
            "text/plain": [
              "Perceptron(random_state=1729)"
            ],
            "text/html": [
              "<style>#sk-container-id-1 {color: black;background-color: white;}#sk-container-id-1 pre{padding: 0;}#sk-container-id-1 div.sk-toggleable {background-color: white;}#sk-container-id-1 label.sk-toggleable__label {cursor: pointer;display: block;width: 100%;margin-bottom: 0;padding: 0.3em;box-sizing: border-box;text-align: center;}#sk-container-id-1 label.sk-toggleable__label-arrow:before {content: \"▸\";float: left;margin-right: 0.25em;color: #696969;}#sk-container-id-1 label.sk-toggleable__label-arrow:hover:before {color: black;}#sk-container-id-1 div.sk-estimator:hover label.sk-toggleable__label-arrow:before {color: black;}#sk-container-id-1 div.sk-toggleable__content {max-height: 0;max-width: 0;overflow: hidden;text-align: left;background-color: #f0f8ff;}#sk-container-id-1 div.sk-toggleable__content pre {margin: 0.2em;color: black;border-radius: 0.25em;background-color: #f0f8ff;}#sk-container-id-1 input.sk-toggleable__control:checked~div.sk-toggleable__content {max-height: 200px;max-width: 100%;overflow: auto;}#sk-container-id-1 input.sk-toggleable__control:checked~label.sk-toggleable__label-arrow:before {content: \"▾\";}#sk-container-id-1 div.sk-estimator input.sk-toggleable__control:checked~label.sk-toggleable__label {background-color: #d4ebff;}#sk-container-id-1 div.sk-label input.sk-toggleable__control:checked~label.sk-toggleable__label {background-color: #d4ebff;}#sk-container-id-1 input.sk-hidden--visually {border: 0;clip: rect(1px 1px 1px 1px);clip: rect(1px, 1px, 1px, 1px);height: 1px;margin: -1px;overflow: hidden;padding: 0;position: absolute;width: 1px;}#sk-container-id-1 div.sk-estimator {font-family: monospace;background-color: #f0f8ff;border: 1px dotted black;border-radius: 0.25em;box-sizing: border-box;margin-bottom: 0.5em;}#sk-container-id-1 div.sk-estimator:hover {background-color: #d4ebff;}#sk-container-id-1 div.sk-parallel-item::after {content: \"\";width: 100%;border-bottom: 1px solid gray;flex-grow: 1;}#sk-container-id-1 div.sk-label:hover label.sk-toggleable__label {background-color: #d4ebff;}#sk-container-id-1 div.sk-serial::before {content: \"\";position: absolute;border-left: 1px solid gray;box-sizing: border-box;top: 0;bottom: 0;left: 50%;z-index: 0;}#sk-container-id-1 div.sk-serial {display: flex;flex-direction: column;align-items: center;background-color: white;padding-right: 0.2em;padding-left: 0.2em;position: relative;}#sk-container-id-1 div.sk-item {position: relative;z-index: 1;}#sk-container-id-1 div.sk-parallel {display: flex;align-items: stretch;justify-content: center;background-color: white;position: relative;}#sk-container-id-1 div.sk-item::before, #sk-container-id-1 div.sk-parallel-item::before {content: \"\";position: absolute;border-left: 1px solid gray;box-sizing: border-box;top: 0;bottom: 0;left: 50%;z-index: -1;}#sk-container-id-1 div.sk-parallel-item {display: flex;flex-direction: column;z-index: 1;position: relative;background-color: white;}#sk-container-id-1 div.sk-parallel-item:first-child::after {align-self: flex-end;width: 50%;}#sk-container-id-1 div.sk-parallel-item:last-child::after {align-self: flex-start;width: 50%;}#sk-container-id-1 div.sk-parallel-item:only-child::after {width: 0;}#sk-container-id-1 div.sk-dashed-wrapped {border: 1px dashed gray;margin: 0 0.4em 0.5em 0.4em;box-sizing: border-box;padding-bottom: 0.4em;background-color: white;}#sk-container-id-1 div.sk-label label {font-family: monospace;font-weight: bold;display: inline-block;line-height: 1.2em;}#sk-container-id-1 div.sk-label-container {text-align: center;}#sk-container-id-1 div.sk-container {/* jupyter's `normalize.less` sets `[hidden] { display: none; }` but bootstrap.min.css set `[hidden] { display: none !important; }` so we also need the `!important` here to be able to override the default hidden behavior on the sphinx rendered scikit-learn.org. See: https://github.com/scikit-learn/scikit-learn/issues/21755 */display: inline-block !important;position: relative;}#sk-container-id-1 div.sk-text-repr-fallback {display: none;}</style><div id=\"sk-container-id-1\" class=\"sk-top-container\"><div class=\"sk-text-repr-fallback\"><pre>Perceptron(random_state=1729)</pre><b>In a Jupyter environment, please rerun this cell to show the HTML representation or trust the notebook. <br />On GitHub, the HTML representation is unable to render, please try loading this page with nbviewer.org.</b></div><div class=\"sk-container\" hidden><div class=\"sk-item\"><div class=\"sk-estimator sk-toggleable\"><input class=\"sk-toggleable__control sk-hidden--visually\" id=\"sk-estimator-id-1\" type=\"checkbox\" checked><label for=\"sk-estimator-id-1\" class=\"sk-toggleable__label sk-toggleable__label-arrow\">Perceptron</label><div class=\"sk-toggleable__content\"><pre>Perceptron(random_state=1729)</pre></div></div></div></div></div>"
            ]
          },
          "metadata": {},
          "execution_count": 52
        }
      ]
    },
    {
      "cell_type": "markdown",
      "source": [
        "* What had actually happened internally was that the API automatically created 10 binary\n",
        "classifiers, converted labels to binary sparse matrix and trained them with the binarized\n",
        "labels!.\n",
        "* During the inference time, the input will be passed through all these 10 classifiers and the\n",
        "highest score among the ouput from the classifiers will be considered as the predicted\n",
        "class.\n",
        "* To see it in action, let us execute the following lines of code"
      ],
      "metadata": {
        "id": "yU7prk2db62b"
      }
    },
    {
      "cell_type": "code",
      "source": [
        "print('Shape of Weight matrix:{0} and bias vector:{1}'.format(clf.coef_.shape,clf.intercept_))"
      ],
      "metadata": {
        "colab": {
          "base_uri": "https://localhost:8080/"
        },
        "id": "2G5Nclfob0VG",
        "outputId": "9364b82c-d432-40f7-a6e1-8aba3f51d681"
      },
      "execution_count": 53,
      "outputs": [
        {
          "output_type": "stream",
          "name": "stdout",
          "text": [
            "Shape of Weight matrix:(10, 784) and bias vector:[ -94.  -13.  -46.  -77.  -33.   23.  -85.   -6. -172.  -88.]\n"
          ]
        }
      ]
    },
    {
      "cell_type": "markdown",
      "source": [
        "* So it is a matrix of size where each row represents the weights for a single\n",
        "binary classifier.\n",
        "* Important difference to note is that there is no signum function associated with the\n",
        "perceptron.\n",
        "* The class of a perceptron that outputs the maximum score for the input sample is\n",
        "considered as the predicted class."
      ],
      "metadata": {
        "id": "rljvM8ZEcPgG"
      }
    },
    {
      "cell_type": "code",
      "source": [
        "scores = clf.decision_function(x_train[6].reshape(1,-1))\n",
        "print(scores)\n",
        "print('The predicted class: ',np.argmax(scores))"
      ],
      "metadata": {
        "colab": {
          "base_uri": "https://localhost:8080/"
        },
        "id": "B40wp5J6cDYk",
        "outputId": "779a0a08-d69c-4317-eeb7-927569365047"
      },
      "execution_count": 54,
      "outputs": [
        {
          "output_type": "stream",
          "name": "stdout",
          "text": [
            "[[-631.88492118  154.366213    -65.23234141  -90.95338716 -189.29568627\n",
            "  -137.14385236  -99.64604383 -159.09859285 -136.86391388 -199.26120723]]\n",
            "The predicted class:  1\n"
          ]
        }
      ]
    },
    {
      "cell_type": "code",
      "source": [
        "print('Preicted output:\\n')\n",
        "print(clf.predict(x_train[0].reshape(1,-1)))"
      ],
      "metadata": {
        "colab": {
          "base_uri": "https://localhost:8080/"
        },
        "id": "rryPKCXicTwo",
        "outputId": "e229d4db-170c-4b26-b4a9-f287000df62b"
      },
      "execution_count": 55,
      "outputs": [
        {
          "output_type": "stream",
          "name": "stdout",
          "text": [
            "Preicted output:\n",
            "\n",
            "['5']\n"
          ]
        }
      ]
    },
    {
      "cell_type": "code",
      "source": [
        "# get the prepdiction for all training samples\n",
        "y_hat = clf.predict(x_train)"
      ],
      "metadata": {
        "id": "rBIUv2vicVy4"
      },
      "execution_count": 56,
      "outputs": []
    },
    {
      "cell_type": "code",
      "source": [
        "# Let us display the confusion matrix and relate it with the report above.\n",
        "\n",
        "cm_display = ConfusionMatrixDisplay.from_predictions(y_train,y_hat,values_format='.5g')"
      ],
      "metadata": {
        "colab": {
          "base_uri": "https://localhost:8080/",
          "height": 395
        },
        "id": "Y8KiPuqrcX1-",
        "outputId": "b943919c-7ce7-4539-98da-e392577b27b4"
      },
      "execution_count": 57,
      "outputs": [
        {
          "output_type": "display_data",
          "data": {
            "text/plain": [
              "<Figure size 576x432 with 2 Axes>"
            ],
            "image/png": "[encoded data removed]"
          },
          "metadata": {
            "needs_background": "light"
          }
        }
      ]
    },
    {
      "cell_type": "markdown",
      "source": [
        "* What are all the insights we could infer from the above figure?\n",
        "* Digit 2 is often confused with Digit 3 (Reasonable!)."
      ],
      "metadata": {
        "id": "uT-Y-b70ctS2"
      }
    },
    {
      "cell_type": "markdown",
      "source": [
        "# Making a Pipeline"
      ],
      "metadata": {
        "id": "rdTkufnPcvyQ"
      }
    },
    {
      "cell_type": "markdown",
      "source": [
        "* Let's create a pipline to keep the code compact.\n",
        "* Recall that, the MNIST dataset is clean and hence doesn't require much preprocessing.\n",
        "* The one potential preprocessing technique we may use is to scale the features within the\n",
        "range (0,1)\n",
        "* It is not similar to scaling down the range values between 0 and 1."
      ],
      "metadata": {
        "id": "dVVNI8EkcxeJ"
      }
    },
    {
      "cell_type": "code",
      "source": [
        "# create a list with named tuples\n",
        "estimators = [('std_scaler',MinMaxScaler()),('bin_clf',Perceptron())]\n",
        "pipe = Pipeline(estimators)\n",
        "\n",
        "pipe.fit(x_train,y_train_0)"
      ],
      "metadata": {
        "colab": {
          "base_uri": "https://localhost:8080/",
          "height": 126
        },
        "id": "OcNUElPmcbrS",
        "outputId": "e2dac7c6-1513-4a3d-e88d-a1e3ebd05590"
      },
      "execution_count": 58,
      "outputs": [
        {
          "output_type": "execute_result",
          "data": {
            "text/plain": [
              "Pipeline(steps=[('std_scaler', MinMaxScaler()), ('bin_clf', Perceptron())])"
            ],
            "text/html": [
              "<style>#sk-container-id-2 {color: black;background-color: white;}#sk-container-id-2 pre{padding: 0;}#sk-container-id-2 div.sk-toggleable {background-color: white;}#sk-container-id-2 label.sk-toggleable__label {cursor: pointer;display: block;width: 100%;margin-bottom: 0;padding: 0.3em;box-sizing: border-box;text-align: center;}#sk-container-id-2 label.sk-toggleable__label-arrow:before {content: \"▸\";float: left;margin-right: 0.25em;color: #696969;}#sk-container-id-2 label.sk-toggleable__label-arrow:hover:before {color: black;}#sk-container-id-2 div.sk-estimator:hover label.sk-toggleable__label-arrow:before {color: black;}#sk-container-id-2 div.sk-toggleable__content {max-height: 0;max-width: 0;overflow: hidden;text-align: left;background-color: #f0f8ff;}#sk-container-id-2 div.sk-toggleable__content pre {margin: 0.2em;color: black;border-radius: 0.25em;background-color: #f0f8ff;}#sk-container-id-2 input.sk-toggleable__control:checked~div.sk-toggleable__content {max-height: 200px;max-width: 100%;overflow: auto;}#sk-container-id-2 input.sk-toggleable__control:checked~label.sk-toggleable__label-arrow:before {content: \"▾\";}#sk-container-id-2 div.sk-estimator input.sk-toggleable__control:checked~label.sk-toggleable__label {background-color: #d4ebff;}#sk-container-id-2 div.sk-label input.sk-toggleable__control:checked~label.sk-toggleable__label {background-color: #d4ebff;}#sk-container-id-2 input.sk-hidden--visually {border: 0;clip: rect(1px 1px 1px 1px);clip: rect(1px, 1px, 1px, 1px);height: 1px;margin: -1px;overflow: hidden;padding: 0;position: absolute;width: 1px;}#sk-container-id-2 div.sk-estimator {font-family: monospace;background-color: #f0f8ff;border: 1px dotted black;border-radius: 0.25em;box-sizing: border-box;margin-bottom: 0.5em;}#sk-container-id-2 div.sk-estimator:hover {background-color: #d4ebff;}#sk-container-id-2 div.sk-parallel-item::after {content: \"\";width: 100%;border-bottom: 1px solid gray;flex-grow: 1;}#sk-container-id-2 div.sk-label:hover label.sk-toggleable__label {background-color: #d4ebff;}#sk-container-id-2 div.sk-serial::before {content: \"\";position: absolute;border-left: 1px solid gray;box-sizing: border-box;top: 0;bottom: 0;left: 50%;z-index: 0;}#sk-container-id-2 div.sk-serial {display: flex;flex-direction: column;align-items: center;background-color: white;padding-right: 0.2em;padding-left: 0.2em;position: relative;}#sk-container-id-2 div.sk-item {position: relative;z-index: 1;}#sk-container-id-2 div.sk-parallel {display: flex;align-items: stretch;justify-content: center;background-color: white;position: relative;}#sk-container-id-2 div.sk-item::before, #sk-container-id-2 div.sk-parallel-item::before {content: \"\";position: absolute;border-left: 1px solid gray;box-sizing: border-box;top: 0;bottom: 0;left: 50%;z-index: -1;}#sk-container-id-2 div.sk-parallel-item {display: flex;flex-direction: column;z-index: 1;position: relative;background-color: white;}#sk-container-id-2 div.sk-parallel-item:first-child::after {align-self: flex-end;width: 50%;}#sk-container-id-2 div.sk-parallel-item:last-child::after {align-self: flex-start;width: 50%;}#sk-container-id-2 div.sk-parallel-item:only-child::after {width: 0;}#sk-container-id-2 div.sk-dashed-wrapped {border: 1px dashed gray;margin: 0 0.4em 0.5em 0.4em;box-sizing: border-box;padding-bottom: 0.4em;background-color: white;}#sk-container-id-2 div.sk-label label {font-family: monospace;font-weight: bold;display: inline-block;line-height: 1.2em;}#sk-container-id-2 div.sk-label-container {text-align: center;}#sk-container-id-2 div.sk-container {/* jupyter's `normalize.less` sets `[hidden] { display: none; }` but bootstrap.min.css set `[hidden] { display: none !important; }` so we also need the `!important` here to be able to override the default hidden behavior on the sphinx rendered scikit-learn.org. See: https://github.com/scikit-learn/scikit-learn/issues/21755 */display: inline-block !important;position: relative;}#sk-container-id-2 div.sk-text-repr-fallback {display: none;}</style><div id=\"sk-container-id-2\" class=\"sk-top-container\"><div class=\"sk-text-repr-fallback\"><pre>Pipeline(steps=[(&#x27;std_scaler&#x27;, MinMaxScaler()), (&#x27;bin_clf&#x27;, Perceptron())])</pre><b>In a Jupyter environment, please rerun this cell to show the HTML representation or trust the notebook. <br />On GitHub, the HTML representation is unable to render, please try loading this page with nbviewer.org.</b></div><div class=\"sk-container\" hidden><div class=\"sk-item sk-dashed-wrapped\"><div class=\"sk-label-container\"><div class=\"sk-label sk-toggleable\"><input class=\"sk-toggleable__control sk-hidden--visually\" id=\"sk-estimator-id-2\" type=\"checkbox\" ><label for=\"sk-estimator-id-2\" class=\"sk-toggleable__label sk-toggleable__label-arrow\">Pipeline</label><div class=\"sk-toggleable__content\"><pre>Pipeline(steps=[(&#x27;std_scaler&#x27;, MinMaxScaler()), (&#x27;bin_clf&#x27;, Perceptron())])</pre></div></div></div><div class=\"sk-serial\"><div class=\"sk-item\"><div class=\"sk-estimator sk-toggleable\"><input class=\"sk-toggleable__control sk-hidden--visually\" id=\"sk-estimator-id-3\" type=\"checkbox\" ><label for=\"sk-estimator-id-3\" class=\"sk-toggleable__label sk-toggleable__label-arrow\">MinMaxScaler</label><div class=\"sk-toggleable__content\"><pre>MinMaxScaler()</pre></div></div></div><div class=\"sk-item\"><div class=\"sk-estimator sk-toggleable\"><input class=\"sk-toggleable__control sk-hidden--visually\" id=\"sk-estimator-id-4\" type=\"checkbox\" ><label for=\"sk-estimator-id-4\" class=\"sk-toggleable__label sk-toggleable__label-arrow\">Perceptron</label><div class=\"sk-toggleable__content\"><pre>Perceptron()</pre></div></div></div></div></div></div></div>"
            ]
          },
          "metadata": {},
          "execution_count": 58
        }
      ]
    },
    {
      "cell_type": "code",
      "source": [
        "y_hat_train_0 = pipe.predict(x_train)\n",
        "cm_display = ConfusionMatrixDisplay.from_predictions(y_train_0,\n",
        "                                                     y_hat_train_0,\n",
        "                                                     values_format = None)\n",
        "plt.show()"
      ],
      "metadata": {
        "colab": {
          "base_uri": "https://localhost:8080/",
          "height": 395
        },
        "id": "_k_VVPEPc6_S",
        "outputId": "9b4f762b-6037-4f76-e1c9-138c55c417da"
      },
      "execution_count": 59,
      "outputs": [
        {
          "output_type": "display_data",
          "data": {
            "text/plain": [
              "<Figure size 576x432 with 2 Axes>"
            ],
            "image/png": "[encoded data removed]"
          },
          "metadata": {
            "needs_background": "light"
          }
        }
      ]
    },
    {
      "cell_type": "markdown",
      "source": [
        "# Iteration vs Loss Curve"
      ],
      "metadata": {
        "id": "83_6VU5AdF5V"
      }
    },
    {
      "cell_type": "markdown",
      "source": [
        "The other way of Plotting Iteration Vs Loss curve with the Partial_fit method."
      ],
      "metadata": {
        "id": "dH7ItpaqdHbM"
      }
    },
    {
      "cell_type": "code",
      "source": [
        "iterations = 100\n",
        "bin_clf1 = Perceptron(max_iter=1000,random_state=2094)\n",
        "Loss_clf1 = []\n",
        "for i in range(iterations):\n",
        "  bin_clf1.partial_fit(x_train,y_train_0,classes=np.array([1,-1]))\n",
        "  y_hat_0 = bin_clf1.decision_function(x_train)\n",
        "  Loss_clf1.append(hinge_loss(y_train_0,y_hat_0))"
      ],
      "metadata": {
        "id": "0E0tdXq-c_i3"
      },
      "execution_count": 60,
      "outputs": []
    },
    {
      "cell_type": "code",
      "source": [
        "plt.figure()\n",
        "plt.plot(np.arange(iterations),Loss_clf1)\n",
        "plt.grid(True)\n",
        "plt.xlabel('Iteration')\n",
        "plt.ylabel('Training Loss')\n",
        "plt.show()"
      ],
      "metadata": {
        "colab": {
          "base_uri": "https://localhost:8080/",
          "height": 395
        },
        "id": "83Gfo-G2dKzh",
        "outputId": "b6bb1c39-e71b-489f-fe44-3227f2f95c82"
      },
      "execution_count": 61,
      "outputs": [
        {
          "output_type": "display_data",
          "data": {
            "text/plain": [
              "<Figure size 576x432 with 1 Axes>"
            ],
            "image/png": "[encoded data removed]"
          },
          "metadata": {
            "needs_background": "light"
          }
        }
      ]
    },
    {
      "cell_type": "markdown",
      "source": [
        "# GridSearchCV"
      ],
      "metadata": {
        "id": "7jdQuA2ceaYj"
      }
    },
    {
      "cell_type": "markdown",
      "source": [
        "* So far we didn't do any hyperparameter tuning. We accepted the default value for learning\n",
        "rate of the Perceptron class.\n",
        "* Now, let us search for a better learning rate using GridSearchCV .\n",
        "* No matter what the learning rate is, the loss will never converge to zero as the claases are\n",
        "not linearly separable."
      ],
      "metadata": {
        "id": "ZcJ18kshecra"
      }
    },
    {
      "cell_type": "code",
      "source": [
        "scoring = make_scorer(hinge_loss,greater_is_better=False)\n",
        "lr_grid = [1/2**n for n in range(1,6)]\n",
        "bin_clf_gscv = GridSearchCV(Perceptron(),param_grid={\"eta0\":lr_grid},scoring=scoring,cv=5)\n",
        "bin_clf_gscv.fit(x_train,y_train_0)"
      ],
      "metadata": {
        "colab": {
          "base_uri": "https://localhost:8080/",
          "height": 118
        },
        "id": "ISfHOCIAeWG-",
        "outputId": "5aa71772-564d-402b-ed5a-6f738e026518"
      },
      "execution_count": 62,
      "outputs": [
        {
          "output_type": "execute_result",
          "data": {
            "text/plain": [
              "GridSearchCV(cv=5, estimator=Perceptron(),\n",
              "             param_grid={'eta0': [0.5, 0.25, 0.125, 0.0625, 0.03125]},\n",
              "             scoring=make_scorer(hinge_loss, greater_is_better=False))"
            ],
            "text/html": [
              "<style>#sk-container-id-3 {color: black;background-color: white;}#sk-container-id-3 pre{padding: 0;}#sk-container-id-3 div.sk-toggleable {background-color: white;}#sk-container-id-3 label.sk-toggleable__label {cursor: pointer;display: block;width: 100%;margin-bottom: 0;padding: 0.3em;box-sizing: border-box;text-align: center;}#sk-container-id-3 label.sk-toggleable__label-arrow:before {content: \"▸\";float: left;margin-right: 0.25em;color: #696969;}#sk-container-id-3 label.sk-toggleable__label-arrow:hover:before {color: black;}#sk-container-id-3 div.sk-estimator:hover label.sk-toggleable__label-arrow:before {color: black;}#sk-container-id-3 div.sk-toggleable__content {max-height: 0;max-width: 0;overflow: hidden;text-align: left;background-color: #f0f8ff;}#sk-container-id-3 div.sk-toggleable__content pre {margin: 0.2em;color: black;border-radius: 0.25em;background-color: #f0f8ff;}#sk-container-id-3 input.sk-toggleable__control:checked~div.sk-toggleable__content {max-height: 200px;max-width: 100%;overflow: auto;}#sk-container-id-3 input.sk-toggleable__control:checked~label.sk-toggleable__label-arrow:before {content: \"▾\";}#sk-container-id-3 div.sk-estimator input.sk-toggleable__control:checked~label.sk-toggleable__label {background-color: #d4ebff;}#sk-container-id-3 div.sk-label input.sk-toggleable__control:checked~label.sk-toggleable__label {background-color: #d4ebff;}#sk-container-id-3 input.sk-hidden--visually {border: 0;clip: rect(1px 1px 1px 1px);clip: rect(1px, 1px, 1px, 1px);height: 1px;margin: -1px;overflow: hidden;padding: 0;position: absolute;width: 1px;}#sk-container-id-3 div.sk-estimator {font-family: monospace;background-color: #f0f8ff;border: 1px dotted black;border-radius: 0.25em;box-sizing: border-box;margin-bottom: 0.5em;}#sk-container-id-3 div.sk-estimator:hover {background-color: #d4ebff;}#sk-container-id-3 div.sk-parallel-item::after {content: \"\";width: 100%;border-bottom: 1px solid gray;flex-grow: 1;}#sk-container-id-3 div.sk-label:hover label.sk-toggleable__label {background-color: #d4ebff;}#sk-container-id-3 div.sk-serial::before {content: \"\";position: absolute;border-left: 1px solid gray;box-sizing: border-box;top: 0;bottom: 0;left: 50%;z-index: 0;}#sk-container-id-3 div.sk-serial {display: flex;flex-direction: column;align-items: center;background-color: white;padding-right: 0.2em;padding-left: 0.2em;position: relative;}#sk-container-id-3 div.sk-item {position: relative;z-index: 1;}#sk-container-id-3 div.sk-parallel {display: flex;align-items: stretch;justify-content: center;background-color: white;position: relative;}#sk-container-id-3 div.sk-item::before, #sk-container-id-3 div.sk-parallel-item::before {content: \"\";position: absolute;border-left: 1px solid gray;box-sizing: border-box;top: 0;bottom: 0;left: 50%;z-index: -1;}#sk-container-id-3 div.sk-parallel-item {display: flex;flex-direction: column;z-index: 1;position: relative;background-color: white;}#sk-container-id-3 div.sk-parallel-item:first-child::after {align-self: flex-end;width: 50%;}#sk-container-id-3 div.sk-parallel-item:last-child::after {align-self: flex-start;width: 50%;}#sk-container-id-3 div.sk-parallel-item:only-child::after {width: 0;}#sk-container-id-3 div.sk-dashed-wrapped {border: 1px dashed gray;margin: 0 0.4em 0.5em 0.4em;box-sizing: border-box;padding-bottom: 0.4em;background-color: white;}#sk-container-id-3 div.sk-label label {font-family: monospace;font-weight: bold;display: inline-block;line-height: 1.2em;}#sk-container-id-3 div.sk-label-container {text-align: center;}#sk-container-id-3 div.sk-container {/* jupyter's `normalize.less` sets `[hidden] { display: none; }` but bootstrap.min.css set `[hidden] { display: none !important; }` so we also need the `!important` here to be able to override the default hidden behavior on the sphinx rendered scikit-learn.org. See: https://github.com/scikit-learn/scikit-learn/issues/21755 */display: inline-block !important;position: relative;}#sk-container-id-3 div.sk-text-repr-fallback {display: none;}</style><div id=\"sk-container-id-3\" class=\"sk-top-container\"><div class=\"sk-text-repr-fallback\"><pre>GridSearchCV(cv=5, estimator=Perceptron(),\n",
              "             param_grid={&#x27;eta0&#x27;: [0.5, 0.25, 0.125, 0.0625, 0.03125]},\n",
              "             scoring=make_scorer(hinge_loss, greater_is_better=False))</pre><b>In a Jupyter environment, please rerun this cell to show the HTML representation or trust the notebook. <br />On GitHub, the HTML representation is unable to render, please try loading this page with nbviewer.org.</b></div><div class=\"sk-container\" hidden><div class=\"sk-item sk-dashed-wrapped\"><div class=\"sk-label-container\"><div class=\"sk-label sk-toggleable\"><input class=\"sk-toggleable__control sk-hidden--visually\" id=\"sk-estimator-id-5\" type=\"checkbox\" ><label for=\"sk-estimator-id-5\" class=\"sk-toggleable__label sk-toggleable__label-arrow\">GridSearchCV</label><div class=\"sk-toggleable__content\"><pre>GridSearchCV(cv=5, estimator=Perceptron(),\n",
              "             param_grid={&#x27;eta0&#x27;: [0.5, 0.25, 0.125, 0.0625, 0.03125]},\n",
              "             scoring=make_scorer(hinge_loss, greater_is_better=False))</pre></div></div></div><div class=\"sk-parallel\"><div class=\"sk-parallel-item\"><div class=\"sk-item\"><div class=\"sk-label-container\"><div class=\"sk-label sk-toggleable\"><input class=\"sk-toggleable__control sk-hidden--visually\" id=\"sk-estimator-id-6\" type=\"checkbox\" ><label for=\"sk-estimator-id-6\" class=\"sk-toggleable__label sk-toggleable__label-arrow\">estimator: Perceptron</label><div class=\"sk-toggleable__content\"><pre>Perceptron()</pre></div></div></div><div class=\"sk-serial\"><div class=\"sk-item\"><div class=\"sk-estimator sk-toggleable\"><input class=\"sk-toggleable__control sk-hidden--visually\" id=\"sk-estimator-id-7\" type=\"checkbox\" ><label for=\"sk-estimator-id-7\" class=\"sk-toggleable__label sk-toggleable__label-arrow\">Perceptron</label><div class=\"sk-toggleable__content\"><pre>Perceptron()</pre></div></div></div></div></div></div></div></div></div></div>"
            ]
          },
          "metadata": {},
          "execution_count": 62
        }
      ]
    },
    {
      "cell_type": "code",
      "source": [
        "pprint(bin_clf_gscv.cv_results_)"
      ],
      "metadata": {
        "colab": {
          "base_uri": "https://localhost:8080/"
        },
        "id": "_cX1HNM4ejV9",
        "outputId": "f152e240-4d7b-4186-9e3d-056fa9283eb1"
      },
      "execution_count": 63,
      "outputs": [
        {
          "output_type": "stream",
          "name": "stdout",
          "text": [
            "{'mean_fit_time': array([1.31089883, 1.26526237, 1.2315176 , 1.00008192, 1.0071126 ]),\n",
            " 'mean_score_time': array([0.02432547, 0.02385631, 0.01985269, 0.01944847, 0.02348886]),\n",
            " 'mean_test_score': array([-0.0285    , -0.0285    , -0.02643333, -0.03066667, -0.0421    ]),\n",
            " 'param_eta0': masked_array(data=[0.5, 0.25, 0.125, 0.0625, 0.03125],\n",
            "             mask=[False, False, False, False, False],\n",
            "       fill_value='?',\n",
            "            dtype=object),\n",
            " 'params': [{'eta0': 0.5},\n",
            "            {'eta0': 0.25},\n",
            "            {'eta0': 0.125},\n",
            "            {'eta0': 0.0625},\n",
            "            {'eta0': 0.03125}],\n",
            " 'rank_test_score': array([2, 2, 1, 4, 5], dtype=int32),\n",
            " 'split0_test_score': array([-0.02166667, -0.02166667, -0.02166667, -0.02166667, -0.02166667]),\n",
            " 'split1_test_score': array([-0.0395, -0.0395, -0.0395, -0.0395, -0.0395]),\n",
            " 'split2_test_score': array([-0.02816667, -0.02816667, -0.02816667, -0.02816667, -0.02816667]),\n",
            " 'split3_test_score': array([-0.023     , -0.023     , -0.023     , -0.04416667, -0.04416667]),\n",
            " 'split4_test_score': array([-0.03016667, -0.03016667, -0.01983333, -0.01983333, -0.077     ]),\n",
            " 'std_fit_time': array([0.24873107, 0.33506272, 0.25687312, 0.12445535, 0.15192578]),\n",
            " 'std_score_time': array([0.00481992, 0.00634434, 0.00083809, 0.00068381, 0.00515551]),\n",
            " 'std_test_score': array([0.00633772, 0.00633772, 0.00709663, 0.0096425 , 0.01918697])}\n"
          ]
        }
      ]
    },
    {
      "cell_type": "markdown",
      "source": [
        "As you can see, the best learning rate is 0.125."
      ],
      "metadata": {
        "id": "hPN6IkpCemS4"
      }
    },
    {
      "cell_type": "code",
      "source": [
        "iterations = 100\n",
        "Loss = []\n",
        "best_bin_clf = Perceptron(max_iter=1000,random_state=2094,eta0=0.125)\n",
        "for i in range(iterations):\n",
        "  best_bin_clf.partial_fit(x_train,y_train_0,classes=np.array([1,-1]))\n",
        "  y_hat_0 = best_bin_clf.decision_function(x_train)\n",
        "  Loss.append(hinge_loss(y_train_0,y_hat_0))"
      ],
      "metadata": {
        "id": "B1gG_XNZekY_"
      },
      "execution_count": 64,
      "outputs": []
    },
    {
      "cell_type": "code",
      "source": [
        "plt.figure()\n",
        "plt.plot(np.arange(iterations),Loss_clf1,label='eta0=1')\n",
        "plt.plot(np.arange(iterations),Loss,label='eta0=0.125')\n",
        "plt.grid(True)\n",
        "plt.legend()\n",
        "plt.xlabel('Iteration')\n",
        "plt.ylabel('Training Loss')\n",
        "plt.show()"
      ],
      "metadata": {
        "colab": {
          "base_uri": "https://localhost:8080/",
          "height": 395
        },
        "id": "9abikJS2epeX",
        "outputId": "20a9bc89-e164-4fac-ee4e-ec92c624bfb4"
      },
      "execution_count": 65,
      "outputs": [
        {
          "output_type": "display_data",
          "data": {
            "text/plain": [
              "<Figure size 576x432 with 1 Axes>"
            ],
            "image/png": "[encoded data removed]"
          },
          "metadata": {
            "needs_background": "light"
          }
        }
      ]
    },
    {
      "cell_type": "code",
      "source": [
        "# Well, instead of instatiating a Perceptron class with a new learning rate and re-train the model,\n",
        "# we could simply get the best_estimator from GridSearchCV as follows.\n",
        "\n",
        "best_bin_clf = bin_clf_gscv.best_estimator_\n",
        "\n",
        "y_hat_train_0 = bin_clf.predict(x_train)\n",
        "print(classification_report(y_train_0,y_hat_train_0))"
      ],
      "metadata": {
        "colab": {
          "base_uri": "https://localhost:8080/"
        },
        "id": "u6dFeTsteq1I",
        "outputId": "8c1d383d-1950-4066-ba52-9c538d93a813"
      },
      "execution_count": 66,
      "outputs": [
        {
          "output_type": "stream",
          "name": "stdout",
          "text": [
            "              precision    recall  f1-score   support\n",
            "\n",
            "        -1.0       0.99      1.00      0.99     54077\n",
            "         1.0       0.98      0.93      0.95      5923\n",
            "\n",
            "    accuracy                           0.99     60000\n",
            "   macro avg       0.99      0.96      0.97     60000\n",
            "weighted avg       0.99      0.99      0.99     60000\n",
            "\n"
          ]
        }
      ]
    },
    {
      "cell_type": "markdown",
      "source": [
        "# Visualizing weight vectors (Optional)"
      ],
      "metadata": {
        "id": "a3Hqhhddez1u"
      }
    },
    {
      "cell_type": "markdown",
      "source": [
        "It will be interesting to look into the samples which are misclassified as False Positives (that is,\n",
        "images that are not zero but classified as zero), and come up with some possible reasons. Shall\n",
        "we do it?"
      ],
      "metadata": {
        "id": "fxFyNPFAe12l"
      }
    },
    {
      "cell_type": "code",
      "source": [
        "# repeating the code for readabilituy\n",
        "bin_clf = Perceptron(max_iter=100)\n",
        "bin_clf.fit(x_train,y_train_0)\n",
        "y_hat_train_0 = bin_clf.predict(x_train)\n",
        "\n",
        "#find the index of false positive samples\n",
        "idx_n = np.where(y_train_0 ==-1) # index of true -ve samples\n",
        "idx_pred_p = np.where(y_hat_train_0==1) # index of predicted positive samples\n",
        "idx_pred_n = np.where(y_hat_train_0==-1) # index of predicted negative samples\n",
        "idx_fp = np.intersect1d(idx_n,idx_pred_p)\n",
        "idx_tn = np.intersect1d(idx_n,idx_pred_n)\n",
        "\n",
        "fig,ax = plt.subplots(nrows=factor,ncols=factor,figsize=(8,6))\n",
        "idx_offset = 0\n",
        "for i in range(3):\n",
        "  index = idx_offset+i\n",
        "  for j in range(3):\n",
        "    ax[i,j].imshow(x_train[idx_fp[index+j]].reshape(28,28),cmap='gray')\n",
        "    ax[i,j].set_title(\"GT:{0}, Pr:{1}\".format(str(y_train_0[idx_fp[index+j]]),\n",
        "                                              str(y_hat_train_0[idx_fp[index+j]]))\n",
        "    ax[i,j].set_axis_off()"
      ],
      "metadata": {
        "colab": {
          "base_uri": "https://localhost:8080/",
          "height": 130
        },
        "id": "QXq1U8bfew1v",
        "outputId": "75579d21-4a97-477d-b6c3-e89818610447"
      },
      "execution_count": 67,
      "outputs": [
        {
          "output_type": "error",
          "ename": "SyntaxError",
          "evalue": "ignored",
          "traceback": [
            "\u001b[0;36m  File \u001b[0;32m\"<ipython-input-67-cdd385e4e2d8>\"\u001b[0;36m, line \u001b[0;32m21\u001b[0m\n\u001b[0;31m    ax[i,j].set_axis_off()\u001b[0m\n\u001b[0m    ^\u001b[0m\n\u001b[0;31mSyntaxError\u001b[0m\u001b[0;31m:\u001b[0m invalid syntax\n"
          ]
        }
      ]
    },
    {
      "cell_type": "code",
      "source": [
        "# covered in later files"
      ],
      "metadata": {
        "id": "R_aLy-Nce8dp"
      },
      "execution_count": null,
      "outputs": []
    },
    {
      "cell_type": "code",
      "source": [],
      "metadata": {
        "id": "_Et7Viip5Eee"
      },
      "execution_count": null,
      "outputs": []
    }
  ]
}