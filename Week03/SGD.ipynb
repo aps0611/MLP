{
  "nbformat": 4,
  "nbformat_minor": 0,
  "metadata": {
    "colab": {
      "provenance": []
    },
    "kernelspec": {
      "name": "python3",
      "display_name": "Python 3"
    },
    "language_info": {
      "name": "python"
    }
  },
  "cells": [
    {
      "cell_type": "markdown",
      "source": [
        "# Linear regression with iterative optimization: SGDRegressor"
      ],
      "metadata": {
        "id": "sotEwCdDBxFe"
      }
    },
    {
      "cell_type": "markdown",
      "source": [
        "SGD offers a lot of control over optimization procedure through a number of hyperparameters. However, we need to set them to right values in order to make it work for training the model."
      ],
      "metadata": {
        "id": "ApCrt--HB5Bf"
      }
    },
    {
      "cell_type": "code",
      "execution_count": 23,
      "metadata": {
        "id": "6LkWdd_LBrdM"
      },
      "outputs": [],
      "source": [
        "import pandas as pd\n",
        "import numpy as np\n",
        "import matplotlib.pyplot as plt\n",
        "\n",
        "from sklearn.datasets import fetch_california_housing\n",
        "from sklearn.linear_model import SGDRegressor\n",
        "\n",
        "from sklearn.metrics import mean_squared_error\n",
        "from sklearn.metrics import mean_absolute_error\n",
        "\n",
        "from sklearn.model_selection import cross_validate\n",
        "from sklearn.model_selection import cross_val_score\n",
        "from sklearn.model_selection import train_test_split\n",
        "from sklearn.model_selection import ShuffleSplit\n",
        "from sklearn.model_selection import validation_curve\n",
        "\n",
        "from sklearn.pipeline import Pipeline\n",
        "from sklearn.preprocessing import StandardScaler"
      ]
    },
    {
      "cell_type": "code",
      "source": [
        "# set the random seed\n",
        "np.random.seed(306)"
      ],
      "metadata": {
        "id": "JNg3Zmk6CPrG"
      },
      "execution_count": 24,
      "outputs": []
    },
    {
      "cell_type": "code",
      "source": [
        "# use shuffle split as cv strategy:\n",
        "shuffle_split_cv = ShuffleSplit(n_splits=10, test_size=0.2, random_state=0)"
      ],
      "metadata": {
        "id": "OuFoYVNxCRLe"
      },
      "execution_count": 25,
      "outputs": []
    },
    {
      "cell_type": "code",
      "source": [
        "# Lets load the data and split into training and test\n",
        "\n",
        "features, labels = fetch_california_housing(as_frame = True, \n",
        "                                            return_X_y = True)\n",
        "com_train_features, test_features, com_train_labels, test_labels = train_test_split(features,\n",
        "                                                                                    labels,\n",
        "                                                                                    random_state = 42)\n"
      ],
      "metadata": {
        "id": "ACZsV8shCaAI"
      },
      "execution_count": 26,
      "outputs": []
    },
    {
      "cell_type": "code",
      "source": [
        "# divide the training data into train and dev sets\n",
        "# dev part can be used for tuning the hyperparameters\n",
        "train_features, dev_features, train_labels, dev_labels = train_test_split(com_train_features, com_train_labels, random_state = 42)\n"
      ],
      "metadata": {
        "id": "vWQ7fjnhDtBa"
      },
      "execution_count": 27,
      "outputs": []
    },
    {
      "cell_type": "markdown",
      "source": [
        "# Baseline SGDRegressor"
      ],
      "metadata": {
        "id": "x-u_na-wETNe"
      }
    },
    {
      "cell_type": "code",
      "source": [
        "# Step 1 : To begin with we instantiate a baseline SGDRegressor model with default parameters\n",
        "# Step 2 : Train the model with training feature matrix and labels\n",
        "# Step 3 : Obtain the score on the training and devel data."
      ],
      "metadata": {
        "id": "tmOzgGYcEQCG"
      },
      "execution_count": 28,
      "outputs": []
    },
    {
      "cell_type": "code",
      "source": [
        "sgd = SGDRegressor(random_state = 42)\n",
        "sgd.fit(train_features, train_labels)\n",
        "\n",
        "train_mae = mean_absolute_error(train_labels, sgd.predict(train_features))\n",
        "dev_mae = mean_absolute_error(dev_labels, sgd.predict(dev_features))\n",
        "print (\"Mean absolute error on Training set: \", train_mae)\n",
        "print (\"Mean absolute error on development set: \", dev_mae)"
      ],
      "metadata": {
        "colab": {
          "base_uri": "https://localhost:8080/"
        },
        "id": "spyjm16NElrQ",
        "outputId": "d05b55eb-661d-4470-c99a-5911fd3f821a"
      },
      "execution_count": 29,
      "outputs": [
        {
          "output_type": "stream",
          "name": "stdout",
          "text": [
            "Mean absolute error on Training set:  327898229800533.8\n",
            "Mean absolute error on development set:  331110341291405.44\n"
          ]
        }
      ]
    },
    {
      "cell_type": "markdown",
      "source": [
        "We can observe that the mean absolute error is too high. The baseline model does not train well.\n",
        "This may happen due to large learning rate. Let's investigate this issue by training the model\n",
        "step by step and recording training loss in each step."
      ],
      "metadata": {
        "id": "XYXkpkRMFTG7"
      }
    },
    {
      "cell_type": "markdown",
      "source": [
        "# Adding a feature scaling step:\n",
        "\n"
      ],
      "metadata": {
        "id": "n_oCL12KFV1x"
      }
    },
    {
      "cell_type": "code",
      "source": [
        "sgd_pipeline = Pipeline([(\"feature_scaling\", StandardScaler()),\n",
        "                         (\"sgd\", SGDRegressor())])\n",
        "sgd_pipeline.fit(train_features, train_labels)\n",
        "\n",
        "train_mae = mean_absolute_error(train_labels, sgd_pipeline.predict(train_features))\n",
        "dev_mae = mean_absolute_error(dev_labels, sgd_pipeline.predict(dev_features))\n",
        "print(train_mae)\n",
        "print(dev_mae)"
      ],
      "metadata": {
        "colab": {
          "base_uri": "https://localhost:8080/"
        },
        "id": "Y4efprgDFqBC",
        "outputId": "9d101617-2a5a-48b1-c748-30577d08f67f"
      },
      "execution_count": 30,
      "outputs": [
        {
          "output_type": "stream",
          "name": "stdout",
          "text": [
            "0.5135804404077051\n",
            "0.6373131245753217\n"
          ]
        }
      ]
    },
    {
      "cell_type": "markdown",
      "source": [
        "The error is still high, let's run SGDRegressor step by step and investigate issues with training."
      ],
      "metadata": {
        "id": "WG5jlEGRFfts"
      }
    },
    {
      "cell_type": "markdown",
      "source": [
        "# Step wise training of SGDRegressor"
      ],
      "metadata": {
        "id": "PLS9OSl3GZb4"
      }
    },
    {
      "cell_type": "markdown",
      "source": [
        "STEP 1: Instantiate SGDRegressor with warm_start=True and tol=-np.infty .\n",
        "\n",
        "STEP 2: Train SGD step by step and record regression loss in each step.\n",
        "\n",
        "STEP 3: Plot learning curves and see if there are any issues in training."
      ],
      "metadata": {
        "id": "-SkzTES_Gdu_"
      }
    },
    {
      "cell_type": "code",
      "source": [
        "eta0 = 1e-2\n",
        "sgd_pipeline = Pipeline([(\"feature_scaling\", StandardScaler()),\n",
        "                         (\"SGD\", SGDRegressor(max_iter=1,\n",
        "                                              tol=-np.infty,\n",
        "                                              warm_start=True,\n",
        "                                              random_state=42))])\n",
        "\n",
        "loss = []\n",
        "\n",
        "for epoch in range(100):\n",
        "  sgd_pipeline.fit(train_features, train_labels) # continues where it left off\n",
        "  loss.append(mean_squared_error(train_labels,\n",
        "                                 sgd_pipeline.predict(train_features)))\n",
        "\n",
        "plt.plot(np.arange(len(loss)), loss, 'b-')\n",
        "plt.xlabel('Iteration#')\n",
        "plt.ylabel('MSE')\n",
        "plt.title(f'Learning curve: eta0={eta0:.4f}')"
      ],
      "metadata": {
        "colab": {
          "base_uri": "https://localhost:8080/",
          "height": 312
        },
        "id": "8Fu1rzQNFIl5",
        "outputId": "d43f4139-7d24-4b84-c3ac-6035367d495d"
      },
      "execution_count": 31,
      "outputs": [
        {
          "output_type": "execute_result",
          "data": {
            "text/plain": [
              "Text(0.5, 1.0, 'Learning curve: eta0=0.0100')"
            ]
          },
          "metadata": {},
          "execution_count": 31
        },
        {
          "output_type": "display_data",
          "data": {
            "text/plain": [
              "<Figure size 432x288 with 1 Axes>"
            ],
            "image/png": "[encoded data removed]"
          },
          "metadata": {
            "needs_background": "light"
          }
        }
      ]
    },
    {
      "cell_type": "code",
      "source": [
        "# The loss reduced initialy and then increased. This could be due to large learning rates. We will\n",
        "# reduce the learning rate by a factor of 10 and retry the training.\n",
        "\n"
      ],
      "metadata": {
        "id": "_ummiiaIG-iT"
      },
      "execution_count": 32,
      "outputs": []
    },
    {
      "cell_type": "code",
      "source": [
        "eta0 = 1e-3\n",
        "# using invscaling the learning rate is reduced in every step\n",
        "\n",
        "sgd_pipeline = Pipeline([(\"feature_scaling\", StandardScaler()),\n",
        "                         (\"SGD\", SGDRegressor(max_iter=1,\n",
        "                                              tol=-np.infty,\n",
        "                                              warm_start=True,\n",
        "                                              eta0=eta0,\n",
        "                                              random_state=42))])\n",
        "\n",
        "loss = []\n",
        "\n",
        "for epoch in range(100):\n",
        "  sgd_pipeline.fit(train_features, train_labels) # continues where it left off\n",
        "  loss.append(mean_squared_error(train_labels,\n",
        "                                 sgd_pipeline.predict(train_features)))\n",
        "  \n",
        "plt.plot(np.arange(len(loss)), loss, 'b-')\n",
        "plt.xlabel('Iteration#')\n",
        "plt.ylabel('MSE')\n",
        "plt.title(f'Learning curve: eta0={eta0:.4f}')"
      ],
      "metadata": {
        "colab": {
          "base_uri": "https://localhost:8080/",
          "height": 312
        },
        "id": "gdbfiiCFHHgf",
        "outputId": "7e512fe9-713e-43c2-8be2-973f1ac7e117"
      },
      "execution_count": 33,
      "outputs": [
        {
          "output_type": "execute_result",
          "data": {
            "text/plain": [
              "Text(0.5, 1.0, 'Learning curve: eta0=0.0010')"
            ]
          },
          "metadata": {},
          "execution_count": 33
        },
        {
          "output_type": "display_data",
          "data": {
            "text/plain": [
              "<Figure size 432x288 with 1 Axes>"
            ],
            "image/png": "[encoded data removed]"
          },
          "metadata": {
            "needs_background": "light"
          }
        }
      ]
    },
    {
      "cell_type": "markdown",
      "source": [
        "This is an ideal learning curve where the train loss reduces monotonically as the training\n",
        "progresses."
      ],
      "metadata": {
        "id": "L0XzfIlpHZGQ"
      }
    },
    {
      "cell_type": "code",
      "source": [
        "print (\"#iteration before reaching convergence criteria:\",sgd_pipeline[-1].n_iter_)\n",
        "print (\"#weight updates:\", sgd_pipeline[-1].t_)"
      ],
      "metadata": {
        "id": "3FmGy-_zHVEU",
        "colab": {
          "base_uri": "https://localhost:8080/"
        },
        "outputId": "623134e1-33a1-41c2-df51-0781bb87178c"
      },
      "execution_count": 34,
      "outputs": [
        {
          "output_type": "stream",
          "name": "stdout",
          "text": [
            "#iteration before reaching convergence criteria: 1\n",
            "#weight updates: 11611.0\n"
          ]
        }
      ]
    },
    {
      "cell_type": "code",
      "source": [
        "train_mae = mean_absolute_error(train_labels, sgd_pipeline.predict(train_features))\n",
        "dev_mae = mean_absolute_error(dev_labels, sgd_pipeline.predict(dev_features))\n",
        "print (\"Mean absolute error on Training set: \", train_mae)\n",
        "print (\"Mean absolute error on development set: \", dev_mae)"
      ],
      "metadata": {
        "colab": {
          "base_uri": "https://localhost:8080/"
        },
        "id": "940diuUxfK8e",
        "outputId": "f6c23325-9232-452d-b21f-73328eefb897"
      },
      "execution_count": 35,
      "outputs": [
        {
          "output_type": "stream",
          "name": "stdout",
          "text": [
            "Mean absolute error on Training set:  0.5333732983042573\n",
            "Mean absolute error on development set:  0.5190150280908042\n"
          ]
        }
      ]
    },
    {
      "cell_type": "markdown",
      "source": [
        "# Fixing learning rate through validation curves"
      ],
      "metadata": {
        "id": "B6Bxzpd4fgpa"
      }
    },
    {
      "cell_type": "markdown",
      "source": [
        "Alternate way"
      ],
      "metadata": {
        "id": "3bVSSbjXflBK"
      }
    },
    {
      "cell_type": "markdown",
      "source": [
        "STEP 1: Provide the list of values to be tried for a hyper-parameter.\n",
        "\n",
        "STEP 2: Instantiate an object of validation_curve with estimator, training features and\n",
        "label. Set scoring parameter to relevant score.\n",
        "Fixing learning rate through validation curves\n",
        "\n",
        "STEP 3: Convert scores to error\n",
        "\n",
        "STEP 4: Plot validation curve with the value of hyper-parameter on x-axis and error on the\n",
        "y-axis.\n",
        "\n",
        "STEP 5: Fix the hyper-parameter value where the test error is the least."
      ],
      "metadata": {
        "id": "10V9jgyCfoiJ"
      }
    },
    {
      "cell_type": "code",
      "source": [
        "%%time\n",
        "eta0 = [1e-5, 1e-4, 1e-3, 1e-2] # provide values in ascending values\n",
        "train_scores, test_scores = validation_curve(sgd_pipeline, \n",
        "                                             com_train_features, \n",
        "                                             com_train_labels, \n",
        "                                             param_name=\"SGD__eta0\",\n",
        "                                             param_range=eta0, \n",
        "                                             cv=shuffle_split_cv,\n",
        "                                             scoring=\"neg_mean_squared_error\",\n",
        "                                             n_jobs=2)\n",
        "train_errors, test_errors = -train_scores, -test_scores"
      ],
      "metadata": {
        "colab": {
          "base_uri": "https://localhost:8080/"
        },
        "id": "FCZcvuhzfcqD",
        "outputId": "9cd948a8-9ff9-4df2-af8d-390eb1530597"
      },
      "execution_count": 36,
      "outputs": [
        {
          "output_type": "stream",
          "name": "stdout",
          "text": [
            "CPU times: user 178 ms, sys: 156 ms, total: 335 ms\n",
            "Wall time: 2.38 s\n"
          ]
        }
      ]
    },
    {
      "cell_type": "code",
      "source": [
        "train_errors, test_errors = -train_scores, -test_scores\n",
        "plt.plot(eta0, train_errors.mean(axis=1), 'b-x', label=\"Training error\")\n",
        "plt.plot(eta0, test_errors.mean(axis=1), 'r-x', label=\"Test error\")\n",
        "plt.legend()\n",
        "plt.xlabel(\"eta0\")\n",
        "plt.ylabel(\"Mean absolute error (k$)\")\n",
        "_ = plt.title(\"Validation curve for SGD\")"
      ],
      "metadata": {
        "colab": {
          "base_uri": "https://localhost:8080/",
          "height": 295
        },
        "id": "UmeSQ1VugAvs",
        "outputId": "8e6f5119-00d2-404e-897c-a62332e491f9"
      },
      "execution_count": 37,
      "outputs": [
        {
          "output_type": "display_data",
          "data": {
            "text/plain": [
              "<Figure size 432x288 with 1 Axes>"
            ],
            "image/png": "[encoded data removed]"
          },
          "metadata": {
            "needs_background": "light"
          }
        }
      ]
    },
    {
      "cell_type": "markdown",
      "source": [
        "For eta0=1e-3 , the test error is the least and hence we select that value as the value for eta0 ."
      ],
      "metadata": {
        "id": "aExN8JXUgmXC"
      }
    },
    {
      "cell_type": "code",
      "source": [
        "plt.errorbar(eta0, train_errors.mean(axis=1),\n",
        "             yerr=train_errors.std(axis=1),\n",
        "             label='Training error')\n",
        "\n",
        "plt.errorbar(eta0, test_errors.mean(axis=1),\n",
        "             yerr=test_errors.std(axis=1),\n",
        "             label='Testing error')\n",
        "\n",
        "plt.legend()\n",
        "plt.xlabel(\"eta0\")\n",
        "plt.ylabel(\"Mean absolute error (k$)\")\n",
        "_ = plt.title(\"Validation curve for SGD\")"
      ],
      "metadata": {
        "colab": {
          "base_uri": "https://localhost:8080/",
          "height": 295
        },
        "id": "eV9cSlQxgJRd",
        "outputId": "4f8b9e1f-374a-48fd-f9ad-9ea5f8745b15"
      },
      "execution_count": 38,
      "outputs": [
        {
          "output_type": "display_data",
          "data": {
            "text/plain": [
              "<Figure size 432x288 with 1 Axes>"
            ],
            "image/png": "[encoded data removed]"
          },
          "metadata": {
            "needs_background": "light"
          }
        }
      ]
    },
    {
      "cell_type": "markdown",
      "source": [
        "# SGDRegressor"
      ],
      "metadata": {
        "id": "J4641lsAg0da"
      }
    },
    {
      "cell_type": "code",
      "source": [
        "sgd_pipeline = Pipeline([(\"feature_scaling\", StandardScaler()),\n",
        "                         (\"sgd\", SGDRegressor(max_iter=500,\n",
        "                                              early_stopping=True,\n",
        "                                              eta0=1e-3,\n",
        "                                              tol=1e-3,\n",
        "                                              validation_fraction=0.2,\n",
        "                                              n_iter_no_change=5,\n",
        "                                              average=10,\n",
        "                                              random_state=42))])\n",
        "sgd_pipeline.fit(train_features, train_labels)"
      ],
      "metadata": {
        "colab": {
          "base_uri": "https://localhost:8080/"
        },
        "id": "djMZv3Zxgxig",
        "outputId": "0fa9612e-5bc6-4772-c277-ea51caf9ee47"
      },
      "execution_count": 39,
      "outputs": [
        {
          "output_type": "execute_result",
          "data": {
            "text/plain": [
              "Pipeline(steps=[('feature_scaling', StandardScaler()),\n",
              "                ('sgd',\n",
              "                 SGDRegressor(average=10, early_stopping=True, eta0=0.001,\n",
              "                              max_iter=500, random_state=42,\n",
              "                              validation_fraction=0.2))])"
            ]
          },
          "metadata": {},
          "execution_count": 39
        }
      ]
    },
    {
      "cell_type": "code",
      "source": [
        "train_mae = mean_absolute_error(train_labels, sgd_pipeline.predict(train_features))\n",
        "dev_mae = mean_absolute_error(dev_labels, sgd_pipeline.predict(dev_features))\n",
        "print (\"Mean absolute error on Training set: \", train_mae)\n",
        "print (\"Mean absolute error on development set: \", dev_mae)"
      ],
      "metadata": {
        "colab": {
          "base_uri": "https://localhost:8080/"
        },
        "id": "GeMOaPEmg-pp",
        "outputId": "ce291587-2907-449f-c8fc-75556b3b1926"
      },
      "execution_count": 40,
      "outputs": [
        {
          "output_type": "stream",
          "name": "stdout",
          "text": [
            "Mean absolute error on Training set:  0.579376454514559\n",
            "Mean absolute error on development set:  0.5689180241137523\n"
          ]
        }
      ]
    },
    {
      "cell_type": "code",
      "source": [
        "print (\"Number of SGD iterations: \", sgd_pipeline[-1].n_iter_)\n",
        "print (\"Number of weight updates: \", sgd_pipeline[-1].t_)"
      ],
      "metadata": {
        "colab": {
          "base_uri": "https://localhost:8080/"
        },
        "id": "YgGmnvKChCT6",
        "outputId": "d322784c-f4a9-4dbf-8518-6d9077bf9893"
      },
      "execution_count": 41,
      "outputs": [
        {
          "output_type": "stream",
          "name": "stdout",
          "text": [
            "Number of SGD iterations:  7\n",
            "Number of weight updates:  81271.0\n"
          ]
        }
      ]
    },
    {
      "cell_type": "code",
      "source": [
        "sgd_pipeline = Pipeline([(\"feature_scaling\", StandardScaler()),\n",
        "                         (\"sgd\", SGDRegressor(max_iter=500,\n",
        "                                              early_stopping=True,\n",
        "                                              eta0=1e-3,\n",
        "                                              tol=1e-3,\n",
        "                                              learning_rate='constant',\n",
        "                                              validation_fraction=0.2,\n",
        "                                              n_iter_no_change=5,\n",
        "                                              average=10,\n",
        "                                              random_state=42))])\n",
        "sgd_pipeline.fit(train_features, train_labels)"
      ],
      "metadata": {
        "colab": {
          "base_uri": "https://localhost:8080/"
        },
        "id": "pGI6lQuRhEUU",
        "outputId": "3eb72e0e-6540-4f65-a366-9430bb10214f"
      },
      "execution_count": 42,
      "outputs": [
        {
          "output_type": "execute_result",
          "data": {
            "text/plain": [
              "Pipeline(steps=[('feature_scaling', StandardScaler()),\n",
              "                ('sgd',\n",
              "                 SGDRegressor(average=10, early_stopping=True, eta0=0.001,\n",
              "                              learning_rate='constant', max_iter=500,\n",
              "                              random_state=42, validation_fraction=0.2))])"
            ]
          },
          "metadata": {},
          "execution_count": 42
        }
      ]
    },
    {
      "cell_type": "code",
      "source": [
        "\n",
        "train_mae = mean_absolute_error(train_labels, sgd_pipeline.predict(train_features))\n",
        "dev_mae = mean_absolute_error(dev_labels, sgd_pipeline.predict(dev_features))\n",
        "print (\"Mean absolute error on Training set: \", train_mae)\n",
        "print (\"Mean absolute error on development set: \", dev_mae)"
      ],
      "metadata": {
        "colab": {
          "base_uri": "https://localhost:8080/"
        },
        "id": "6N_LFYHUhJht",
        "outputId": "54156021-e1e2-4600-fdc6-aaf73d2e1fb5"
      },
      "execution_count": 43,
      "outputs": [
        {
          "output_type": "stream",
          "name": "stdout",
          "text": [
            "Mean absolute error on Training set:  0.5359339681114987\n",
            "Mean absolute error on development set:  0.5151099728924144\n"
          ]
        }
      ]
    },
    {
      "cell_type": "markdown",
      "source": [
        "# Setting max_iters"
      ],
      "metadata": {
        "id": "-3knPHh1pdcy"
      }
    },
    {
      "cell_type": "code",
      "source": [
        "max_iter = np.ceil(1e6/com_train_features.shape[0])\n",
        "max_iter"
      ],
      "metadata": {
        "colab": {
          "base_uri": "https://localhost:8080/"
        },
        "id": "VFZMWPEehWVp",
        "outputId": "41345531-983b-459b-c5a8-ecd16a192067"
      },
      "execution_count": 44,
      "outputs": [
        {
          "output_type": "execute_result",
          "data": {
            "text/plain": [
              "65.0"
            ]
          },
          "metadata": {},
          "execution_count": 44
        }
      ]
    },
    {
      "cell_type": "code",
      "source": [
        "sgd_pipeline = Pipeline([(\"feature_scaling\", StandardScaler()),\n",
        "(\"sgd\", SGDRegressor(max_iter=max_iter,\n",
        "early_stopping=True,\n",
        "eta0=1e-3,\n",
        "tol=1e-3,\n",
        "learning_rate='constant',\n",
        "validation_fraction=0.2,\n",
        "n_iter_no_change=5,\n",
        "average=10,\n",
        "random_state=42))])\n",
        "sgd_pipeline.fit(train_features, train_labels)"
      ],
      "metadata": {
        "colab": {
          "base_uri": "https://localhost:8080/"
        },
        "id": "vgRDVmy3pmyP",
        "outputId": "b772f785-c520-432a-d13f-b35bdeda2a20"
      },
      "execution_count": 45,
      "outputs": [
        {
          "output_type": "execute_result",
          "data": {
            "text/plain": [
              "Pipeline(steps=[('feature_scaling', StandardScaler()),\n",
              "                ('sgd',\n",
              "                 SGDRegressor(average=10, early_stopping=True, eta0=0.001,\n",
              "                              learning_rate='constant', max_iter=65.0,\n",
              "                              random_state=42, validation_fraction=0.2))])"
            ]
          },
          "metadata": {},
          "execution_count": 45
        }
      ]
    },
    {
      "cell_type": "code",
      "source": [
        "train_mae = mean_absolute_error(train_labels, sgd_pipeline.predict(train_features))\n",
        "dev_mae = mean_absolute_error(dev_labels, sgd_pipeline.predict(dev_features))\n",
        "print (\"Mean absolute error on Training set: \", train_mae)\n",
        "print (\"Mean absolute error on development set: \", dev_mae)"
      ],
      "metadata": {
        "colab": {
          "base_uri": "https://localhost:8080/"
        },
        "id": "IaTxYL_OprjX",
        "outputId": "72202565-0a3b-4646-96e1-ae6afb24bb60"
      },
      "execution_count": 46,
      "outputs": [
        {
          "output_type": "stream",
          "name": "stdout",
          "text": [
            "Mean absolute error on Training set:  0.5359339681114987\n",
            "Mean absolute error on development set:  0.5151099728924144\n"
          ]
        }
      ]
    },
    {
      "cell_type": "code",
      "source": [
        "print (\"\\nNumber of SGD iterations: \", sgd_pipeline[-1].n_iter_)\n",
        "print (\"Number of weight updates: \", sgd_pipeline[-1].t_)"
      ],
      "metadata": {
        "colab": {
          "base_uri": "https://localhost:8080/"
        },
        "id": "d4UiEqQIpsIM",
        "outputId": "68c3735a-f6f7-4b54-b2a1-5e567f2764e6"
      },
      "execution_count": 47,
      "outputs": [
        {
          "output_type": "stream",
          "name": "stdout",
          "text": [
            "\n",
            "Number of SGD iterations:  8\n",
            "Number of weight updates:  92881.0\n"
          ]
        }
      ]
    },
    {
      "cell_type": "code",
      "source": [],
      "metadata": {
        "id": "Ttq38yNSpuM3"
      },
      "execution_count": null,
      "outputs": []
    },
    {
      "cell_type": "markdown",
      "source": [
        "In this notebook, we saw:\n",
        "\n",
        "how to build SGDRegreesor model.\n",
        "\n",
        "1.   how to tune the learning rate.\n",
        "2.   how to use different learning_rate s and their impact on convergence.\n",
        "3. how to use early stopping and averaged SGD.\n",
        "4. how to tune hyperparameters with validation curves.\n",
        "\n",
        "\n",
        "\n",
        "\n",
        "\n",
        "\n",
        "\n",
        "\n"
      ],
      "metadata": {
        "id": "I6C3GURupv4z"
      }
    },
    {
      "cell_type": "code",
      "source": [],
      "metadata": {
        "id": "CSiFGmOjpwSx"
      },
      "execution_count": null,
      "outputs": []
    }
  ]
}