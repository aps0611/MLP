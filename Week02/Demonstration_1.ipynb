{
  "nbformat": 4,
  "nbformat_minor": 0,
  "metadata": {
    "colab": {
      "provenance": [],
      "toc_visible": true
    },
    "kernelspec": {
      "name": "python3",
      "display_name": "Python 3"
    },
    "language_info": {
      "name": "python"
    }
  },
  "cells": [
    {
      "cell_type": "markdown",
      "source": [
        "There are many data preprocessing techniques:\n",
        "\n",
        "1. Data Cleaning;\n",
        "  \n",
        "  1. Data imputation\n",
        "  2. Feature Scaling\n",
        "\n",
        "\n",
        "2. Feature Transformation:\n",
        "  1. Polynomial Features\n",
        "  2. Discretization\n",
        "  3. Handling categorical features\n",
        "  4. Custom Transformers\n",
        "  5. Composite Transformers\n",
        "    1. Transformation to diverse features\n",
        "    2. TargetTransformedRegressor\n",
        "\n",
        "3. Feature Selection\n",
        "  1. Filterbased selection\n",
        "  2. Wrapper based selection\n",
        "\n",
        "4. Feature Extraction\n",
        "  1. PCA"
      ],
      "metadata": {
        "id": "3j6tIvW9WgPL"
      }
    },
    {
      "cell_type": "markdown",
      "source": [
        "# Import Basic Libraries"
      ],
      "metadata": {
        "id": "Sx2D-myhXwIL"
      }
    },
    {
      "cell_type": "code",
      "execution_count": 1,
      "metadata": {
        "id": "gBjC9EMNWYYB"
      },
      "outputs": [],
      "source": [
        "import numpy as np\n",
        "import matplotlib.pyplot as plt\n",
        "import pandas as pd\n",
        "import seaborn as sns\n",
        "sns.set_theme(style = 'whitegrid')"
      ]
    },
    {
      "cell_type": "markdown",
      "source": [
        "# 1. Feature Extraction"
      ],
      "metadata": {
        "id": "21JJNQzjX_1H"
      }
    },
    {
      "cell_type": "markdown",
      "source": [
        "## DictVectorizer"
      ],
      "metadata": {
        "id": "qlmgHNurYHX2"
      }
    },
    {
      "cell_type": "code",
      "source": [
        "# many times data is present as list of dictonary objects. ML algorithms expect the data in matrix form with shape (n,m) where n is number of samples and m is number of features.\n",
        "# dict object >>> feature matrix\n",
        "\n",
        "# create a sample data\n",
        "\n",
        "data = [{'age':4, 'ht':96.0},\n",
        "        {'age':5, 'ht':97.0},\n",
        "        {'age':6, 'ht':98.0},\n",
        "        {'age':7, 'ht':99.0},]"
      ],
      "metadata": {
        "id": "XbmY_-1HX7-o"
      },
      "execution_count": 2,
      "outputs": []
    },
    {
      "cell_type": "code",
      "source": [
        "# convert this to feature matrix\n",
        "\n",
        "# import dictvectorizer\n",
        "from sklearn.feature_extraction import DictVectorizer\n",
        "dv = DictVectorizer(sparse = False)\n",
        "data_transformed = dv.fit_transform(data)\n",
        "\n",
        "data_transformed"
      ],
      "metadata": {
        "colab": {
          "base_uri": "https://localhost:8080/"
        },
        "id": "DjJ6B0vSYZhW",
        "outputId": "6f626f9d-732d-44e2-ac54-01c1bae228a4"
      },
      "execution_count": 3,
      "outputs": [
        {
          "output_type": "execute_result",
          "data": {
            "text/plain": [
              "array([[ 4., 96.],\n",
              "       [ 5., 97.],\n",
              "       [ 6., 98.],\n",
              "       [ 7., 99.]])"
            ]
          },
          "metadata": {},
          "execution_count": 3
        }
      ]
    },
    {
      "cell_type": "code",
      "source": [
        "# shape : samples : 4 and with features = 2\n",
        "\n",
        "data_transformed.shape"
      ],
      "metadata": {
        "colab": {
          "base_uri": "https://localhost:8080/"
        },
        "id": "dF0Nau5nZJT-",
        "outputId": "1e172873-b509-4427-ed7f-a28f409edfb8"
      },
      "execution_count": 4,
      "outputs": [
        {
          "output_type": "execute_result",
          "data": {
            "text/plain": [
              "(4, 2)"
            ]
          },
          "metadata": {},
          "execution_count": 4
        }
      ]
    },
    {
      "cell_type": "markdown",
      "source": [
        "# 2. Data Imputation"
      ],
      "metadata": {
        "id": "fQKSTWMWYY4I"
      }
    },
    {
      "cell_type": "markdown",
      "source": [
        "Many ML algorithms need full feature matrix and they may not work in presence of missing data"
      ],
      "metadata": {
        "id": "gmvBB9ZMZaLF"
      }
    },
    {
      "cell_type": "code",
      "source": [
        "# import imputer\n",
        "from sklearn.impute import SimpleImputer"
      ],
      "metadata": {
        "id": "-s9T3tE1YCV6"
      },
      "execution_count": 5,
      "outputs": []
    },
    {
      "cell_type": "code",
      "source": [
        "SimpleImputer?"
      ],
      "metadata": {
        "id": "OCOHE1SgZ0co"
      },
      "execution_count": 6,
      "outputs": []
    },
    {
      "cell_type": "code",
      "source": [
        "# data imputation on real world dataset;\n",
        "\n",
        "cols = ['age','sex','cp','trestbps','chol', 'fbs', 'restecg', 'thalach','exang', 'oldpeak','slope','ca','thal','num']\n",
        "heart_data = pd.read_csv('https://archive.ics.uci.edu/ml/machine-learning-databases/heart-disease/processed.cleveland.data', header = None, names = cols)"
      ],
      "metadata": {
        "id": "76eiT31BZ66w"
      },
      "execution_count": 7,
      "outputs": []
    },
    {
      "cell_type": "code",
      "source": [
        "# check if there are any missing values\n",
        "heart_data.info()"
      ],
      "metadata": {
        "colab": {
          "base_uri": "https://localhost:8080/"
        },
        "id": "VDFsOcdrbyEY",
        "outputId": "d47b4b38-31a3-4a32-b8be-2311677f0119"
      },
      "execution_count": 8,
      "outputs": [
        {
          "output_type": "stream",
          "name": "stdout",
          "text": [
            "<class 'pandas.core.frame.DataFrame'>\n",
            "RangeIndex: 303 entries, 0 to 302\n",
            "Data columns (total 14 columns):\n",
            " #   Column    Non-Null Count  Dtype  \n",
            "---  ------    --------------  -----  \n",
            " 0   age       303 non-null    float64\n",
            " 1   sex       303 non-null    float64\n",
            " 2   cp        303 non-null    float64\n",
            " 3   trestbps  303 non-null    float64\n",
            " 4   chol      303 non-null    float64\n",
            " 5   fbs       303 non-null    float64\n",
            " 6   restecg   303 non-null    float64\n",
            " 7   thalach   303 non-null    float64\n",
            " 8   exang     303 non-null    float64\n",
            " 9   oldpeak   303 non-null    float64\n",
            " 10  slope     303 non-null    float64\n",
            " 11  ca        303 non-null    object \n",
            " 12  thal      303 non-null    object \n",
            " 13  num       303 non-null    int64  \n",
            "dtypes: float64(11), int64(1), object(2)\n",
            "memory usage: 33.3+ KB\n"
          ]
        }
      ]
    },
    {
      "cell_type": "code",
      "source": [
        "# lets check if there are missing values in numerical columns\n",
        "\n",
        "heart_data.isnull().sum()"
      ],
      "metadata": {
        "colab": {
          "base_uri": "https://localhost:8080/"
        },
        "id": "1Cfh4AYnb1wF",
        "outputId": "62746764-6a17-4e6c-dcd7-6aa4aeb487d4"
      },
      "execution_count": 9,
      "outputs": [
        {
          "output_type": "execute_result",
          "data": {
            "text/plain": [
              "age         0\n",
              "sex         0\n",
              "cp          0\n",
              "trestbps    0\n",
              "chol        0\n",
              "fbs         0\n",
              "restecg     0\n",
              "thalach     0\n",
              "exang       0\n",
              "oldpeak     0\n",
              "slope       0\n",
              "ca          0\n",
              "thal        0\n",
              "num         0\n",
              "dtype: int64"
            ]
          },
          "metadata": {},
          "execution_count": 9
        }
      ]
    },
    {
      "cell_type": "code",
      "source": [
        "# lets check for non-numerical featuers- i.e. ca and thal\n",
        "\n",
        "heart_data.ca.unique()\n"
      ],
      "metadata": {
        "colab": {
          "base_uri": "https://localhost:8080/"
        },
        "id": "KyZsbOhHcdaQ",
        "outputId": "4ce0e478-5431-4457-ff84-5434b36c14a2"
      },
      "execution_count": 10,
      "outputs": [
        {
          "output_type": "execute_result",
          "data": {
            "text/plain": [
              "array(['0.0', '3.0', '2.0', '1.0', '?'], dtype=object)"
            ]
          },
          "metadata": {},
          "execution_count": 10
        }
      ]
    },
    {
      "cell_type": "code",
      "source": [
        "heart_data.thal.unique()"
      ],
      "metadata": {
        "colab": {
          "base_uri": "https://localhost:8080/"
        },
        "id": "Oeq3Nau2ckK_",
        "outputId": "51907471-6e78-4d9f-9f50-80cf7038e979"
      },
      "execution_count": 11,
      "outputs": [
        {
          "output_type": "execute_result",
          "data": {
            "text/plain": [
              "array(['6.0', '3.0', '7.0', '?'], dtype=object)"
            ]
          },
          "metadata": {},
          "execution_count": 11
        }
      ]
    },
    {
      "cell_type": "code",
      "source": [
        "# presence of ? indicates there are some missing values"
      ],
      "metadata": {
        "id": "C1GAtzlAcuZg"
      },
      "execution_count": 12,
      "outputs": []
    },
    {
      "cell_type": "code",
      "source": [
        "print('#missing values in ca:',\n",
        "      heart_data.loc[heart_data.ca=='?','ca'].count())\n",
        "\n",
        "print('#missing values in thal:',\n",
        "      heart_data.loc[heart_data.thal=='?','thal'].count())"
      ],
      "metadata": {
        "colab": {
          "base_uri": "https://localhost:8080/"
        },
        "id": "kpUQ1vy3c0CH",
        "outputId": "5d872998-5b8b-4fde-f3da-e50b3f037c2c"
      },
      "execution_count": 13,
      "outputs": [
        {
          "output_type": "stream",
          "name": "stdout",
          "text": [
            "#missing values in ca: 4\n",
            "#missing values in thal: 2\n"
          ]
        }
      ]
    },
    {
      "cell_type": "code",
      "source": [
        "# now we repalce ? with nan\n",
        "\n",
        "heart_data.replace('?', np.nan, inplace = True)"
      ],
      "metadata": {
        "id": "WOO40_kcdI3M"
      },
      "execution_count": 14,
      "outputs": []
    },
    {
      "cell_type": "code",
      "source": [
        "# now we fill the missing value with sklearn imputation utilities\n",
        "\n",
        "# add_indicator = False : Default choice that only imputes the missing values\n",
        "\n",
        "imputer = SimpleImputer(missing_values = np.nan, strategy = 'mean')\n",
        "imputer = imputer.fit(heart_data)\n",
        "heart_data_imputed = imputer.transform(heart_data)\n",
        "print(heart_data_imputed.shape)"
      ],
      "metadata": {
        "colab": {
          "base_uri": "https://localhost:8080/"
        },
        "id": "8zPOp8lOdc16",
        "outputId": "121dd7a2-316b-40fb-c251-17fa42a8b686"
      },
      "execution_count": 15,
      "outputs": [
        {
          "output_type": "stream",
          "name": "stdout",
          "text": [
            "(303, 14)\n"
          ]
        }
      ]
    },
    {
      "cell_type": "code",
      "source": [
        "# add_indicator = True: Adds additional column for each column containing missing values. In our case this adds two columns one for ca and other for thal. It indicates the sample has missing value\n",
        "\n",
        "imputer = SimpleImputer(missing_values = np.nan, strategy = 'mean',\n",
        "                        add_indicator = True)\n",
        "imputer = imputer.fit(heart_data)\n",
        "heart_data_imputed_with_indicator = imputer.transform(heart_data)\n",
        "print(heart_data_imputed_with_indicator.shape)\n"
      ],
      "metadata": {
        "colab": {
          "base_uri": "https://localhost:8080/"
        },
        "id": "l0LTxyoXdzCN",
        "outputId": "9c0338e2-061b-48be-aa66-4a433d383850"
      },
      "execution_count": 16,
      "outputs": [
        {
          "output_type": "stream",
          "name": "stdout",
          "text": [
            "(303, 16)\n"
          ]
        }
      ]
    },
    {
      "cell_type": "markdown",
      "source": [
        "# 3. Feature scaling"
      ],
      "metadata": {
        "id": "sYdIARTdezcp"
      }
    },
    {
      "cell_type": "code",
      "source": [
        "# lets get the data\n",
        "\n",
        "cols = ['sex','length','Diameter','height','whole weight', 'shucked weight', 'viscera weight', 'shell weight', 'Rings']\n",
        "abalone_data = pd.read_csv('https://archive.ics.uci.edu/ml/machine-learning-databases/abalone/abalone.data', header= None, names = cols)"
      ],
      "metadata": {
        "id": "DIXaDOIkeTzw"
      },
      "execution_count": 17,
      "outputs": []
    },
    {
      "cell_type": "code",
      "source": [
        "# Step 1: Examine the dataset\n",
        "\n",
        "# Feature scaling can only be performed on the numerical attributes with info() method.\n",
        "\n",
        "abalone_data.info()"
      ],
      "metadata": {
        "colab": {
          "base_uri": "https://localhost:8080/"
        },
        "id": "qcFrHXkcf6O-",
        "outputId": "97fb2712-ed2f-4df5-9d21-aab3c703d0d7"
      },
      "execution_count": 18,
      "outputs": [
        {
          "output_type": "stream",
          "name": "stdout",
          "text": [
            "<class 'pandas.core.frame.DataFrame'>\n",
            "RangeIndex: 4177 entries, 0 to 4176\n",
            "Data columns (total 9 columns):\n",
            " #   Column          Non-Null Count  Dtype  \n",
            "---  ------          --------------  -----  \n",
            " 0   sex             4177 non-null   object \n",
            " 1   length          4177 non-null   float64\n",
            " 2   Diameter        4177 non-null   float64\n",
            " 3   height          4177 non-null   float64\n",
            " 4   whole weight    4177 non-null   float64\n",
            " 5   shucked weight  4177 non-null   float64\n",
            " 6   viscera weight  4177 non-null   float64\n",
            " 7   shell weight    4177 non-null   float64\n",
            " 8   Rings           4177 non-null   int64  \n",
            "dtypes: float64(7), int64(1), object(1)\n",
            "memory usage: 293.8+ KB\n"
          ]
        }
      ]
    },
    {
      "cell_type": "code",
      "source": [
        "# Step 1a: convert non-numerical attributes to numerical attributes:\n",
        "\n",
        "abalone_data.sex.unique()"
      ],
      "metadata": {
        "colab": {
          "base_uri": "https://localhost:8080/"
        },
        "id": "A2vYn6XWmIzg",
        "outputId": "f38e5b9c-d36f-4c18-b104-becd1f363816"
      },
      "execution_count": 19,
      "outputs": [
        {
          "output_type": "execute_result",
          "data": {
            "text/plain": [
              "array(['M', 'F', 'I'], dtype=object)"
            ]
          },
          "metadata": {},
          "execution_count": 19
        }
      ]
    },
    {
      "cell_type": "code",
      "source": [
        "abalone_data = abalone_data.replace({'sex': {\"M\":1,\n",
        "                                             \"F\":2,\n",
        "                                             \"I\":3}})\n",
        "abalone_data.info()"
      ],
      "metadata": {
        "colab": {
          "base_uri": "https://localhost:8080/"
        },
        "id": "msWOU8DwmXO4",
        "outputId": "f7011e78-7f63-42e6-b6c0-165f685fe893"
      },
      "execution_count": 20,
      "outputs": [
        {
          "output_type": "stream",
          "name": "stdout",
          "text": [
            "<class 'pandas.core.frame.DataFrame'>\n",
            "RangeIndex: 4177 entries, 0 to 4176\n",
            "Data columns (total 9 columns):\n",
            " #   Column          Non-Null Count  Dtype  \n",
            "---  ------          --------------  -----  \n",
            " 0   sex             4177 non-null   int64  \n",
            " 1   length          4177 non-null   float64\n",
            " 2   Diameter        4177 non-null   float64\n",
            " 3   height          4177 non-null   float64\n",
            " 4   whole weight    4177 non-null   float64\n",
            " 5   shucked weight  4177 non-null   float64\n",
            " 6   viscera weight  4177 non-null   float64\n",
            " 7   shell weight    4177 non-null   float64\n",
            " 8   Rings           4177 non-null   int64  \n",
            "dtypes: float64(7), int64(2)\n",
            "memory usage: 293.8 KB\n"
          ]
        }
      ]
    },
    {
      "cell_type": "code",
      "source": [
        "# Step 2 Seperate the labels from the features:\n",
        "\n",
        "y = abalone_data.pop('Rings')\n",
        "abalone_data.info()"
      ],
      "metadata": {
        "colab": {
          "base_uri": "https://localhost:8080/"
        },
        "id": "2hrVQH6moG_v",
        "outputId": "ae3f28fc-6fb6-4bd1-ddc2-be7d6e80fbc8"
      },
      "execution_count": 21,
      "outputs": [
        {
          "output_type": "stream",
          "name": "stdout",
          "text": [
            "<class 'pandas.core.frame.DataFrame'>\n",
            "RangeIndex: 4177 entries, 0 to 4176\n",
            "Data columns (total 8 columns):\n",
            " #   Column          Non-Null Count  Dtype  \n",
            "---  ------          --------------  -----  \n",
            " 0   sex             4177 non-null   int64  \n",
            " 1   length          4177 non-null   float64\n",
            " 2   Diameter        4177 non-null   float64\n",
            " 3   height          4177 non-null   float64\n",
            " 4   whole weight    4177 non-null   float64\n",
            " 5   shucked weight  4177 non-null   float64\n",
            " 6   viscera weight  4177 non-null   float64\n",
            " 7   shell weight    4177 non-null   float64\n",
            "dtypes: float64(7), int64(1)\n",
            "memory usage: 261.2 KB\n"
          ]
        }
      ]
    },
    {
      "cell_type": "code",
      "source": [
        "# Step3: Examine feature scales:\n",
        "\n",
        "abalone_data.describe().T"
      ],
      "metadata": {
        "colab": {
          "base_uri": "https://localhost:8080/",
          "height": 300
        },
        "id": "I0FKA7vXpVXF",
        "outputId": "7c5bd1e5-af73-48e8-ad06-8bc20384ccd9"
      },
      "execution_count": 22,
      "outputs": [
        {
          "output_type": "execute_result",
          "data": {
            "text/plain": [
              "                 count      mean       std     min     25%     50%    75%  \\\n",
              "sex             4177.0  1.955470  0.827815  1.0000  1.0000  2.0000  3.000   \n",
              "length          4177.0  0.523992  0.120093  0.0750  0.4500  0.5450  0.615   \n",
              "Diameter        4177.0  0.407881  0.099240  0.0550  0.3500  0.4250  0.480   \n",
              "height          4177.0  0.139516  0.041827  0.0000  0.1150  0.1400  0.165   \n",
              "whole weight    4177.0  0.828742  0.490389  0.0020  0.4415  0.7995  1.153   \n",
              "shucked weight  4177.0  0.359367  0.221963  0.0010  0.1860  0.3360  0.502   \n",
              "viscera weight  4177.0  0.180594  0.109614  0.0005  0.0935  0.1710  0.253   \n",
              "shell weight    4177.0  0.238831  0.139203  0.0015  0.1300  0.2340  0.329   \n",
              "\n",
              "                   max  \n",
              "sex             3.0000  \n",
              "length          0.8150  \n",
              "Diameter        0.6500  \n",
              "height          1.1300  \n",
              "whole weight    2.8255  \n",
              "shucked weight  1.4880  \n",
              "viscera weight  0.7600  \n",
              "shell weight    1.0050  "
            ],
            "text/html": [
              "\n",
              "  <div id=\"df-0bde880c-7bc0-4e1b-bb18-58b4ff3b13f9\">\n",
              "    <div class=\"colab-df-container\">\n",
              "      <div>\n",
              "<style scoped>\n",
              "    .dataframe tbody tr th:only-of-type {\n",
              "        vertical-align: middle;\n",
              "    }\n",
              "\n",
              "    .dataframe tbody tr th {\n",
              "        vertical-align: top;\n",
              "    }\n",
              "\n",
              "    .dataframe thead th {\n",
              "        text-align: right;\n",
              "    }\n",
              "</style>\n",
              "<table border=\"1\" class=\"dataframe\">\n",
              "  <thead>\n",
              "    <tr style=\"text-align: right;\">\n",
              "      <th></th>\n",
              "      <th>count</th>\n",
              "      <th>mean</th>\n",
              "      <th>std</th>\n",
              "      <th>min</th>\n",
              "      <th>25%</th>\n",
              "      <th>50%</th>\n",
              "      <th>75%</th>\n",
              "      <th>max</th>\n",
              "    </tr>\n",
              "  </thead>\n",
              "  <tbody>\n",
              "    <tr>\n",
              "      <th>sex</th>\n",
              "      <td>4177.0</td>\n",
              "      <td>1.955470</td>\n",
              "      <td>0.827815</td>\n",
              "      <td>1.0000</td>\n",
              "      <td>1.0000</td>\n",
              "      <td>2.0000</td>\n",
              "      <td>3.000</td>\n",
              "      <td>3.0000</td>\n",
              "    </tr>\n",
              "    <tr>\n",
              "      <th>length</th>\n",
              "      <td>4177.0</td>\n",
              "      <td>0.523992</td>\n",
              "      <td>0.120093</td>\n",
              "      <td>0.0750</td>\n",
              "      <td>0.4500</td>\n",
              "      <td>0.5450</td>\n",
              "      <td>0.615</td>\n",
              "      <td>0.8150</td>\n",
              "    </tr>\n",
              "    <tr>\n",
              "      <th>Diameter</th>\n",
              "      <td>4177.0</td>\n",
              "      <td>0.407881</td>\n",
              "      <td>0.099240</td>\n",
              "      <td>0.0550</td>\n",
              "      <td>0.3500</td>\n",
              "      <td>0.4250</td>\n",
              "      <td>0.480</td>\n",
              "      <td>0.6500</td>\n",
              "    </tr>\n",
              "    <tr>\n",
              "      <th>height</th>\n",
              "      <td>4177.0</td>\n",
              "      <td>0.139516</td>\n",
              "      <td>0.041827</td>\n",
              "      <td>0.0000</td>\n",
              "      <td>0.1150</td>\n",
              "      <td>0.1400</td>\n",
              "      <td>0.165</td>\n",
              "      <td>1.1300</td>\n",
              "    </tr>\n",
              "    <tr>\n",
              "      <th>whole weight</th>\n",
              "      <td>4177.0</td>\n",
              "      <td>0.828742</td>\n",
              "      <td>0.490389</td>\n",
              "      <td>0.0020</td>\n",
              "      <td>0.4415</td>\n",
              "      <td>0.7995</td>\n",
              "      <td>1.153</td>\n",
              "      <td>2.8255</td>\n",
              "    </tr>\n",
              "    <tr>\n",
              "      <th>shucked weight</th>\n",
              "      <td>4177.0</td>\n",
              "      <td>0.359367</td>\n",
              "      <td>0.221963</td>\n",
              "      <td>0.0010</td>\n",
              "      <td>0.1860</td>\n",
              "      <td>0.3360</td>\n",
              "      <td>0.502</td>\n",
              "      <td>1.4880</td>\n",
              "    </tr>\n",
              "    <tr>\n",
              "      <th>viscera weight</th>\n",
              "      <td>4177.0</td>\n",
              "      <td>0.180594</td>\n",
              "      <td>0.109614</td>\n",
              "      <td>0.0005</td>\n",
              "      <td>0.0935</td>\n",
              "      <td>0.1710</td>\n",
              "      <td>0.253</td>\n",
              "      <td>0.7600</td>\n",
              "    </tr>\n",
              "    <tr>\n",
              "      <th>shell weight</th>\n",
              "      <td>4177.0</td>\n",
              "      <td>0.238831</td>\n",
              "      <td>0.139203</td>\n",
              "      <td>0.0015</td>\n",
              "      <td>0.1300</td>\n",
              "      <td>0.2340</td>\n",
              "      <td>0.329</td>\n",
              "      <td>1.0050</td>\n",
              "    </tr>\n",
              "  </tbody>\n",
              "</table>\n",
              "</div>\n",
              "      <button class=\"colab-df-convert\" onclick=\"convertToInteractive('df-0bde880c-7bc0-4e1b-bb18-58b4ff3b13f9')\"\n",
              "              title=\"Convert this dataframe to an interactive table.\"\n",
              "              style=\"display:none;\">\n",
              "        \n",
              "  <svg xmlns=\"http://www.w3.org/2000/svg\" height=\"24px\"viewBox=\"0 0 24 24\"\n",
              "       width=\"24px\">\n",
              "    <path d=\"M0 0h24v24H0V0z\" fill=\"none\"/>\n",
              "    <path d=\"M18.56 5.44l.94 2.06.94-2.06 2.06-.94-2.06-.94-.94-2.06-.94 2.06-2.06.94zm-11 1L8.5 8.5l.94-2.06 2.06-.94-2.06-.94L8.5 2.5l-.94 2.06-2.06.94zm10 10l.94 2.06.94-2.06 2.06-.94-2.06-.94-.94-2.06-.94 2.06-2.06.94z\"/><path d=\"M17.41 7.96l-1.37-1.37c-.4-.4-.92-.59-1.43-.59-.52 0-1.04.2-1.43.59L10.3 9.45l-7.72 7.72c-.78.78-.78 2.05 0 2.83L4 21.41c.39.39.9.59 1.41.59.51 0 1.02-.2 1.41-.59l7.78-7.78 2.81-2.81c.8-.78.8-2.07 0-2.86zM5.41 20L4 18.59l7.72-7.72 1.47 1.35L5.41 20z\"/>\n",
              "  </svg>\n",
              "      </button>\n",
              "      \n",
              "  <style>\n",
              "    .colab-df-container {\n",
              "      display:flex;\n",
              "      flex-wrap:wrap;\n",
              "      gap: 12px;\n",
              "    }\n",
              "\n",
              "    .colab-df-convert {\n",
              "      background-color: #E8F0FE;\n",
              "      border: none;\n",
              "      border-radius: 50%;\n",
              "      cursor: pointer;\n",
              "      display: none;\n",
              "      fill: #1967D2;\n",
              "      height: 32px;\n",
              "      padding: 0 0 0 0;\n",
              "      width: 32px;\n",
              "    }\n",
              "\n",
              "    .colab-df-convert:hover {\n",
              "      background-color: #E2EBFA;\n",
              "      box-shadow: 0px 1px 2px rgba(60, 64, 67, 0.3), 0px 1px 3px 1px rgba(60, 64, 67, 0.15);\n",
              "      fill: #174EA6;\n",
              "    }\n",
              "\n",
              "    [theme=dark] .colab-df-convert {\n",
              "      background-color: #3B4455;\n",
              "      fill: #D2E3FC;\n",
              "    }\n",
              "\n",
              "    [theme=dark] .colab-df-convert:hover {\n",
              "      background-color: #434B5C;\n",
              "      box-shadow: 0px 1px 3px 1px rgba(0, 0, 0, 0.15);\n",
              "      filter: drop-shadow(0px 1px 2px rgba(0, 0, 0, 0.3));\n",
              "      fill: #FFFFFF;\n",
              "    }\n",
              "  </style>\n",
              "\n",
              "      <script>\n",
              "        const buttonEl =\n",
              "          document.querySelector('#df-0bde880c-7bc0-4e1b-bb18-58b4ff3b13f9 button.colab-df-convert');\n",
              "        buttonEl.style.display =\n",
              "          google.colab.kernel.accessAllowed ? 'block' : 'none';\n",
              "\n",
              "        async function convertToInteractive(key) {\n",
              "          const element = document.querySelector('#df-0bde880c-7bc0-4e1b-bb18-58b4ff3b13f9');\n",
              "          const dataTable =\n",
              "            await google.colab.kernel.invokeFunction('convertToInteractive',\n",
              "                                                     [key], {});\n",
              "          if (!dataTable) return;\n",
              "\n",
              "          const docLinkHtml = 'Like what you see? Visit the ' +\n",
              "            '<a target=\"_blank\" href=https://colab.research.google.com/notebooks/data_table.ipynb>data table notebook</a>'\n",
              "            + ' to learn more about interactive tables.';\n",
              "          element.innerHTML = '';\n",
              "          dataTable['output_type'] = 'display_data';\n",
              "          await google.colab.output.renderOutput(dataTable, element);\n",
              "          const docLink = document.createElement('div');\n",
              "          docLink.innerHTML = docLinkHtml;\n",
              "          element.appendChild(docLink);\n",
              "        }\n",
              "      </script>\n",
              "    </div>\n",
              "  </div>\n",
              "  "
            ]
          },
          "metadata": {},
          "execution_count": 22
        }
      ]
    },
    {
      "cell_type": "code",
      "source": [
        "# we can generate KDE Plot using Gaussian Kernel\n",
        "\n",
        "# in statistics KDE is non-parametric way to estimate the PDF of a random variable\n",
        "\n",
        "ax = abalone_data.plot.kde()\n",
        "\n",
        "# observe that features have different scales"
      ],
      "metadata": {
        "colab": {
          "base_uri": "https://localhost:8080/",
          "height": 268
        },
        "id": "DhozOWgwpmiZ",
        "outputId": "2315de19-7383-4303-aa33-00a9d7f20a07"
      },
      "execution_count": 23,
      "outputs": [
        {
          "output_type": "display_data",
          "data": {
            "text/plain": [
              "<Figure size 432x288 with 1 Axes>"
            ],
            "image/png": "[encoded data removed]"
          },
          "metadata": {}
        }
      ]
    },
    {
      "cell_type": "code",
      "source": [
        "abalone_data.boxplot(column = ['sex','length','Diameter','height','whole weight', 'shucked weight', 'viscera weight', 'shell weight'])"
      ],
      "metadata": {
        "colab": {
          "base_uri": "https://localhost:8080/",
          "height": 285
        },
        "id": "sYMsEGi1qjmf",
        "outputId": "1e8445a8-a1fa-47a1-850b-136c9157588c"
      },
      "execution_count": 24,
      "outputs": [
        {
          "output_type": "execute_result",
          "data": {
            "text/plain": [
              "<matplotlib.axes._subplots.AxesSubplot at 0x7f1da9d39340>"
            ]
          },
          "metadata": {},
          "execution_count": 24
        },
        {
          "output_type": "display_data",
          "data": {
            "text/plain": [
              "<Figure size 432x288 with 1 Axes>"
            ],
            "image/png": "[encoded data removed]"
          },
          "metadata": {}
        }
      ]
    },
    {
      "cell_type": "code",
      "source": [
        "# Step 4: Scaling\n",
        "\n",
        "from sklearn.preprocessing import MaxAbsScaler\n",
        "\n",
        "mas = MaxAbsScaler()\n",
        "x_new = mas.fit_transform(abalone_data)\n",
        "print(x_new)"
      ],
      "metadata": {
        "colab": {
          "base_uri": "https://localhost:8080/"
        },
        "id": "4KozcNpXr8VT",
        "outputId": "6836f827-213c-498a-9276-fe50701da346"
      },
      "execution_count": 25,
      "outputs": [
        {
          "output_type": "stream",
          "name": "stdout",
          "text": [
            "[[0.33333333 0.55828221 0.56153846 ... 0.15087366 0.13289474 0.14925373]\n",
            " [0.33333333 0.42944785 0.40769231 ... 0.06686828 0.06381579 0.06965174]\n",
            " [0.66666667 0.65030675 0.64615385 ... 0.17237903 0.18618421 0.20895522]\n",
            " ...\n",
            " [0.33333333 0.73619632 0.73076923 ... 0.3531586  0.37828947 0.30646766]\n",
            " [0.66666667 0.76687117 0.74615385 ... 0.35685484 0.34342105 0.29452736]\n",
            " [0.33333333 0.87116564 0.85384615 ... 0.63541667 0.49539474 0.49253731]]\n"
          ]
        }
      ]
    },
    {
      "cell_type": "code",
      "source": [
        "x_df = pd.DataFrame(data = x_new, columns = ['sex','length','Diameter','height','whole weight', 'shucked weight', 'viscera weight', 'shell weight']\n",
        ")\n",
        "x_df"
      ],
      "metadata": {
        "colab": {
          "base_uri": "https://localhost:8080/",
          "height": 424
        },
        "id": "fnWeyWqRuvRB",
        "outputId": "4e448a39-44a1-442c-abcf-e73f22df91bf"
      },
      "execution_count": 26,
      "outputs": [
        {
          "output_type": "execute_result",
          "data": {
            "text/plain": [
              "           sex    length  Diameter    height  whole weight  shucked weight  \\\n",
              "0     0.333333  0.558282  0.561538  0.084071      0.181915        0.150874   \n",
              "1     0.333333  0.429448  0.407692  0.079646      0.079809        0.066868   \n",
              "2     0.666667  0.650307  0.646154  0.119469      0.239604        0.172379   \n",
              "3     0.333333  0.539877  0.561538  0.110619      0.182623        0.144825   \n",
              "4     1.000000  0.404908  0.392308  0.070796      0.072554        0.060148   \n",
              "...        ...       ...       ...       ...           ...             ...   \n",
              "4172  0.666667  0.693252  0.692308  0.146018      0.313927        0.248656   \n",
              "4173  0.333333  0.723926  0.676923  0.119469      0.341886        0.295027   \n",
              "4174  0.333333  0.736196  0.730769  0.181416      0.416210        0.353159   \n",
              "4175  0.666667  0.766871  0.746154  0.132743      0.387365        0.356855   \n",
              "4176  0.333333  0.871166  0.853846  0.172566      0.689612        0.635417   \n",
              "\n",
              "      viscera weight  shell weight  \n",
              "0           0.132895      0.149254  \n",
              "1           0.063816      0.069652  \n",
              "2           0.186184      0.208955  \n",
              "3           0.150000      0.154229  \n",
              "4           0.051974      0.054726  \n",
              "...              ...           ...  \n",
              "4172        0.314474      0.247761  \n",
              "4173        0.282237      0.259204  \n",
              "4174        0.378289      0.306468  \n",
              "4175        0.343421      0.294527  \n",
              "4176        0.495395      0.492537  \n",
              "\n",
              "[4177 rows x 8 columns]"
            ],
            "text/html": [
              "\n",
              "  <div id=\"df-17b9d5f2-70d4-4388-8688-d5817a743ae0\">\n",
              "    <div class=\"colab-df-container\">\n",
              "      <div>\n",
              "<style scoped>\n",
              "    .dataframe tbody tr th:only-of-type {\n",
              "        vertical-align: middle;\n",
              "    }\n",
              "\n",
              "    .dataframe tbody tr th {\n",
              "        vertical-align: top;\n",
              "    }\n",
              "\n",
              "    .dataframe thead th {\n",
              "        text-align: right;\n",
              "    }\n",
              "</style>\n",
              "<table border=\"1\" class=\"dataframe\">\n",
              "  <thead>\n",
              "    <tr style=\"text-align: right;\">\n",
              "      <th></th>\n",
              "      <th>sex</th>\n",
              "      <th>length</th>\n",
              "      <th>Diameter</th>\n",
              "      <th>height</th>\n",
              "      <th>whole weight</th>\n",
              "      <th>shucked weight</th>\n",
              "      <th>viscera weight</th>\n",
              "      <th>shell weight</th>\n",
              "    </tr>\n",
              "  </thead>\n",
              "  <tbody>\n",
              "    <tr>\n",
              "      <th>0</th>\n",
              "      <td>0.333333</td>\n",
              "      <td>0.558282</td>\n",
              "      <td>0.561538</td>\n",
              "      <td>0.084071</td>\n",
              "      <td>0.181915</td>\n",
              "      <td>0.150874</td>\n",
              "      <td>0.132895</td>\n",
              "      <td>0.149254</td>\n",
              "    </tr>\n",
              "    <tr>\n",
              "      <th>1</th>\n",
              "      <td>0.333333</td>\n",
              "      <td>0.429448</td>\n",
              "      <td>0.407692</td>\n",
              "      <td>0.079646</td>\n",
              "      <td>0.079809</td>\n",
              "      <td>0.066868</td>\n",
              "      <td>0.063816</td>\n",
              "      <td>0.069652</td>\n",
              "    </tr>\n",
              "    <tr>\n",
              "      <th>2</th>\n",
              "      <td>0.666667</td>\n",
              "      <td>0.650307</td>\n",
              "      <td>0.646154</td>\n",
              "      <td>0.119469</td>\n",
              "      <td>0.239604</td>\n",
              "      <td>0.172379</td>\n",
              "      <td>0.186184</td>\n",
              "      <td>0.208955</td>\n",
              "    </tr>\n",
              "    <tr>\n",
              "      <th>3</th>\n",
              "      <td>0.333333</td>\n",
              "      <td>0.539877</td>\n",
              "      <td>0.561538</td>\n",
              "      <td>0.110619</td>\n",
              "      <td>0.182623</td>\n",
              "      <td>0.144825</td>\n",
              "      <td>0.150000</td>\n",
              "      <td>0.154229</td>\n",
              "    </tr>\n",
              "    <tr>\n",
              "      <th>4</th>\n",
              "      <td>1.000000</td>\n",
              "      <td>0.404908</td>\n",
              "      <td>0.392308</td>\n",
              "      <td>0.070796</td>\n",
              "      <td>0.072554</td>\n",
              "      <td>0.060148</td>\n",
              "      <td>0.051974</td>\n",
              "      <td>0.054726</td>\n",
              "    </tr>\n",
              "    <tr>\n",
              "      <th>...</th>\n",
              "      <td>...</td>\n",
              "      <td>...</td>\n",
              "      <td>...</td>\n",
              "      <td>...</td>\n",
              "      <td>...</td>\n",
              "      <td>...</td>\n",
              "      <td>...</td>\n",
              "      <td>...</td>\n",
              "    </tr>\n",
              "    <tr>\n",
              "      <th>4172</th>\n",
              "      <td>0.666667</td>\n",
              "      <td>0.693252</td>\n",
              "      <td>0.692308</td>\n",
              "      <td>0.146018</td>\n",
              "      <td>0.313927</td>\n",
              "      <td>0.248656</td>\n",
              "      <td>0.314474</td>\n",
              "      <td>0.247761</td>\n",
              "    </tr>\n",
              "    <tr>\n",
              "      <th>4173</th>\n",
              "      <td>0.333333</td>\n",
              "      <td>0.723926</td>\n",
              "      <td>0.676923</td>\n",
              "      <td>0.119469</td>\n",
              "      <td>0.341886</td>\n",
              "      <td>0.295027</td>\n",
              "      <td>0.282237</td>\n",
              "      <td>0.259204</td>\n",
              "    </tr>\n",
              "    <tr>\n",
              "      <th>4174</th>\n",
              "      <td>0.333333</td>\n",
              "      <td>0.736196</td>\n",
              "      <td>0.730769</td>\n",
              "      <td>0.181416</td>\n",
              "      <td>0.416210</td>\n",
              "      <td>0.353159</td>\n",
              "      <td>0.378289</td>\n",
              "      <td>0.306468</td>\n",
              "    </tr>\n",
              "    <tr>\n",
              "      <th>4175</th>\n",
              "      <td>0.666667</td>\n",
              "      <td>0.766871</td>\n",
              "      <td>0.746154</td>\n",
              "      <td>0.132743</td>\n",
              "      <td>0.387365</td>\n",
              "      <td>0.356855</td>\n",
              "      <td>0.343421</td>\n",
              "      <td>0.294527</td>\n",
              "    </tr>\n",
              "    <tr>\n",
              "      <th>4176</th>\n",
              "      <td>0.333333</td>\n",
              "      <td>0.871166</td>\n",
              "      <td>0.853846</td>\n",
              "      <td>0.172566</td>\n",
              "      <td>0.689612</td>\n",
              "      <td>0.635417</td>\n",
              "      <td>0.495395</td>\n",
              "      <td>0.492537</td>\n",
              "    </tr>\n",
              "  </tbody>\n",
              "</table>\n",
              "<p>4177 rows × 8 columns</p>\n",
              "</div>\n",
              "      <button class=\"colab-df-convert\" onclick=\"convertToInteractive('df-17b9d5f2-70d4-4388-8688-d5817a743ae0')\"\n",
              "              title=\"Convert this dataframe to an interactive table.\"\n",
              "              style=\"display:none;\">\n",
              "        \n",
              "  <svg xmlns=\"http://www.w3.org/2000/svg\" height=\"24px\"viewBox=\"0 0 24 24\"\n",
              "       width=\"24px\">\n",
              "    <path d=\"M0 0h24v24H0V0z\" fill=\"none\"/>\n",
              "    <path d=\"M18.56 5.44l.94 2.06.94-2.06 2.06-.94-2.06-.94-.94-2.06-.94 2.06-2.06.94zm-11 1L8.5 8.5l.94-2.06 2.06-.94-2.06-.94L8.5 2.5l-.94 2.06-2.06.94zm10 10l.94 2.06.94-2.06 2.06-.94-2.06-.94-.94-2.06-.94 2.06-2.06.94z\"/><path d=\"M17.41 7.96l-1.37-1.37c-.4-.4-.92-.59-1.43-.59-.52 0-1.04.2-1.43.59L10.3 9.45l-7.72 7.72c-.78.78-.78 2.05 0 2.83L4 21.41c.39.39.9.59 1.41.59.51 0 1.02-.2 1.41-.59l7.78-7.78 2.81-2.81c.8-.78.8-2.07 0-2.86zM5.41 20L4 18.59l7.72-7.72 1.47 1.35L5.41 20z\"/>\n",
              "  </svg>\n",
              "      </button>\n",
              "      \n",
              "  <style>\n",
              "    .colab-df-container {\n",
              "      display:flex;\n",
              "      flex-wrap:wrap;\n",
              "      gap: 12px;\n",
              "    }\n",
              "\n",
              "    .colab-df-convert {\n",
              "      background-color: #E8F0FE;\n",
              "      border: none;\n",
              "      border-radius: 50%;\n",
              "      cursor: pointer;\n",
              "      display: none;\n",
              "      fill: #1967D2;\n",
              "      height: 32px;\n",
              "      padding: 0 0 0 0;\n",
              "      width: 32px;\n",
              "    }\n",
              "\n",
              "    .colab-df-convert:hover {\n",
              "      background-color: #E2EBFA;\n",
              "      box-shadow: 0px 1px 2px rgba(60, 64, 67, 0.3), 0px 1px 3px 1px rgba(60, 64, 67, 0.15);\n",
              "      fill: #174EA6;\n",
              "    }\n",
              "\n",
              "    [theme=dark] .colab-df-convert {\n",
              "      background-color: #3B4455;\n",
              "      fill: #D2E3FC;\n",
              "    }\n",
              "\n",
              "    [theme=dark] .colab-df-convert:hover {\n",
              "      background-color: #434B5C;\n",
              "      box-shadow: 0px 1px 3px 1px rgba(0, 0, 0, 0.15);\n",
              "      filter: drop-shadow(0px 1px 2px rgba(0, 0, 0, 0.3));\n",
              "      fill: #FFFFFF;\n",
              "    }\n",
              "  </style>\n",
              "\n",
              "      <script>\n",
              "        const buttonEl =\n",
              "          document.querySelector('#df-17b9d5f2-70d4-4388-8688-d5817a743ae0 button.colab-df-convert');\n",
              "        buttonEl.style.display =\n",
              "          google.colab.kernel.accessAllowed ? 'block' : 'none';\n",
              "\n",
              "        async function convertToInteractive(key) {\n",
              "          const element = document.querySelector('#df-17b9d5f2-70d4-4388-8688-d5817a743ae0');\n",
              "          const dataTable =\n",
              "            await google.colab.kernel.invokeFunction('convertToInteractive',\n",
              "                                                     [key], {});\n",
              "          if (!dataTable) return;\n",
              "\n",
              "          const docLinkHtml = 'Like what you see? Visit the ' +\n",
              "            '<a target=\"_blank\" href=https://colab.research.google.com/notebooks/data_table.ipynb>data table notebook</a>'\n",
              "            + ' to learn more about interactive tables.';\n",
              "          element.innerHTML = '';\n",
              "          dataTable['output_type'] = 'display_data';\n",
              "          await google.colab.output.renderOutput(dataTable, element);\n",
              "          const docLink = document.createElement('div');\n",
              "          docLink.innerHTML = docLinkHtml;\n",
              "          element.appendChild(docLink);\n",
              "        }\n",
              "      </script>\n",
              "    </div>\n",
              "  </div>\n",
              "  "
            ]
          },
          "metadata": {},
          "execution_count": 26
        }
      ]
    },
    {
      "cell_type": "code",
      "source": [
        "at = x_df.plot.kde()\n"
      ],
      "metadata": {
        "colab": {
          "base_uri": "https://localhost:8080/",
          "height": 268
        },
        "id": "Qd7YbWTOtoA2",
        "outputId": "d5a07ae9-f9d0-4162-bd6b-1ac8c4dc5205"
      },
      "execution_count": 27,
      "outputs": [
        {
          "output_type": "display_data",
          "data": {
            "text/plain": [
              "<Figure size 432x288 with 1 Axes>"
            ],
            "image/png": "[encoded data removed]"
          },
          "metadata": {}
        }
      ]
    },
    {
      "cell_type": "code",
      "source": [
        "x_df.boxplot(column = ['sex','length','Diameter','height','whole weight', 'shucked weight', 'viscera weight', 'shell weight'])"
      ],
      "metadata": {
        "colab": {
          "base_uri": "https://localhost:8080/",
          "height": 285
        },
        "id": "HrjHnrf-txss",
        "outputId": "02b68ff3-941d-4373-9652-d2b5c7fb268a"
      },
      "execution_count": 28,
      "outputs": [
        {
          "output_type": "execute_result",
          "data": {
            "text/plain": [
              "<matplotlib.axes._subplots.AxesSubplot at 0x7f1da96f3f40>"
            ]
          },
          "metadata": {},
          "execution_count": 28
        },
        {
          "output_type": "display_data",
          "data": {
            "text/plain": [
              "<Figure size 432x288 with 1 Axes>"
            ],
            "image/png": "[encoded data removed]"
          },
          "metadata": {}
        }
      ]
    },
    {
      "cell_type": "code",
      "source": [
        "# entire range is such that its 0 to 1\n",
        "\n",
        "# there are other methods as well MinMaxScaler and Standardizer"
      ],
      "metadata": {
        "id": "mcqRi999vbFf"
      },
      "execution_count": 29,
      "outputs": []
    },
    {
      "cell_type": "markdown",
      "source": [
        "# 4. Dummy Feature"
      ],
      "metadata": {
        "id": "l2DmWUjHCJQU"
      }
    },
    {
      "cell_type": "markdown",
      "source": [
        "`add_dummy_feature` augments the dataset with extra column vector with value 1s. useful to add bias term in the model"
      ],
      "metadata": {
        "id": "ddmDknQhF1Ao"
      }
    },
    {
      "cell_type": "code",
      "source": [
        "x = np.array([\n",
        "    [7,1],\n",
        "    [5,6],\n",
        "    [8,9]\n",
        "])\n",
        "\n",
        "from sklearn.preprocessing import add_dummy_feature\n",
        "\n",
        "x_new = add_dummy_feature(x)\n",
        "print(x_new)"
      ],
      "metadata": {
        "colab": {
          "base_uri": "https://localhost:8080/"
        },
        "id": "b4UbKpHsvxIy",
        "outputId": "14108075-ac41-4b47-9fb3-6446ada2c87c"
      },
      "execution_count": 30,
      "outputs": [
        {
          "output_type": "stream",
          "name": "stdout",
          "text": [
            "[[1. 7. 1.]\n",
            " [1. 5. 6.]\n",
            " [1. 8. 9.]]\n"
          ]
        }
      ]
    },
    {
      "cell_type": "markdown",
      "source": [
        "# 5. Custom Transformers"
      ],
      "metadata": {
        "id": "9Ut7Q3VWGkO5"
      }
    },
    {
      "cell_type": "code",
      "source": [
        "# Enables conversion of an existing Python Functions into a transformer to assist in data cleaning or processing\n",
        "'''\n",
        "Useful when:\n",
        "\n",
        "1. The dataset consists of heterogenous data\n",
        "2. dataset is stored in pandas dataframe and different columns need different processing pipelines\n",
        "3. we need stateless transformations such as taking log of frequencies or custom scaling etc\n",
        "'''\n",
        "\n",
        "from sklearn.preprocessing import FunctionTransformer"
      ],
      "metadata": {
        "id": "f6dlnHF1Ghz1"
      },
      "execution_count": 31,
      "outputs": []
    },
    {
      "cell_type": "code",
      "source": [
        "# lets implement a function transformer that applies log transformation to features\n",
        "\n",
        "wine_data = pd.read_csv('https://archive.ics.uci.edu/ml/machine-learning-databases/wine-quality/winequality-red.csv', sep=';')\n",
        "wine_data.head(5)"
      ],
      "metadata": {
        "colab": {
          "base_uri": "https://localhost:8080/",
          "height": 285
        },
        "id": "HAjqJZOLHTkU",
        "outputId": "9e7923b0-b07e-4be4-ae61-a56e1162be85"
      },
      "execution_count": 32,
      "outputs": [
        {
          "output_type": "execute_result",
          "data": {
            "text/plain": [
              "   fixed acidity  volatile acidity  citric acid  residual sugar  chlorides  \\\n",
              "0            7.4              0.70         0.00             1.9      0.076   \n",
              "1            7.8              0.88         0.00             2.6      0.098   \n",
              "2            7.8              0.76         0.04             2.3      0.092   \n",
              "3           11.2              0.28         0.56             1.9      0.075   \n",
              "4            7.4              0.70         0.00             1.9      0.076   \n",
              "\n",
              "   free sulfur dioxide  total sulfur dioxide  density    pH  sulphates  \\\n",
              "0                 11.0                  34.0   0.9978  3.51       0.56   \n",
              "1                 25.0                  67.0   0.9968  3.20       0.68   \n",
              "2                 15.0                  54.0   0.9970  3.26       0.65   \n",
              "3                 17.0                  60.0   0.9980  3.16       0.58   \n",
              "4                 11.0                  34.0   0.9978  3.51       0.56   \n",
              "\n",
              "   alcohol  quality  \n",
              "0      9.4        5  \n",
              "1      9.8        5  \n",
              "2      9.8        5  \n",
              "3      9.8        6  \n",
              "4      9.4        5  "
            ],
            "text/html": [
              "\n",
              "  <div id=\"df-2133ae84-c430-4746-94b4-952d158b4198\">\n",
              "    <div class=\"colab-df-container\">\n",
              "      <div>\n",
              "<style scoped>\n",
              "    .dataframe tbody tr th:only-of-type {\n",
              "        vertical-align: middle;\n",
              "    }\n",
              "\n",
              "    .dataframe tbody tr th {\n",
              "        vertical-align: top;\n",
              "    }\n",
              "\n",
              "    .dataframe thead th {\n",
              "        text-align: right;\n",
              "    }\n",
              "</style>\n",
              "<table border=\"1\" class=\"dataframe\">\n",
              "  <thead>\n",
              "    <tr style=\"text-align: right;\">\n",
              "      <th></th>\n",
              "      <th>fixed acidity</th>\n",
              "      <th>volatile acidity</th>\n",
              "      <th>citric acid</th>\n",
              "      <th>residual sugar</th>\n",
              "      <th>chlorides</th>\n",
              "      <th>free sulfur dioxide</th>\n",
              "      <th>total sulfur dioxide</th>\n",
              "      <th>density</th>\n",
              "      <th>pH</th>\n",
              "      <th>sulphates</th>\n",
              "      <th>alcohol</th>\n",
              "      <th>quality</th>\n",
              "    </tr>\n",
              "  </thead>\n",
              "  <tbody>\n",
              "    <tr>\n",
              "      <th>0</th>\n",
              "      <td>7.4</td>\n",
              "      <td>0.70</td>\n",
              "      <td>0.00</td>\n",
              "      <td>1.9</td>\n",
              "      <td>0.076</td>\n",
              "      <td>11.0</td>\n",
              "      <td>34.0</td>\n",
              "      <td>0.9978</td>\n",
              "      <td>3.51</td>\n",
              "      <td>0.56</td>\n",
              "      <td>9.4</td>\n",
              "      <td>5</td>\n",
              "    </tr>\n",
              "    <tr>\n",
              "      <th>1</th>\n",
              "      <td>7.8</td>\n",
              "      <td>0.88</td>\n",
              "      <td>0.00</td>\n",
              "      <td>2.6</td>\n",
              "      <td>0.098</td>\n",
              "      <td>25.0</td>\n",
              "      <td>67.0</td>\n",
              "      <td>0.9968</td>\n",
              "      <td>3.20</td>\n",
              "      <td>0.68</td>\n",
              "      <td>9.8</td>\n",
              "      <td>5</td>\n",
              "    </tr>\n",
              "    <tr>\n",
              "      <th>2</th>\n",
              "      <td>7.8</td>\n",
              "      <td>0.76</td>\n",
              "      <td>0.04</td>\n",
              "      <td>2.3</td>\n",
              "      <td>0.092</td>\n",
              "      <td>15.0</td>\n",
              "      <td>54.0</td>\n",
              "      <td>0.9970</td>\n",
              "      <td>3.26</td>\n",
              "      <td>0.65</td>\n",
              "      <td>9.8</td>\n",
              "      <td>5</td>\n",
              "    </tr>\n",
              "    <tr>\n",
              "      <th>3</th>\n",
              "      <td>11.2</td>\n",
              "      <td>0.28</td>\n",
              "      <td>0.56</td>\n",
              "      <td>1.9</td>\n",
              "      <td>0.075</td>\n",
              "      <td>17.0</td>\n",
              "      <td>60.0</td>\n",
              "      <td>0.9980</td>\n",
              "      <td>3.16</td>\n",
              "      <td>0.58</td>\n",
              "      <td>9.8</td>\n",
              "      <td>6</td>\n",
              "    </tr>\n",
              "    <tr>\n",
              "      <th>4</th>\n",
              "      <td>7.4</td>\n",
              "      <td>0.70</td>\n",
              "      <td>0.00</td>\n",
              "      <td>1.9</td>\n",
              "      <td>0.076</td>\n",
              "      <td>11.0</td>\n",
              "      <td>34.0</td>\n",
              "      <td>0.9978</td>\n",
              "      <td>3.51</td>\n",
              "      <td>0.56</td>\n",
              "      <td>9.4</td>\n",
              "      <td>5</td>\n",
              "    </tr>\n",
              "  </tbody>\n",
              "</table>\n",
              "</div>\n",
              "      <button class=\"colab-df-convert\" onclick=\"convertToInteractive('df-2133ae84-c430-4746-94b4-952d158b4198')\"\n",
              "              title=\"Convert this dataframe to an interactive table.\"\n",
              "              style=\"display:none;\">\n",
              "        \n",
              "  <svg xmlns=\"http://www.w3.org/2000/svg\" height=\"24px\"viewBox=\"0 0 24 24\"\n",
              "       width=\"24px\">\n",
              "    <path d=\"M0 0h24v24H0V0z\" fill=\"none\"/>\n",
              "    <path d=\"M18.56 5.44l.94 2.06.94-2.06 2.06-.94-2.06-.94-.94-2.06-.94 2.06-2.06.94zm-11 1L8.5 8.5l.94-2.06 2.06-.94-2.06-.94L8.5 2.5l-.94 2.06-2.06.94zm10 10l.94 2.06.94-2.06 2.06-.94-2.06-.94-.94-2.06-.94 2.06-2.06.94z\"/><path d=\"M17.41 7.96l-1.37-1.37c-.4-.4-.92-.59-1.43-.59-.52 0-1.04.2-1.43.59L10.3 9.45l-7.72 7.72c-.78.78-.78 2.05 0 2.83L4 21.41c.39.39.9.59 1.41.59.51 0 1.02-.2 1.41-.59l7.78-7.78 2.81-2.81c.8-.78.8-2.07 0-2.86zM5.41 20L4 18.59l7.72-7.72 1.47 1.35L5.41 20z\"/>\n",
              "  </svg>\n",
              "      </button>\n",
              "      \n",
              "  <style>\n",
              "    .colab-df-container {\n",
              "      display:flex;\n",
              "      flex-wrap:wrap;\n",
              "      gap: 12px;\n",
              "    }\n",
              "\n",
              "    .colab-df-convert {\n",
              "      background-color: #E8F0FE;\n",
              "      border: none;\n",
              "      border-radius: 50%;\n",
              "      cursor: pointer;\n",
              "      display: none;\n",
              "      fill: #1967D2;\n",
              "      height: 32px;\n",
              "      padding: 0 0 0 0;\n",
              "      width: 32px;\n",
              "    }\n",
              "\n",
              "    .colab-df-convert:hover {\n",
              "      background-color: #E2EBFA;\n",
              "      box-shadow: 0px 1px 2px rgba(60, 64, 67, 0.3), 0px 1px 3px 1px rgba(60, 64, 67, 0.15);\n",
              "      fill: #174EA6;\n",
              "    }\n",
              "\n",
              "    [theme=dark] .colab-df-convert {\n",
              "      background-color: #3B4455;\n",
              "      fill: #D2E3FC;\n",
              "    }\n",
              "\n",
              "    [theme=dark] .colab-df-convert:hover {\n",
              "      background-color: #434B5C;\n",
              "      box-shadow: 0px 1px 3px 1px rgba(0, 0, 0, 0.15);\n",
              "      filter: drop-shadow(0px 1px 2px rgba(0, 0, 0, 0.3));\n",
              "      fill: #FFFFFF;\n",
              "    }\n",
              "  </style>\n",
              "\n",
              "      <script>\n",
              "        const buttonEl =\n",
              "          document.querySelector('#df-2133ae84-c430-4746-94b4-952d158b4198 button.colab-df-convert');\n",
              "        buttonEl.style.display =\n",
              "          google.colab.kernel.accessAllowed ? 'block' : 'none';\n",
              "\n",
              "        async function convertToInteractive(key) {\n",
              "          const element = document.querySelector('#df-2133ae84-c430-4746-94b4-952d158b4198');\n",
              "          const dataTable =\n",
              "            await google.colab.kernel.invokeFunction('convertToInteractive',\n",
              "                                                     [key], {});\n",
              "          if (!dataTable) return;\n",
              "\n",
              "          const docLinkHtml = 'Like what you see? Visit the ' +\n",
              "            '<a target=\"_blank\" href=https://colab.research.google.com/notebooks/data_table.ipynb>data table notebook</a>'\n",
              "            + ' to learn more about interactive tables.';\n",
              "          element.innerHTML = '';\n",
              "          dataTable['output_type'] = 'display_data';\n",
              "          await google.colab.output.renderOutput(dataTable, element);\n",
              "          const docLink = document.createElement('div');\n",
              "          docLink.innerHTML = docLinkHtml;\n",
              "          element.appendChild(docLink);\n",
              "        }\n",
              "      </script>\n",
              "    </div>\n",
              "  </div>\n",
              "  "
            ]
          },
          "metadata": {},
          "execution_count": 32
        }
      ]
    },
    {
      "cell_type": "code",
      "source": [
        "wine_data.describe().T"
      ],
      "metadata": {
        "colab": {
          "base_uri": "https://localhost:8080/",
          "height": 426
        },
        "id": "i3xdyIiiIL61",
        "outputId": "29638b67-0d49-4225-89b4-9623bd77e63e"
      },
      "execution_count": 33,
      "outputs": [
        {
          "output_type": "execute_result",
          "data": {
            "text/plain": [
              "                       count       mean        std      min      25%  \\\n",
              "fixed acidity         1599.0   8.319637   1.741096  4.60000   7.1000   \n",
              "volatile acidity      1599.0   0.527821   0.179060  0.12000   0.3900   \n",
              "citric acid           1599.0   0.270976   0.194801  0.00000   0.0900   \n",
              "residual sugar        1599.0   2.538806   1.409928  0.90000   1.9000   \n",
              "chlorides             1599.0   0.087467   0.047065  0.01200   0.0700   \n",
              "free sulfur dioxide   1599.0  15.874922  10.460157  1.00000   7.0000   \n",
              "total sulfur dioxide  1599.0  46.467792  32.895324  6.00000  22.0000   \n",
              "density               1599.0   0.996747   0.001887  0.99007   0.9956   \n",
              "pH                    1599.0   3.311113   0.154386  2.74000   3.2100   \n",
              "sulphates             1599.0   0.658149   0.169507  0.33000   0.5500   \n",
              "alcohol               1599.0  10.422983   1.065668  8.40000   9.5000   \n",
              "quality               1599.0   5.636023   0.807569  3.00000   5.0000   \n",
              "\n",
              "                           50%        75%        max  \n",
              "fixed acidity          7.90000   9.200000   15.90000  \n",
              "volatile acidity       0.52000   0.640000    1.58000  \n",
              "citric acid            0.26000   0.420000    1.00000  \n",
              "residual sugar         2.20000   2.600000   15.50000  \n",
              "chlorides              0.07900   0.090000    0.61100  \n",
              "free sulfur dioxide   14.00000  21.000000   72.00000  \n",
              "total sulfur dioxide  38.00000  62.000000  289.00000  \n",
              "density                0.99675   0.997835    1.00369  \n",
              "pH                     3.31000   3.400000    4.01000  \n",
              "sulphates              0.62000   0.730000    2.00000  \n",
              "alcohol               10.20000  11.100000   14.90000  \n",
              "quality                6.00000   6.000000    8.00000  "
            ],
            "text/html": [
              "\n",
              "  <div id=\"df-53c78ae4-942e-4c87-a6a9-ee9df59487ed\">\n",
              "    <div class=\"colab-df-container\">\n",
              "      <div>\n",
              "<style scoped>\n",
              "    .dataframe tbody tr th:only-of-type {\n",
              "        vertical-align: middle;\n",
              "    }\n",
              "\n",
              "    .dataframe tbody tr th {\n",
              "        vertical-align: top;\n",
              "    }\n",
              "\n",
              "    .dataframe thead th {\n",
              "        text-align: right;\n",
              "    }\n",
              "</style>\n",
              "<table border=\"1\" class=\"dataframe\">\n",
              "  <thead>\n",
              "    <tr style=\"text-align: right;\">\n",
              "      <th></th>\n",
              "      <th>count</th>\n",
              "      <th>mean</th>\n",
              "      <th>std</th>\n",
              "      <th>min</th>\n",
              "      <th>25%</th>\n",
              "      <th>50%</th>\n",
              "      <th>75%</th>\n",
              "      <th>max</th>\n",
              "    </tr>\n",
              "  </thead>\n",
              "  <tbody>\n",
              "    <tr>\n",
              "      <th>fixed acidity</th>\n",
              "      <td>1599.0</td>\n",
              "      <td>8.319637</td>\n",
              "      <td>1.741096</td>\n",
              "      <td>4.60000</td>\n",
              "      <td>7.1000</td>\n",
              "      <td>7.90000</td>\n",
              "      <td>9.200000</td>\n",
              "      <td>15.90000</td>\n",
              "    </tr>\n",
              "    <tr>\n",
              "      <th>volatile acidity</th>\n",
              "      <td>1599.0</td>\n",
              "      <td>0.527821</td>\n",
              "      <td>0.179060</td>\n",
              "      <td>0.12000</td>\n",
              "      <td>0.3900</td>\n",
              "      <td>0.52000</td>\n",
              "      <td>0.640000</td>\n",
              "      <td>1.58000</td>\n",
              "    </tr>\n",
              "    <tr>\n",
              "      <th>citric acid</th>\n",
              "      <td>1599.0</td>\n",
              "      <td>0.270976</td>\n",
              "      <td>0.194801</td>\n",
              "      <td>0.00000</td>\n",
              "      <td>0.0900</td>\n",
              "      <td>0.26000</td>\n",
              "      <td>0.420000</td>\n",
              "      <td>1.00000</td>\n",
              "    </tr>\n",
              "    <tr>\n",
              "      <th>residual sugar</th>\n",
              "      <td>1599.0</td>\n",
              "      <td>2.538806</td>\n",
              "      <td>1.409928</td>\n",
              "      <td>0.90000</td>\n",
              "      <td>1.9000</td>\n",
              "      <td>2.20000</td>\n",
              "      <td>2.600000</td>\n",
              "      <td>15.50000</td>\n",
              "    </tr>\n",
              "    <tr>\n",
              "      <th>chlorides</th>\n",
              "      <td>1599.0</td>\n",
              "      <td>0.087467</td>\n",
              "      <td>0.047065</td>\n",
              "      <td>0.01200</td>\n",
              "      <td>0.0700</td>\n",
              "      <td>0.07900</td>\n",
              "      <td>0.090000</td>\n",
              "      <td>0.61100</td>\n",
              "    </tr>\n",
              "    <tr>\n",
              "      <th>free sulfur dioxide</th>\n",
              "      <td>1599.0</td>\n",
              "      <td>15.874922</td>\n",
              "      <td>10.460157</td>\n",
              "      <td>1.00000</td>\n",
              "      <td>7.0000</td>\n",
              "      <td>14.00000</td>\n",
              "      <td>21.000000</td>\n",
              "      <td>72.00000</td>\n",
              "    </tr>\n",
              "    <tr>\n",
              "      <th>total sulfur dioxide</th>\n",
              "      <td>1599.0</td>\n",
              "      <td>46.467792</td>\n",
              "      <td>32.895324</td>\n",
              "      <td>6.00000</td>\n",
              "      <td>22.0000</td>\n",
              "      <td>38.00000</td>\n",
              "      <td>62.000000</td>\n",
              "      <td>289.00000</td>\n",
              "    </tr>\n",
              "    <tr>\n",
              "      <th>density</th>\n",
              "      <td>1599.0</td>\n",
              "      <td>0.996747</td>\n",
              "      <td>0.001887</td>\n",
              "      <td>0.99007</td>\n",
              "      <td>0.9956</td>\n",
              "      <td>0.99675</td>\n",
              "      <td>0.997835</td>\n",
              "      <td>1.00369</td>\n",
              "    </tr>\n",
              "    <tr>\n",
              "      <th>pH</th>\n",
              "      <td>1599.0</td>\n",
              "      <td>3.311113</td>\n",
              "      <td>0.154386</td>\n",
              "      <td>2.74000</td>\n",
              "      <td>3.2100</td>\n",
              "      <td>3.31000</td>\n",
              "      <td>3.400000</td>\n",
              "      <td>4.01000</td>\n",
              "    </tr>\n",
              "    <tr>\n",
              "      <th>sulphates</th>\n",
              "      <td>1599.0</td>\n",
              "      <td>0.658149</td>\n",
              "      <td>0.169507</td>\n",
              "      <td>0.33000</td>\n",
              "      <td>0.5500</td>\n",
              "      <td>0.62000</td>\n",
              "      <td>0.730000</td>\n",
              "      <td>2.00000</td>\n",
              "    </tr>\n",
              "    <tr>\n",
              "      <th>alcohol</th>\n",
              "      <td>1599.0</td>\n",
              "      <td>10.422983</td>\n",
              "      <td>1.065668</td>\n",
              "      <td>8.40000</td>\n",
              "      <td>9.5000</td>\n",
              "      <td>10.20000</td>\n",
              "      <td>11.100000</td>\n",
              "      <td>14.90000</td>\n",
              "    </tr>\n",
              "    <tr>\n",
              "      <th>quality</th>\n",
              "      <td>1599.0</td>\n",
              "      <td>5.636023</td>\n",
              "      <td>0.807569</td>\n",
              "      <td>3.00000</td>\n",
              "      <td>5.0000</td>\n",
              "      <td>6.00000</td>\n",
              "      <td>6.000000</td>\n",
              "      <td>8.00000</td>\n",
              "    </tr>\n",
              "  </tbody>\n",
              "</table>\n",
              "</div>\n",
              "      <button class=\"colab-df-convert\" onclick=\"convertToInteractive('df-53c78ae4-942e-4c87-a6a9-ee9df59487ed')\"\n",
              "              title=\"Convert this dataframe to an interactive table.\"\n",
              "              style=\"display:none;\">\n",
              "        \n",
              "  <svg xmlns=\"http://www.w3.org/2000/svg\" height=\"24px\"viewBox=\"0 0 24 24\"\n",
              "       width=\"24px\">\n",
              "    <path d=\"M0 0h24v24H0V0z\" fill=\"none\"/>\n",
              "    <path d=\"M18.56 5.44l.94 2.06.94-2.06 2.06-.94-2.06-.94-.94-2.06-.94 2.06-2.06.94zm-11 1L8.5 8.5l.94-2.06 2.06-.94-2.06-.94L8.5 2.5l-.94 2.06-2.06.94zm10 10l.94 2.06.94-2.06 2.06-.94-2.06-.94-.94-2.06-.94 2.06-2.06.94z\"/><path d=\"M17.41 7.96l-1.37-1.37c-.4-.4-.92-.59-1.43-.59-.52 0-1.04.2-1.43.59L10.3 9.45l-7.72 7.72c-.78.78-.78 2.05 0 2.83L4 21.41c.39.39.9.59 1.41.59.51 0 1.02-.2 1.41-.59l7.78-7.78 2.81-2.81c.8-.78.8-2.07 0-2.86zM5.41 20L4 18.59l7.72-7.72 1.47 1.35L5.41 20z\"/>\n",
              "  </svg>\n",
              "      </button>\n",
              "      \n",
              "  <style>\n",
              "    .colab-df-container {\n",
              "      display:flex;\n",
              "      flex-wrap:wrap;\n",
              "      gap: 12px;\n",
              "    }\n",
              "\n",
              "    .colab-df-convert {\n",
              "      background-color: #E8F0FE;\n",
              "      border: none;\n",
              "      border-radius: 50%;\n",
              "      cursor: pointer;\n",
              "      display: none;\n",
              "      fill: #1967D2;\n",
              "      height: 32px;\n",
              "      padding: 0 0 0 0;\n",
              "      width: 32px;\n",
              "    }\n",
              "\n",
              "    .colab-df-convert:hover {\n",
              "      background-color: #E2EBFA;\n",
              "      box-shadow: 0px 1px 2px rgba(60, 64, 67, 0.3), 0px 1px 3px 1px rgba(60, 64, 67, 0.15);\n",
              "      fill: #174EA6;\n",
              "    }\n",
              "\n",
              "    [theme=dark] .colab-df-convert {\n",
              "      background-color: #3B4455;\n",
              "      fill: #D2E3FC;\n",
              "    }\n",
              "\n",
              "    [theme=dark] .colab-df-convert:hover {\n",
              "      background-color: #434B5C;\n",
              "      box-shadow: 0px 1px 3px 1px rgba(0, 0, 0, 0.15);\n",
              "      filter: drop-shadow(0px 1px 2px rgba(0, 0, 0, 0.3));\n",
              "      fill: #FFFFFF;\n",
              "    }\n",
              "  </style>\n",
              "\n",
              "      <script>\n",
              "        const buttonEl =\n",
              "          document.querySelector('#df-53c78ae4-942e-4c87-a6a9-ee9df59487ed button.colab-df-convert');\n",
              "        buttonEl.style.display =\n",
              "          google.colab.kernel.accessAllowed ? 'block' : 'none';\n",
              "\n",
              "        async function convertToInteractive(key) {\n",
              "          const element = document.querySelector('#df-53c78ae4-942e-4c87-a6a9-ee9df59487ed');\n",
              "          const dataTable =\n",
              "            await google.colab.kernel.invokeFunction('convertToInteractive',\n",
              "                                                     [key], {});\n",
              "          if (!dataTable) return;\n",
              "\n",
              "          const docLinkHtml = 'Like what you see? Visit the ' +\n",
              "            '<a target=\"_blank\" href=https://colab.research.google.com/notebooks/data_table.ipynb>data table notebook</a>'\n",
              "            + ' to learn more about interactive tables.';\n",
              "          element.innerHTML = '';\n",
              "          dataTable['output_type'] = 'display_data';\n",
              "          await google.colab.output.renderOutput(dataTable, element);\n",
              "          const docLink = document.createElement('div');\n",
              "          docLink.innerHTML = docLinkHtml;\n",
              "          element.appendChild(docLink);\n",
              "        }\n",
              "      </script>\n",
              "    </div>\n",
              "  </div>\n",
              "  "
            ]
          },
          "metadata": {},
          "execution_count": 33
        }
      ]
    },
    {
      "cell_type": "code",
      "source": [
        "# lets use np.log1p which returns log(1 + feature value)\n",
        "\n",
        "transformer = FunctionTransformer(np.log1p, validate=True)\n",
        "wine_data_transformed = transformer.transform(np.array(wine_data))\n",
        "pd.DataFrame(wine_data_transformed, columns= wine_data.columns).describe().T"
      ],
      "metadata": {
        "colab": {
          "base_uri": "https://localhost:8080/",
          "height": 426
        },
        "id": "xnmowhe6IP4d",
        "outputId": "541cdcfb-e88e-454f-ab2e-34021bd7d311"
      },
      "execution_count": 34,
      "outputs": [
        {
          "output_type": "execute_result",
          "data": {
            "text/plain": [
              "                       count      mean       std       min       25%  \\\n",
              "fixed acidity         1599.0  2.215842  0.178100  1.722767  2.091864   \n",
              "volatile acidity      1599.0  0.417173  0.114926  0.113329  0.329304   \n",
              "citric acid           1599.0  0.228147  0.152423  0.000000  0.086178   \n",
              "residual sugar        1599.0  1.218131  0.269969  0.641854  1.064711   \n",
              "chlorides             1599.0  0.083038  0.038991  0.011929  0.067659   \n",
              "free sulfur dioxide   1599.0  2.639013  0.623790  0.693147  2.079442   \n",
              "total sulfur dioxide  1599.0  3.634750  0.682575  1.945910  3.135494   \n",
              "density               1599.0  0.691519  0.000945  0.688170  0.690945   \n",
              "pH                    1599.0  1.460557  0.035760  1.319086  1.437463   \n",
              "sulphates             1599.0  0.501073  0.093731  0.285179  0.438255   \n",
              "alcohol               1599.0  2.431458  0.090434  2.240710  2.351375   \n",
              "quality               1599.0  1.885054  0.122749  1.386294  1.791759   \n",
              "\n",
              "                           50%       75%       max  \n",
              "fixed acidity         2.186051  2.322388  2.827314  \n",
              "volatile acidity      0.418710  0.494696  0.947789  \n",
              "citric acid           0.231112  0.350657  0.693147  \n",
              "residual sugar        1.163151  1.280934  2.803360  \n",
              "chlorides             0.076035  0.086178  0.476855  \n",
              "free sulfur dioxide   2.708050  3.091042  4.290459  \n",
              "total sulfur dioxide  3.663562  4.143135  5.669881  \n",
              "density               0.691521  0.692064  0.694990  \n",
              "pH                    1.460938  1.481605  1.611436  \n",
              "sulphates             0.482426  0.548121  1.098612  \n",
              "alcohol               2.415914  2.493205  2.766319  \n",
              "quality               1.945910  1.945910  2.197225  "
            ],
            "text/html": [
              "\n",
              "  <div id=\"df-bbbd64c3-005a-4a60-ad26-4edf410ee6a0\">\n",
              "    <div class=\"colab-df-container\">\n",
              "      <div>\n",
              "<style scoped>\n",
              "    .dataframe tbody tr th:only-of-type {\n",
              "        vertical-align: middle;\n",
              "    }\n",
              "\n",
              "    .dataframe tbody tr th {\n",
              "        vertical-align: top;\n",
              "    }\n",
              "\n",
              "    .dataframe thead th {\n",
              "        text-align: right;\n",
              "    }\n",
              "</style>\n",
              "<table border=\"1\" class=\"dataframe\">\n",
              "  <thead>\n",
              "    <tr style=\"text-align: right;\">\n",
              "      <th></th>\n",
              "      <th>count</th>\n",
              "      <th>mean</th>\n",
              "      <th>std</th>\n",
              "      <th>min</th>\n",
              "      <th>25%</th>\n",
              "      <th>50%</th>\n",
              "      <th>75%</th>\n",
              "      <th>max</th>\n",
              "    </tr>\n",
              "  </thead>\n",
              "  <tbody>\n",
              "    <tr>\n",
              "      <th>fixed acidity</th>\n",
              "      <td>1599.0</td>\n",
              "      <td>2.215842</td>\n",
              "      <td>0.178100</td>\n",
              "      <td>1.722767</td>\n",
              "      <td>2.091864</td>\n",
              "      <td>2.186051</td>\n",
              "      <td>2.322388</td>\n",
              "      <td>2.827314</td>\n",
              "    </tr>\n",
              "    <tr>\n",
              "      <th>volatile acidity</th>\n",
              "      <td>1599.0</td>\n",
              "      <td>0.417173</td>\n",
              "      <td>0.114926</td>\n",
              "      <td>0.113329</td>\n",
              "      <td>0.329304</td>\n",
              "      <td>0.418710</td>\n",
              "      <td>0.494696</td>\n",
              "      <td>0.947789</td>\n",
              "    </tr>\n",
              "    <tr>\n",
              "      <th>citric acid</th>\n",
              "      <td>1599.0</td>\n",
              "      <td>0.228147</td>\n",
              "      <td>0.152423</td>\n",
              "      <td>0.000000</td>\n",
              "      <td>0.086178</td>\n",
              "      <td>0.231112</td>\n",
              "      <td>0.350657</td>\n",
              "      <td>0.693147</td>\n",
              "    </tr>\n",
              "    <tr>\n",
              "      <th>residual sugar</th>\n",
              "      <td>1599.0</td>\n",
              "      <td>1.218131</td>\n",
              "      <td>0.269969</td>\n",
              "      <td>0.641854</td>\n",
              "      <td>1.064711</td>\n",
              "      <td>1.163151</td>\n",
              "      <td>1.280934</td>\n",
              "      <td>2.803360</td>\n",
              "    </tr>\n",
              "    <tr>\n",
              "      <th>chlorides</th>\n",
              "      <td>1599.0</td>\n",
              "      <td>0.083038</td>\n",
              "      <td>0.038991</td>\n",
              "      <td>0.011929</td>\n",
              "      <td>0.067659</td>\n",
              "      <td>0.076035</td>\n",
              "      <td>0.086178</td>\n",
              "      <td>0.476855</td>\n",
              "    </tr>\n",
              "    <tr>\n",
              "      <th>free sulfur dioxide</th>\n",
              "      <td>1599.0</td>\n",
              "      <td>2.639013</td>\n",
              "      <td>0.623790</td>\n",
              "      <td>0.693147</td>\n",
              "      <td>2.079442</td>\n",
              "      <td>2.708050</td>\n",
              "      <td>3.091042</td>\n",
              "      <td>4.290459</td>\n",
              "    </tr>\n",
              "    <tr>\n",
              "      <th>total sulfur dioxide</th>\n",
              "      <td>1599.0</td>\n",
              "      <td>3.634750</td>\n",
              "      <td>0.682575</td>\n",
              "      <td>1.945910</td>\n",
              "      <td>3.135494</td>\n",
              "      <td>3.663562</td>\n",
              "      <td>4.143135</td>\n",
              "      <td>5.669881</td>\n",
              "    </tr>\n",
              "    <tr>\n",
              "      <th>density</th>\n",
              "      <td>1599.0</td>\n",
              "      <td>0.691519</td>\n",
              "      <td>0.000945</td>\n",
              "      <td>0.688170</td>\n",
              "      <td>0.690945</td>\n",
              "      <td>0.691521</td>\n",
              "      <td>0.692064</td>\n",
              "      <td>0.694990</td>\n",
              "    </tr>\n",
              "    <tr>\n",
              "      <th>pH</th>\n",
              "      <td>1599.0</td>\n",
              "      <td>1.460557</td>\n",
              "      <td>0.035760</td>\n",
              "      <td>1.319086</td>\n",
              "      <td>1.437463</td>\n",
              "      <td>1.460938</td>\n",
              "      <td>1.481605</td>\n",
              "      <td>1.611436</td>\n",
              "    </tr>\n",
              "    <tr>\n",
              "      <th>sulphates</th>\n",
              "      <td>1599.0</td>\n",
              "      <td>0.501073</td>\n",
              "      <td>0.093731</td>\n",
              "      <td>0.285179</td>\n",
              "      <td>0.438255</td>\n",
              "      <td>0.482426</td>\n",
              "      <td>0.548121</td>\n",
              "      <td>1.098612</td>\n",
              "    </tr>\n",
              "    <tr>\n",
              "      <th>alcohol</th>\n",
              "      <td>1599.0</td>\n",
              "      <td>2.431458</td>\n",
              "      <td>0.090434</td>\n",
              "      <td>2.240710</td>\n",
              "      <td>2.351375</td>\n",
              "      <td>2.415914</td>\n",
              "      <td>2.493205</td>\n",
              "      <td>2.766319</td>\n",
              "    </tr>\n",
              "    <tr>\n",
              "      <th>quality</th>\n",
              "      <td>1599.0</td>\n",
              "      <td>1.885054</td>\n",
              "      <td>0.122749</td>\n",
              "      <td>1.386294</td>\n",
              "      <td>1.791759</td>\n",
              "      <td>1.945910</td>\n",
              "      <td>1.945910</td>\n",
              "      <td>2.197225</td>\n",
              "    </tr>\n",
              "  </tbody>\n",
              "</table>\n",
              "</div>\n",
              "      <button class=\"colab-df-convert\" onclick=\"convertToInteractive('df-bbbd64c3-005a-4a60-ad26-4edf410ee6a0')\"\n",
              "              title=\"Convert this dataframe to an interactive table.\"\n",
              "              style=\"display:none;\">\n",
              "        \n",
              "  <svg xmlns=\"http://www.w3.org/2000/svg\" height=\"24px\"viewBox=\"0 0 24 24\"\n",
              "       width=\"24px\">\n",
              "    <path d=\"M0 0h24v24H0V0z\" fill=\"none\"/>\n",
              "    <path d=\"M18.56 5.44l.94 2.06.94-2.06 2.06-.94-2.06-.94-.94-2.06-.94 2.06-2.06.94zm-11 1L8.5 8.5l.94-2.06 2.06-.94-2.06-.94L8.5 2.5l-.94 2.06-2.06.94zm10 10l.94 2.06.94-2.06 2.06-.94-2.06-.94-.94-2.06-.94 2.06-2.06.94z\"/><path d=\"M17.41 7.96l-1.37-1.37c-.4-.4-.92-.59-1.43-.59-.52 0-1.04.2-1.43.59L10.3 9.45l-7.72 7.72c-.78.78-.78 2.05 0 2.83L4 21.41c.39.39.9.59 1.41.59.51 0 1.02-.2 1.41-.59l7.78-7.78 2.81-2.81c.8-.78.8-2.07 0-2.86zM5.41 20L4 18.59l7.72-7.72 1.47 1.35L5.41 20z\"/>\n",
              "  </svg>\n",
              "      </button>\n",
              "      \n",
              "  <style>\n",
              "    .colab-df-container {\n",
              "      display:flex;\n",
              "      flex-wrap:wrap;\n",
              "      gap: 12px;\n",
              "    }\n",
              "\n",
              "    .colab-df-convert {\n",
              "      background-color: #E8F0FE;\n",
              "      border: none;\n",
              "      border-radius: 50%;\n",
              "      cursor: pointer;\n",
              "      display: none;\n",
              "      fill: #1967D2;\n",
              "      height: 32px;\n",
              "      padding: 0 0 0 0;\n",
              "      width: 32px;\n",
              "    }\n",
              "\n",
              "    .colab-df-convert:hover {\n",
              "      background-color: #E2EBFA;\n",
              "      box-shadow: 0px 1px 2px rgba(60, 64, 67, 0.3), 0px 1px 3px 1px rgba(60, 64, 67, 0.15);\n",
              "      fill: #174EA6;\n",
              "    }\n",
              "\n",
              "    [theme=dark] .colab-df-convert {\n",
              "      background-color: #3B4455;\n",
              "      fill: #D2E3FC;\n",
              "    }\n",
              "\n",
              "    [theme=dark] .colab-df-convert:hover {\n",
              "      background-color: #434B5C;\n",
              "      box-shadow: 0px 1px 3px 1px rgba(0, 0, 0, 0.15);\n",
              "      filter: drop-shadow(0px 1px 2px rgba(0, 0, 0, 0.3));\n",
              "      fill: #FFFFFF;\n",
              "    }\n",
              "  </style>\n",
              "\n",
              "      <script>\n",
              "        const buttonEl =\n",
              "          document.querySelector('#df-bbbd64c3-005a-4a60-ad26-4edf410ee6a0 button.colab-df-convert');\n",
              "        buttonEl.style.display =\n",
              "          google.colab.kernel.accessAllowed ? 'block' : 'none';\n",
              "\n",
              "        async function convertToInteractive(key) {\n",
              "          const element = document.querySelector('#df-bbbd64c3-005a-4a60-ad26-4edf410ee6a0');\n",
              "          const dataTable =\n",
              "            await google.colab.kernel.invokeFunction('convertToInteractive',\n",
              "                                                     [key], {});\n",
              "          if (!dataTable) return;\n",
              "\n",
              "          const docLinkHtml = 'Like what you see? Visit the ' +\n",
              "            '<a target=\"_blank\" href=https://colab.research.google.com/notebooks/data_table.ipynb>data table notebook</a>'\n",
              "            + ' to learn more about interactive tables.';\n",
              "          element.innerHTML = '';\n",
              "          dataTable['output_type'] = 'display_data';\n",
              "          await google.colab.output.renderOutput(dataTable, element);\n",
              "          const docLink = document.createElement('div');\n",
              "          docLink.innerHTML = docLinkHtml;\n",
              "          element.appendChild(docLink);\n",
              "        }\n",
              "      </script>\n",
              "    </div>\n",
              "  </div>\n",
              "  "
            ]
          },
          "metadata": {},
          "execution_count": 34
        }
      ]
    },
    {
      "cell_type": "markdown",
      "source": [
        "# Polynomial Features"
      ],
      "metadata": {
        "id": "YAkTucxaJ5HK"
      }
    },
    {
      "cell_type": "code",
      "source": [
        "from sklearn.preprocessing import PolynomialFeatures\n",
        "wine_data = pd.read_csv(\"https://archive.ics.uci.edu/ml/machine-learning-databases/wine-quality/winequality-red.csv\", sep=';')\n",
        "wine_data_copy = wine_data.copy()\n",
        "\n",
        "wine_data = wine_data.drop(['quality'], axis = 1)\n",
        "wine_data.shape\n",
        "\n",
        "#shape before transformation"
      ],
      "metadata": {
        "colab": {
          "base_uri": "https://localhost:8080/"
        },
        "id": "kippzzqRJM-W",
        "outputId": "643dee22-44dc-4661-d13c-7f8753d2983e"
      },
      "execution_count": 35,
      "outputs": [
        {
          "output_type": "execute_result",
          "data": {
            "text/plain": [
              "(1599, 11)"
            ]
          },
          "metadata": {},
          "execution_count": 35
        }
      ]
    },
    {
      "cell_type": "code",
      "source": [
        "# shape after transformation\n",
        "\n",
        "poly = PolynomialFeatures(degree=2)\n",
        "poly_wine_data = poly.fit_transform(wine_data)\n",
        "poly_wine_data.shape"
      ],
      "metadata": {
        "colab": {
          "base_uri": "https://localhost:8080/"
        },
        "id": "GVG0I_cNKcPS",
        "outputId": "b8971afa-f133-4618-c1e7-dbb49e615982"
      },
      "execution_count": 36,
      "outputs": [
        {
          "output_type": "execute_result",
          "data": {
            "text/plain": [
              "(1599, 78)"
            ]
          },
          "metadata": {},
          "execution_count": 36
        }
      ]
    },
    {
      "cell_type": "code",
      "source": [
        "# get all the feature names\n",
        "poly.get_feature_names_out()"
      ],
      "metadata": {
        "colab": {
          "base_uri": "https://localhost:8080/"
        },
        "id": "QW0Bh8AUK2r0",
        "outputId": "12f532f5-eace-490c-b2e0-82bfae5ec01c"
      },
      "execution_count": 37,
      "outputs": [
        {
          "output_type": "execute_result",
          "data": {
            "text/plain": [
              "array(['1', 'fixed acidity', 'volatile acidity', 'citric acid',\n",
              "       'residual sugar', 'chlorides', 'free sulfur dioxide',\n",
              "       'total sulfur dioxide', 'density', 'pH', 'sulphates', 'alcohol',\n",
              "       'fixed acidity^2', 'fixed acidity volatile acidity',\n",
              "       'fixed acidity citric acid', 'fixed acidity residual sugar',\n",
              "       'fixed acidity chlorides', 'fixed acidity free sulfur dioxide',\n",
              "       'fixed acidity total sulfur dioxide', 'fixed acidity density',\n",
              "       'fixed acidity pH', 'fixed acidity sulphates',\n",
              "       'fixed acidity alcohol', 'volatile acidity^2',\n",
              "       'volatile acidity citric acid', 'volatile acidity residual sugar',\n",
              "       'volatile acidity chlorides',\n",
              "       'volatile acidity free sulfur dioxide',\n",
              "       'volatile acidity total sulfur dioxide',\n",
              "       'volatile acidity density', 'volatile acidity pH',\n",
              "       'volatile acidity sulphates', 'volatile acidity alcohol',\n",
              "       'citric acid^2', 'citric acid residual sugar',\n",
              "       'citric acid chlorides', 'citric acid free sulfur dioxide',\n",
              "       'citric acid total sulfur dioxide', 'citric acid density',\n",
              "       'citric acid pH', 'citric acid sulphates', 'citric acid alcohol',\n",
              "       'residual sugar^2', 'residual sugar chlorides',\n",
              "       'residual sugar free sulfur dioxide',\n",
              "       'residual sugar total sulfur dioxide', 'residual sugar density',\n",
              "       'residual sugar pH', 'residual sugar sulphates',\n",
              "       'residual sugar alcohol', 'chlorides^2',\n",
              "       'chlorides free sulfur dioxide', 'chlorides total sulfur dioxide',\n",
              "       'chlorides density', 'chlorides pH', 'chlorides sulphates',\n",
              "       'chlorides alcohol', 'free sulfur dioxide^2',\n",
              "       'free sulfur dioxide total sulfur dioxide',\n",
              "       'free sulfur dioxide density', 'free sulfur dioxide pH',\n",
              "       'free sulfur dioxide sulphates', 'free sulfur dioxide alcohol',\n",
              "       'total sulfur dioxide^2', 'total sulfur dioxide density',\n",
              "       'total sulfur dioxide pH', 'total sulfur dioxide sulphates',\n",
              "       'total sulfur dioxide alcohol', 'density^2', 'density pH',\n",
              "       'density sulphates', 'density alcohol', 'pH^2', 'pH sulphates',\n",
              "       'pH alcohol', 'sulphates^2', 'sulphates alcohol', 'alcohol^2'],\n",
              "      dtype=object)"
            ]
          },
          "metadata": {},
          "execution_count": 37
        }
      ]
    },
    {
      "cell_type": "markdown",
      "source": [
        "#7. Discretization"
      ],
      "metadata": {
        "id": "wl0MR7t4LU9Q"
      }
    },
    {
      "cell_type": "markdown",
      "source": [
        "Discretization is also called as quantization or binning provides a way to partition continuous data into discrete data"
      ],
      "metadata": {
        "id": "O6zzFDztLcaz"
      }
    },
    {
      "cell_type": "code",
      "source": [
        "# KBinDiscretizer discretizes features into k bins\n",
        "\n",
        "from sklearn.preprocessing import KBinsDiscretizer"
      ],
      "metadata": {
        "id": "0POdyNEMLmaB"
      },
      "execution_count": 38,
      "outputs": []
    },
    {
      "cell_type": "code",
      "source": [
        "wine_data = wine_data_copy.copy()\n",
        "\n",
        "# transform the dataset with KBinDiscretizer\n",
        "\n",
        "enc = KBinsDiscretizer(n_bins = 10, encode = \"onehot\")\n",
        "x = np.array(wine_data['chlorides']).reshape(-1,1)\n",
        "x_binned = enc.fit_transform(x)"
      ],
      "metadata": {
        "id": "EtQB6wzSL6u6"
      },
      "execution_count": 39,
      "outputs": []
    },
    {
      "cell_type": "code",
      "source": [
        "x_binned"
      ],
      "metadata": {
        "colab": {
          "base_uri": "https://localhost:8080/"
        },
        "id": "UT5lUfmeNsrh",
        "outputId": "367ac8cc-03fa-48b7-eb47-09baed1707e2"
      },
      "execution_count": 40,
      "outputs": [
        {
          "output_type": "execute_result",
          "data": {
            "text/plain": [
              "<1599x10 sparse matrix of type '<class 'numpy.float64'>'\n",
              "\twith 1599 stored elements in Compressed Sparse Row format>"
            ]
          },
          "metadata": {},
          "execution_count": 40
        }
      ]
    },
    {
      "cell_type": "code",
      "source": [
        "# since output is sparsed use toarray() to expand it:\n",
        "\n",
        "x_binned.toarray()[:5]"
      ],
      "metadata": {
        "colab": {
          "base_uri": "https://localhost:8080/"
        },
        "id": "71C2jTPXN0cd",
        "outputId": "92979cd4-9c99-4798-e8ee-c8b7d4341337"
      },
      "execution_count": 41,
      "outputs": [
        {
          "output_type": "execute_result",
          "data": {
            "text/plain": [
              "array([[0., 0., 0., 0., 1., 0., 0., 0., 0., 0.],\n",
              "       [0., 0., 0., 0., 0., 0., 0., 0., 1., 0.],\n",
              "       [0., 0., 0., 0., 0., 0., 0., 1., 0., 0.],\n",
              "       [0., 0., 0., 1., 0., 0., 0., 0., 0., 0.],\n",
              "       [0., 0., 0., 0., 1., 0., 0., 0., 0., 0.]])"
            ]
          },
          "metadata": {},
          "execution_count": 41
        }
      ]
    },
    {
      "cell_type": "markdown",
      "source": [
        "# 8. Handling Categorical Features"
      ],
      "metadata": {
        "id": "xJg16_AZLcUR"
      }
    },
    {
      "cell_type": "code",
      "source": [
        "from sklearn.preprocessing import OrdinalEncoder\n",
        "from sklearn.preprocessing import OneHotEncoder"
      ],
      "metadata": {
        "id": "IIQS6ACnLAoV"
      },
      "execution_count": 42,
      "outputs": []
    },
    {
      "cell_type": "code",
      "source": [
        "# We will use iris dataset for demostration:\n",
        "\n",
        "cols = ['sepal length', 'sepal width', 'petal length', 'petal width', 'label']\n",
        "iris_data = pd.read_csv('https://archive.ics.uci.edu/ml/machine-learning-databases/iris/iris.data', header= None, names = cols)\n",
        "iris_data.head(5)"
      ],
      "metadata": {
        "colab": {
          "base_uri": "https://localhost:8080/",
          "height": 206
        },
        "id": "K96D2HusOiGu",
        "outputId": "252ea6fb-9c4a-4f63-dada-f6da6e92d9ff"
      },
      "execution_count": 43,
      "outputs": [
        {
          "output_type": "execute_result",
          "data": {
            "text/plain": [
              "   sepal length  sepal width  petal length  petal width        label\n",
              "0           5.1          3.5           1.4          0.2  Iris-setosa\n",
              "1           4.9          3.0           1.4          0.2  Iris-setosa\n",
              "2           4.7          3.2           1.3          0.2  Iris-setosa\n",
              "3           4.6          3.1           1.5          0.2  Iris-setosa\n",
              "4           5.0          3.6           1.4          0.2  Iris-setosa"
            ],
            "text/html": [
              "\n",
              "  <div id=\"df-c01d2607-eabe-4be3-993d-52db5ad526da\">\n",
              "    <div class=\"colab-df-container\">\n",
              "      <div>\n",
              "<style scoped>\n",
              "    .dataframe tbody tr th:only-of-type {\n",
              "        vertical-align: middle;\n",
              "    }\n",
              "\n",
              "    .dataframe tbody tr th {\n",
              "        vertical-align: top;\n",
              "    }\n",
              "\n",
              "    .dataframe thead th {\n",
              "        text-align: right;\n",
              "    }\n",
              "</style>\n",
              "<table border=\"1\" class=\"dataframe\">\n",
              "  <thead>\n",
              "    <tr style=\"text-align: right;\">\n",
              "      <th></th>\n",
              "      <th>sepal length</th>\n",
              "      <th>sepal width</th>\n",
              "      <th>petal length</th>\n",
              "      <th>petal width</th>\n",
              "      <th>label</th>\n",
              "    </tr>\n",
              "  </thead>\n",
              "  <tbody>\n",
              "    <tr>\n",
              "      <th>0</th>\n",
              "      <td>5.1</td>\n",
              "      <td>3.5</td>\n",
              "      <td>1.4</td>\n",
              "      <td>0.2</td>\n",
              "      <td>Iris-setosa</td>\n",
              "    </tr>\n",
              "    <tr>\n",
              "      <th>1</th>\n",
              "      <td>4.9</td>\n",
              "      <td>3.0</td>\n",
              "      <td>1.4</td>\n",
              "      <td>0.2</td>\n",
              "      <td>Iris-setosa</td>\n",
              "    </tr>\n",
              "    <tr>\n",
              "      <th>2</th>\n",
              "      <td>4.7</td>\n",
              "      <td>3.2</td>\n",
              "      <td>1.3</td>\n",
              "      <td>0.2</td>\n",
              "      <td>Iris-setosa</td>\n",
              "    </tr>\n",
              "    <tr>\n",
              "      <th>3</th>\n",
              "      <td>4.6</td>\n",
              "      <td>3.1</td>\n",
              "      <td>1.5</td>\n",
              "      <td>0.2</td>\n",
              "      <td>Iris-setosa</td>\n",
              "    </tr>\n",
              "    <tr>\n",
              "      <th>4</th>\n",
              "      <td>5.0</td>\n",
              "      <td>3.6</td>\n",
              "      <td>1.4</td>\n",
              "      <td>0.2</td>\n",
              "      <td>Iris-setosa</td>\n",
              "    </tr>\n",
              "  </tbody>\n",
              "</table>\n",
              "</div>\n",
              "      <button class=\"colab-df-convert\" onclick=\"convertToInteractive('df-c01d2607-eabe-4be3-993d-52db5ad526da')\"\n",
              "              title=\"Convert this dataframe to an interactive table.\"\n",
              "              style=\"display:none;\">\n",
              "        \n",
              "  <svg xmlns=\"http://www.w3.org/2000/svg\" height=\"24px\"viewBox=\"0 0 24 24\"\n",
              "       width=\"24px\">\n",
              "    <path d=\"M0 0h24v24H0V0z\" fill=\"none\"/>\n",
              "    <path d=\"M18.56 5.44l.94 2.06.94-2.06 2.06-.94-2.06-.94-.94-2.06-.94 2.06-2.06.94zm-11 1L8.5 8.5l.94-2.06 2.06-.94-2.06-.94L8.5 2.5l-.94 2.06-2.06.94zm10 10l.94 2.06.94-2.06 2.06-.94-2.06-.94-.94-2.06-.94 2.06-2.06.94z\"/><path d=\"M17.41 7.96l-1.37-1.37c-.4-.4-.92-.59-1.43-.59-.52 0-1.04.2-1.43.59L10.3 9.45l-7.72 7.72c-.78.78-.78 2.05 0 2.83L4 21.41c.39.39.9.59 1.41.59.51 0 1.02-.2 1.41-.59l7.78-7.78 2.81-2.81c.8-.78.8-2.07 0-2.86zM5.41 20L4 18.59l7.72-7.72 1.47 1.35L5.41 20z\"/>\n",
              "  </svg>\n",
              "      </button>\n",
              "      \n",
              "  <style>\n",
              "    .colab-df-container {\n",
              "      display:flex;\n",
              "      flex-wrap:wrap;\n",
              "      gap: 12px;\n",
              "    }\n",
              "\n",
              "    .colab-df-convert {\n",
              "      background-color: #E8F0FE;\n",
              "      border: none;\n",
              "      border-radius: 50%;\n",
              "      cursor: pointer;\n",
              "      display: none;\n",
              "      fill: #1967D2;\n",
              "      height: 32px;\n",
              "      padding: 0 0 0 0;\n",
              "      width: 32px;\n",
              "    }\n",
              "\n",
              "    .colab-df-convert:hover {\n",
              "      background-color: #E2EBFA;\n",
              "      box-shadow: 0px 1px 2px rgba(60, 64, 67, 0.3), 0px 1px 3px 1px rgba(60, 64, 67, 0.15);\n",
              "      fill: #174EA6;\n",
              "    }\n",
              "\n",
              "    [theme=dark] .colab-df-convert {\n",
              "      background-color: #3B4455;\n",
              "      fill: #D2E3FC;\n",
              "    }\n",
              "\n",
              "    [theme=dark] .colab-df-convert:hover {\n",
              "      background-color: #434B5C;\n",
              "      box-shadow: 0px 1px 3px 1px rgba(0, 0, 0, 0.15);\n",
              "      filter: drop-shadow(0px 1px 2px rgba(0, 0, 0, 0.3));\n",
              "      fill: #FFFFFF;\n",
              "    }\n",
              "  </style>\n",
              "\n",
              "      <script>\n",
              "        const buttonEl =\n",
              "          document.querySelector('#df-c01d2607-eabe-4be3-993d-52db5ad526da button.colab-df-convert');\n",
              "        buttonEl.style.display =\n",
              "          google.colab.kernel.accessAllowed ? 'block' : 'none';\n",
              "\n",
              "        async function convertToInteractive(key) {\n",
              "          const element = document.querySelector('#df-c01d2607-eabe-4be3-993d-52db5ad526da');\n",
              "          const dataTable =\n",
              "            await google.colab.kernel.invokeFunction('convertToInteractive',\n",
              "                                                     [key], {});\n",
              "          if (!dataTable) return;\n",
              "\n",
              "          const docLinkHtml = 'Like what you see? Visit the ' +\n",
              "            '<a target=\"_blank\" href=https://colab.research.google.com/notebooks/data_table.ipynb>data table notebook</a>'\n",
              "            + ' to learn more about interactive tables.';\n",
              "          element.innerHTML = '';\n",
              "          dataTable['output_type'] = 'display_data';\n",
              "          await google.colab.output.renderOutput(dataTable, element);\n",
              "          const docLink = document.createElement('div');\n",
              "          docLink.innerHTML = docLinkHtml;\n",
              "          element.appendChild(docLink);\n",
              "        }\n",
              "      </script>\n",
              "    </div>\n",
              "  </div>\n",
              "  "
            ]
          },
          "metadata": {},
          "execution_count": 43
        }
      ]
    },
    {
      "cell_type": "code",
      "source": [
        "iris_data.label.unique()"
      ],
      "metadata": {
        "colab": {
          "base_uri": "https://localhost:8080/"
        },
        "id": "HL5F2qnHQRdF",
        "outputId": "3299e57b-fa88-40ab-ea18-0677c4735f82"
      },
      "execution_count": 44,
      "outputs": [
        {
          "output_type": "execute_result",
          "data": {
            "text/plain": [
              "array(['Iris-setosa', 'Iris-versicolor', 'Iris-virginica'], dtype=object)"
            ]
          },
          "metadata": {},
          "execution_count": 44
        }
      ]
    },
    {
      "cell_type": "code",
      "source": [
        "# lets use onehotencoder\n",
        "\n",
        "onehotencoder = OneHotEncoder(categories = 'auto')\n",
        "\n",
        "'''\n",
        "passing id arrays as data to onehotencoder is deprecated in version hence reshape (-1,1) to have 2 dimensions\n",
        "Input of onehotencoder fit_transform must not be 1 rank array\n",
        "'''\n",
        "\n",
        "iris_labels = onehotencoder.fit_transform(iris_data.label.values.reshape(-1,1))\n",
        "\n",
        "iris_labels.shape"
      ],
      "metadata": {
        "colab": {
          "base_uri": "https://localhost:8080/"
        },
        "id": "uZIIRDc0QiT8",
        "outputId": "499bc9cd-ee4c-4884-9e5a-ec6faecf770a"
      },
      "execution_count": 45,
      "outputs": [
        {
          "output_type": "execute_result",
          "data": {
            "text/plain": [
              "(150, 3)"
            ]
          },
          "metadata": {},
          "execution_count": 45
        }
      ]
    },
    {
      "cell_type": "code",
      "source": [
        "iris_labels.toarray()[:5]"
      ],
      "metadata": {
        "colab": {
          "base_uri": "https://localhost:8080/"
        },
        "id": "j5z7mceaRa30",
        "outputId": "18a2ed2c-77a1-4bb0-a5be-f1abe2d1548b"
      },
      "execution_count": 46,
      "outputs": [
        {
          "output_type": "execute_result",
          "data": {
            "text/plain": [
              "array([[1., 0., 0.],\n",
              "       [1., 0., 0.],\n",
              "       [1., 0., 0.],\n",
              "       [1., 0., 0.],\n",
              "       [1., 0., 0.]])"
            ]
          },
          "metadata": {},
          "execution_count": 46
        }
      ]
    },
    {
      "cell_type": "code",
      "source": [
        "# using the ordinal encoder\n",
        "\n",
        "enc = OrdinalEncoder()\n",
        "iris_labels = np.array(iris_data['label'])\n",
        "\n",
        "iris_labels_transformed = enc.fit_transform(iris_labels.reshape(-1,1))\n",
        "print(\"unique labels\", np.unique(iris_labels_transformed))\n",
        "\n",
        "iris_labels_transformed[:5]"
      ],
      "metadata": {
        "colab": {
          "base_uri": "https://localhost:8080/"
        },
        "id": "zMG44pmhRoUD",
        "outputId": "97323ba5-62bc-4a65-d970-ebead60371a7"
      },
      "execution_count": 47,
      "outputs": [
        {
          "output_type": "stream",
          "name": "stdout",
          "text": [
            "unique labels [0. 1. 2.]\n"
          ]
        },
        {
          "output_type": "execute_result",
          "data": {
            "text/plain": [
              "array([[0.],\n",
              "       [0.],\n",
              "       [0.],\n",
              "       [0.],\n",
              "       [0.]])"
            ]
          },
          "metadata": {},
          "execution_count": 47
        }
      ]
    },
    {
      "cell_type": "markdown",
      "source": [
        "###  OrdinalEncoder is for converting features, while LabelEncoder is for converting target variable.\n",
        "\n",
        "### That's why OrdinalEncoder can fit data that has the shape of (n_samples, n_features) while LabelEncoder can only fit data that has the shape of (n_samples,)"
      ],
      "metadata": {
        "id": "hFyjVTlLSkM4"
      }
    },
    {
      "cell_type": "code",
      "source": [
        "## multilabel binarizer in case there are multiple values assosiated with each column"
      ],
      "metadata": {
        "id": "B0XGVrm8SbyN"
      },
      "execution_count": 48,
      "outputs": []
    },
    {
      "cell_type": "markdown",
      "source": [
        "## using dummy variables"
      ],
      "metadata": {
        "id": "CFF-6SVgTzvC"
      }
    },
    {
      "cell_type": "code",
      "source": [
        "# using dummy variable to create one hot encoding for each unique categorical value in the 'class' column\n",
        "# convert categorical class variable to one hot encoding\n",
        "\n",
        "iris_data_onehot = pd.get_dummies(iris_data, columns=['label'], prefix=['one_hot'])\n",
        "\n",
        "'''\n",
        "OneHotEncoder cannot process string values directly. If your nominal features are strings, then you need to first map them into integers.\n",
        "\n",
        "pandas.get_dummies is kind of the opposite. By default, it only converts string columns into one-hot representation, unless columns are specified.\n",
        "'''\n",
        "\n",
        "iris_data_onehot\n"
      ],
      "metadata": {
        "colab": {
          "base_uri": "https://localhost:8080/",
          "height": 485
        },
        "id": "u7KPMlTjTf5y",
        "outputId": "79357e1c-4a5f-46dd-9542-f66604fb530e"
      },
      "execution_count": 49,
      "outputs": [
        {
          "output_type": "execute_result",
          "data": {
            "text/plain": [
              "     sepal length  sepal width  petal length  petal width  \\\n",
              "0             5.1          3.5           1.4          0.2   \n",
              "1             4.9          3.0           1.4          0.2   \n",
              "2             4.7          3.2           1.3          0.2   \n",
              "3             4.6          3.1           1.5          0.2   \n",
              "4             5.0          3.6           1.4          0.2   \n",
              "..            ...          ...           ...          ...   \n",
              "145           6.7          3.0           5.2          2.3   \n",
              "146           6.3          2.5           5.0          1.9   \n",
              "147           6.5          3.0           5.2          2.0   \n",
              "148           6.2          3.4           5.4          2.3   \n",
              "149           5.9          3.0           5.1          1.8   \n",
              "\n",
              "     one_hot_Iris-setosa  one_hot_Iris-versicolor  one_hot_Iris-virginica  \n",
              "0                      1                        0                       0  \n",
              "1                      1                        0                       0  \n",
              "2                      1                        0                       0  \n",
              "3                      1                        0                       0  \n",
              "4                      1                        0                       0  \n",
              "..                   ...                      ...                     ...  \n",
              "145                    0                        0                       1  \n",
              "146                    0                        0                       1  \n",
              "147                    0                        0                       1  \n",
              "148                    0                        0                       1  \n",
              "149                    0                        0                       1  \n",
              "\n",
              "[150 rows x 7 columns]"
            ],
            "text/html": [
              "\n",
              "  <div id=\"df-8f3d4a9b-c614-4426-ae4d-fde5363bbcde\">\n",
              "    <div class=\"colab-df-container\">\n",
              "      <div>\n",
              "<style scoped>\n",
              "    .dataframe tbody tr th:only-of-type {\n",
              "        vertical-align: middle;\n",
              "    }\n",
              "\n",
              "    .dataframe tbody tr th {\n",
              "        vertical-align: top;\n",
              "    }\n",
              "\n",
              "    .dataframe thead th {\n",
              "        text-align: right;\n",
              "    }\n",
              "</style>\n",
              "<table border=\"1\" class=\"dataframe\">\n",
              "  <thead>\n",
              "    <tr style=\"text-align: right;\">\n",
              "      <th></th>\n",
              "      <th>sepal length</th>\n",
              "      <th>sepal width</th>\n",
              "      <th>petal length</th>\n",
              "      <th>petal width</th>\n",
              "      <th>one_hot_Iris-setosa</th>\n",
              "      <th>one_hot_Iris-versicolor</th>\n",
              "      <th>one_hot_Iris-virginica</th>\n",
              "    </tr>\n",
              "  </thead>\n",
              "  <tbody>\n",
              "    <tr>\n",
              "      <th>0</th>\n",
              "      <td>5.1</td>\n",
              "      <td>3.5</td>\n",
              "      <td>1.4</td>\n",
              "      <td>0.2</td>\n",
              "      <td>1</td>\n",
              "      <td>0</td>\n",
              "      <td>0</td>\n",
              "    </tr>\n",
              "    <tr>\n",
              "      <th>1</th>\n",
              "      <td>4.9</td>\n",
              "      <td>3.0</td>\n",
              "      <td>1.4</td>\n",
              "      <td>0.2</td>\n",
              "      <td>1</td>\n",
              "      <td>0</td>\n",
              "      <td>0</td>\n",
              "    </tr>\n",
              "    <tr>\n",
              "      <th>2</th>\n",
              "      <td>4.7</td>\n",
              "      <td>3.2</td>\n",
              "      <td>1.3</td>\n",
              "      <td>0.2</td>\n",
              "      <td>1</td>\n",
              "      <td>0</td>\n",
              "      <td>0</td>\n",
              "    </tr>\n",
              "    <tr>\n",
              "      <th>3</th>\n",
              "      <td>4.6</td>\n",
              "      <td>3.1</td>\n",
              "      <td>1.5</td>\n",
              "      <td>0.2</td>\n",
              "      <td>1</td>\n",
              "      <td>0</td>\n",
              "      <td>0</td>\n",
              "    </tr>\n",
              "    <tr>\n",
              "      <th>4</th>\n",
              "      <td>5.0</td>\n",
              "      <td>3.6</td>\n",
              "      <td>1.4</td>\n",
              "      <td>0.2</td>\n",
              "      <td>1</td>\n",
              "      <td>0</td>\n",
              "      <td>0</td>\n",
              "    </tr>\n",
              "    <tr>\n",
              "      <th>...</th>\n",
              "      <td>...</td>\n",
              "      <td>...</td>\n",
              "      <td>...</td>\n",
              "      <td>...</td>\n",
              "      <td>...</td>\n",
              "      <td>...</td>\n",
              "      <td>...</td>\n",
              "    </tr>\n",
              "    <tr>\n",
              "      <th>145</th>\n",
              "      <td>6.7</td>\n",
              "      <td>3.0</td>\n",
              "      <td>5.2</td>\n",
              "      <td>2.3</td>\n",
              "      <td>0</td>\n",
              "      <td>0</td>\n",
              "      <td>1</td>\n",
              "    </tr>\n",
              "    <tr>\n",
              "      <th>146</th>\n",
              "      <td>6.3</td>\n",
              "      <td>2.5</td>\n",
              "      <td>5.0</td>\n",
              "      <td>1.9</td>\n",
              "      <td>0</td>\n",
              "      <td>0</td>\n",
              "      <td>1</td>\n",
              "    </tr>\n",
              "    <tr>\n",
              "      <th>147</th>\n",
              "      <td>6.5</td>\n",
              "      <td>3.0</td>\n",
              "      <td>5.2</td>\n",
              "      <td>2.0</td>\n",
              "      <td>0</td>\n",
              "      <td>0</td>\n",
              "      <td>1</td>\n",
              "    </tr>\n",
              "    <tr>\n",
              "      <th>148</th>\n",
              "      <td>6.2</td>\n",
              "      <td>3.4</td>\n",
              "      <td>5.4</td>\n",
              "      <td>2.3</td>\n",
              "      <td>0</td>\n",
              "      <td>0</td>\n",
              "      <td>1</td>\n",
              "    </tr>\n",
              "    <tr>\n",
              "      <th>149</th>\n",
              "      <td>5.9</td>\n",
              "      <td>3.0</td>\n",
              "      <td>5.1</td>\n",
              "      <td>1.8</td>\n",
              "      <td>0</td>\n",
              "      <td>0</td>\n",
              "      <td>1</td>\n",
              "    </tr>\n",
              "  </tbody>\n",
              "</table>\n",
              "<p>150 rows × 7 columns</p>\n",
              "</div>\n",
              "      <button class=\"colab-df-convert\" onclick=\"convertToInteractive('df-8f3d4a9b-c614-4426-ae4d-fde5363bbcde')\"\n",
              "              title=\"Convert this dataframe to an interactive table.\"\n",
              "              style=\"display:none;\">\n",
              "        \n",
              "  <svg xmlns=\"http://www.w3.org/2000/svg\" height=\"24px\"viewBox=\"0 0 24 24\"\n",
              "       width=\"24px\">\n",
              "    <path d=\"M0 0h24v24H0V0z\" fill=\"none\"/>\n",
              "    <path d=\"M18.56 5.44l.94 2.06.94-2.06 2.06-.94-2.06-.94-.94-2.06-.94 2.06-2.06.94zm-11 1L8.5 8.5l.94-2.06 2.06-.94-2.06-.94L8.5 2.5l-.94 2.06-2.06.94zm10 10l.94 2.06.94-2.06 2.06-.94-2.06-.94-.94-2.06-.94 2.06-2.06.94z\"/><path d=\"M17.41 7.96l-1.37-1.37c-.4-.4-.92-.59-1.43-.59-.52 0-1.04.2-1.43.59L10.3 9.45l-7.72 7.72c-.78.78-.78 2.05 0 2.83L4 21.41c.39.39.9.59 1.41.59.51 0 1.02-.2 1.41-.59l7.78-7.78 2.81-2.81c.8-.78.8-2.07 0-2.86zM5.41 20L4 18.59l7.72-7.72 1.47 1.35L5.41 20z\"/>\n",
              "  </svg>\n",
              "      </button>\n",
              "      \n",
              "  <style>\n",
              "    .colab-df-container {\n",
              "      display:flex;\n",
              "      flex-wrap:wrap;\n",
              "      gap: 12px;\n",
              "    }\n",
              "\n",
              "    .colab-df-convert {\n",
              "      background-color: #E8F0FE;\n",
              "      border: none;\n",
              "      border-radius: 50%;\n",
              "      cursor: pointer;\n",
              "      display: none;\n",
              "      fill: #1967D2;\n",
              "      height: 32px;\n",
              "      padding: 0 0 0 0;\n",
              "      width: 32px;\n",
              "    }\n",
              "\n",
              "    .colab-df-convert:hover {\n",
              "      background-color: #E2EBFA;\n",
              "      box-shadow: 0px 1px 2px rgba(60, 64, 67, 0.3), 0px 1px 3px 1px rgba(60, 64, 67, 0.15);\n",
              "      fill: #174EA6;\n",
              "    }\n",
              "\n",
              "    [theme=dark] .colab-df-convert {\n",
              "      background-color: #3B4455;\n",
              "      fill: #D2E3FC;\n",
              "    }\n",
              "\n",
              "    [theme=dark] .colab-df-convert:hover {\n",
              "      background-color: #434B5C;\n",
              "      box-shadow: 0px 1px 3px 1px rgba(0, 0, 0, 0.15);\n",
              "      filter: drop-shadow(0px 1px 2px rgba(0, 0, 0, 0.3));\n",
              "      fill: #FFFFFF;\n",
              "    }\n",
              "  </style>\n",
              "\n",
              "      <script>\n",
              "        const buttonEl =\n",
              "          document.querySelector('#df-8f3d4a9b-c614-4426-ae4d-fde5363bbcde button.colab-df-convert');\n",
              "        buttonEl.style.display =\n",
              "          google.colab.kernel.accessAllowed ? 'block' : 'none';\n",
              "\n",
              "        async function convertToInteractive(key) {\n",
              "          const element = document.querySelector('#df-8f3d4a9b-c614-4426-ae4d-fde5363bbcde');\n",
              "          const dataTable =\n",
              "            await google.colab.kernel.invokeFunction('convertToInteractive',\n",
              "                                                     [key], {});\n",
              "          if (!dataTable) return;\n",
              "\n",
              "          const docLinkHtml = 'Like what you see? Visit the ' +\n",
              "            '<a target=\"_blank\" href=https://colab.research.google.com/notebooks/data_table.ipynb>data table notebook</a>'\n",
              "            + ' to learn more about interactive tables.';\n",
              "          element.innerHTML = '';\n",
              "          dataTable['output_type'] = 'display_data';\n",
              "          await google.colab.output.renderOutput(dataTable, element);\n",
              "          const docLink = document.createElement('div');\n",
              "          docLink.innerHTML = docLinkHtml;\n",
              "          element.appendChild(docLink);\n",
              "        }\n",
              "      </script>\n",
              "    </div>\n",
              "  </div>\n",
              "  "
            ]
          },
          "metadata": {},
          "execution_count": 49
        }
      ]
    },
    {
      "cell_type": "markdown",
      "source": [
        "# 9. Composite Transformersx"
      ],
      "metadata": {
        "id": "2rxIPe-FVvmM"
      }
    },
    {
      "cell_type": "code",
      "source": [
        "x= [[20,'male',],\n",
        "    [19,'female',],\n",
        "    [22,'male',],\n",
        "    [30,'male',],\n",
        "    [50,'female',],]\n",
        "\n",
        "# import libraries\n",
        "from sklearn.compose import ColumnTransformer\n",
        "from sklearn.preprocessing import MaxAbsScaler, OneHotEncoder\n",
        "\n",
        "ct = ColumnTransformer([('scaler', MaxAbsScaler(),[0]),\n",
        "                        ('pass', 'passthrough',[0]),\n",
        "                        ('encoder', OneHotEncoder(), [1])])\n",
        "\n",
        "ct.fit_transform(x)"
      ],
      "metadata": {
        "colab": {
          "base_uri": "https://localhost:8080/"
        },
        "id": "GWn3Go1lUUOc",
        "outputId": "258a6d3d-3dda-4fa0-8493-25cd5be53933"
      },
      "execution_count": 50,
      "outputs": [
        {
          "output_type": "execute_result",
          "data": {
            "text/plain": [
              "array([[0.4, 20, 0.0, 1.0],\n",
              "       [0.38, 19, 1.0, 0.0],\n",
              "       [0.44, 22, 0.0, 1.0],\n",
              "       [0.6, 30, 0.0, 1.0],\n",
              "       [1.0, 50, 1.0, 0.0]], dtype=object)"
            ]
          },
          "metadata": {},
          "execution_count": 50
        }
      ]
    },
    {
      "cell_type": "markdown",
      "source": [
        "# transformed Target Regressor"
      ],
      "metadata": {
        "id": "Mfo4BNj9XI6h"
      }
    },
    {
      "cell_type": "markdown",
      "source": [
        "transforms the target variable y before fitting the regression model"
      ],
      "metadata": {
        "id": "64OdA6s2XMmv"
      }
    },
    {
      "cell_type": "code",
      "source": [
        "from sklearn.compose import TransformedTargetRegressor\n",
        "from sklearn.preprocessing import MaxAbsScaler\n",
        "from sklearn.linear_model import LinearRegression\n",
        "from sklearn.model_selection import train_test_split\n",
        "from sklearn.datasets import fetch_california_housing\n",
        "\n",
        "X, y = fetch_california_housing(return_X_y = True)\n",
        "X, y = X[:2000, :], y[:2000] # select only a subset of data\n",
        "\n",
        "transformer = MaxAbsScaler()\n",
        "\n",
        "regressor = LinearRegression()\n",
        "\n",
        "regr = TransformedTargetRegressor(regressor = regressor, transformer = transformer)\n",
        "# score of raw regressor\n",
        "X_train, X_test , y_train, y_test = train_test_split(X,y, random_state = 0)\n",
        "regr.fit(X_train, y_train)\n",
        "regr.score(X_test, y_test)"
      ],
      "metadata": {
        "colab": {
          "base_uri": "https://localhost:8080/"
        },
        "id": "ngo8w83CWumq",
        "outputId": "1d372195-ee0c-41a3-a4b9-ae58d2514f0d"
      },
      "execution_count": 51,
      "outputs": [
        {
          "output_type": "execute_result",
          "data": {
            "text/plain": [
              "0.5852954114112681"
            ]
          },
          "metadata": {},
          "execution_count": 51
        }
      ]
    },
    {
      "cell_type": "code",
      "source": [
        "# score of transformed label regressor\n",
        "raw_target_regr = LinearRegression().fit(X_train, y_train)\n",
        "raw_target_regr.score(X_test, y_test)"
      ],
      "metadata": {
        "colab": {
          "base_uri": "https://localhost:8080/"
        },
        "id": "j3HUlsHdZddN",
        "outputId": "a48d7e51-3f07-4176-b839-426736efa57e"
      },
      "execution_count": 52,
      "outputs": [
        {
          "output_type": "execute_result",
          "data": {
            "text/plain": [
              "0.5852954114112681"
            ]
          },
          "metadata": {},
          "execution_count": 52
        }
      ]
    },
    {
      "cell_type": "markdown",
      "source": [
        "# 6. Feature Selection"
      ],
      "metadata": {
        "id": "JGaM0enxtidh"
      }
    },
    {
      "cell_type": "markdown",
      "source": [
        "`sklearn.feature_selection` module has useful API to select features/ reduce dimensionality either to improve estimator's accuracy scores or to boost their performance on very high-dimensional datasets. "
      ],
      "metadata": {
        "id": "ZHqV5n1_uTIl"
      }
    },
    {
      "cell_type": "code",
      "source": [
        "# import\n",
        "\n",
        "from sklearn.feature_selection import VarianceThreshold"
      ],
      "metadata": {
        "id": "7C9DJ8GIw8eI"
      },
      "execution_count": 53,
      "outputs": []
    },
    {
      "cell_type": "code",
      "source": [
        "data = [\n",
        "    {'age':4,'height':96.0},\n",
        "    {'age':1,'height':72.0},\n",
        "    {'age':3,'height':88.0},\n",
        "    {'age':2,'height':81.0},\n",
        "]\n",
        "\n",
        "dv = DictVectorizer(sparse = False)\n",
        "data_transformed= dv.fit_transform(data)\n",
        "np.var(data_transformed, axis = 0)"
      ],
      "metadata": {
        "colab": {
          "base_uri": "https://localhost:8080/"
        },
        "id": "uMoNRBElxlPV",
        "outputId": "a437a0e1-3231-4034-aba5-28bc7d103411"
      },
      "execution_count": 54,
      "outputs": [
        {
          "output_type": "execute_result",
          "data": {
            "text/plain": [
              "array([ 1.25  , 78.1875])"
            ]
          },
          "metadata": {},
          "execution_count": 54
        }
      ]
    },
    {
      "cell_type": "code",
      "source": [
        "# variance threshold\n",
        "\n",
        "vt = VarianceThreshold(threshold =9)\n",
        "data_new = vt.fit_transform(data_transformed)\n",
        "data_new\n"
      ],
      "metadata": {
        "colab": {
          "base_uri": "https://localhost:8080/"
        },
        "id": "vXk77nGoZ4Ae",
        "outputId": "f9e0cc0b-be35-4eb6-87ea-6423625c22e8"
      },
      "execution_count": 55,
      "outputs": [
        {
          "output_type": "execute_result",
          "data": {
            "text/plain": [
              "array([[96.],\n",
              "       [72.],\n",
              "       [88.],\n",
              "       [81.]])"
            ]
          },
          "metadata": {},
          "execution_count": 55
        }
      ]
    },
    {
      "cell_type": "markdown",
      "source": [
        "## SelectKBest"
      ],
      "metadata": {
        "id": "adZKhe9Py4Tv"
      }
    },
    {
      "cell_type": "code",
      "source": [
        "import numpy as np\n",
        "from sklearn.datasets import fetch_california_housing\n",
        "from sklearn.model_selection import train_test_split\n",
        "from sklearn.feature_selection import SelectKBest, mutual_info_regression\n",
        "\n",
        "# download data\n",
        "x_california, y_california = fetch_california_housing(return_X_y = True)\n",
        "\n",
        "# select a subset of data\n",
        "X,y = x_california[:2000, :], y_california[:2000]\n",
        "\n",
        "print(X.shape)"
      ],
      "metadata": {
        "colab": {
          "base_uri": "https://localhost:8080/"
        },
        "id": "FYN5AxPZyVEq",
        "outputId": "dae1668a-2eb9-4569-eaef-da8fed0cf307"
      },
      "execution_count": 56,
      "outputs": [
        {
          "output_type": "stream",
          "name": "stdout",
          "text": [
            "(2000, 8)\n"
          ]
        }
      ]
    },
    {
      "cell_type": "code",
      "source": [
        "# lets select 3 most important features as its a regression problem\n",
        "# we can use mutual_info_regression or f_regression scoring functions only\n",
        "\n",
        "skb = SelectKBest(mutual_info_regression, k = 3)\n",
        "X_new = skb.fit_transform(X,y)\n",
        "print(X_new.shape)"
      ],
      "metadata": {
        "colab": {
          "base_uri": "https://localhost:8080/"
        },
        "id": "1ohqx0orznRd",
        "outputId": "dfa1d716-c92f-4ca1-9fe7-ef58a1e641a8"
      },
      "execution_count": 57,
      "outputs": [
        {
          "output_type": "stream",
          "name": "stdout",
          "text": [
            "(2000, 3)\n"
          ]
        }
      ]
    },
    {
      "cell_type": "code",
      "source": [
        "# get the feature names\n",
        "\n",
        "skb.get_feature_names_out()"
      ],
      "metadata": {
        "colab": {
          "base_uri": "https://localhost:8080/"
        },
        "id": "a8AFc6eNz-3t",
        "outputId": "ed835183-1f4a-4aa8-f2cb-1bae16d4633f"
      },
      "execution_count": 58,
      "outputs": [
        {
          "output_type": "execute_result",
          "data": {
            "text/plain": [
              "array(['x0', 'x6', 'x7'], dtype=object)"
            ]
          },
          "metadata": {},
          "execution_count": 58
        }
      ]
    },
    {
      "cell_type": "code",
      "source": [
        "# SelectPercentile\n",
        "\n",
        "from sklearn.feature_selection import SelectPercentile\n",
        "sp = SelectPercentile(mutual_info_regression, percentile = 30)\n",
        "X_new = sp.fit_transform(X,y)\n",
        "print(X_new.shape)"
      ],
      "metadata": {
        "colab": {
          "base_uri": "https://localhost:8080/"
        },
        "id": "_Uche1re1t9Y",
        "outputId": "dda204b3-62da-4215-9fa3-603597931ab3"
      },
      "execution_count": 59,
      "outputs": [
        {
          "output_type": "stream",
          "name": "stdout",
          "text": [
            "(2000, 3)\n"
          ]
        }
      ]
    },
    {
      "cell_type": "code",
      "source": [
        "sp.get_feature_names_out()"
      ],
      "metadata": {
        "colab": {
          "base_uri": "https://localhost:8080/"
        },
        "id": "m-SoXhB62jZa",
        "outputId": "3a3675b4-bb75-42e8-b958-eef73c0015b1"
      },
      "execution_count": 60,
      "outputs": [
        {
          "output_type": "execute_result",
          "data": {
            "text/plain": [
              "array(['x0', 'x6', 'x7'], dtype=object)"
            ]
          },
          "metadata": {},
          "execution_count": 60
        }
      ]
    },
    {
      "cell_type": "markdown",
      "source": [
        "## Generic Univariate Select"
      ],
      "metadata": {
        "id": "xAaJtYSo3PkT"
      }
    },
    {
      "cell_type": "markdown",
      "source": [
        "It applies uivariate feature selection with certain strategy , which is passed to API via mode parameter. The mode can take one of the following values: `percentile`, `k_best`, `fpr`: false positive rate, `fdr`: false discovery rate, `fwe`: family wise error"
      ],
      "metadata": {
        "id": "3b83BSmI3YTk"
      }
    },
    {
      "cell_type": "code",
      "source": [
        "from sklearn.feature_selection import GenericUnivariateSelect\n",
        "gus = GenericUnivariateSelect(mutual_info_regression, mode = 'k_best', param = 3)\n",
        "X_new = gus.fit_transform(X,y)\n",
        "\n",
        "# shape before feature selection\n",
        "X.shape"
      ],
      "metadata": {
        "colab": {
          "base_uri": "https://localhost:8080/"
        },
        "id": "oJtpzfO129aU",
        "outputId": "c7e283e2-f55a-45c7-e828-df9deb372a9c"
      },
      "execution_count": 61,
      "outputs": [
        {
          "output_type": "execute_result",
          "data": {
            "text/plain": [
              "(2000, 8)"
            ]
          },
          "metadata": {},
          "execution_count": 61
        }
      ]
    },
    {
      "cell_type": "code",
      "source": [
        "# shape after the feature selection\n",
        "\n",
        "X_new.shape"
      ],
      "metadata": {
        "colab": {
          "base_uri": "https://localhost:8080/"
        },
        "id": "VR_42VoG4hFR",
        "outputId": "bea5c19c-abac-4409-8beb-1d9fcfeba6a0"
      },
      "execution_count": 62,
      "outputs": [
        {
          "output_type": "execute_result",
          "data": {
            "text/plain": [
              "(2000, 3)"
            ]
          },
          "metadata": {},
          "execution_count": 62
        }
      ]
    },
    {
      "cell_type": "markdown",
      "source": [
        "## Wrapper based methods"
      ],
      "metadata": {
        "id": "gddpodrdAnuQ"
      }
    },
    {
      "cell_type": "code",
      "source": [
        "# RFE: Recursive Feature elimination\n",
        "\n",
        "#step 1: fits the model\n",
        "# step 2: Ranks the features and then removes one or more features (depending upon step parameters)"
      ],
      "metadata": {
        "id": "w6iFMYqM4t1L"
      },
      "execution_count": 63,
      "outputs": []
    },
    {
      "cell_type": "code",
      "source": [
        "from sklearn.datasets import make_friedman1\n",
        "from sklearn.feature_selection import RFE\n",
        "from sklearn.linear_model import LinearRegression\n",
        "\n",
        "estimator = LinearRegression()\n",
        "selector = RFE(estimator, n_features_to_select = 3, step =1)\n",
        "selector = selector.fit(X,y)\n",
        "\n",
        "# support attribute is a boolean array\n",
        "# marks which features are selected\n",
        "\n",
        "selector.support_"
      ],
      "metadata": {
        "colab": {
          "base_uri": "https://localhost:8080/"
        },
        "id": "n6ZmxeoKA2nu",
        "outputId": "c62821e0-dc25-43ed-f7a8-6d1769cdccce"
      },
      "execution_count": 64,
      "outputs": [
        {
          "output_type": "execute_result",
          "data": {
            "text/plain": [
              "array([ True, False, False, False, False, False,  True,  True])"
            ]
          },
          "metadata": {},
          "execution_count": 64
        }
      ]
    },
    {
      "cell_type": "code",
      "source": [
        "# how are features ranked:\n",
        "# if rank is 1 then its selected else with rank 2 or more are ranked least\n",
        "\n",
        "selector.ranking_"
      ],
      "metadata": {
        "colab": {
          "base_uri": "https://localhost:8080/"
        },
        "id": "8vdiEHxbBoSC",
        "outputId": "849d93e8-c914-4a13-88eb-376412aee6be"
      },
      "execution_count": 65,
      "outputs": [
        {
          "output_type": "execute_result",
          "data": {
            "text/plain": [
              "array([1, 5, 4, 3, 6, 2, 1, 1])"
            ]
          },
          "metadata": {},
          "execution_count": 65
        }
      ]
    },
    {
      "cell_type": "code",
      "source": [
        "# tansformation\n",
        "X_new = selector.transform(X)\n",
        "X_new.shape"
      ],
      "metadata": {
        "colab": {
          "base_uri": "https://localhost:8080/"
        },
        "id": "_R66dPGqB61d",
        "outputId": "5df9d333-9ebe-4efa-e005-d1aada06eb3d"
      },
      "execution_count": 66,
      "outputs": [
        {
          "output_type": "execute_result",
          "data": {
            "text/plain": [
              "(2000, 3)"
            ]
          },
          "metadata": {},
          "execution_count": 66
        }
      ]
    },
    {
      "cell_type": "code",
      "source": [
        "# RFE-CV is same as RFE except that it adds one more layer of CV to RFE"
      ],
      "metadata": {
        "id": "E7XbrdVoCoVz"
      },
      "execution_count": 67,
      "outputs": []
    },
    {
      "cell_type": "code",
      "source": [
        "# selectfrom model\n",
        "\n",
        "from sklearn.feature_selection import SelectFromModel\n",
        "\n",
        "estimator = LinearRegression()\n",
        "estimator.fit(X,y)\n",
        "\n",
        "print('the coefficient of features, ', estimator.coef_)"
      ],
      "metadata": {
        "colab": {
          "base_uri": "https://localhost:8080/"
        },
        "id": "Zpi7buhQC8VZ",
        "outputId": "2b5efd5b-a4f8-4c11-bf6e-e773d0d93f79"
      },
      "execution_count": 68,
      "outputs": [
        {
          "output_type": "stream",
          "name": "stdout",
          "text": [
            "the coefficient of features,  [ 3.64048292e-01  5.56221906e-03  5.13591243e-02 -1.64474348e-01\n",
            "  5.90411479e-05 -1.64573915e-01 -2.17724525e-01 -1.85343265e-01]\n"
          ]
        }
      ]
    },
    {
      "cell_type": "code",
      "source": [
        "print('coefficient of top 3 featuers, ', np.argsort(estimator.coef_)[-3:])"
      ],
      "metadata": {
        "colab": {
          "base_uri": "https://localhost:8080/"
        },
        "id": "mQaOxxCCDSve",
        "outputId": "6176c494-5214-4418-90ec-2dc80906546d"
      },
      "execution_count": 69,
      "outputs": [
        {
          "output_type": "stream",
          "name": "stdout",
          "text": [
            "coefficient of top 3 featuers,  [1 2 0]\n"
          ]
        }
      ]
    },
    {
      "cell_type": "code",
      "source": [
        "model = SelectFromModel(estimator, max_features = 3, prefit = True)\n",
        "x_new = model.transform(X)\n",
        "x_new.shape"
      ],
      "metadata": {
        "colab": {
          "base_uri": "https://localhost:8080/"
        },
        "id": "XxoWHjsaDf-F",
        "outputId": "5b1a6494-c583-4d83-d854-9a4338262ffd"
      },
      "execution_count": 70,
      "outputs": [
        {
          "output_type": "execute_result",
          "data": {
            "text/plain": [
              "(2000, 3)"
            ]
          },
          "metadata": {},
          "execution_count": 70
        }
      ]
    },
    {
      "cell_type": "code",
      "source": [
        "# Sequential Feature Selection\n",
        "\n",
        "from sklearn.feature_selection import SequentialFeatureSelector\n"
      ],
      "metadata": {
        "id": "O89XULCND424"
      },
      "execution_count": 71,
      "outputs": []
    },
    {
      "cell_type": "code",
      "source": [
        "%%time\n",
        "estimator = LinearRegression()\n",
        "\n",
        "sfs = SequentialFeatureSelector(estimator, n_features_to_select = 3)\n",
        "sfs.fit_transform(X,y)\n",
        "\n",
        "print(sfs.get_support())"
      ],
      "metadata": {
        "colab": {
          "base_uri": "https://localhost:8080/"
        },
        "id": "1JM3g7LHD2fZ",
        "outputId": "41c45d85-4112-4211-e04d-2b8afe31d1fa"
      },
      "execution_count": 72,
      "outputs": [
        {
          "output_type": "stream",
          "name": "stdout",
          "text": [
            "[ True False False False False  True  True False]\n",
            "CPU times: user 189 ms, sys: 25.9 ms, total: 215 ms\n",
            "Wall time: 215 ms\n"
          ]
        }
      ]
    },
    {
      "cell_type": "code",
      "source": [
        "%%time\n",
        "estimator = LinearRegression()\n",
        "\n",
        "sfs = SequentialFeatureSelector(estimator, n_features_to_select = 3, direction = 'backward')\n",
        "sfs.fit_transform(X,y)\n",
        "\n",
        "print(sfs.get_support())"
      ],
      "metadata": {
        "colab": {
          "base_uri": "https://localhost:8080/"
        },
        "id": "3hn1GbUkEsN1",
        "outputId": "18261e44-9f7d-4f25-d2c2-0ebbae3a4cfc"
      },
      "execution_count": 73,
      "outputs": [
        {
          "output_type": "stream",
          "name": "stdout",
          "text": [
            "[ True False False False False  True  True False]\n",
            "CPU times: user 360 ms, sys: 187 ms, total: 547 ms\n",
            "Wall time: 361 ms\n"
          ]
        }
      ]
    },
    {
      "cell_type": "code",
      "source": [
        "# Both Backward and Forward mode selects same features"
      ],
      "metadata": {
        "id": "tJI2y0_DE3wc"
      },
      "execution_count": 74,
      "outputs": []
    },
    {
      "cell_type": "markdown",
      "source": [
        "#11. PCA"
      ],
      "metadata": {
        "id": "qrcTlYjkFfO5"
      }
    },
    {
      "cell_type": "markdown",
      "source": [
        "here feature selection is called Feature reduction. "
      ],
      "metadata": {
        "id": "rKTDF2rZFjAb"
      }
    },
    {
      "cell_type": "code",
      "source": [
        "from sklearn.decomposition import PCA\n",
        "pca = PCA(n_components = 2)\n",
        "pca.fit(X)"
      ],
      "metadata": {
        "colab": {
          "base_uri": "https://localhost:8080/"
        },
        "id": "Wuz9cbhLFDwq",
        "outputId": "1acecc9c-cfca-45f7-83d0-c4e28820ca06"
      },
      "execution_count": 75,
      "outputs": [
        {
          "output_type": "execute_result",
          "data": {
            "text/plain": [
              "PCA(n_components=2)"
            ]
          },
          "metadata": {},
          "execution_count": 75
        }
      ]
    },
    {
      "cell_type": "code",
      "source": [
        "# principal components\n",
        "pca.n_components_"
      ],
      "metadata": {
        "colab": {
          "base_uri": "https://localhost:8080/"
        },
        "id": "JtSmDIKuF46R",
        "outputId": "245d98b2-ddba-4678-a745-e1932eadccbb"
      },
      "execution_count": 76,
      "outputs": [
        {
          "output_type": "execute_result",
          "data": {
            "text/plain": [
              "2"
            ]
          },
          "metadata": {},
          "execution_count": 76
        }
      ]
    },
    {
      "cell_type": "code",
      "source": [
        "# principal axes\n",
        "pca.components_"
      ],
      "metadata": {
        "colab": {
          "base_uri": "https://localhost:8080/"
        },
        "id": "por9mkMjF-AF",
        "outputId": "4873381a-5cec-4bea-901e-054486e82e0e"
      },
      "execution_count": 77,
      "outputs": [
        {
          "output_type": "execute_result",
          "data": {
            "text/plain": [
              "array([[ 3.58746278e-04, -5.26626273e-03, -3.55739438e-04,\n",
              "        -1.04636644e-04,  9.99985993e-01,  1.07189337e-04,\n",
              "        -3.72926795e-05, -3.18638902e-05],\n",
              "       [ 2.83042309e-02, -9.96787172e-01,  7.04618553e-02,\n",
              "         1.11176863e-02, -5.23215008e-03, -1.02817045e-03,\n",
              "         1.45200590e-02,  1.69252465e-02]])"
            ]
          },
          "metadata": {},
          "execution_count": 77
        }
      ]
    },
    {
      "cell_type": "code",
      "source": [
        "# explained varaince corresponding to each principal axee\n",
        "\n",
        "pca.explained_variance_"
      ],
      "metadata": {
        "colab": {
          "base_uri": "https://localhost:8080/"
        },
        "id": "uJsJ6JBSGAWi",
        "outputId": "226c6407-71c6-4f44-a60b-5f8d282dc420"
      },
      "execution_count": 78,
      "outputs": [
        {
          "output_type": "execute_result",
          "data": {
            "text/plain": [
              "array([9.32990794e+05, 1.72499472e+02])"
            ]
          },
          "metadata": {},
          "execution_count": 78
        }
      ]
    },
    {
      "cell_type": "code",
      "source": [
        "# Mean across dimensions:\n",
        "\n",
        "pca.mean_"
      ],
      "metadata": {
        "colab": {
          "base_uri": "https://localhost:8080/"
        },
        "id": "jVVHJ509GO62",
        "outputId": "6ef56c71-d57f-4ea1-eebe-ef32b3099a2b"
      },
      "execution_count": 81,
      "outputs": [
        {
          "output_type": "execute_result",
          "data": {
            "text/plain": [
              "array([ 3.88541705e+00,  3.13105000e+01,  5.89404425e+00,  1.15137723e+00,\n",
              "        1.24335450e+03,  2.72214812e+00,  3.80665650e+01, -1.21940045e+02])"
            ]
          },
          "metadata": {},
          "execution_count": 81
        }
      ]
    },
    {
      "cell_type": "code",
      "source": [
        "# draw the projections on different vectors\n",
        "projections = X@pca.components_\n",
        "print(projections.shape)\n",
        "\n",
        "arbitrary_projections = X@c3\n",
        "arbitrary_projections.shape "
      ],
      "metadata": {
        "colab": {
          "base_uri": "https://localhost:8080/",
          "height": 217
        },
        "id": "MMaz0GSsGZ05",
        "outputId": "e16da72e-2bd7-4c9f-a13a-4b3a2ab07c5d"
      },
      "execution_count": 80,
      "outputs": [
        {
          "output_type": "error",
          "ename": "ValueError",
          "evalue": "ignored",
          "traceback": [
            "\u001b[0;31m---------------------------------------------------------------------------\u001b[0m",
            "\u001b[0;31mValueError\u001b[0m                                Traceback (most recent call last)",
            "\u001b[0;32m<ipython-input-80-5db6934c2c1a>\u001b[0m in \u001b[0;36m<module>\u001b[0;34m\u001b[0m\n\u001b[1;32m      1\u001b[0m \u001b[0;31m# draw the projections on different vectors\u001b[0m\u001b[0;34m\u001b[0m\u001b[0;34m\u001b[0m\u001b[0;34m\u001b[0m\u001b[0m\n\u001b[0;32m----> 2\u001b[0;31m \u001b[0mprojections\u001b[0m \u001b[0;34m=\u001b[0m \u001b[0mX\u001b[0m\u001b[0;34m@\u001b[0m\u001b[0mpca\u001b[0m\u001b[0;34m.\u001b[0m\u001b[0mcomponents_\u001b[0m\u001b[0;34m\u001b[0m\u001b[0;34m\u001b[0m\u001b[0m\n\u001b[0m\u001b[1;32m      3\u001b[0m \u001b[0mprint\u001b[0m\u001b[0;34m(\u001b[0m\u001b[0mprojections\u001b[0m\u001b[0;34m.\u001b[0m\u001b[0mshape\u001b[0m\u001b[0;34m)\u001b[0m\u001b[0;34m\u001b[0m\u001b[0;34m\u001b[0m\u001b[0m\n",
            "\u001b[0;31mValueError\u001b[0m: matmul: Input operand 1 has a mismatch in its core dimension 0, with gufunc signature (n?,k),(k,m?)->(n?,m?) (size 2 is different from 8)"
          ]
        }
      ]
    },
    {
      "cell_type": "code",
      "source": [
        "# reducing dimensions:\n",
        "\n",
        "pca = PCA(n_components = 1)\n",
        "pca.fit(X)\n",
        "x_pca = pca.transform(X)\n",
        "\n",
        "# this part is covered in other notebook with visualisation\n"
      ],
      "metadata": {
        "id": "VuDY2n0LHHAT"
      },
      "execution_count": null,
      "outputs": []
    },
    {
      "cell_type": "markdown",
      "source": [
        "# 12. Chaining Transformers"
      ],
      "metadata": {
        "id": "OkLGSq7oOJ81"
      }
    },
    {
      "cell_type": "markdown",
      "source": [
        "The preprocesssing transformations are applied one after another on the input feature matrix\n",
        "\n",
        "It is important to apply exactly same transformations on training, evaluation, and test set in same order."
      ],
      "metadata": {
        "id": "DqWlLk29OPR5"
      }
    },
    {
      "cell_type": "markdown",
      "source": [
        "failing to do so will lead to incorrect predictions from the model due to distribution shift and hence incorrect performance evaluation\n"
      ],
      "metadata": {
        "id": "5baA04fEOp5-"
      }
    },
    {
      "cell_type": "code",
      "source": [
        "# sklearn.pipeline module: sequentially apply list of transformers and estimators\n",
        "\n",
        "from sklearn.pipeline import Pipeline\n",
        "from sklearn.impute import SimpleImputer\n",
        "from sklearn.preprocessing import StandardScaler\n",
        "estimators = [\n",
        "    ('simple imputer', SimpleImputer()),\n",
        "    ('standard Scaler', StandardScaler())\n",
        "]\n",
        "pipe = Pipeline(steps = estimators)\n"
      ],
      "metadata": {
        "id": "oA27BoZoOMXu"
      },
      "execution_count": 82,
      "outputs": []
    },
    {
      "cell_type": "markdown",
      "source": [
        "Intermediate steps of the pipeline must be transformers that is they must implement fit and transform method. The final estimator needs to implement only fit."
      ],
      "metadata": {
        "id": "MOZSOmy3P9gt"
      }
    },
    {
      "cell_type": "code",
      "source": [
        "# same can be created using make_pipeline\n",
        "\n",
        "from sklearn.pipeline import make_pipeline\n",
        "pipe = make_pipeline(SimpleImputer(), StandardScaler())"
      ],
      "metadata": {
        "id": "Cvlxd-0fPfNe"
      },
      "execution_count": 83,
      "outputs": []
    },
    {
      "cell_type": "code",
      "source": [
        "# accessing individual steps in the pipeline:\n",
        "\n",
        "from sklearn.decomposition import PCA\n",
        "estimators = [('SimpleImputer', SimpleImputer()),\n",
        "              ('pca', PCA()),\n",
        "              ('regressor', LinearRegression())]\n",
        "\n",
        "pipe = Pipeline(steps = estimators)"
      ],
      "metadata": {
        "id": "iL4IB2i5QX2s"
      },
      "execution_count": 84,
      "outputs": []
    },
    {
      "cell_type": "code",
      "source": [
        "# number of steps in pipeline:\n",
        "\n",
        "len(pipe.steps)"
      ],
      "metadata": {
        "colab": {
          "base_uri": "https://localhost:8080/"
        },
        "id": "yTOzfBpmQ0FI",
        "outputId": "8eefe74e-2c26-475b-d19a-3963a87caf34"
      },
      "execution_count": 85,
      "outputs": [
        {
          "output_type": "execute_result",
          "data": {
            "text/plain": [
              "3"
            ]
          },
          "metadata": {},
          "execution_count": 85
        }
      ]
    },
    {
      "cell_type": "code",
      "source": [
        "pipe.steps"
      ],
      "metadata": {
        "colab": {
          "base_uri": "https://localhost:8080/"
        },
        "id": "Ueo4FoA6RB7h",
        "outputId": "50ea1caf-02fc-4186-9a55-0197d4ac117e"
      },
      "execution_count": 86,
      "outputs": [
        {
          "output_type": "execute_result",
          "data": {
            "text/plain": [
              "[('SimpleImputer', SimpleImputer()),\n",
              " ('pca', PCA()),\n",
              " ('regressor', LinearRegression())]"
            ]
          },
          "metadata": {},
          "execution_count": 86
        }
      ]
    },
    {
      "cell_type": "code",
      "source": [
        "# access the second step:\n",
        "\n",
        "pipe.named_steps.pca"
      ],
      "metadata": {
        "colab": {
          "base_uri": "https://localhost:8080/"
        },
        "id": "rVRWiTKdRF97",
        "outputId": "d0a4eeb1-f79e-44b5-a119-7fed05e7e0be"
      },
      "execution_count": 87,
      "outputs": [
        {
          "output_type": "execute_result",
          "data": {
            "text/plain": [
              "PCA()"
            ]
          },
          "metadata": {},
          "execution_count": 87
        }
      ]
    },
    {
      "cell_type": "code",
      "source": [
        "pipe.steps[1]"
      ],
      "metadata": {
        "colab": {
          "base_uri": "https://localhost:8080/"
        },
        "id": "yCT2YZ0kRNM8",
        "outputId": "737c6ab4-0eea-474e-c28f-67e642dbf590"
      },
      "execution_count": 89,
      "outputs": [
        {
          "output_type": "execute_result",
          "data": {
            "text/plain": [
              "('pca', PCA())"
            ]
          },
          "metadata": {},
          "execution_count": 89
        }
      ]
    },
    {
      "cell_type": "code",
      "source": [
        "pipe[1]"
      ],
      "metadata": {
        "colab": {
          "base_uri": "https://localhost:8080/"
        },
        "id": "5ki0HIJsRQmx",
        "outputId": "22d12af5-e0b3-494e-d720-258cf6742f7d"
      },
      "execution_count": 90,
      "outputs": [
        {
          "output_type": "execute_result",
          "data": {
            "text/plain": [
              "PCA()"
            ]
          },
          "metadata": {},
          "execution_count": 90
        }
      ]
    },
    {
      "cell_type": "code",
      "source": [
        "pipe['pca']"
      ],
      "metadata": {
        "colab": {
          "base_uri": "https://localhost:8080/"
        },
        "id": "CXMpL35eRTbR",
        "outputId": "beae71b2-41ea-43f2-f1f3-8cb5a090393b"
      },
      "execution_count": 91,
      "outputs": [
        {
          "output_type": "execute_result",
          "data": {
            "text/plain": [
              "PCA()"
            ]
          },
          "metadata": {},
          "execution_count": 91
        }
      ]
    },
    {
      "cell_type": "code",
      "source": [
        "# accessing parameter of steps in pipeline:\n",
        "\n",
        "estimators = [('SimpleImputer', SimpleImputer()),\n",
        "              ('pca', PCA()),\n",
        "              ('regressor', LinearRegression())]\n",
        "\n",
        "pipe = Pipeline(steps = estimators)\n",
        "\n",
        "# this is set after the pipeline is created\n",
        "pipe.set_params(pca__n_components = 2)"
      ],
      "metadata": {
        "colab": {
          "base_uri": "https://localhost:8080/"
        },
        "id": "EdlgtoxDRVgs",
        "outputId": "1ed60a69-75bc-4b75-8280-59a15d50d60d"
      },
      "execution_count": 94,
      "outputs": [
        {
          "output_type": "execute_result",
          "data": {
            "text/plain": [
              "Pipeline(steps=[('SimpleImputer', SimpleImputer()),\n",
              "                ('pca', PCA(n_components=2)),\n",
              "                ('regressor', LinearRegression())])"
            ]
          },
          "metadata": {},
          "execution_count": 94
        }
      ]
    },
    {
      "cell_type": "code",
      "source": [
        "# Gridsearch with pipeline\n",
        "\n",
        "from sklearn.impute import KNNImputer\n",
        "from sklearn.linear_model import LogisticRegression\n",
        "from sklearn.svm import SVC\n",
        "from sklearn.model_selection import GridSearchCV\n",
        "\n",
        "param_grid = dict(imputer = ['passthrough',\n",
        "                             SimpleImputer(),\n",
        "                             KNNImputer()], clf = [SVC(), LogisticRegression()], clf_C = [0.1,10,100])\n",
        "\n",
        "grid_search = GridSearchCV(pipe, param_grid = param_grid)\n",
        "\n",
        "# c is inverse of regularization. Smaller its value stronger the regularisation is. \n",
        "\n",
        "# in above example clf_C provides set of values for regularization"
      ],
      "metadata": {
        "id": "aZjZWwSERqUI"
      },
      "execution_count": 96,
      "outputs": []
    },
    {
      "cell_type": "code",
      "source": [
        "# Caching Transformers:\n",
        "\n",
        "'''\n",
        "Transforming data is an expensive step.\n",
        "\n",
        "for grid-search, transformers need not to be applied for every parameter configuration. They can be applied only once and transformed data can be reused.\n",
        "\n",
        "this can be achieved using memory parameter of pipeline object\n",
        "'''\n",
        "\n",
        "import tempfile\n",
        "tempDirPath = tempfile.TemporaryDirectory()\n",
        "\n",
        "estimators = [('Simple Imputer', SimpleImputer()),\n",
        "              ('pca', PCA()),\n",
        "              ('regressor', LinearRegression())]\n",
        "\n",
        "pipe = Pipeline(steps = estimators, memory = tempDirPath)"
      ],
      "metadata": {
        "id": "TKvEnfPQS6Kh"
      },
      "execution_count": 98,
      "outputs": []
    },
    {
      "cell_type": "code",
      "source": [
        "# Feature Union\n",
        "\n",
        "'''\n",
        "It applies list of transformer objects in parallel. and their output are concatenated side-by-side into larger matrix\n",
        "`Feature Union` and `Pipeline` can be used to create complex transformers\n",
        "'''\n",
        "\n"
      ],
      "metadata": {
        "colab": {
          "base_uri": "https://localhost:8080/",
          "height": 53
        },
        "id": "VEIma-ksT3Z1",
        "outputId": "a427525c-c8eb-41b5-8d5f-bed31ee3c717"
      },
      "execution_count": 99,
      "outputs": [
        {
          "output_type": "execute_result",
          "data": {
            "text/plain": [
              "'\\nIt applies list of transformer objects in parallel. and their output are concatenated side-by-side into larger matrix\\n`Feature Union` and `Pipeline` can be used to create complex transformers\\n'"
            ],
            "application/vnd.google.colaboratory.intrinsic+json": {
              "type": "string"
            }
          },
          "metadata": {},
          "execution_count": 99
        }
      ]
    },
    {
      "cell_type": "markdown",
      "source": [
        "# 13. Visualizing Pipeline"
      ],
      "metadata": {
        "id": "nqQRiK9oUoGV"
      }
    },
    {
      "cell_type": "code",
      "source": [
        "from sklearn.preprocessing import StandardScaler, LabelBinarizer\n",
        "from sklearn.pipeline import Pipeline, FeatureUnion\n",
        "from sklearn.compose import ColumnTransformer\n",
        "from sklearn.impute import SimpleImputer"
      ],
      "metadata": {
        "id": "YDVaJ-fgUrsd"
      },
      "execution_count": 100,
      "outputs": []
    },
    {
      "cell_type": "code",
      "source": [
        "num_pipeline = Pipeline([\n",
        "    ('selector', ColumnTransformer([('select_first_4', 'passthrough', slice(0,4))])),\n",
        "    ('imputer', SimpleImputer(strategy = 'median')),\n",
        "    ('std_scaler', StandardScaler())])\n",
        "\n",
        "cat_pipeline = ColumnTransformer([('label binarizer', LabelBinarizer(), [4]),])\n",
        "\n",
        "full_pipline = FeatureUnion(transformer_list = [('num_pipeline', num_pipeline),\n",
        "                                                ('cat_pipeline', cat_pipeline)])"
      ],
      "metadata": {
        "id": "i1kqYBRXVChU"
      },
      "execution_count": 103,
      "outputs": []
    },
    {
      "cell_type": "code",
      "source": [
        "from sklearn import set_config\n",
        "set_config(display = 'diagram')\n",
        "# displays html representation in jupyter context\n",
        "full_pipline"
      ],
      "metadata": {
        "colab": {
          "base_uri": "https://localhost:8080/",
          "height": 315
        },
        "id": "6RHVrQ44WHxK",
        "outputId": "a0211071-995d-4984-881c-4eb68bd3aa96"
      },
      "execution_count": 105,
      "outputs": [
        {
          "output_type": "execute_result",
          "data": {
            "text/plain": [
              "FeatureUnion(transformer_list=[('num_pipeline',\n",
              "                                Pipeline(steps=[('selector',\n",
              "                                                 ColumnTransformer(transformers=[('select_first_4',\n",
              "                                                                                  'passthrough',\n",
              "                                                                                  slice(0, 4, None))])),\n",
              "                                                ('imputer',\n",
              "                                                 SimpleImputer(strategy='median')),\n",
              "                                                ('std_scaler',\n",
              "                                                 StandardScaler())])),\n",
              "                               ('cat_pipeline',\n",
              "                                ColumnTransformer(transformers=[('label '\n",
              "                                                                 'binarizer',\n",
              "                                                                 LabelBinarizer(),\n",
              "                                                                 [4])]))])"
            ],
            "text/html": [
              "<style>#sk-8c631979-0d24-4e0d-8c15-0e0273bcfb61 {color: black;background-color: white;}#sk-8c631979-0d24-4e0d-8c15-0e0273bcfb61 pre{padding: 0;}#sk-8c631979-0d24-4e0d-8c15-0e0273bcfb61 div.sk-toggleable {background-color: white;}#sk-8c631979-0d24-4e0d-8c15-0e0273bcfb61 label.sk-toggleable__label {cursor: pointer;display: block;width: 100%;margin-bottom: 0;padding: 0.3em;box-sizing: border-box;text-align: center;}#sk-8c631979-0d24-4e0d-8c15-0e0273bcfb61 label.sk-toggleable__label-arrow:before {content: \"▸\";float: left;margin-right: 0.25em;color: #696969;}#sk-8c631979-0d24-4e0d-8c15-0e0273bcfb61 label.sk-toggleable__label-arrow:hover:before {color: black;}#sk-8c631979-0d24-4e0d-8c15-0e0273bcfb61 div.sk-estimator:hover label.sk-toggleable__label-arrow:before {color: black;}#sk-8c631979-0d24-4e0d-8c15-0e0273bcfb61 div.sk-toggleable__content {max-height: 0;max-width: 0;overflow: hidden;text-align: left;background-color: #f0f8ff;}#sk-8c631979-0d24-4e0d-8c15-0e0273bcfb61 div.sk-toggleable__content pre {margin: 0.2em;color: black;border-radius: 0.25em;background-color: #f0f8ff;}#sk-8c631979-0d24-4e0d-8c15-0e0273bcfb61 input.sk-toggleable__control:checked~div.sk-toggleable__content {max-height: 200px;max-width: 100%;overflow: auto;}#sk-8c631979-0d24-4e0d-8c15-0e0273bcfb61 input.sk-toggleable__control:checked~label.sk-toggleable__label-arrow:before {content: \"▾\";}#sk-8c631979-0d24-4e0d-8c15-0e0273bcfb61 div.sk-estimator input.sk-toggleable__control:checked~label.sk-toggleable__label {background-color: #d4ebff;}#sk-8c631979-0d24-4e0d-8c15-0e0273bcfb61 div.sk-label input.sk-toggleable__control:checked~label.sk-toggleable__label {background-color: #d4ebff;}#sk-8c631979-0d24-4e0d-8c15-0e0273bcfb61 input.sk-hidden--visually {border: 0;clip: rect(1px 1px 1px 1px);clip: rect(1px, 1px, 1px, 1px);height: 1px;margin: -1px;overflow: hidden;padding: 0;position: absolute;width: 1px;}#sk-8c631979-0d24-4e0d-8c15-0e0273bcfb61 div.sk-estimator {font-family: monospace;background-color: #f0f8ff;border: 1px dotted black;border-radius: 0.25em;box-sizing: border-box;margin-bottom: 0.5em;}#sk-8c631979-0d24-4e0d-8c15-0e0273bcfb61 div.sk-estimator:hover {background-color: #d4ebff;}#sk-8c631979-0d24-4e0d-8c15-0e0273bcfb61 div.sk-parallel-item::after {content: \"\";width: 100%;border-bottom: 1px solid gray;flex-grow: 1;}#sk-8c631979-0d24-4e0d-8c15-0e0273bcfb61 div.sk-label:hover label.sk-toggleable__label {background-color: #d4ebff;}#sk-8c631979-0d24-4e0d-8c15-0e0273bcfb61 div.sk-serial::before {content: \"\";position: absolute;border-left: 1px solid gray;box-sizing: border-box;top: 2em;bottom: 0;left: 50%;}#sk-8c631979-0d24-4e0d-8c15-0e0273bcfb61 div.sk-serial {display: flex;flex-direction: column;align-items: center;background-color: white;padding-right: 0.2em;padding-left: 0.2em;}#sk-8c631979-0d24-4e0d-8c15-0e0273bcfb61 div.sk-item {z-index: 1;}#sk-8c631979-0d24-4e0d-8c15-0e0273bcfb61 div.sk-parallel {display: flex;align-items: stretch;justify-content: center;background-color: white;}#sk-8c631979-0d24-4e0d-8c15-0e0273bcfb61 div.sk-parallel::before {content: \"\";position: absolute;border-left: 1px solid gray;box-sizing: border-box;top: 2em;bottom: 0;left: 50%;}#sk-8c631979-0d24-4e0d-8c15-0e0273bcfb61 div.sk-parallel-item {display: flex;flex-direction: column;position: relative;background-color: white;}#sk-8c631979-0d24-4e0d-8c15-0e0273bcfb61 div.sk-parallel-item:first-child::after {align-self: flex-end;width: 50%;}#sk-8c631979-0d24-4e0d-8c15-0e0273bcfb61 div.sk-parallel-item:last-child::after {align-self: flex-start;width: 50%;}#sk-8c631979-0d24-4e0d-8c15-0e0273bcfb61 div.sk-parallel-item:only-child::after {width: 0;}#sk-8c631979-0d24-4e0d-8c15-0e0273bcfb61 div.sk-dashed-wrapped {border: 1px dashed gray;margin: 0 0.4em 0.5em 0.4em;box-sizing: border-box;padding-bottom: 0.4em;background-color: white;position: relative;}#sk-8c631979-0d24-4e0d-8c15-0e0273bcfb61 div.sk-label label {font-family: monospace;font-weight: bold;background-color: white;display: inline-block;line-height: 1.2em;}#sk-8c631979-0d24-4e0d-8c15-0e0273bcfb61 div.sk-label-container {position: relative;z-index: 2;text-align: center;}#sk-8c631979-0d24-4e0d-8c15-0e0273bcfb61 div.sk-container {/* jupyter's `normalize.less` sets `[hidden] { display: none; }` but bootstrap.min.css set `[hidden] { display: none !important; }` so we also need the `!important` here to be able to override the default hidden behavior on the sphinx rendered scikit-learn.org. See: https://github.com/scikit-learn/scikit-learn/issues/21755 */display: inline-block !important;position: relative;}#sk-8c631979-0d24-4e0d-8c15-0e0273bcfb61 div.sk-text-repr-fallback {display: none;}</style><div id=\"sk-8c631979-0d24-4e0d-8c15-0e0273bcfb61\" class=\"sk-top-container\"><div class=\"sk-text-repr-fallback\"><pre>FeatureUnion(transformer_list=[(&#x27;num_pipeline&#x27;,\n",
              "                                Pipeline(steps=[(&#x27;selector&#x27;,\n",
              "                                                 ColumnTransformer(transformers=[(&#x27;select_first_4&#x27;,\n",
              "                                                                                  &#x27;passthrough&#x27;,\n",
              "                                                                                  slice(0, 4, None))])),\n",
              "                                                (&#x27;imputer&#x27;,\n",
              "                                                 SimpleImputer(strategy=&#x27;median&#x27;)),\n",
              "                                                (&#x27;std_scaler&#x27;,\n",
              "                                                 StandardScaler())])),\n",
              "                               (&#x27;cat_pipeline&#x27;,\n",
              "                                ColumnTransformer(transformers=[(&#x27;label &#x27;\n",
              "                                                                 &#x27;binarizer&#x27;,\n",
              "                                                                 LabelBinarizer(),\n",
              "                                                                 [4])]))])</pre><b>Please rerun this cell to show the HTML repr or trust the notebook.</b></div><div class=\"sk-container\" hidden><div class=\"sk-item sk-dashed-wrapped\"><div class=\"sk-label-container\"><div class=\"sk-label sk-toggleable\"><input class=\"sk-toggleable__control sk-hidden--visually\" id=\"8a23e324-ca27-42ab-bb66-7399366045ab\" type=\"checkbox\" ><label for=\"8a23e324-ca27-42ab-bb66-7399366045ab\" class=\"sk-toggleable__label sk-toggleable__label-arrow\">FeatureUnion</label><div class=\"sk-toggleable__content\"><pre>FeatureUnion(transformer_list=[(&#x27;num_pipeline&#x27;,\n",
              "                                Pipeline(steps=[(&#x27;selector&#x27;,\n",
              "                                                 ColumnTransformer(transformers=[(&#x27;select_first_4&#x27;,\n",
              "                                                                                  &#x27;passthrough&#x27;,\n",
              "                                                                                  slice(0, 4, None))])),\n",
              "                                                (&#x27;imputer&#x27;,\n",
              "                                                 SimpleImputer(strategy=&#x27;median&#x27;)),\n",
              "                                                (&#x27;std_scaler&#x27;,\n",
              "                                                 StandardScaler())])),\n",
              "                               (&#x27;cat_pipeline&#x27;,\n",
              "                                ColumnTransformer(transformers=[(&#x27;label &#x27;\n",
              "                                                                 &#x27;binarizer&#x27;,\n",
              "                                                                 LabelBinarizer(),\n",
              "                                                                 [4])]))])</pre></div></div></div><div class=\"sk-parallel\"><div class=\"sk-parallel-item\"><div class=\"sk-item\"><div class=\"sk-label-container\"><div class=\"sk-label sk-toggleable\"><label>num_pipeline</label></div></div><div class=\"sk-serial\"><div class=\"sk-item\"><div class=\"sk-serial\"><div class=\"sk-item sk-dashed-wrapped\"><div class=\"sk-label-container\"><div class=\"sk-label sk-toggleable\"><input class=\"sk-toggleable__control sk-hidden--visually\" id=\"cdedf869-e9ff-40d9-ad3e-f7828a950af7\" type=\"checkbox\" ><label for=\"cdedf869-e9ff-40d9-ad3e-f7828a950af7\" class=\"sk-toggleable__label sk-toggleable__label-arrow\">selector: ColumnTransformer</label><div class=\"sk-toggleable__content\"><pre>ColumnTransformer(transformers=[(&#x27;select_first_4&#x27;, &#x27;passthrough&#x27;,\n",
              "                                 slice(0, 4, None))])</pre></div></div></div><div class=\"sk-parallel\"><div class=\"sk-parallel-item\"><div class=\"sk-item\"><div class=\"sk-label-container\"><div class=\"sk-label sk-toggleable\"><input class=\"sk-toggleable__control sk-hidden--visually\" id=\"b1c9b2cc-23a4-4423-8989-e931bda5ca2d\" type=\"checkbox\" ><label for=\"b1c9b2cc-23a4-4423-8989-e931bda5ca2d\" class=\"sk-toggleable__label sk-toggleable__label-arrow\">select_first_4</label><div class=\"sk-toggleable__content\"><pre>slice(0, 4, None)</pre></div></div></div><div class=\"sk-serial\"><div class=\"sk-item\"><div class=\"sk-estimator sk-toggleable\"><input class=\"sk-toggleable__control sk-hidden--visually\" id=\"a8afcd52-18d6-4110-a75f-c68d541f2486\" type=\"checkbox\" ><label for=\"a8afcd52-18d6-4110-a75f-c68d541f2486\" class=\"sk-toggleable__label sk-toggleable__label-arrow\">passthrough</label><div class=\"sk-toggleable__content\"><pre>passthrough</pre></div></div></div></div></div></div></div></div><div class=\"sk-item\"><div class=\"sk-estimator sk-toggleable\"><input class=\"sk-toggleable__control sk-hidden--visually\" id=\"4164d5d1-e5e8-4b78-9853-bbce6119c4c1\" type=\"checkbox\" ><label for=\"4164d5d1-e5e8-4b78-9853-bbce6119c4c1\" class=\"sk-toggleable__label sk-toggleable__label-arrow\">SimpleImputer</label><div class=\"sk-toggleable__content\"><pre>SimpleImputer(strategy=&#x27;median&#x27;)</pre></div></div></div><div class=\"sk-item\"><div class=\"sk-estimator sk-toggleable\"><input class=\"sk-toggleable__control sk-hidden--visually\" id=\"2cdd6399-9f5d-4d80-8c1a-1ae0a832c098\" type=\"checkbox\" ><label for=\"2cdd6399-9f5d-4d80-8c1a-1ae0a832c098\" class=\"sk-toggleable__label sk-toggleable__label-arrow\">StandardScaler</label><div class=\"sk-toggleable__content\"><pre>StandardScaler()</pre></div></div></div></div></div></div></div></div><div class=\"sk-parallel-item\"><div class=\"sk-item\"><div class=\"sk-label-container\"><div class=\"sk-label sk-toggleable\"><label>cat_pipeline</label></div></div><div class=\"sk-serial\"><div class=\"sk-item sk-dashed-wrapped\"><div class=\"sk-parallel\"><div class=\"sk-parallel-item\"><div class=\"sk-item\"><div class=\"sk-label-container\"><div class=\"sk-label sk-toggleable\"><input class=\"sk-toggleable__control sk-hidden--visually\" id=\"ef60aab5-8fdd-4ff7-b33c-869bd9da3f25\" type=\"checkbox\" ><label for=\"ef60aab5-8fdd-4ff7-b33c-869bd9da3f25\" class=\"sk-toggleable__label sk-toggleable__label-arrow\">label binarizer</label><div class=\"sk-toggleable__content\"><pre>[4]</pre></div></div></div><div class=\"sk-serial\"><div class=\"sk-item\"><div class=\"sk-estimator sk-toggleable\"><input class=\"sk-toggleable__control sk-hidden--visually\" id=\"f82e558d-121a-42a0-847b-6bb366438916\" type=\"checkbox\" ><label for=\"f82e558d-121a-42a0-847b-6bb366438916\" class=\"sk-toggleable__label sk-toggleable__label-arrow\">LabelBinarizer</label><div class=\"sk-toggleable__content\"><pre>LabelBinarizer()</pre></div></div></div></div></div></div></div></div></div></div></div></div></div></div></div>"
            ]
          },
          "metadata": {},
          "execution_count": 105
        }
      ]
    },
    {
      "cell_type": "markdown",
      "source": [
        "# 14. Handling Imbalanced Data"
      ],
      "metadata": {
        "id": "Fgv8AxG3WyLx"
      }
    },
    {
      "cell_type": "markdown",
      "source": [
        "Imbalanced data are those where one class in very less represented than other. this kind of data results in less efficient ML algorithms.\n",
        "\n",
        "Two main approaches to handle the imbalanced data:\n",
        "\n",
        "1. Undersampling\n",
        "2. Oversampling"
      ],
      "metadata": {
        "id": "dcN7iQi3W52d"
      }
    },
    {
      "cell_type": "code",
      "source": [
        "wine_data = pd.read_csv('https://archive.ics.uci.edu/ml/machine-learning-databases/wine-quality/winequality-red.csv', sep=';')\n",
        "wine_data.head(5)\n",
        "\n",
        "# display the histogram of target variable quality\n",
        "\n",
        "wine_data['quality'].hist(bins = 50)\n",
        "plt.xlabel('Quality')\n",
        "plt.ylabel('Number of samples')\n",
        "plt.show()"
      ],
      "metadata": {
        "colab": {
          "base_uri": "https://localhost:8080/",
          "height": 285
        },
        "id": "j-QVpEOLWQNv",
        "outputId": "2f8367b8-410b-4738-bef1-236450705427"
      },
      "execution_count": 106,
      "outputs": [
        {
          "output_type": "display_data",
          "data": {
            "text/plain": [
              "<Figure size 432x288 with 1 Axes>"
            ],
            "image/png": "[encoded data removed]"
          },
          "metadata": {}
        }
      ]
    },
    {
      "cell_type": "code",
      "source": [
        "wine_data.shape"
      ],
      "metadata": {
        "colab": {
          "base_uri": "https://localhost:8080/"
        },
        "id": "P9AoIDhqX-pA",
        "outputId": "6238659f-b202-4786-b2fb-65ee9fc7b9c4"
      },
      "execution_count": 108,
      "outputs": [
        {
          "output_type": "execute_result",
          "data": {
            "text/plain": [
              "(1599, 12)"
            ]
          },
          "metadata": {},
          "execution_count": 108
        }
      ]
    },
    {
      "cell_type": "markdown",
      "source": [
        "## undersampling"
      ],
      "metadata": {
        "id": "-_GKP5TcYG8z"
      }
    },
    {
      "cell_type": "code",
      "source": [
        "# undersampling means sampling from majority class so that to keep only a part of these data points\n",
        "\n",
        "# it may be carried out using RandomUnderSampler class from imblearn library\n",
        "\n",
        "from imblearn.under_sampling import RandomUnderSampler"
      ],
      "metadata": {
        "id": "O4y1_T26YCKi"
      },
      "execution_count": 109,
      "outputs": []
    },
    {
      "cell_type": "code",
      "source": [
        "# class_count\n",
        "\n",
        "class_count_3, class_count_4, class_count_5, class_count_6, class_count_7, class_count_8 = wine_data['quality'].value_counts()"
      ],
      "metadata": {
        "id": "HGKs6qSuYbqo"
      },
      "execution_count": 110,
      "outputs": []
    },
    {
      "cell_type": "code",
      "source": [
        "# seperate class:\n",
        "\n",
        "class_3 = wine_data[wine_data['quality'] == 3]\n",
        "class_4 = wine_data[wine_data['quality'] == 4]\n",
        "class_5 = wine_data[wine_data['quality'] == 5]\n",
        "class_6 = wine_data[wine_data['quality'] == 6]\n",
        "class_7 = wine_data[wine_data['quality'] == 7]\n",
        "class_8 = wine_data[wine_data['quality'] == 8]"
      ],
      "metadata": {
        "id": "b-ciyMnPYsBA"
      },
      "execution_count": 112,
      "outputs": []
    },
    {
      "cell_type": "code",
      "source": [
        "# print shape of class\n",
        "class_3.shape"
      ],
      "metadata": {
        "colab": {
          "base_uri": "https://localhost:8080/"
        },
        "id": "Mv9lEcObYwju",
        "outputId": "5cd1fd13-47cb-4a7d-c79e-03c4fcbf0cd0"
      },
      "execution_count": 113,
      "outputs": [
        {
          "output_type": "execute_result",
          "data": {
            "text/plain": [
              "(10, 12)"
            ]
          },
          "metadata": {},
          "execution_count": 113
        }
      ]
    },
    {
      "cell_type": "code",
      "source": [
        "class_4.shape"
      ],
      "metadata": {
        "colab": {
          "base_uri": "https://localhost:8080/"
        },
        "id": "IRzOz-NQZK-E",
        "outputId": "2ec02561-6946-4e79-edd8-dceb839cb456"
      },
      "execution_count": 114,
      "outputs": [
        {
          "output_type": "execute_result",
          "data": {
            "text/plain": [
              "(53, 12)"
            ]
          },
          "metadata": {},
          "execution_count": 114
        }
      ]
    },
    {
      "cell_type": "code",
      "source": [
        "class_5.shape"
      ],
      "metadata": {
        "colab": {
          "base_uri": "https://localhost:8080/"
        },
        "id": "rpqScF51ZNye",
        "outputId": "201fdad0-07ca-4526-b9ad-fbf52455d4ca"
      },
      "execution_count": 115,
      "outputs": [
        {
          "output_type": "execute_result",
          "data": {
            "text/plain": [
              "(681, 12)"
            ]
          },
          "metadata": {},
          "execution_count": 115
        }
      ]
    },
    {
      "cell_type": "code",
      "source": [
        "class_6.shape"
      ],
      "metadata": {
        "colab": {
          "base_uri": "https://localhost:8080/"
        },
        "id": "JK63vSWgZPdZ",
        "outputId": "c6fc64b1-708e-4f84-f3af-19d1d923594f"
      },
      "execution_count": 116,
      "outputs": [
        {
          "output_type": "execute_result",
          "data": {
            "text/plain": [
              "(638, 12)"
            ]
          },
          "metadata": {},
          "execution_count": 116
        }
      ]
    },
    {
      "cell_type": "code",
      "source": [
        "class_7.shape"
      ],
      "metadata": {
        "colab": {
          "base_uri": "https://localhost:8080/"
        },
        "id": "7TZ-EmE1ZRF8",
        "outputId": "808f4bbc-bf0f-4a2b-ced2-53bdfae1ae52"
      },
      "execution_count": 117,
      "outputs": [
        {
          "output_type": "execute_result",
          "data": {
            "text/plain": [
              "(199, 12)"
            ]
          },
          "metadata": {},
          "execution_count": 117
        }
      ]
    },
    {
      "cell_type": "code",
      "source": [
        "from collections import Counter # it allows to count the items in iterable list\n",
        "\n",
        "X = wine_data.drop(['quality'],axis = 1)\n",
        "y = wine_data['quality']\n",
        "\n",
        "undersample = RandomUnderSampler(random_state = 0)\n",
        "X_rus , y_rus = undersample.fit_resample(X,y)\n",
        "\n",
        "print(Counter(y)) # original datser\n",
        "print(Counter(y_rus)) # resample dataset. selected 10 examples for each class"
      ],
      "metadata": {
        "colab": {
          "base_uri": "https://localhost:8080/"
        },
        "id": "nXyArNz4ZSWU",
        "outputId": "acf9890c-5383-4784-a19f-fa9e01368fe4"
      },
      "execution_count": 119,
      "outputs": [
        {
          "output_type": "stream",
          "name": "stdout",
          "text": [
            "Counter({5: 681, 6: 638, 7: 199, 4: 53, 8: 18, 3: 10})\n",
            "Counter({3: 10, 4: 10, 5: 10, 6: 10, 7: 10, 8: 10})\n"
          ]
        }
      ]
    },
    {
      "cell_type": "markdown",
      "source": [
        "## Oversampling"
      ],
      "metadata": {
        "id": "i4IE7bCNaAAh"
      }
    },
    {
      "cell_type": "code",
      "source": [
        "from imblearn.over_sampling import RandomOverSampler\n",
        "\n",
        "rus = RandomOverSampler()\n",
        "X_ros, y_ros = rus.fit_resample(X,y)\n",
        "\n",
        "print(Counter(y))\n",
        "print(Counter(y_ros)) # oversampled: 681 in each class now."
      ],
      "metadata": {
        "colab": {
          "base_uri": "https://localhost:8080/"
        },
        "id": "cnVWwZNnZ2Tp",
        "outputId": "4a9904a9-9ec4-472c-a8cd-cfaa711bf5e9"
      },
      "execution_count": 121,
      "outputs": [
        {
          "output_type": "stream",
          "name": "stdout",
          "text": [
            "Counter({5: 681, 6: 638, 7: 199, 4: 53, 8: 18, 3: 10})\n",
            "Counter({5: 681, 6: 681, 7: 681, 4: 681, 8: 681, 3: 681})\n"
          ]
        }
      ]
    },
    {
      "cell_type": "code",
      "source": [
        "# oversampling using SMOTE: Synthetic minority oversampling technique\n",
        "\n",
        "from imblearn.over_sampling import SMOTE\n",
        "\n",
        "oversample = SMOTE()\n",
        "X_sm, y_sm = oversample.fit_resample(X,y)\n",
        "counter = Counter(y_sm)\n",
        "counter # 681 for each class"
      ],
      "metadata": {
        "colab": {
          "base_uri": "https://localhost:8080/"
        },
        "id": "ZMK3-itPaQtw",
        "outputId": "e4a2a7e0-2b99-4161-dbd8-7437c61fb1be"
      },
      "execution_count": 123,
      "outputs": [
        {
          "output_type": "execute_result",
          "data": {
            "text/plain": [
              "Counter({5: 681, 6: 681, 7: 681, 4: 681, 8: 681, 3: 681})"
            ]
          },
          "metadata": {},
          "execution_count": 123
        }
      ]
    },
    {
      "cell_type": "code",
      "source": [
        "'''\n",
        "Types of SMOTE:\n",
        "\n",
        "1. Borderline SMOTE\n",
        "2. Borderline SMOTE SVM\n",
        "3. Adaptive Synthetic Sampling ADASYN\n",
        "'''"
      ],
      "metadata": {
        "colab": {
          "base_uri": "https://localhost:8080/",
          "height": 35
        },
        "id": "-c9OnYTEa2yo",
        "outputId": "1d3416ac-34ab-4104-aebc-6eff8d204e27"
      },
      "execution_count": 124,
      "outputs": [
        {
          "output_type": "execute_result",
          "data": {
            "text/plain": [
              "'\\nTypes of SMOTE:\\n\\n1. Borderline SMOTE\\n2. Borderline SMOTE SVM\\n3. Adaptive Synthetic Sampling ADASYN\\n'"
            ],
            "application/vnd.google.colaboratory.intrinsic+json": {
              "type": "string"
            }
          },
          "metadata": {},
          "execution_count": 124
        }
      ]
    },
    {
      "cell_type": "code",
      "source": [],
      "metadata": {
        "id": "zOKLkV0nbHHy"
      },
      "execution_count": null,
      "outputs": []
    }
  ]
}