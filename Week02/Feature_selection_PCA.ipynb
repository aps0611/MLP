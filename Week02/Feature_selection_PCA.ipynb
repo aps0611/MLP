{
  "nbformat": 4,
  "nbformat_minor": 0,
  "metadata": {
    "colab": {
      "provenance": []
    },
    "kernelspec": {
      "name": "python3",
      "display_name": "Python 3"
    },
    "language_info": {
      "name": "python"
    }
  },
  "cells": [
    {
      "cell_type": "markdown",
      "source": [
        "## `sklearn.decomposition` module has number of API for this task"
      ],
      "metadata": {
        "id": "EcA-kyRM0S81"
      }
    },
    {
      "cell_type": "markdown",
      "source": [
        "PCA: It uses singular value decomposition to project the feature matrix or data to a lower dimensional subspace"
      ],
      "metadata": {
        "id": "vwDqKfT50kU7"
      }
    },
    {
      "cell_type": "markdown",
      "source": [
        "`sklearn.decomposition.pca` API is use"
      ],
      "metadata": {
        "id": "Uloctc_e0-Q3"
      }
    },
    {
      "cell_type": "code",
      "execution_count": 1,
      "metadata": {
        "id": "hmIFvfJH0LLg"
      },
      "outputs": [],
      "source": [
        "# After doing PCA we select only first few principal components to reduce the dimension of the data"
      ]
    },
    {
      "cell_type": "markdown",
      "source": [
        "#### More to be covered in later weeks"
      ],
      "metadata": {
        "id": "ZMx0_DEb0kPK"
      }
    },
    {
      "cell_type": "code",
      "source": [],
      "metadata": {
        "id": "7ze2vEIi1vbc"
      },
      "execution_count": null,
      "outputs": []
    }
  ]
}