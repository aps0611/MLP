{
  "nbformat": 4,
  "nbformat_minor": 0,
  "metadata": {
    "colab": {
      "provenance": []
    },
    "kernelspec": {
      "name": "python3",
      "display_name": "Python 3"
    },
    "language_info": {
      "name": "python"
    }
  },
  "cells": [
    {
      "cell_type": "markdown",
      "source": [
        "# How to recognize Hyperparameters in any sklearn estimator?\n",
        "\n",
        "1. Hyperparameters are not direcly learned within the estimators\n",
        "\n",
        "2. E.g. Degree in PolynomialFeatures\n",
        "\n",
        "3. Learning Rate in SGD\n",
        "\n",
        "4. Generally passed as argument"
      ],
      "metadata": {
        "id": "vrDbSsubxQ82"
      }
    },
    {
      "cell_type": "markdown",
      "source": [
        "## Select hyperparameters that result in best cross validation validation scores"
      ],
      "metadata": {
        "id": "9XkLCU7MxwCs"
      }
    },
    {
      "cell_type": "markdown",
      "source": [
        "Hyperparameters search consists of ⁉\n",
        "\n",
        "1. an estimator\n",
        "2. parameter space\n",
        "3. a method for searching or sampling candidates\n",
        "4. cross-validation scheme \n",
        "5. Score Function\n",
        "\n"
      ],
      "metadata": {
        "id": "610-QTgUx3OG"
      }
    },
    {
      "cell_type": "markdown",
      "source": [
        "## HPT approaches in sklearn\n",
        "\n",
        "1. `GridSearchCV` exhaustively consideres all the parameter combinations for specified values\n",
        "\n",
        "\n",
        "```\n",
        "param_grid = [{'C':[1,10,100,1000],\n",
        "'kernel':['linear']}]\n",
        "```\n",
        "\n",
        "\n",
        "2. `RandomizedSearchCV` samples a given number of candidate values from a parameter space with a specified distribution\n",
        "\n",
        "```\n",
        "param_dist = {\n",
        "  \"average\":[True, False],\n",
        "  \"l1_ratio\": stats.uniform(0,1),\n",
        "  \"alpha\": loguniform(1e-4, 1e0)\n",
        "}\n",
        "```\n"
      ],
      "metadata": {
        "id": "JKlqaAiXyM7X"
      }
    },
    {
      "cell_type": "markdown",
      "source": [
        "## Grid Search Vs Randomized Search"
      ],
      "metadata": {
        "id": "qYbK1LrxNBoQ"
      }
    },
    {
      "cell_type": "markdown",
      "source": [
        "GridSearchCV | RandomizedSearchCV |\n",
        "-------------|--------------------|\n",
        "specifies the exact values of parameters in grid | Specifies the distribution of parameter values and values sampled from those distribtuion|\n",
        "   | Computational budget can be chosen independent of number of parameters and vlaues|\n",
        "   | The budget is chosen in terms of the number of sampled candidates or the number of training iterations. Specified in n_iter arguments. \n",
        "\n"
      ],
      "metadata": {
        "id": "-cToKQPzNEqY"
      }
    },
    {
      "cell_type": "markdown",
      "source": [
        "# Steps in HPT"
      ],
      "metadata": {
        "id": "fTldGthsTPo8"
      }
    },
    {
      "cell_type": "markdown",
      "source": [
        "1. Divide the Training data into training, validation and test set\n",
        "\n",
        "2. For each combination of hyper-parameter values learn a model with training set\n",
        "\n",
        "## This step creates multiple model\n",
        "set n_jobs = -1 to run step in parallel\n",
        "\n",
        "Some parameter combination may cause failure in fittin one or more folds of data. This may cause failure in fitting one or more folds of data. This may cause search to fail. Set error_score = 0 or np.NaN. for problematic fold to zero and complete the search\n",
        "\n",
        "\n",
        "3. Evaluate the performance of each model with validation set and select a model with best evaluation score\n",
        "\n",
        "4. Retrain model with best hyperparameter setting on training and validation set combined.\n",
        "\n",
        "5. Evaluate the model performance on test set. "
      ],
      "metadata": {
        "id": "2ab9hxNqTSFH"
      }
    },
    {
      "cell_type": "markdown",
      "source": [
        "# How to determine degree of polynomial regression with grid search?\n"
      ],
      "metadata": {
        "id": "VCpbLSLbVDa0"
      }
    },
    {
      "cell_type": "markdown",
      "source": [
        "\n",
        "\n",
        "```\n",
        "from sklearn.model_selection import GridSearchCV\n",
        "from sklearn.pipeline import Pipeline\n",
        "from sklearn.preprocessing import PolynomialFeatures\n",
        "from sklearn.linear_model import SGDRegressor\n",
        "param_grid = [{'poly_degree': [2,3,4,5,6,7,8,9]}]\n",
        "\n",
        "pipeline = Pipeline(steps = [('poly', PolynomialFeatures()),\n",
        "                             ('sgd', SGDRegressor())])\n",
        "\n",
        "grid_search = GridSearchCV(pipeline, param_grid, cv = 5, scoring = 'neg_mean_squared_error',\n",
        "                           return_train_score = True)\n",
        "\n",
        "grid_search.fit(x_train.reshape(-1,1), y_train)\n",
        "```\n",
        "\n"
      ],
      "metadata": {
        "id": "RH23GYEzV92O"
      }
    },
    {
      "cell_type": "code",
      "execution_count": null,
      "metadata": {
        "id": "7Hl5lW1CxQHz"
      },
      "outputs": [],
      "source": []
    }
  ]
}