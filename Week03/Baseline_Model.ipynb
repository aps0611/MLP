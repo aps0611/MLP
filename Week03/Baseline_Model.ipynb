{
  "nbformat": 4,
  "nbformat_minor": 0,
  "metadata": {
    "colab": {
      "provenance": []
    },
    "kernelspec": {
      "name": "python3",
      "display_name": "Python 3"
    },
    "language_info": {
      "name": "python"
    }
  },
  "cells": [
    {
      "cell_type": "code",
      "execution_count": 5,
      "metadata": {
        "id": "iw_CAUkUljv2"
      },
      "outputs": [],
      "source": [
        "# import \n",
        "\n",
        "import numpy as np\n",
        "import pandas as pd\n",
        "import matplotlib.pyplot as plt\n",
        "import seaborn as sns\n",
        "\n",
        "from sklearn.datasets import fetch_california_housing\n",
        "from sklearn.linear_model import LinearRegression\n",
        "\n",
        "from sklearn.model_selection import cross_validate\n",
        "from sklearn.model_selection import cross_val_score\n",
        "from sklearn.model_selection import learning_curve\n",
        "from sklearn.model_selection import ShuffleSplit\n",
        "from sklearn.model_selection import permutation_test_score\n",
        "from sklearn.model_selection import train_test_split\n",
        "\n",
        "from sklearn.metrics import mean_squared_error\n",
        "\n",
        "from sklearn.pipeline import Pipeline\n",
        "from sklearn.preprocessing import StandardScaler\n",
        "\n",
        "from sklearn.dummy import DummyRegressor\n"
      ]
    },
    {
      "cell_type": "code",
      "source": [
        "# use shufflesplit for cross validation\n",
        "\n",
        "shuffle_split_cv = ShuffleSplit(n_splits = 10, test_size = 0.2, random_state = 0)\n",
        "\n",
        "# lets load the data and split into training and test\n",
        "features, labels = fetch_california_housing(as_frame = True, return_X_y = True)\n",
        "train_features, test_features, train_labels, test_labels = train_test_split(\n",
        "    features, labels, random_state = 42)"
      ],
      "metadata": {
        "id": "zo05faMflvAg"
      },
      "execution_count": 6,
      "outputs": []
    },
    {
      "cell_type": "markdown",
      "source": [
        "# Linear Regression Classifier:"
      ],
      "metadata": {
        "id": "g2fZG1ZOm-av"
      }
    },
    {
      "cell_type": "code",
      "source": [
        "lin_reg_pipe = Pipeline([\n",
        "    ('feature_scaling', StandardScaler()),\n",
        "    ('lin_reg', LinearRegression())\n",
        "    ])\n",
        "\n",
        "lin_reg_cv_results = cross_validate(lin_reg_pipe, train_features, train_labels,\n",
        "                                   cv= shuffle_split_cv, \n",
        "                                   scoring = 'neg_mean_absolute_error',\n",
        "                                   n_jobs = True)\n",
        "\n",
        "lin_reg_errors = pd.Series(-lin_reg_cv_results['test_score'],\n",
        "                           name = 'Linear Regression Error')"
      ],
      "metadata": {
        "id": "5xPM9Xm_mxpW"
      },
      "execution_count": 10,
      "outputs": []
    },
    {
      "cell_type": "markdown",
      "source": [
        "# Dummy Regressor"
      ],
      "metadata": {
        "id": "fPMu57rBn9Iy"
      }
    },
    {
      "cell_type": "code",
      "source": [
        "def dummy_regressor_baseline(strategy, constant_val=None, quantile_val=None):\n",
        "  baseline_model_median = DummyRegressor(strategy=strategy,\n",
        "                                         constant=constant_val,\n",
        "                                         quantile=quantile_val)\n",
        "\n",
        "  baseline_median_cv_results = cross_validate(baseline_model_median,\n",
        "                                              train_features,\n",
        "                                              train_labels,\n",
        "                                              cv=shuffle_split_cv,\n",
        "                                              scoring=\"neg_mean_absolute_error\",\n",
        "                                              n_jobs=2)\n",
        "  \n",
        "  return pd.Series(-baseline_median_cv_results[\"test_score\"],\n",
        "                   name=\"Dummy regressor error\")"
      ],
      "metadata": {
        "id": "e7HoDs9ons0F"
      },
      "execution_count": 11,
      "outputs": []
    },
    {
      "cell_type": "code",
      "source": [
        "baseline_median_cv_results_errors = dummy_regressor_baseline(strategy='median')\n",
        "baseline_mean_cv_results_errors = dummy_regressor_baseline(strategy='mean')\n",
        "baseline_constant_cv_results_errors = dummy_regressor_baseline(strategy='constant',\n",
        "                                                               constant_val=2)\n",
        "baseline_quantile_cv_results_errors = dummy_regressor_baseline(strategy='quantile', \n",
        "                                                               quantile_val=0.55)"
      ],
      "metadata": {
        "id": "Dy4CT45xrovX"
      },
      "execution_count": 13,
      "outputs": []
    },
    {
      "cell_type": "code",
      "source": [
        "# compare the performance of dummy regressors\n",
        "\n",
        "dummy_error_df = pd.concat([baseline_median_cv_results_errors,\n",
        "                            baseline_mean_cv_results_errors,\n",
        "                            baseline_constant_cv_results_errors,\n",
        "                            baseline_quantile_cv_results_errors], axis=1)\n",
        "\n",
        "dummy_error_df.columns = ['Median CV', 'Mean CV', 'Constant CV', 'Quantile CV']\n"
      ],
      "metadata": {
        "id": "FwO25fM-sB3J"
      },
      "execution_count": 14,
      "outputs": []
    },
    {
      "cell_type": "code",
      "source": [
        "dummy_error_df.plot.hist(bins=50, density = True, edgecolor = 'black')\n",
        "plt.legend(bbox_to_anchor = [1.05, 0.8], loc = 'upper left')\n",
        "plt.xlabel('Mean Absolute error')\n",
        "_ = plt.title(\"Distribution of the testing errors\")"
      ],
      "metadata": {
        "colab": {
          "base_uri": "https://localhost:8080/",
          "height": 295
        },
        "id": "hbMDTWWestVg",
        "outputId": "718ada22-2efc-4957-c546-93290876d8fc"
      },
      "execution_count": 15,
      "outputs": [
        {
          "output_type": "display_data",
          "data": {
            "text/plain": [
              "<Figure size 432x288 with 1 Axes>"
            ],
            "image/png": "[encoded data removed]"
          },
          "metadata": {
            "needs_background": "light"
          }
        }
      ]
    },
    {
      "cell_type": "markdown",
      "source": [
        "# Permutation Test Score\n",
        "\n",
        "It permutes the target to generate randomized data and computes the empirical p-value against\n",
        "the null hypothesis, that features and targets are independent.\n",
        "\n",
        "Here we are interested in permutation_score returned by this API, which indicates score of the\n",
        "model on different permutations."
      ],
      "metadata": {
        "id": "TAuWwzMAtWx0"
      }
    },
    {
      "cell_type": "code",
      "source": [
        "score, permutation_score, pvalue = permutation_test_score(lin_reg_pipe,\n",
        "                                                          train_features,\n",
        "                                                          train_labels,\n",
        "                                                          cv=shuffle_split_cv,\n",
        "                                                          scoring=\"neg_mean_absolute_error\",\n",
        "                                                          n_jobs=2,\n",
        "                                                          n_permutations=30)\n",
        "permutation_errors = pd.Series(-permutation_score, name=\"Permuted error\")\n",
        "\n",
        "print(permutation_score)"
      ],
      "metadata": {
        "colab": {
          "base_uri": "https://localhost:8080/"
        },
        "id": "nrylhh92tEoU",
        "outputId": "44f74114-cff7-45bf-e51c-ddb32d310058"
      },
      "execution_count": 18,
      "outputs": [
        {
          "output_type": "stream",
          "name": "stdout",
          "text": [
            "[-0.91446539 -0.91608713 -0.91501122 -0.91112203 -0.91326112 -0.91428719\n",
            " -0.91694297 -0.90660687 -0.90873595 -0.91546138 -0.9084695  -0.91174023\n",
            " -0.91857102 -0.91467076 -0.90396709 -0.91239289 -0.91095499 -0.91729623\n",
            " -0.90529415 -0.91436609 -0.91993036 -0.91661883 -0.91104746 -0.91563156\n",
            " -0.91014294 -0.91526135 -0.90680247 -0.90796435 -0.91032999 -0.91545574]\n"
          ]
        }
      ]
    },
    {
      "cell_type": "markdown",
      "source": [
        "# Model comparison"
      ],
      "metadata": {
        "id": "hih0TQIBt92a"
      }
    },
    {
      "cell_type": "code",
      "source": [
        "error_df = pd.concat([lin_reg_errors, baseline_median_cv_results_errors, permutation_errors],axis=1)\n",
        "\n",
        "error_df.plot.hist(bins=50, density=True, edgecolor=\"black\")\n",
        "plt.legend(loc=\"best\")\n",
        "plt.xlabel(\"Mean absolute error (k$)\")\n",
        "_ = plt.title(\"Distribution of the testing errors\")"
      ],
      "metadata": {
        "colab": {
          "base_uri": "https://localhost:8080/",
          "height": 295
        },
        "id": "h4KTQqTtttW4",
        "outputId": "053a9627-119f-4046-b1b5-aee473b441ae"
      },
      "execution_count": 19,
      "outputs": [
        {
          "output_type": "display_data",
          "data": {
            "text/plain": [
              "<Figure size 432x288 with 1 Axes>"
            ],
            "image/png": "[encoded data removed]"
          },
          "metadata": {
            "needs_background": "light"
          }
        }
      ]
    },
    {
      "cell_type": "markdown",
      "source": [
        "Our model has better performance than the two baselines. However our model needs to improve\n",
        "it further."
      ],
      "metadata": {
        "id": "LscFt20buUhR"
      }
    },
    {
      "cell_type": "code",
      "source": [],
      "metadata": {
        "id": "Lxf0BseduL-S"
      },
      "execution_count": null,
      "outputs": []
    }
  ]
}