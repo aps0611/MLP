{
  "nbformat": 4,
  "nbformat_minor": 0,
  "metadata": {
    "colab": {
      "provenance": [],
      "include_colab_link": true
    },
    "kernelspec": {
      "name": "python3",
      "display_name": "Python 3"
    },
    "language_info": {
      "name": "python"
    }
  },
  "cells": [
    {
      "cell_type": "markdown",
      "metadata": {
        "id": "view-in-github",
        "colab_type": "text"
      },
      "source": [
        "<a href=\"https://colab.research.google.com/github/aps0611/Notes-Compiled/blob/main/Matrices.ipynb\" target=\"_parent\"><img src=\"https://colab.research.google.com/assets/colab-badge.svg\" alt=\"Open In Colab\"/></a>"
      ]
    },
    {
      "cell_type": "markdown",
      "source": [
        "# Matrices\n",
        "\n",
        "In this lecture, we will look at the following concepts:\n",
        "\n",
        "- Matrix as a `NumPy` array\n",
        "- Adding two matrices\n",
        "- Element-wise multiplication of two matrices\n",
        "- Scaling matrices\n",
        "- Function of matrices (element-wise)\n",
        "- Transpose of a matrix\n",
        "- Product of two matrices\n",
        "- Product of a matrix and a vector\n",
        "- Shape of a matrix\n",
        "- Matrix of zeros\n",
        "- Matrix of ones\n",
        "- Identity matrix"
      ],
      "metadata": {
        "id": "H729Vxqsdh5_"
      }
    },
    {
      "cell_type": "code",
      "source": [
        "import numpy as np"
      ],
      "metadata": {
        "id": "NTY1DDOO6aQS"
      },
      "execution_count": 1,
      "outputs": []
    },
    {
      "cell_type": "markdown",
      "source": [
        "## Matrix as a `NumPy` array\n",
        "\n",
        "Everything in `NumPy` is an array. A matrix is also an array. The main difference is that a matrix is a two dimensional array. Let us create a simple matrix:\n",
        "\n",
        "$$\n",
        "\\textbf{M} = \\begin{bmatrix}\n",
        "1 & 2 & 3\\\\\n",
        "4 & 5 & 6\\\\\n",
        "7 & 8 & 9\n",
        "\\end{bmatrix}\n",
        "$$\n",
        "\n",
        "In `NumPy` this becomes:"
      ],
      "metadata": {
        "id": "QchFdrAp6c0E"
      }
    },
    {
      "cell_type": "code",
      "source": [
        "M = np.array([[1, 2, 3], [4, 5, 6], [7, 8, 9]])\n",
        "M"
      ],
      "metadata": {
        "colab": {
          "base_uri": "https://localhost:8080/"
        },
        "id": "DURrZ-wb6426",
        "outputId": "7d85762d-5d9e-41a0-e5a1-a1c82124b672"
      },
      "execution_count": 2,
      "outputs": [
        {
          "output_type": "execute_result",
          "data": {
            "text/plain": [
              "array([[1, 2, 3],\n",
              "       [4, 5, 6],\n",
              "       [7, 8, 9]])"
            ]
          },
          "metadata": {},
          "execution_count": 2
        }
      ]
    },
    {
      "cell_type": "markdown",
      "source": [
        "In the code given above, the function `np.array` creates a `NumPy` array from a nested list."
      ],
      "metadata": {
        "id": "L9Iwwzwf69_s"
      }
    },
    {
      "cell_type": "markdown",
      "source": [
        "## Adding two matrices\n",
        "\n",
        "Let us now add the following matrices:\n",
        "\n",
        "$$\n",
        "\\textbf{A} = \\begin{bmatrix}\n",
        "1 & 2\\\\\n",
        "3 & 4\n",
        "\\end{bmatrix}, \\textbf{B} = \\begin{bmatrix}\n",
        "5 & 6\\\\\n",
        "7 & 8\n",
        "\\end{bmatrix}\n",
        "$$\n",
        "\n",
        "then,\n",
        "\n",
        "$$\n",
        "\\textbf{C} = \\textbf{A} + \\textbf{B}  = \\begin{bmatrix}\n",
        "6 & 8\\\\\n",
        "10 & 12\n",
        "\\end{bmatrix}\n",
        "$$\n",
        "\n",
        "In `NumPy` this becomes:"
      ],
      "metadata": {
        "id": "L7h4kYjw7XKe"
      }
    },
    {
      "cell_type": "code",
      "source": [
        "A = np.array([[1, 2], [3, 4]])\n",
        "B = np.array([[5, 6], [7, 8]])\n",
        "\n",
        "C = A + B\n",
        "C"
      ],
      "metadata": {
        "colab": {
          "base_uri": "https://localhost:8080/"
        },
        "id": "rOV92c-Y7SJT",
        "outputId": "57d28c28-5fbd-424c-ac3e-947363caa293"
      },
      "execution_count": 3,
      "outputs": [
        {
          "output_type": "execute_result",
          "data": {
            "text/plain": [
              "array([[ 6,  8],\n",
              "       [10, 12]])"
            ]
          },
          "metadata": {},
          "execution_count": 3
        }
      ]
    },
    {
      "cell_type": "markdown",
      "source": [
        "## Scaling a matrix\n",
        "\n",
        "Scaling a matrix is nothing but element-wise multiplication:\n",
        "\n",
        "$$\n",
        "\\textbf{M} = \\begin{bmatrix}\n",
        "1 & 2 & 3\\\\\n",
        "4 & 5 & 6\\\\\n",
        "7 & 8 & 9\n",
        "\\end{bmatrix}\n",
        "$$\n",
        "\n",
        "then, \n",
        "\n",
        "$$\n",
        "3 \\textbf{M} = \\begin{bmatrix}\n",
        "3 & 6 & 9\\\\\n",
        "12 & 15 & 18\\\\\n",
        "21 & 24 & 27\n",
        "\\end{bmatrix}\n",
        "$$\n",
        "\n",
        "In `NumPy` this becomes:"
      ],
      "metadata": {
        "id": "m_pCQww198OD"
      }
    },
    {
      "cell_type": "code",
      "source": [
        "M = np.array([[1, 2, 3], [4, 5, 6], [7, 8, 9]])\n",
        "P = 3 * M\n",
        "P"
      ],
      "metadata": {
        "colab": {
          "base_uri": "https://localhost:8080/"
        },
        "id": "jM_o92DpBoYe",
        "outputId": "a9f7ab8d-a533-408b-b234-7c95c85bf4a4"
      },
      "execution_count": 4,
      "outputs": [
        {
          "output_type": "execute_result",
          "data": {
            "text/plain": [
              "array([[ 3,  6,  9],\n",
              "       [12, 15, 18],\n",
              "       [21, 24, 27]])"
            ]
          },
          "metadata": {},
          "execution_count": 4
        }
      ]
    },
    {
      "cell_type": "markdown",
      "source": [
        "## Element-wise multiplication of matrices\n",
        "\n",
        "Consider two matrices:\n",
        "\n",
        "$$\n",
        "\\textbf{A} = \\begin{bmatrix}\n",
        "1 & 2\\\\\n",
        "3 & 4\n",
        "\\end{bmatrix}, \\textbf{B} = \\begin{bmatrix}\n",
        "5 & 6\\\\\n",
        "7 & 8\n",
        "\\end{bmatrix}\n",
        "$$\n",
        "\n",
        "The element-wise product is given by $\\textbf{A} \\odot \\textbf{B}$:\n",
        "\n",
        "$$\n",
        "\\textbf{C} = \\textbf{A} \\odot \\textbf{B} = \\begin{bmatrix}\n",
        "5 & 12\\\\\n",
        "21 & 32\n",
        "\\end{bmatrix}\n",
        "$$\n",
        "\n",
        "In `NumPy`, this becomes:"
      ],
      "metadata": {
        "id": "hmE4xEve7y0n"
      }
    },
    {
      "cell_type": "code",
      "source": [
        "A = np.array([[1, 2], [3, 4]])\n",
        "B = np.array([[5, 6], [7, 8]])\n",
        "\n",
        "C = A * B\n",
        "C"
      ],
      "metadata": {
        "colab": {
          "base_uri": "https://localhost:8080/"
        },
        "id": "USCv3DX18gbD",
        "outputId": "9a35e927-4a02-4179-b765-6f1b3f5f1526"
      },
      "execution_count": 5,
      "outputs": [
        {
          "output_type": "execute_result",
          "data": {
            "text/plain": [
              "array([[ 5, 12],\n",
              "       [21, 32]])"
            ]
          },
          "metadata": {},
          "execution_count": 5
        }
      ]
    },
    {
      "cell_type": "markdown",
      "source": [
        "## Functions (element-wise) of matrices\n",
        "\n",
        "Given a matrix, we sometimes would want to apply a function to every element of the matrix. For example, we may want to take the absolute value of all the elements. Let us say $f$ is this function, then:\n",
        "\n",
        "$$\n",
        "\\textbf{A} = \\begin{bmatrix}\n",
        "-1 & 2\\\\\n",
        "-3 & -4\n",
        "\\end{bmatrix}\n",
        "$$\n",
        "\n",
        "then:\n",
        "\n",
        "$$\n",
        "f(\\textbf{A}) = \\begin{bmatrix}\n",
        "1 & 2\\\\\n",
        "3 & 4\n",
        "\\end{bmatrix}\n",
        "$$\n",
        "\n",
        "In `NumPy`, this becomes:"
      ],
      "metadata": {
        "id": "V3iWGy8-8xho"
      }
    },
    {
      "cell_type": "code",
      "source": [
        "A = np.array([[-1, 2], [-3, -4]])\n",
        "f_A = np.abs(A)   # np.abs returns the absolute value\n",
        "\n",
        "f_A"
      ],
      "metadata": {
        "colab": {
          "base_uri": "https://localhost:8080/"
        },
        "id": "8svqjjFy-QG9",
        "outputId": "0d550815-39b5-4714-e664-4a47688ce279"
      },
      "execution_count": 7,
      "outputs": [
        {
          "output_type": "execute_result",
          "data": {
            "text/plain": [
              "array([[1, 2],\n",
              "       [3, 4]])"
            ]
          },
          "metadata": {},
          "execution_count": 7
        }
      ]
    },
    {
      "cell_type": "markdown",
      "source": [
        "Note that the function could be anything. For example, we might want to square each element of the matrix. If $\\textbf{A}$ is a matrix, then $\\textbf{B}$ could be defined element-wise as follows\n",
        "\n",
        "$$\n",
        "B_{ij} = A_{ij}^2\n",
        "$$\n",
        "\n",
        "In `NumPy` this becomes:"
      ],
      "metadata": {
        "id": "FYiMrhwx-hXT"
      }
    },
    {
      "cell_type": "code",
      "source": [
        "A = np.array([[1, 2], [3, 4]])\n",
        "B = A ** 2\n",
        "\n",
        "B"
      ],
      "metadata": {
        "colab": {
          "base_uri": "https://localhost:8080/"
        },
        "id": "uqym9th4-ywH",
        "outputId": "97a669a1-4a8e-4faa-f9c4-cf232ded139f"
      },
      "execution_count": 8,
      "outputs": [
        {
          "output_type": "execute_result",
          "data": {
            "text/plain": [
              "array([[ 1,  4],\n",
              "       [ 9, 16]])"
            ]
          },
          "metadata": {},
          "execution_count": 8
        }
      ]
    },
    {
      "cell_type": "markdown",
      "source": [
        "## Transpose of a matrix\n",
        "\n",
        "Given a matrix $\\textbf{M}$:\n",
        "\n",
        "$$\n",
        "\\textbf{M} = \\begin{bmatrix}\n",
        "1 & 2 & 3\\\\\n",
        "4 & 5 & 6\n",
        "\\end{bmatrix}\n",
        "$$\n",
        "\n",
        "then, its transpose $\\textbf{M}^{T}$ is:\n",
        "\n",
        "$$\n",
        "\\textbf{M}^{T} = \\begin{bmatrix}\n",
        "1 & 4\\\\\n",
        "2 & 5\\\\\n",
        "3 & 6\n",
        "\\end{bmatrix}\n",
        "$$\n",
        "\n",
        "In `NumPy`, this becomes:"
      ],
      "metadata": {
        "id": "-Pfh-LgH_AHi"
      }
    },
    {
      "cell_type": "code",
      "source": [
        "M = np.array([[1, 2, 3], [4, 5, 6]])\n",
        "M_t = np.transpose(M)\n",
        "\n",
        "M_t"
      ],
      "metadata": {
        "colab": {
          "base_uri": "https://localhost:8080/"
        },
        "id": "9uBXpMH3_5pw",
        "outputId": "4d3753a0-537a-4a18-cf68-51fc4620dd9d"
      },
      "execution_count": 9,
      "outputs": [
        {
          "output_type": "execute_result",
          "data": {
            "text/plain": [
              "array([[1, 4],\n",
              "       [2, 5],\n",
              "       [3, 6]])"
            ]
          },
          "metadata": {},
          "execution_count": 9
        }
      ]
    },
    {
      "cell_type": "markdown",
      "source": [
        "Often, some methods in `NumPy` are also attributes of `NumPy` arrays. For example, this same operation of transposing a matrix can be done as follows:"
      ],
      "metadata": {
        "id": "9LoobS-mAB0S"
      }
    },
    {
      "cell_type": "code",
      "source": [
        "M = np.array([[1, 2, 3], [4, 5, 6]])\n",
        "M_t = M.T\n",
        "\n",
        "M_t"
      ],
      "metadata": {
        "colab": {
          "base_uri": "https://localhost:8080/"
        },
        "id": "1Q9NoLw0AVfW",
        "outputId": "ab19d033-660d-41e1-81c2-73232d15a233"
      },
      "execution_count": 11,
      "outputs": [
        {
          "output_type": "execute_result",
          "data": {
            "text/plain": [
              "array([[1, 4],\n",
              "       [2, 5],\n",
              "       [3, 6]])"
            ]
          },
          "metadata": {},
          "execution_count": 11
        }
      ]
    },
    {
      "cell_type": "markdown",
      "source": [
        "You must be aware of both these ways of transposing a matrix."
      ],
      "metadata": {
        "id": "C7zPuvF4CiUT"
      }
    },
    {
      "cell_type": "markdown",
      "source": [
        "## Product of two matrices\n",
        "\n",
        "Given two matrices:\n",
        "\n",
        "$$\n",
        "\\textbf{A} = \\begin{bmatrix}\n",
        "1 & 2 & 3\\\\\n",
        "4 & 5 & 6\n",
        "\\end{bmatrix}, \\textbf{B} = \\begin{bmatrix}\n",
        "6 & 7\\\\\n",
        "8 & 9\\\\\n",
        "10 & 11\n",
        "\\end{bmatrix}\n",
        "$$\n",
        "\n",
        "then,\n",
        "\n",
        "$$\n",
        "\\textbf{C} = \\textbf{A} \\times \\textbf{B} = \\begin{bmatrix}\n",
        "52 & 58\\\\\n",
        "124 & 139\n",
        "\\end{bmatrix}\n",
        "$$\n",
        "\n",
        "In `NumPy`, this becomes:"
      ],
      "metadata": {
        "id": "ugLU7PhgA548"
      }
    },
    {
      "cell_type": "code",
      "source": [
        "A = np.array([[1, 2, 3], [4, 5, 6]])\n",
        "B = np.array([[6, 7], [8, 9], [10, 11]])\n",
        "\n",
        "C = A @ B\n",
        "C"
      ],
      "metadata": {
        "colab": {
          "base_uri": "https://localhost:8080/"
        },
        "id": "sbiOJrIzBkFg",
        "outputId": "21b3e2f5-1a2d-48c7-dda9-cd8f6789403f"
      },
      "execution_count": 12,
      "outputs": [
        {
          "output_type": "execute_result",
          "data": {
            "text/plain": [
              "array([[ 52,  58],\n",
              "       [124, 139]])"
            ]
          },
          "metadata": {},
          "execution_count": 12
        }
      ]
    },
    {
      "cell_type": "markdown",
      "source": [
        "## Product of a matrix and a vector\n",
        "\n",
        "This is very similar to the product of two matrices. Given the matrix $\\mathbf{A}$ and the vector $\\mathbf{x}$:\n",
        "\n",
        "$$\n",
        "\\textbf{A} = \\begin{bmatrix}\n",
        "1 & 2 & 3\\\\\n",
        "4 & 5 & 6\\\\\n",
        "7 & 8 & 9\n",
        "\\end{bmatrix}, \\textbf{x} = \\begin{bmatrix}\n",
        "6\\\\\n",
        "7\\\\\n",
        "8\n",
        "\\end{bmatrix}\n",
        "$$\n",
        "\n",
        "The product $\\mathbf{Ax}$ is given by:\n",
        "\n",
        "$$\n",
        "\\mathbf{C} = \\mathbf{A x} = \\begin{bmatrix}\n",
        "44\\\\\n",
        "107\\\\\n",
        "170\n",
        "\\end{bmatrix}\n",
        "$$"
      ],
      "metadata": {
        "id": "zdFPst7KCtgl"
      }
    },
    {
      "cell_type": "code",
      "source": [
        "A = np.array([[1, 2, 3], [4, 5, 6], [7, 8, 9]])\n",
        "x = np.array([6, 7, 8])\n",
        "C = A @ x\n",
        "\n",
        "C"
      ],
      "metadata": {
        "colab": {
          "base_uri": "https://localhost:8080/"
        },
        "id": "F9tQwGumDfgv",
        "outputId": "57ecb488-b225-4fda-fbd6-9643527f8173"
      },
      "execution_count": 13,
      "outputs": [
        {
          "output_type": "execute_result",
          "data": {
            "text/plain": [
              "array([ 44, 107, 170])"
            ]
          },
          "metadata": {},
          "execution_count": 13
        }
      ]
    },
    {
      "cell_type": "markdown",
      "source": [
        "## Shape of a matrix\n",
        "\n",
        "The dimensions of a matrix can be determined using the `shape` attribute for `NumPy` arrays. For a matrix $\\mathbf{A}$:\n",
        "\n",
        "$$\n",
        "\\mathbf{M} =  \n",
        "\\begin{bmatrix}\n",
        "1 & 2\\\\\n",
        "3 & 4\\\\\n",
        "5 & 6\\\\\n",
        "7 & 8\n",
        "\\end{bmatrix}\n",
        "$$\n",
        "\n",
        "This is a $4 \\times 2$ matrix. In `NumPy` this becomes:"
      ],
      "metadata": {
        "id": "sVLyfLvuP-OO"
      }
    },
    {
      "cell_type": "code",
      "source": [
        "M = np.array([[1, 2], [3, 4], [5, 6], [7, 8]])\n",
        "M.shape"
      ],
      "metadata": {
        "colab": {
          "base_uri": "https://localhost:8080/"
        },
        "id": "I4SEi4CoQUox",
        "outputId": "08df2eba-310f-489e-fea8-77995e34e940"
      },
      "execution_count": 14,
      "outputs": [
        {
          "output_type": "execute_result",
          "data": {
            "text/plain": [
              "(4, 2)"
            ]
          },
          "metadata": {},
          "execution_count": 14
        }
      ]
    },
    {
      "cell_type": "markdown",
      "source": [
        "The shape of an array is always represented as a tuple. For example, the shape of the matrix given above is $(4, 2)$."
      ],
      "metadata": {
        "id": "aumre_X9Qe9W"
      }
    },
    {
      "cell_type": "markdown",
      "source": [
        "## Matrix of zeros\n",
        "\n",
        "In many algorithms, we might have to initialize a matrix with zeros. For example, consider a $2 \\times 4$ matrix:\n",
        "\n",
        "$$\n",
        "\\mathbf{M} = \\begin{bmatrix}\n",
        "0 & 0 & 0 & 0\\\\\n",
        "0 & 0 & 0 & 0\n",
        "\\end{bmatrix}\n",
        "$$\n",
        "\n",
        "In `NumPy` this can be done as follows:"
      ],
      "metadata": {
        "id": "KShBdBZcQpTN"
      }
    },
    {
      "cell_type": "code",
      "source": [
        "M = np.zeros((2, 4))\n",
        "M"
      ],
      "metadata": {
        "colab": {
          "base_uri": "https://localhost:8080/"
        },
        "id": "x38VjAKRRAFk",
        "outputId": "17cf39cc-4343-4bac-d0b1-08fa19592742"
      },
      "execution_count": 15,
      "outputs": [
        {
          "output_type": "execute_result",
          "data": {
            "text/plain": [
              "array([[0., 0., 0., 0.],\n",
              "       [0., 0., 0., 0.]])"
            ]
          },
          "metadata": {},
          "execution_count": 15
        }
      ]
    },
    {
      "cell_type": "markdown",
      "source": [
        "Note that the shape of the matrix is $(2, 4)$. Consequently, the argument to the method `np.zeros` should be a tuple if you want to create a matrix of zeros. Specifying it as `np.zeros(2, 4)` will throw an error!"
      ],
      "metadata": {
        "id": "oOMNlaaBRFOz"
      }
    },
    {
      "cell_type": "markdown",
      "source": [
        "## Matrix of ones\n",
        "\n",
        "Similar to a matrix of zeros, we can come up with a matrix of ones. \n",
        "\n",
        "$$\n",
        "\\mathbf{M} = \\begin{bmatrix}\n",
        "1 & 1\\\\\n",
        "1 & 1\\\\\n",
        "1 & 1\n",
        "\\end{bmatrix}\n",
        "$$\n",
        "\n",
        "In `NumPy` this becomes:"
      ],
      "metadata": {
        "id": "hEg3EbveRWyc"
      }
    },
    {
      "cell_type": "code",
      "source": [
        "M = np.ones((3, 2))\n",
        "M"
      ],
      "metadata": {
        "colab": {
          "base_uri": "https://localhost:8080/"
        },
        "id": "kdApYPy7RlUd",
        "outputId": "0c916e13-2917-4605-ffbe-247a8fc0f23c"
      },
      "execution_count": 16,
      "outputs": [
        {
          "output_type": "execute_result",
          "data": {
            "text/plain": [
              "array([[1., 1.],\n",
              "       [1., 1.],\n",
              "       [1., 1.]])"
            ]
          },
          "metadata": {},
          "execution_count": 16
        }
      ]
    },
    {
      "cell_type": "markdown",
      "source": [
        "Again, note that `np.ones(3, 2)` will throw an error. The final point to note is this: `np.zeros` and `np.ones` can be used to create vectors or matrices. If the argument is a tuple having two values, these two methods will return matrices. If just an integer is passed as argument, the method will return vectors. If we wish to be consistent, we could pass a tuple of size 1 to create vectors:\n",
        "\n",
        "$$\n",
        "\\mathbf{x} = \\begin{bmatrix}\n",
        "1\\\\\n",
        "1\\\\\n",
        "1\\\\\n",
        "1\n",
        "\\end{bmatrix}\n",
        "$$"
      ],
      "metadata": {
        "id": "shNmb8tsRod0"
      }
    },
    {
      "cell_type": "code",
      "source": [
        "x = np.ones((5, ))\n",
        "x"
      ],
      "metadata": {
        "colab": {
          "base_uri": "https://localhost:8080/"
        },
        "id": "0PpB_Aj4SLh7",
        "outputId": "bed8c748-4c2a-4ef7-d2d8-85d3c10901bb"
      },
      "execution_count": 17,
      "outputs": [
        {
          "output_type": "execute_result",
          "data": {
            "text/plain": [
              "array([1., 1., 1., 1., 1.])"
            ]
          },
          "metadata": {},
          "execution_count": 17
        }
      ]
    },
    {
      "cell_type": "markdown",
      "source": [
        "## Identity matrix\n",
        "\n",
        "Often, we might have to deal with identity matrices. A $3 \\times 3$ identity matrix is as follows:\n",
        "\n",
        "$$\n",
        "\\mathbf{I} = \\begin{bmatrix}\n",
        "1 & 0 & 0\\\\\n",
        "0 & 1 & 0\\\\\n",
        "0 & 0 & 1\n",
        "\\end{bmatrix}\n",
        "$$\n",
        "\n",
        "In `NumPy` this becomes:"
      ],
      "metadata": {
        "id": "hhHfmOEiSknK"
      }
    },
    {
      "cell_type": "code",
      "source": [
        "I = np.eye(3)\n",
        "I"
      ],
      "metadata": {
        "id": "sTLClyKSS8s-",
        "outputId": "02ee55ae-b3cf-4faa-f0a0-dec62487d89f",
        "colab": {
          "base_uri": "https://localhost:8080/"
        }
      },
      "execution_count": 18,
      "outputs": [
        {
          "output_type": "execute_result",
          "data": {
            "text/plain": [
              "array([[1., 0., 0.],\n",
              "       [0., 1., 0.],\n",
              "       [0., 0., 1.]])"
            ]
          },
          "metadata": {},
          "execution_count": 18
        }
      ]
    },
    {
      "cell_type": "code",
      "source": [],
      "metadata": {
        "id": "DwhnFBi3PSTs"
      },
      "execution_count": 18,
      "outputs": []
    }
  ]
}
