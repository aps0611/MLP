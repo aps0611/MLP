{
  "nbformat": 4,
  "nbformat_minor": 0,
  "metadata": {
    "colab": {
      "provenance": []
    },
    "kernelspec": {
      "name": "python3",
      "display_name": "Python 3"
    },
    "language_info": {
      "name": "python"
    }
  },
  "cells": [
    {
      "cell_type": "markdown",
      "source": [
        "# Regularization"
      ],
      "metadata": {
        "id": "jJTtYp-UrCeQ"
      }
    },
    {
      "cell_type": "markdown",
      "source": [
        "## RIDGE"
      ],
      "metadata": {
        "id": "ZsrdNJqDrGW7"
      }
    },
    {
      "cell_type": "markdown",
      "source": [
        "#### OPTION 1\n",
        "\n",
        "1. STEP 1: Instantiate object of `Ridge` estimator\n",
        "\n",
        "2. STEP 2: Set parameter `alpha` to the required Regularization rate. alpha is equivalent of lambda in MLT\n",
        "\n",
        "\n",
        "\n",
        "```\n",
        "from sklearn.linear_model import Ridge\n",
        "ridge = Ridge(alpha = 1e-3)\n",
        "```\n",
        "#### OPTION 2\n",
        "\n",
        "1. STEP 1: Instantiate object of `SGDRegressor` Estimator\n",
        "\n",
        "2. STEP 2: Set parameter `alpha` to the required Regularization rate and `penalty = l2`\n",
        "\n",
        "\n",
        "\n",
        "```\n",
        "from sklearn.linear_model import SGDRegressor\n",
        "sgd = SGDRegressor(alpha = 1e-3, penalty = 'l2')\n",
        "\n",
        "```\n",
        "\n",
        "\n"
      ],
      "metadata": {
        "id": "1RxbjXW4rJVE"
      }
    },
    {
      "cell_type": "markdown",
      "source": [
        "## How to search the best regularization parameter for ridge?\n",
        "\n",
        "#### Option 1:\n",
        "\n",
        "Search the best regularization rate with built in cross validation in `RidgeCV` estimator\n",
        "\n",
        "#### Option 2:\n",
        "\n",
        "Use cross validation with Ridge or SVDRegressor to search for best regularization:\n",
        "1. GridSearch \n",
        "2. Randomized Search\n",
        "\n"
      ],
      "metadata": {
        "id": "nz60U0Q9sf4g"
      }
    },
    {
      "cell_type": "markdown",
      "source": [
        "## Ridge regression in Polynomial Transformation"
      ],
      "metadata": {
        "id": "5G7teaPfs8Sp"
      }
    },
    {
      "cell_type": "markdown",
      "source": [
        "```\n",
        "from sklearn.linear_model import Ridge\n",
        "from sklearn.pipeline import Pipeline\n",
        "from sklearn.preprocessing import PolynomialFeatures\n",
        "\n",
        "poly_model = Pipeline([\n",
        "  ('polynomial_transform',PolynomialFeatures(degree = 2)),\n",
        "  ('ridge', Ridge(alpha = 1e-3))\n",
        "])\n",
        "\n",
        "poly_model.fit(X_train, y_train)\n",
        "\n",
        "\n",
        "\n",
        "```"
      ],
      "metadata": {
        "id": "8T5TQCaptDve"
      }
    },
    {
      "cell_type": "markdown",
      "source": [
        "## LASSO"
      ],
      "metadata": {
        "id": "nAnWBrrAuMKG"
      }
    },
    {
      "cell_type": "markdown",
      "source": [
        "#### OPTION 1\n",
        "\n",
        "1. STEP 1: Instantiate object of `Lasso` estimator\n",
        "\n",
        "2. STEP 2: Set parameter `alpha` to the required Regularization rate. alpha is equivalent of lambda in MLT\n",
        "\n",
        "\n",
        "\n",
        "```\n",
        "from sklearn.linear_model import Lasso\n",
        "lasso = Lasso(alpha = 1e-3)\n",
        "```\n",
        "#### OPTION 2\n",
        "\n",
        "1. STEP 1: Instantiate object of `SGDRegressor` Estimator\n",
        "\n",
        "2. STEP 2: Set parameter `alpha` to the required Regularization rate and `penalty = l1`\n",
        "\n",
        "\n",
        "\n",
        "```\n",
        "from sklearn.linear_model import SGDRegressor\n",
        "sgd = SGDRegressor(alpha = 1e-3, penalty = 'l1')\n",
        "\n",
        "```"
      ],
      "metadata": {
        "id": "wJvWYL_NuReW"
      }
    },
    {
      "cell_type": "code",
      "source": [
        "# other steps are same as ridge"
      ],
      "metadata": {
        "id": "MZV1e5A4rBCH"
      },
      "execution_count": 1,
      "outputs": []
    },
    {
      "cell_type": "markdown",
      "source": [
        "NOTE: `elasticnet` is convex combination of L1(Lasso) and L2(Ridge) regularization"
      ],
      "metadata": {
        "id": "RsPKOBgZvd6A"
      }
    },
    {
      "cell_type": "code",
      "execution_count": null,
      "metadata": {
        "id": "6LPJqKrQq-bo"
      },
      "outputs": [],
      "source": []
    }
  ]
}