{
  "cells": [
    {
      "cell_type": "markdown",
      "metadata": {
        "id": "g8YT5YRcRvK1"
      },
      "source": [
        "* We can also train zero-detector model by solving a set of equations obtained by setting\n",
        "the derivative of loss w.r.t. weights to 0.\n",
        "* These are not linear equations and therefore we need a different set of solvers."
      ]
    },
    {
      "cell_type": "markdown",
      "metadata": {
        "id": "ayAieNlhSADQ"
      },
      "source": [
        "Sklearn uses solvers like liblinear , newton-cg , sag , saga and lbfgs to find the optimal\n",
        "weights."
      ]
    },
    {
      "cell_type": "markdown",
      "metadata": {
        "id": "a1S1Az5iSCHA"
      },
      "source": [
        "Regularization is applied by default."
      ]
    },
    {
      "cell_type": "markdown",
      "metadata": {
        "id": "8cXYlGaxSE3x"
      },
      "source": [
        "Parameters:\n",
        "\n",
        "```\n",
        "LogisticRegression(penalty='l2', *, dual=False, tol=0.0001, C=1.0,\n",
        "fit_intercept=True, intercept_scaling=1, class_weight=None,\n",
        "random_state=None, solver='lbfgs', max_iter=100,\n",
        "multi_class='auto', verbose=0, warm_start=False, n_jobs=None,\n",
        "l1_ratio=None)\n",
        "```"
      ]
    },
    {
      "cell_type": "markdown",
      "metadata": {
        "id": "XvD50oHISMlN"
      },
      "source": [
        "Note some of the important default parameters:\n",
        "* Regularization: `penalty='l2'``\n",
        "* Regularization rate: C=1\n",
        "* Solver: solver = 'lbfgs'"
      ]
    },
    {
      "cell_type": "markdown",
      "metadata": {
        "id": "QzSqT0J9STns"
      },
      "source": [
        "Let's implement LogisticRegression() `without regularization` by setting the parameter `C = infinity`\n",
        ". Therefore, we may expect performance close to SGDClassifier without\n",
        "regularization"
      ]
    },
    {
      "cell_type": "markdown",
      "metadata": {
        "id": "jIM1qycMTHf6"
      },
      "source": [
        "# SKIP"
      ]
    },
    {
      "cell_type": "code",
      "execution_count": null,
      "metadata": {
        "id": "TUKI0RMeSpml"
      },
      "outputs": [],
      "source": [
        "# Imports:\n",
        "\n",
        "import numpy as np\n",
        "from pprint import pprint\n",
        "from tempfile import mkdtemp\n",
        "from shutil import rmtree\n",
        "\n",
        "# to make this notebook output stable across the runs:\n",
        "np.random.seed(42)\n",
        "\n",
        "# sklearn specific imports\n",
        "from sklearn.preprocessing import MinMaxScaler\n",
        "from sklearn.pipeline import make_pipeline, Pipeline\n",
        "from sklearn.dummy import DummyClassifier\n",
        "from sklearn.linear_model import SGDClassifier, RidgeClassifier, LogisticRegression\n",
        "from sklearn.model_selection import cross_validate, RandomizedSearchCV, cross_val_predict\n",
        "from sklearn.metrics import ConfusionMatrixDisplay\n",
        "from sklearn.metrics import log_loss\n",
        "from sklearn.metrics import precision_score, recall_score, classification_report\n",
        "from sklearn.metrics import roc_curve, roc_auc_score\n",
        "\n",
        "# scipy\n",
        "from scipy.stats import loguniform\n",
        "\n",
        "# to plot the pretty figures\n",
        "%matplotlib inline\n",
        "import matplotlib.pyplot as mpl\n",
        "import matplotlib.pyplot as plt\n",
        "import seaborn as sns\n",
        "\n",
        "# global settings\n",
        "mpl.rc(\"axes\", labelsize = 14)\n",
        "mpl.rc('xtick', labelsize = 12)\n",
        "mpl.rc('ytick', labelsize = 12)\n",
        "mpl.rc('figure', figsize = (8,6))\n"
      ]
    },
    {
      "cell_type": "code",
      "execution_count": null,
      "metadata": {
        "id": "mmET67yvSurf"
      },
      "outputs": [],
      "source": [
        "# Ignore all the warnings (convergence ...) by sklearn\n",
        "\n",
        "def warn(*args, **kwargs):\n",
        "  pass\n",
        "\n",
        "import warnings\n",
        "warnings.warn = warn"
      ]
    },
    {
      "cell_type": "code",
      "execution_count": null,
      "metadata": {
        "id": "YVaEs8kJSxq8"
      },
      "outputs": [],
      "source": [
        "from sklearn.datasets import fetch_openml\n",
        "X_pd, y_pd = fetch_openml('mnist_784', version = 1, return_X_y = True)"
      ]
    },
    {
      "cell_type": "code",
      "execution_count": null,
      "metadata": {
        "id": "BaUKXmzsS1oM"
      },
      "outputs": [],
      "source": [
        "# convert to numpy array\n",
        "\n",
        "X = X_pd.to_numpy()\n",
        "y = y_pd.to_numpy()"
      ]
    },
    {
      "cell_type": "code",
      "execution_count": null,
      "metadata": {
        "id": "UkUP_SA_S6BH"
      },
      "outputs": [],
      "source": [
        "# Split the dataset into training and testing set.\n",
        "\n",
        "x_train,x_test,y_train,y_test = X[:60000], X[60000:], y[:60000], y[60000:]"
      ]
    },
    {
      "cell_type": "code",
      "execution_count": null,
      "metadata": {
        "id": "ijluZk66S9C6"
      },
      "outputs": [],
      "source": [
        "# intialize new variable names with all -1\n",
        "\n",
        "y_train_0 = np.zeros((len(y_train)))\n",
        "y_test_0 = np.zeros((len(y_test)))"
      ]
    },
    {
      "cell_type": "code",
      "execution_count": null,
      "metadata": {
        "id": "Qa4BZqNnS_sr"
      },
      "outputs": [],
      "source": [
        "# find indices of digit 0 image\n",
        "indx_0 = np.where(y_train =='0') # remember original labels are of type str not int\n",
        "# use those indices to modify y_train_0&y_test_0\n",
        "y_train_0[indx_0] = 1\n",
        "indx_0 = np.where(y_test == '0')\n",
        "y_test_0[indx_0] = 1"
      ]
    },
    {
      "cell_type": "code",
      "execution_count": null,
      "metadata": {
        "colab": {
          "base_uri": "https://localhost:8080/"
        },
        "id": "4PpAmMYyTC1b",
        "outputId": "ee197a18-a0a3-4af2-f0cc-6526ec092172"
      },
      "outputs": [
        {
          "name": "stdout",
          "output_type": "stream",
          "text": [
            "5923 54077\n",
            "0.9012833333333333\n"
          ]
        }
      ],
      "source": [
        "# Baseline model\n",
        "\n",
        "num_pos = len(np.where(y_train_0==1)[0])\n",
        "num_neg = len(np.where(y_train_0==0)[0])\n",
        "print(num_pos,num_neg)\n",
        "\n",
        "base_clf = DummyClassifier(strategy = 'most_frequent')\n",
        "base_clf.fit(x_train, y_train_0)\n",
        "print(base_clf.score(x_train, y_train_0))"
      ]
    },
    {
      "cell_type": "markdown",
      "metadata": {
        "id": "ImQPzBeZSbda"
      },
      "source": [
        "# Training without regularization"
      ]
    },
    {
      "cell_type": "markdown",
      "metadata": {
        "id": "ftQac67ZSdup"
      },
      "source": [
        "* STEP 1: Instantiate a pipeline object with two stages:\n",
        "  1. The first stage contains MinMaxScaler for scaling the input.\n",
        "  2. The second state contains a LogisticRegression classifier with the regularization\n",
        "rate C=infinity .\n",
        "* STEP 2: Train the pipeline with feature matrix x_train and label vector y_train_0 ."
      ]
    },
    {
      "cell_type": "code",
      "execution_count": null,
      "metadata": {
        "colab": {
          "base_uri": "https://localhost:8080/",
          "height": 126
        },
        "id": "0n2TbnqqRmRd",
        "outputId": "16bfe1db-f37c-4105-a765-04879ed9a7b3"
      },
      "outputs": [
        {
          "data": {
            "text/html": [
              "<style>#sk-container-id-6 {color: black;background-color: white;}#sk-container-id-6 pre{padding: 0;}#sk-container-id-6 div.sk-toggleable {background-color: white;}#sk-container-id-6 label.sk-toggleable__label {cursor: pointer;display: block;width: 100%;margin-bottom: 0;padding: 0.3em;box-sizing: border-box;text-align: center;}#sk-container-id-6 label.sk-toggleable__label-arrow:before {content: \"▸\";float: left;margin-right: 0.25em;color: #696969;}#sk-container-id-6 label.sk-toggleable__label-arrow:hover:before {color: black;}#sk-container-id-6 div.sk-estimator:hover label.sk-toggleable__label-arrow:before {color: black;}#sk-container-id-6 div.sk-toggleable__content {max-height: 0;max-width: 0;overflow: hidden;text-align: left;background-color: #f0f8ff;}#sk-container-id-6 div.sk-toggleable__content pre {margin: 0.2em;color: black;border-radius: 0.25em;background-color: #f0f8ff;}#sk-container-id-6 input.sk-toggleable__control:checked~div.sk-toggleable__content {max-height: 200px;max-width: 100%;overflow: auto;}#sk-container-id-6 input.sk-toggleable__control:checked~label.sk-toggleable__label-arrow:before {content: \"▾\";}#sk-container-id-6 div.sk-estimator input.sk-toggleable__control:checked~label.sk-toggleable__label {background-color: #d4ebff;}#sk-container-id-6 div.sk-label input.sk-toggleable__control:checked~label.sk-toggleable__label {background-color: #d4ebff;}#sk-container-id-6 input.sk-hidden--visually {border: 0;clip: rect(1px 1px 1px 1px);clip: rect(1px, 1px, 1px, 1px);height: 1px;margin: -1px;overflow: hidden;padding: 0;position: absolute;width: 1px;}#sk-container-id-6 div.sk-estimator {font-family: monospace;background-color: #f0f8ff;border: 1px dotted black;border-radius: 0.25em;box-sizing: border-box;margin-bottom: 0.5em;}#sk-container-id-6 div.sk-estimator:hover {background-color: #d4ebff;}#sk-container-id-6 div.sk-parallel-item::after {content: \"\";width: 100%;border-bottom: 1px solid gray;flex-grow: 1;}#sk-container-id-6 div.sk-label:hover label.sk-toggleable__label {background-color: #d4ebff;}#sk-container-id-6 div.sk-serial::before {content: \"\";position: absolute;border-left: 1px solid gray;box-sizing: border-box;top: 0;bottom: 0;left: 50%;z-index: 0;}#sk-container-id-6 div.sk-serial {display: flex;flex-direction: column;align-items: center;background-color: white;padding-right: 0.2em;padding-left: 0.2em;position: relative;}#sk-container-id-6 div.sk-item {position: relative;z-index: 1;}#sk-container-id-6 div.sk-parallel {display: flex;align-items: stretch;justify-content: center;background-color: white;position: relative;}#sk-container-id-6 div.sk-item::before, #sk-container-id-6 div.sk-parallel-item::before {content: \"\";position: absolute;border-left: 1px solid gray;box-sizing: border-box;top: 0;bottom: 0;left: 50%;z-index: -1;}#sk-container-id-6 div.sk-parallel-item {display: flex;flex-direction: column;z-index: 1;position: relative;background-color: white;}#sk-container-id-6 div.sk-parallel-item:first-child::after {align-self: flex-end;width: 50%;}#sk-container-id-6 div.sk-parallel-item:last-child::after {align-self: flex-start;width: 50%;}#sk-container-id-6 div.sk-parallel-item:only-child::after {width: 0;}#sk-container-id-6 div.sk-dashed-wrapped {border: 1px dashed gray;margin: 0 0.4em 0.5em 0.4em;box-sizing: border-box;padding-bottom: 0.4em;background-color: white;}#sk-container-id-6 div.sk-label label {font-family: monospace;font-weight: bold;display: inline-block;line-height: 1.2em;}#sk-container-id-6 div.sk-label-container {text-align: center;}#sk-container-id-6 div.sk-container {/* jupyter's `normalize.less` sets `[hidden] { display: none; }` but bootstrap.min.css set `[hidden] { display: none !important; }` so we also need the `!important` here to be able to override the default hidden behavior on the sphinx rendered scikit-learn.org. See: https://github.com/scikit-learn/scikit-learn/issues/21755 */display: inline-block !important;position: relative;}#sk-container-id-6 div.sk-text-repr-fallback {display: none;}</style><div id=\"sk-container-id-6\" class=\"sk-top-container\"><div class=\"sk-text-repr-fallback\"><pre>Pipeline(steps=[(&#x27;minmaxscaler&#x27;, MinMaxScaler()),\n",
              "                (&#x27;logisticregression&#x27;,\n",
              "                 LogisticRegression(C=inf, random_state=1729))])</pre><b>In a Jupyter environment, please rerun this cell to show the HTML representation or trust the notebook. <br />On GitHub, the HTML representation is unable to render, please try loading this page with nbviewer.org.</b></div><div class=\"sk-container\" hidden><div class=\"sk-item sk-dashed-wrapped\"><div class=\"sk-label-container\"><div class=\"sk-label sk-toggleable\"><input class=\"sk-toggleable__control sk-hidden--visually\" id=\"sk-estimator-id-17\" type=\"checkbox\" ><label for=\"sk-estimator-id-17\" class=\"sk-toggleable__label sk-toggleable__label-arrow\">Pipeline</label><div class=\"sk-toggleable__content\"><pre>Pipeline(steps=[(&#x27;minmaxscaler&#x27;, MinMaxScaler()),\n",
              "                (&#x27;logisticregression&#x27;,\n",
              "                 LogisticRegression(C=inf, random_state=1729))])</pre></div></div></div><div class=\"sk-serial\"><div class=\"sk-item\"><div class=\"sk-estimator sk-toggleable\"><input class=\"sk-toggleable__control sk-hidden--visually\" id=\"sk-estimator-id-18\" type=\"checkbox\" ><label for=\"sk-estimator-id-18\" class=\"sk-toggleable__label sk-toggleable__label-arrow\">MinMaxScaler</label><div class=\"sk-toggleable__content\"><pre>MinMaxScaler()</pre></div></div></div><div class=\"sk-item\"><div class=\"sk-estimator sk-toggleable\"><input class=\"sk-toggleable__control sk-hidden--visually\" id=\"sk-estimator-id-19\" type=\"checkbox\" ><label for=\"sk-estimator-id-19\" class=\"sk-toggleable__label sk-toggleable__label-arrow\">LogisticRegression</label><div class=\"sk-toggleable__content\"><pre>LogisticRegression(C=inf, random_state=1729)</pre></div></div></div></div></div></div></div>"
            ],
            "text/plain": [
              "Pipeline(steps=[('minmaxscaler', MinMaxScaler()),\n",
              "                ('logisticregression',\n",
              "                 LogisticRegression(C=inf, random_state=1729))])"
            ]
          },
          "execution_count": 45,
          "metadata": {},
          "output_type": "execute_result"
        }
      ],
      "source": [
        "estimator = LogisticRegression(random_state = 1729,\n",
        "                               solver = 'lbfgs',\n",
        "                               C = np.infty)\n",
        "\n",
        "pipe_logit = make_pipeline(MinMaxScaler(), \n",
        "                           estimator)\n",
        "\n",
        "pipe_logit.fit(x_train, y_train_0)"
      ]
    },
    {
      "cell_type": "markdown",
      "metadata": {
        "id": "tF4--cxcUj1e"
      },
      "source": [
        "# hyperparameter search"
      ]
    },
    {
      "cell_type": "markdown",
      "metadata": {
        "id": "OzF9mn76UmKO"
      },
      "source": [
        "with `GridSearchCV`"
      ]
    },
    {
      "cell_type": "markdown",
      "metadata": {
        "id": "mSKpjy4uVA3k"
      },
      "source": [
        "can also use RandomizedSearchCV"
      ]
    },
    {
      "cell_type": "markdown",
      "metadata": {
        "id": "rNkRLNVaUuST"
      },
      "source": [
        "In this section, we will search for the `best value for parameter C` under certain scoring function."
      ]
    },
    {
      "cell_type": "code",
      "execution_count": null,
      "metadata": {
        "id": "Z6anc--3To7o"
      },
      "outputs": [],
      "source": [
        "# in GSCV we need to specify the value of c to try out\n",
        "# c will be found out from this set"
      ]
    },
    {
      "cell_type": "code",
      "execution_count": null,
      "metadata": {
        "colab": {
          "base_uri": "https://localhost:8080/",
          "height": 152
        },
        "id": "hEcm1KFrVL-z",
        "outputId": "81adf248-21ed-4c32-e6f5-b1ebc1423e3d"
      },
      "outputs": [
        {
          "data": {
            "text/html": [
              "<style>#sk-container-id-7 {color: black;background-color: white;}#sk-container-id-7 pre{padding: 0;}#sk-container-id-7 div.sk-toggleable {background-color: white;}#sk-container-id-7 label.sk-toggleable__label {cursor: pointer;display: block;width: 100%;margin-bottom: 0;padding: 0.3em;box-sizing: border-box;text-align: center;}#sk-container-id-7 label.sk-toggleable__label-arrow:before {content: \"▸\";float: left;margin-right: 0.25em;color: #696969;}#sk-container-id-7 label.sk-toggleable__label-arrow:hover:before {color: black;}#sk-container-id-7 div.sk-estimator:hover label.sk-toggleable__label-arrow:before {color: black;}#sk-container-id-7 div.sk-toggleable__content {max-height: 0;max-width: 0;overflow: hidden;text-align: left;background-color: #f0f8ff;}#sk-container-id-7 div.sk-toggleable__content pre {margin: 0.2em;color: black;border-radius: 0.25em;background-color: #f0f8ff;}#sk-container-id-7 input.sk-toggleable__control:checked~div.sk-toggleable__content {max-height: 200px;max-width: 100%;overflow: auto;}#sk-container-id-7 input.sk-toggleable__control:checked~label.sk-toggleable__label-arrow:before {content: \"▾\";}#sk-container-id-7 div.sk-estimator input.sk-toggleable__control:checked~label.sk-toggleable__label {background-color: #d4ebff;}#sk-container-id-7 div.sk-label input.sk-toggleable__control:checked~label.sk-toggleable__label {background-color: #d4ebff;}#sk-container-id-7 input.sk-hidden--visually {border: 0;clip: rect(1px 1px 1px 1px);clip: rect(1px, 1px, 1px, 1px);height: 1px;margin: -1px;overflow: hidden;padding: 0;position: absolute;width: 1px;}#sk-container-id-7 div.sk-estimator {font-family: monospace;background-color: #f0f8ff;border: 1px dotted black;border-radius: 0.25em;box-sizing: border-box;margin-bottom: 0.5em;}#sk-container-id-7 div.sk-estimator:hover {background-color: #d4ebff;}#sk-container-id-7 div.sk-parallel-item::after {content: \"\";width: 100%;border-bottom: 1px solid gray;flex-grow: 1;}#sk-container-id-7 div.sk-label:hover label.sk-toggleable__label {background-color: #d4ebff;}#sk-container-id-7 div.sk-serial::before {content: \"\";position: absolute;border-left: 1px solid gray;box-sizing: border-box;top: 0;bottom: 0;left: 50%;z-index: 0;}#sk-container-id-7 div.sk-serial {display: flex;flex-direction: column;align-items: center;background-color: white;padding-right: 0.2em;padding-left: 0.2em;position: relative;}#sk-container-id-7 div.sk-item {position: relative;z-index: 1;}#sk-container-id-7 div.sk-parallel {display: flex;align-items: stretch;justify-content: center;background-color: white;position: relative;}#sk-container-id-7 div.sk-item::before, #sk-container-id-7 div.sk-parallel-item::before {content: \"\";position: absolute;border-left: 1px solid gray;box-sizing: border-box;top: 0;bottom: 0;left: 50%;z-index: -1;}#sk-container-id-7 div.sk-parallel-item {display: flex;flex-direction: column;z-index: 1;position: relative;background-color: white;}#sk-container-id-7 div.sk-parallel-item:first-child::after {align-self: flex-end;width: 50%;}#sk-container-id-7 div.sk-parallel-item:last-child::after {align-self: flex-start;width: 50%;}#sk-container-id-7 div.sk-parallel-item:only-child::after {width: 0;}#sk-container-id-7 div.sk-dashed-wrapped {border: 1px dashed gray;margin: 0 0.4em 0.5em 0.4em;box-sizing: border-box;padding-bottom: 0.4em;background-color: white;}#sk-container-id-7 div.sk-label label {font-family: monospace;font-weight: bold;display: inline-block;line-height: 1.2em;}#sk-container-id-7 div.sk-label-container {text-align: center;}#sk-container-id-7 div.sk-container {/* jupyter's `normalize.less` sets `[hidden] { display: none; }` but bootstrap.min.css set `[hidden] { display: none !important; }` so we also need the `!important` here to be able to override the default hidden behavior on the sphinx rendered scikit-learn.org. See: https://github.com/scikit-learn/scikit-learn/issues/21755 */display: inline-block !important;position: relative;}#sk-container-id-7 div.sk-text-repr-fallback {display: none;}</style><div id=\"sk-container-id-7\" class=\"sk-top-container\"><div class=\"sk-text-repr-fallback\"><pre>GridSearchCV(estimator=Pipeline(steps=[(&#x27;scaler&#x27;, MinMaxScaler()),\n",
              "                                       (&#x27;logistic&#x27;,\n",
              "                                        LogisticRegression(random_state=1729))]),\n",
              "             param_grid={&#x27;logistic__C&#x27;: [0, 0.0001, 0.001, 0.01, 0.1, 1.0, 10.0,\n",
              "                                         100.0]},\n",
              "             scoring=&#x27;f1&#x27;)</pre><b>In a Jupyter environment, please rerun this cell to show the HTML representation or trust the notebook. <br />On GitHub, the HTML representation is unable to render, please try loading this page with nbviewer.org.</b></div><div class=\"sk-container\" hidden><div class=\"sk-item sk-dashed-wrapped\"><div class=\"sk-label-container\"><div class=\"sk-label sk-toggleable\"><input class=\"sk-toggleable__control sk-hidden--visually\" id=\"sk-estimator-id-20\" type=\"checkbox\" ><label for=\"sk-estimator-id-20\" class=\"sk-toggleable__label sk-toggleable__label-arrow\">GridSearchCV</label><div class=\"sk-toggleable__content\"><pre>GridSearchCV(estimator=Pipeline(steps=[(&#x27;scaler&#x27;, MinMaxScaler()),\n",
              "                                       (&#x27;logistic&#x27;,\n",
              "                                        LogisticRegression(random_state=1729))]),\n",
              "             param_grid={&#x27;logistic__C&#x27;: [0, 0.0001, 0.001, 0.01, 0.1, 1.0, 10.0,\n",
              "                                         100.0]},\n",
              "             scoring=&#x27;f1&#x27;)</pre></div></div></div><div class=\"sk-parallel\"><div class=\"sk-parallel-item\"><div class=\"sk-item\"><div class=\"sk-label-container\"><div class=\"sk-label sk-toggleable\"><input class=\"sk-toggleable__control sk-hidden--visually\" id=\"sk-estimator-id-21\" type=\"checkbox\" ><label for=\"sk-estimator-id-21\" class=\"sk-toggleable__label sk-toggleable__label-arrow\">estimator: Pipeline</label><div class=\"sk-toggleable__content\"><pre>Pipeline(steps=[(&#x27;scaler&#x27;, MinMaxScaler()),\n",
              "                (&#x27;logistic&#x27;, LogisticRegression(random_state=1729))])</pre></div></div></div><div class=\"sk-serial\"><div class=\"sk-item\"><div class=\"sk-serial\"><div class=\"sk-item\"><div class=\"sk-estimator sk-toggleable\"><input class=\"sk-toggleable__control sk-hidden--visually\" id=\"sk-estimator-id-22\" type=\"checkbox\" ><label for=\"sk-estimator-id-22\" class=\"sk-toggleable__label sk-toggleable__label-arrow\">MinMaxScaler</label><div class=\"sk-toggleable__content\"><pre>MinMaxScaler()</pre></div></div></div><div class=\"sk-item\"><div class=\"sk-estimator sk-toggleable\"><input class=\"sk-toggleable__control sk-hidden--visually\" id=\"sk-estimator-id-23\" type=\"checkbox\" ><label for=\"sk-estimator-id-23\" class=\"sk-toggleable__label sk-toggleable__label-arrow\">LogisticRegression</label><div class=\"sk-toggleable__content\"><pre>LogisticRegression(random_state=1729)</pre></div></div></div></div></div></div></div></div></div></div></div></div>"
            ],
            "text/plain": [
              "GridSearchCV(estimator=Pipeline(steps=[('scaler', MinMaxScaler()),\n",
              "                                       ('logistic',\n",
              "                                        LogisticRegression(random_state=1729))]),\n",
              "             param_grid={'logistic__C': [0, 0.0001, 0.001, 0.01, 0.1, 1.0, 10.0,\n",
              "                                         100.0]},\n",
              "             scoring='f1')"
            ]
          },
          "execution_count": 47,
          "metadata": {},
          "output_type": "execute_result"
        }
      ],
      "source": [
        "from sklearn.pipeline import Pipeline\n",
        "from sklearn.model_selection import GridSearchCV\n",
        "grid_Cs = [0,1e-4,1e-3,1e-2,1e-1,1.0,10.0,100.0]\n",
        "\n",
        "scaler = MinMaxScaler()\n",
        "logreg = LogisticRegression(C= 1.0, random_state = 1729)\n",
        "\n",
        "pipe = Pipeline(steps = [(\"scaler\", scaler),\n",
        "                         (\"logistic\", logreg)])\n",
        "\n",
        "pipe_logit_cv = GridSearchCV(pipe, \n",
        "                             param_grid = {'logistic__C':grid_Cs},\n",
        "                             scoring = 'f1')\n",
        "pipe_logit_cv.fit(x_train, y_train_0)"
      ]
    },
    {
      "cell_type": "markdown",
      "metadata": {
        "id": "rE8k3r2qW-UM"
      },
      "source": [
        "The GridSearchCV finds the best value of C and refits the estimator by default on the entire\n",
        "training set. This gives us the logistic regression classifier with best value of C ."
      ]
    },
    {
      "cell_type": "markdown",
      "metadata": {
        "id": "2fcMRV5YXAQ3"
      },
      "source": [
        "We can check the value of the best parameter by accessing the best_params_ member variable\n",
        "of the GridSearchCV object."
      ]
    },
    {
      "cell_type": "code",
      "execution_count": null,
      "metadata": {
        "colab": {
          "base_uri": "https://localhost:8080/"
        },
        "id": "Z0SoCZrNWabW",
        "outputId": "c3d787df-f475-4f73-8d1b-54b85cec7844"
      },
      "outputs": [
        {
          "data": {
            "text/plain": [
              "{'logistic__C': 0.1}"
            ]
          },
          "execution_count": 48,
          "metadata": {},
          "output_type": "execute_result"
        }
      ],
      "source": [
        "pipe_logit_cv.best_params_"
      ]
    },
    {
      "cell_type": "markdown",
      "metadata": {
        "id": "uuxDnFSxXC5e"
      },
      "source": [
        "and the best score can be found in best_score_ member variable and can be obtained as\n",
        "follows:"
      ]
    },
    {
      "cell_type": "code",
      "execution_count": null,
      "metadata": {
        "colab": {
          "base_uri": "https://localhost:8080/"
        },
        "id": "hI5rZ4WgXBtp",
        "outputId": "3123ae04-98e5-4b7a-f879-72716fc37b14"
      },
      "outputs": [
        {
          "data": {
            "text/plain": [
              "0.9579654953103655"
            ]
          },
          "execution_count": 49,
          "metadata": {},
          "output_type": "execute_result"
        }
      ],
      "source": [
        "pipe_logit_cv.best_score_"
      ]
    },
    {
      "cell_type": "markdown",
      "metadata": {
        "id": "3TGkvZmgXGS7"
      },
      "source": [
        "The best estimator can be accessed with best_estimator_ member variable."
      ]
    },
    {
      "cell_type": "code",
      "execution_count": null,
      "metadata": {
        "colab": {
          "base_uri": "https://localhost:8080/",
          "height": 126
        },
        "id": "YUSpahGhXFBT",
        "outputId": "37388538-3829-42f1-f682-589d08857e88"
      },
      "outputs": [
        {
          "data": {
            "text/html": [
              "<style>#sk-container-id-8 {color: black;background-color: white;}#sk-container-id-8 pre{padding: 0;}#sk-container-id-8 div.sk-toggleable {background-color: white;}#sk-container-id-8 label.sk-toggleable__label {cursor: pointer;display: block;width: 100%;margin-bottom: 0;padding: 0.3em;box-sizing: border-box;text-align: center;}#sk-container-id-8 label.sk-toggleable__label-arrow:before {content: \"▸\";float: left;margin-right: 0.25em;color: #696969;}#sk-container-id-8 label.sk-toggleable__label-arrow:hover:before {color: black;}#sk-container-id-8 div.sk-estimator:hover label.sk-toggleable__label-arrow:before {color: black;}#sk-container-id-8 div.sk-toggleable__content {max-height: 0;max-width: 0;overflow: hidden;text-align: left;background-color: #f0f8ff;}#sk-container-id-8 div.sk-toggleable__content pre {margin: 0.2em;color: black;border-radius: 0.25em;background-color: #f0f8ff;}#sk-container-id-8 input.sk-toggleable__control:checked~div.sk-toggleable__content {max-height: 200px;max-width: 100%;overflow: auto;}#sk-container-id-8 input.sk-toggleable__control:checked~label.sk-toggleable__label-arrow:before {content: \"▾\";}#sk-container-id-8 div.sk-estimator input.sk-toggleable__control:checked~label.sk-toggleable__label {background-color: #d4ebff;}#sk-container-id-8 div.sk-label input.sk-toggleable__control:checked~label.sk-toggleable__label {background-color: #d4ebff;}#sk-container-id-8 input.sk-hidden--visually {border: 0;clip: rect(1px 1px 1px 1px);clip: rect(1px, 1px, 1px, 1px);height: 1px;margin: -1px;overflow: hidden;padding: 0;position: absolute;width: 1px;}#sk-container-id-8 div.sk-estimator {font-family: monospace;background-color: #f0f8ff;border: 1px dotted black;border-radius: 0.25em;box-sizing: border-box;margin-bottom: 0.5em;}#sk-container-id-8 div.sk-estimator:hover {background-color: #d4ebff;}#sk-container-id-8 div.sk-parallel-item::after {content: \"\";width: 100%;border-bottom: 1px solid gray;flex-grow: 1;}#sk-container-id-8 div.sk-label:hover label.sk-toggleable__label {background-color: #d4ebff;}#sk-container-id-8 div.sk-serial::before {content: \"\";position: absolute;border-left: 1px solid gray;box-sizing: border-box;top: 0;bottom: 0;left: 50%;z-index: 0;}#sk-container-id-8 div.sk-serial {display: flex;flex-direction: column;align-items: center;background-color: white;padding-right: 0.2em;padding-left: 0.2em;position: relative;}#sk-container-id-8 div.sk-item {position: relative;z-index: 1;}#sk-container-id-8 div.sk-parallel {display: flex;align-items: stretch;justify-content: center;background-color: white;position: relative;}#sk-container-id-8 div.sk-item::before, #sk-container-id-8 div.sk-parallel-item::before {content: \"\";position: absolute;border-left: 1px solid gray;box-sizing: border-box;top: 0;bottom: 0;left: 50%;z-index: -1;}#sk-container-id-8 div.sk-parallel-item {display: flex;flex-direction: column;z-index: 1;position: relative;background-color: white;}#sk-container-id-8 div.sk-parallel-item:first-child::after {align-self: flex-end;width: 50%;}#sk-container-id-8 div.sk-parallel-item:last-child::after {align-self: flex-start;width: 50%;}#sk-container-id-8 div.sk-parallel-item:only-child::after {width: 0;}#sk-container-id-8 div.sk-dashed-wrapped {border: 1px dashed gray;margin: 0 0.4em 0.5em 0.4em;box-sizing: border-box;padding-bottom: 0.4em;background-color: white;}#sk-container-id-8 div.sk-label label {font-family: monospace;font-weight: bold;display: inline-block;line-height: 1.2em;}#sk-container-id-8 div.sk-label-container {text-align: center;}#sk-container-id-8 div.sk-container {/* jupyter's `normalize.less` sets `[hidden] { display: none; }` but bootstrap.min.css set `[hidden] { display: none !important; }` so we also need the `!important` here to be able to override the default hidden behavior on the sphinx rendered scikit-learn.org. See: https://github.com/scikit-learn/scikit-learn/issues/21755 */display: inline-block !important;position: relative;}#sk-container-id-8 div.sk-text-repr-fallback {display: none;}</style><div id=\"sk-container-id-8\" class=\"sk-top-container\"><div class=\"sk-text-repr-fallback\"><pre>Pipeline(steps=[(&#x27;scaler&#x27;, MinMaxScaler()),\n",
              "                (&#x27;logistic&#x27;, LogisticRegression(C=0.1, random_state=1729))])</pre><b>In a Jupyter environment, please rerun this cell to show the HTML representation or trust the notebook. <br />On GitHub, the HTML representation is unable to render, please try loading this page with nbviewer.org.</b></div><div class=\"sk-container\" hidden><div class=\"sk-item sk-dashed-wrapped\"><div class=\"sk-label-container\"><div class=\"sk-label sk-toggleable\"><input class=\"sk-toggleable__control sk-hidden--visually\" id=\"sk-estimator-id-24\" type=\"checkbox\" ><label for=\"sk-estimator-id-24\" class=\"sk-toggleable__label sk-toggleable__label-arrow\">Pipeline</label><div class=\"sk-toggleable__content\"><pre>Pipeline(steps=[(&#x27;scaler&#x27;, MinMaxScaler()),\n",
              "                (&#x27;logistic&#x27;, LogisticRegression(C=0.1, random_state=1729))])</pre></div></div></div><div class=\"sk-serial\"><div class=\"sk-item\"><div class=\"sk-estimator sk-toggleable\"><input class=\"sk-toggleable__control sk-hidden--visually\" id=\"sk-estimator-id-25\" type=\"checkbox\" ><label for=\"sk-estimator-id-25\" class=\"sk-toggleable__label sk-toggleable__label-arrow\">MinMaxScaler</label><div class=\"sk-toggleable__content\"><pre>MinMaxScaler()</pre></div></div></div><div class=\"sk-item\"><div class=\"sk-estimator sk-toggleable\"><input class=\"sk-toggleable__control sk-hidden--visually\" id=\"sk-estimator-id-26\" type=\"checkbox\" ><label for=\"sk-estimator-id-26\" class=\"sk-toggleable__label sk-toggleable__label-arrow\">LogisticRegression</label><div class=\"sk-toggleable__content\"><pre>LogisticRegression(C=0.1, random_state=1729)</pre></div></div></div></div></div></div></div>"
            ],
            "text/plain": [
              "Pipeline(steps=[('scaler', MinMaxScaler()),\n",
              "                ('logistic', LogisticRegression(C=0.1, random_state=1729))])"
            ]
          },
          "execution_count": 50,
          "metadata": {},
          "output_type": "execute_result"
        }
      ],
      "source": [
        "pipe_logit_cv.best_estimator_"
      ]
    },
    {
      "cell_type": "markdown",
      "metadata": {
        "id": "FzuYWzBYXhw3"
      },
      "source": [
        "# With LogisticRegressionCV"
      ]
    },
    {
      "cell_type": "markdown",
      "metadata": {
        "id": "qbG-G2VoXjbd"
      },
      "source": [
        "Instead of using GridSearchCV for finding the best value for parameter C , we can use\n",
        "LogisticRegressionCV for performing the same job."
      ]
    },
    {
      "cell_type": "markdown",
      "metadata": {
        "id": "0YDv5E5hXkte"
      },
      "source": [
        "* STEP 1: Here we make use of LogisticRegressionCV estimator with number of cross\n",
        "validation folds cv=5 and scoring scheme scoring='f1' in the pipeline object.\n",
        "* STEP 2: In the second step, we train the pipeline object as before."
      ]
    },
    {
      "cell_type": "code",
      "execution_count": null,
      "metadata": {
        "colab": {
          "background_save": true
        },
        "id": "_WkKZxHSXIYd",
        "outputId": "672af2d2-6887-4b80-d7f3-1bfff8a1ead1"
      },
      "outputs": [
        {
          "data": {
            "text/html": [
              "<style>#sk-container-id-9 {color: black;background-color: white;}#sk-container-id-9 pre{padding: 0;}#sk-container-id-9 div.sk-toggleable {background-color: white;}#sk-container-id-9 label.sk-toggleable__label {cursor: pointer;display: block;width: 100%;margin-bottom: 0;padding: 0.3em;box-sizing: border-box;text-align: center;}#sk-container-id-9 label.sk-toggleable__label-arrow:before {content: \"▸\";float: left;margin-right: 0.25em;color: #696969;}#sk-container-id-9 label.sk-toggleable__label-arrow:hover:before {color: black;}#sk-container-id-9 div.sk-estimator:hover label.sk-toggleable__label-arrow:before {color: black;}#sk-container-id-9 div.sk-toggleable__content {max-height: 0;max-width: 0;overflow: hidden;text-align: left;background-color: #f0f8ff;}#sk-container-id-9 div.sk-toggleable__content pre {margin: 0.2em;color: black;border-radius: 0.25em;background-color: #f0f8ff;}#sk-container-id-9 input.sk-toggleable__control:checked~div.sk-toggleable__content {max-height: 200px;max-width: 100%;overflow: auto;}#sk-container-id-9 input.sk-toggleable__control:checked~label.sk-toggleable__label-arrow:before {content: \"▾\";}#sk-container-id-9 div.sk-estimator input.sk-toggleable__control:checked~label.sk-toggleable__label {background-color: #d4ebff;}#sk-container-id-9 div.sk-label input.sk-toggleable__control:checked~label.sk-toggleable__label {background-color: #d4ebff;}#sk-container-id-9 input.sk-hidden--visually {border: 0;clip: rect(1px 1px 1px 1px);clip: rect(1px, 1px, 1px, 1px);height: 1px;margin: -1px;overflow: hidden;padding: 0;position: absolute;width: 1px;}#sk-container-id-9 div.sk-estimator {font-family: monospace;background-color: #f0f8ff;border: 1px dotted black;border-radius: 0.25em;box-sizing: border-box;margin-bottom: 0.5em;}#sk-container-id-9 div.sk-estimator:hover {background-color: #d4ebff;}#sk-container-id-9 div.sk-parallel-item::after {content: \"\";width: 100%;border-bottom: 1px solid gray;flex-grow: 1;}#sk-container-id-9 div.sk-label:hover label.sk-toggleable__label {background-color: #d4ebff;}#sk-container-id-9 div.sk-serial::before {content: \"\";position: absolute;border-left: 1px solid gray;box-sizing: border-box;top: 0;bottom: 0;left: 50%;z-index: 0;}#sk-container-id-9 div.sk-serial {display: flex;flex-direction: column;align-items: center;background-color: white;padding-right: 0.2em;padding-left: 0.2em;position: relative;}#sk-container-id-9 div.sk-item {position: relative;z-index: 1;}#sk-container-id-9 div.sk-parallel {display: flex;align-items: stretch;justify-content: center;background-color: white;position: relative;}#sk-container-id-9 div.sk-item::before, #sk-container-id-9 div.sk-parallel-item::before {content: \"\";position: absolute;border-left: 1px solid gray;box-sizing: border-box;top: 0;bottom: 0;left: 50%;z-index: -1;}#sk-container-id-9 div.sk-parallel-item {display: flex;flex-direction: column;z-index: 1;position: relative;background-color: white;}#sk-container-id-9 div.sk-parallel-item:first-child::after {align-self: flex-end;width: 50%;}#sk-container-id-9 div.sk-parallel-item:last-child::after {align-self: flex-start;width: 50%;}#sk-container-id-9 div.sk-parallel-item:only-child::after {width: 0;}#sk-container-id-9 div.sk-dashed-wrapped {border: 1px dashed gray;margin: 0 0.4em 0.5em 0.4em;box-sizing: border-box;padding-bottom: 0.4em;background-color: white;}#sk-container-id-9 div.sk-label label {font-family: monospace;font-weight: bold;display: inline-block;line-height: 1.2em;}#sk-container-id-9 div.sk-label-container {text-align: center;}#sk-container-id-9 div.sk-container {/* jupyter's `normalize.less` sets `[hidden] { display: none; }` but bootstrap.min.css set `[hidden] { display: none !important; }` so we also need the `!important` here to be able to override the default hidden behavior on the sphinx rendered scikit-learn.org. See: https://github.com/scikit-learn/scikit-learn/issues/21755 */display: inline-block !important;position: relative;}#sk-container-id-9 div.sk-text-repr-fallback {display: none;}</style><div id=\"sk-container-id-9\" class=\"sk-top-container\"><div class=\"sk-text-repr-fallback\"><pre>Pipeline(steps=[(&#x27;minmaxscaler&#x27;, MinMaxScaler()),\n",
              "                (&#x27;logisticregressioncv&#x27;,\n",
              "                 LogisticRegressionCV(cv=5, random_state=1729, scoring=&#x27;f1&#x27;))])</pre><b>In a Jupyter environment, please rerun this cell to show the HTML representation or trust the notebook. <br />On GitHub, the HTML representation is unable to render, please try loading this page with nbviewer.org.</b></div><div class=\"sk-container\" hidden><div class=\"sk-item sk-dashed-wrapped\"><div class=\"sk-label-container\"><div class=\"sk-label sk-toggleable\"><input class=\"sk-toggleable__control sk-hidden--visually\" id=\"sk-estimator-id-27\" type=\"checkbox\" ><label for=\"sk-estimator-id-27\" class=\"sk-toggleable__label sk-toggleable__label-arrow\">Pipeline</label><div class=\"sk-toggleable__content\"><pre>Pipeline(steps=[(&#x27;minmaxscaler&#x27;, MinMaxScaler()),\n",
              "                (&#x27;logisticregressioncv&#x27;,\n",
              "                 LogisticRegressionCV(cv=5, random_state=1729, scoring=&#x27;f1&#x27;))])</pre></div></div></div><div class=\"sk-serial\"><div class=\"sk-item\"><div class=\"sk-estimator sk-toggleable\"><input class=\"sk-toggleable__control sk-hidden--visually\" id=\"sk-estimator-id-28\" type=\"checkbox\" ><label for=\"sk-estimator-id-28\" class=\"sk-toggleable__label sk-toggleable__label-arrow\">MinMaxScaler</label><div class=\"sk-toggleable__content\"><pre>MinMaxScaler()</pre></div></div></div><div class=\"sk-item\"><div class=\"sk-estimator sk-toggleable\"><input class=\"sk-toggleable__control sk-hidden--visually\" id=\"sk-estimator-id-29\" type=\"checkbox\" ><label for=\"sk-estimator-id-29\" class=\"sk-toggleable__label sk-toggleable__label-arrow\">LogisticRegressionCV</label><div class=\"sk-toggleable__content\"><pre>LogisticRegressionCV(cv=5, random_state=1729, scoring=&#x27;f1&#x27;)</pre></div></div></div></div></div></div></div>"
            ],
            "text/plain": [
              "Pipeline(steps=[('minmaxscaler', MinMaxScaler()),\n",
              "                ('logisticregressioncv',\n",
              "                 LogisticRegressionCV(cv=5, random_state=1729, scoring='f1'))])"
            ]
          },
          "execution_count": 51,
          "metadata": {},
          "output_type": "execute_result"
        }
      ],
      "source": [
        "from sklearn.linear_model import LogisticRegressionCV\n",
        "estimator = LogisticRegressionCV(cv=5, scoring='f1', random_state=1729)\n",
        "logit_cv = make_pipeline(MinMaxScaler(), estimator)\n",
        "logit_cv.fit(x_train, y_train_0)"
      ]
    },
    {
      "cell_type": "markdown",
      "metadata": {
        "id": "NwvhhosxXsTE"
      },
      "source": [
        "By default, LogisticRegressionCV refits the model on the entire training set with the best\n",
        "parameter values obtained via cross validation."
      ]
    },
    {
      "cell_type": "markdown",
      "metadata": {
        "id": "7biHN2wvXsNb"
      },
      "source": [
        "# performance evaluation"
      ]
    },
    {
      "cell_type": "markdown",
      "metadata": {
        "id": "TPiz9-VMZTLg"
      },
      "source": [
        "## Precision, recall and f1-score"
      ]
    },
    {
      "cell_type": "markdown",
      "metadata": {
        "id": "hEFwsGZEZViD"
      },
      "source": [
        "Let's evaluate performance of these three different logistic regression classifiers for detecting\n",
        "digit 0 from the image."
      ]
    },
    {
      "cell_type": "markdown",
      "metadata": {
        "id": "OI88rFSfZYE0"
      },
      "source": [
        "* Logistic regression without regularization.\n",
        "* Best logistic regression classifier found through GridSearchCV .\n",
        "* Best classifier found through LogisticRegressionCV ."
      ]
    },
    {
      "cell_type": "markdown",
      "metadata": {
        "id": "9xSRqgpzZdx_"
      },
      "source": [
        "Note that GridSearchCV and LogisticRegressionCV by default refit the classifier\n",
        "for the best hyperparameter values."
      ]
    },
    {
      "cell_type": "code",
      "execution_count": null,
      "metadata": {
        "colab": {
          "background_save": true
        },
        "id": "kdfOdviRXnc4"
      },
      "outputs": [],
      "source": [
        "# Lets predict for the test set with these three classifiers\n",
        "\n",
        "lr_y_hat_0 = pipe_logit.predict(x_test)\n",
        "lr_gs_y_hat_0 = pipe_logit_cv.best_estimator_.predict(x_test)\n",
        "lr_cv_y_hat_0 = logit_cv.predict(x_test)"
      ]
    },
    {
      "cell_type": "markdown",
      "metadata": {
        "id": "SrEwIyK2ZpuY"
      },
      "source": [
        "We will compare precision, recall and F1 score for the three classifiers."
      ]
    },
    {
      "cell_type": "code",
      "execution_count": null,
      "metadata": {
        "colab": {
          "background_save": true
        },
        "id": "N3kNP8szZk0x"
      },
      "outputs": [],
      "source": [
        "precision_lr = precision_score(y_test_0, lr_y_hat_0)\n",
        "recall_lr = recall_score(y_test_0, lr_y_hat_0)"
      ]
    },
    {
      "cell_type": "code",
      "execution_count": null,
      "metadata": {
        "id": "gSttixd4ZrTH"
      },
      "outputs": [],
      "source": [
        "precision_lr_gs = precision_score(y_test_0, lr_gs_y_hat_0)\n",
        "recall_lr_gs = recall_score(y_test_0, lr_gs_y_hat_0)"
      ]
    },
    {
      "cell_type": "code",
      "execution_count": null,
      "metadata": {
        "id": "iaSgD6pmZsWf"
      },
      "outputs": [],
      "source": [
        "precision_lr_cv = precision_score(y_test_0, lr_cv_y_hat_0)\n",
        "recall_lr_cv = recall_score(y_test_0, lr_cv_y_hat_0)"
      ]
    },
    {
      "cell_type": "code",
      "execution_count": 56,
      "metadata": {
        "id": "v_coVLiEZvjJ",
        "colab": {
          "base_uri": "https://localhost:8080/"
        },
        "outputId": "d8c99e9c-6092-4ebb-97aa-4101043204da"
      },
      "outputs": [
        {
          "metadata": {
            "tags": null
          },
          "name": "stdout",
          "output_type": "stream",
          "text": [
            "LogReg: precision=0.9515151515151515, recall=0.9612244897959183\n",
            "GridSearch: precision=0.9564336372847011, recall=0.963265306122449\n",
            "LogRegCV: precision=0.9546370967741935, recall=0.9663265306122449\n"
          ]
        }
      ],
      "source": [
        "print (f\"LogReg: precision={precision_lr}, recall={recall_lr}\")\n",
        "print (f\"GridSearch: precision={precision_lr_gs}, recall={recall_lr_gs}\")\n",
        "print (f\"LogRegCV: precision={precision_lr_cv}, recall={recall_lr_cv}\")"
      ]
    },
    {
      "cell_type": "markdown",
      "metadata": {
        "id": "-Owmch7bZx53"
      },
      "source": [
        "Note that all three classifiers have roughly the same performance as measured with precision\n",
        "and recall."
      ]
    },
    {
      "cell_type": "markdown",
      "metadata": {
        "id": "heihrNFtZzpq"
      },
      "source": [
        "* The LogisticRegression classifier obtained through GridSearchCV has the highest\n",
        "precision - marginally higher than the other two classifiers.\n",
        "* The LogisticRegression classifier obtained through LogisticRegressionCV has the\n",
        "highest recall - marginally higher than the other two classifiers."
      ]
    },
    {
      "cell_type": "markdown",
      "metadata": {
        "id": "tiGpMvUIZ33V"
      },
      "source": [
        "# Using PR-curve"
      ]
    },
    {
      "cell_type": "code",
      "execution_count": 58,
      "metadata": {
        "id": "j9C9Ea1NZwqM"
      },
      "outputs": [],
      "source": [
        "from sklearn.metrics import precision_recall_curve\n",
        "y_scores_lr = pipe_logit.decision_function(x_test)\n",
        "precisions_lr, recalls_lr, thresholds_lr = precision_recall_curve(y_test_0, y_scores_lr)"
      ]
    },
    {
      "cell_type": "code",
      "execution_count": 59,
      "metadata": {
        "id": "iubI2HVBZ5xH"
      },
      "outputs": [],
      "source": [
        "y_scores_lr_gs = pipe_logit_cv.decision_function(x_test)\n",
        "precisions_lr_gs, recalls_lr_gs, thresholds_lr_gs = precision_recall_curve(\n",
        "y_test_0, y_scores_lr_gs)"
      ]
    },
    {
      "cell_type": "code",
      "execution_count": 60,
      "metadata": {
        "id": "jMr_RLBCZ7hV"
      },
      "outputs": [],
      "source": [
        "y_scores_lr_cv = logit_cv.decision_function(x_test)\n",
        "precisions_lr_cv, recalls_lr_cv, thresholds_lr_cv = precision_recall_curve(\n",
        "y_test_0, y_scores_lr_cv)"
      ]
    },
    {
      "cell_type": "code",
      "execution_count": 61,
      "metadata": {
        "id": "1QEVtqfhZ9Iz",
        "colab": {
          "base_uri": "https://localhost:8080/",
          "height": 286
        },
        "outputId": "d08cc00e-71b2-41c1-97a1-33782d41d2a8"
      },
      "outputs": [
        {
          "output_type": "display_data",
          "data": {
            "text/plain": [
              "<Figure size 720x288 with 1 Axes>"
            ],
            "image/png": "[encoded data removed]"
          },
          "metadata": {
            "needs_background": "light"
          }
        }
      ],
      "source": [
        "plt.figure(figsize=(10,4))\n",
        "plt.plot(recalls_lr[:-1], precisions_lr[:-1], 'b--', label='LogReg')\n",
        "plt.plot(recalls_lr_gs[:-1], precisions_lr_gs[:-1], 'r--', label='GridSearchCV')\n",
        "plt.plot(recalls_lr_cv[:-1], precisions_lr_cv[:-1], 'g--', label='LogRegCV')\n",
        "plt.ylabel('Precision')\n",
        "plt.xlabel('Recall')\n",
        "plt.grid(True)\n",
        "plt.legend(loc='lower left')\n",
        "plt.show()"
      ]
    },
    {
      "cell_type": "markdown",
      "metadata": {
        "id": "STC5FnEOaBFn"
      },
      "source": [
        "Note that the PR curves for all three classifiers overlap significantly."
      ]
    },
    {
      "cell_type": "markdown",
      "metadata": {
        "id": "E1Iyy7eWaCTs"
      },
      "source": [
        "Let's calculate area under the PR curve:"
      ]
    },
    {
      "cell_type": "code",
      "execution_count": 62,
      "metadata": {
        "id": "71XTlbtmZ_tT",
        "colab": {
          "base_uri": "https://localhost:8080/"
        },
        "outputId": "5fee27eb-8d06-4ce3-fb7e-eb1642d40c06"
      },
      "outputs": [
        {
          "output_type": "stream",
          "name": "stdout",
          "text": [
            "AUC-PR for logistic regression: 0.9871337497759658\n",
            "AUC-PR for grid search: 0.9886520703587929\n",
            "AUC-PR for logistic regression CV: 0.9886326829687666\n"
          ]
        }
      ],
      "source": [
        "from sklearn.metrics import auc\n",
        "auc_lr = auc(recalls_lr[:-1], precisions_lr[:-1])\n",
        "auc_lr_gs = auc(recalls_lr_gs[:-1], precisions_lr_gs[:-1])\n",
        "auc_lr_cv = auc(recalls_lr_cv[:-1], precisions_lr_cv[:-1])\n",
        "\n",
        "print (\"AUC-PR for logistic regression:\", auc_lr)\n",
        "print (\"AUC-PR for grid search:\", auc_lr_gs)\n",
        "print (\"AUC-PR for logistic regression CV:\", auc_lr_cv)"
      ]
    },
    {
      "cell_type": "markdown",
      "metadata": {
        "id": "DoBPBcLRaFc-"
      },
      "source": [
        "Observe that the AUC for all three classifier is roughly the same with LogisticRegression\n",
        "classifier obtained through cross validation and grid search have slightly higher AUC under PR\n",
        "curve."
      ]
    },
    {
      "cell_type": "markdown",
      "metadata": {
        "id": "XLlQOrIRaHYb"
      },
      "source": [
        "# Confusion matrix"
      ]
    },
    {
      "cell_type": "markdown",
      "metadata": {
        "id": "VZnoW3JPaI0T"
      },
      "source": [
        "We show a confusion matrix for test set with logistic regression classifier:"
      ]
    },
    {
      "cell_type": "code",
      "execution_count": 63,
      "metadata": {
        "id": "i9G7hf53aEKQ",
        "colab": {
          "base_uri": "https://localhost:8080/",
          "height": 395
        },
        "outputId": "e3d79e60-040c-4949-d6b0-07a99eef40c5"
      },
      "outputs": [
        {
          "output_type": "display_data",
          "data": {
            "text/plain": [
              "<Figure size 576x432 with 2 Axes>"
            ],
            "image/png": "[encoded data removed]"
          },
          "metadata": {
            "needs_background": "light"
          }
        }
      ],
      "source": [
        "cm_display = ConfusionMatrixDisplay.from_predictions(y_test_0,lr_y_hat_0,values_format='.5g')\n",
        "\n",
        "# it return matplotlin plot object\n",
        "plt.show()"
      ]
    },
    {
      "cell_type": "markdown",
      "metadata": {
        "id": "UxKJ3wrSaNvY"
      },
      "source": [
        "Confusion matrix for test set with logistic regression classifier obtained through grid search:"
      ]
    },
    {
      "cell_type": "code",
      "execution_count": 64,
      "metadata": {
        "id": "1f9XEJSfaMUq",
        "colab": {
          "base_uri": "https://localhost:8080/",
          "height": 395
        },
        "outputId": "0da418ac-4ddb-4a8f-e283-a58bd4ba28c1"
      },
      "outputs": [
        {
          "output_type": "display_data",
          "data": {
            "text/plain": [
              "<Figure size 576x432 with 2 Axes>"
            ],
            "image/png": "[encoded data removed]"
          },
          "metadata": {
            "needs_background": "light"
          }
        }
      ],
      "source": [
        "cm_display = ConfusionMatrixDisplay.from_predictions(y_test_0,lr_gs_y_hat_0,\n",
        "values_format='.5g')\n",
        "\n",
        "# it return matplotlin plot object\n",
        "plt.show()"
      ]
    },
    {
      "cell_type": "markdown",
      "metadata": {
        "id": "g5VN9dluahF1"
      },
      "source": [
        "Confusion matrix for test set with logistic regression classifier obtained through cross\n",
        "validation:"
      ]
    },
    {
      "cell_type": "code",
      "execution_count": 65,
      "metadata": {
        "id": "PXFvkEfAaPOT",
        "colab": {
          "base_uri": "https://localhost:8080/",
          "height": 395
        },
        "outputId": "125c781d-6502-41ea-9b05-31b21cfd7268"
      },
      "outputs": [
        {
          "output_type": "display_data",
          "data": {
            "text/plain": [
              "<Figure size 576x432 with 2 Axes>"
            ],
            "image/png": "[encoded data removed]"
          },
          "metadata": {
            "needs_background": "light"
          }
        }
      ],
      "source": [
        "cm_display = ConfusionMatrixDisplay.from_predictions(y_test_0,lr_cv_y_hat_0,\n",
        "values_format='.5g')\n",
        "\n",
        "# it return matplotlin plot object\n",
        "plt.show()"
      ]
    },
    {
      "cell_type": "code",
      "execution_count": 65,
      "metadata": {
        "id": "Ssh5CRVFajsb"
      },
      "outputs": [],
      "source": []
    }
  ],
  "metadata": {
    "colab": {
      "provenance": []
    },
    "kernelspec": {
      "display_name": "Python 3",
      "name": "python3"
    },
    "language_info": {
      "name": "python"
    }
  },
  "nbformat": 4,
  "nbformat_minor": 0
}