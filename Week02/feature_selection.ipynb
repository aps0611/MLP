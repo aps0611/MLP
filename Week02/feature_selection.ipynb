{
  "nbformat": 4,
  "nbformat_minor": 0,
  "metadata": {
    "colab": {
      "provenance": [],
      "toc_visible": true
    },
    "kernelspec": {
      "name": "python3",
      "display_name": "Python 3"
    },
    "language_info": {
      "name": "python"
    }
  },
  "cells": [
    {
      "cell_type": "markdown",
      "source": [
        "# Feature Slection API:\n",
        "\n",
        "1. Filter Based\n",
        "2. Wrapper Based"
      ],
      "metadata": {
        "id": "EMWf22zfeKvf"
      }
    },
    {
      "cell_type": "markdown",
      "source": [
        "## Filter Based Feature Selection\n",
        "\n",
        "#### VarianceThreshold, SelectKBest, SelectPercentile, GenericUnivariateSelect"
      ],
      "metadata": {
        "id": "cJD5PDkoeTer"
      }
    },
    {
      "cell_type": "code",
      "execution_count": 3,
      "metadata": {
        "id": "pd4C17rmeDhn"
      },
      "outputs": [],
      "source": [
        "# Some important Feature selectors:\n",
        "\n",
        "from sklearn.feature_selection import VarianceThreshold, SelectKBest, SelectPercentile, GenericUnivariateSelect, RFE, RFECV, SelectFromModel, SequentialFeatureSelector\n",
        "\n",
        "# RFE: Recursive feature elimination\n",
        "# RFECV: Recursive feature elimination with CV\n",
        "\n",
        "# there are tree based and kernel based feature selectors as well. Not covered here"
      ]
    },
    {
      "cell_type": "markdown",
      "source": [
        "### Variance Threshold"
      ],
      "metadata": {
        "id": "fSWuJ2R0f_Od"
      }
    },
    {
      "cell_type": "markdown",
      "source": [
        "removes all the features with variance below certain threshold as specified by the user from input feature matrix"
      ],
      "metadata": {
        "id": "aMzYUkyWgCC9"
      }
    },
    {
      "cell_type": "code",
      "source": [
        "# In single feature, Multiple some values may be very close to each other and thus may count as same value and may not be useful in training\n",
        "\n",
        "# By default it removes the feature with zero  variance ie same values\n"
      ],
      "metadata": {
        "id": "jyJ0z_Kjewy4"
      },
      "execution_count": 4,
      "outputs": []
    },
    {
      "cell_type": "markdown",
      "source": [
        "### Univariate Feature selection"
      ],
      "metadata": {
        "id": "8Wku0GAMg0kY"
      }
    },
    {
      "cell_type": "markdown",
      "source": [
        "#### SelectKBest    |    SelectPercentile   | GenericUnivariateSelect"
      ],
      "metadata": {
        "id": "8yJjy7cig5MD"
      }
    },
    {
      "cell_type": "markdown",
      "source": [
        " SelectKBest    |    SelectPercentile   | GenericUnivariateSelect\n",
        " --|---|---\n",
        " Removes all but the `k highest scoring features` | Removes all but user specified `highest scoring percentage` of features | Performs Univariate Feature Selection with `configurable strategy` which can be found via `hyper-parameter search`"
      ],
      "metadata": {
        "id": "g0xdOpJGg96O"
      }
    },
    {
      "cell_type": "code",
      "source": [],
      "metadata": {
        "id": "__E4v1Y2mFkU"
      },
      "execution_count": 4,
      "outputs": []
    },
    {
      "cell_type": "markdown",
      "source": [
        "### Common univariate statistics tests\n",
        "\n",
        "SelectFpr selects features based on false positive rate test\n",
        "\n",
        "SelectFdr selects features based on estimated false discovery rate"
      ],
      "metadata": {
        "id": "vO8AR5NuhAjm"
      }
    },
    {
      "cell_type": "markdown",
      "source": [
        "### Univariate Scoring Function\n",
        "\n",
        "Each API needs a scoring function to score features\n",
        "\n",
        "Three classes\n",
        "\n",
        " 1. MutualInformation(MI)\n",
        " 2. Chi-square\n",
        " 3. F-statistics\n",
        "\n",
        "MI and F-statistics can be used in both classification and regression problems\n",
        "\n",
        "  `mutual_info_regression` | `f_regression`\n",
        "  --------|----------\n",
        "  `mutual_info_classif` | `f_classif` \n",
        "\n",
        "\n",
        "chi-square can be used only in classification problem\n",
        "\n",
        "`chi2`"
      ],
      "metadata": {
        "id": "dQ4AYpDyidjm"
      }
    },
    {
      "cell_type": "markdown",
      "source": [
        "#### Mutual Information"
      ],
      "metadata": {
        "id": "yT3a8VVLjtj8"
      }
    },
    {
      "cell_type": "markdown",
      "source": [
        "  1. Measures `dependency` between two variables\n",
        "  2. Returns `non-negetive` value\n",
        "  3. `MI = 0` for Independent variabeles\n",
        "  4. Higher the MI >> Higher the dependency"
      ],
      "metadata": {
        "id": "XiEZ0kOujwKT"
      }
    },
    {
      "cell_type": "markdown",
      "source": [
        "#### Chi-Square"
      ],
      "metadata": {
        "id": "ZQcIGUmokNlL"
      }
    },
    {
      "cell_type": "markdown",
      "source": [
        "1. Measures `dependency` between two variables\n",
        "2. Computes chi-square between `non-negative` features (boolean/frequency) and `class label`\n",
        "3. Higher value indicates features and labels are correlated"
      ],
      "metadata": {
        "id": "PEyTUTOTkSLj"
      }
    },
    {
      "cell_type": "markdown",
      "source": [
        "### Illustration"
      ],
      "metadata": {
        "id": "nYJoib2nmLNf"
      }
    },
    {
      "cell_type": "code",
      "source": [
        "# Select 20 best features based on chi2 method\n",
        "\n",
        "skb = SelectKBest(chi2, k=20)\n",
        "X_new = skb.fit_transform(X,y)"
      ],
      "metadata": {
        "colab": {
          "base_uri": "https://localhost:8080/",
          "height": 217
        },
        "id": "gAswJ4zemP6s",
        "outputId": "54ac3738-0550-43a4-9d9e-5deef6a06073"
      },
      "execution_count": 6,
      "outputs": [
        {
          "output_type": "error",
          "ename": "NameError",
          "evalue": "ignored",
          "traceback": [
            "\u001b[0;31m---------------------------------------------------------------------------\u001b[0m",
            "\u001b[0;31mNameError\u001b[0m                                 Traceback (most recent call last)",
            "\u001b[0;32m<ipython-input-6-debe816ff971>\u001b[0m in \u001b[0;36m<module>\u001b[0;34m\u001b[0m\n\u001b[1;32m      1\u001b[0m \u001b[0;31m# Select 20 best features based on chi2 method\u001b[0m\u001b[0;34m\u001b[0m\u001b[0;34m\u001b[0m\u001b[0;34m\u001b[0m\u001b[0m\n\u001b[1;32m      2\u001b[0m \u001b[0;34m\u001b[0m\u001b[0m\n\u001b[0;32m----> 3\u001b[0;31m \u001b[0mskb\u001b[0m \u001b[0;34m=\u001b[0m \u001b[0mSelectKBest\u001b[0m\u001b[0;34m(\u001b[0m\u001b[0mchi2\u001b[0m\u001b[0;34m,\u001b[0m \u001b[0mk\u001b[0m\u001b[0;34m=\u001b[0m\u001b[0;36m20\u001b[0m\u001b[0;34m)\u001b[0m\u001b[0;34m\u001b[0m\u001b[0;34m\u001b[0m\u001b[0m\n\u001b[0m\u001b[1;32m      4\u001b[0m \u001b[0mX_new\u001b[0m \u001b[0;34m=\u001b[0m \u001b[0mskb\u001b[0m\u001b[0;34m.\u001b[0m\u001b[0mfit_transform\u001b[0m\u001b[0;34m(\u001b[0m\u001b[0mX\u001b[0m\u001b[0;34m,\u001b[0m\u001b[0my\u001b[0m\u001b[0;34m)\u001b[0m\u001b[0;34m\u001b[0m\u001b[0;34m\u001b[0m\u001b[0m\n",
            "\u001b[0;31mNameError\u001b[0m: name 'chi2' is not defined"
          ]
        }
      ]
    },
    {
      "cell_type": "code",
      "source": [
        "# Select 20% top\n",
        "\n",
        "sp = SelectPercentile(chi2, percentile = 20)\n",
        "X_new = sp.fit_transform(X,y)"
      ],
      "metadata": {
        "colab": {
          "base_uri": "https://localhost:8080/",
          "height": 217
        },
        "id": "fHdd65eRmrKW",
        "outputId": "1264a502-990e-46d3-cd1e-254fa9ed13ee"
      },
      "execution_count": 7,
      "outputs": [
        {
          "output_type": "error",
          "ename": "NameError",
          "evalue": "ignored",
          "traceback": [
            "\u001b[0;31m---------------------------------------------------------------------------\u001b[0m",
            "\u001b[0;31mNameError\u001b[0m                                 Traceback (most recent call last)",
            "\u001b[0;32m<ipython-input-7-765a9818fe9c>\u001b[0m in \u001b[0;36m<module>\u001b[0;34m\u001b[0m\n\u001b[1;32m      1\u001b[0m \u001b[0;31m# Select 20% top\u001b[0m\u001b[0;34m\u001b[0m\u001b[0;34m\u001b[0m\u001b[0;34m\u001b[0m\u001b[0m\n\u001b[1;32m      2\u001b[0m \u001b[0;34m\u001b[0m\u001b[0m\n\u001b[0;32m----> 3\u001b[0;31m \u001b[0msp\u001b[0m \u001b[0;34m=\u001b[0m \u001b[0mSelectPercentile\u001b[0m\u001b[0;34m(\u001b[0m\u001b[0mchi2\u001b[0m\u001b[0;34m,\u001b[0m \u001b[0mpercentile\u001b[0m \u001b[0;34m=\u001b[0m \u001b[0;36m20\u001b[0m\u001b[0;34m)\u001b[0m\u001b[0;34m\u001b[0m\u001b[0;34m\u001b[0m\u001b[0m\n\u001b[0m\u001b[1;32m      4\u001b[0m \u001b[0mX_new\u001b[0m \u001b[0;34m=\u001b[0m \u001b[0msp\u001b[0m\u001b[0;34m.\u001b[0m\u001b[0mfit_transform\u001b[0m\u001b[0;34m(\u001b[0m\u001b[0mX\u001b[0m\u001b[0;34m,\u001b[0m\u001b[0my\u001b[0m\u001b[0;34m)\u001b[0m\u001b[0;34m\u001b[0m\u001b[0;34m\u001b[0m\u001b[0m\n",
            "\u001b[0;31mNameError\u001b[0m: name 'chi2' is not defined"
          ]
        }
      ]
    },
    {
      "cell_type": "code",
      "source": [
        "# Generic Univariate Select\n",
        "\n",
        "# selects 20 based features based on chi square mode\n",
        "\n",
        "transformer = GenericUnivariateSelect(cih2, mode = 'k_best', param = 20)\n",
        "X_new = transformer.fit_transform(X,y)"
      ],
      "metadata": {
        "colab": {
          "base_uri": "https://localhost:8080/",
          "height": 217
        },
        "id": "wfWbm7MJnBHI",
        "outputId": "f67db9a3-237d-48e0-c112-a99857b2e5d0"
      },
      "execution_count": 10,
      "outputs": [
        {
          "output_type": "error",
          "ename": "NameError",
          "evalue": "ignored",
          "traceback": [
            "\u001b[0;31m---------------------------------------------------------------------------\u001b[0m",
            "\u001b[0;31mNameError\u001b[0m                                 Traceback (most recent call last)",
            "\u001b[0;32m<ipython-input-10-af0bada94ca2>\u001b[0m in \u001b[0;36m<module>\u001b[0;34m\u001b[0m\n\u001b[1;32m      3\u001b[0m \u001b[0;31m# selects 20 based features based on chi square mode\u001b[0m\u001b[0;34m\u001b[0m\u001b[0;34m\u001b[0m\u001b[0;34m\u001b[0m\u001b[0m\n\u001b[1;32m      4\u001b[0m \u001b[0;34m\u001b[0m\u001b[0m\n\u001b[0;32m----> 5\u001b[0;31m \u001b[0mtransformer\u001b[0m \u001b[0;34m=\u001b[0m \u001b[0mGenericUnivariateSelect\u001b[0m\u001b[0;34m(\u001b[0m\u001b[0mcih2\u001b[0m\u001b[0;34m,\u001b[0m \u001b[0mmode\u001b[0m \u001b[0;34m=\u001b[0m \u001b[0;34m'k_best'\u001b[0m\u001b[0;34m,\u001b[0m \u001b[0mparam\u001b[0m \u001b[0;34m=\u001b[0m \u001b[0;36m20\u001b[0m\u001b[0;34m)\u001b[0m\u001b[0;34m\u001b[0m\u001b[0;34m\u001b[0m\u001b[0m\n\u001b[0m\u001b[1;32m      6\u001b[0m \u001b[0mX_new\u001b[0m \u001b[0;34m=\u001b[0m \u001b[0mtransformer\u001b[0m\u001b[0;34m.\u001b[0m\u001b[0mfit_transform\u001b[0m\u001b[0;34m(\u001b[0m\u001b[0mX\u001b[0m\u001b[0;34m,\u001b[0m\u001b[0my\u001b[0m\u001b[0;34m)\u001b[0m\u001b[0;34m\u001b[0m\u001b[0;34m\u001b[0m\u001b[0m\n",
            "\u001b[0;31mNameError\u001b[0m: name 'cih2' is not defined"
          ]
        }
      ]
    },
    {
      "cell_type": "markdown",
      "source": [
        "#### other modes\n",
        "\n",
        "1. percentile (default)\n",
        "2. k_best\n",
        "3. fpr\n",
        "4. fdr\n",
        "5. fwe\n",
        "\n",
        "param takes value corresponding to mode"
      ],
      "metadata": {
        "id": "QFOnHK8qnofi"
      }
    },
    {
      "cell_type": "code",
      "source": [
        "from sklearn.feature_selection import VarianceThreshold\n",
        "import numpy as np\n",
        " \n",
        "X = np.array([[1, 1, 1], [1,3,4], [1,2,4]])\n",
        "print(X)\n",
        "vt = VarianceThreshold()\n",
        "vt.fit_transform(X)"
      ],
      "metadata": {
        "colab": {
          "base_uri": "https://localhost:8080/"
        },
        "id": "9LaX9jhwo8Ta",
        "outputId": "f7d62c41-1860-4203-cf7c-9d4404862fee"
      },
      "execution_count": 13,
      "outputs": [
        {
          "output_type": "stream",
          "name": "stdout",
          "text": [
            "[[1 1 1]\n",
            " [1 3 4]\n",
            " [1 2 4]]\n"
          ]
        },
        {
          "output_type": "execute_result",
          "data": {
            "text/plain": [
              "array([[1, 1],\n",
              "       [3, 4],\n",
              "       [2, 4]])"
            ]
          },
          "metadata": {},
          "execution_count": 13
        }
      ]
    },
    {
      "cell_type": "markdown",
      "source": [
        "# DO NOT USE REGRESSION FEATURE SCORING FUNCTION WITH A CLASSIFICATION PROBLEM. IT WILL LEAD TO USELESS RESULTS"
      ],
      "metadata": {
        "id": "cemN66EaoNgV"
      }
    },
    {
      "cell_type": "markdown",
      "source": [
        "## Wrapper Based Feature Selection:\n",
        "\n",
        "#### RFE, RFECV, SelectFromModel, SequentialFeatureSelector\n"
      ],
      "metadata": {
        "id": "sH1Y81offrvt"
      }
    },
    {
      "cell_type": "markdown",
      "source": [
        "Filter | wrapper\n",
        "---|---\n",
        "use `scoring function`| use `estimator class`"
      ],
      "metadata": {
        "id": "TDveLij8pjoa"
      }
    },
    {
      "cell_type": "markdown",
      "source": [
        "### RFE: Recursive Feature Elimination"
      ],
      "metadata": {
        "id": "VVq-2ZDQqD4M"
      }
    },
    {
      "cell_type": "markdown",
      "source": [
        "uses an estimator to recursively remove feature. \n",
        "\n",
        "initially fits an estimator on all features\n",
        "\n",
        "Obtain Feature importance from the estimator and removes least important features\n",
        "\n",
        "Repeats process by removing features one by one untill desired no. of features are obtained"
      ],
      "metadata": {
        "id": "EqC0pMPvqb6M"
      }
    },
    {
      "cell_type": "markdown",
      "source": [
        "### RFECV: Recursive Feature Elimination with CV\n",
        "\n",
        "Use `RFECV` when we dont want to specify desired number of features\n",
        "\n",
        "it performs `RFE` on cross validation loop to find the optimal number of features"
      ],
      "metadata": {
        "id": "8UTkz6ohqyt9"
      }
    },
    {
      "cell_type": "markdown",
      "source": [
        "### SelectFromModel \n",
        "\n",
        "selects `desired number of imporant features` as specified with `max_features` above certain threshold of feature importance as obtained from trained estimator\n",
        "\n",
        "The feature importance can be obtained via - `coef_`, `feature_importances_` or `importance_getter` callable from trained estimator\n",
        "\n",
        "The feature importance threshold can be specified:\n",
        "1. numerically\n",
        "2. string argument- built in `mean`, `median`, or `0.1*mean`"
      ],
      "metadata": {
        "id": "73IvTIfWrQnc"
      }
    },
    {
      "cell_type": "code",
      "source": [
        "# here we use linear Support Vector classifier to get coefficients of features for SelectFromModel Transformer\n",
        "\n",
        "# penalty = l1 regularization\n",
        "clf = LinearSVC(c=0.01, penalty ='l1', dual = False)\n",
        "clf = clf.fit(X,y)\n",
        "clf.coef_\n",
        "\n",
        "model = SelectFromModel(clf, prefit = True)\n",
        "X_new = model.transform(X)\n",
        "\n",
        "# it ends up selecting features with non-zero weights or coef : L1 Regularizer "
      ],
      "metadata": {
        "colab": {
          "base_uri": "https://localhost:8080/",
          "height": 235
        },
        "id": "kpK6VJx-fzSz",
        "outputId": "7ecb8a89-8975-4def-fcdb-e182a0768877"
      },
      "execution_count": 15,
      "outputs": [
        {
          "output_type": "error",
          "ename": "NameError",
          "evalue": "ignored",
          "traceback": [
            "\u001b[0;31m---------------------------------------------------------------------------\u001b[0m",
            "\u001b[0;31mNameError\u001b[0m                                 Traceback (most recent call last)",
            "\u001b[0;32m<ipython-input-15-2a51c4f0101f>\u001b[0m in \u001b[0;36m<module>\u001b[0;34m\u001b[0m\n\u001b[1;32m      2\u001b[0m \u001b[0;34m\u001b[0m\u001b[0m\n\u001b[1;32m      3\u001b[0m \u001b[0;31m# penalty = l1 regularization\u001b[0m\u001b[0;34m\u001b[0m\u001b[0;34m\u001b[0m\u001b[0;34m\u001b[0m\u001b[0m\n\u001b[0;32m----> 4\u001b[0;31m \u001b[0mclf\u001b[0m \u001b[0;34m=\u001b[0m \u001b[0mLinearSVC\u001b[0m\u001b[0;34m(\u001b[0m\u001b[0mc\u001b[0m\u001b[0;34m=\u001b[0m\u001b[0;36m0.01\u001b[0m\u001b[0;34m,\u001b[0m \u001b[0mpenalty\u001b[0m \u001b[0;34m=\u001b[0m\u001b[0;34m'l1'\u001b[0m\u001b[0;34m,\u001b[0m \u001b[0mdual\u001b[0m \u001b[0;34m=\u001b[0m \u001b[0;32mFalse\u001b[0m\u001b[0;34m)\u001b[0m\u001b[0;34m\u001b[0m\u001b[0;34m\u001b[0m\u001b[0m\n\u001b[0m\u001b[1;32m      5\u001b[0m \u001b[0mclf\u001b[0m \u001b[0;34m=\u001b[0m \u001b[0mclf\u001b[0m\u001b[0;34m.\u001b[0m\u001b[0mfit\u001b[0m\u001b[0;34m(\u001b[0m\u001b[0mX\u001b[0m\u001b[0;34m,\u001b[0m\u001b[0my\u001b[0m\u001b[0;34m)\u001b[0m\u001b[0;34m\u001b[0m\u001b[0;34m\u001b[0m\u001b[0m\n\u001b[1;32m      6\u001b[0m \u001b[0mclf\u001b[0m\u001b[0;34m.\u001b[0m\u001b[0mcoef_\u001b[0m\u001b[0;34m\u001b[0m\u001b[0;34m\u001b[0m\u001b[0m\n",
            "\u001b[0;31mNameError\u001b[0m: name 'LinearSVC' is not defined"
          ]
        }
      ]
    },
    {
      "cell_type": "markdown",
      "source": [
        "### Sequential Feature Selection\n",
        "\n",
        "performs feature selection by selecting or deselecting features one by one in greedy manner. \n",
        "\n",
        "uses one of the below approach\n",
        "\n",
        "Forward Selection | Backward Selection\n",
        "------|-------\n",
        "Starts with zero features and `adds` feature one by one until desired features obtained | Start with all features and `deselect` feature one by one until desired features obtained\n",
        "\n",
        "\n",
        "Forward and Backward Feature selection do not yield the same results\n",
        "\n",
        "Select the direction that is efficient in feature selection i.e. it takes less number of iterations\n"
      ],
      "metadata": {
        "id": "whXoDGzCtiR_"
      }
    },
    {
      "cell_type": "markdown",
      "source": [
        "SFS dont need coef_ or feature_importances_ attributes unlike in RFE\n",
        "\n",
        "SFS may be slower than RFE and SelectFromModel"
      ],
      "metadata": {
        "id": "XS45mbrtvMPh"
      }
    },
    {
      "cell_type": "markdown",
      "source": [
        "## Heterogenous Feature Transformation"
      ],
      "metadata": {
        "id": "OWcSoZ2wwMGK"
      }
    },
    {
      "cell_type": "markdown",
      "source": [
        "### Composite Transformer"
      ],
      "metadata": {
        "id": "HZ0uxvduwU6x"
      }
    },
    {
      "cell_type": "markdown",
      "source": [
        "`sklearn.compose` can be used to apply transformations on subset of features\n",
        "\n"
      ],
      "metadata": {
        "id": "EjTNR-bPwbWG"
      }
    },
    {
      "cell_type": "markdown",
      "source": [
        "`ColumnTransformer` | `TransformedTargetRegressor`\n",
        "----|----\n",
        "applies `set of transformers` to `columns` of array or pandasdf and then `concatenates transformed output` from different transformers into `single matrix` | Tranforms the `target variable y` before fitting regression model\n",
        "Useful for transforming `Heterogenous Data`| The predicted values are mapped back to original space via inverse transform\n",
        "Combines different Feature selection mechanisms and transfomation into single transformer object | Takes `transformer` and `regressor` as input"
      ],
      "metadata": {
        "id": "VKtMH7O4worL"
      }
    },
    {
      "cell_type": "code",
      "source": [
        "# Each tuple has format (estimator_name, estimator, columnIndices)\n",
        "\n",
        "from sklearn.compose import ColumnTransformer\n",
        "colum_tr = ColumnTransformer([\n",
        "    ('ageScaler', CountVectorizer(),[0]),\n",
        "    ('genderencoder',OneHotEncoder(dtype='int'),[1])],\n",
        "    remainder = 'drop', verbose_feature_names_out = False)"
      ],
      "metadata": {
        "colab": {
          "base_uri": "https://localhost:8080/",
          "height": 235
        },
        "id": "Ga2PqM8UtGzK",
        "outputId": "d6f15e24-9e31-49e6-a1f6-d5c6470f4453"
      },
      "execution_count": 16,
      "outputs": [
        {
          "output_type": "error",
          "ename": "NameError",
          "evalue": "ignored",
          "traceback": [
            "\u001b[0;31m---------------------------------------------------------------------------\u001b[0m",
            "\u001b[0;31mNameError\u001b[0m                                 Traceback (most recent call last)",
            "\u001b[0;32m<ipython-input-16-29b893556a54>\u001b[0m in \u001b[0;36m<module>\u001b[0;34m\u001b[0m\n\u001b[1;32m      3\u001b[0m \u001b[0;32mfrom\u001b[0m \u001b[0msklearn\u001b[0m\u001b[0;34m.\u001b[0m\u001b[0mcompose\u001b[0m \u001b[0;32mimport\u001b[0m \u001b[0mColumnTransformer\u001b[0m\u001b[0;34m\u001b[0m\u001b[0;34m\u001b[0m\u001b[0m\n\u001b[1;32m      4\u001b[0m colum_tr = ColumnTransformer([\n\u001b[0;32m----> 5\u001b[0;31m     \u001b[0;34m(\u001b[0m\u001b[0;34m'ageScaler'\u001b[0m\u001b[0;34m,\u001b[0m \u001b[0mCountVectorizer\u001b[0m\u001b[0;34m(\u001b[0m\u001b[0;34m)\u001b[0m\u001b[0;34m,\u001b[0m\u001b[0;34m[\u001b[0m\u001b[0;36m0\u001b[0m\u001b[0;34m]\u001b[0m\u001b[0;34m)\u001b[0m\u001b[0;34m,\u001b[0m\u001b[0;34m\u001b[0m\u001b[0;34m\u001b[0m\u001b[0m\n\u001b[0m\u001b[1;32m      6\u001b[0m     ('genderencoder',OneHotEncoder(dtype='int'),[1])],\n\u001b[1;32m      7\u001b[0m     remainder = 'drop', verbose_feature_names_out = False)\n",
            "\u001b[0;31mNameError\u001b[0m: name 'CountVectorizer' is not defined"
          ]
        }
      ]
    },
    {
      "cell_type": "code",
      "source": [
        "# illustration:\n",
        "\n",
        "# create a feature matrix\n",
        "import numpy as np\n",
        "X = np.array([[20,'male'],\n",
        "              [11.2,'female'],\n",
        "              [15.6,'female'],\n",
        "              [13,'male'],\n",
        "              [18.6,'male'],\n",
        "              [16.4,'female']])\n",
        "print(X)\n",
        "\n",
        "# first feature represents weight and second gender in a classof 6\n"
      ],
      "metadata": {
        "id": "xSz2A2RpyT9D",
        "outputId": "f9c7a23d-8a2c-4bf9-8e07-122c14a38266",
        "colab": {
          "base_uri": "https://localhost:8080/"
        }
      },
      "execution_count": 20,
      "outputs": [
        {
          "output_type": "stream",
          "name": "stdout",
          "text": [
            "[['20' 'male']\n",
            " ['11.2' 'female']\n",
            " ['15.6' 'female']\n",
            " ['13' 'male']\n",
            " ['18.6' 'male']\n",
            " ['16.4' 'female']]\n"
          ]
        }
      ]
    },
    {
      "cell_type": "code",
      "source": [
        "# apply MaxAbsScaler on wt column and OneHotEncoder on Second Colum\n",
        "from sklearn.preprocessing import MaxAbsScaler, OneHotEncoder\n",
        "\n",
        "colum_tr = ColumnTransformer([\n",
        "    ('ageScaler',MaxAbsScaler(),[0]),\n",
        "    ('genderScaler', OneHotEncoder(dtype='int'),[1])],\n",
        "    remainder ='drop', verbose_feature_names_out = False)\n",
        "\n",
        "colum_tr.fit_transform(X)"
      ],
      "metadata": {
        "id": "a50cuwQQy8DI",
        "outputId": "89a87ddc-1bfb-46dd-b336-634be0434600",
        "colab": {
          "base_uri": "https://localhost:8080/"
        }
      },
      "execution_count": 23,
      "outputs": [
        {
          "output_type": "execute_result",
          "data": {
            "text/plain": [
              "array([[1.  , 0.  , 1.  ],\n",
              "       [0.56, 1.  , 0.  ],\n",
              "       [0.78, 1.  , 0.  ],\n",
              "       [0.65, 0.  , 1.  ],\n",
              "       [0.93, 0.  , 1.  ],\n",
              "       [0.82, 1.  , 0.  ]])"
            ]
          },
          "metadata": {},
          "execution_count": 23
        }
      ]
    },
    {
      "cell_type": "code",
      "source": [
        "# illustration\n",
        "\n",
        "import numpy as np\n",
        "from sklearn.linear_model import LinearRegression\n",
        "from sklearn.compose import TransformedTargetRegressor\n",
        "tt = TransformedTargetRegressor(regressor = LinearRegression(),\n",
        "                                func = np.log,\n",
        "                                inverse_func = np.exp)\n",
        "\n",
        "X = np.arange(4).reshape(-1,1)\n",
        "print('X: ', X)\n",
        "# return the flatten array\n",
        "y = np.exp(2*X).ravel()\n",
        "print('y ',y)\n",
        "\n",
        "print(tt.fit(X,y))"
      ],
      "metadata": {
        "id": "dxK6eG9HzooF",
        "outputId": "4cfe809c-2ec9-42f9-9e7c-1b317742b117",
        "colab": {
          "base_uri": "https://localhost:8080/"
        }
      },
      "execution_count": 29,
      "outputs": [
        {
          "output_type": "stream",
          "name": "stdout",
          "text": [
            "X:  [[0]\n",
            " [1]\n",
            " [2]\n",
            " [3]]\n",
            "y  [  1.           7.3890561   54.59815003 403.42879349]\n",
            "TransformedTargetRegressor(func=<ufunc 'log'>, inverse_func=<ufunc 'exp'>,\n",
            "                           regressor=LinearRegression())\n"
          ]
        }
      ]
    },
    {
      "cell_type": "code",
      "source": [
        "# example\n",
        "import numpy as np\n",
        "from sklearn.compose import ColumnTransformer\n",
        "from sklearn.preprocessing import MinMaxScaler, OrdinalEncoder\n",
        "\n",
        "X = np.array([[1, 'yes'], [2, 'no'], [3, 'no']])\n",
        "ct = ColumnTransformer([('scaler', MinMaxScaler(),[0]),\n",
        "                                             ('pass', 'passthrough',[0]),\n",
        "                                             ('encoder', OrdinalEncoder(),[1])])\n",
        "\n",
        "print(ct.fit_transform(X))"
      ],
      "metadata": {
        "id": "apr6nbRc1qsa",
        "outputId": "c367fc39-1e50-4cb3-f594-83c90d94bfdf",
        "colab": {
          "base_uri": "https://localhost:8080/"
        }
      },
      "execution_count": 26,
      "outputs": [
        {
          "output_type": "stream",
          "name": "stdout",
          "text": [
            "[['0.0' '1' '1.0']\n",
            " ['0.5' '2' '0.0']\n",
            " ['1.0' '3' '0.0']]\n"
          ]
        }
      ]
    },
    {
      "cell_type": "code",
      "source": [],
      "metadata": {
        "id": "os3Ys2Sa2yBJ"
      },
      "execution_count": null,
      "outputs": []
    }
  ]
}