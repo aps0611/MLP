{
  "nbformat": 4,
  "nbformat_minor": 0,
  "metadata": {
    "colab": {
      "provenance": []
    },
    "kernelspec": {
      "name": "python3",
      "display_name": "Python 3"
    },
    "language_info": {
      "name": "python"
    }
  },
  "cells": [
    {
      "cell_type": "markdown",
      "source": [
        "# Clustering"
      ],
      "metadata": {
        "id": "H4zK220I4qj9"
      }
    },
    {
      "cell_type": "markdown",
      "source": [
        "It refers to the task of partioning the dataset into groups, called clusters. This partion is done in a way that elements in the same cluster are similar and elements of the different clusters are different.\n"
      ],
      "metadata": {
        "id": "ab2ex30G4tJ7"
      }
    },
    {
      "cell_type": "markdown",
      "source": [
        "k-means clustering helps in coming up with k-clusters (groups) in an unlabelled dataset."
      ],
      "metadata": {
        "id": "WhcRWALM4x2Z"
      }
    },
    {
      "cell_type": "markdown",
      "source": [
        "The following steps are included in the algorithm-\n",
        "\n",
        "\n",
        "1.   Start with k data points (centroid)\n",
        "2.   Find the distance of all the points from these centroids.\n",
        "3. Allocate all to points to 1 group that are closer to a particular centroid forming k-clusters\n",
        "4. Recompute the centroid for each cluster.\n",
        "5. Repeat 3 and 4 till until the distance between the old clusters and new clusters is constant.\n"
      ],
      "metadata": {
        "id": "j2rSgFxf4-XR"
      }
    },
    {
      "cell_type": "markdown",
      "source": [
        "## Using k-means"
      ],
      "metadata": {
        "id": "RjwJv7z46I6P"
      }
    },
    {
      "cell_type": "code",
      "execution_count": 11,
      "metadata": {
        "id": "BDu3N18_3dQL"
      },
      "outputs": [],
      "source": [
        "import numpy as np\n",
        "import pandas as pd\n",
        "import matplotlib.pyplot as plt\n",
        "\n",
        "# kmeans\n",
        "from sklearn.cluster import KMeans\n",
        "\n",
        "# load digit dataset\n",
        "from sklearn.datasets import load_digits\n",
        "\n",
        "# selecting k through silhoutte score\n",
        "from sklearn.metrics import silhouette_score\n",
        "\n",
        "# Normalise through MinMaxScaler\n",
        "from sklearn.preprocessing import MinMaxScaler\n",
        "\n",
        "from sklearn.pipeline import Pipeline"
      ]
    },
    {
      "cell_type": "markdown",
      "source": [
        "load the digit images:\n",
        "\n",
        "1. 8x8 digit images with approximately 180 samples per class\n",
        "2. from 10 classes it has total of 1797 images\n",
        "3. each pixel has value of between 0 and 16"
      ],
      "metadata": {
        "id": "6_WfHVay7B-r"
      }
    },
    {
      "cell_type": "code",
      "source": [
        "digits = load_digits()"
      ],
      "metadata": {
        "id": "X7ZFp5eE6v3n"
      },
      "execution_count": 12,
      "outputs": []
    },
    {
      "cell_type": "code",
      "source": [
        "?KMeans"
      ],
      "metadata": {
        "id": "b41Em0Ip7VqV"
      },
      "execution_count": 13,
      "outputs": []
    },
    {
      "cell_type": "markdown",
      "source": [
        "Define the parameters of kmeans clustering in dict object"
      ],
      "metadata": {
        "id": "WrN4z_HT8bEM"
      }
    },
    {
      "cell_type": "code",
      "source": [
        "kmeans_kwargs = {\n",
        "    \"init\":\"random\",\n",
        "    \"n_init\":50,\n",
        "    \"max_iter\": 500,\n",
        "    \"random_state\": 0,\n",
        "}"
      ],
      "metadata": {
        "id": "0R0MFWa57wzk"
      },
      "execution_count": 14,
      "outputs": []
    },
    {
      "cell_type": "markdown",
      "source": [
        "Lets define pipeline"
      ],
      "metadata": {
        "id": "iZd9Kdvq9j3k"
      }
    },
    {
      "cell_type": "code",
      "source": [
        "pipe = Pipeline([('preprocess', MinMaxScaler()),\n",
        "                 (\"clustering\", KMeans(n_clusters = 10, **kmeans_kwargs))])\n",
        "pipe.fit(digits.data)"
      ],
      "metadata": {
        "colab": {
          "base_uri": "https://localhost:8080/",
          "height": 128
        },
        "id": "RmUnUADK8W0K",
        "outputId": "b51493b1-0d07-456d-bea2-37007e8a9fa2"
      },
      "execution_count": 15,
      "outputs": [
        {
          "output_type": "execute_result",
          "data": {
            "text/plain": [
              "Pipeline(steps=[('preprocess', MinMaxScaler()),\n",
              "                ('clustering',\n",
              "                 KMeans(init='random', max_iter=500, n_clusters=10, n_init=50,\n",
              "                        random_state=0))])"
            ],
            "text/html": [
              "<style>#sk-container-id-2 {color: black;background-color: white;}#sk-container-id-2 pre{padding: 0;}#sk-container-id-2 div.sk-toggleable {background-color: white;}#sk-container-id-2 label.sk-toggleable__label {cursor: pointer;display: block;width: 100%;margin-bottom: 0;padding: 0.3em;box-sizing: border-box;text-align: center;}#sk-container-id-2 label.sk-toggleable__label-arrow:before {content: \"▸\";float: left;margin-right: 0.25em;color: #696969;}#sk-container-id-2 label.sk-toggleable__label-arrow:hover:before {color: black;}#sk-container-id-2 div.sk-estimator:hover label.sk-toggleable__label-arrow:before {color: black;}#sk-container-id-2 div.sk-toggleable__content {max-height: 0;max-width: 0;overflow: hidden;text-align: left;background-color: #f0f8ff;}#sk-container-id-2 div.sk-toggleable__content pre {margin: 0.2em;color: black;border-radius: 0.25em;background-color: #f0f8ff;}#sk-container-id-2 input.sk-toggleable__control:checked~div.sk-toggleable__content {max-height: 200px;max-width: 100%;overflow: auto;}#sk-container-id-2 input.sk-toggleable__control:checked~label.sk-toggleable__label-arrow:before {content: \"▾\";}#sk-container-id-2 div.sk-estimator input.sk-toggleable__control:checked~label.sk-toggleable__label {background-color: #d4ebff;}#sk-container-id-2 div.sk-label input.sk-toggleable__control:checked~label.sk-toggleable__label {background-color: #d4ebff;}#sk-container-id-2 input.sk-hidden--visually {border: 0;clip: rect(1px 1px 1px 1px);clip: rect(1px, 1px, 1px, 1px);height: 1px;margin: -1px;overflow: hidden;padding: 0;position: absolute;width: 1px;}#sk-container-id-2 div.sk-estimator {font-family: monospace;background-color: #f0f8ff;border: 1px dotted black;border-radius: 0.25em;box-sizing: border-box;margin-bottom: 0.5em;}#sk-container-id-2 div.sk-estimator:hover {background-color: #d4ebff;}#sk-container-id-2 div.sk-parallel-item::after {content: \"\";width: 100%;border-bottom: 1px solid gray;flex-grow: 1;}#sk-container-id-2 div.sk-label:hover label.sk-toggleable__label {background-color: #d4ebff;}#sk-container-id-2 div.sk-serial::before {content: \"\";position: absolute;border-left: 1px solid gray;box-sizing: border-box;top: 0;bottom: 0;left: 50%;z-index: 0;}#sk-container-id-2 div.sk-serial {display: flex;flex-direction: column;align-items: center;background-color: white;padding-right: 0.2em;padding-left: 0.2em;position: relative;}#sk-container-id-2 div.sk-item {position: relative;z-index: 1;}#sk-container-id-2 div.sk-parallel {display: flex;align-items: stretch;justify-content: center;background-color: white;position: relative;}#sk-container-id-2 div.sk-item::before, #sk-container-id-2 div.sk-parallel-item::before {content: \"\";position: absolute;border-left: 1px solid gray;box-sizing: border-box;top: 0;bottom: 0;left: 50%;z-index: -1;}#sk-container-id-2 div.sk-parallel-item {display: flex;flex-direction: column;z-index: 1;position: relative;background-color: white;}#sk-container-id-2 div.sk-parallel-item:first-child::after {align-self: flex-end;width: 50%;}#sk-container-id-2 div.sk-parallel-item:last-child::after {align-self: flex-start;width: 50%;}#sk-container-id-2 div.sk-parallel-item:only-child::after {width: 0;}#sk-container-id-2 div.sk-dashed-wrapped {border: 1px dashed gray;margin: 0 0.4em 0.5em 0.4em;box-sizing: border-box;padding-bottom: 0.4em;background-color: white;}#sk-container-id-2 div.sk-label label {font-family: monospace;font-weight: bold;display: inline-block;line-height: 1.2em;}#sk-container-id-2 div.sk-label-container {text-align: center;}#sk-container-id-2 div.sk-container {/* jupyter's `normalize.less` sets `[hidden] { display: none; }` but bootstrap.min.css set `[hidden] { display: none !important; }` so we also need the `!important` here to be able to override the default hidden behavior on the sphinx rendered scikit-learn.org. See: https://github.com/scikit-learn/scikit-learn/issues/21755 */display: inline-block !important;position: relative;}#sk-container-id-2 div.sk-text-repr-fallback {display: none;}</style><div id=\"sk-container-id-2\" class=\"sk-top-container\"><div class=\"sk-text-repr-fallback\"><pre>Pipeline(steps=[(&#x27;preprocess&#x27;, MinMaxScaler()),\n",
              "                (&#x27;clustering&#x27;,\n",
              "                 KMeans(init=&#x27;random&#x27;, max_iter=500, n_clusters=10, n_init=50,\n",
              "                        random_state=0))])</pre><b>In a Jupyter environment, please rerun this cell to show the HTML representation or trust the notebook. <br />On GitHub, the HTML representation is unable to render, please try loading this page with nbviewer.org.</b></div><div class=\"sk-container\" hidden><div class=\"sk-item sk-dashed-wrapped\"><div class=\"sk-label-container\"><div class=\"sk-label sk-toggleable\"><input class=\"sk-toggleable__control sk-hidden--visually\" id=\"sk-estimator-id-4\" type=\"checkbox\" ><label for=\"sk-estimator-id-4\" class=\"sk-toggleable__label sk-toggleable__label-arrow\">Pipeline</label><div class=\"sk-toggleable__content\"><pre>Pipeline(steps=[(&#x27;preprocess&#x27;, MinMaxScaler()),\n",
              "                (&#x27;clustering&#x27;,\n",
              "                 KMeans(init=&#x27;random&#x27;, max_iter=500, n_clusters=10, n_init=50,\n",
              "                        random_state=0))])</pre></div></div></div><div class=\"sk-serial\"><div class=\"sk-item\"><div class=\"sk-estimator sk-toggleable\"><input class=\"sk-toggleable__control sk-hidden--visually\" id=\"sk-estimator-id-5\" type=\"checkbox\" ><label for=\"sk-estimator-id-5\" class=\"sk-toggleable__label sk-toggleable__label-arrow\">MinMaxScaler</label><div class=\"sk-toggleable__content\"><pre>MinMaxScaler()</pre></div></div></div><div class=\"sk-item\"><div class=\"sk-estimator sk-toggleable\"><input class=\"sk-toggleable__control sk-hidden--visually\" id=\"sk-estimator-id-6\" type=\"checkbox\" ><label for=\"sk-estimator-id-6\" class=\"sk-toggleable__label sk-toggleable__label-arrow\">KMeans</label><div class=\"sk-toggleable__content\"><pre>KMeans(init=&#x27;random&#x27;, max_iter=500, n_clusters=10, n_init=50, random_state=0)</pre></div></div></div></div></div></div></div>"
            ]
          },
          "metadata": {},
          "execution_count": 15
        }
      ]
    },
    {
      "cell_type": "code",
      "source": [
        "cluster_centers = pipe[-1].cluster_centers_"
      ],
      "metadata": {
        "id": "bOQhMJVm97E8"
      },
      "execution_count": null,
      "outputs": []
    },
    {
      "cell_type": "code",
      "source": [
        "# dispaly the cluster centroids\n",
        "\n",
        "fig, ax = plt.subplots(5,2, figsize = (4,4))\n",
        "for i,j in zip(ax.flat, cluster_centers.reshape(10,8,8)):\n",
        "  i.imshow(j)"
      ],
      "metadata": {
        "colab": {
          "base_uri": "https://localhost:8080/",
          "height": 267
        },
        "id": "HE4gtFHp-KOS",
        "outputId": "ece68051-6355-4f6a-f2d2-57195aa477b2"
      },
      "execution_count": 18,
      "outputs": [
        {
          "output_type": "display_data",
          "data": {
            "text/plain": [
              "<Figure size 288x288 with 10 Axes>"
            ],
            "image/png": "[encoded data removed]"
          },
          "metadata": {
            "needs_background": "light"
          }
        }
      ]
    },
    {
      "cell_type": "markdown",
      "source": [
        "For deciding the optimal number of clusters through elbow method and silhoutte, we will pretend that we do not know number of clusters in data and we will try to discover the optimal number of clusters through these two methods"
      ],
      "metadata": {
        "id": "88g-CBuyFPHS"
      }
    },
    {
      "cell_type": "markdown",
      "source": [
        "## Elbow methods"
      ],
      "metadata": {
        "id": "dTu2ffzXFikA"
      }
    },
    {
      "cell_type": "code",
      "source": [
        "# identifying the correct number of clusters\n",
        "\n",
        "sse_digit = []\n",
        "\n",
        "scaled_digits = MinMaxScaler().fit_transform(digits.data)\n",
        "for k in range(1,12):\n",
        "  kmeans = KMeans(n_clusters = k, **kmeans_kwargs)\n",
        "  kmeans.fit(scaled_digits)\n",
        "  sse_digit.append(kmeans.inertia_)"
      ],
      "metadata": {
        "id": "51--vQZL-fsb"
      },
      "execution_count": 20,
      "outputs": []
    },
    {
      "cell_type": "code",
      "source": [
        "plt.plot(range(1,12), sse_digit)\n",
        "plt.xticks(range(1,12))\n",
        "plt.xlabel(\"Number of Clusters\")\n",
        "plt.ylabel(\"SSE\")\n",
        "plt.show()"
      ],
      "metadata": {
        "colab": {
          "base_uri": "https://localhost:8080/",
          "height": 279
        },
        "id": "JFnftVl2GGLK",
        "outputId": "b8b199ce-4ce5-4e2e-f583-d0aff53d9883"
      },
      "execution_count": 21,
      "outputs": [
        {
          "output_type": "display_data",
          "data": {
            "text/plain": [
              "<Figure size 432x288 with 1 Axes>"
            ],
            "image/png": "[encoded data removed]"
          },
          "metadata": {
            "needs_background": "light"
          }
        }
      ]
    },
    {
      "cell_type": "markdown",
      "source": [
        "slight elbow at k=9 may point to some digits may have been merged"
      ],
      "metadata": {
        "id": "iXkk1ZgwGpn5"
      }
    },
    {
      "cell_type": "markdown",
      "source": [
        "## Silhoutte"
      ],
      "metadata": {
        "id": "_YfMkwWMG0DG"
      }
    },
    {
      "cell_type": "code",
      "source": [
        "sil_coef_digits = []\n",
        "for k in range(2,15):\n",
        "  kmeans = KMeans(n_clusters = k, **kmeans_kwargs)\n",
        "  kmeans.fit(scaled_digits)\n",
        "  score = silhouette_score(digits.data, kmeans.labels_)\n",
        "  sil_coef_digits.append(score)"
      ],
      "metadata": {
        "id": "Ppq6ESuhGg_l"
      },
      "execution_count": 27,
      "outputs": []
    },
    {
      "cell_type": "code",
      "source": [
        "sil_coef_digits"
      ],
      "metadata": {
        "colab": {
          "base_uri": "https://localhost:8080/"
        },
        "id": "glmoH_zMIBwj",
        "outputId": "d9bb3877-9ae0-4e0d-e0fa-18643298266a"
      },
      "execution_count": 28,
      "outputs": [
        {
          "output_type": "execute_result",
          "data": {
            "text/plain": [
              "[0.11824396471614179,\n",
              " 0.12599334242255583,\n",
              " 0.1280651660735052,\n",
              " 0.13793400098759367,\n",
              " 0.15159538962044927,\n",
              " 0.16347156020133186,\n",
              " 0.1788999322596752,\n",
              " 0.189235760161635,\n",
              " 0.18246646194839133,\n",
              " 0.1835808986058307,\n",
              " 0.18259820808368807,\n",
              " 0.1852760088639787,\n",
              " 0.1875415850308825]"
            ]
          },
          "metadata": {},
          "execution_count": 28
        }
      ]
    },
    {
      "cell_type": "code",
      "source": [
        "plt.plot(range(2,15), sil_coef_digits)\n",
        "plt.xticks(range(2,15))\n",
        "plt.xlabel('Number of clusters')\n",
        "plt.ylabel('silhouette score')\n",
        "plt.grid(True)\n",
        "plt.show()"
      ],
      "metadata": {
        "colab": {
          "base_uri": "https://localhost:8080/",
          "height": 279
        },
        "id": "L2FJbIYlHL3W",
        "outputId": "8a12a503-b619-4306-b304-bb9efccfd46c"
      },
      "execution_count": 29,
      "outputs": [
        {
          "output_type": "display_data",
          "data": {
            "text/plain": [
              "<Figure size 432x288 with 1 Axes>"
            ],
            "image/png": "[encoded data removed]"
          },
          "metadata": {
            "needs_background": "light"
          }
        }
      ]
    },
    {
      "cell_type": "code",
      "source": [
        "# get the value of x for which sillhoutte coef is highest\n",
        "np.argmax(sil_coef_digits)+2"
      ],
      "metadata": {
        "colab": {
          "base_uri": "https://localhost:8080/"
        },
        "id": "om4L2eXxH2zB",
        "outputId": "42cc9352-8dd3-4577-f5bc-5cda020cc45f"
      },
      "execution_count": 31,
      "outputs": [
        {
          "output_type": "execute_result",
          "data": {
            "text/plain": [
              "9"
            ]
          },
          "metadata": {},
          "execution_count": 31
        }
      ]
    },
    {
      "cell_type": "code",
      "source": [],
      "metadata": {
        "id": "1KVe20HwIdQk"
      },
      "execution_count": null,
      "outputs": []
    }
  ]
}