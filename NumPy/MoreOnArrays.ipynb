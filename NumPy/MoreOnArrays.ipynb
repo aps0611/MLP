{
  "nbformat": 4,
  "nbformat_minor": 0,
  "metadata": {
    "colab": {
      "provenance": [],
      "collapsed_sections": [],
      "include_colab_link": true
    },
    "kernelspec": {
      "name": "python3",
      "display_name": "Python 3"
    },
    "language_info": {
      "name": "python"
    }
  },
  "cells": [
    {
      "cell_type": "markdown",
      "metadata": {
        "id": "view-in-github",
        "colab_type": "text"
      },
      "source": [
        "<a href=\"https://colab.research.google.com/github/aps0611/Notes-Compiled/blob/main/MoreOnArrays.ipynb\" target=\"_parent\"><img src=\"https://colab.research.google.com/assets/colab-badge.svg\" alt=\"Open In Colab\"/></a>"
      ]
    },
    {
      "cell_type": "markdown",
      "source": [
        "# More on Arrays\n",
        "\n",
        "In this lecture, we will look at the following concepts:\n",
        "\n",
        "- Arrays (vectors, matrices and more)\n",
        "- Reshaping an array\n",
        "- Broadcasting rules\n",
        "- Slicing an array\n",
        "- Stacking arrays\n",
        "- Sum, mean and variance along axes"
      ],
      "metadata": {
        "id": "H729Vxqsdh5_"
      }
    },
    {
      "cell_type": "code",
      "source": [
        "import numpy as np"
      ],
      "metadata": {
        "id": "f9pXUWReT4zX"
      },
      "execution_count": 1,
      "outputs": []
    },
    {
      "cell_type": "markdown",
      "source": [
        "## Arrays\n",
        "\n",
        "It should have become amply clear by now that both vectors and matrices are `NumPy` arrays. Each array in `NumPy` has a dimension. Vectors are one-dimensional arrays while matrices are two-dimensional arrays. For example:\n",
        "\n",
        "$$\n",
        "\\mathbf{x} = \\begin{bmatrix}\n",
        "1\\\\\n",
        "2\\\\\n",
        "3\n",
        "\\end{bmatrix}, \n",
        "\\mathbf{M} = \\begin{bmatrix}\n",
        "1 & 2\\\\\n",
        "3 & 4\\\\\n",
        "5 & 6\n",
        "\\end{bmatrix}\n",
        "$$\n",
        "\n",
        "`NumPy` arrays have an attribute called `ndim` that gives the number of dimensions of the array:"
      ],
      "metadata": {
        "id": "DOunwTfMTPOw"
      }
    },
    {
      "cell_type": "code",
      "source": [
        "x = np.array([1, 2, 3])\n",
        "M = np.array([[1, 2], [3, 4], [5, 6]])\n",
        "\n",
        "print('x has shape', x.shape)\n",
        "print('M has shape', M.shape)\n",
        "\n",
        "print('x is an array of dimension', x.ndim)\n",
        "print('M is an array of dimension', M.ndim)"
      ],
      "metadata": {
        "colab": {
          "base_uri": "https://localhost:8080/"
        },
        "id": "tvI35k_XTxam",
        "outputId": "f89df157-b03d-49f4-855e-5346daec6277"
      },
      "execution_count": 2,
      "outputs": [
        {
          "output_type": "stream",
          "name": "stdout",
          "text": [
            "x has shape (3,)\n",
            "M has shape (3, 2)\n",
            "x is an array of dimension 1\n",
            "M is an array of dimension 2\n"
          ]
        }
      ]
    },
    {
      "cell_type": "markdown",
      "source": [
        "Though we will mostly restrict ourselves to arrays of dimension 2, nothing stops us from working with higher dimensional arrays. For example, consider a 3-dimensional array. This could be visualized as a list of matrices:\n",
        "\n",
        "$$\n",
        "\\begin{bmatrix}\n",
        "\\begin{bmatrix}\n",
        "1 & 2 & 3 & 4\\\\\n",
        "5 & 6 & 7 & 8\\\\\n",
        "9 & 10 & 11 & 12\n",
        "\\end{bmatrix}\\\\ \n",
        "\\begin{bmatrix}\n",
        "13 & 14 & 15 & 16\\\\\n",
        "17 & 18 & 19 & 20\\\\\n",
        "21 & 22 & 23 & 24\n",
        "\\end{bmatrix}\\\\\n",
        "\\end{bmatrix}\n",
        "$$\n",
        "\n",
        "This would be a $2 \\times 3 \\times 4$ array. In `NumPy` this becomes: "
      ],
      "metadata": {
        "id": "QBdh4YAsZcZf"
      }
    },
    {
      "cell_type": "code",
      "source": [
        "M = np.array([[[1, 2, 3, 4],\n",
        "               [5, 6, 7, 8],\n",
        "               [9, 10, 11, 12]], \n",
        "               [[13, 14, 15, 16],\n",
        "               [17, 18, 19, 20],\n",
        "               [21, 22, 23, 24]]\n",
        "              ])\n",
        "print(M.shape)\n",
        "print(M.ndim)\n",
        "print(M)"
      ],
      "metadata": {
        "colab": {
          "base_uri": "https://localhost:8080/"
        },
        "id": "2XZQbE0qaXc-",
        "outputId": "47688ca9-152b-4a3c-8242-9a53ff1da2ce"
      },
      "execution_count": 3,
      "outputs": [
        {
          "output_type": "stream",
          "name": "stdout",
          "text": [
            "(2, 3, 4)\n",
            "3\n",
            "[[[ 1  2  3  4]\n",
            "  [ 5  6  7  8]\n",
            "  [ 9 10 11 12]]\n",
            "\n",
            " [[13 14 15 16]\n",
            "  [17 18 19 20]\n",
            "  [21 22 23 24]]]\n"
          ]
        }
      ]
    },
    {
      "cell_type": "markdown",
      "source": [
        "You can safely skip the 3D part if you find it difficult the first time."
      ],
      "metadata": {
        "id": "ehNemSMFlsaw"
      }
    },
    {
      "cell_type": "markdown",
      "source": [
        "## Reshaping\n",
        "\n",
        "Arrays can be reshaped. We will start with an example. Let us start with a matrix $\\mathbf{M}$:\n",
        "\n",
        "$$\n",
        "\\mathbf{M} = \\begin{bmatrix}\n",
        "1 & 2 & 3\\\\\n",
        "4 & 5 & 6\n",
        "\\end{bmatrix}\n",
        "$$\n",
        "\n",
        "We can now reshape it into a vector:\n",
        "\n",
        "$$\n",
        "\\mathbf{x} = \\begin{bmatrix}\n",
        "1 & 2 & 3 & 4 & 5 & 6\n",
        "\\end{bmatrix}\n",
        "$$\n",
        "\n"
      ],
      "metadata": {
        "id": "na6x_cSPUPXb"
      }
    },
    {
      "cell_type": "code",
      "source": [
        "M = np.array([[1, 2, 3], [4, 5, 6]])\n",
        "x = M.reshape(6)\n",
        "x"
      ],
      "metadata": {
        "colab": {
          "base_uri": "https://localhost:8080/"
        },
        "id": "JbM7OAgfUtSw",
        "outputId": "7e676542-5b91-44b2-b06d-e988337cdd89"
      },
      "execution_count": 4,
      "outputs": [
        {
          "output_type": "execute_result",
          "data": {
            "text/plain": [
              "array([1, 2, 3, 4, 5, 6])"
            ]
          },
          "metadata": {},
          "execution_count": 4
        }
      ]
    },
    {
      "cell_type": "markdown",
      "source": [
        "Note that the contents of the array are the same, but they have been rearranged. We can also go the other way, from vector to matrix:\n",
        "\n",
        "$$\n",
        "\\mathbf{x} = \\begin{bmatrix}\n",
        "1 & 2 & 3 & 4 & 5 & 6\n",
        "\\end{bmatrix}\n",
        "$$\n",
        "\n",
        "We can reshape it into the following matrix:\n",
        "\n",
        "$$\n",
        "\\mathbf{M} = \\begin{bmatrix}\n",
        "1 & 2\\\\\n",
        "3 & 4\\\\\n",
        "5 & 6\n",
        "\\end{bmatrix}\n",
        "$$"
      ],
      "metadata": {
        "id": "ziQMNQlZU-MY"
      }
    },
    {
      "cell_type": "code",
      "source": [
        "x = np.array([1, 2, 3, 4, 5, 6])\n",
        "M = x.reshape((3, 2))\n",
        "M"
      ],
      "metadata": {
        "colab": {
          "base_uri": "https://localhost:8080/"
        },
        "id": "ydvP-pziXVVL",
        "outputId": "e569b6d8-965d-4f19-9a65-3efcf9eb433a"
      },
      "execution_count": 5,
      "outputs": [
        {
          "output_type": "execute_result",
          "data": {
            "text/plain": [
              "array([[1, 2],\n",
              "       [3, 4],\n",
              "       [5, 6]])"
            ]
          },
          "metadata": {},
          "execution_count": 5
        }
      ]
    },
    {
      "cell_type": "markdown",
      "source": [
        "We can reshape a matrix into another matrix as well. Sometimes, we may not want to specify the dimensions completely. In such cases, we can let `NumPy` figure it out. For example\n",
        "\n",
        "$$\n",
        "\\mathbf{M} = \\begin{bmatrix}\n",
        "1 & 2 & 3\\\\\n",
        "4 & 5 & 6\n",
        "\\end{bmatrix}\n",
        "$$\n",
        "\n",
        "Let us say we want to reshape it in such a way that there are three rows:\n",
        "\n",
        "$$\n",
        "\\mathbf{P} = \\begin{bmatrix}\n",
        "1 & 2\\\\\n",
        "3 & 4\\\\\n",
        "5 & 6\n",
        "\\end{bmatrix}\n",
        "$$\n",
        "\n"
      ],
      "metadata": {
        "id": "FHk15C4cXz9u"
      }
    },
    {
      "cell_type": "code",
      "source": [
        "M = np.array([[1, 2, 3], [4, 5, 6]])\n",
        "P = M.reshape((3, -1))\n",
        "P"
      ],
      "metadata": {
        "colab": {
          "base_uri": "https://localhost:8080/"
        },
        "id": "ax2gS0huYfKH",
        "outputId": "3b93f52f-f6fc-4a66-d510-35c7bb263122"
      },
      "execution_count": 6,
      "outputs": [
        {
          "output_type": "execute_result",
          "data": {
            "text/plain": [
              "array([[1, 2],\n",
              "       [3, 4],\n",
              "       [5, 6]])"
            ]
          },
          "metadata": {},
          "execution_count": 6
        }
      ]
    },
    {
      "cell_type": "markdown",
      "source": [
        "$-1$ refers to the unknown dimension, which we let `NumPy` compute."
      ],
      "metadata": {
        "id": "L3Vdg22NZE1M"
      }
    },
    {
      "cell_type": "markdown",
      "source": [
        "## Matrix-vector addition (broadcasting)\n",
        "\n",
        "In many ML models, we would have to add a vector to each row or column of a matrix. For example, consider the following case for row-wise addition:\n",
        "\n",
        "\n",
        "### Row-wise addition\n",
        "\n",
        "$$\n",
        "\\mathbf{M} = \\begin{bmatrix}\n",
        "1 & 2 & 3 & 4\\\\\n",
        "5 & 6 & 7 & 8\n",
        "\\end{bmatrix}, \\mathbf{b} = \\begin{bmatrix}\n",
        "1 & 1 & 1 & 1\n",
        "\\end{bmatrix}\n",
        "$$\n",
        "\n",
        "This is slight abuse of notation as we can't add a matrix and a vector together. However, the context often makes this clear:\n",
        "\n",
        "$$\n",
        "\\mathbf{M} + \\mathbf{b} = \\begin{bmatrix}\n",
        "2 & 3 & 4 & 5\\\\\n",
        "6 & 7 & 8 & 9\n",
        "\\end{bmatrix}\n",
        "$$\n",
        "\n",
        "In `NumPy` this becomes:"
      ],
      "metadata": {
        "id": "zy6NYtY8mPDn"
      }
    },
    {
      "cell_type": "code",
      "source": [
        "M = np.array([[1, 2, 3, 4], [5, 6, 7, 8]])\n",
        "b = np.array([1, 1, 1, 1])\n",
        "print('Shape of M:', M.shape)\n",
        "print('Shape of b:', b.shape)\n",
        "\n",
        "M + b"
      ],
      "metadata": {
        "colab": {
          "base_uri": "https://localhost:8080/"
        },
        "id": "60bRMgs0na0o",
        "outputId": "f346ab85-4c85-4fdc-d009-0053b6b7db3d"
      },
      "execution_count": 7,
      "outputs": [
        {
          "output_type": "stream",
          "name": "stdout",
          "text": [
            "Shape of M: (2, 4)\n",
            "Shape of b: (4,)\n"
          ]
        },
        {
          "output_type": "execute_result",
          "data": {
            "text/plain": [
              "array([[2, 3, 4, 5],\n",
              "       [6, 7, 8, 9]])"
            ]
          },
          "metadata": {},
          "execution_count": 7
        }
      ]
    },
    {
      "cell_type": "markdown",
      "source": [
        "Notice how simple this is. Let us now do a slight variation. Let us say we wish to add a vector to each column of $\\mathbf{M}$:\n",
        "\n",
        "## Column-wise addition\n",
        "\n",
        "$$\n",
        "\\mathbf{M} = \\begin{bmatrix}\n",
        "1 & 2 & 3 & 4\\\\\n",
        "5 & 6 & 7 & 8\n",
        "\\end{bmatrix}, \\mathbf{b} = \\begin{bmatrix}\n",
        "1\\\\\n",
        "2\n",
        "\\end{bmatrix}\n",
        "$$\n",
        "\n",
        "In the case, we have:\n",
        "\n",
        "$$\n",
        "\\mathbf{M} + \\mathbf{b} = \\begin{bmatrix}\n",
        "2 & 3 & 4 & 5\\\\\n",
        "7 & 8 & 9 & 10\n",
        "\\end{bmatrix}\n",
        "$$\n",
        "\n",
        "Let us see if the same syntax works:"
      ],
      "metadata": {
        "id": "eqhrvxBnnqq4"
      }
    },
    {
      "cell_type": "code",
      "source": [
        "M = np.array([[1, 2, 3, 4], [5, 6, 7, 8]])\n",
        "b = np.array([1, 2])\n",
        "print('Shape of M:', M.shape)\n",
        "print('Shape of b:', b.shape)\n",
        "\n",
        "### Caution! ###\n",
        "# You can uncomment the next line and see what happens\n",
        "# M + b\n",
        "### Caution! ###"
      ],
      "metadata": {
        "colab": {
          "base_uri": "https://localhost:8080/"
        },
        "id": "5Nz887yvoUyr",
        "outputId": "05512e9b-8868-475b-b43a-80713ceb377a"
      },
      "execution_count": 10,
      "outputs": [
        {
          "output_type": "stream",
          "name": "stdout",
          "text": [
            "Shape of M: (2, 4)\n",
            "Shape of b: (2,)\n"
          ]
        }
      ]
    },
    {
      "cell_type": "markdown",
      "source": [
        "If you uncomment it and run it, you get a ValueError. Notice that the same syntax doesn't work. The error is suggestive:\n",
        "\n",
        "> operands could not be broadcast together with shapes `(2, 4)` and `(2, )`\n",
        "\n",
        "We will first discuss a way to fix this and then move onto why this behaviour is observed.\n"
      ],
      "metadata": {
        "id": "YTLU6-RYond5"
      }
    },
    {
      "cell_type": "code",
      "source": [
        "M = np.array([[1, 2, 3, 4], [5, 6, 7, 8]])\n",
        "b = np.array([1, 2])\n",
        "print('Shape of M:', M.shape)\n",
        "print('Shape of b before adding dimension:', b.shape)\n",
        "b = np.expand_dims(b, 1)\n",
        "print('Shape of b after adding dimension:', b.shape)\n",
        "\n",
        "M + b"
      ],
      "metadata": {
        "colab": {
          "base_uri": "https://localhost:8080/"
        },
        "id": "ESIpZEm3o6LS",
        "outputId": "988eaab2-2ceb-4fa6-9fab-f2e07d48c61a"
      },
      "execution_count": 11,
      "outputs": [
        {
          "output_type": "stream",
          "name": "stdout",
          "text": [
            "Shape of M: (2, 4)\n",
            "Shape of b before adding dimension: (2,)\n",
            "Shape of b after adding dimension: (2, 1)\n"
          ]
        },
        {
          "output_type": "execute_result",
          "data": {
            "text/plain": [
              "array([[ 2,  3,  4,  5],\n",
              "       [ 7,  8,  9, 10]])"
            ]
          },
          "metadata": {},
          "execution_count": 11
        }
      ]
    },
    {
      "cell_type": "markdown",
      "source": [
        "`np.expand_dims` expands the dimension of a `NumPy` array. The first argument is the array and the second argument is the axis along which the array has to be expanded. Here, we want to treat `b` as a column vector. This is nothing but a `(2, 1)` matrix. So, the second argument is 1 (zero-indexing).\n",
        "\n",
        "But why is this necessary? For adding a row vector to a matrix, we just had to use `M + b`. For adding a column vector to a matrix, we had to add an extra dimension to `b` and then add it to `M`. The answer to this lies with something called broadcasting.\n"
      ],
      "metadata": {
        "id": "CVhPPrzZpzIp"
      }
    },
    {
      "cell_type": "markdown",
      "source": [
        "### Broadcasting\n",
        "\n",
        "When two arrays of different dimensions are combined together using an arithmetic operation such as `+`, `NumPy` sees if it can **broadcast** them. This is best understood with images. Here is an example from the `NumPy` docs on row-wise addition:\n",
        "\n",
        "![](https://numpy.org/doc/stable/_images/broadcasting_2.png)\n",
        "\n",
        "**Source**: https://numpy.org/doc/stable/user/basics.broadcasting.html\n",
        "\n",
        "For column-wise addition, simple addition doesn't work:\n",
        "\n",
        "![](https://numpy.org/doc/stable/_images/broadcasting_3.png)\n",
        "\n",
        "**Source**: https://numpy.org/doc/stable/user/basics.broadcasting.html\n",
        "\n",
        "In this course, we will mainly stick to matrix-vector addition or multiplication. This is the recipe:\n",
        "\n",
        "- Row-wise\n",
        "  - `M + b`\n",
        "- Column-wise: \n",
        "  - Make `b` a column vector or a `(m, 1)` matrix using `np.expand_dims`\n",
        "  - `M + b`"
      ],
      "metadata": {
        "id": "guAFy8ncyB9D"
      }
    },
    {
      "cell_type": "markdown",
      "source": [
        "## Indexing and Slicing an array\n",
        "\n",
        "Just like lists in Python, `NumPy` arrays can be indexed and sliced. Slicing is useful if we want to work with a portion of an array. For example, consider the matrix $\\mathbf{M}$:\n",
        "\n",
        "$$\n",
        "\\mathbf{M} = \\begin{bmatrix}\n",
        "1 & 2\\\\\n",
        "3 & 4\\\\\n",
        "5 & 6\\\\\n",
        "7 & 8\\\\\n",
        "9 & 10\n",
        "\\end{bmatrix}\n",
        "$$\n",
        "\n",
        "The third row of this matrix is `M[2]`. This is just basic indexing."
      ],
      "metadata": {
        "id": "z_Gbs92eyXzM"
      }
    },
    {
      "cell_type": "code",
      "source": [
        "M = np.array([[1, 2], [3, 4], [5, 6], [7, 8], [9, 10]])\n",
        "M[2]"
      ],
      "metadata": {
        "colab": {
          "base_uri": "https://localhost:8080/"
        },
        "id": "6JNjoHuAyvyH",
        "outputId": "1d78af3f-22b9-446b-d04e-a1184b765aa3"
      },
      "execution_count": 12,
      "outputs": [
        {
          "output_type": "execute_result",
          "data": {
            "text/plain": [
              "array([5, 6])"
            ]
          },
          "metadata": {},
          "execution_count": 12
        }
      ]
    },
    {
      "cell_type": "markdown",
      "source": [
        "This behaviour is similar to what happens with Python lists. Let us say that we wish to extract the second column of this matrix. How would we do this?"
      ],
      "metadata": {
        "id": "SDZ2YWhKy0sh"
      }
    },
    {
      "cell_type": "code",
      "source": [
        "M = np.array([[1, 2], [3, 4], [5, 6], [7, 8], [9, 10]])\n",
        "M[:, 1]"
      ],
      "metadata": {
        "colab": {
          "base_uri": "https://localhost:8080/"
        },
        "id": "oPlbEYqwzEWO",
        "outputId": "2ad74360-21dc-456f-8fdf-a7073c923778"
      },
      "execution_count": 13,
      "outputs": [
        {
          "output_type": "execute_result",
          "data": {
            "text/plain": [
              "array([ 2,  4,  6,  8, 10])"
            ]
          },
          "metadata": {},
          "execution_count": 13
        }
      ]
    },
    {
      "cell_type": "markdown",
      "source": [
        "An $n$-dimensional array has $n$ axes. In the case of a matrix, a $2$D array, the first axis (index 0) refers to the rows and the second axis (index 1) refers to the columns.\n",
        "\n",
        "In the example given above, `M[:, 1]`, the second axis is fixed as 1 while the first axis is fluid. In more concrete terms, we have selected the second column. Had we wanted a particular element, say the first element, from the second column, we would have used the notation `M[0, 1]`. But, since we want all the elements from the second column, we use the `:` operator without specifiying the start and end indices. Recall that this behaviour is similar to Python lists. If `L` is a list, then `L[:]` represents the completel list.\n",
        "\n",
        "Now, consider the same matrix $\\mathbf{M}$. We want to extract the third and fourth rows of this matrix. How do we do that?"
      ],
      "metadata": {
        "id": "GLPmdjIazkS9"
      }
    },
    {
      "cell_type": "code",
      "source": [
        "M = np.array([[1, 2], [3, 4], [5, 6], [7, 8], [9, 10]])\n",
        "M[2: 4]"
      ],
      "metadata": {
        "colab": {
          "base_uri": "https://localhost:8080/"
        },
        "id": "-_1PqxnR1hSJ",
        "outputId": "ae1af12d-e50e-4f62-b9de-521857800e88"
      },
      "execution_count": null,
      "outputs": [
        {
          "output_type": "execute_result",
          "data": {
            "text/plain": [
              "array([[5, 6],\n",
              "       [7, 8]])"
            ]
          },
          "metadata": {},
          "execution_count": 12
        }
      ]
    },
    {
      "cell_type": "markdown",
      "source": [
        "This is again similar to the Python slicing notation. Now, if we wanted the second and third elements in the first column of the matrix, this is what we would do:"
      ],
      "metadata": {
        "id": "V7cFfzNA1xTR"
      }
    },
    {
      "cell_type": "code",
      "source": [
        "M = np.array([[1, 2], [3, 4], [5, 6], [7, 8], [9, 10]])\n",
        "M[1: 3, 0]"
      ],
      "metadata": {
        "colab": {
          "base_uri": "https://localhost:8080/"
        },
        "id": "pym9poVd16dr",
        "outputId": "21bbf5a8-822a-4634-812b-20b91cca026a"
      },
      "execution_count": null,
      "outputs": [
        {
          "output_type": "execute_result",
          "data": {
            "text/plain": [
              "array([3, 5])"
            ]
          },
          "metadata": {},
          "execution_count": 19
        }
      ]
    },
    {
      "cell_type": "markdown",
      "source": [
        "## Stacking arrays\n",
        "\n",
        "Sometimes, we would want to stack arrays. Consider the two matrices:\n",
        "\n",
        "$$\n",
        "\\mathbf{A} =\n",
        "\\begin{bmatrix}\n",
        "1 & 2\\\\\n",
        "3 & 4\n",
        "\\end{bmatrix},\n",
        "\\mathbf{B} =\n",
        "\\begin{bmatrix}\n",
        "5 & 6\\\\\n",
        "7 & 8\n",
        "\\end{bmatrix}\n",
        "$$\n",
        "\n",
        "There are two ways to stack these two matrices:\n",
        "\n",
        "### Row-wise\n",
        "\n",
        "We could stack the two matrices along the rows, $\\mathbf{A}$ on top of $\\mathbf{B}$:\n",
        "\n",
        "$$\n",
        "\\mathbf{C} =\n",
        "\\begin{bmatrix}\n",
        "1 & 2\\\\\n",
        "3 & 4\\\\\n",
        "5 & 6\\\\\n",
        "7 & 8\n",
        "\\end{bmatrix}\n",
        "$$\n",
        "\n",
        "This would be done as follows:"
      ],
      "metadata": {
        "id": "_4V0KLcs31ai"
      }
    },
    {
      "cell_type": "code",
      "source": [
        "A = np.array([[1, 2], [3, 4]])\n",
        "B = np.array([[5, 6], [7, 8]])\n",
        "\n",
        "C = np.concatenate((A, B), axis = 0)\n",
        "print(C.shape)\n",
        "print(C)"
      ],
      "metadata": {
        "colab": {
          "base_uri": "https://localhost:8080/"
        },
        "id": "jfHRPcwH5TrC",
        "outputId": "1f806e69-f82d-47ef-abeb-a51ffe87b979"
      },
      "execution_count": 14,
      "outputs": [
        {
          "output_type": "stream",
          "name": "stdout",
          "text": [
            "(4, 2)\n",
            "[[1 2]\n",
            " [3 4]\n",
            " [5 6]\n",
            " [7 8]]\n"
          ]
        }
      ]
    },
    {
      "cell_type": "markdown",
      "source": [
        "### Column-wise\n",
        "\n",
        "We could stack the two matrices along the columns, $\\mathbf{A}$ to the left of $\\mathbf{B}$:\n",
        "\n",
        "$$\n",
        "\\mathbf{C} =\n",
        "\\begin{bmatrix}\n",
        "1 & 2 & 5 & 6\\\\\n",
        "3 & 4 & 7 & 8\\\\\n",
        "\\end{bmatrix}\n",
        "$$\n",
        "\n",
        "This would be done as follows:"
      ],
      "metadata": {
        "id": "Y3kW_un8NaQL"
      }
    },
    {
      "cell_type": "code",
      "source": [
        "A = np.array([[1, 2], [3, 4]])\n",
        "B = np.array([[5, 6], [7, 8]])\n",
        "\n",
        "C = np.concatenate((A, B), axis = 1)\n",
        "print(C.shape)\n",
        "print(C)"
      ],
      "metadata": {
        "colab": {
          "base_uri": "https://localhost:8080/"
        },
        "id": "MimZDA5CNk5C",
        "outputId": "0349a649-433e-4701-f9ce-b31a92a8dbf6"
      },
      "execution_count": 15,
      "outputs": [
        {
          "output_type": "stream",
          "name": "stdout",
          "text": [
            "(2, 4)\n",
            "[[1 2 5 6]\n",
            " [3 4 7 8]]\n"
          ]
        }
      ]
    },
    {
      "cell_type": "markdown",
      "source": [
        "## Sum, Mean and Variance\n",
        "\n",
        "Sometimes we may wish to compute the sum of a particular slice of an array. For example, consider the matrix:\n",
        "\n",
        "$$\n",
        "\\mathbf{A} = \\begin{bmatrix}\n",
        "1 & 2 & 3 & 4\\\\\n",
        "5 & 6 & 7 & 8\n",
        "\\end{bmatrix}\n",
        "$$\n",
        "\n",
        "The sum of the rows of the matrix is a vector:\n",
        "\n",
        "$$\n",
        "\\text{rsum}(\\mathbf{A}) = \\begin{bmatrix}\n",
        "10\\\\\n",
        "26\n",
        "\\end{bmatrix}\n",
        "$$\n",
        "\n",
        "In `NumPy` this can be done as follows:"
      ],
      "metadata": {
        "id": "frvhBhaWN5HQ"
      }
    },
    {
      "cell_type": "code",
      "source": [
        "A = np.array([[1, 2, 3, 4], [5, 6, 7, 8]])\n",
        "rsum = np.sum(A, axis = 1)\n",
        "rsum"
      ],
      "metadata": {
        "colab": {
          "base_uri": "https://localhost:8080/"
        },
        "id": "O1YbVPhWJ0h-",
        "outputId": "166b542f-857d-47ca-acad-6b76dcdafe94"
      },
      "execution_count": 16,
      "outputs": [
        {
          "output_type": "execute_result",
          "data": {
            "text/plain": [
              "array([10, 26])"
            ]
          },
          "metadata": {},
          "execution_count": 16
        }
      ]
    },
    {
      "cell_type": "markdown",
      "source": [
        "We have added the elements of the array along the axis $1$. This has the same effect as summing the rows of the array. Now, we shall move to the column sum:\n",
        "\n",
        "$$\n",
        "\\mathbf{A} = \\begin{bmatrix}\n",
        "1 & 2 & 3 & 4\\\\\n",
        "5 & 6 & 7 & 8\n",
        "\\end{bmatrix}\n",
        "$$\n",
        "\n",
        "The sum of the columns of the matrix is a vector:\n",
        "\n",
        "$$\n",
        "\\text{csum}(\\mathbf{A}) = \\begin{bmatrix}\n",
        "6\\\\\n",
        "8\\\\\n",
        "10\\\\\n",
        "12\n",
        "\\end{bmatrix}\n",
        "$$"
      ],
      "metadata": {
        "id": "oj5mbwZfLJwL"
      }
    },
    {
      "cell_type": "code",
      "source": [
        "A = np.array([[1, 2, 3, 4], [5, 6, 7, 8]])\n",
        "csum = np.sum(A, axis = 0)\n",
        "csum"
      ],
      "metadata": {
        "colab": {
          "base_uri": "https://localhost:8080/"
        },
        "id": "EnRfM2y5LfwQ",
        "outputId": "17532b88-741a-433b-a7e6-245a8e527c3f"
      },
      "execution_count": null,
      "outputs": [
        {
          "output_type": "execute_result",
          "data": {
            "text/plain": [
              "array([ 6,  8, 10, 12])"
            ]
          },
          "metadata": {},
          "execution_count": 17
        }
      ]
    },
    {
      "cell_type": "markdown",
      "source": [
        "It is important to note that `sum` is an attribute of `NumPy` arrays. So we can also express this as:"
      ],
      "metadata": {
        "id": "f59QrcDMLnnZ"
      }
    },
    {
      "cell_type": "code",
      "source": [
        "A = np.array([[1, 2, 3, 4], [5, 6, 7, 8]])\n",
        "rsum = A.sum(axis = 1)\n",
        "csum = A.sum(axis = 0)\n",
        "\n",
        "print('Sum of the rows:', rsum)\n",
        "print('Sum of the columns:', csum)"
      ],
      "metadata": {
        "colab": {
          "base_uri": "https://localhost:8080/"
        },
        "id": "WKyyiWTcLw1Z",
        "outputId": "2d639809-b26c-429b-ab84-49ce2f5cd4f2"
      },
      "execution_count": null,
      "outputs": [
        {
          "output_type": "stream",
          "name": "stdout",
          "text": [
            "Sum of the rows: [10 26]\n",
            "Sum of the columns: [ 6  8 10 12]\n"
          ]
        }
      ]
    },
    {
      "cell_type": "markdown",
      "source": [
        "Just like `sum`, we have `mean` to find out the mean of parts of an array."
      ],
      "metadata": {
        "id": "llRu5Fn-NdSI"
      }
    },
    {
      "cell_type": "code",
      "source": [
        "rmean = A.mean(axis = 1)\n",
        "cmean = A.mean(axis = 0)\n",
        "print('mean of rows: ',rmean)\n",
        "print('mean of columns: ',cmean)"
      ],
      "metadata": {
        "colab": {
          "base_uri": "https://localhost:8080/"
        },
        "id": "XZR09fBJSYbe",
        "outputId": "2b99d5d7-4cb4-4ec7-c293-b16f78eb95c4"
      },
      "execution_count": 17,
      "outputs": [
        {
          "output_type": "stream",
          "name": "stdout",
          "text": [
            "mean of rows:  [2.5 6.5]\n",
            "mean of columns:  [3. 4. 5. 6.]\n"
          ]
        }
      ]
    },
    {
      "cell_type": "code",
      "source": [],
      "metadata": {
        "id": "RPs9aC-PSkY7"
      },
      "execution_count": null,
      "outputs": []
    }
  ]
}
