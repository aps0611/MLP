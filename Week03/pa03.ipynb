{
  "nbformat": 4,
  "nbformat_minor": 0,
  "metadata": {
    "colab": {
      "provenance": []
    },
    "kernelspec": {
      "name": "python3",
      "display_name": "Python 3"
    },
    "language_info": {
      "name": "python"
    }
  },
  "cells": [
    {
      "cell_type": "code",
      "execution_count": 1,
      "metadata": {
        "id": "-IPG3NtRwWtF"
      },
      "outputs": [],
      "source": [
        "# import \n",
        "\n",
        "import numpy as np\n",
        "import pandas as pd\n",
        "import matplotlib.pyplot as plt\n",
        "import seaborn as sns\n",
        "\n",
        "from sklearn.datasets import fetch_california_housing\n",
        "from sklearn.linear_model import LinearRegression\n",
        "\n",
        "from sklearn.model_selection import cross_validate\n",
        "from sklearn.model_selection import cross_val_score\n",
        "from sklearn.model_selection import learning_curve\n",
        "from sklearn.model_selection import ShuffleSplit\n",
        "\n",
        "from sklearn.metrics import mean_squared_error\n",
        "\n",
        "from sklearn.pipeline import Pipeline\n",
        "from sklearn.preprocessing import StandardScaler"
      ]
    },
    {
      "cell_type": "code",
      "source": [
        "# set random seed for reproduceable code:\n",
        "np.random.seed(42)"
      ],
      "metadata": {
        "id": "UjlFNhZgwZJI"
      },
      "execution_count": 2,
      "outputs": []
    },
    {
      "cell_type": "code",
      "source": [
        "# load the california housing dataset\n",
        "# as_frame returns df in pandas\n",
        "features, labels = fetch_california_housing(as_frame = True, return_X_y= True)\n",
        "\n",
        "## What is the shape of feature matrix for the dataset?\n",
        "\n",
        "print('shape of feature matrix is',features.shape)\n",
        "print('shape of label matrix is',labels.shape)"
      ],
      "metadata": {
        "colab": {
          "base_uri": "https://localhost:8080/"
        },
        "id": "zSEY1GHhwdws",
        "outputId": "2dbc031b-b06e-4768-f83d-21cfeef0df87"
      },
      "execution_count": 3,
      "outputs": [
        {
          "output_type": "stream",
          "name": "stdout",
          "text": [
            "shape of feature matrix is (20640, 8)\n",
            "shape of label matrix is (20640,)\n"
          ]
        }
      ]
    },
    {
      "cell_type": "code",
      "source": [
        "## How many missing values are present in the dataset?\n",
        "\n",
        "features.isna().sum()"
      ],
      "metadata": {
        "colab": {
          "base_uri": "https://localhost:8080/"
        },
        "id": "JtjN1jybwj4I",
        "outputId": "d7aca7ff-aa3d-4017-b9fe-5621dd9ee06d"
      },
      "execution_count": 6,
      "outputs": [
        {
          "output_type": "execute_result",
          "data": {
            "text/plain": [
              "MedInc        0\n",
              "HouseAge      0\n",
              "AveRooms      0\n",
              "AveBedrms     0\n",
              "Population    0\n",
              "AveOccup      0\n",
              "Latitude      0\n",
              "Longitude     0\n",
              "dtype: int64"
            ]
          },
          "metadata": {},
          "execution_count": 6
        }
      ]
    },
    {
      "cell_type": "code",
      "source": [
        "## For Que 3 to 6, split the california housing dataset into train and test sets.\n",
        "\n",
        "from sklearn.model_selection import train_test_split\n",
        "train_features, test_features, train_labels, test_labels = train_test_split(\n",
        "    features, labels, random_state = 0, shuffle = False, test_size = 0.2) "
      ],
      "metadata": {
        "id": "vS3ct8pJwo6M"
      },
      "execution_count": 7,
      "outputs": []
    },
    {
      "cell_type": "code",
      "source": [
        "## What is the value of house age in third sample of test set?\n",
        "\n",
        "test_features.iloc[2]"
      ],
      "metadata": {
        "colab": {
          "base_uri": "https://localhost:8080/"
        },
        "id": "-eGhhASLyC9Z",
        "outputId": "cd2dd1e3-89d9-43f1-cc2c-d101a65ec14e"
      },
      "execution_count": 18,
      "outputs": [
        {
          "output_type": "execute_result",
          "data": {
            "text/plain": [
              "MedInc           2.118600\n",
              "HouseAge        28.000000\n",
              "AveRooms         4.707581\n",
              "AveBedrms        1.039711\n",
              "Population    1719.000000\n",
              "AveOccup         3.102888\n",
              "Latitude        37.800000\n",
              "Longitude     -121.220000\n",
              "Name: 16514, dtype: float64"
            ]
          },
          "metadata": {},
          "execution_count": 18
        }
      ]
    },
    {
      "cell_type": "code",
      "source": [
        "## What is the value of Population in the first sample of training set?\n",
        "\n",
        "\n",
        "train_features.iloc[0]"
      ],
      "metadata": {
        "colab": {
          "base_uri": "https://localhost:8080/"
        },
        "id": "GN18rn2DyUqM",
        "outputId": "b86564d9-acce-48e2-f675-86d97a21b869"
      },
      "execution_count": 23,
      "outputs": [
        {
          "output_type": "execute_result",
          "data": {
            "text/plain": [
              "MedInc          8.325200\n",
              "HouseAge       41.000000\n",
              "AveRooms        6.984127\n",
              "AveBedrms       1.023810\n",
              "Population    322.000000\n",
              "AveOccup        2.555556\n",
              "Latitude       37.880000\n",
              "Longitude    -122.230000\n",
              "Name: 0, dtype: float64"
            ]
          },
          "metadata": {},
          "execution_count": 23
        }
      ]
    },
    {
      "cell_type": "code",
      "source": [
        "## What is the mean of output label in training set?\n",
        "\n",
        "train_labels.mean()"
      ],
      "metadata": {
        "colab": {
          "base_uri": "https://localhost:8080/"
        },
        "id": "moyjIbizzDBL",
        "outputId": "7d3846ac-b81e-4f3b-a246-c00df723c337"
      },
      "execution_count": 24,
      "outputs": [
        {
          "output_type": "execute_result",
          "data": {
            "text/plain": [
              "2.02067031310562"
            ]
          },
          "metadata": {},
          "execution_count": 24
        }
      ]
    },
    {
      "cell_type": "code",
      "source": [
        "## What is median of output label in test set?\n",
        "\n",
        "test_labels.median()"
      ],
      "metadata": {
        "colab": {
          "base_uri": "https://localhost:8080/"
        },
        "id": "H-icJwiazKx5",
        "outputId": "44815c77-e570-4316-d1b6-2bd01cac2064"
      },
      "execution_count": 25,
      "outputs": [
        {
          "output_type": "execute_result",
          "data": {
            "text/plain": [
              "2.1475"
            ]
          },
          "metadata": {},
          "execution_count": 25
        }
      ]
    },
    {
      "cell_type": "code",
      "source": [
        "## If we use StandardScaler for preprocessing and LinearRegression for fitting the model with training set obtained in previous questions, what are the coefficients obtained in the predicted model?\n",
        "\n",
        "lin_pipe = Pipeline([('scale', StandardScaler()),\n",
        "                     ('Lin_reg', LinearRegression())])\n",
        "\n",
        "lin_pipe.fit(train_features, train_labels)"
      ],
      "metadata": {
        "colab": {
          "base_uri": "https://localhost:8080/"
        },
        "id": "WnLiv5O9zTCH",
        "outputId": "f672ebf7-fbaf-4779-9b68-e9ff6d73c38d"
      },
      "execution_count": 26,
      "outputs": [
        {
          "output_type": "execute_result",
          "data": {
            "text/plain": [
              "Pipeline(steps=[('scale', StandardScaler()), ('Lin_reg', LinearRegression())])"
            ]
          },
          "metadata": {},
          "execution_count": 26
        }
      ]
    },
    {
      "cell_type": "code",
      "source": [
        "lin_pipe[-1].coef_"
      ],
      "metadata": {
        "colab": {
          "base_uri": "https://localhost:8080/"
        },
        "id": "BuD987fpzw_L",
        "outputId": "09187f55-ca17-4a59-9a63-d17b22bc2b7c"
      },
      "execution_count": 27,
      "outputs": [
        {
          "output_type": "execute_result",
          "data": {
            "text/plain": [
              "array([ 0.83817967,  0.12032096, -0.32135834,  0.36456599, -0.00170674,\n",
              "       -0.04524631, -0.87994217, -0.82634126])"
            ]
          },
          "metadata": {},
          "execution_count": 27
        }
      ]
    },
    {
      "cell_type": "code",
      "source": [
        "## what is the bias term predicted by the model?\n",
        "\n",
        "lin_pipe[-1].intercept_"
      ],
      "metadata": {
        "colab": {
          "base_uri": "https://localhost:8080/"
        },
        "id": "4hGsdgRsz3sG",
        "outputId": "912ad29f-8357-413b-db9c-a829417d56db"
      },
      "execution_count": 28,
      "outputs": [
        {
          "output_type": "execute_result",
          "data": {
            "text/plain": [
              "2.020670313105614"
            ]
          },
          "metadata": {},
          "execution_count": 28
        }
      ]
    },
    {
      "cell_type": "markdown",
      "source": [],
      "metadata": {
        "id": "bBVxpPNXx7jC"
      }
    }
  ]
}