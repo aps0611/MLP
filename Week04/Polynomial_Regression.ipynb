{
  "nbformat": 4,
  "nbformat_minor": 0,
  "metadata": {
    "colab": {
      "provenance": []
    },
    "kernelspec": {
      "name": "python3",
      "display_name": "Python 3"
    },
    "language_info": {
      "name": "python"
    }
  },
  "cells": [
    {
      "cell_type": "markdown",
      "source": [
        "# Polynomial Regression on Sklearn"
      ],
      "metadata": {
        "id": "SpVw47AzjU01"
      }
    },
    {
      "cell_type": "markdown",
      "source": [
        "## STEP 1: Apply Polynomial Regression on feature matrix\n",
        "\n",
        "## STEP 2: Learn Linear Regression Model(via normal equation) on Feature Matrix"
      ],
      "metadata": {
        "id": "HoKSnmVpjY2S"
      }
    },
    {
      "cell_type": "markdown",
      "source": [
        "##### Make use of Pipeline construct for polynomial trasnformation followed by linear regression estimator"
      ],
      "metadata": {
        "id": "rIMzlPyok1O8"
      }
    },
    {
      "cell_type": "markdown",
      "source": [
        "# PR with Normal Equation"
      ],
      "metadata": {
        "id": "v3x1Ipbbk6J5"
      }
    },
    {
      "cell_type": "markdown",
      "source": [
        "\n",
        "\n",
        "```\n",
        "from sklearn.linear_model import Linear regression\n",
        "from sklearn.pipeline import Pipeline\n",
        "from sklearn.preprocessing import PolynomialFeatures\n",
        "\n",
        "# Two Steps;\n",
        "# 1. Polynomial Features of desired degree (degree = 2)\n",
        "# 2. Linear Regression\n",
        "\n",
        "poly_model = Pipeline([\n",
        "    ('polynomial_transform', PolynomialFeatures(degree=2)),\n",
        "    ('linear_regression', LinearRegression())\n",
        "])\n",
        "\n",
        "# Train with feature matrix  X_train and label vector y_train\n",
        "\n",
        "poly_model.fit(X_train, y_train)\n",
        "```\n",
        "\n"
      ],
      "metadata": {
        "id": "hkxhICsQkxLK"
      }
    },
    {
      "cell_type": "markdown",
      "source": [
        "# PR WITH SGD"
      ],
      "metadata": {
        "id": "hReZTnm2k9Ie"
      }
    },
    {
      "cell_type": "markdown",
      "source": [
        "\n",
        "\n",
        "```\n",
        "from sklearn.linear_model import SGDRegressor\n",
        "from sklearn.pipeline import Pipeline\n",
        "from sklearn.preprocessing import PolynomialFeatures\n",
        "poly_model = Pipeline([\n",
        "    ('poly_tr', PolynomialFeatures(degree=2)),\n",
        "    ('sgd_regression', SGDRegressor())\n",
        "                       ])\n",
        "\n",
        "poly_model.fit(X_train,y_train)\n",
        "```\n",
        "\n"
      ],
      "metadata": {
        "id": "44AyZV7Ylday"
      }
    },
    {
      "cell_type": "markdown",
      "source": [
        "# interaction features"
      ],
      "metadata": {
        "id": "9-OrixCWl6Y2"
      }
    },
    {
      "cell_type": "markdown",
      "source": [
        "\n",
        "\n",
        "```\n",
        "\n",
        "('polynomial_transform', PolynomialFeatures(degree=2, interaction_only= True))\n",
        "\n",
        "```\n",
        "\n"
      ],
      "metadata": {
        "id": "V_SwW4JMmG2w"
      }
    },
    {
      "cell_type": "markdown",
      "source": [
        "[x1 x2] is transformed to [1 x1 x2 x1x2]\n",
        "note that x1^2 and X2^2 terms are being ignored"
      ],
      "metadata": {
        "id": "Lb0ZM6WSmpVl"
      }
    },
    {
      "cell_type": "code",
      "source": [
        "\n"
      ],
      "metadata": {
        "id": "wEcSxQ26l8C9"
      },
      "execution_count": 4,
      "outputs": []
    },
    {
      "cell_type": "code",
      "source": [],
      "metadata": {
        "id": "qH2pztORmnmx"
      },
      "execution_count": null,
      "outputs": []
    }
  ]
}