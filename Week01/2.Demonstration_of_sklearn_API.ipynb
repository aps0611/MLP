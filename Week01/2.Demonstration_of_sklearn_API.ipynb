{
  "nbformat": 4,
  "nbformat_minor": 0,
  "metadata": {
    "colab": {
      "provenance": [],
      "toc_visible": true
    },
    "kernelspec": {
      "name": "python3",
      "display_name": "Python 3"
    },
    "language_info": {
      "name": "python"
    }
  },
  "cells": [
    {
      "cell_type": "markdown",
      "source": [
        "# sklearn API Demonstration\n",
        "\n",
        "## Recall that it has three API\n",
        "\n",
        "      1. Loaders (load_*) - load small standard dataset bundled with sklearn\n",
        "      2. Fetchers (fetch_*) - fetch large datasets from internet and load them in memory\n",
        "      3. Generators(generate_*) - generate controlled synthetic datasets\n",
        "\n",
        "    Loaders and fetchers return a `bunch` object and generators return a tuple of feature matrix and label vector"
      ],
      "metadata": {
        "id": "ejZeOZzbfIMW"
      }
    },
    {
      "cell_type": "markdown",
      "source": [
        "# Loaders"
      ],
      "metadata": {
        "id": "kQd7Ub2ff7Fe"
      }
    },
    {
      "cell_type": "markdown",
      "source": [
        "## Loading iris dataset"
      ],
      "metadata": {
        "id": "N-7EeDNrgA9a"
      }
    },
    {
      "cell_type": "code",
      "execution_count": 1,
      "metadata": {
        "id": "eNEV552ie44m"
      },
      "outputs": [],
      "source": [
        "from sklearn.datasets import load_iris\n",
        "data = load_iris()"
      ]
    },
    {
      "cell_type": "markdown",
      "source": [
        "1. This returns `bunch` object data which is dictionary like object\n",
        "  1. `data` which has feature matrix\n",
        "  2. `target` which is label vector\n",
        "  3. `feature_names` contains names of the feature\n",
        "  4. `target_names` contain names of the classes\n",
        "  5. `DESCR` has full description of the dataset\n",
        "  6. `filename` has path to location of the data"
      ],
      "metadata": {
        "id": "eR73iVqxgd6K"
      }
    },
    {
      "cell_type": "code",
      "source": [
        "type(data)"
      ],
      "metadata": {
        "colab": {
          "base_uri": "https://localhost:8080/"
        },
        "id": "NfH97_XHgdGI",
        "outputId": "e3167a99-cfd8-4db1-eed2-aee678cae4d6"
      },
      "execution_count": 2,
      "outputs": [
        {
          "output_type": "execute_result",
          "data": {
            "text/plain": [
              "sklearn.utils.Bunch"
            ]
          },
          "metadata": {},
          "execution_count": 2
        }
      ]
    },
    {
      "cell_type": "code",
      "source": [
        "# Examine the dataset:\n",
        "\n",
        "data.feature_names"
      ],
      "metadata": {
        "colab": {
          "base_uri": "https://localhost:8080/"
        },
        "id": "JMQ8KLIsgUEj",
        "outputId": "6eafdc1e-3753-4085-e9a4-b18460f9a3ea"
      },
      "execution_count": 3,
      "outputs": [
        {
          "output_type": "execute_result",
          "data": {
            "text/plain": [
              "['sepal length (cm)',\n",
              " 'sepal width (cm)',\n",
              " 'petal length (cm)',\n",
              " 'petal width (cm)']"
            ]
          },
          "metadata": {},
          "execution_count": 3
        }
      ]
    },
    {
      "cell_type": "code",
      "source": [
        "# Examine the labels\n",
        "\n",
        "data.target_names"
      ],
      "metadata": {
        "colab": {
          "base_uri": "https://localhost:8080/"
        },
        "id": "CO2OUntghSF2",
        "outputId": "5282a6e2-a90d-452c-9ea7-e9a2e613a0bb"
      },
      "execution_count": 5,
      "outputs": [
        {
          "output_type": "execute_result",
          "data": {
            "text/plain": [
              "array(['setosa', 'versicolor', 'virginica'], dtype='<U10')"
            ]
          },
          "metadata": {},
          "execution_count": 5
        }
      ]
    },
    {
      "cell_type": "code",
      "source": [
        "data.data.shape"
      ],
      "metadata": {
        "colab": {
          "base_uri": "https://localhost:8080/"
        },
        "id": "4jMgLQYfiKAm",
        "outputId": "7f852831-2bd0-45fc-c867-4c3b9223e25f"
      },
      "execution_count": 12,
      "outputs": [
        {
          "output_type": "execute_result",
          "data": {
            "text/plain": [
              "(150, 4)"
            ]
          },
          "metadata": {},
          "execution_count": 12
        }
      ]
    },
    {
      "cell_type": "code",
      "source": [
        "# examine the feature matrix\n",
        "\n",
        "data.data[:5] # load first 5 examples"
      ],
      "metadata": {
        "colab": {
          "base_uri": "https://localhost:8080/"
        },
        "id": "KrQbEhM_hpWO",
        "outputId": "32f6e68c-6fb5-44d8-ce70-44e39059bb6e"
      },
      "execution_count": 8,
      "outputs": [
        {
          "output_type": "execute_result",
          "data": {
            "text/plain": [
              "array([[5.1, 3.5, 1.4, 0.2],\n",
              "       [4.9, 3. , 1.4, 0.2],\n",
              "       [4.7, 3.2, 1.3, 0.2],\n",
              "       [4.6, 3.1, 1.5, 0.2],\n",
              "       [5. , 3.6, 1.4, 0.2]])"
            ]
          },
          "metadata": {},
          "execution_count": 8
        }
      ]
    },
    {
      "cell_type": "code",
      "source": [
        "data.data # loads all the examples"
      ],
      "metadata": {
        "colab": {
          "base_uri": "https://localhost:8080/"
        },
        "id": "fQtL3MUQhxSm",
        "outputId": "e5f2f8cf-81cb-4d86-cec1-138c8a4d1cc8"
      },
      "execution_count": 10,
      "outputs": [
        {
          "output_type": "execute_result",
          "data": {
            "text/plain": [
              "array([[5.1, 3.5, 1.4, 0.2],\n",
              "       [4.9, 3. , 1.4, 0.2],\n",
              "       [4.7, 3.2, 1.3, 0.2],\n",
              "       [4.6, 3.1, 1.5, 0.2],\n",
              "       [5. , 3.6, 1.4, 0.2],\n",
              "       [5.4, 3.9, 1.7, 0.4],\n",
              "       [4.6, 3.4, 1.4, 0.3],\n",
              "       [5. , 3.4, 1.5, 0.2],\n",
              "       [4.4, 2.9, 1.4, 0.2],\n",
              "       [4.9, 3.1, 1.5, 0.1],\n",
              "       [5.4, 3.7, 1.5, 0.2],\n",
              "       [4.8, 3.4, 1.6, 0.2],\n",
              "       [4.8, 3. , 1.4, 0.1],\n",
              "       [4.3, 3. , 1.1, 0.1],\n",
              "       [5.8, 4. , 1.2, 0.2],\n",
              "       [5.7, 4.4, 1.5, 0.4],\n",
              "       [5.4, 3.9, 1.3, 0.4],\n",
              "       [5.1, 3.5, 1.4, 0.3],\n",
              "       [5.7, 3.8, 1.7, 0.3],\n",
              "       [5.1, 3.8, 1.5, 0.3],\n",
              "       [5.4, 3.4, 1.7, 0.2],\n",
              "       [5.1, 3.7, 1.5, 0.4],\n",
              "       [4.6, 3.6, 1. , 0.2],\n",
              "       [5.1, 3.3, 1.7, 0.5],\n",
              "       [4.8, 3.4, 1.9, 0.2],\n",
              "       [5. , 3. , 1.6, 0.2],\n",
              "       [5. , 3.4, 1.6, 0.4],\n",
              "       [5.2, 3.5, 1.5, 0.2],\n",
              "       [5.2, 3.4, 1.4, 0.2],\n",
              "       [4.7, 3.2, 1.6, 0.2],\n",
              "       [4.8, 3.1, 1.6, 0.2],\n",
              "       [5.4, 3.4, 1.5, 0.4],\n",
              "       [5.2, 4.1, 1.5, 0.1],\n",
              "       [5.5, 4.2, 1.4, 0.2],\n",
              "       [4.9, 3.1, 1.5, 0.2],\n",
              "       [5. , 3.2, 1.2, 0.2],\n",
              "       [5.5, 3.5, 1.3, 0.2],\n",
              "       [4.9, 3.6, 1.4, 0.1],\n",
              "       [4.4, 3. , 1.3, 0.2],\n",
              "       [5.1, 3.4, 1.5, 0.2],\n",
              "       [5. , 3.5, 1.3, 0.3],\n",
              "       [4.5, 2.3, 1.3, 0.3],\n",
              "       [4.4, 3.2, 1.3, 0.2],\n",
              "       [5. , 3.5, 1.6, 0.6],\n",
              "       [5.1, 3.8, 1.9, 0.4],\n",
              "       [4.8, 3. , 1.4, 0.3],\n",
              "       [5.1, 3.8, 1.6, 0.2],\n",
              "       [4.6, 3.2, 1.4, 0.2],\n",
              "       [5.3, 3.7, 1.5, 0.2],\n",
              "       [5. , 3.3, 1.4, 0.2],\n",
              "       [7. , 3.2, 4.7, 1.4],\n",
              "       [6.4, 3.2, 4.5, 1.5],\n",
              "       [6.9, 3.1, 4.9, 1.5],\n",
              "       [5.5, 2.3, 4. , 1.3],\n",
              "       [6.5, 2.8, 4.6, 1.5],\n",
              "       [5.7, 2.8, 4.5, 1.3],\n",
              "       [6.3, 3.3, 4.7, 1.6],\n",
              "       [4.9, 2.4, 3.3, 1. ],\n",
              "       [6.6, 2.9, 4.6, 1.3],\n",
              "       [5.2, 2.7, 3.9, 1.4],\n",
              "       [5. , 2. , 3.5, 1. ],\n",
              "       [5.9, 3. , 4.2, 1.5],\n",
              "       [6. , 2.2, 4. , 1. ],\n",
              "       [6.1, 2.9, 4.7, 1.4],\n",
              "       [5.6, 2.9, 3.6, 1.3],\n",
              "       [6.7, 3.1, 4.4, 1.4],\n",
              "       [5.6, 3. , 4.5, 1.5],\n",
              "       [5.8, 2.7, 4.1, 1. ],\n",
              "       [6.2, 2.2, 4.5, 1.5],\n",
              "       [5.6, 2.5, 3.9, 1.1],\n",
              "       [5.9, 3.2, 4.8, 1.8],\n",
              "       [6.1, 2.8, 4. , 1.3],\n",
              "       [6.3, 2.5, 4.9, 1.5],\n",
              "       [6.1, 2.8, 4.7, 1.2],\n",
              "       [6.4, 2.9, 4.3, 1.3],\n",
              "       [6.6, 3. , 4.4, 1.4],\n",
              "       [6.8, 2.8, 4.8, 1.4],\n",
              "       [6.7, 3. , 5. , 1.7],\n",
              "       [6. , 2.9, 4.5, 1.5],\n",
              "       [5.7, 2.6, 3.5, 1. ],\n",
              "       [5.5, 2.4, 3.8, 1.1],\n",
              "       [5.5, 2.4, 3.7, 1. ],\n",
              "       [5.8, 2.7, 3.9, 1.2],\n",
              "       [6. , 2.7, 5.1, 1.6],\n",
              "       [5.4, 3. , 4.5, 1.5],\n",
              "       [6. , 3.4, 4.5, 1.6],\n",
              "       [6.7, 3.1, 4.7, 1.5],\n",
              "       [6.3, 2.3, 4.4, 1.3],\n",
              "       [5.6, 3. , 4.1, 1.3],\n",
              "       [5.5, 2.5, 4. , 1.3],\n",
              "       [5.5, 2.6, 4.4, 1.2],\n",
              "       [6.1, 3. , 4.6, 1.4],\n",
              "       [5.8, 2.6, 4. , 1.2],\n",
              "       [5. , 2.3, 3.3, 1. ],\n",
              "       [5.6, 2.7, 4.2, 1.3],\n",
              "       [5.7, 3. , 4.2, 1.2],\n",
              "       [5.7, 2.9, 4.2, 1.3],\n",
              "       [6.2, 2.9, 4.3, 1.3],\n",
              "       [5.1, 2.5, 3. , 1.1],\n",
              "       [5.7, 2.8, 4.1, 1.3],\n",
              "       [6.3, 3.3, 6. , 2.5],\n",
              "       [5.8, 2.7, 5.1, 1.9],\n",
              "       [7.1, 3. , 5.9, 2.1],\n",
              "       [6.3, 2.9, 5.6, 1.8],\n",
              "       [6.5, 3. , 5.8, 2.2],\n",
              "       [7.6, 3. , 6.6, 2.1],\n",
              "       [4.9, 2.5, 4.5, 1.7],\n",
              "       [7.3, 2.9, 6.3, 1.8],\n",
              "       [6.7, 2.5, 5.8, 1.8],\n",
              "       [7.2, 3.6, 6.1, 2.5],\n",
              "       [6.5, 3.2, 5.1, 2. ],\n",
              "       [6.4, 2.7, 5.3, 1.9],\n",
              "       [6.8, 3. , 5.5, 2.1],\n",
              "       [5.7, 2.5, 5. , 2. ],\n",
              "       [5.8, 2.8, 5.1, 2.4],\n",
              "       [6.4, 3.2, 5.3, 2.3],\n",
              "       [6.5, 3. , 5.5, 1.8],\n",
              "       [7.7, 3.8, 6.7, 2.2],\n",
              "       [7.7, 2.6, 6.9, 2.3],\n",
              "       [6. , 2.2, 5. , 1.5],\n",
              "       [6.9, 3.2, 5.7, 2.3],\n",
              "       [5.6, 2.8, 4.9, 2. ],\n",
              "       [7.7, 2.8, 6.7, 2. ],\n",
              "       [6.3, 2.7, 4.9, 1.8],\n",
              "       [6.7, 3.3, 5.7, 2.1],\n",
              "       [7.2, 3.2, 6. , 1.8],\n",
              "       [6.2, 2.8, 4.8, 1.8],\n",
              "       [6.1, 3. , 4.9, 1.8],\n",
              "       [6.4, 2.8, 5.6, 2.1],\n",
              "       [7.2, 3. , 5.8, 1.6],\n",
              "       [7.4, 2.8, 6.1, 1.9],\n",
              "       [7.9, 3.8, 6.4, 2. ],\n",
              "       [6.4, 2.8, 5.6, 2.2],\n",
              "       [6.3, 2.8, 5.1, 1.5],\n",
              "       [6.1, 2.6, 5.6, 1.4],\n",
              "       [7.7, 3. , 6.1, 2.3],\n",
              "       [6.3, 3.4, 5.6, 2.4],\n",
              "       [6.4, 3.1, 5.5, 1.8],\n",
              "       [6. , 3. , 4.8, 1.8],\n",
              "       [6.9, 3.1, 5.4, 2.1],\n",
              "       [6.7, 3.1, 5.6, 2.4],\n",
              "       [6.9, 3.1, 5.1, 2.3],\n",
              "       [5.8, 2.7, 5.1, 1.9],\n",
              "       [6.8, 3.2, 5.9, 2.3],\n",
              "       [6.7, 3.3, 5.7, 2.5],\n",
              "       [6.7, 3. , 5.2, 2.3],\n",
              "       [6.3, 2.5, 5. , 1.9],\n",
              "       [6.5, 3. , 5.2, 2. ],\n",
              "       [6.2, 3.4, 5.4, 2.3],\n",
              "       [5.9, 3. , 5.1, 1.8]])"
            ]
          },
          "metadata": {},
          "execution_count": 10
        }
      ]
    },
    {
      "cell_type": "code",
      "source": [
        "data.target # examine the labels- total 150 labels"
      ],
      "metadata": {
        "colab": {
          "base_uri": "https://localhost:8080/"
        },
        "id": "Ovgg7SGVh9Y1",
        "outputId": "d99bf8db-83fa-4f7e-9c97-3ff348f159d1"
      },
      "execution_count": 11,
      "outputs": [
        {
          "output_type": "execute_result",
          "data": {
            "text/plain": [
              "array([0, 0, 0, 0, 0, 0, 0, 0, 0, 0, 0, 0, 0, 0, 0, 0, 0, 0, 0, 0, 0, 0,\n",
              "       0, 0, 0, 0, 0, 0, 0, 0, 0, 0, 0, 0, 0, 0, 0, 0, 0, 0, 0, 0, 0, 0,\n",
              "       0, 0, 0, 0, 0, 0, 1, 1, 1, 1, 1, 1, 1, 1, 1, 1, 1, 1, 1, 1, 1, 1,\n",
              "       1, 1, 1, 1, 1, 1, 1, 1, 1, 1, 1, 1, 1, 1, 1, 1, 1, 1, 1, 1, 1, 1,\n",
              "       1, 1, 1, 1, 1, 1, 1, 1, 1, 1, 1, 1, 2, 2, 2, 2, 2, 2, 2, 2, 2, 2,\n",
              "       2, 2, 2, 2, 2, 2, 2, 2, 2, 2, 2, 2, 2, 2, 2, 2, 2, 2, 2, 2, 2, 2,\n",
              "       2, 2, 2, 2, 2, 2, 2, 2, 2, 2, 2, 2, 2, 2, 2, 2, 2, 2])"
            ]
          },
          "metadata": {},
          "execution_count": 11
        }
      ]
    },
    {
      "cell_type": "code",
      "source": [
        "?load_iris"
      ],
      "metadata": {
        "id": "PkHBq0K1iCLF"
      },
      "execution_count": 13,
      "outputs": []
    },
    {
      "cell_type": "code",
      "source": [
        "# we can obtain feature matrix and label vector from load_iris and other loaders in general by setting return_X_y argument to True\n",
        "\n",
        "feature_matrix, label_vector = load_iris(return_X_y =True)\n",
        "print('feature_matrix   ', feature_matrix.shape)\n",
        "print('label_vector   ', label_vector.shape)"
      ],
      "metadata": {
        "colab": {
          "base_uri": "https://localhost:8080/"
        },
        "id": "kOYAXS2EiOfI",
        "outputId": "f9c13715-75d6-4fd0-e7f5-db94ceb04037"
      },
      "execution_count": 15,
      "outputs": [
        {
          "output_type": "stream",
          "name": "stdout",
          "text": [
            "feature_matrix    (150, 4)\n",
            "label_vector    (150,)\n"
          ]
        }
      ]
    },
    {
      "cell_type": "markdown",
      "source": [
        "## Loading Diabetes dataset:"
      ],
      "metadata": {
        "id": "N_bEG1oGjKt3"
      }
    },
    {
      "cell_type": "code",
      "source": [
        "from sklearn.datasets import load_diabetes\n",
        "data = load_diabetes()"
      ],
      "metadata": {
        "id": "naBBMdkci63B"
      },
      "execution_count": 16,
      "outputs": []
    },
    {
      "cell_type": "code",
      "source": [
        "?load_diabetes"
      ],
      "metadata": {
        "id": "rhFCmLH3jTbg"
      },
      "execution_count": 17,
      "outputs": []
    },
    {
      "cell_type": "code",
      "source": [
        "# load the dataset and obtain the bunch object\n",
        "\n",
        "data.feature_names"
      ],
      "metadata": {
        "colab": {
          "base_uri": "https://localhost:8080/"
        },
        "id": "Sp0R9nGgjVc0",
        "outputId": "18e200e3-62cd-4444-8102-c183e6a53d45"
      },
      "execution_count": 32,
      "outputs": [
        {
          "output_type": "execute_result",
          "data": {
            "text/plain": [
              "['age', 'sex', 'bmi', 'bp', 's1', 's2', 's3', 's4', 's5', 's6']"
            ]
          },
          "metadata": {},
          "execution_count": 32
        }
      ]
    },
    {
      "cell_type": "code",
      "source": [
        "data.target[:5] # displays first 5 labels which are integers"
      ],
      "metadata": {
        "colab": {
          "base_uri": "https://localhost:8080/"
        },
        "id": "DzkICrbQlZw5",
        "outputId": "ecf73d7a-0dae-4e31-e59d-2723f95de638"
      },
      "execution_count": 34,
      "outputs": [
        {
          "output_type": "execute_result",
          "data": {
            "text/plain": [
              "array([151.,  75., 141., 206., 135.])"
            ]
          },
          "metadata": {},
          "execution_count": 34
        }
      ]
    },
    {
      "cell_type": "code",
      "source": [
        "data.data[:5] # displays first 5 features"
      ],
      "metadata": {
        "colab": {
          "base_uri": "https://localhost:8080/"
        },
        "id": "ty7XoK4KlzI4",
        "outputId": "2e865f17-9490-42c0-a471-279becf1ca3f"
      },
      "execution_count": 37,
      "outputs": [
        {
          "output_type": "execute_result",
          "data": {
            "text/plain": [
              "array([[ 0.03807591,  0.05068012,  0.06169621,  0.02187235, -0.0442235 ,\n",
              "        -0.03482076, -0.04340085, -0.00259226,  0.01990842, -0.01764613],\n",
              "       [-0.00188202, -0.04464164, -0.05147406, -0.02632783, -0.00844872,\n",
              "        -0.01916334,  0.07441156, -0.03949338, -0.06832974, -0.09220405],\n",
              "       [ 0.08529891,  0.05068012,  0.04445121, -0.00567061, -0.04559945,\n",
              "        -0.03419447, -0.03235593, -0.00259226,  0.00286377, -0.02593034],\n",
              "       [-0.08906294, -0.04464164, -0.01159501, -0.03665645,  0.01219057,\n",
              "         0.02499059, -0.03603757,  0.03430886,  0.02269202, -0.00936191],\n",
              "       [ 0.00538306, -0.04464164, -0.03638469,  0.02187235,  0.00393485,\n",
              "         0.01559614,  0.00814208, -0.00259226, -0.03199144, -0.04664087]])"
            ]
          },
          "metadata": {},
          "execution_count": 37
        }
      ]
    },
    {
      "cell_type": "code",
      "source": [
        "data.data.shape # 442 examples and 10 features"
      ],
      "metadata": {
        "colab": {
          "base_uri": "https://localhost:8080/"
        },
        "id": "9dfN_bl7jmzy",
        "outputId": "5235c4f3-cafa-4b5e-84c0-e5ad9af3544e"
      },
      "execution_count": 22,
      "outputs": [
        {
          "output_type": "execute_result",
          "data": {
            "text/plain": [
              "(442, 10)"
            ]
          },
          "metadata": {},
          "execution_count": 22
        }
      ]
    },
    {
      "cell_type": "code",
      "source": [
        "data.DESCR"
      ],
      "metadata": {
        "colab": {
          "base_uri": "https://localhost:8080/",
          "height": 244
        },
        "id": "K1Wy9SXsjofX",
        "outputId": "aab818ea-968f-4a2b-ff92-4a60a1924076"
      },
      "execution_count": 25,
      "outputs": [
        {
          "output_type": "execute_result",
          "data": {
            "text/plain": [
              "'.. _diabetes_dataset:\\n\\nDiabetes dataset\\n----------------\\n\\nTen baseline variables, age, sex, body mass index, average blood\\npressure, and six blood serum measurements were obtained for each of n =\\n442 diabetes patients, as well as the response of interest, a\\nquantitative measure of disease progression one year after baseline.\\n\\n**Data Set Characteristics:**\\n\\n  :Number of Instances: 442\\n\\n  :Number of Attributes: First 10 columns are numeric predictive values\\n\\n  :Target: Column 11 is a quantitative measure of disease progression one year after baseline\\n\\n  :Attribute Information:\\n      - age     age in years\\n      - sex\\n      - bmi     body mass index\\n      - bp      average blood pressure\\n      - s1      tc, total serum cholesterol\\n      - s2      ldl, low-density lipoproteins\\n      - s3      hdl, high-density lipoproteins\\n      - s4      tch, total cholesterol / HDL\\n      - s5      ltg, possibly log of serum triglycerides level\\n      - s6      glu, blood sugar level\\n\\nNote: Each of these 10 feature variables have been mean centered and scaled by the standard deviation times `n_samples` (i.e. the sum of squares of each column totals 1).\\n\\nSource URL:\\nhttps://www4.stat.ncsu.edu/~boos/var.select/diabetes.html\\n\\nFor more information see:\\nBradley Efron, Trevor Hastie, Iain Johnstone and Robert Tibshirani (2004) \"Least Angle Regression,\" Annals of Statistics (with discussion), 407-499.\\n(https://web.stanford.edu/~hastie/Papers/LARS/LeastAngle_2002.pdf)'"
            ],
            "application/vnd.google.colaboratory.intrinsic+json": {
              "type": "string"
            }
          },
          "metadata": {},
          "execution_count": 25
        }
      ]
    },
    {
      "cell_type": "code",
      "source": [],
      "metadata": {
        "id": "BlyB2xrZkJmb"
      },
      "execution_count": 29,
      "outputs": []
    },
    {
      "cell_type": "markdown",
      "source": [
        "## Digits dataset"
      ],
      "metadata": {
        "id": "zKZdCr2NmCgw"
      }
    },
    {
      "cell_type": "code",
      "source": [
        "from sklearn.datasets import load_digits\n",
        "?load_digits"
      ],
      "metadata": {
        "id": "E7lgczOgkjaJ"
      },
      "execution_count": 38,
      "outputs": []
    },
    {
      "cell_type": "code",
      "source": [
        "data = load_digits()"
      ],
      "metadata": {
        "id": "GQ3bw_y4mNkO"
      },
      "execution_count": 39,
      "outputs": []
    },
    {
      "cell_type": "code",
      "source": [
        "# check the shape of dataset\n",
        "data.data.shape"
      ],
      "metadata": {
        "colab": {
          "base_uri": "https://localhost:8080/"
        },
        "id": "vAeA4mIUmJdF",
        "outputId": "cd479c71-126e-4d15-876d-80f55ba1585a"
      },
      "execution_count": 40,
      "outputs": [
        {
          "output_type": "execute_result",
          "data": {
            "text/plain": [
              "(1797, 64)"
            ]
          },
          "metadata": {},
          "execution_count": 40
        }
      ]
    },
    {
      "cell_type": "code",
      "source": [
        "data.feature_names # its "
      ],
      "metadata": {
        "colab": {
          "base_uri": "https://localhost:8080/"
        },
        "id": "kHC9b-fRmRZg",
        "outputId": "76d8ece2-49c8-49cd-f9ca-d5178c689484"
      },
      "execution_count": 41,
      "outputs": [
        {
          "output_type": "execute_result",
          "data": {
            "text/plain": [
              "['pixel_0_0',\n",
              " 'pixel_0_1',\n",
              " 'pixel_0_2',\n",
              " 'pixel_0_3',\n",
              " 'pixel_0_4',\n",
              " 'pixel_0_5',\n",
              " 'pixel_0_6',\n",
              " 'pixel_0_7',\n",
              " 'pixel_1_0',\n",
              " 'pixel_1_1',\n",
              " 'pixel_1_2',\n",
              " 'pixel_1_3',\n",
              " 'pixel_1_4',\n",
              " 'pixel_1_5',\n",
              " 'pixel_1_6',\n",
              " 'pixel_1_7',\n",
              " 'pixel_2_0',\n",
              " 'pixel_2_1',\n",
              " 'pixel_2_2',\n",
              " 'pixel_2_3',\n",
              " 'pixel_2_4',\n",
              " 'pixel_2_5',\n",
              " 'pixel_2_6',\n",
              " 'pixel_2_7',\n",
              " 'pixel_3_0',\n",
              " 'pixel_3_1',\n",
              " 'pixel_3_2',\n",
              " 'pixel_3_3',\n",
              " 'pixel_3_4',\n",
              " 'pixel_3_5',\n",
              " 'pixel_3_6',\n",
              " 'pixel_3_7',\n",
              " 'pixel_4_0',\n",
              " 'pixel_4_1',\n",
              " 'pixel_4_2',\n",
              " 'pixel_4_3',\n",
              " 'pixel_4_4',\n",
              " 'pixel_4_5',\n",
              " 'pixel_4_6',\n",
              " 'pixel_4_7',\n",
              " 'pixel_5_0',\n",
              " 'pixel_5_1',\n",
              " 'pixel_5_2',\n",
              " 'pixel_5_3',\n",
              " 'pixel_5_4',\n",
              " 'pixel_5_5',\n",
              " 'pixel_5_6',\n",
              " 'pixel_5_7',\n",
              " 'pixel_6_0',\n",
              " 'pixel_6_1',\n",
              " 'pixel_6_2',\n",
              " 'pixel_6_3',\n",
              " 'pixel_6_4',\n",
              " 'pixel_6_5',\n",
              " 'pixel_6_6',\n",
              " 'pixel_6_7',\n",
              " 'pixel_7_0',\n",
              " 'pixel_7_1',\n",
              " 'pixel_7_2',\n",
              " 'pixel_7_3',\n",
              " 'pixel_7_4',\n",
              " 'pixel_7_5',\n",
              " 'pixel_7_6',\n",
              " 'pixel_7_7']"
            ]
          },
          "metadata": {},
          "execution_count": 41
        }
      ]
    },
    {
      "cell_type": "code",
      "source": [
        "data.data[:5] # loading first 5 examples"
      ],
      "metadata": {
        "colab": {
          "base_uri": "https://localhost:8080/"
        },
        "id": "3eSO9-V3mXBI",
        "outputId": "bab92385-886d-495d-918d-16c2425075c2"
      },
      "execution_count": 42,
      "outputs": [
        {
          "output_type": "execute_result",
          "data": {
            "text/plain": [
              "array([[ 0.,  0.,  5., 13.,  9.,  1.,  0.,  0.,  0.,  0., 13., 15., 10.,\n",
              "        15.,  5.,  0.,  0.,  3., 15.,  2.,  0., 11.,  8.,  0.,  0.,  4.,\n",
              "        12.,  0.,  0.,  8.,  8.,  0.,  0.,  5.,  8.,  0.,  0.,  9.,  8.,\n",
              "         0.,  0.,  4., 11.,  0.,  1., 12.,  7.,  0.,  0.,  2., 14.,  5.,\n",
              "        10., 12.,  0.,  0.,  0.,  0.,  6., 13., 10.,  0.,  0.,  0.],\n",
              "       [ 0.,  0.,  0., 12., 13.,  5.,  0.,  0.,  0.,  0.,  0., 11., 16.,\n",
              "         9.,  0.,  0.,  0.,  0.,  3., 15., 16.,  6.,  0.,  0.,  0.,  7.,\n",
              "        15., 16., 16.,  2.,  0.,  0.,  0.,  0.,  1., 16., 16.,  3.,  0.,\n",
              "         0.,  0.,  0.,  1., 16., 16.,  6.,  0.,  0.,  0.,  0.,  1., 16.,\n",
              "        16.,  6.,  0.,  0.,  0.,  0.,  0., 11., 16., 10.,  0.,  0.],\n",
              "       [ 0.,  0.,  0.,  4., 15., 12.,  0.,  0.,  0.,  0.,  3., 16., 15.,\n",
              "        14.,  0.,  0.,  0.,  0.,  8., 13.,  8., 16.,  0.,  0.,  0.,  0.,\n",
              "         1.,  6., 15., 11.,  0.,  0.,  0.,  1.,  8., 13., 15.,  1.,  0.,\n",
              "         0.,  0.,  9., 16., 16.,  5.,  0.,  0.,  0.,  0.,  3., 13., 16.,\n",
              "        16., 11.,  5.,  0.,  0.,  0.,  0.,  3., 11., 16.,  9.,  0.],\n",
              "       [ 0.,  0.,  7., 15., 13.,  1.,  0.,  0.,  0.,  8., 13.,  6., 15.,\n",
              "         4.,  0.,  0.,  0.,  2.,  1., 13., 13.,  0.,  0.,  0.,  0.,  0.,\n",
              "         2., 15., 11.,  1.,  0.,  0.,  0.,  0.,  0.,  1., 12., 12.,  1.,\n",
              "         0.,  0.,  0.,  0.,  0.,  1., 10.,  8.,  0.,  0.,  0.,  8.,  4.,\n",
              "         5., 14.,  9.,  0.,  0.,  0.,  7., 13., 13.,  9.,  0.,  0.],\n",
              "       [ 0.,  0.,  0.,  1., 11.,  0.,  0.,  0.,  0.,  0.,  0.,  7.,  8.,\n",
              "         0.,  0.,  0.,  0.,  0.,  1., 13.,  6.,  2.,  2.,  0.,  0.,  0.,\n",
              "         7., 15.,  0.,  9.,  8.,  0.,  0.,  5., 16., 10.,  0., 16.,  6.,\n",
              "         0.,  0.,  4., 15., 16., 13., 16.,  1.,  0.,  0.,  0.,  0.,  3.,\n",
              "        15., 10.,  0.,  0.,  0.,  0.,  0.,  2., 16.,  4.,  0.,  0.]])"
            ]
          },
          "metadata": {},
          "execution_count": 42
        }
      ]
    },
    {
      "cell_type": "code",
      "source": [
        "data.target_names # examining the labels"
      ],
      "metadata": {
        "id": "zoZZi51jmogA",
        "outputId": "302bcaae-0fcc-4f07-fdf2-4b99935de376",
        "colab": {
          "base_uri": "https://localhost:8080/"
        }
      },
      "execution_count": 44,
      "outputs": [
        {
          "output_type": "execute_result",
          "data": {
            "text/plain": [
              "array([0, 1, 2, 3, 4, 5, 6, 7, 8, 9])"
            ]
          },
          "metadata": {},
          "execution_count": 44
        }
      ]
    },
    {
      "cell_type": "code",
      "source": [
        "data.target # all the target labels "
      ],
      "metadata": {
        "id": "JMS9U9n_mt35",
        "outputId": "f38d0ec4-6ad0-42dc-db2a-f23ff8e70e6d",
        "colab": {
          "base_uri": "https://localhost:8080/"
        }
      },
      "execution_count": 46,
      "outputs": [
        {
          "output_type": "execute_result",
          "data": {
            "text/plain": [
              "array([0, 1, 2, ..., 8, 9, 8])"
            ]
          },
          "metadata": {},
          "execution_count": 46
        }
      ]
    },
    {
      "cell_type": "code",
      "source": [
        "# first 10\n",
        "\n",
        "data.target[:10]"
      ],
      "metadata": {
        "id": "R0eOyLHNm4VN",
        "outputId": "9a69e718-3750-46c5-c4c9-7e7bf5172dcd",
        "colab": {
          "base_uri": "https://localhost:8080/"
        }
      },
      "execution_count": 47,
      "outputs": [
        {
          "output_type": "execute_result",
          "data": {
            "text/plain": [
              "array([0, 1, 2, 3, 4, 5, 6, 7, 8, 9])"
            ]
          },
          "metadata": {},
          "execution_count": 47
        }
      ]
    },
    {
      "cell_type": "markdown",
      "source": [
        "## Wine dataset"
      ],
      "metadata": {
        "id": "lsoWVz00nT4j"
      }
    },
    {
      "cell_type": "code",
      "source": [
        "from sklearn.datasets import load_wine\n",
        "data = load_wine()"
      ],
      "metadata": {
        "id": "i30C9y3FnL52"
      },
      "execution_count": 50,
      "outputs": []
    },
    {
      "cell_type": "code",
      "source": [
        "?load_wine"
      ],
      "metadata": {
        "id": "XvBTrbBjnbuX"
      },
      "execution_count": 52,
      "outputs": []
    },
    {
      "cell_type": "code",
      "source": [
        "# check the shape\n",
        "\n",
        "data.data.shape"
      ],
      "metadata": {
        "id": "48A_Bl-rnjiw",
        "outputId": "73d51a2c-467f-44ea-c7a8-9fb876ecfc5f",
        "colab": {
          "base_uri": "https://localhost:8080/"
        }
      },
      "execution_count": 53,
      "outputs": [
        {
          "output_type": "execute_result",
          "data": {
            "text/plain": [
              "(178, 13)"
            ]
          },
          "metadata": {},
          "execution_count": 53
        }
      ]
    },
    {
      "cell_type": "code",
      "source": [
        "# Examine the features\n",
        "\n",
        "data.feature_names"
      ],
      "metadata": {
        "id": "foOXyUoEnnwT",
        "outputId": "c8f32fb9-e60e-4f7b-cc82-e5983410d533",
        "colab": {
          "base_uri": "https://localhost:8080/"
        }
      },
      "execution_count": 55,
      "outputs": [
        {
          "output_type": "execute_result",
          "data": {
            "text/plain": [
              "['alcohol',\n",
              " 'malic_acid',\n",
              " 'ash',\n",
              " 'alcalinity_of_ash',\n",
              " 'magnesium',\n",
              " 'total_phenols',\n",
              " 'flavanoids',\n",
              " 'nonflavanoid_phenols',\n",
              " 'proanthocyanins',\n",
              " 'color_intensity',\n",
              " 'hue',\n",
              " 'od280/od315_of_diluted_wines',\n",
              " 'proline']"
            ]
          },
          "metadata": {},
          "execution_count": 55
        }
      ]
    },
    {
      "cell_type": "code",
      "source": [
        "# check the first few entries\n",
        "\n",
        "data.data[:6]"
      ],
      "metadata": {
        "id": "W3d7iDmBnrt5",
        "outputId": "028dd320-c8ba-4d2b-e124-1cb5c5223823",
        "colab": {
          "base_uri": "https://localhost:8080/"
        }
      },
      "execution_count": 56,
      "outputs": [
        {
          "output_type": "execute_result",
          "data": {
            "text/plain": [
              "array([[1.423e+01, 1.710e+00, 2.430e+00, 1.560e+01, 1.270e+02, 2.800e+00,\n",
              "        3.060e+00, 2.800e-01, 2.290e+00, 5.640e+00, 1.040e+00, 3.920e+00,\n",
              "        1.065e+03],\n",
              "       [1.320e+01, 1.780e+00, 2.140e+00, 1.120e+01, 1.000e+02, 2.650e+00,\n",
              "        2.760e+00, 2.600e-01, 1.280e+00, 4.380e+00, 1.050e+00, 3.400e+00,\n",
              "        1.050e+03],\n",
              "       [1.316e+01, 2.360e+00, 2.670e+00, 1.860e+01, 1.010e+02, 2.800e+00,\n",
              "        3.240e+00, 3.000e-01, 2.810e+00, 5.680e+00, 1.030e+00, 3.170e+00,\n",
              "        1.185e+03],\n",
              "       [1.437e+01, 1.950e+00, 2.500e+00, 1.680e+01, 1.130e+02, 3.850e+00,\n",
              "        3.490e+00, 2.400e-01, 2.180e+00, 7.800e+00, 8.600e-01, 3.450e+00,\n",
              "        1.480e+03],\n",
              "       [1.324e+01, 2.590e+00, 2.870e+00, 2.100e+01, 1.180e+02, 2.800e+00,\n",
              "        2.690e+00, 3.900e-01, 1.820e+00, 4.320e+00, 1.040e+00, 2.930e+00,\n",
              "        7.350e+02],\n",
              "       [1.420e+01, 1.760e+00, 2.450e+00, 1.520e+01, 1.120e+02, 3.270e+00,\n",
              "        3.390e+00, 3.400e-01, 1.970e+00, 6.750e+00, 1.050e+00, 2.850e+00,\n",
              "        1.450e+03]])"
            ]
          },
          "metadata": {},
          "execution_count": 56
        }
      ]
    },
    {
      "cell_type": "code",
      "source": [
        "# examing the target class\n",
        "\n",
        "data.target_names"
      ],
      "metadata": {
        "id": "CKbJ4q3Rnyez",
        "outputId": "a930b868-208d-48b5-ed2f-b5e3fac6f66f",
        "colab": {
          "base_uri": "https://localhost:8080/"
        }
      },
      "execution_count": 57,
      "outputs": [
        {
          "output_type": "execute_result",
          "data": {
            "text/plain": [
              "array(['class_0', 'class_1', 'class_2'], dtype='<U7')"
            ]
          },
          "metadata": {},
          "execution_count": 57
        }
      ]
    },
    {
      "cell_type": "code",
      "source": [
        "# print the target classes- 178 in total\n",
        "data.target"
      ],
      "metadata": {
        "id": "fVWUwQF0n2se",
        "outputId": "5252fdc5-ebeb-425e-dbb7-f9c813a15e3d",
        "colab": {
          "base_uri": "https://localhost:8080/"
        }
      },
      "execution_count": 58,
      "outputs": [
        {
          "output_type": "execute_result",
          "data": {
            "text/plain": [
              "array([0, 0, 0, 0, 0, 0, 0, 0, 0, 0, 0, 0, 0, 0, 0, 0, 0, 0, 0, 0, 0, 0,\n",
              "       0, 0, 0, 0, 0, 0, 0, 0, 0, 0, 0, 0, 0, 0, 0, 0, 0, 0, 0, 0, 0, 0,\n",
              "       0, 0, 0, 0, 0, 0, 0, 0, 0, 0, 0, 0, 0, 0, 0, 1, 1, 1, 1, 1, 1, 1,\n",
              "       1, 1, 1, 1, 1, 1, 1, 1, 1, 1, 1, 1, 1, 1, 1, 1, 1, 1, 1, 1, 1, 1,\n",
              "       1, 1, 1, 1, 1, 1, 1, 1, 1, 1, 1, 1, 1, 1, 1, 1, 1, 1, 1, 1, 1, 1,\n",
              "       1, 1, 1, 1, 1, 1, 1, 1, 1, 1, 1, 1, 1, 1, 1, 1, 1, 1, 1, 1, 2, 2,\n",
              "       2, 2, 2, 2, 2, 2, 2, 2, 2, 2, 2, 2, 2, 2, 2, 2, 2, 2, 2, 2, 2, 2,\n",
              "       2, 2, 2, 2, 2, 2, 2, 2, 2, 2, 2, 2, 2, 2, 2, 2, 2, 2, 2, 2, 2, 2,\n",
              "       2, 2])"
            ]
          },
          "metadata": {},
          "execution_count": 58
        }
      ]
    },
    {
      "cell_type": "code",
      "source": [
        "data.target.shape"
      ],
      "metadata": {
        "id": "Ctup8kbZn4nA",
        "outputId": "99c6baca-2777-4200-f64c-43fc7d914274",
        "colab": {
          "base_uri": "https://localhost:8080/"
        }
      },
      "execution_count": 59,
      "outputs": [
        {
          "output_type": "execute_result",
          "data": {
            "text/plain": [
              "(178,)"
            ]
          },
          "metadata": {},
          "execution_count": 59
        }
      ]
    },
    {
      "cell_type": "code",
      "source": [
        "# other datasets to examine\n",
        "\n",
        "from sklearn.datasets import load_breast_cancer\n",
        "from sklearn.datasets import load_linnerud"
      ],
      "metadata": {
        "id": "ZQQSkaqfoQ-h"
      },
      "execution_count": 61,
      "outputs": []
    },
    {
      "cell_type": "markdown",
      "source": [
        "# Fetchers"
      ],
      "metadata": {
        "id": "MTmpnyD_ovh9"
      }
    },
    {
      "cell_type": "markdown",
      "source": [
        "## fetch_california_housing"
      ],
      "metadata": {
        "id": "Inilm465o7jW"
      }
    },
    {
      "cell_type": "code",
      "source": [
        "# import the library and access the documentation\n",
        "\n",
        "from sklearn.datasets import fetch_california_housing\n",
        "?fetch_california_housing\n"
      ],
      "metadata": {
        "id": "zAdfIOWyovQ8"
      },
      "execution_count": 66,
      "outputs": []
    },
    {
      "cell_type": "code",
      "source": [
        "housing_data = fetch_california_housing()"
      ],
      "metadata": {
        "id": "j67KeJqLogBC"
      },
      "execution_count": 67,
      "outputs": []
    },
    {
      "cell_type": "code",
      "source": [
        "# note the fetch_* also return a bunch object\n",
        "type(housing_data)"
      ],
      "metadata": {
        "id": "-qjJm34FpWHI",
        "outputId": "ae2259d4-17c9-48fe-820f-1c28c105e1f3",
        "colab": {
          "base_uri": "https://localhost:8080/"
        }
      },
      "execution_count": 68,
      "outputs": [
        {
          "output_type": "execute_result",
          "data": {
            "text/plain": [
              "sklearn.utils.Bunch"
            ]
          },
          "metadata": {},
          "execution_count": 68
        }
      ]
    },
    {
      "cell_type": "code",
      "source": [
        "# Examine the bunch object:\n",
        "\n",
        "housing_data.DESCR"
      ],
      "metadata": {
        "id": "wbRKYdNlpbDs",
        "outputId": "baa661c1-5e7e-47f5-faca-b5c8ef9a23c4",
        "colab": {
          "base_uri": "https://localhost:8080/",
          "height": 244
        }
      },
      "execution_count": 69,
      "outputs": [
        {
          "output_type": "execute_result",
          "data": {
            "text/plain": [
              "'.. _california_housing_dataset:\\n\\nCalifornia Housing dataset\\n--------------------------\\n\\n**Data Set Characteristics:**\\n\\n    :Number of Instances: 20640\\n\\n    :Number of Attributes: 8 numeric, predictive attributes and the target\\n\\n    :Attribute Information:\\n        - MedInc        median income in block group\\n        - HouseAge      median house age in block group\\n        - AveRooms      average number of rooms per household\\n        - AveBedrms     average number of bedrooms per household\\n        - Population    block group population\\n        - AveOccup      average number of household members\\n        - Latitude      block group latitude\\n        - Longitude     block group longitude\\n\\n    :Missing Attribute Values: None\\n\\nThis dataset was obtained from the StatLib repository.\\nhttps://www.dcc.fc.up.pt/~ltorgo/Regression/cal_housing.html\\n\\nThe target variable is the median house value for California districts,\\nexpressed in hundreds of thousands of dollars ($100,000).\\n\\nThis dataset was derived from the 1990 U.S. census, using one row per census\\nblock group. A block group is the smallest geographical unit for which the U.S.\\nCensus Bureau publishes sample data (a block group typically has a population\\nof 600 to 3,000 people).\\n\\nAn household is a group of people residing within a home. Since the average\\nnumber of rooms and bedrooms in this dataset are provided per household, these\\ncolumns may take surpinsingly large values for block groups with few households\\nand many empty houses, such as vacation resorts.\\n\\nIt can be downloaded/loaded using the\\n:func:`sklearn.datasets.fetch_california_housing` function.\\n\\n.. topic:: References\\n\\n    - Pace, R. Kelley and Ronald Barry, Sparse Spatial Autoregressions,\\n      Statistics and Probability Letters, 33 (1997) 291-297\\n'"
            ],
            "application/vnd.google.colaboratory.intrinsic+json": {
              "type": "string"
            }
          },
          "metadata": {},
          "execution_count": 69
        }
      ]
    },
    {
      "cell_type": "code",
      "source": [
        "# find out the shape of feature matrix\n",
        "\n",
        "housing_data.data.shape"
      ],
      "metadata": {
        "id": "HvvwcVilph9y",
        "outputId": "85644ba2-2d59-4fb8-ede0-1ad484d54e0b",
        "colab": {
          "base_uri": "https://localhost:8080/"
        }
      },
      "execution_count": 70,
      "outputs": [
        {
          "output_type": "execute_result",
          "data": {
            "text/plain": [
              "(20640, 8)"
            ]
          },
          "metadata": {},
          "execution_count": 70
        }
      ]
    },
    {
      "cell_type": "code",
      "source": [
        "# list of features\n",
        "\n",
        "housing_data.feature_names"
      ],
      "metadata": {
        "id": "HxRok0j7pwBL",
        "outputId": "67fa8b62-ae77-47f2-b933-33a51eb29954",
        "colab": {
          "base_uri": "https://localhost:8080/"
        }
      },
      "execution_count": 71,
      "outputs": [
        {
          "output_type": "execute_result",
          "data": {
            "text/plain": [
              "['MedInc',\n",
              " 'HouseAge',\n",
              " 'AveRooms',\n",
              " 'AveBedrms',\n",
              " 'Population',\n",
              " 'AveOccup',\n",
              " 'Latitude',\n",
              " 'Longitude']"
            ]
          },
          "metadata": {},
          "execution_count": 71
        }
      ]
    },
    {
      "cell_type": "code",
      "source": [
        "# look at the first five examples\n",
        "\n",
        "housing_data.data[:5]"
      ],
      "metadata": {
        "id": "oqYZOKUvpz4H",
        "outputId": "de1a8feb-e29c-4bc2-8dc8-70941948556d",
        "colab": {
          "base_uri": "https://localhost:8080/"
        }
      },
      "execution_count": 72,
      "outputs": [
        {
          "output_type": "execute_result",
          "data": {
            "text/plain": [
              "array([[ 8.32520000e+00,  4.10000000e+01,  6.98412698e+00,\n",
              "         1.02380952e+00,  3.22000000e+02,  2.55555556e+00,\n",
              "         3.78800000e+01, -1.22230000e+02],\n",
              "       [ 8.30140000e+00,  2.10000000e+01,  6.23813708e+00,\n",
              "         9.71880492e-01,  2.40100000e+03,  2.10984183e+00,\n",
              "         3.78600000e+01, -1.22220000e+02],\n",
              "       [ 7.25740000e+00,  5.20000000e+01,  8.28813559e+00,\n",
              "         1.07344633e+00,  4.96000000e+02,  2.80225989e+00,\n",
              "         3.78500000e+01, -1.22240000e+02],\n",
              "       [ 5.64310000e+00,  5.20000000e+01,  5.81735160e+00,\n",
              "         1.07305936e+00,  5.58000000e+02,  2.54794521e+00,\n",
              "         3.78500000e+01, -1.22250000e+02],\n",
              "       [ 3.84620000e+00,  5.20000000e+01,  6.28185328e+00,\n",
              "         1.08108108e+00,  5.65000000e+02,  2.18146718e+00,\n",
              "         3.78500000e+01, -1.22250000e+02]])"
            ]
          },
          "metadata": {},
          "execution_count": 72
        }
      ]
    },
    {
      "cell_type": "code",
      "source": [
        "# look at the target attribute- single label\n",
        "housing_data.target_names"
      ],
      "metadata": {
        "id": "G8UC6PCQqB3T",
        "outputId": "1ea72f35-d3b4-405b-94f1-2302f24a6d40",
        "colab": {
          "base_uri": "https://localhost:8080/"
        }
      },
      "execution_count": 74,
      "outputs": [
        {
          "output_type": "execute_result",
          "data": {
            "text/plain": [
              "['MedHouseVal']"
            ]
          },
          "metadata": {},
          "execution_count": 74
        }
      ]
    },
    {
      "cell_type": "code",
      "source": [
        "housing_data.target[:5]"
      ],
      "metadata": {
        "id": "BLwluXphqFQ-",
        "outputId": "b74dae5e-6c67-48f9-8d48-2d42483f9ef8",
        "colab": {
          "base_uri": "https://localhost:8080/"
        }
      },
      "execution_count": 76,
      "outputs": [
        {
          "output_type": "execute_result",
          "data": {
            "text/plain": [
              "array([4.526, 3.585, 3.521, 3.413, 3.422])"
            ]
          },
          "metadata": {},
          "execution_count": 76
        }
      ]
    },
    {
      "cell_type": "code",
      "source": [
        "housing_data.target.shape"
      ],
      "metadata": {
        "id": "XXeMnLVjqMnB",
        "outputId": "d5f45690-8555-4e32-8231-e288dea94cb8",
        "colab": {
          "base_uri": "https://localhost:8080/"
        }
      },
      "execution_count": 77,
      "outputs": [
        {
          "output_type": "execute_result",
          "data": {
            "text/plain": [
              "(20640,)"
            ]
          },
          "metadata": {},
          "execution_count": 77
        }
      ]
    },
    {
      "cell_type": "markdown",
      "source": [
        "## fetch_openml"
      ],
      "metadata": {
        "id": "E576qW4bqaRD"
      }
    },
    {
      "cell_type": "code",
      "source": [
        "# openml.org is a public repository for ML data and experimentation. that allows everybody to upload open datasets\n",
        "\n",
        "from sklearn.datasets import fetch_openml\n",
        "?fetch_openml"
      ],
      "metadata": {
        "id": "rrz12QduqU-P"
      },
      "execution_count": 80,
      "outputs": []
    },
    {
      "cell_type": "code",
      "source": [
        "# use it to open the MNIST dataset\n",
        "\n",
        "X, y = fetch_openml('mnist_784', version = 1, return_X_y = True)\n",
        "print(\"feture_matrix  shape\", X.shape)\n",
        "print(\"target_matrix  shape\", y.shape)"
      ],
      "metadata": {
        "id": "x3DP7kkYqkfO",
        "outputId": "4e6200a4-bce0-477c-973c-1c4e1efe13a1",
        "colab": {
          "base_uri": "https://localhost:8080/"
        }
      },
      "execution_count": 81,
      "outputs": [
        {
          "output_type": "stream",
          "name": "stdout",
          "text": [
            "feture_matrix  shape (70000, 784)\n",
            "target_matrix  shape (70000,)\n"
          ]
        }
      ]
    },
    {
      "cell_type": "markdown",
      "source": [
        "## fetch_20newsgroups"
      ],
      "metadata": {
        "id": "IAFNWjZyrVIX"
      }
    },
    {
      "cell_type": "code",
      "source": [
        "from sklearn.datasets import fetch_20newsgroups\n",
        "?fetch_20newsgroups"
      ],
      "metadata": {
        "id": "pyibQYC0ra9-"
      },
      "execution_count": 83,
      "outputs": []
    },
    {
      "cell_type": "code",
      "source": [
        "fetched = fetch_20newsgroups(subset = 'train')"
      ],
      "metadata": {
        "id": "6Y5970RhsQ0A"
      },
      "execution_count": 89,
      "outputs": []
    },
    {
      "cell_type": "code",
      "source": [
        "# The real data lies in the filenames and target attributes. The target attribute is the integer index of the category:"
      ],
      "metadata": {
        "id": "5ilaqO6HtFfc"
      },
      "execution_count": null,
      "outputs": []
    },
    {
      "cell_type": "code",
      "source": [
        "# check the target classes\n",
        "fetched.target_names"
      ],
      "metadata": {
        "id": "PP-I_TtLsmvk",
        "outputId": "5a28c0f2-29cd-4fb9-90e0-984804eb3402",
        "colab": {
          "base_uri": "https://localhost:8080/"
        }
      },
      "execution_count": 91,
      "outputs": [
        {
          "output_type": "execute_result",
          "data": {
            "text/plain": [
              "['alt.atheism',\n",
              " 'comp.graphics',\n",
              " 'comp.os.ms-windows.misc',\n",
              " 'comp.sys.ibm.pc.hardware',\n",
              " 'comp.sys.mac.hardware',\n",
              " 'comp.windows.x',\n",
              " 'misc.forsale',\n",
              " 'rec.autos',\n",
              " 'rec.motorcycles',\n",
              " 'rec.sport.baseball',\n",
              " 'rec.sport.hockey',\n",
              " 'sci.crypt',\n",
              " 'sci.electronics',\n",
              " 'sci.med',\n",
              " 'sci.space',\n",
              " 'soc.religion.christian',\n",
              " 'talk.politics.guns',\n",
              " 'talk.politics.mideast',\n",
              " 'talk.politics.misc',\n",
              " 'talk.religion.misc']"
            ]
          },
          "metadata": {},
          "execution_count": 91
        }
      ]
    },
    {
      "cell_type": "code",
      "source": [
        "fetched.filenames.shape"
      ],
      "metadata": {
        "id": "Njmrh2N7sv8A",
        "outputId": "9acf1ad1-b928-4e0c-a923-20d0d1db910d",
        "colab": {
          "base_uri": "https://localhost:8080/"
        }
      },
      "execution_count": 94,
      "outputs": [
        {
          "output_type": "execute_result",
          "data": {
            "text/plain": [
              "(11314,)"
            ]
          },
          "metadata": {},
          "execution_count": 94
        }
      ]
    },
    {
      "cell_type": "code",
      "source": [
        "fetched.target.shape"
      ],
      "metadata": {
        "id": "jR5AfcyktO8h",
        "outputId": "51f649cb-3879-4260-cb6f-9d6151d6d1c5",
        "colab": {
          "base_uri": "https://localhost:8080/"
        }
      },
      "execution_count": 95,
      "outputs": [
        {
          "output_type": "execute_result",
          "data": {
            "text/plain": [
              "(11314,)"
            ]
          },
          "metadata": {},
          "execution_count": 95
        }
      ]
    },
    {
      "cell_type": "code",
      "source": [
        "fetched.target[:5]"
      ],
      "metadata": {
        "id": "Mo9KSKsPtW1L",
        "outputId": "f0a1258f-f914-4827-9f14-af2015abb63a",
        "colab": {
          "base_uri": "https://localhost:8080/"
        }
      },
      "execution_count": 96,
      "outputs": [
        {
          "output_type": "execute_result",
          "data": {
            "text/plain": [
              "array([ 7,  4,  4,  1, 14])"
            ]
          },
          "metadata": {},
          "execution_count": 96
        }
      ]
    },
    {
      "cell_type": "code",
      "source": [
        "fetched.filenames[:5]"
      ],
      "metadata": {
        "id": "XyUIy-3jtaHe",
        "outputId": "2ede42ee-cc93-4af0-8a4e-382c0125fb14",
        "colab": {
          "base_uri": "https://localhost:8080/"
        }
      },
      "execution_count": 97,
      "outputs": [
        {
          "output_type": "execute_result",
          "data": {
            "text/plain": [
              "array(['/root/scikit_learn_data/20news_home/20news-bydate-train/rec.autos/102994',\n",
              "       '/root/scikit_learn_data/20news_home/20news-bydate-train/comp.sys.mac.hardware/51861',\n",
              "       '/root/scikit_learn_data/20news_home/20news-bydate-train/comp.sys.mac.hardware/51879',\n",
              "       '/root/scikit_learn_data/20news_home/20news-bydate-train/comp.graphics/38242',\n",
              "       '/root/scikit_learn_data/20news_home/20news-bydate-train/sci.space/60880'],\n",
              "      dtype='<U86')"
            ]
          },
          "metadata": {},
          "execution_count": 97
        }
      ]
    },
    {
      "cell_type": "markdown",
      "source": [
        "## fetch_kddcup99"
      ],
      "metadata": {
        "id": "8vNtHYJVsJSa"
      }
    },
    {
      "cell_type": "code",
      "source": [
        "from sklearn.datasets import fetch_kddcup99\n",
        "?fetch_kddcup99"
      ],
      "metadata": {
        "id": "OBUJ55L6rm_z"
      },
      "execution_count": 98,
      "outputs": []
    },
    {
      "cell_type": "code",
      "source": [
        "X, y = fetch_kddcup99(return_X_y = True)"
      ],
      "metadata": {
        "id": "L0xWvz6grygv"
      },
      "execution_count": 100,
      "outputs": []
    },
    {
      "cell_type": "code",
      "source": [
        "print(\"feture_matrix  shape\", X.shape)\n",
        "print(\"target_matrix  shape\", y.shape)"
      ],
      "metadata": {
        "id": "6lacvhPMt2i-",
        "outputId": "34c34699-371e-46d9-8630-1223f416c188",
        "colab": {
          "base_uri": "https://localhost:8080/"
        }
      },
      "execution_count": 101,
      "outputs": [
        {
          "output_type": "stream",
          "name": "stdout",
          "text": [
            "feture_matrix  shape (494021, 41)\n",
            "target_matrix  shape (494021,)\n"
          ]
        }
      ]
    },
    {
      "cell_type": "code",
      "source": [
        "kdd = fetch_kddcup99()"
      ],
      "metadata": {
        "id": "YpxH3nmYuBrM"
      },
      "execution_count": 103,
      "outputs": []
    },
    {
      "cell_type": "code",
      "source": [
        "kdd.feature_names"
      ],
      "metadata": {
        "id": "PW_4SCOFuKxj",
        "outputId": "159d199e-72b5-4f71-d63f-77b092fbc1e9",
        "colab": {
          "base_uri": "https://localhost:8080/"
        }
      },
      "execution_count": 104,
      "outputs": [
        {
          "output_type": "execute_result",
          "data": {
            "text/plain": [
              "['duration',\n",
              " 'protocol_type',\n",
              " 'service',\n",
              " 'flag',\n",
              " 'src_bytes',\n",
              " 'dst_bytes',\n",
              " 'land',\n",
              " 'wrong_fragment',\n",
              " 'urgent',\n",
              " 'hot',\n",
              " 'num_failed_logins',\n",
              " 'logged_in',\n",
              " 'num_compromised',\n",
              " 'root_shell',\n",
              " 'su_attempted',\n",
              " 'num_root',\n",
              " 'num_file_creations',\n",
              " 'num_shells',\n",
              " 'num_access_files',\n",
              " 'num_outbound_cmds',\n",
              " 'is_host_login',\n",
              " 'is_guest_login',\n",
              " 'count',\n",
              " 'srv_count',\n",
              " 'serror_rate',\n",
              " 'srv_serror_rate',\n",
              " 'rerror_rate',\n",
              " 'srv_rerror_rate',\n",
              " 'same_srv_rate',\n",
              " 'diff_srv_rate',\n",
              " 'srv_diff_host_rate',\n",
              " 'dst_host_count',\n",
              " 'dst_host_srv_count',\n",
              " 'dst_host_same_srv_rate',\n",
              " 'dst_host_diff_srv_rate',\n",
              " 'dst_host_same_src_port_rate',\n",
              " 'dst_host_srv_diff_host_rate',\n",
              " 'dst_host_serror_rate',\n",
              " 'dst_host_srv_serror_rate',\n",
              " 'dst_host_rerror_rate',\n",
              " 'dst_host_srv_rerror_rate']"
            ]
          },
          "metadata": {},
          "execution_count": 104
        }
      ]
    },
    {
      "cell_type": "code",
      "source": [
        "kdd.target_names"
      ],
      "metadata": {
        "id": "RLqqqixguNmq",
        "outputId": "9991cacb-8de7-4bc3-ac3e-31a22f5045fd",
        "colab": {
          "base_uri": "https://localhost:8080/"
        }
      },
      "execution_count": 106,
      "outputs": [
        {
          "output_type": "execute_result",
          "data": {
            "text/plain": [
              "['labels']"
            ]
          },
          "metadata": {},
          "execution_count": 106
        }
      ]
    },
    {
      "cell_type": "code",
      "source": [
        "kdd.target[:6]"
      ],
      "metadata": {
        "id": "UfJ_yxmfuSS2",
        "outputId": "c479c07f-92f0-4c11-b434-b7a2c01e0358",
        "colab": {
          "base_uri": "https://localhost:8080/"
        }
      },
      "execution_count": 108,
      "outputs": [
        {
          "output_type": "execute_result",
          "data": {
            "text/plain": [
              "array([b'normal.', b'normal.', b'normal.', b'normal.', b'normal.',\n",
              "       b'normal.'], dtype=object)"
            ]
          },
          "metadata": {},
          "execution_count": 108
        }
      ]
    },
    {
      "cell_type": "markdown",
      "source": [
        "# Generators"
      ],
      "metadata": {
        "id": "Nwa5t2vYrT-d"
      }
    },
    {
      "cell_type": "markdown",
      "source": [
        "## make_regression"
      ],
      "metadata": {
        "id": "6g2eS9PYuijR"
      }
    },
    {
      "cell_type": "code",
      "source": [
        "from sklearn.datasets import make_regression\n",
        "?make_regression"
      ],
      "metadata": {
        "id": "ZX1N8TZqrCIR"
      },
      "execution_count": 111,
      "outputs": []
    },
    {
      "cell_type": "code",
      "source": [
        "# lets generate 100 samples with 5 features for a single label regression problem\n",
        "\n",
        "X, y = make_regression(n_samples = 100, n_features = 5, n_targets = 1, shuffle = True, random_state = 42)"
      ],
      "metadata": {
        "id": "mA1RCRJsunty"
      },
      "execution_count": 112,
      "outputs": []
    },
    {
      "cell_type": "code",
      "source": [
        "# examine\n",
        "\n",
        "X.shape"
      ],
      "metadata": {
        "id": "ZUdmIGtLu1G9",
        "outputId": "70e411a5-74eb-4f89-ea53-5922ced8aca1",
        "colab": {
          "base_uri": "https://localhost:8080/"
        }
      },
      "execution_count": 113,
      "outputs": [
        {
          "output_type": "execute_result",
          "data": {
            "text/plain": [
              "(100, 5)"
            ]
          },
          "metadata": {},
          "execution_count": 113
        }
      ]
    },
    {
      "cell_type": "code",
      "source": [
        "y.shape"
      ],
      "metadata": {
        "id": "FjnjbfZRyQrG",
        "outputId": "ad28f0f6-eb05-4fe5-988e-a34621644a4a",
        "colab": {
          "base_uri": "https://localhost:8080/"
        }
      },
      "execution_count": 114,
      "outputs": [
        {
          "output_type": "execute_result",
          "data": {
            "text/plain": [
              "(100,)"
            ]
          },
          "metadata": {},
          "execution_count": 114
        }
      ]
    },
    {
      "cell_type": "code",
      "source": [
        "# Example2: generate 100 samples for regression problem with 6 features and 5outputs\n",
        "\n",
        "X, y = make_regression(n_samples = 100, \n",
        "                       n_features = 6, \n",
        "                       n_targets = 5,\n",
        "                       shuffle = True,\n",
        "                       random_state = 42\n",
        ")"
      ],
      "metadata": {
        "id": "u16cgI80yRk5"
      },
      "execution_count": 116,
      "outputs": []
    },
    {
      "cell_type": "code",
      "source": [
        "X.shape"
      ],
      "metadata": {
        "id": "ENjQXPA5yzTH",
        "outputId": "44c40239-6dac-4173-f43d-80d073be0d5d",
        "colab": {
          "base_uri": "https://localhost:8080/"
        }
      },
      "execution_count": 117,
      "outputs": [
        {
          "output_type": "execute_result",
          "data": {
            "text/plain": [
              "(100, 6)"
            ]
          },
          "metadata": {},
          "execution_count": 117
        }
      ]
    },
    {
      "cell_type": "code",
      "source": [
        "y.shape"
      ],
      "metadata": {
        "id": "gzNgLGsZy5Hw",
        "outputId": "045a7cd4-de54-4713-a66d-1d2c0e019587",
        "colab": {
          "base_uri": "https://localhost:8080/"
        }
      },
      "execution_count": 118,
      "outputs": [
        {
          "output_type": "execute_result",
          "data": {
            "text/plain": [
              "(100, 5)"
            ]
          },
          "metadata": {},
          "execution_count": 118
        }
      ]
    },
    {
      "cell_type": "markdown",
      "source": [
        "## make_classification"
      ],
      "metadata": {
        "id": "u248jK6szDl5"
      }
    },
    {
      "cell_type": "code",
      "source": [
        "from sklearn.datasets import make_classification\n",
        "?make_classification"
      ],
      "metadata": {
        "id": "sVRsDwemy6G3"
      },
      "execution_count": 119,
      "outputs": []
    },
    {
      "cell_type": "code",
      "source": [
        "# create a classification dataset of 100 samples with 10 features and Binary level classification\n",
        "\n",
        "X, y = make_classification(n_samples=100,\n",
        "                           n_features = 10,\n",
        "                           n_classes = 2,\n",
        "                           n_clusters_per_class = 1,\n",
        "                           random_state = 42\n",
        "                           )"
      ],
      "metadata": {
        "id": "v8rTbK5tzL3c"
      },
      "execution_count": 120,
      "outputs": []
    },
    {
      "cell_type": "code",
      "source": [
        "X.shape"
      ],
      "metadata": {
        "id": "p602J8nszvNB",
        "outputId": "d65da031-0dcf-4320-82a9-81408a33c776",
        "colab": {
          "base_uri": "https://localhost:8080/"
        }
      },
      "execution_count": 121,
      "outputs": [
        {
          "output_type": "execute_result",
          "data": {
            "text/plain": [
              "(100, 10)"
            ]
          },
          "metadata": {},
          "execution_count": 121
        }
      ]
    },
    {
      "cell_type": "code",
      "source": [
        "y.shape"
      ],
      "metadata": {
        "id": "gtHL4aSlzwSK",
        "outputId": "99512dd3-25c5-484b-9df6-d8b9eccf83b1",
        "colab": {
          "base_uri": "https://localhost:8080/"
        }
      },
      "execution_count": 122,
      "outputs": [
        {
          "output_type": "execute_result",
          "data": {
            "text/plain": [
              "(100,)"
            ]
          },
          "metadata": {},
          "execution_count": 122
        }
      ]
    },
    {
      "cell_type": "code",
      "source": [
        "X[:5]"
      ],
      "metadata": {
        "id": "MM0S6zJZzxRa",
        "outputId": "125232fe-dfe8-403e-cd6e-fb35b9823eb6",
        "colab": {
          "base_uri": "https://localhost:8080/"
        }
      },
      "execution_count": 123,
      "outputs": [
        {
          "output_type": "execute_result",
          "data": {
            "text/plain": [
              "array([[ 0.11422765, -1.71016839, -0.06822216, -0.14928517,  0.30780177,\n",
              "         0.15030176, -0.05694562, -0.22595246, -0.36361221, -0.13818757],\n",
              "       [ 0.70775194, -1.57022472, -0.23503183, -0.63604713,  0.62180996,\n",
              "        -0.56246678,  0.97255445, -0.77719676,  0.63240774, -0.47809669],\n",
              "       [ 0.63859246,  0.04739867,  0.33273433,  1.1046981 , -0.65183611,\n",
              "        -1.66152006, -1.2110162 ,  1.09821151, -0.0660798 ,  0.68024225],\n",
              "       [-0.23894805, -0.97755524,  0.0379061 ,  0.19896733,  0.50091719,\n",
              "        -0.90756366,  0.75539123,  0.12437227, -0.57677133,  0.07871283],\n",
              "       [-0.59239392, -0.05023811,  0.17573204, -1.43949185,  0.27045683,\n",
              "        -0.86399077, -0.83095012,  0.60046915,  0.04852163,  0.32557953]])"
            ]
          },
          "metadata": {},
          "execution_count": 123
        }
      ]
    },
    {
      "cell_type": "code",
      "source": [
        "y[:5]"
      ],
      "metadata": {
        "id": "Fes4-0Vrz3Gk",
        "outputId": "062b3c2c-0111-43d3-e22a-78c176f05cc6",
        "colab": {
          "base_uri": "https://localhost:8080/"
        }
      },
      "execution_count": 124,
      "outputs": [
        {
          "output_type": "execute_result",
          "data": {
            "text/plain": [
              "array([1, 1, 1, 1, 0])"
            ]
          },
          "metadata": {},
          "execution_count": 124
        }
      ]
    },
    {
      "cell_type": "markdown",
      "source": [
        "## make_multilabel_classification"
      ],
      "metadata": {
        "id": "Uk3-Uw1a0AN8"
      }
    },
    {
      "cell_type": "code",
      "source": [
        "from sklearn.datasets import make_multilabel_classification\n",
        "?make_multilabel_classification"
      ],
      "metadata": {
        "id": "Siw6Fjhnz4Zn"
      },
      "execution_count": 125,
      "outputs": []
    },
    {
      "cell_type": "code",
      "source": [
        "# Lets generate multilevel classification problem with 100 samples and 10 features and 5 labels and on an average 2 labels per example\n",
        "\n",
        "X, y = make_multilabel_classification(n_samples = 100,\n",
        "                                      n_features = 10,\n",
        "                                      n_classes = 5,\n",
        "                                      n_labels = 2)"
      ],
      "metadata": {
        "id": "nXwVDTeP0IgY"
      },
      "execution_count": 127,
      "outputs": []
    },
    {
      "cell_type": "code",
      "source": [
        "X.shape"
      ],
      "metadata": {
        "id": "G-EdGzF60oWp",
        "outputId": "a6cf6726-942f-4009-a9df-62eb696410fb",
        "colab": {
          "base_uri": "https://localhost:8080/"
        }
      },
      "execution_count": 128,
      "outputs": [
        {
          "output_type": "execute_result",
          "data": {
            "text/plain": [
              "(100, 10)"
            ]
          },
          "metadata": {},
          "execution_count": 128
        }
      ]
    },
    {
      "cell_type": "code",
      "source": [
        "y.shape"
      ],
      "metadata": {
        "id": "peD_saaC0s61",
        "outputId": "eceb995a-c183-424f-cee7-9820bff3a186",
        "colab": {
          "base_uri": "https://localhost:8080/"
        }
      },
      "execution_count": 129,
      "outputs": [
        {
          "output_type": "execute_result",
          "data": {
            "text/plain": [
              "(100, 5)"
            ]
          },
          "metadata": {},
          "execution_count": 129
        }
      ]
    },
    {
      "cell_type": "code",
      "source": [
        "X[:5]"
      ],
      "metadata": {
        "id": "EXTTMRaQ0thu",
        "outputId": "cbbed7f1-61db-4459-bfc7-35a1b14e8f48",
        "colab": {
          "base_uri": "https://localhost:8080/"
        }
      },
      "execution_count": 130,
      "outputs": [
        {
          "output_type": "execute_result",
          "data": {
            "text/plain": [
              "array([[ 7.,  6.,  3.,  3.,  7.,  6.,  6.,  4.,  8.,  2.],\n",
              "       [ 4.,  1.,  2.,  3.,  4.,  4.,  4.,  5.,  4.,  8.],\n",
              "       [11.,  5.,  3.,  4.,  2.,  5.,  0.,  4.,  5.,  3.],\n",
              "       [ 7.,  1.,  0.,  1.,  7.,  7.,  2.,  3.,  9.,  7.],\n",
              "       [ 5.,  2.,  3.,  5.,  2., 10.,  8.,  1.,  2.,  8.]])"
            ]
          },
          "metadata": {},
          "execution_count": 130
        }
      ]
    },
    {
      "cell_type": "code",
      "source": [
        "y[:5]"
      ],
      "metadata": {
        "id": "3qYmMfYI0vPe",
        "outputId": "97388f62-d35c-4c09-bf45-31c7bbe4a7d7",
        "colab": {
          "base_uri": "https://localhost:8080/"
        }
      },
      "execution_count": 131,
      "outputs": [
        {
          "output_type": "execute_result",
          "data": {
            "text/plain": [
              "array([[0, 0, 1, 0, 0],\n",
              "       [0, 1, 1, 0, 1],\n",
              "       [0, 1, 1, 1, 0],\n",
              "       [0, 1, 0, 0, 0],\n",
              "       [0, 0, 0, 0, 1]])"
            ]
          },
          "metadata": {},
          "execution_count": 131
        }
      ]
    },
    {
      "cell_type": "markdown",
      "source": [
        "## make_blobs"
      ],
      "metadata": {
        "id": "Tx6Zz8of01C_"
      }
    },
    {
      "cell_type": "code",
      "source": [
        "from sklearn.datasets import make_blobs\n",
        "?make_blobs"
      ],
      "metadata": {
        "id": "E3jXhMcU0wjH"
      },
      "execution_count": 133,
      "outputs": []
    },
    {
      "cell_type": "code",
      "source": [
        "# make_blobs enables us to generate random data for clustering\n",
        "\n",
        "# make data set of 10 samples with 2 features each for clustering\n",
        "X, y = make_blobs(n_samples = 10,\n",
        "                  centers = 3,\n",
        "                  n_features = 2,\n",
        "                  random_state = 42)"
      ],
      "metadata": {
        "id": "K2Koc-2O0_kN"
      },
      "execution_count": 135,
      "outputs": []
    },
    {
      "cell_type": "code",
      "source": [
        "X.shape"
      ],
      "metadata": {
        "id": "17jqhfNe1blt",
        "outputId": "b0824a39-1827-4415-b572-a9a429cdb0aa",
        "colab": {
          "base_uri": "https://localhost:8080/"
        }
      },
      "execution_count": 136,
      "outputs": [
        {
          "output_type": "execute_result",
          "data": {
            "text/plain": [
              "(10, 2)"
            ]
          },
          "metadata": {},
          "execution_count": 136
        }
      ]
    },
    {
      "cell_type": "code",
      "source": [
        "y.shape"
      ],
      "metadata": {
        "id": "Sj9tB4Lq1jqf",
        "outputId": "c46006dc-e3ee-458f-84da-d8ea610d85b8",
        "colab": {
          "base_uri": "https://localhost:8080/"
        }
      },
      "execution_count": 137,
      "outputs": [
        {
          "output_type": "execute_result",
          "data": {
            "text/plain": [
              "(10,)"
            ]
          },
          "metadata": {},
          "execution_count": 137
        }
      ]
    },
    {
      "cell_type": "code",
      "source": [
        "X"
      ],
      "metadata": {
        "id": "LoO2YJzs1kug",
        "outputId": "81ed2600-28d3-4dc6-8656-e2cf250c2908",
        "colab": {
          "base_uri": "https://localhost:8080/"
        }
      },
      "execution_count": 141,
      "outputs": [
        {
          "output_type": "execute_result",
          "data": {
            "text/plain": [
              "array([[-5.41397842, -7.10588589],\n",
              "       [-7.42400992, -6.769187  ],\n",
              "       [ 3.62704772,  2.28741702],\n",
              "       [-6.81209899, -8.30485778],\n",
              "       [-2.26723535,  7.10100588],\n",
              "       [-2.97867201,  9.55684617],\n",
              "       [-0.92998481,  9.78172086],\n",
              "       [ 2.914961  ,  1.41088215],\n",
              "       [ 3.73185476,  0.56086598],\n",
              "       [-2.97261532,  8.54855637]])"
            ]
          },
          "metadata": {},
          "execution_count": 141
        }
      ]
    },
    {
      "cell_type": "code",
      "source": [
        "y[:5]"
      ],
      "metadata": {
        "id": "0svFasHA1lso",
        "outputId": "f478f680-953d-439a-fee4-9dfaac7f9109",
        "colab": {
          "base_uri": "https://localhost:8080/"
        }
      },
      "execution_count": 139,
      "outputs": [
        {
          "output_type": "execute_result",
          "data": {
            "text/plain": [
              "array([2, 2, 1, 2, 0])"
            ]
          },
          "metadata": {},
          "execution_count": 139
        }
      ]
    },
    {
      "cell_type": "code",
      "source": [
        "y"
      ],
      "metadata": {
        "id": "-BQhWNo21nkf",
        "outputId": "ce65eea3-41ed-47d0-ba26-2c76a358867f",
        "colab": {
          "base_uri": "https://localhost:8080/"
        }
      },
      "execution_count": 140,
      "outputs": [
        {
          "output_type": "execute_result",
          "data": {
            "text/plain": [
              "array([2, 2, 1, 2, 0, 0, 0, 1, 1, 0])"
            ]
          },
          "metadata": {},
          "execution_count": 140
        }
      ]
    },
    {
      "cell_type": "code",
      "source": [],
      "metadata": {
        "id": "OpCJEUlC1pLJ"
      },
      "execution_count": null,
      "outputs": []
    }
  ]
}