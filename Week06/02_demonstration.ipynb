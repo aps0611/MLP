{
  "nbformat": 4,
  "nbformat_minor": 0,
  "metadata": {
    "colab": {
      "provenance": []
    },
    "kernelspec": {
      "name": "python3",
      "display_name": "Python 3"
    },
    "language_info": {
      "name": "python"
    }
  },
  "cells": [
    {
      "cell_type": "markdown",
      "source": [
        "Some pointers:\n",
        "\n",
        "1. Logistic regression is the workhorse of machine learning.\n",
        "2. Before deep learning era, logistic regression was the default choice for solving real life\n",
        "classification problems with hundreds of thousands of features.\n",
        "3. It works in binary, multi-class and multi-label classification set ups.\n"
      ],
      "metadata": {
        "id": "gxWaPBqCo_DJ"
      }
    },
    {
      "cell_type": "code",
      "source": [
        "# Imports:\n",
        "\n",
        "import numpy as np\n",
        "from pprint import pprint\n",
        "from tempfile import mkdtemp\n",
        "from shutil import rmtree\n",
        "\n",
        "# to make this notebook output stable across the runs:\n",
        "np.random.seed(42)\n",
        "\n",
        "# sklearn specific imports\n",
        "from sklearn.preprocessing import MinMaxScaler\n",
        "from sklearn.pipeline import make_pipeline\n",
        "from sklearn.dummy import DummyClassifier\n",
        "from sklearn.linear_model import SGDClassifier, RidgeClassifier, LogisticRegression\n",
        "from sklearn.model_selection import cross_validate, RandomizedSearchCV, cross_val_predict\n",
        "from sklearn.metrics import ConfusionMatrixDisplay\n",
        "from sklearn.metrics import log_loss\n",
        "from sklearn.metrics import precision_score, recall_score, classification_report\n",
        "from sklearn.metrics import roc_curve, roc_auc_score\n",
        "\n",
        "# scipy\n",
        "from scipy.stats import loguniform\n",
        "\n",
        "# to plot the pretty figures\n",
        "%matplotlib inline\n",
        "import matplotlib.pyplot as mpl\n",
        "import matplotlib.pyplot as plt\n",
        "import seaborn as sns\n",
        "\n",
        "# global settings\n",
        "mpl.rc(\"axes\", labelsize = 14)\n",
        "mpl.rc('xtick', labelsize = 12)\n",
        "mpl.rc('ytick', labelsize = 12)\n",
        "mpl.rc('figure', figsize = (8,6))\n",
        "\n",
        "\n"
      ],
      "metadata": {
        "id": "voShUHDRpJ_g"
      },
      "execution_count": 5,
      "outputs": []
    },
    {
      "cell_type": "code",
      "source": [
        "# Ignore all the warnings (convergence ...) by sklearn\n",
        "\n",
        "def warn(*args, **kwargs):\n",
        "  pass\n",
        "\n",
        "import warnings\n",
        "warnings.warn = warn"
      ],
      "metadata": {
        "id": "TL7zZC3NxND2"
      },
      "execution_count": 6,
      "outputs": []
    },
    {
      "cell_type": "markdown",
      "source": [
        "# Note on classification steps"
      ],
      "metadata": {
        "id": "p7UeT2IrzQT3"
      }
    },
    {
      "cell_type": "markdown",
      "source": [
        "Each classifier implemented for addressing this problem has the following steps:\n",
        "* Preprocessing\n",
        "* Classification\n",
        "* Train with cross validation\n",
        "* [Optional] Hyper-parameter tuning\n",
        "* Performance evaluation\n",
        "\n",
        "\n"
      ],
      "metadata": {
        "id": "tvOjkdUGzSfN"
      }
    },
    {
      "cell_type": "markdown",
      "source": [
        "# handwritten digit classification"
      ],
      "metadata": {
        "id": "agXdorS4y9W2"
      }
    },
    {
      "cell_type": "markdown",
      "source": [
        "We are going to repeat the digit recognition task with the following classifiers\n",
        "1. SGD classifier.\n",
        "2. Logistic Regression.\n",
        "3. Ridge Classifier.\n",
        "\n",
        "We make use of same **MNIST** dataset."
      ],
      "metadata": {
        "id": "-D3cQMVXzb9T"
      }
    },
    {
      "cell_type": "code",
      "source": [
        "from sklearn.datasets import fetch_openml\n",
        "X_pd, y_pd = fetch_openml('mnist_784', version = 1, return_X_y = True)"
      ],
      "metadata": {
        "id": "aYV0V1ayzSLg"
      },
      "execution_count": 7,
      "outputs": []
    },
    {
      "cell_type": "code",
      "source": [
        "# convert to numpy array\n",
        "\n",
        "X = X_pd.to_numpy()\n",
        "y = y_pd.to_numpy()"
      ],
      "metadata": {
        "id": "5FaEq_2Dy64Z"
      },
      "execution_count": 8,
      "outputs": []
    },
    {
      "cell_type": "markdown",
      "source": [
        "# Preprocessing"
      ],
      "metadata": {
        "id": "FqzawUJt0Xkl"
      }
    },
    {
      "cell_type": "markdown",
      "source": [
        "* Unlike perceptron, where scaling the range is optional (but recommended), sigmoid\n",
        "requires scaling the feature range between 0 to 1.\n",
        "* Contemplate the consequences if we don't apply the scaling operation on the input\n",
        "datapoints.\n",
        "* Note: Do not apply mean centering as it removes zeros from the data, however, zeros\n",
        "should be zeros in the dataset\n",
        "* Since we already visualized the samples in the dataset and know sufficient details, we are\n",
        "going to use pipeline to make the code compact."
      ],
      "metadata": {
        "id": "dI3_dUVP0ad2"
      }
    },
    {
      "cell_type": "code",
      "source": [
        "scaler = MinMaxScaler()\n",
        "x = scaler.fit_transform(X)"
      ],
      "metadata": {
        "id": "bPdYaB340HJX"
      },
      "execution_count": 12,
      "outputs": []
    },
    {
      "cell_type": "code",
      "source": [
        "# Mean\n",
        "np.mean(X)"
      ],
      "metadata": {
        "colab": {
          "base_uri": "https://localhost:8080/"
        },
        "id": "LjffbAdA1ZKr",
        "outputId": "3962ad4d-3283-40db-91c1-acdd84f4d5a9"
      },
      "execution_count": 14,
      "outputs": [
        {
          "output_type": "execute_result",
          "data": {
            "text/plain": [
              "33.385964741253645"
            ]
          },
          "metadata": {},
          "execution_count": 14
        }
      ]
    },
    {
      "cell_type": "code",
      "source": [
        "# sd\n",
        "np.std(X)"
      ],
      "metadata": {
        "colab": {
          "base_uri": "https://localhost:8080/"
        },
        "id": "EEh9y4GG1lHB",
        "outputId": "983d6ec2-c540-4ce6-a728-f8f56d7401fc"
      },
      "execution_count": 16,
      "outputs": [
        {
          "output_type": "execute_result",
          "data": {
            "text/plain": [
              "78.65437362689433"
            ]
          },
          "metadata": {},
          "execution_count": 16
        }
      ]
    },
    {
      "cell_type": "code",
      "source": [
        "# min and max\n",
        "np.min(X), np.max(X)"
      ],
      "metadata": {
        "colab": {
          "base_uri": "https://localhost:8080/"
        },
        "id": "uYDTaavt1oPI",
        "outputId": "f322a2b9-5e30-49af-bef8-886ae7dce6a3"
      },
      "execution_count": 17,
      "outputs": [
        {
          "output_type": "execute_result",
          "data": {
            "text/plain": [
              "(0.0, 255.0)"
            ]
          },
          "metadata": {},
          "execution_count": 17
        }
      ]
    },
    {
      "cell_type": "code",
      "source": [
        "# lets get some more information about the dataset:\n",
        "\n",
        "target_names = np.unique(y)\n",
        "\n",
        "# number of samples\n",
        "X.shape[0], X.dtype"
      ],
      "metadata": {
        "colab": {
          "base_uri": "https://localhost:8080/"
        },
        "id": "BdOFj5Fu1vc-",
        "outputId": "f80c9a11-e216-4bae-89b5-f9e4a7e6702d"
      },
      "execution_count": 26,
      "outputs": [
        {
          "output_type": "execute_result",
          "data": {
            "text/plain": [
              "(70000, dtype('float64'))"
            ]
          },
          "metadata": {},
          "execution_count": 26
        }
      ]
    },
    {
      "cell_type": "code",
      "source": [
        "# Number of features:\n",
        "\n",
        "X.shape[1]"
      ],
      "metadata": {
        "colab": {
          "base_uri": "https://localhost:8080/"
        },
        "id": "Y4wcR_4U15i4",
        "outputId": "1809d500-1bfe-47ee-aeb0-38b42248e4d9"
      },
      "execution_count": 27,
      "outputs": [
        {
          "output_type": "execute_result",
          "data": {
            "text/plain": [
              "784"
            ]
          },
          "metadata": {},
          "execution_count": 27
        }
      ]
    },
    {
      "cell_type": "code",
      "source": [
        "# number of classes and names of classes\n",
        "\n",
        "len(target_names) , y.dtype, target_names\n"
      ],
      "metadata": {
        "colab": {
          "base_uri": "https://localhost:8080/"
        },
        "id": "yo_8BKWJ2HU-",
        "outputId": "ec281451-364e-4be1-e888-e734cb63d548"
      },
      "execution_count": 28,
      "outputs": [
        {
          "output_type": "execute_result",
          "data": {
            "text/plain": [
              "(10,\n",
              " dtype('O'),\n",
              " array(['0', '1', '2', '3', '4', '5', '6', '7', '8', '9'], dtype=object))"
            ]
          },
          "metadata": {},
          "execution_count": 28
        }
      ]
    },
    {
      "cell_type": "markdown",
      "source": [
        "# Data Visualization:"
      ],
      "metadata": {
        "id": "zvnK1mg72ooO"
      }
    },
    {
      "cell_type": "code",
      "source": [
        "num_images = 9 # choose the square number\n",
        "factor = np.int(np.sqrt(num_images))\n",
        "fig, ax = plt.subplots(nrows= factor, ncols = factor, figsize = (8,6))\n",
        "idx_offset = 0 # take \"num_images\" starting from the index \"idx_offset\"\n",
        "for i in range(factor):\n",
        "  index = idx_offset+i*(factor)\n",
        "  for j in range(factor):\n",
        "    ax[i,j].imshow(X[index+j].reshape(28,28),cmap='gray')\n",
        "    ax[i,j].set_title('Label:{0}'.format(str(y[index+j])))\n",
        "    ax[i,j].set_axis_off()"
      ],
      "metadata": {
        "colab": {
          "base_uri": "https://localhost:8080/",
          "height": 373
        },
        "id": "OIou493i2Qxa",
        "outputId": "2668e483-780a-4c99-a386-149800d63129"
      },
      "execution_count": 29,
      "outputs": [
        {
          "output_type": "display_data",
          "data": {
            "text/plain": [
              "<Figure size 576x432 with 9 Axes>"
            ],
            "image/png": "[encoded data removed]"
          },
          "metadata": {
            "needs_background": "light"
          }
        }
      ]
    },
    {
      "cell_type": "markdown",
      "source": [
        "# data split"
      ],
      "metadata": {
        "id": "LQmsIKhX4HjC"
      }
    },
    {
      "cell_type": "code",
      "source": [
        "# Split the dataset into training and testing set.\n",
        "\n",
        "x_train,x_test,y_train,y_test = X[:60000], X[60000:], y[:60000], y[60000:]"
      ],
      "metadata": {
        "id": "iaoKzgsd0F-d"
      },
      "execution_count": 30,
      "outputs": []
    },
    {
      "cell_type": "code",
      "source": [
        "# check if the dataset is balanced or not\n",
        "\n",
        "plt.figure(figsize = (10,4))\n",
        "sns.histplot(data= np.int8(y_train), binwidth = 0.45, bins = 11)\n",
        "plt.xticks(ticks = [0,1,2,3,4,5,6,7,8,9], labels = [0,1,2,3,4,5,6,7,8,9])\n",
        "plt.xlabel('class')\n",
        "plt.title('Distribution of samples')\n",
        "plt.show()"
      ],
      "metadata": {
        "colab": {
          "base_uri": "https://localhost:8080/",
          "height": 302
        },
        "id": "tRhoSLre29Vx",
        "outputId": "4d00dcfc-1882-4d30-bd42-890aea69ebe5"
      },
      "execution_count": 32,
      "outputs": [
        {
          "output_type": "display_data",
          "data": {
            "text/plain": [
              "<Figure size 720x288 with 1 Axes>"
            ],
            "image/png": "[encoded data removed]"
          },
          "metadata": {
            "needs_background": "light"
          }
        }
      ]
    },
    {
      "cell_type": "markdown",
      "source": [
        "# Binary Classification : 0-Detector"
      ],
      "metadata": {
        "id": "WWFzMvjz6QGm"
      }
    },
    {
      "cell_type": "markdown",
      "source": [
        "* Let us start with a simple classification problem, that is, binary classification.\n",
        "* Since the original label vector contains 10 classes, we need to modfiy the number of\n",
        "classes to 2. Therefore, the label '0' will be changed to '1' and all other labels (1-9) will be\n",
        "changed to '0'.\n",
        "(Important: for perceptron we set the negative labels to -1)"
      ],
      "metadata": {
        "id": "ZUksr0K26R1N"
      }
    },
    {
      "cell_type": "code",
      "source": [
        "# intialize new variable names with all -1\n",
        "\n",
        "y_train_0 = np.zeros((len(y_train)))\n",
        "y_test_0 = np.zeros((len(y_test)))"
      ],
      "metadata": {
        "id": "HfA03zpM4_po"
      },
      "execution_count": 33,
      "outputs": []
    },
    {
      "cell_type": "code",
      "source": [
        "# find indices of digit 0 image\n",
        "indx_0 = np.where(y_train =='0') # remember original labels are of type str not int\n",
        "# use those indices to modify y_train_0&y_test_0\n",
        "y_train_0[indx_0] = 1\n",
        "indx_0 = np.where(y_test == '0')\n",
        "y_test_0[indx_0] = 1"
      ],
      "metadata": {
        "id": "CCi9nSpL6cGs"
      },
      "execution_count": 34,
      "outputs": []
    },
    {
      "cell_type": "markdown",
      "source": [
        "Sanity check\n",
        "* Let's display the elements of y_train and y_train_0 to verify whether the labels are\n",
        "properly modified."
      ],
      "metadata": {
        "id": "pAYGAcI06slS"
      }
    },
    {
      "cell_type": "code",
      "source": [
        "num_images = 9 # Choose a square number\n",
        "factor = np.int(np.sqrt(num_images))\n",
        "fig,ax = plt.subplots(nrows=factor,ncols=factor,figsize=(8,6))\n",
        "idx_offset = 0 # take \"num_images\" starting from the index \"idx_offset\"\n",
        "for i in range(factor):\n",
        "  index = idx_offset+i*(factor)\n",
        "  for j in range(factor):\n",
        "    ax[i,j].imshow(X[index+j].reshape(28,28),cmap='gray')\n",
        "    ax[i,j].set_title('Label:{0}'.format(str(y_train_0[index+j])))\n",
        "    ax[i,j].set_axis_off()"
      ],
      "metadata": {
        "colab": {
          "base_uri": "https://localhost:8080/",
          "height": 373
        },
        "id": "BQr6HPIB6lqb",
        "outputId": "341ed8ab-8b68-4ce3-e409-215a0c99ce58"
      },
      "execution_count": 35,
      "outputs": [
        {
          "output_type": "display_data",
          "data": {
            "text/plain": [
              "<Figure size 576x432 with 9 Axes>"
            ],
            "image/png": "[encoded data removed]"
          },
          "metadata": {
            "needs_background": "light"
          }
        }
      ]
    },
    {
      "cell_type": "markdown",
      "source": [
        "# Baseline Model:"
      ],
      "metadata": {
        "id": "18euCQh865hQ"
      }
    },
    {
      "cell_type": "markdown",
      "source": [
        "1. Count the number of samples per class\n",
        "2. the model always outputs the class which has the highestnumber of samples\n",
        "3. then calculate the accuracy of the baseline model"
      ],
      "metadata": {
        "id": "m4N57B706_sH"
      }
    },
    {
      "cell_type": "code",
      "source": [
        "num_pos = len(np.where(y_train_0==1)[0])\n",
        "num_neg = len(np.where(y_train_0==0)[0])\n",
        "print(num_pos,num_neg)"
      ],
      "metadata": {
        "colab": {
          "base_uri": "https://localhost:8080/"
        },
        "id": "QonRuKvE60Dr",
        "outputId": "c5bae0eb-4cbe-407f-9190-442b21811de8"
      },
      "execution_count": 40,
      "outputs": [
        {
          "output_type": "stream",
          "name": "stdout",
          "text": [
            "5923 54077\n"
          ]
        }
      ]
    },
    {
      "cell_type": "code",
      "source": [
        "base_clf = DummyClassifier(strategy = 'most_frequent')\n",
        "base_clf.fit(x_train, y_train_0)\n",
        "print(base_clf.score(x_train, y_train_0))"
      ],
      "metadata": {
        "colab": {
          "base_uri": "https://localhost:8080/"
        },
        "id": "PRdw4C0M7ale",
        "outputId": "e2f19cf1-2e24-4a04-8519-11f5a3229bb3"
      },
      "execution_count": 41,
      "outputs": [
        {
          "output_type": "stream",
          "name": "stdout",
          "text": [
            "0.9012833333333333\n"
          ]
        }
      ]
    },
    {
      "cell_type": "code",
      "source": [
        "# verification\n",
        "54077/(54077+5923)"
      ],
      "metadata": {
        "colab": {
          "base_uri": "https://localhost:8080/"
        },
        "id": "5Wzd8-wX76WO",
        "outputId": "8b36451a-36e1-41fb-e5e7-055ce3b8c206"
      },
      "execution_count": 43,
      "outputs": [
        {
          "output_type": "execute_result",
          "data": {
            "text/plain": [
              "0.9012833333333333"
            ]
          },
          "metadata": {},
          "execution_count": 43
        }
      ]
    },
    {
      "cell_type": "markdown",
      "source": [
        "# Logistic Regression model"
      ],
      "metadata": {
        "id": "Hr7U83F48EB7"
      }
    },
    {
      "cell_type": "markdown",
      "source": [
        "Let's look into the paramters of the SGDClassifier() estimator implemented in sklearn:\n",
        "class sklearn.linear_model.SGDClassifier(loss='hinge', *, penalty='l2',\n",
        "alpha=0.0001, l1_ratio=0.15, fit_intercept=True, max_iter=1000, tol=0.001,\n",
        "shuffle=True, verbose=0, epsilon=0.1, n_jobs=None, random_state=None,\n",
        "learning_rate='optimal', eta0=0.0, power_t=0.5, early_stopping=False,\n",
        "validation_fraction=0.1, n_iter_no_change=5, class_weight=None, warm_start=False,\n",
        "average=False) .\n",
        "\n",
        "Setting the loss parameter to 'loss=log' makes it a logistic regression classifier.\n",
        "We may refer to documentation for more details on the SGDClassifier class."
      ],
      "metadata": {
        "id": "qBx313LI-RX5"
      }
    },
    {
      "cell_type": "markdown",
      "source": [
        "# Training without regularization"
      ],
      "metadata": {
        "id": "dkZdxBlR-gRw"
      }
    },
    {
      "cell_type": "markdown",
      "source": [
        "* Let's instatiate an object of SGDClassifier.\n",
        "* Since we want to plot learning curve of training, we set max_iter = 1 and\n",
        "warm_start=True .\n",
        "* In addition, we are using constant learning rate throughout the training. For that we set\n",
        "learning_rate='constant' and set the learning rate through eta0=0.01 .\n",
        "* Since we are not using regularization, we set alpha=0 ."
      ],
      "metadata": {
        "id": "7Sj7Rv3P-khu"
      }
    },
    {
      "cell_type": "markdown",
      "source": [
        "set eta0 = 0.01, leaning_rate = 'constant' and alpha = 0"
      ],
      "metadata": {
        "id": "28ZFx6nV-5XW"
      }
    },
    {
      "cell_type": "code",
      "source": [
        "estimator = SGDClassifier(loss = 'log',\n",
        "                            penalty = 'l2',\n",
        "                            max_iter = 1,\n",
        "                            eta0 = 0.01,\n",
        "                            alpha = 0,\n",
        "                            learning_rate = 'constant',\n",
        "                            random_state = 1729,\n",
        "                            warm_start = True\n",
        "                            )\n",
        "\n",
        "pipe_sgd = make_pipeline(MinMaxScaler(), estimator)\n",
        "\n",
        "Loss = []\n",
        "iterations = 100\n",
        "\n",
        "for i in range(iterations):\n",
        "  pipe_sgd.fit(x_train, y_train_0)\n",
        "  y_pred = pipe_sgd.predict_proba(x_train)\n",
        "  Loss.append(log_loss(y_train_0, y_pred))"
      ],
      "metadata": {
        "id": "nULsWw4L8AUX"
      },
      "execution_count": 49,
      "outputs": []
    },
    {
      "cell_type": "code",
      "source": [
        "plt.figure()\n",
        "plt.plot(np.arange(iterations), Loss)\n",
        "plt.grid(True)\n",
        "plt.xlabel('Iteration')\n",
        "plt.ylabel('loss')\n",
        "plt.show()"
      ],
      "metadata": {
        "colab": {
          "base_uri": "https://localhost:8080/",
          "height": 395
        },
        "id": "0CBqu6xB_pui",
        "outputId": "24b292c9-7778-4852-907e-80885c1201b2"
      },
      "execution_count": 50,
      "outputs": [
        {
          "output_type": "display_data",
          "data": {
            "text/plain": [
              "<Figure size 576x432 with 1 Axes>"
            ],
            "image/png": "[encoded data removed]"
          },
          "metadata": {
            "needs_background": "light"
          }
        }
      ]
    },
    {
      "cell_type": "code",
      "source": [
        "# need to check here how the loss function changes if we dont do the min max scaling"
      ],
      "metadata": {
        "id": "igtzMMkWBDUr"
      },
      "execution_count": 51,
      "outputs": []
    },
    {
      "cell_type": "code",
      "source": [
        "# Now that the model is trained, let's us calculate the training and test accuracy of the model.\n",
        "\n",
        "print('Training accuracy: %.2f'%pipe_sgd.score(x_train,y_train_0))\n",
        "print('Testing accuracy: %.2f'%pipe_sgd.score(x_test,y_test_0))"
      ],
      "metadata": {
        "colab": {
          "base_uri": "https://localhost:8080/"
        },
        "id": "sGvGVzkACiYi",
        "outputId": "b1f2a45c-9cc5-4c6e-afcc-941ab842d33f"
      },
      "execution_count": 52,
      "outputs": [
        {
          "output_type": "stream",
          "name": "stdout",
          "text": [
            "Training accuracy: 0.99\n",
            "Testing accuracy: 0.99\n"
          ]
        }
      ]
    },
    {
      "cell_type": "code",
      "source": [
        "# We know that accuracy alone is not a good metric for binary classification.\n",
        "# Let's compute Precision, recall and f1-score for the model."
      ],
      "metadata": {
        "id": "rAuG57aZCo_T"
      },
      "execution_count": 53,
      "outputs": []
    },
    {
      "cell_type": "code",
      "source": [
        "y_hat_train_0 = pipe_sgd.predict(x_train)\n",
        "cm_display = ConfusionMatrixDisplay.from_predictions(y_train_0,y_hat_train_0,values_format = '.5g')\n",
        "plt.show()"
      ],
      "metadata": {
        "colab": {
          "base_uri": "https://localhost:8080/",
          "height": 395
        },
        "id": "udNbwJ3DCs_2",
        "outputId": "fbf1cf10-b092-4f2c-a143-75e416fa956c"
      },
      "execution_count": 55,
      "outputs": [
        {
          "output_type": "display_data",
          "data": {
            "text/plain": [
              "<Figure size 576x432 with 2 Axes>"
            ],
            "image/png": "[encoded data removed]"
          },
          "metadata": {
            "needs_background": "light"
          }
        }
      ]
    },
    {
      "cell_type": "code",
      "source": [
        "print(classification_report(y_train_0, y_hat_train_0))\n",
        "# since we are rounding the digits we are getting the score of 1"
      ],
      "metadata": {
        "colab": {
          "base_uri": "https://localhost:8080/"
        },
        "id": "Bwd0E601CuQo",
        "outputId": "cc3263f1-8cab-44f6-d739-b6c7981e21a1"
      },
      "execution_count": 58,
      "outputs": [
        {
          "output_type": "stream",
          "name": "stdout",
          "text": [
            "              precision    recall  f1-score   support\n",
            "\n",
            "         0.0       1.00      1.00      1.00     54077\n",
            "         1.0       0.98      0.96      0.97      5923\n",
            "\n",
            "    accuracy                           0.99     60000\n",
            "   macro avg       0.99      0.98      0.98     60000\n",
            "weighted avg       0.99      0.99      0.99     60000\n",
            "\n"
          ]
        }
      ]
    },
    {
      "cell_type": "code",
      "source": [
        "# Observe that the off-diagonal elements are not zero, which indicates that a few examples are\n",
        "# misclassified.\n",
        "print(classification_report(y_train_0, y_hat_train_0, digits=3))\n",
        "\n"
      ],
      "metadata": {
        "colab": {
          "base_uri": "https://localhost:8080/"
        },
        "id": "qKDIVjOqC-B4",
        "outputId": "061f1822-188f-44c7-a10b-c4801edbaa69"
      },
      "execution_count": 59,
      "outputs": [
        {
          "output_type": "stream",
          "name": "stdout",
          "text": [
            "              precision    recall  f1-score   support\n",
            "\n",
            "         0.0      0.996     0.998     0.997     54077\n",
            "         1.0      0.977     0.961     0.969      5923\n",
            "\n",
            "    accuracy                          0.994     60000\n",
            "   macro avg      0.987     0.979     0.983     60000\n",
            "weighted avg      0.994     0.994     0.994     60000\n",
            "\n"
          ]
        }
      ]
    },
    {
      "cell_type": "code",
      "source": [
        "# Let's generate classification report on test set.\n",
        "\n",
        "y_hat_test_0 = pipe_sgd.predict(x_test)\n",
        "cm_display = ConfusionMatrixDisplay.from_predictions(y_test_0,y_hat_test_0,values_format='.5g')\n",
        "plt.show()"
      ],
      "metadata": {
        "colab": {
          "base_uri": "https://localhost:8080/",
          "height": 395
        },
        "id": "X75IUeQpDK15",
        "outputId": "af8dda43-46f8-4814-bf2d-e43c1074773c"
      },
      "execution_count": 61,
      "outputs": [
        {
          "output_type": "display_data",
          "data": {
            "text/plain": [
              "<Figure size 576x432 with 2 Axes>"
            ],
            "image/png": "[encoded data removed]"
          },
          "metadata": {
            "needs_background": "light"
          }
        }
      ]
    },
    {
      "cell_type": "code",
      "source": [
        "print(classification_report(y_test_0, y_hat_test_0, digits=3))"
      ],
      "metadata": {
        "colab": {
          "base_uri": "https://localhost:8080/"
        },
        "id": "kO9sE5KeEUDI",
        "outputId": "4199290a-574b-4a8f-aafc-112b604d7486"
      },
      "execution_count": 62,
      "outputs": [
        {
          "output_type": "stream",
          "name": "stdout",
          "text": [
            "              precision    recall  f1-score   support\n",
            "\n",
            "         0.0      0.996     0.995     0.996      9020\n",
            "         1.0      0.956     0.961     0.959       980\n",
            "\n",
            "    accuracy                          0.992     10000\n",
            "   macro avg      0.976     0.978     0.977     10000\n",
            "weighted avg      0.992     0.992     0.992     10000\n",
            "\n"
          ]
        }
      ]
    },
    {
      "cell_type": "markdown",
      "source": [
        "# Cross validation"
      ],
      "metadata": {
        "id": "UTdTghQzEbaM"
      }
    },
    {
      "cell_type": "code",
      "source": [
        "estimator = SGDClassifier(loss = 'log',\n",
        "                            penalty = 'l2',\n",
        "                            max_iter = 100,\n",
        "                            eta0 = 0.01,\n",
        "                            alpha = 0,\n",
        "                            learning_rate = 'constant',\n",
        "                            random_state = 1729,\n",
        "                            warm_start = False\n",
        "                            )\n",
        "\n",
        "# create a pipeline\n",
        "pipe_sgd_cv = make_pipeline(MinMaxScaler(), estimator)\n",
        "\n"
      ],
      "metadata": {
        "id": "VaWW6LtuEZnX"
      },
      "execution_count": 63,
      "outputs": []
    },
    {
      "cell_type": "code",
      "source": [
        "# Now we will train the classifier with cross validation.\n",
        "\n",
        "cv_bin_clf = cross_validate(pipe_sgd_cv,\n",
        "                            x_train,\n",
        "                            y_train_0,\n",
        "                            cv=5,\n",
        "                            scoring=['precision','recall','f1'],\n",
        "                            return_train_score=True)\n",
        "\n",
        "pprint(cv_bin_clf)"
      ],
      "metadata": {
        "colab": {
          "base_uri": "https://localhost:8080/"
        },
        "id": "hAKAeKiyEzGC",
        "outputId": "3d43a222-96c0-4806-a938-9c4bf78a2a06"
      },
      "execution_count": 64,
      "outputs": [
        {
          "output_type": "stream",
          "name": "stdout",
          "text": [
            "{'fit_time': array([2.24622345, 1.23981237, 1.22334194, 1.71431518, 1.19874477]),\n",
            " 'score_time': array([0.06579614, 0.06480861, 0.06656003, 0.06663823, 0.0663867 ]),\n",
            " 'test_f1': array([0.95699831, 0.954371  , 0.9616041 , 0.95870583, 0.95993252]),\n",
            " 'test_precision': array([0.95538721, 0.96382429, 0.97238999, 0.96735395, 0.95952782]),\n",
            " 'test_recall': array([0.95861486, 0.94510135, 0.95105485, 0.95021097, 0.96033755]),\n",
            " 'train_f1': array([0.96495899, 0.96565657, 0.96453452, 0.96373944, 0.96302557]),\n",
            " 'train_precision': array([0.97419355, 0.97321046, 0.96473818, 0.97701149, 0.96404399]),\n",
            " 'train_recall': array([0.95589787, 0.95821903, 0.96433094, 0.95082313, 0.96200929])}\n"
          ]
        }
      ]
    },
    {
      "cell_type": "code",
      "source": [
        "# from the above result we can see that logistic regression is performing better than the perceptron\n",
        "# however, it is a good to check the weight values of all the features and decide whether the regularization could be of any help"
      ],
      "metadata": {
        "id": "IyROGtJXE_Gg"
      },
      "execution_count": 65,
      "outputs": []
    },
    {
      "cell_type": "code",
      "source": [
        "# call the estimator object in the steps of pipeline\n",
        "weights = pipe_sgd[1].coef_\n",
        "bias = pipe_sgd[1].intercept_\n",
        "print('Dimention of Weights w: {0}'.format(weights.shape))\n",
        "print('Bias :{0}'.format(bias))"
      ],
      "metadata": {
        "colab": {
          "base_uri": "https://localhost:8080/"
        },
        "id": "6UDvaS1FFY0n",
        "outputId": "1deb2125-2a89-4971-e46f-ff822d73f5f5"
      },
      "execution_count": 68,
      "outputs": [
        {
          "output_type": "stream",
          "name": "stdout",
          "text": [
            "Dimention of Weights w: (1, 784)\n",
            "Bias :[-4.89339106]\n"
          ]
        }
      ]
    },
    {
      "cell_type": "code",
      "source": [
        "plt.figure()\n",
        "plt.plot(np.arange(0,784),weights[0,:])\n",
        "plt.xlabel('Feature index')\n",
        "plt.ylabel('Weight value')\n",
        "plt.ylim(np.min(weights)-1, np.max(weights)+1)\n",
        "plt.grid()"
      ],
      "metadata": {
        "colab": {
          "base_uri": "https://localhost:8080/",
          "height": 395
        },
        "id": "5igbJMjIFj2r",
        "outputId": "f9834813-bb0b-4e0f-e827-4db44ef3c048"
      },
      "execution_count": 73,
      "outputs": [
        {
          "output_type": "display_data",
          "data": {
            "text/plain": [
              "<Figure size 576x432 with 1 Axes>"
            ],
            "image/png": "[encoded data removed]"
          },
          "metadata": {
            "needs_background": "light"
          }
        }
      ]
    },
    {
      "cell_type": "markdown",
      "source": [
        "* It is interesting to observe how many weight values are exactly zero.\n",
        "* Those features contribute nothing in the classification."
      ],
      "metadata": {
        "id": "yGFQVEthGQpe"
      }
    },
    {
      "cell_type": "code",
      "source": [
        "num_zero_w = weights.shape[1]-np.count_nonzero(weights)\n",
        "print('Number of weights with value zero:%f'%num_zero_w)"
      ],
      "metadata": {
        "colab": {
          "base_uri": "https://localhost:8080/"
        },
        "id": "EOdK05sVFlsM",
        "outputId": "59216f75-d6ce-41f2-acee-6b8c8b00f4da"
      },
      "execution_count": 74,
      "outputs": [
        {
          "output_type": "stream",
          "name": "stdout",
          "text": [
            "Number of weights with value zero:67.000000\n"
          ]
        }
      ]
    },
    {
      "cell_type": "markdown",
      "source": [
        "Looking at the above plot and the performance of the model on training and test, it is\n",
        "obvious that the model do not require any regularization."
      ],
      "metadata": {
        "id": "M5UfJ9KlGWgi"
      }
    },
    {
      "cell_type": "markdown",
      "source": [
        "# Training with regularization"
      ],
      "metadata": {
        "id": "cAjMW5WkHIQ4"
      }
    },
    {
      "cell_type": "markdown",
      "source": [
        "However, what happens to the performance of the model if we penalize, out of temptation,\n",
        "the weight values even to a smaller degree.\n",
        "Think about it."
      ],
      "metadata": {
        "id": "9eL6UVsaHKue"
      }
    },
    {
      "cell_type": "code",
      "source": [
        "bin_sgd_clf_l2 = SGDClassifier(loss = 'log',\n",
        "                            penalty = 'l2',\n",
        "                            max_iter = 1,\n",
        "                            eta0 = 0.01,\n",
        "                            alpha = 0.001,\n",
        "                            learning_rate = 'constant',\n",
        "                            random_state = 1729,\n",
        "                            warm_start = True\n",
        "                            )\n",
        "\n",
        "# create a pipeline\n",
        "pipe_sgd_clf_l2 = make_pipeline(MinMaxScaler(), bin_sgd_clf_l2)"
      ],
      "metadata": {
        "id": "m8-F0Iq6FqSI"
      },
      "execution_count": 79,
      "outputs": []
    },
    {
      "cell_type": "code",
      "source": [
        "loss = []\n",
        "iterations = 100\n",
        "for i in range(iterations):\n",
        "  pipe_sgd_clf_l2.fit(x_train, y_train_0)\n",
        "  y_pred = pipe_sgd_clf_l2.predict_proba(x_train)\n",
        "  loss.append(log_loss(y_train_0, y_pred))"
      ],
      "metadata": {
        "id": "2PqKzLYPHlWa"
      },
      "execution_count": 80,
      "outputs": []
    },
    {
      "cell_type": "code",
      "source": [
        "plt.figure()\n",
        "plt.plot(np.arange(iterations), loss)\n",
        "plt.grid(True)\n",
        "plt.xlabel('Iteration')\n",
        "plt.ylabel('loss')\n",
        "plt.show()"
      ],
      "metadata": {
        "colab": {
          "base_uri": "https://localhost:8080/",
          "height": 395
        },
        "id": "YoNR51lEH98l",
        "outputId": "3d9ab929-a04e-4ab1-fb58-7a54cfe591b9"
      },
      "execution_count": 81,
      "outputs": [
        {
          "output_type": "display_data",
          "data": {
            "text/plain": [
              "<Figure size 576x432 with 1 Axes>"
            ],
            "image/png": "[encoded data removed]"
          },
          "metadata": {
            "needs_background": "light"
          }
        }
      ]
    },
    {
      "cell_type": "code",
      "source": [
        "# loss is slightly higher than non-regularised model"
      ],
      "metadata": {
        "id": "nHv9uQDdIMTU"
      },
      "execution_count": 82,
      "outputs": []
    },
    {
      "cell_type": "code",
      "source": [
        "weights = bin_sgd_clf_l2.coef_\n",
        "bins = bin_sgd_clf_l2.intercept_\n",
        "print(bias)"
      ],
      "metadata": {
        "colab": {
          "base_uri": "https://localhost:8080/"
        },
        "id": "G3Hk7v68ITnF",
        "outputId": "ae1f5798-9bcd-4f86-8a0c-63eadf01d659"
      },
      "execution_count": 86,
      "outputs": [
        {
          "output_type": "stream",
          "name": "stdout",
          "text": [
            "[-4.89339106]\n"
          ]
        }
      ]
    },
    {
      "cell_type": "code",
      "source": [
        "plt.figure()\n",
        "plt.plot(np.arange(0,784),weights[0,:])\n",
        "plt.xlabel('Feature index')\n",
        "plt.ylabel('Weight value')\n",
        "plt.ylim(np.min(weights)-1, np.max(weights)+1)\n",
        "plt.grid()"
      ],
      "metadata": {
        "colab": {
          "base_uri": "https://localhost:8080/",
          "height": 395
        },
        "id": "lO5kF7DUIsKf",
        "outputId": "9bfebb90-ad73-45d0-f0e9-3dc856fa8591"
      },
      "execution_count": 87,
      "outputs": [
        {
          "output_type": "display_data",
          "data": {
            "text/plain": [
              "<Figure size 576x432 with 1 Axes>"
            ],
            "image/png": "[encoded data removed]"
          },
          "metadata": {
            "needs_background": "light"
          }
        }
      ]
    },
    {
      "cell_type": "code",
      "source": [
        "num_zero_w = weights.shape[1]-np.count_nonzero(weights)\n",
        "print('Number of weights with value zero:%f'%num_zero_w)"
      ],
      "metadata": {
        "colab": {
          "base_uri": "https://localhost:8080/"
        },
        "id": "-DHhYD-7JKmh",
        "outputId": "8fa2f552-a83e-4c29-c7db-f515c4070a4b"
      },
      "execution_count": 88,
      "outputs": [
        {
          "output_type": "stream",
          "name": "stdout",
          "text": [
            "Number of weights with value zero:67.000000\n"
          ]
        }
      ]
    },
    {
      "cell_type": "code",
      "source": [
        "# exactly 67 are zero again"
      ],
      "metadata": {
        "id": "CI9HvJPYJQFy"
      },
      "execution_count": 89,
      "outputs": []
    },
    {
      "cell_type": "code",
      "source": [
        "print('Training accuracy: %.2f'%pipe_sgd_clf_l2.score(x_train,y_train_0))\n",
        "print('Testing accuracy: %.2f'%pipe_sgd_clf_l2.score(x_test,y_test_0))"
      ],
      "metadata": {
        "colab": {
          "base_uri": "https://localhost:8080/"
        },
        "id": "UvhOy7SlJSQe",
        "outputId": "0d45bd63-c2dd-48a9-9a2c-475b5588e5fe"
      },
      "execution_count": 90,
      "outputs": [
        {
          "output_type": "stream",
          "name": "stdout",
          "text": [
            "Training accuracy: 0.99\n",
            "Testing accuracy: 0.99\n"
          ]
        }
      ]
    },
    {
      "cell_type": "code",
      "source": [
        "y_hat_train_0 = pipe_sgd_clf_l2.predict(x_train)\n",
        "cm_display = ConfusionMatrixDisplay.from_predictions(y_train_0,y_hat_train_0,values_format = '.5g')\n",
        "plt.show()"
      ],
      "metadata": {
        "colab": {
          "base_uri": "https://localhost:8080/",
          "height": 395
        },
        "id": "3iv9SLf7Jry-",
        "outputId": "a301765f-d91b-4e62-b833-897a8c0a214b"
      },
      "execution_count": 91,
      "outputs": [
        {
          "output_type": "display_data",
          "data": {
            "text/plain": [
              "<Figure size 576x432 with 2 Axes>"
            ],
            "image/png": "[encoded data removed]"
          },
          "metadata": {
            "needs_background": "light"
          }
        }
      ]
    },
    {
      "cell_type": "code",
      "source": [
        "print(classification_report(y_train_0, y_hat_train_0))\n",
        "# since we are rounding the digits we are getting the score of 1"
      ],
      "metadata": {
        "colab": {
          "base_uri": "https://localhost:8080/"
        },
        "id": "VQZEWm1bJ19u",
        "outputId": "a9e948c6-1f38-4072-b235-c021d7624bc6"
      },
      "execution_count": 92,
      "outputs": [
        {
          "output_type": "stream",
          "name": "stdout",
          "text": [
            "              precision    recall  f1-score   support\n",
            "\n",
            "         0.0       0.99      1.00      0.99     54077\n",
            "         1.0       0.98      0.93      0.95      5923\n",
            "\n",
            "    accuracy                           0.99     60000\n",
            "   macro avg       0.99      0.96      0.97     60000\n",
            "weighted avg       0.99      0.99      0.99     60000\n",
            "\n"
          ]
        }
      ]
    },
    {
      "cell_type": "markdown",
      "source": [
        "# display Input images and their predictions"
      ],
      "metadata": {
        "id": "S-UhRMU0KiVf"
      }
    },
    {
      "cell_type": "code",
      "source": [
        "index = 10\n",
        "plt.imshow(x_test[index,:].reshape(28,28), cmap = 'gray')\n",
        "pred = bin_sgd_clf_l2.predict(x_test[index].reshape(1,-1))\n",
        "plt.title(str(pred))\n",
        "plt.show()"
      ],
      "metadata": {
        "colab": {
          "base_uri": "https://localhost:8080/",
          "height": 393
        },
        "id": "q7oY5S0-J6_S",
        "outputId": "6bc99880-57e3-488d-c1a7-58335b715a4f"
      },
      "execution_count": 95,
      "outputs": [
        {
          "output_type": "display_data",
          "data": {
            "text/plain": [
              "<Figure size 576x432 with 1 Axes>"
            ],
            "image/png": "[encoded data removed]"
          },
          "metadata": {
            "needs_background": "light"
          }
        }
      ]
    },
    {
      "cell_type": "code",
      "source": [
        "index = 11\n",
        "plt.imshow(x_test[index,:].reshape(28,28), cmap = 'gray')\n",
        "pred = bin_sgd_clf_l2.predict(x_test[index].reshape(1,-1))\n",
        "plt.title(str(pred))\n",
        "plt.show()"
      ],
      "metadata": {
        "colab": {
          "base_uri": "https://localhost:8080/",
          "height": 393
        },
        "id": "BxWPK_LSK584",
        "outputId": "f99d9bf7-6d96-405e-d9de-3a06a9613f41"
      },
      "execution_count": 96,
      "outputs": [
        {
          "output_type": "display_data",
          "data": {
            "text/plain": [
              "<Figure size 576x432 with 1 Axes>"
            ],
            "image/png": "[encoded data removed]"
          },
          "metadata": {
            "needs_background": "light"
          }
        }
      ]
    },
    {
      "cell_type": "markdown",
      "source": [
        "# Hyper-parameter tuning"
      ],
      "metadata": {
        "id": "3BHsm-7aLOgM"
      }
    },
    {
      "cell_type": "markdown",
      "source": [
        "* The learning rate and regularization rate are two important hyper-parameters of\n",
        "sgdclassifier.\n",
        "* Let's use RandomizedSearchCV() and draw the value from the log-uniform distribution to\n",
        "find a better combination of eta and alpha"
      ],
      "metadata": {
        "id": "o1X_m4mbLVyU"
      }
    },
    {
      "cell_type": "code",
      "source": [
        "eta_grid = loguniform(1e-3,1e-1)\n",
        "alpha_grid = loguniform(1e-7,1e-1)"
      ],
      "metadata": {
        "id": "r4423kPjLIWF"
      },
      "execution_count": 97,
      "outputs": []
    },
    {
      "cell_type": "markdown",
      "source": [
        "* Note that, `eta_grid` & `alpha_grid` are objects that contain a method called `rvs()` which\n",
        "can be called to get random values of given size.\n",
        "* Therefore, we pass this `eta_grid` & `alpha_grid` objects to `RandomizedSearchCV()` .\n",
        "Internally, it makes use of this `rvs()` method of these objects for sampling."
      ],
      "metadata": {
        "id": "_r-nwkQkL12E"
      }
    },
    {
      "cell_type": "code",
      "source": [
        "print(eta_grid.rvs(10, random_state=42))"
      ],
      "metadata": {
        "colab": {
          "base_uri": "https://localhost:8080/"
        },
        "id": "NfpnM_Y-LebZ",
        "outputId": "4dd768ad-ff58-4879-a855-816bd7dade55"
      },
      "execution_count": 98,
      "outputs": [
        {
          "output_type": "stream",
          "name": "stdout",
          "text": [
            "[0.00561152 0.07969455 0.02910636 0.01575132 0.00205134 0.00205111\n",
            " 0.00130667 0.05399484 0.01593052 0.02607025]\n"
          ]
        }
      ]
    },
    {
      "cell_type": "code",
      "source": [
        "estimator= SGDClassifier(loss='log',\n",
        "                         penalty='l2',\n",
        "                         max_iter=100,\n",
        "                         warm_start=False,\n",
        "                         learning_rate='constant',\n",
        "                         eta0=0.01,\n",
        "                         alpha=0,\n",
        "                         random_state=1729)"
      ],
      "metadata": {
        "id": "lz1x0XddMB4A"
      },
      "execution_count": 99,
      "outputs": []
    },
    {
      "cell_type": "code",
      "source": [
        "pipe_sgd_hpt = make_pipeline(MinMaxScaler(),estimator)"
      ],
      "metadata": {
        "id": "uaKK080vMaKG"
      },
      "execution_count": 100,
      "outputs": []
    },
    {
      "cell_type": "code",
      "source": [
        "print(pipe_sgd_hpt)"
      ],
      "metadata": {
        "colab": {
          "base_uri": "https://localhost:8080/"
        },
        "id": "rbkH2pMfMcN0",
        "outputId": "6f30bca8-ef44-40e3-ff6b-71fad54df04c"
      },
      "execution_count": 101,
      "outputs": [
        {
          "output_type": "stream",
          "name": "stdout",
          "text": [
            "Pipeline(steps=[('minmaxscaler', MinMaxScaler()),\n",
            "                ('sgdclassifier',\n",
            "                 SGDClassifier(alpha=0, eta0=0.01, learning_rate='constant',\n",
            "                               loss='log', max_iter=100, random_state=1729))])\n"
          ]
        }
      ]
    },
    {
      "cell_type": "code",
      "source": [
        "scores = RandomizedSearchCV(pipe_sgd_hpt,\n",
        "                            param_distributions={\n",
        "                                'sgdclassifier__eta0':eta_grid,\n",
        "                                'sgdclassifier__alpha':alpha_grid},\n",
        "                            cv=5,\n",
        "                            scoring='precision',\n",
        "                            n_iter=10,\n",
        "                            refit=True,\n",
        "                            random_state=1729)"
      ],
      "metadata": {
        "id": "dhsa9YutMjKl"
      },
      "execution_count": 102,
      "outputs": []
    },
    {
      "cell_type": "code",
      "source": [
        "# It take quite a long time to finish\n",
        "scores.fit(x_train,y_train_0)"
      ],
      "metadata": {
        "colab": {
          "base_uri": "https://localhost:8080/",
          "height": 152
        },
        "id": "jKiSwVmoMtP-",
        "outputId": "303ab93d-1577-4863-8b4f-a15ce696a749"
      },
      "execution_count": 103,
      "outputs": [
        {
          "output_type": "execute_result",
          "data": {
            "text/plain": [
              "RandomizedSearchCV(cv=5,\n",
              "                   estimator=Pipeline(steps=[('minmaxscaler', MinMaxScaler()),\n",
              "                                             ('sgdclassifier',\n",
              "                                              SGDClassifier(alpha=0, eta0=0.01,\n",
              "                                                            learning_rate='constant',\n",
              "                                                            loss='log',\n",
              "                                                            max_iter=100,\n",
              "                                                            random_state=1729))]),\n",
              "                   param_distributions={'sgdclassifier__alpha': <scipy.stats._distn_infrastructure.rv_continuous_frozen object at 0x7fbb428be610>,\n",
              "                                        'sgdclassifier__eta0': <scipy.stats._distn_infrastructure.rv_continuous_frozen object at 0x7fbb428be370>},\n",
              "                   random_state=1729, scoring='precision')"
            ],
            "text/html": [
              "<style>#sk-container-id-3 {color: black;background-color: white;}#sk-container-id-3 pre{padding: 0;}#sk-container-id-3 div.sk-toggleable {background-color: white;}#sk-container-id-3 label.sk-toggleable__label {cursor: pointer;display: block;width: 100%;margin-bottom: 0;padding: 0.3em;box-sizing: border-box;text-align: center;}#sk-container-id-3 label.sk-toggleable__label-arrow:before {content: \"▸\";float: left;margin-right: 0.25em;color: #696969;}#sk-container-id-3 label.sk-toggleable__label-arrow:hover:before {color: black;}#sk-container-id-3 div.sk-estimator:hover label.sk-toggleable__label-arrow:before {color: black;}#sk-container-id-3 div.sk-toggleable__content {max-height: 0;max-width: 0;overflow: hidden;text-align: left;background-color: #f0f8ff;}#sk-container-id-3 div.sk-toggleable__content pre {margin: 0.2em;color: black;border-radius: 0.25em;background-color: #f0f8ff;}#sk-container-id-3 input.sk-toggleable__control:checked~div.sk-toggleable__content {max-height: 200px;max-width: 100%;overflow: auto;}#sk-container-id-3 input.sk-toggleable__control:checked~label.sk-toggleable__label-arrow:before {content: \"▾\";}#sk-container-id-3 div.sk-estimator input.sk-toggleable__control:checked~label.sk-toggleable__label {background-color: #d4ebff;}#sk-container-id-3 div.sk-label input.sk-toggleable__control:checked~label.sk-toggleable__label {background-color: #d4ebff;}#sk-container-id-3 input.sk-hidden--visually {border: 0;clip: rect(1px 1px 1px 1px);clip: rect(1px, 1px, 1px, 1px);height: 1px;margin: -1px;overflow: hidden;padding: 0;position: absolute;width: 1px;}#sk-container-id-3 div.sk-estimator {font-family: monospace;background-color: #f0f8ff;border: 1px dotted black;border-radius: 0.25em;box-sizing: border-box;margin-bottom: 0.5em;}#sk-container-id-3 div.sk-estimator:hover {background-color: #d4ebff;}#sk-container-id-3 div.sk-parallel-item::after {content: \"\";width: 100%;border-bottom: 1px solid gray;flex-grow: 1;}#sk-container-id-3 div.sk-label:hover label.sk-toggleable__label {background-color: #d4ebff;}#sk-container-id-3 div.sk-serial::before {content: \"\";position: absolute;border-left: 1px solid gray;box-sizing: border-box;top: 0;bottom: 0;left: 50%;z-index: 0;}#sk-container-id-3 div.sk-serial {display: flex;flex-direction: column;align-items: center;background-color: white;padding-right: 0.2em;padding-left: 0.2em;position: relative;}#sk-container-id-3 div.sk-item {position: relative;z-index: 1;}#sk-container-id-3 div.sk-parallel {display: flex;align-items: stretch;justify-content: center;background-color: white;position: relative;}#sk-container-id-3 div.sk-item::before, #sk-container-id-3 div.sk-parallel-item::before {content: \"\";position: absolute;border-left: 1px solid gray;box-sizing: border-box;top: 0;bottom: 0;left: 50%;z-index: -1;}#sk-container-id-3 div.sk-parallel-item {display: flex;flex-direction: column;z-index: 1;position: relative;background-color: white;}#sk-container-id-3 div.sk-parallel-item:first-child::after {align-self: flex-end;width: 50%;}#sk-container-id-3 div.sk-parallel-item:last-child::after {align-self: flex-start;width: 50%;}#sk-container-id-3 div.sk-parallel-item:only-child::after {width: 0;}#sk-container-id-3 div.sk-dashed-wrapped {border: 1px dashed gray;margin: 0 0.4em 0.5em 0.4em;box-sizing: border-box;padding-bottom: 0.4em;background-color: white;}#sk-container-id-3 div.sk-label label {font-family: monospace;font-weight: bold;display: inline-block;line-height: 1.2em;}#sk-container-id-3 div.sk-label-container {text-align: center;}#sk-container-id-3 div.sk-container {/* jupyter's `normalize.less` sets `[hidden] { display: none; }` but bootstrap.min.css set `[hidden] { display: none !important; }` so we also need the `!important` here to be able to override the default hidden behavior on the sphinx rendered scikit-learn.org. See: https://github.com/scikit-learn/scikit-learn/issues/21755 */display: inline-block !important;position: relative;}#sk-container-id-3 div.sk-text-repr-fallback {display: none;}</style><div id=\"sk-container-id-3\" class=\"sk-top-container\"><div class=\"sk-text-repr-fallback\"><pre>RandomizedSearchCV(cv=5,\n",
              "                   estimator=Pipeline(steps=[(&#x27;minmaxscaler&#x27;, MinMaxScaler()),\n",
              "                                             (&#x27;sgdclassifier&#x27;,\n",
              "                                              SGDClassifier(alpha=0, eta0=0.01,\n",
              "                                                            learning_rate=&#x27;constant&#x27;,\n",
              "                                                            loss=&#x27;log&#x27;,\n",
              "                                                            max_iter=100,\n",
              "                                                            random_state=1729))]),\n",
              "                   param_distributions={&#x27;sgdclassifier__alpha&#x27;: &lt;scipy.stats._distn_infrastructure.rv_continuous_frozen object at 0x7fbb428be610&gt;,\n",
              "                                        &#x27;sgdclassifier__eta0&#x27;: &lt;scipy.stats._distn_infrastructure.rv_continuous_frozen object at 0x7fbb428be370&gt;},\n",
              "                   random_state=1729, scoring=&#x27;precision&#x27;)</pre><b>In a Jupyter environment, please rerun this cell to show the HTML representation or trust the notebook. <br />On GitHub, the HTML representation is unable to render, please try loading this page with nbviewer.org.</b></div><div class=\"sk-container\" hidden><div class=\"sk-item sk-dashed-wrapped\"><div class=\"sk-label-container\"><div class=\"sk-label sk-toggleable\"><input class=\"sk-toggleable__control sk-hidden--visually\" id=\"sk-estimator-id-5\" type=\"checkbox\" ><label for=\"sk-estimator-id-5\" class=\"sk-toggleable__label sk-toggleable__label-arrow\">RandomizedSearchCV</label><div class=\"sk-toggleable__content\"><pre>RandomizedSearchCV(cv=5,\n",
              "                   estimator=Pipeline(steps=[(&#x27;minmaxscaler&#x27;, MinMaxScaler()),\n",
              "                                             (&#x27;sgdclassifier&#x27;,\n",
              "                                              SGDClassifier(alpha=0, eta0=0.01,\n",
              "                                                            learning_rate=&#x27;constant&#x27;,\n",
              "                                                            loss=&#x27;log&#x27;,\n",
              "                                                            max_iter=100,\n",
              "                                                            random_state=1729))]),\n",
              "                   param_distributions={&#x27;sgdclassifier__alpha&#x27;: &lt;scipy.stats._distn_infrastructure.rv_continuous_frozen object at 0x7fbb428be610&gt;,\n",
              "                                        &#x27;sgdclassifier__eta0&#x27;: &lt;scipy.stats._distn_infrastructure.rv_continuous_frozen object at 0x7fbb428be370&gt;},\n",
              "                   random_state=1729, scoring=&#x27;precision&#x27;)</pre></div></div></div><div class=\"sk-parallel\"><div class=\"sk-parallel-item\"><div class=\"sk-item\"><div class=\"sk-label-container\"><div class=\"sk-label sk-toggleable\"><input class=\"sk-toggleable__control sk-hidden--visually\" id=\"sk-estimator-id-6\" type=\"checkbox\" ><label for=\"sk-estimator-id-6\" class=\"sk-toggleable__label sk-toggleable__label-arrow\">estimator: Pipeline</label><div class=\"sk-toggleable__content\"><pre>Pipeline(steps=[(&#x27;minmaxscaler&#x27;, MinMaxScaler()),\n",
              "                (&#x27;sgdclassifier&#x27;,\n",
              "                 SGDClassifier(alpha=0, eta0=0.01, learning_rate=&#x27;constant&#x27;,\n",
              "                               loss=&#x27;log&#x27;, max_iter=100, random_state=1729))])</pre></div></div></div><div class=\"sk-serial\"><div class=\"sk-item\"><div class=\"sk-serial\"><div class=\"sk-item\"><div class=\"sk-estimator sk-toggleable\"><input class=\"sk-toggleable__control sk-hidden--visually\" id=\"sk-estimator-id-7\" type=\"checkbox\" ><label for=\"sk-estimator-id-7\" class=\"sk-toggleable__label sk-toggleable__label-arrow\">MinMaxScaler</label><div class=\"sk-toggleable__content\"><pre>MinMaxScaler()</pre></div></div></div><div class=\"sk-item\"><div class=\"sk-estimator sk-toggleable\"><input class=\"sk-toggleable__control sk-hidden--visually\" id=\"sk-estimator-id-8\" type=\"checkbox\" ><label for=\"sk-estimator-id-8\" class=\"sk-toggleable__label sk-toggleable__label-arrow\">SGDClassifier</label><div class=\"sk-toggleable__content\"><pre>SGDClassifier(alpha=0, eta0=0.01, learning_rate=&#x27;constant&#x27;, loss=&#x27;log&#x27;,\n",
              "              max_iter=100, random_state=1729)</pre></div></div></div></div></div></div></div></div></div></div></div></div>"
            ]
          },
          "metadata": {},
          "execution_count": 103
        }
      ]
    },
    {
      "cell_type": "code",
      "source": [
        "pprint(scores.cv_results_)"
      ],
      "metadata": {
        "colab": {
          "base_uri": "https://localhost:8080/"
        },
        "id": "ckcZq2xHMwRB",
        "outputId": "7dddf253-51be-4ab2-8c11-a509dc049bcd"
      },
      "execution_count": 104,
      "outputs": [
        {
          "output_type": "stream",
          "name": "stdout",
          "text": [
            "{'mean_fit_time': array([1.34268517, 1.60142083, 1.46754823, 1.48677187, 1.39191961,\n",
            "       1.27229385, 1.47247572, 1.32848239, 1.03382535, 1.16460676]),\n",
            " 'mean_score_time': array([0.05047398, 0.05142212, 0.05831046, 0.05269442, 0.0543654 ,\n",
            "       0.050526  , 0.04704847, 0.04896045, 0.0502614 , 0.04925137]),\n",
            " 'mean_test_score': array([0.96460118, 0.96414504, 0.96737133, 0.96151669, 0.9884984 ,\n",
            "       0.96578734, 0.96148015, 0.96354983, 0.98956494, 0.96552555]),\n",
            " 'param_sgdclassifier__alpha': masked_array(data=[1.8747854362378862e-06, 3.476412314661177e-05,\n",
            "                   0.0014239854561506498, 5.312503633759702e-06,\n",
            "                   0.05828730756092898, 2.521634683952945e-07,\n",
            "                   0.00011448262369494136, 1.1186816059037773e-05,\n",
            "                   0.058121543505891174, 0.003268914620727034],\n",
            "             mask=[False, False, False, False, False, False, False, False,\n",
            "                   False, False],\n",
            "       fill_value='?',\n",
            "            dtype=object),\n",
            " 'param_sgdclassifier__eta0': masked_array(data=[0.003296374007983358, 0.027499324609444625,\n",
            "                   0.028598919963253415, 0.0032223051129088532,\n",
            "                   0.01350246989137488, 0.029294210769839908,\n",
            "                   0.0028519847491974234, 0.010567843053166642,\n",
            "                   0.01690864669305596, 0.0632108450174182],\n",
            "             mask=[False, False, False, False, False, False, False, False,\n",
            "                   False, False],\n",
            "       fill_value='?',\n",
            "            dtype=object),\n",
            " 'params': [{'sgdclassifier__alpha': 1.8747854362378862e-06,\n",
            "             'sgdclassifier__eta0': 0.003296374007983358},\n",
            "            {'sgdclassifier__alpha': 3.476412314661177e-05,\n",
            "             'sgdclassifier__eta0': 0.027499324609444625},\n",
            "            {'sgdclassifier__alpha': 0.0014239854561506498,\n",
            "             'sgdclassifier__eta0': 0.028598919963253415},\n",
            "            {'sgdclassifier__alpha': 5.312503633759702e-06,\n",
            "             'sgdclassifier__eta0': 0.0032223051129088532},\n",
            "            {'sgdclassifier__alpha': 0.05828730756092898,\n",
            "             'sgdclassifier__eta0': 0.01350246989137488},\n",
            "            {'sgdclassifier__alpha': 2.521634683952945e-07,\n",
            "             'sgdclassifier__eta0': 0.029294210769839908},\n",
            "            {'sgdclassifier__alpha': 0.00011448262369494136,\n",
            "             'sgdclassifier__eta0': 0.0028519847491974234},\n",
            "            {'sgdclassifier__alpha': 1.1186816059037773e-05,\n",
            "             'sgdclassifier__eta0': 0.010567843053166642},\n",
            "            {'sgdclassifier__alpha': 0.058121543505891174,\n",
            "             'sgdclassifier__eta0': 0.01690864669305596},\n",
            "            {'sgdclassifier__alpha': 0.003268914620727034,\n",
            "             'sgdclassifier__eta0': 0.0632108450174182}],\n",
            " 'rank_test_score': array([ 6,  7,  3,  9,  2,  4, 10,  8,  1,  5], dtype=int32),\n",
            " 'split0_test_score': array([0.96539792, 0.95710681, 0.96241259, 0.96539792, 0.98170732,\n",
            "       0.95633921, 0.9670425 , 0.95546218, 0.97973658, 0.95151515]),\n",
            " 'split1_test_score': array([0.95581988, 0.96602787, 0.96406661, 0.95581988, 0.98910675,\n",
            "       0.96666667, 0.9533503 , 0.96465517, 0.99123768, 0.95837104]),\n",
            " 'split2_test_score': array([0.98066784, 0.97377622, 0.98829883, 0.97311362, 0.98903509,\n",
            "       0.97040905, 0.97224631, 0.97155172, 0.99      , 0.98330241]),\n",
            " 'split3_test_score': array([0.96016949, 0.97535211, 0.96406661, 0.95230126, 0.98957126,\n",
            "       0.97447183, 0.95305951, 0.96732588, 0.99275362, 0.96848934]),\n",
            " 'split4_test_score': array([0.96095076, 0.94846218, 0.958012  , 0.96095076, 0.99307159,\n",
            "       0.96104996, 0.96170213, 0.95875421, 0.99409681, 0.96594982]),\n",
            " 'std_fit_time': array([0.04530616, 0.52125589, 0.21181424, 0.19409879, 0.11421436,\n",
            "       0.041854  , 0.19220916, 0.21686596, 0.01476861, 0.16085504]),\n",
            " 'std_score_time': array([0.00429949, 0.00403344, 0.01058061, 0.00723438, 0.00438517,\n",
            "       0.0010033 , 0.00055586, 0.00207033, 0.0030947 , 0.00280099]),\n",
            " 'std_test_score': array([0.00858893, 0.01017243, 0.01069569, 0.00731096, 0.00371058,\n",
            "       0.00646937, 0.00753526, 0.00579515, 0.0051047 , 0.01070009])}\n"
          ]
        }
      ]
    },
    {
      "cell_type": "code",
      "source": [
        "# Let us pick the best estimator from the results\n",
        "\n",
        "best_bin_clf = scores.best_estimator_"
      ],
      "metadata": {
        "id": "EKRJqoN-Mx90"
      },
      "execution_count": 106,
      "outputs": []
    },
    {
      "cell_type": "code",
      "source": [
        "best_bin_clf[1]"
      ],
      "metadata": {
        "colab": {
          "base_uri": "https://localhost:8080/",
          "height": 109
        },
        "id": "7_usPak2NWcq",
        "outputId": "7c331191-0b07-4029-eb10-fdf053c1879f"
      },
      "execution_count": 110,
      "outputs": [
        {
          "output_type": "execute_result",
          "data": {
            "text/plain": [
              "SGDClassifier(alpha=0.058121543505891174, eta0=0.01690864669305596,\n",
              "              learning_rate='constant', loss='log', max_iter=100,\n",
              "              random_state=1729)"
            ],
            "text/html": [
              "<style>#sk-container-id-5 {color: black;background-color: white;}#sk-container-id-5 pre{padding: 0;}#sk-container-id-5 div.sk-toggleable {background-color: white;}#sk-container-id-5 label.sk-toggleable__label {cursor: pointer;display: block;width: 100%;margin-bottom: 0;padding: 0.3em;box-sizing: border-box;text-align: center;}#sk-container-id-5 label.sk-toggleable__label-arrow:before {content: \"▸\";float: left;margin-right: 0.25em;color: #696969;}#sk-container-id-5 label.sk-toggleable__label-arrow:hover:before {color: black;}#sk-container-id-5 div.sk-estimator:hover label.sk-toggleable__label-arrow:before {color: black;}#sk-container-id-5 div.sk-toggleable__content {max-height: 0;max-width: 0;overflow: hidden;text-align: left;background-color: #f0f8ff;}#sk-container-id-5 div.sk-toggleable__content pre {margin: 0.2em;color: black;border-radius: 0.25em;background-color: #f0f8ff;}#sk-container-id-5 input.sk-toggleable__control:checked~div.sk-toggleable__content {max-height: 200px;max-width: 100%;overflow: auto;}#sk-container-id-5 input.sk-toggleable__control:checked~label.sk-toggleable__label-arrow:before {content: \"▾\";}#sk-container-id-5 div.sk-estimator input.sk-toggleable__control:checked~label.sk-toggleable__label {background-color: #d4ebff;}#sk-container-id-5 div.sk-label input.sk-toggleable__control:checked~label.sk-toggleable__label {background-color: #d4ebff;}#sk-container-id-5 input.sk-hidden--visually {border: 0;clip: rect(1px 1px 1px 1px);clip: rect(1px, 1px, 1px, 1px);height: 1px;margin: -1px;overflow: hidden;padding: 0;position: absolute;width: 1px;}#sk-container-id-5 div.sk-estimator {font-family: monospace;background-color: #f0f8ff;border: 1px dotted black;border-radius: 0.25em;box-sizing: border-box;margin-bottom: 0.5em;}#sk-container-id-5 div.sk-estimator:hover {background-color: #d4ebff;}#sk-container-id-5 div.sk-parallel-item::after {content: \"\";width: 100%;border-bottom: 1px solid gray;flex-grow: 1;}#sk-container-id-5 div.sk-label:hover label.sk-toggleable__label {background-color: #d4ebff;}#sk-container-id-5 div.sk-serial::before {content: \"\";position: absolute;border-left: 1px solid gray;box-sizing: border-box;top: 0;bottom: 0;left: 50%;z-index: 0;}#sk-container-id-5 div.sk-serial {display: flex;flex-direction: column;align-items: center;background-color: white;padding-right: 0.2em;padding-left: 0.2em;position: relative;}#sk-container-id-5 div.sk-item {position: relative;z-index: 1;}#sk-container-id-5 div.sk-parallel {display: flex;align-items: stretch;justify-content: center;background-color: white;position: relative;}#sk-container-id-5 div.sk-item::before, #sk-container-id-5 div.sk-parallel-item::before {content: \"\";position: absolute;border-left: 1px solid gray;box-sizing: border-box;top: 0;bottom: 0;left: 50%;z-index: -1;}#sk-container-id-5 div.sk-parallel-item {display: flex;flex-direction: column;z-index: 1;position: relative;background-color: white;}#sk-container-id-5 div.sk-parallel-item:first-child::after {align-self: flex-end;width: 50%;}#sk-container-id-5 div.sk-parallel-item:last-child::after {align-self: flex-start;width: 50%;}#sk-container-id-5 div.sk-parallel-item:only-child::after {width: 0;}#sk-container-id-5 div.sk-dashed-wrapped {border: 1px dashed gray;margin: 0 0.4em 0.5em 0.4em;box-sizing: border-box;padding-bottom: 0.4em;background-color: white;}#sk-container-id-5 div.sk-label label {font-family: monospace;font-weight: bold;display: inline-block;line-height: 1.2em;}#sk-container-id-5 div.sk-label-container {text-align: center;}#sk-container-id-5 div.sk-container {/* jupyter's `normalize.less` sets `[hidden] { display: none; }` but bootstrap.min.css set `[hidden] { display: none !important; }` so we also need the `!important` here to be able to override the default hidden behavior on the sphinx rendered scikit-learn.org. See: https://github.com/scikit-learn/scikit-learn/issues/21755 */display: inline-block !important;position: relative;}#sk-container-id-5 div.sk-text-repr-fallback {display: none;}</style><div id=\"sk-container-id-5\" class=\"sk-top-container\"><div class=\"sk-text-repr-fallback\"><pre>SGDClassifier(alpha=0.058121543505891174, eta0=0.01690864669305596,\n",
              "              learning_rate=&#x27;constant&#x27;, loss=&#x27;log&#x27;, max_iter=100,\n",
              "              random_state=1729)</pre><b>In a Jupyter environment, please rerun this cell to show the HTML representation or trust the notebook. <br />On GitHub, the HTML representation is unable to render, please try loading this page with nbviewer.org.</b></div><div class=\"sk-container\" hidden><div class=\"sk-item\"><div class=\"sk-estimator sk-toggleable\"><input class=\"sk-toggleable__control sk-hidden--visually\" id=\"sk-estimator-id-12\" type=\"checkbox\" checked><label for=\"sk-estimator-id-12\" class=\"sk-toggleable__label sk-toggleable__label-arrow\">SGDClassifier</label><div class=\"sk-toggleable__content\"><pre>SGDClassifier(alpha=0.058121543505891174, eta0=0.01690864669305596,\n",
              "              learning_rate=&#x27;constant&#x27;, loss=&#x27;log&#x27;, max_iter=100,\n",
              "              random_state=1729)</pre></div></div></div></div></div>"
            ]
          },
          "metadata": {},
          "execution_count": 110
        }
      ]
    },
    {
      "cell_type": "code",
      "source": [
        "y_hat_train_best_0 = best_bin_clf.predict(x_train)"
      ],
      "metadata": {
        "id": "rLaTrh93NGSs"
      },
      "execution_count": 107,
      "outputs": []
    },
    {
      "cell_type": "code",
      "source": [
        "print(classification_report(y_train_0, y_hat_train_best_0))"
      ],
      "metadata": {
        "colab": {
          "base_uri": "https://localhost:8080/"
        },
        "id": "zR-Byko6NKrv",
        "outputId": "b8a2f1c6-170a-4a84-b6c4-f793d4eb66c4"
      },
      "execution_count": 108,
      "outputs": [
        {
          "output_type": "stream",
          "name": "stdout",
          "text": [
            "              precision    recall  f1-score   support\n",
            "\n",
            "         0.0       0.98      1.00      0.99     54077\n",
            "         1.0       0.98      0.79      0.88      5923\n",
            "\n",
            "    accuracy                           0.98     60000\n",
            "   macro avg       0.98      0.90      0.93     60000\n",
            "weighted avg       0.98      0.98      0.98     60000\n",
            "\n"
          ]
        }
      ]
    },
    {
      "cell_type": "markdown",
      "source": [
        "# classification report"
      ],
      "metadata": {
        "id": "vQoF0BgkMi-d"
      }
    },
    {
      "cell_type": "markdown",
      "source": [
        "precisson recall tradeoff"
      ],
      "metadata": {
        "id": "oiuC9UJYMY2U"
      }
    },
    {
      "cell_type": "code",
      "source": [
        "from sklearn.metrics import precision_recall_curve\n",
        "\n",
        "y_scores = bin_sgd_clf.decision_function(x_train)\n",
        "precisions , recalls, thresholds = precision_recall_curve(y_train_0, y_scores)\n",
        "plt.figure(figsize = (10,4))\n",
        "plt.plot(thresholds, precisions[:-1], \"b--\", label = \"Precision\")\n",
        "plt.plot(thresholds, recalls[:-1], \"g-\", label = \"Recall\")\n",
        "plt.xlabel(\"threshold\")\n",
        "plt.grid(True)\n",
        "plt.legend(loc = 'upper right')\n",
        "plt.show()"
      ],
      "metadata": {
        "colab": {
          "base_uri": "https://localhost:8080/",
          "height": 286
        },
        "id": "A4unRrqLNsji",
        "outputId": "4c48a2b6-1223-44e6-cfc6-2b5718653e20"
      },
      "execution_count": 113,
      "outputs": [
        {
          "output_type": "display_data",
          "data": {
            "text/plain": [
              "<Figure size 720x288 with 1 Axes>"
            ],
            "image/png": "[encoded data removed]"
          },
          "metadata": {
            "needs_background": "light"
          }
        }
      ]
    },
    {
      "cell_type": "code",
      "source": [
        "# ROC Curve and other curves missing from here"
      ],
      "metadata": {
        "id": "dKmz0Z6EOT6A"
      },
      "execution_count": 114,
      "outputs": []
    },
    {
      "cell_type": "code",
      "source": [],
      "metadata": {
        "id": "GmwqMGqXQOdc"
      },
      "execution_count": null,
      "outputs": []
    }
  ]
}