{
  "nbformat": 4,
  "nbformat_minor": 0,
  "metadata": {
    "colab": {
      "provenance": []
    },
    "kernelspec": {
      "name": "python3",
      "display_name": "Python 3"
    },
    "language_info": {
      "name": "python"
    }
  },
  "cells": [
    {
      "cell_type": "markdown",
      "source": [
        "# Numeric Transformers"
      ],
      "metadata": {
        "id": "VM7B2TI7jODF"
      }
    },
    {
      "cell_type": "markdown",
      "source": [
        "1. Feature Scaling\n",
        "2. Polynomial Transformations\n",
        "3. Discretization"
      ],
      "metadata": {
        "id": "NMtpXCgqjRQU"
      }
    },
    {
      "cell_type": "markdown",
      "source": [
        "## Feature Scaling"
      ],
      "metadata": {
        "id": "74bI2ynOjcQH"
      }
    },
    {
      "cell_type": "markdown",
      "source": [
        "Numerical Features with different scales lead to slower convergence of iterative optimisation procedures >> Thus good practice to do scaling"
      ],
      "metadata": {
        "id": "VsXOj0WYjx3M"
      }
    },
    {
      "cell_type": "markdown",
      "source": [
        "1. `StandardScaler`\n",
        "2. `MaxAbsScaler`\n",
        "3. `MinMaxScaler`"
      ],
      "metadata": {
        "id": "W0imQxGxj0xg"
      }
    },
    {
      "cell_type": "markdown",
      "source": [
        "### Standard Scaler\n",
        " \n",
        " i.e. Standardization (X-mu)/sigma"
      ],
      "metadata": {
        "id": "a2oYMllskAEP"
      }
    },
    {
      "cell_type": "code",
      "execution_count": 6,
      "metadata": {
        "colab": {
          "base_uri": "https://localhost:8080/"
        },
        "id": "YsCVk6gsitW7",
        "outputId": "f6e35f33-299b-42a4-f26f-462de29c7dce"
      },
      "outputs": [
        {
          "output_type": "stream",
          "name": "stdout",
          "text": [
            "[[4]\n",
            " [3]\n",
            " [2]\n",
            " [5]\n",
            " [6]]\n"
          ]
        }
      ],
      "source": [
        "import numpy as np\n",
        "data = np.array([[4],[3],[2],[5],[6]])\n",
        "print(data)"
      ]
    },
    {
      "cell_type": "code",
      "source": [
        "# standardization\n",
        "from sklearn.preprocessing import StandardScaler\n",
        "ss = StandardScaler()\n",
        "ss.fit_transform(data)"
      ],
      "metadata": {
        "colab": {
          "base_uri": "https://localhost:8080/"
        },
        "id": "E5eR2loikXSA",
        "outputId": "5d330c92-db85-4912-a6ae-ca4b4c568562"
      },
      "execution_count": 7,
      "outputs": [
        {
          "output_type": "execute_result",
          "data": {
            "text/plain": [
              "array([[ 0.        ],\n",
              "       [-0.70710678],\n",
              "       [-1.41421356],\n",
              "       [ 0.70710678],\n",
              "       [ 1.41421356]])"
            ]
          },
          "metadata": {},
          "execution_count": 7
        }
      ]
    },
    {
      "cell_type": "markdown",
      "source": [
        "### MinMaxScaler"
      ],
      "metadata": {
        "id": "te9P8zD-lqKw"
      }
    },
    {
      "cell_type": "markdown",
      "source": [
        "x- min / max - min"
      ],
      "metadata": {
        "id": "ze_-kIIvl07R"
      }
    },
    {
      "cell_type": "code",
      "source": [
        "import numpy as np\n",
        "data = np.array([[15],[2],[5],[-2],[-5]])\n",
        "print(data)"
      ],
      "metadata": {
        "colab": {
          "base_uri": "https://localhost:8080/"
        },
        "id": "vSalBmbdl0q4",
        "outputId": "be19fde7-8f7b-430e-f8b0-7748dfcd6647"
      },
      "execution_count": 8,
      "outputs": [
        {
          "output_type": "stream",
          "name": "stdout",
          "text": [
            "[[15]\n",
            " [ 2]\n",
            " [ 5]\n",
            " [-2]\n",
            " [-5]]\n"
          ]
        }
      ]
    },
    {
      "cell_type": "code",
      "source": [
        "from sklearn.preprocessing import MinMaxScaler\n",
        "mms = MinMaxScaler()\n",
        "mms.fit_transform(data)\n",
        "\n",
        "# largest value is transformed to one and smallest is transformed to 0"
      ],
      "metadata": {
        "colab": {
          "base_uri": "https://localhost:8080/"
        },
        "id": "RYZ2rjQNkq3v",
        "outputId": "75a16dc3-2968-4730-e663-e7941e6a954b"
      },
      "execution_count": 10,
      "outputs": [
        {
          "output_type": "execute_result",
          "data": {
            "text/plain": [
              "array([[1.  ],\n",
              "       [0.35],\n",
              "       [0.5 ],\n",
              "       [0.15],\n",
              "       [0.  ]])"
            ]
          },
          "metadata": {},
          "execution_count": 10
        }
      ]
    },
    {
      "cell_type": "markdown",
      "source": [
        "### MaxAbsScaler"
      ],
      "metadata": {
        "id": "u_ORIaD9mnEE"
      }
    },
    {
      "cell_type": "markdown",
      "source": [
        "transforms so that all values lie in interval [-1,1]   >>>>       `x/MaxAbsValue`\n",
        "\n",
        "MaxAbsValue = max(mod(x.max/x.min))"
      ],
      "metadata": {
        "id": "Uv6v8gSlmpnz"
      }
    },
    {
      "cell_type": "code",
      "source": [
        "import numpy as np\n",
        "data = np.array([[4],[2],[5],[-2],[-100]])\n",
        "print(data)"
      ],
      "metadata": {
        "colab": {
          "base_uri": "https://localhost:8080/"
        },
        "id": "cGISkgLdnNNx",
        "outputId": "5a0d0142-c9ad-4515-f116-7846189672cd"
      },
      "execution_count": 14,
      "outputs": [
        {
          "output_type": "stream",
          "name": "stdout",
          "text": [
            "[[   4]\n",
            " [   2]\n",
            " [   5]\n",
            " [  -2]\n",
            " [-100]]\n"
          ]
        }
      ]
    },
    {
      "cell_type": "code",
      "source": [
        "from sklearn.preprocessing import MaxAbsScaler\n",
        "ma = MaxAbsScaler()\n",
        "ma.fit_transform(data)\n"
      ],
      "metadata": {
        "colab": {
          "base_uri": "https://localhost:8080/"
        },
        "id": "CeTQs_vPmJUa",
        "outputId": "632bbde9-0adb-496c-d154-98157987ecb8"
      },
      "execution_count": 16,
      "outputs": [
        {
          "output_type": "execute_result",
          "data": {
            "text/plain": [
              "array([[ 0.04],\n",
              "       [ 0.02],\n",
              "       [ 0.05],\n",
              "       [-0.02],\n",
              "       [-1.  ]])"
            ]
          },
          "metadata": {},
          "execution_count": 16
        }
      ]
    },
    {
      "cell_type": "markdown",
      "source": [
        "## Function Transformer"
      ],
      "metadata": {
        "id": "hg6_M_guntjZ"
      }
    },
    {
      "cell_type": "markdown",
      "source": [
        "transformation using user defined functions"
      ],
      "metadata": {
        "id": "nUD2rBEKoMUU"
      }
    },
    {
      "cell_type": "code",
      "source": [
        "import numpy as np\n",
        "data = np.array([[128,2],[2,256],[4,1],[512,64]])\n",
        "print(data)"
      ],
      "metadata": {
        "colab": {
          "base_uri": "https://localhost:8080/"
        },
        "id": "zF6A0KD8nUSd",
        "outputId": "9cecd39b-01d7-42ca-b64c-34c6a6067b52"
      },
      "execution_count": 21,
      "outputs": [
        {
          "output_type": "stream",
          "name": "stdout",
          "text": [
            "[[128   2]\n",
            " [  2 256]\n",
            " [  4   1]\n",
            " [512  64]]\n"
          ]
        }
      ]
    },
    {
      "cell_type": "code",
      "source": [
        "# log2 transformation\n",
        "from sklearn.preprocessing import FunctionTransformer\n",
        "ft = FunctionTransformer(np.log2)\n",
        "ft.fit_transform(data)"
      ],
      "metadata": {
        "colab": {
          "base_uri": "https://localhost:8080/"
        },
        "id": "dLEFOurcn4CO",
        "outputId": "1b6f442f-77ea-4624-f655-429ddc406b7c"
      },
      "execution_count": 27,
      "outputs": [
        {
          "output_type": "execute_result",
          "data": {
            "text/plain": [
              "array([[7., 1.],\n",
              "       [1., 8.],\n",
              "       [2., 0.],\n",
              "       [9., 6.]])"
            ]
          },
          "metadata": {},
          "execution_count": 27
        }
      ]
    },
    {
      "cell_type": "markdown",
      "source": [
        "## Polynomial Transformations"
      ],
      "metadata": {
        "id": "5XbAJJCvouLa"
      }
    },
    {
      "cell_type": "code",
      "source": [
        "# generates new feature matrix consisting of all the polynomial combinations of features with degree less than or equal to specified degree\n",
        "\n",
        "# create feature matrix X = [x1 x2] with two features\n",
        "\n",
        "import numpy as np\n",
        "x = np.array([[1,2], [3,4]])\n",
        "print(x)"
      ],
      "metadata": {
        "colab": {
          "base_uri": "https://localhost:8080/"
        },
        "id": "ulihiqTpoYUD",
        "outputId": "f5ee1b57-6b5e-471e-fa7c-8ea48a54768c"
      },
      "execution_count": 36,
      "outputs": [
        {
          "output_type": "stream",
          "name": "stdout",
          "text": [
            "[[1 2]\n",
            " [3 4]]\n"
          ]
        }
      ]
    },
    {
      "cell_type": "code",
      "source": [
        "from sklearn.preprocessing import PolynomialFeatures\n",
        "pf = PolynomialFeatures(degree = 2)\n",
        "pf.fit_transform(x)\n"
      ],
      "metadata": {
        "colab": {
          "base_uri": "https://localhost:8080/"
        },
        "id": "dm2-7VqZpSIl",
        "outputId": "055f225e-f45c-41c5-9a28-4f63c75aeee1"
      },
      "execution_count": 37,
      "outputs": [
        {
          "output_type": "execute_result",
          "data": {
            "text/plain": [
              "array([[ 1.,  1.,  2.,  1.,  2.,  4.],\n",
              "       [ 1.,  3.,  4.,  9., 12., 16.]])"
            ]
          },
          "metadata": {},
          "execution_count": 37
        }
      ]
    },
    {
      "cell_type": "markdown",
      "source": [
        "`[1, x1, x2, sq(x1), x1x2, sq(x2)]`"
      ],
      "metadata": {
        "id": "Bb8nIwLRqodt"
      }
    },
    {
      "cell_type": "markdown",
      "source": [
        "## KbinsDiscretizer"
      ],
      "metadata": {
        "id": "GpvC61DDqz4Y"
      }
    },
    {
      "cell_type": "markdown",
      "source": [
        "1. Divides continuous variable into bins\n",
        "2. OneHotEncoding  or ordinal encoding is further applied to the bins"
      ],
      "metadata": {
        "id": "gOPw3cA5rARh"
      }
    },
    {
      "cell_type": "code",
      "source": [
        "import numpy as np\n",
        "x = np.array([[0],[0.125],[0.25],[0.375],[0.5],[0.675],[0.75],[0.875],[1]])\n",
        "print(x)"
      ],
      "metadata": {
        "colab": {
          "base_uri": "https://localhost:8080/"
        },
        "id": "BW6Gkqcrq2YS",
        "outputId": "29ddcbd0-2045-42e5-ab2f-f6a5a7218626"
      },
      "execution_count": 38,
      "outputs": [
        {
          "output_type": "stream",
          "name": "stdout",
          "text": [
            "[[0.   ]\n",
            " [0.125]\n",
            " [0.25 ]\n",
            " [0.375]\n",
            " [0.5  ]\n",
            " [0.675]\n",
            " [0.75 ]\n",
            " [0.875]\n",
            " [1.   ]]\n"
          ]
        }
      ]
    },
    {
      "cell_type": "code",
      "source": [
        "from sklearn.preprocessing import KBinsDiscretizer\n",
        "kbd = KBinsDiscretizer(n_bins = 5, \n",
        "                      strategy = 'uniform',\n",
        "                      encode = 'ordinal'\n",
        "                      )\n",
        "kbd.fit_transform(x)"
      ],
      "metadata": {
        "colab": {
          "base_uri": "https://localhost:8080/"
        },
        "id": "IP2D-CXbpbzq",
        "outputId": "61be8600-b24d-440b-872e-95fb30244266"
      },
      "execution_count": 42,
      "outputs": [
        {
          "output_type": "execute_result",
          "data": {
            "text/plain": [
              "array([[0.],\n",
              "       [0.],\n",
              "       [1.],\n",
              "       [1.],\n",
              "       [2.],\n",
              "       [3.],\n",
              "       [3.],\n",
              "       [4.],\n",
              "       [4.]])"
            ]
          },
          "metadata": {},
          "execution_count": 42
        }
      ]
    },
    {
      "cell_type": "code",
      "source": [],
      "metadata": {
        "id": "hezDEqnSrqpH"
      },
      "execution_count": null,
      "outputs": []
    }
  ]
}