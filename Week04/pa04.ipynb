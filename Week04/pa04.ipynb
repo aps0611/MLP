{
  "nbformat": 4,
  "nbformat_minor": 0,
  "metadata": {
    "colab": {
      "provenance": []
    },
    "kernelspec": {
      "name": "python3",
      "display_name": "Python 3"
    },
    "language_info": {
      "name": "python"
    }
  },
  "cells": [
    {
      "cell_type": "markdown",
      "source": [],
      "metadata": {
        "id": "l5_AVCmxtRHy"
      }
    },
    {
      "cell_type": "code",
      "source": [
        "import numpy as np\n",
        "import pandas as pd\n",
        "import matplotlib.pyplot as plt\n",
        "import seaborn as sns\n",
        "\n",
        "from scipy.stats import loguniform\n",
        "from scipy.stats import uniform\n",
        "\n",
        "from sklearn.datasets import fetch_california_housing\n",
        "from sklearn.dummy import DummyRegressor\n",
        "from sklearn.linear_model import LinearRegression, Lasso, LassoCV, RidgeCV, Ridge, SGDRegressor\n",
        "from sklearn.metrics import mean_squared_error, mean_absolute_error, mean_absolute_percentage_error\n",
        "from sklearn.model_selection import cross_validate, cross_val_score, train_test_split, ShuffleSplit, validation_curve, GridSearchCV, RandomizedSearchCV\n",
        "from sklearn.preprocessing import PolynomialFeatures\n",
        "from sklearn.preprocessing import StandardScaler\n",
        "from sklearn.pipeline import Pipeline"
      ],
      "metadata": {
        "id": "fdUojNzUtRed"
      },
      "execution_count": 4,
      "outputs": []
    },
    {
      "cell_type": "code",
      "execution_count": 5,
      "metadata": {
        "colab": {
          "base_uri": "https://localhost:8080/"
        },
        "id": "Op7WMRkCmR2U",
        "outputId": "4f322ac2-08ee-4f13-db4a-b19ca90f5a52"
      },
      "outputs": [
        {
          "output_type": "execute_result",
          "data": {
            "text/plain": [
              "0.7777777777777778"
            ]
          },
          "metadata": {},
          "execution_count": 5
        }
      ],
      "source": [
        "## Write the function compute_explained_variance(y_true, y_pred) for calculating the explained variance score for a linear regression dataset\n",
        "\n",
        "# imports \n",
        "\n",
        "from sklearn.metrics import explained_variance_score\n",
        "\n",
        "def compute_explained_variance(y_true, y_pred):\n",
        "  return explained_variance_score(y_true, y_pred)\n",
        "\n",
        "y_true = [7, 4, 9, 4]\n",
        "y_pred = [8, 7, 12, 5]\n",
        "\n",
        "compute_explained_variance(y_true, y_pred)"
      ]
    },
    {
      "cell_type": "code",
      "source": [
        "## Write a function compute_score(X_train, y_train, X_test, y_test) to compute the score of SGDRegressor for predicting the house price of California Housing dataset\n",
        "\n",
        "features, labels = fetch_california_housing(as_frame= True, return_X_y = True)"
      ],
      "metadata": {
        "id": "NjqD-Ks3nArn"
      },
      "execution_count": 6,
      "outputs": []
    },
    {
      "cell_type": "code",
      "source": [
        "# Train-Test Split \n",
        "X_train, X_test, y_train, y_test = train_test_split(features, labels, random_state = 1, test_size=0.30, train_size=0.70)\n",
        "\n",
        "# Import StandardScaler for scaling X_train and X_test to X_train_norm and X_test_norm \n",
        "scaler = StandardScaler(with_mean=True, with_std=True)\n",
        "\n",
        "X_train_norm = scaler.fit_transform(X_train)\n",
        "X_test_norm = scaler.fit_transform(X_test)\n",
        "\n",
        "# Import SGDRegressor as 'model' \n",
        "\n",
        "model = SGDRegressor(loss= 'squared_error',\n",
        "                     penalty = 'l1',\n",
        "                     alpha = 0.01,\n",
        "                     random_state = 1)\n",
        "\n",
        "sgd = model.fit(X_train_norm, y_train)\n",
        "\n",
        "score_train = sgd.score(X_train_norm, y_train)"
      ],
      "metadata": {
        "id": "SCbiv1rgtdYY"
      },
      "execution_count": 15,
      "outputs": []
    },
    {
      "cell_type": "code",
      "source": [
        "score_train"
      ],
      "metadata": {
        "colab": {
          "base_uri": "https://localhost:8080/"
        },
        "id": "bicTEA97vY9C",
        "outputId": "402c2017-d67d-4a14-e7e9-491c60844b33"
      },
      "execution_count": 16,
      "outputs": [
        {
          "output_type": "execute_result",
          "data": {
            "text/plain": [
              "0.602142391856747"
            ]
          },
          "metadata": {},
          "execution_count": 16
        }
      ]
    },
    {
      "cell_type": "code",
      "source": [
        "# compute the score on test data;\n",
        "\n",
        "score_test = sgd.score(X_test_norm, y_test)\n",
        "score_test"
      ],
      "metadata": {
        "colab": {
          "base_uri": "https://localhost:8080/"
        },
        "id": "2hA_rV-ZwLma",
        "outputId": "7a170720-6107-4e0c-c176-3dcd32eaa70a"
      },
      "execution_count": 17,
      "outputs": [
        {
          "output_type": "execute_result",
          "data": {
            "text/plain": [
              "0.5918458281815325"
            ]
          },
          "metadata": {},
          "execution_count": 17
        }
      ]
    },
    {
      "cell_type": "code",
      "source": [],
      "metadata": {
        "id": "Q2ENgLBwxv8U"
      },
      "execution_count": null,
      "outputs": []
    }
  ]
}