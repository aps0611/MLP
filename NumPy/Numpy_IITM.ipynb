{
  "nbformat": 4,
  "nbformat_minor": 0,
  "metadata": {
    "colab": {
      "provenance": []
    },
    "kernelspec": {
      "name": "python3",
      "display_name": "Python 3"
    },
    "language_info": {
      "name": "python"
    }
  },
  "cells": [
    {
      "cell_type": "markdown",
      "source": [
        "**Author:** Arun Prakash A <br>\n",
        "**Affilation**: BS, IIT Madras\n"
      ],
      "metadata": {
        "id": "G9tez3pF-eaU"
      }
    },
    {
      "cell_type": "markdown",
      "source": [
        "# Why NumPy\n",
        "* The fundamental Mathematical objects that we deal with Machine learning/ Deep Learning are\n",
        "\n",
        " * Scalars (constants like learning rate $\\eta$)\n",
        " * Vectors ( A training sample of size $ 1 \\times n$)\n",
        " * Matrix ( Parameters, Batch of samples,..)\n",
        "\n",
        "* For example,\n",
        "\n",
        "  * $\\mathbf{X} \\in \\mathbb{R}^{m \\times n}$, a dataset with $m$ samples and $n$ features\n",
        "  * $\\mathbf{y}$, the corresponding label\n",
        "  * $\\mathbf{\\hat{y}=wx+b}$, mathematical operation\n",
        "\n",
        "* Typically, we intend to carry out some operations such as\n",
        "\n",
        "   * load\\Create (say, data\\parameter matrix)\n",
        "   * Access elements (element could be a scalar, vector..)\n",
        "   * Manipulate elements (apply functions, delete,..)\n",
        "   * Mathematical operations (add, invert, transform, ..)\n",
        "\n",
        "* **NumPy** does all these (and more) efficiently!. The name itself implies that its a library dedicated for comprehensive numrical analysis using Linear algebra, random process, signal processing..\n",
        "\n",
        "* Many domain specific packages such as scipy, scikit-learn, OpenCV are built on top of NumPy.\n",
        "\n",
        "* NumPy is fast because it is written in C. \n",
        "\n",
        "* It is also well documented\n",
        "\n",
        "* Please solve the 100 exercises listed at : https://github.com/rougier/numpy-100/blob/master/100_Numpy_exercises.md"
      ],
      "metadata": {
        "id": "DXJskPgDnux8"
      }
    },
    {
      "cell_type": "code",
      "execution_count": null,
      "metadata": {
        "id": "APUtnZFeng2i"
      },
      "outputs": [],
      "source": [
        "import numpy as np"
      ]
    },
    {
      "cell_type": "markdown",
      "source": [
        "<h3> Creation of n-dim arrays </h3>\n",
        "\n",
        "   * Let's create a simple array like $x=[1,2,3]$ and look at some of the attributes of the array"
      ],
      "metadata": {
        "id": "jPDDQdz22eWw"
      }
    },
    {
      "cell_type": "code",
      "source": [
        "x = np.array(1)\n",
        "print(x,'\\t',x.ndim,'\\t',x.size,'\\t',x.shape)"
      ],
      "metadata": {
        "colab": {
          "base_uri": "https://localhost:8080/"
        },
        "id": "vXs-dRYp2bL8",
        "outputId": "b18d96ff-965e-4a79-9816-0d686579cf80"
      },
      "execution_count": null,
      "outputs": [
        {
          "output_type": "stream",
          "name": "stdout",
          "text": [
            "1 \t 0 \t 1 \t ()\n"
          ]
        }
      ]
    },
    {
      "cell_type": "markdown",
      "source": [
        " * dimension (ndim): 0 means a scalar, 1 means a sequence, 2 means a matrix, more than 2 means a tensor (or n-dim array)\n",
        "\n",
        " * size : Number of elements in the array\n",
        " * shape: Number of elements in each dimension"
      ],
      "metadata": {
        "id": "6qrr5mywFTn7"
      }
    },
    {
      "cell_type": "code",
      "source": [
        "# a sequence\n",
        "x = np.array([1,2,3])\n",
        "print(x,'\\t',x.ndim,'\\t',x.size,'\\t',x.shape)"
      ],
      "metadata": {
        "colab": {
          "base_uri": "https://localhost:8080/"
        },
        "id": "iTqTKl0BFM7r",
        "outputId": "ba6cf62b-05dc-40ef-f655-6380d830919e"
      },
      "execution_count": null,
      "outputs": [
        {
          "output_type": "stream",
          "name": "stdout",
          "text": [
            "[1 2 3] \t 1 \t 3 \t (3,)\n"
          ]
        }
      ]
    },
    {
      "cell_type": "markdown",
      "source": [
        "* Now, let us add one more outer square bracket to the list (argument passed to the np.array)"
      ],
      "metadata": {
        "id": "vBw1wnNzGG3p"
      }
    },
    {
      "cell_type": "code",
      "source": [
        "# a (row) vector\n",
        "x = np.array([[1,2,3]])\n",
        "print(x,'\\t',x.ndim,'\\t',x.size,'\\t',x.shape)"
      ],
      "metadata": {
        "colab": {
          "base_uri": "https://localhost:8080/"
        },
        "id": "HNyIhdR9FPa0",
        "outputId": "cc2e838a-9aa5-418a-fa6d-406eb3a6c1e1"
      },
      "execution_count": null,
      "outputs": [
        {
          "output_type": "stream",
          "name": "stdout",
          "text": [
            "[[1 2 3]] \t 2 \t 3 \t (1, 3)\n"
          ]
        }
      ]
    },
    {
      "cell_type": "markdown",
      "source": [
        " * It is a row vector. How do we **create** a column vector? "
      ],
      "metadata": {
        "id": "zMftK88-GxVP"
      }
    },
    {
      "cell_type": "code",
      "source": [
        "x = np.array([[1],[2],[3]])\n",
        "print(x,'\\t',x.ndim,'\\t',x.size,'\\t',x.shape)"
      ],
      "metadata": {
        "colab": {
          "base_uri": "https://localhost:8080/"
        },
        "id": "28-Zxc62Gwz_",
        "outputId": "67873cc3-0e23-4f97-aa00-e2a93eb0d69a"
      },
      "execution_count": null,
      "outputs": [
        {
          "output_type": "stream",
          "name": "stdout",
          "text": [
            "[[1]\n",
            " [2]\n",
            " [3]] \t 2 \t 3 \t (3, 1)\n"
          ]
        }
      ]
    },
    {
      "cell_type": "markdown",
      "source": [
        "* Now, we can simply extend this to a matrix of size $3 \\times 3$.\n",
        "* Observe that we already have 3 elements in **axis=0**. Those are [1],[2],[3]. \n",
        "\n",
        "* Each element is of size 1. So extending this by adding more more elements creates a matrix."
      ],
      "metadata": {
        "id": "MHDolafFILS0"
      }
    },
    {
      "cell_type": "code",
      "source": [
        "x = np.array([[1,0,1],[2,0,2],[3,0,3]])\n",
        "print(x,'\\t',x.ndim,'\\t',x.size,'\\t',x.shape)"
      ],
      "metadata": {
        "colab": {
          "base_uri": "https://localhost:8080/"
        },
        "id": "9kMJKcRlJ3Oz",
        "outputId": "9b9fa2dd-fadd-4e98-ddf2-324659aa27aa"
      },
      "execution_count": null,
      "outputs": [
        {
          "output_type": "stream",
          "name": "stdout",
          "text": [
            "[[1 0 1]\n",
            " [2 0 2]\n",
            " [3 0 3]] \t 2 \t 9 \t (3, 3)\n"
          ]
        }
      ]
    },
    {
      "cell_type": "markdown",
      "source": [
        " * Therefore, elements in **axis=0** can be thought of as rows and **axis=1** can be thought of as columns for convenience.\n",
        "\n",
        " * Like this we can create $n-dim$ array of shape $(m,n,k,o..)$. I am skipping this and leave it to you as an exercise.\n",
        "\n",
        " * **Important:** The elements in the array should be of same type. "
      ],
      "metadata": {
        "id": "APN9PV_8LPzP"
      }
    },
    {
      "cell_type": "markdown",
      "source": [
        "<h3> Common arrays <h3>\n",
        "\n",
        "  * Often we need to create arrays of all zeros, ones, random values and so on.\n",
        "  * Numpy has functionalities to create such arrays. The most commonly used are\n",
        "    \n",
        "     * np.arange()\n",
        "     * np.linspace()\n",
        "     * np.meshgrid()\n",
        "     * np.zeros(), \n",
        "     * np.ones(), \n",
        "     * np.random.randn(), \n",
        "     * np.empty(), \n",
        "     * np.full(),\n",
        "     * np.diag()\n",
        "\n",
        "You can refer to the exhaustive list here: https://numpy.org/doc/stable/reference/routines.array-creation.html"
      ],
      "metadata": {
        "id": "FTUzJ3ftgXa3"
      }
    },
    {
      "cell_type": "code",
      "source": [
        "print(np.zeros((3,3)))"
      ],
      "metadata": {
        "colab": {
          "base_uri": "https://localhost:8080/"
        },
        "id": "UH0SQZ5mgpf5",
        "outputId": "11b5e99f-1f10-44ba-c320-38ab053cae75"
      },
      "execution_count": null,
      "outputs": [
        {
          "output_type": "stream",
          "name": "stdout",
          "text": [
            "[[0. 0. 0.]\n",
            " [0. 0. 0.]\n",
            " [0. 0. 0.]]\n"
          ]
        }
      ]
    },
    {
      "cell_type": "code",
      "source": [
        "print(np.zeros_like(x))"
      ],
      "metadata": {
        "colab": {
          "base_uri": "https://localhost:8080/"
        },
        "id": "damO7IxViXx0",
        "outputId": "937ffcef-e6a0-4862-f2ac-24980fe957e1"
      },
      "execution_count": null,
      "outputs": [
        {
          "output_type": "stream",
          "name": "stdout",
          "text": [
            "[[0 0 0]\n",
            " [0 0 0]\n",
            " [0 0 0]]\n"
          ]
        }
      ]
    },
    {
      "cell_type": "code",
      "source": [
        "np.full((3,3),fill_value=5)"
      ],
      "metadata": {
        "colab": {
          "base_uri": "https://localhost:8080/"
        },
        "id": "b21JkdWPi5hC",
        "outputId": "c0498374-5de8-4c23-e0a6-3cc096fe6405"
      },
      "execution_count": null,
      "outputs": [
        {
          "output_type": "execute_result",
          "data": {
            "text/plain": [
              "array([[5, 5, 5],\n",
              "       [5, 5, 5],\n",
              "       [5, 5, 5]])"
            ]
          },
          "metadata": {},
          "execution_count": 38
        }
      ]
    },
    {
      "cell_type": "markdown",
      "source": [
        "* Generating random arrays is a common thing in ML. <br>\n",
        "* Example: Initializing parameters\n",
        "* So want the experiment to be reproducible\n",
        "* There are two ways: np.random.seed() np.random.RandomState()"
      ],
      "metadata": {
        "id": "j7uHGV3ER0Hb"
      }
    },
    {
      "cell_type": "code",
      "source": [
        "np.random.seed(42)\n",
        "print(np.random.randint(0,10,size=(3,3)))"
      ],
      "metadata": {
        "colab": {
          "base_uri": "https://localhost:8080/"
        },
        "id": "M7Twzm_yRzQ4",
        "outputId": "5e46c70d-fcd4-4487-95db-4ce272589001"
      },
      "execution_count": null,
      "outputs": [
        {
          "output_type": "stream",
          "name": "stdout",
          "text": [
            "[[6 3 7]\n",
            " [4 6 9]\n",
            " [2 6 7]]\n",
            "[[4 3 7]\n",
            " [7 2 5]\n",
            " [4 1 7]]\n"
          ]
        }
      ]
    },
    {
      "cell_type": "code",
      "source": [
        "rand_state = 42\n",
        "rand_gen = np.random.RandomState(rand_state)\n",
        "print(rand_gen.randint(0,10,size=(3,3)))"
      ],
      "metadata": {
        "colab": {
          "base_uri": "https://localhost:8080/"
        },
        "id": "DtmkQvRrSfU1",
        "outputId": "4206d3ed-e262-4dfe-ab97-e6b77fcf5a37"
      },
      "execution_count": null,
      "outputs": [
        {
          "output_type": "stream",
          "name": "stdout",
          "text": [
            "[[6 3 7]\n",
            " [4 6 9]\n",
            " [2 6 7]]\n"
          ]
        }
      ]
    },
    {
      "cell_type": "markdown",
      "source": [
        "<h3> Accessing elements <h3>\n",
        "\n",
        "  * Now, we look at various way of accessing elements in an array.\n",
        "  * We can get an individual element or a **slice**\n",
        "  * If we have **n-dim** array , then may we need to use **n-indices** to get a single element.\n",
        "   * For example, x[i,j] denotes the **ith** elements in axis:0 and **jth** element in axis:1\n",
        "  * The index starts from zero.\n",
        "\n",
        "  * **Important:** When a new array is returned, it is often a **view** of an original array. Some operations make a **copy **from the origianl array. "
      ],
      "metadata": {
        "id": "pzqkQElxNjNG"
      }
    },
    {
      "cell_type": "code",
      "source": [
        "# Access the first element of axis:0\n",
        "print(x[0])\n",
        "print(x[0,:])"
      ],
      "metadata": {
        "colab": {
          "base_uri": "https://localhost:8080/"
        },
        "id": "2Q8R9AD3J7Bf",
        "outputId": "9a010d7d-95f2-4b9e-ada0-5190f09364a4"
      },
      "execution_count": null,
      "outputs": [
        {
          "output_type": "stream",
          "name": "stdout",
          "text": [
            "[1 0 1]\n",
            "[1 0 1]\n"
          ]
        }
      ]
    },
    {
      "cell_type": "markdown",
      "source": [
        "* Each element is axis:0 is a row\n",
        "* However, as you can see, we lost one dimension. Of course, we can reshape it. \n",
        "* However is it possible to preserve it while accessing?"
      ],
      "metadata": {
        "id": "qyHpg-H2Ti2b"
      }
    },
    {
      "cell_type": "code",
      "source": [
        "print(x[0].shape)"
      ],
      "metadata": {
        "colab": {
          "base_uri": "https://localhost:8080/"
        },
        "id": "MpzaYS6DT9KY",
        "outputId": "b0b95b30-6cae-4b6b-9c19-31cad27f11c6"
      },
      "execution_count": null,
      "outputs": [
        {
          "output_type": "stream",
          "name": "stdout",
          "text": [
            "(3,)\n"
          ]
        }
      ]
    },
    {
      "cell_type": "code",
      "source": [
        "print(x[[0]]) \n",
        "#or\n",
        "print(np.take(x,indices=[0],axis=0))\n",
        "# still more ways are there"
      ],
      "metadata": {
        "colab": {
          "base_uri": "https://localhost:8080/"
        },
        "id": "mR6mmHy1UHUl",
        "outputId": "be4ba339-2bce-44c4-b68a-843ecee94161"
      },
      "execution_count": null,
      "outputs": [
        {
          "output_type": "stream",
          "name": "stdout",
          "text": [
            "[[1 0 1]]\n",
            "[[1 0 1]]\n"
          ]
        }
      ]
    },
    {
      "cell_type": "code",
      "source": [
        "# Access the first element of both axis:0 and 1\n",
        "print(x[0,0])"
      ],
      "metadata": {
        "colab": {
          "base_uri": "https://localhost:8080/"
        },
        "id": "U5ZFcUZXOF-R",
        "outputId": "a2c70793-ebd8-4016-945c-0690d7d22dc4"
      },
      "execution_count": null,
      "outputs": [
        {
          "output_type": "stream",
          "name": "stdout",
          "text": [
            "1\n"
          ]
        }
      ]
    },
    {
      "cell_type": "code",
      "source": [
        "# other way of doing the same\n",
        "axis_zero = x[0]\n",
        "print(axis_zero[0])"
      ],
      "metadata": {
        "colab": {
          "base_uri": "https://localhost:8080/"
        },
        "id": "Xuq8UeApO2Yj",
        "outputId": "9d43c5c5-fdb3-4b71-e588-4ca0447304bf"
      },
      "execution_count": null,
      "outputs": [
        {
          "output_type": "stream",
          "name": "stdout",
          "text": [
            "1\n"
          ]
        }
      ]
    },
    {
      "cell_type": "code",
      "source": [
        "# slicing\n",
        "print(x[0:2,0:2])"
      ],
      "metadata": {
        "colab": {
          "base_uri": "https://localhost:8080/"
        },
        "id": "YPCVcOiwPCfD",
        "outputId": "6f59c940-14e8-4995-a1fb-144296db8320"
      },
      "execution_count": null,
      "outputs": [
        {
          "output_type": "stream",
          "name": "stdout",
          "text": [
            "[[1 0]\n",
            " [2 0]]\n"
          ]
        }
      ]
    },
    {
      "cell_type": "code",
      "source": [
        "#boolean indexing\n",
        "idx = x > 2\n",
        "print(idx)"
      ],
      "metadata": {
        "colab": {
          "base_uri": "https://localhost:8080/"
        },
        "id": "fOKzk_wsdoxN",
        "outputId": "e16f3b36-5f42-4e0a-e117-f83726d3d3b9"
      },
      "execution_count": null,
      "outputs": [
        {
          "output_type": "stream",
          "name": "stdout",
          "text": [
            "[[False False False]\n",
            " [False False False]\n",
            " [ True False  True]]\n"
          ]
        }
      ]
    },
    {
      "cell_type": "markdown",
      "source": [
        "* Now pass this boolean array to $x$"
      ],
      "metadata": {
        "id": "zXxxtfehd8hL"
      }
    },
    {
      "cell_type": "code",
      "source": [
        "print(x[idx])"
      ],
      "metadata": {
        "colab": {
          "base_uri": "https://localhost:8080/"
        },
        "id": "R3Vbi5oOd6Bx",
        "outputId": "d1a364f4-53a1-450d-a0da-113446acabcd"
      },
      "execution_count": null,
      "outputs": [
        {
          "output_type": "stream",
          "name": "stdout",
          "text": [
            "[3 3]\n"
          ]
        }
      ]
    },
    {
      "cell_type": "code",
      "source": [
        "y = np.random.randint(0,4,size=(10,1))\n",
        "print(y)"
      ],
      "metadata": {
        "colab": {
          "base_uri": "https://localhost:8080/"
        },
        "id": "HlqDD-n8jfV9",
        "outputId": "d579249b-9206-41f0-b2c9-b0da104390f7"
      },
      "execution_count": null,
      "outputs": [
        {
          "output_type": "stream",
          "name": "stdout",
          "text": [
            "[[3]\n",
            " [1]\n",
            " [1]\n",
            " [1]\n",
            " [3]\n",
            " [3]\n",
            " [0]\n",
            " [0]\n",
            " [3]\n",
            " [1]]\n"
          ]
        }
      ]
    },
    {
      "cell_type": "code",
      "source": [
        "print(y[(y==0) | (y==1)])"
      ],
      "metadata": {
        "colab": {
          "base_uri": "https://localhost:8080/"
        },
        "id": "hoDqy0A4jpY7",
        "outputId": "fa448e11-3c46-4b19-b33f-87ff6b06c421"
      },
      "execution_count": null,
      "outputs": [
        {
          "output_type": "stream",
          "name": "stdout",
          "text": [
            "[1 1 1 0 0 1]\n"
          ]
        }
      ]
    },
    {
      "cell_type": "markdown",
      "source": [
        "<h3> Array Manipulation </h3>\n",
        "\n",
        "  * Manipulating arrays means changing their shape, swaping the axis, concatenating, splitting, and many  such operations\n",
        "  * For comprehensive list: https://numpy.org/doc/stable/reference/routines.array-manipulation.html\n",
        "  "
      ],
      "metadata": {
        "id": "W4y9LWDMMYdH"
      }
    },
    {
      "cell_type": "code",
      "source": [
        "x = np.array([[1,0,1],[2,0,2],[3,0,3]])\n",
        "x_other = np.ones((3,3))\n",
        "print(x)\n",
        "print(x_other)\n"
      ],
      "metadata": {
        "colab": {
          "base_uri": "https://localhost:8080/"
        },
        "id": "qqzqwVmbUgA2",
        "outputId": "6ff7746f-3a55-4568-eddf-50e2d2be6877"
      },
      "execution_count": null,
      "outputs": [
        {
          "output_type": "stream",
          "name": "stdout",
          "text": [
            "[[1 0 1]\n",
            " [2 0 2]\n",
            " [3 0 3]]\n",
            "[[1. 1. 1.]\n",
            " [1. 1. 1.]\n",
            " [1. 1. 1.]]\n"
          ]
        }
      ]
    },
    {
      "cell_type": "code",
      "source": [
        "print(x.reshape(1,9)) # row major \n",
        "print(x.flatten()) # note the flattend array returns a sequence\n",
        "print(np.vstack((x,x_other)))"
      ],
      "metadata": {
        "colab": {
          "base_uri": "https://localhost:8080/"
        },
        "id": "9ZmnYqklU1Wj",
        "outputId": "21556a49-abce-42b0-b568-9342aba64394"
      },
      "execution_count": null,
      "outputs": [
        {
          "output_type": "stream",
          "name": "stdout",
          "text": [
            "[[1 0 1 2 0 2 3 0 3]]\n",
            "[1 0 1 2 0 2 3 0 3]\n",
            "[[1. 0. 1.]\n",
            " [2. 0. 2.]\n",
            " [3. 0. 3.]\n",
            " [1. 1. 1.]\n",
            " [1. 1. 1.]\n",
            " [1. 1. 1.]]\n"
          ]
        }
      ]
    },
    {
      "cell_type": "code",
      "source": [
        "x_cat = np.concatenate((x,x_other),axis=0)\n",
        "print(x_cat)"
      ],
      "metadata": {
        "colab": {
          "base_uri": "https://localhost:8080/"
        },
        "id": "9IQY18tAX4H_",
        "outputId": "5cdb3ad3-0a1e-467e-c63d-4552ab9a3a5c"
      },
      "execution_count": null,
      "outputs": [
        {
          "output_type": "stream",
          "name": "stdout",
          "text": [
            "[[1. 0. 1.]\n",
            " [2. 0. 2.]\n",
            " [3. 0. 3.]\n",
            " [1. 1. 1.]\n",
            " [1. 1. 1.]\n",
            " [1. 1. 1.]]\n"
          ]
        }
      ]
    },
    {
      "cell_type": "code",
      "source": [
        "print(np.split(x_cat,2,axis=0))"
      ],
      "metadata": {
        "colab": {
          "base_uri": "https://localhost:8080/"
        },
        "id": "9IlVJltnaJec",
        "outputId": "955eab54-f0a7-4787-b04d-69860969a6c2"
      },
      "execution_count": null,
      "outputs": [
        {
          "output_type": "stream",
          "name": "stdout",
          "text": [
            "[array([[1., 0., 1.],\n",
            "       [2., 0., 2.],\n",
            "       [3., 0., 3.]]), array([[1., 1., 1.],\n",
            "       [1., 1., 1.],\n",
            "       [1., 1., 1.]])]\n"
          ]
        }
      ]
    },
    {
      "cell_type": "markdown",
      "source": [
        "<h3> Operations on Array </h3>\n",
        "\n",
        "  * All agebriac operations: add, subtract.\n",
        "  * Boolean operations: AND,OR,XOR,..\n",
        "  * Mathematical functions: sin,cos,exp,..\n",
        "  * Reduction functions: max,min,mean\n",
        "\n",
        "  * Once again, some of these operations can be carried along a specific axis if required \n",
        "  "
      ],
      "metadata": {
        "id": "rs6T56O7gHeO"
      }
    },
    {
      "cell_type": "code",
      "source": [
        "np.random.seed(42)\n",
        "W = np.random.randint(0,3,size=(2,3))\n",
        "x = np.ones((3,1))\n",
        "print(W)"
      ],
      "metadata": {
        "colab": {
          "base_uri": "https://localhost:8080/"
        },
        "id": "PFw3LkFMeX9d",
        "outputId": "7508201c-e6cf-4ac0-e179-2837192dc48f"
      },
      "execution_count": null,
      "outputs": [
        {
          "output_type": "stream",
          "name": "stdout",
          "text": [
            "[[2 0 2]\n",
            " [2 0 0]]\n"
          ]
        }
      ]
    },
    {
      "cell_type": "markdown",
      "source": [
        "* Let's try adding $w$ and $x$\n",
        "* observe that the shape of $w$ and $x$ are different along one dimention (dim:1).\n",
        "* NumPy does **Broadcasting** (replicating elements along a singleton dimention) automatically."
      ],
      "metadata": {
        "id": "2zZTxS9k24C4"
      }
    },
    {
      "cell_type": "code",
      "source": [
        "print(W.T+x) # transposing W to match along dim:0 "
      ],
      "metadata": {
        "colab": {
          "base_uri": "https://localhost:8080/"
        },
        "id": "fo3XoEtz3N5N",
        "outputId": "83e5ba76-d5c6-4bed-89c4-eccd6209afbb"
      },
      "execution_count": null,
      "outputs": [
        {
          "output_type": "stream",
          "name": "stdout",
          "text": [
            "[[3. 3.]\n",
            " [1. 1.]\n",
            " [3. 1.]]\n"
          ]
        }
      ]
    },
    {
      "cell_type": "markdown",
      "source": [
        "* Matrix operation"
      ],
      "metadata": {
        "id": "bmLtnqDhFKUT"
      }
    },
    {
      "cell_type": "code",
      "source": [
        "y = np.matmul(W,x)\n",
        "print(y)"
      ],
      "metadata": {
        "colab": {
          "base_uri": "https://localhost:8080/"
        },
        "id": "B8aue4h9ja6j",
        "outputId": "a77c56d2-0b4a-4e5b-e130-663edddc0095"
      },
      "execution_count": null,
      "outputs": [
        {
          "output_type": "stream",
          "name": "stdout",
          "text": [
            "[[4.]\n",
            " [2.]]\n"
          ]
        }
      ]
    },
    {
      "cell_type": "code",
      "source": [
        "y = W@x \n",
        "print(y)"
      ],
      "metadata": {
        "colab": {
          "base_uri": "https://localhost:8080/"
        },
        "id": "uzx9O33dFNBf",
        "outputId": "acb18b9a-cd2e-4506-8251-d4e315c7b534"
      },
      "execution_count": null,
      "outputs": [
        {
          "output_type": "stream",
          "name": "stdout",
          "text": [
            "[[4.]\n",
            " [2.]]\n"
          ]
        }
      ]
    },
    {
      "cell_type": "code",
      "source": [
        "# y = np.matmul(x,W) # throws an error "
      ],
      "metadata": {
        "id": "CTMjg0pUjjv6"
      },
      "execution_count": null,
      "outputs": []
    },
    {
      "cell_type": "code",
      "source": [
        "# matrix inverse\n",
        "print(np.linalg.pinv(W)) # pseudo inverse"
      ],
      "metadata": {
        "colab": {
          "base_uri": "https://localhost:8080/"
        },
        "id": "xPQPebGrjx2i",
        "outputId": "5d54d8b5-096d-4651-c01c-ae552d349cda"
      },
      "execution_count": null,
      "outputs": [
        {
          "output_type": "stream",
          "name": "stdout",
          "text": [
            "[[ 4.35380958e-17  5.00000000e-01]\n",
            " [ 0.00000000e+00  0.00000000e+00]\n",
            " [ 5.00000000e-01 -5.00000000e-01]]\n"
          ]
        }
      ]
    },
    {
      "cell_type": "code",
      "source": [
        "print(np.sin(x))"
      ],
      "metadata": {
        "colab": {
          "base_uri": "https://localhost:8080/"
        },
        "id": "EsroJ4I5Jpzh",
        "outputId": "c9696382-c92d-4e52-d071-a4373e8efcaf"
      },
      "execution_count": null,
      "outputs": [
        {
          "output_type": "stream",
          "name": "stdout",
          "text": [
            "[[0.84147098]\n",
            " [0.84147098]\n",
            " [0.84147098]]\n"
          ]
        }
      ]
    },
    {
      "cell_type": "code",
      "source": [
        "print(np.min(W,axis=0)) "
      ],
      "metadata": {
        "colab": {
          "base_uri": "https://localhost:8080/"
        },
        "id": "MBUPE4ZM98d_",
        "outputId": "95877732-e07d-418f-ed6f-c275454dafb5"
      },
      "execution_count": null,
      "outputs": [
        {
          "output_type": "stream",
          "name": "stdout",
          "text": [
            "[2 0 0]\n"
          ]
        }
      ]
    },
    {
      "cell_type": "code",
      "source": [
        "print(np.argmax(W,axis=1))"
      ],
      "metadata": {
        "colab": {
          "base_uri": "https://localhost:8080/"
        },
        "id": "3-rtw_C3-JNH",
        "outputId": "7f22fffc-844b-4141-9223-932e3b4960fc"
      },
      "execution_count": null,
      "outputs": [
        {
          "output_type": "stream",
          "name": "stdout",
          "text": [
            "[0 0]\n"
          ]
        }
      ]
    },
    {
      "cell_type": "markdown",
      "source": [
        "* This is very minimal introduction to NumPy.\n",
        "* NumPy also supports constants: `np.inf`,`np.nan`,`np.pi`,`np.e`,`np.newaxis`\n",
        "* I highly encourage you to take a look at the documentation to get a comprehensive understanding about NumPy and its potential.\n",
        "* **Suggested topics:** Loading and storing, masked arrays (simply means you mask some of the elements, so that they will be excluded from any operations carried on the array), searching, sorting"
      ],
      "metadata": {
        "id": "BlzWNpZS--Dt"
      }
    }
  ]
}