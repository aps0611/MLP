{
  "nbformat": 4,
  "nbformat_minor": 0,
  "metadata": {
    "colab": {
      "provenance": []
    },
    "kernelspec": {
      "name": "python3",
      "display_name": "Python 3"
    },
    "language_info": {
      "name": "python"
    }
  },
  "cells": [
    {
      "cell_type": "markdown",
      "source": [
        "# Categorical Transformer"
      ],
      "metadata": {
        "id": "yM7RutlotsUW"
      }
    },
    {
      "cell_type": "markdown",
      "source": [
        "1. Feature Encoding\n",
        "2. Label Encoding"
      ],
      "metadata": {
        "id": "eIan59WEt1DA"
      }
    },
    {
      "cell_type": "markdown",
      "source": [
        "## OneHotEncoder"
      ],
      "metadata": {
        "id": "DQiT5k9St8Yy"
      }
    },
    {
      "cell_type": "markdown",
      "source": [
        "Encodes as onehot numeric array | creates one binary column for each K unique values"
      ],
      "metadata": {
        "id": "JOmlw8BZt_Cm"
      }
    },
    {
      "cell_type": "code",
      "execution_count": 9,
      "metadata": {
        "colab": {
          "base_uri": "https://localhost:8080/"
        },
        "id": "7k6KCRWhtogo",
        "outputId": "5017cf48-d864-4a0e-fdd4-7201711b841b"
      },
      "outputs": [
        {
          "output_type": "stream",
          "name": "stdout",
          "text": [
            "[[1]\n",
            " [2]\n",
            " [3]\n",
            " [1]\n",
            " [2]]\n"
          ]
        }
      ],
      "source": [
        "import numpy as np\n",
        "X = np.array([[1],[2],[3],[1],[2]])\n",
        "print(X)"
      ]
    },
    {
      "cell_type": "code",
      "source": [
        "# number of unique values here are k = 3\n",
        "# thus transformed matrix will have three columns\n",
        "\n",
        "from sklearn.preprocessing import OneHotEncoder\n",
        "ohe = OneHotEncoder(sparse = False)\n",
        "ohe.fit_transform(X)"
      ],
      "metadata": {
        "colab": {
          "base_uri": "https://localhost:8080/"
        },
        "id": "qi9FReN3uPCX",
        "outputId": "c0afdb89-9a01-4b9b-ae1f-0141a26af473"
      },
      "execution_count": 11,
      "outputs": [
        {
          "output_type": "execute_result",
          "data": {
            "text/plain": [
              "array([[1., 0., 0.],\n",
              "       [0., 1., 0.],\n",
              "       [0., 0., 1.],\n",
              "       [1., 0., 0.],\n",
              "       [0., 1., 0.]])"
            ]
          },
          "metadata": {},
          "execution_count": 11
        }
      ]
    },
    {
      "cell_type": "markdown",
      "source": [
        "## Label Encoder"
      ],
      "metadata": {
        "id": "tFPhteYmvqt4"
      }
    },
    {
      "cell_type": "markdown",
      "source": [
        "It encodes target variable with values 0 and k-1 where k is number of distinct values"
      ],
      "metadata": {
        "id": "DLCJlkJEvsfq"
      }
    },
    {
      "cell_type": "code",
      "source": [
        "import numpy as np\n",
        "mat = np.array([[1],[2],[6],[1],[8],[6]])\n",
        "print(mat)\n",
        "\n",
        "#here k is 4: 1 2 6 8"
      ],
      "metadata": {
        "colab": {
          "base_uri": "https://localhost:8080/"
        },
        "id": "OYfCzdDIubE-",
        "outputId": "72dc09bb-eb1a-4429-dbfb-77e68525dea0"
      },
      "execution_count": 14,
      "outputs": [
        {
          "output_type": "stream",
          "name": "stdout",
          "text": [
            "[[1]\n",
            " [2]\n",
            " [6]\n",
            " [1]\n",
            " [8]\n",
            " [6]]\n"
          ]
        }
      ]
    },
    {
      "cell_type": "code",
      "source": [
        "from sklearn.preprocessing import LabelEncoder\n",
        "le = LabelEncoder()\n",
        "le.fit_transform(mat)\n",
        "\n",
        "# here 1 is encodes 0 | 2 encodes to 1 |six encodes to 2 | 8 encodes to 3|"
      ],
      "metadata": {
        "colab": {
          "base_uri": "https://localhost:8080/"
        },
        "id": "wfT89EZru1Yv",
        "outputId": "8ff3c12d-ab08-45f3-c0b0-0173e513436f"
      },
      "execution_count": 17,
      "outputs": [
        {
          "output_type": "execute_result",
          "data": {
            "text/plain": [
              "array([0, 1, 2, 0, 3, 2])"
            ]
          },
          "metadata": {},
          "execution_count": 17
        }
      ]
    },
    {
      "cell_type": "markdown",
      "source": [
        "## Ordinal Encoder"
      ],
      "metadata": {
        "id": "DfgKC5C1wrRR"
      }
    },
    {
      "cell_type": "markdown",
      "source": [
        "Encodes cat features betwen values 0 and k-1"
      ],
      "metadata": {
        "id": "c0yuEOGMwwLU"
      }
    },
    {
      "cell_type": "code",
      "source": [
        "import numpy as np\n",
        "mat = np.array([[1,'male'],\n",
        "                [2,'female'],\n",
        "                [6,'female'],\n",
        "                [1,'male'],\n",
        "                [8,'male'],\n",
        "                [6,'female']])\n",
        "print(mat)"
      ],
      "metadata": {
        "colab": {
          "base_uri": "https://localhost:8080/"
        },
        "id": "q-UyvydTwP8B",
        "outputId": "71fb064a-6738-4c3d-c0d6-d5e99ff29880"
      },
      "execution_count": 18,
      "outputs": [
        {
          "output_type": "stream",
          "name": "stdout",
          "text": [
            "[['1' 'male']\n",
            " ['2' 'female']\n",
            " ['6' 'female']\n",
            " ['1' 'male']\n",
            " ['8' 'male']\n",
            " ['6' 'female']]\n"
          ]
        }
      ]
    },
    {
      "cell_type": "code",
      "source": [
        "from sklearn.preprocessing import OrdinalEncoder\n",
        "oe = OrdinalEncoder()\n",
        "oe.fit_transform(mat)"
      ],
      "metadata": {
        "colab": {
          "base_uri": "https://localhost:8080/"
        },
        "id": "5KKGlhdCxMDK",
        "outputId": "a2f6c3df-0045-4b0e-c1d6-28582fd07c69"
      },
      "execution_count": 20,
      "outputs": [
        {
          "output_type": "execute_result",
          "data": {
            "text/plain": [
              "array([[0., 1.],\n",
              "       [1., 0.],\n",
              "       [2., 0.],\n",
              "       [0., 1.],\n",
              "       [3., 1.],\n",
              "       [2., 0.]])"
            ]
          },
          "metadata": {},
          "execution_count": 20
        }
      ]
    },
    {
      "cell_type": "markdown",
      "source": [
        "Ordinal Encoder| Label encoder\n",
        "----|----\n",
        "Can operate on multidimensional data | only 1D data"
      ],
      "metadata": {
        "id": "oqmpAw9SxvbI"
      }
    },
    {
      "cell_type": "markdown",
      "source": [
        "## LabelBinarizer"
      ],
      "metadata": {
        "id": "F61v65uVx67u"
      }
    },
    {
      "cell_type": "markdown",
      "source": [
        "Several regression and Binary classification can be extended to multiclass setup in one vs all fashion\n",
        "\n",
        "This involves training a single regressor or classifier per class\n",
        "\n",
        "for this we need to convert multiclass labels to binary labels and LabelBinarizer performs this task"
      ],
      "metadata": {
        "id": "7nJFBOulx_sn"
      }
    },
    {
      "cell_type": "code",
      "source": [
        "import numpy as np\n",
        "mat = np.array([[1],[2],[6],[1],[8],[6]])\n",
        "print(mat)"
      ],
      "metadata": {
        "colab": {
          "base_uri": "https://localhost:8080/"
        },
        "id": "tqAPm2rCyJyU",
        "outputId": "de04b066-1d3a-4b42-fc13-f0c9fe506867"
      },
      "execution_count": 21,
      "outputs": [
        {
          "output_type": "stream",
          "name": "stdout",
          "text": [
            "[[1]\n",
            " [2]\n",
            " [6]\n",
            " [1]\n",
            " [8]\n",
            " [6]]\n"
          ]
        }
      ]
    },
    {
      "cell_type": "code",
      "source": [
        "from sklearn.preprocessing import LabelBinarizer\n",
        "lb = LabelBinarizer()\n",
        "lb.fit_transform(mat)\n",
        "\n",
        "# column corresponds to unique value\n",
        "# 1col >> 1 | 2 >>> 2 | 3 >> 6| 4>>8 "
      ],
      "metadata": {
        "colab": {
          "base_uri": "https://localhost:8080/"
        },
        "id": "pc1F3-7Hxgc6",
        "outputId": "1db36cf4-cc95-4c0d-bed4-0ab04b30a1bc"
      },
      "execution_count": 24,
      "outputs": [
        {
          "output_type": "execute_result",
          "data": {
            "text/plain": [
              "array([[1, 0, 0, 0],\n",
              "       [0, 1, 0, 0],\n",
              "       [0, 0, 1, 0],\n",
              "       [1, 0, 0, 0],\n",
              "       [0, 0, 0, 1],\n",
              "       [0, 0, 1, 0]])"
            ]
          },
          "metadata": {},
          "execution_count": 24
        }
      ]
    },
    {
      "cell_type": "code",
      "source": [
        "# if estimator supports multiclass setup then this is not needed"
      ],
      "metadata": {
        "id": "rduALXOkzEyr"
      },
      "execution_count": 25,
      "outputs": []
    },
    {
      "cell_type": "markdown",
      "source": [
        "## Multilabel Binarizer"
      ],
      "metadata": {
        "id": "viXhChdDztVq"
      }
    },
    {
      "cell_type": "code",
      "source": [
        "movie_genre = [{'action','comedy'},\n",
        "               {'comedy'},\n",
        "               {'action','thriller'},\n",
        "               {'science-fiction','action','thriller'}]\n",
        "mat = np.array(movie_genre)\n",
        "print(mat)"
      ],
      "metadata": {
        "id": "uy_a_hNAzsLJ",
        "outputId": "b5c9bf58-6dae-42b5-fa3c-0515119495b5",
        "colab": {
          "base_uri": "https://localhost:8080/"
        }
      },
      "execution_count": 28,
      "outputs": [
        {
          "output_type": "stream",
          "name": "stdout",
          "text": [
            "[{'action', 'comedy'} {'comedy'} {'action', 'thriller'}\n",
            " {'science-fiction', 'action', 'thriller'}]\n"
          ]
        }
      ]
    },
    {
      "cell_type": "code",
      "source": [
        "from sklearn.preprocessing import MultiLabelBinarizer\n",
        "mlb = MultiLabelBinarizer()\n",
        "mlb.fit_transform(mat)"
      ],
      "metadata": {
        "id": "FIbfUXXs0Gjy",
        "outputId": "6087fac3-1051-4acb-8bed-ccafc80ff4d8",
        "colab": {
          "base_uri": "https://localhost:8080/"
        }
      },
      "execution_count": 29,
      "outputs": [
        {
          "output_type": "execute_result",
          "data": {
            "text/plain": [
              "array([[1, 1, 0, 0],\n",
              "       [0, 1, 0, 0],\n",
              "       [1, 0, 0, 1],\n",
              "       [1, 0, 1, 1]])"
            ]
          },
          "metadata": {},
          "execution_count": 29
        }
      ]
    },
    {
      "cell_type": "markdown",
      "source": [
        "# Add Dummy Feature"
      ],
      "metadata": {
        "id": "drk1DDqq0dCj"
      }
    },
    {
      "cell_type": "code",
      "source": [
        "import numpy as np\n",
        "mat = np.array([[1],[2],[6],[1],[8],[6]])\n",
        "print(mat)\n",
        "\n",
        "#here k is 4: 1 2 6 8"
      ],
      "metadata": {
        "colab": {
          "base_uri": "https://localhost:8080/"
        },
        "outputId": "86b344af-e320-47cd-d91b-47844265156b",
        "id": "o_SWqIOs1JKm"
      },
      "execution_count": 40,
      "outputs": [
        {
          "output_type": "stream",
          "name": "stdout",
          "text": [
            "[[1]\n",
            " [2]\n",
            " [6]\n",
            " [1]\n",
            " [8]\n",
            " [6]]\n"
          ]
        }
      ]
    },
    {
      "cell_type": "code",
      "source": [
        "from sklearn.preprocessing import add_dummy_feature\n",
        "add_dummy_feature(mat)\n",
        "\n",
        "# adds a new column with all 1 (ones)"
      ],
      "metadata": {
        "id": "Y3DtPpkS0I-h",
        "outputId": "0ac5bca1-1b8e-4626-a663-59a3a86c4b32",
        "colab": {
          "base_uri": "https://localhost:8080/"
        }
      },
      "execution_count": 42,
      "outputs": [
        {
          "output_type": "execute_result",
          "data": {
            "text/plain": [
              "array([[1., 1.],\n",
              "       [1., 2.],\n",
              "       [1., 6.],\n",
              "       [1., 1.],\n",
              "       [1., 8.],\n",
              "       [1., 6.]])"
            ]
          },
          "metadata": {},
          "execution_count": 42
        }
      ]
    },
    {
      "cell_type": "code",
      "source": [],
      "metadata": {
        "id": "3dtbAH9x1I9w"
      },
      "execution_count": 36,
      "outputs": []
    },
    {
      "cell_type": "code",
      "source": [],
      "metadata": {
        "id": "XhD3VnmC0sEw"
      },
      "execution_count": null,
      "outputs": []
    }
  ]
}